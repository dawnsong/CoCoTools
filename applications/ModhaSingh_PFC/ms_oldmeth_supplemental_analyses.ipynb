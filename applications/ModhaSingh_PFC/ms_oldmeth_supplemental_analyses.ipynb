{
 "metadata": {
  "name": "ms_oldmeth_supplemental_analyses"
 },
 "nbformat": 3,
 "nbformat_minor": 0,
 "worksheets": [
  {
   "cells": [
    {
     "cell_type": "code",
     "collapsed": false,
     "input": [
      "import math\n",
      "import random\n",
      "import copy\n",
      "import os, sys\n",
      "import numpy as np\n",
      "from scipy import stats as spt\n",
      "import networkx as nx\n",
      "import pickle\n",
      "\n",
      "from brainx import util\n",
      "from brainx import modularity as md\n",
      "from pandas import Series, DataFrame\n",
      "import pandas as pd\n",
      "\n",
      "import matplotlib.pyplot as plt"
     ],
     "language": "python",
     "metadata": {},
     "outputs": [
      {
       "output_type": "stream",
       "stream": "stderr",
       "text": [
        "c:\\Python27\\lib\\site-packages\\brainx\\__init__.py:30: UserWarning: Monkeypatching NetworkX's Watts-Strogatz routine\n",
        "  warnings.warn(\"Monkeypatching NetworkX's Watts-Strogatz routine\")\n"
       ]
      }
     ],
     "prompt_number": 1
    },
    {
     "cell_type": "code",
     "collapsed": false,
     "input": [
      "filestub=('C:\\\\Users\\\\Robert\\\\cocomac\\\\cocomac-tools-rsblume\\\\applications\\\\ModhaSingh_PFC\\\\modha\\lowest_full_g.pck')\n",
      "whole_low=pickle.load(open(filestub, \"rb\"))\n",
      "filestub=('C:\\\\Users\\\\Robert\\\\cocomac\\\\cocomac-tools-rsblume\\\\applications\\\\ModhaSingh_PFC\\\\modha\\modha_singh_low_regionabels.csv')\n",
      "labels=pd.read_csv(filestub, index_col='label')\n",
      "filestub=('C:\\\\Users\\\\Robert\\\\cocomac\\\\cocomac-tools-rsblume\\\\applications\\\\ModhaSingh_PFC\\\\Modularity_Results\\\\SA_partitions_cocomac_prog.pck')\n",
      "partitions_low=pickle.load(open(filestub, \"rb\"))"
     ],
     "language": "python",
     "metadata": {},
     "outputs": [],
     "prompt_number": 2
    },
    {
     "cell_type": "code",
     "collapsed": false,
     "input": [
      "whole_undirected=whole_low.to_undirected(whole_low)"
     ],
     "language": "python",
     "metadata": {},
     "outputs": [],
     "prompt_number": 4
    },
    {
     "cell_type": "code",
     "collapsed": false,
     "input": [
      "#these are pfc labels from the old partition\n",
      "pfc_labels=['14r', '10o', '24c', '10m', 'Gu', '12l', '12m', '12o', '12r', '13M', 'M2-FL', 'M2-HL', '13L', '24b', '6Vb', '6Va', '13a', 'PrCO', '11m', '11l', '4c','24d', '46v', '46vr', '46d', '24a', '46f', 'PS', '47/12', 'M9', '44', '8Ad', '46dr', '9/46v', 'D9', 'F2', 'L9', 'SMAr', 'F4', 'F5', 'F6', 'F7', '8B', 'SMAc', 'ProM#2', '45A', '45B', '9/46d','10d', 'OFap', '32', '10v', '14O']\n",
      "mod_dlpfc_labels=['46f', '46vr', 'SMAc', 'L9', 'D9', '46v', 'SMAr', '8B', 'M9', '46d', '46dr', 'PS']\n",
      "mod_vlpfc_labels=['44', '9/46d', '8Ad', '45A', '47/12', '45B', '9/46v', 'ProM#2']\n",
      "mod_mpfc_labels=['24d','F7', '24a', 'F2', 'F5', 'F6', 'F4']\n",
      "dlpfc_nlabels=len(mod_dlpfc_labels)\n",
      "vlpfc_nlabels=len(mod_vlpfc_labels)\n",
      "mpfc_nlabels=len(mod_mpfc_labels)"
     ],
     "language": "python",
     "metadata": {},
     "outputs": [],
     "prompt_number": 3
    },
    {
     "cell_type": "code",
     "collapsed": false,
     "input": [
      "lateral_g=whole_low.subgraph(mod_dlpfc_labels + mod_vlpfc_labels)\n",
      "lateral_g_edgelist=nx.to_edgelist(lateral_g)\n",
      "#nx.write_edgelist(lateral_g,\"lateral_g.csv\")\n",
      "lateral_g.number_of_nodes()"
     ],
     "language": "python",
     "metadata": {},
     "outputs": [
      {
       "output_type": "pyout",
       "prompt_number": 119,
       "text": [
        "20"
       ]
      }
     ],
     "prompt_number": 119
    },
    {
     "cell_type": "code",
     "collapsed": false,
     "input": [
      "for dlpfc_node in mod_dlpfc_labels for xpreds in \n",
      "whole_low.successors(dlpfc_node)[dlpfc_pred]\n",
      "whole_low.successors(mod_dlpfc_labels[0])[0] in mod_vlpfc_labels"
     ],
     "language": "python",
     "metadata": {},
     "outputs": [
      {
       "output_type": "pyout",
       "prompt_number": 13,
       "text": [
        "False"
       ]
      }
     ],
     "prompt_number": 13
    },
    {
     "cell_type": "code",
     "collapsed": false,
     "input": [
      "dlpfc_to_vlpfc=0\n",
      "for dlpfc_node in mod_dlpfc_labels:\n",
      "    for xval in range(len(whole_low.successors(dlpfc_node))):\n",
      "        if whole_low.successors(dlpfc_node)[xval] in mod_vlpfc_labels:\n",
      "            dlpfc_to_vlpfc=dlpfc_to_vlpfc+1\n",
      "            \n",
      "            \n",
      "vlpfc_to_dlpfc=0\n",
      "for vlpfc_node in mod_vlpfc_labels:\n",
      "    for xval in range(len(whole_low.successors(vlpfc_node))):\n",
      "        if whole_low.successors(vlpfc_node)[xval] in mod_dlpfc_labels:\n",
      "         vlpfc_dlpfc=dlpfc_to_vlpfc+1        \n",
      "#whole_low.successors(mod_dlpfc_labels[0])"
     ],
     "language": "python",
     "metadata": {},
     "outputs": [],
     "prompt_number": 103
    },
    {
     "cell_type": "code",
     "collapsed": false,
     "input": [
      "vlpfc_to_dlpfc\n",
      "#mod_vlpfc_labels=['44', '9/46d', '8Ad', '45A', '47/12', '45B', '9/46v', 'ProM#2']\n",
      "\n",
      "#a=whole_low.successors(mod_dlpfc_labels[11])"
     ],
     "language": "python",
     "metadata": {},
     "outputs": [
      {
       "output_type": "pyout",
       "prompt_number": 105,
       "text": [
        "0"
       ]
      }
     ],
     "prompt_number": 105
    },
    {
     "cell_type": "code",
     "collapsed": false,
     "input": [
      "whole_low.successors(mod_dlpfc_labels[1]) in mod_vlpfc_labels"
     ],
     "language": "python",
     "metadata": {},
     "outputs": [
      {
       "output_type": "pyout",
       "prompt_number": 24,
       "text": [
        "False"
       ]
      }
     ],
     "prompt_number": 24
    },
    {
     "cell_type": "code",
     "collapsed": false,
     "input": [
      "frame_data={'label': whole_undirected.nodes(), 'degree' :  whole_undirected.degree().values(), 'order': np.arange(whole_undirected.number_of_nodes())}\n",
      "ms_frame=DataFrame(frame_data, columns=['degree', 'order'], index=frame_data['label'])\n",
      "\n",
      "relabel_dict={ms_frame.index[xval]: ms_frame['order'].values[xval] for xval in range(len(ms_frame.index))}\n",
      "#relabel_dict={ms_frame['order'].values[xval]: ms_frame.index[xval] for xval in range(len(ms_frame.index))}\n",
      "\n",
      "\n",
      "ms_frame['region']=labels['REGION']\n",
      "ms_frame['subregion']=labels['SUBREGION']"
     ],
     "language": "python",
     "metadata": {},
     "outputs": [],
     "prompt_number": 25
    },
    {
     "cell_type": "code",
     "collapsed": false,
     "input": [
      "#make numerical graph for modularity analyses\n",
      "G1=nx.relabel_nodes(whole_undirected, relabel_dict)"
     ],
     "language": "python",
     "metadata": {},
     "outputs": [],
     "prompt_number": 6
    },
    {
     "cell_type": "code",
     "collapsed": false,
     "input": [
      "#run modularity\n",
      "P1=md.newman_partition(G1)"
     ],
     "language": "python",
     "metadata": {},
     "outputs": [],
     "prompt_number": 7
    },
    {
     "cell_type": "code",
     "collapsed": false,
     "input": [
      "P1.modularity()"
     ],
     "language": "python",
     "metadata": {},
     "outputs": [
      {
       "output_type": "pyout",
       "prompt_number": 8,
       "text": [
        "0.43943121340745078"
       ]
      }
     ],
     "prompt_number": 8
    },
    {
     "cell_type": "code",
     "collapsed": false,
     "input": [
      "a=P1.index.viewitems"
     ],
     "language": "python",
     "metadata": {},
     "outputs": [],
     "prompt_number": 9
    },
    {
     "cell_type": "code",
     "collapsed": false,
     "input": [
      "#make graphs that represent PFC partitions: one node for partition\n",
      "# a few observations: can make counts for repeats as a measure of strength\n",
      "dlpfc_mod_g=nx.DiGraph()\n",
      "dlpfc_ebunch=[]\n",
      "ndlpfc_labels=len(mod_dlpfc_labels)\n",
      "\n",
      "vlpfc_mod_g=nx.DiGraph()\n",
      "vlpfc_ebunch=[]\n",
      "nvlpfc_labels=len(mod_vlpfc_labels)\n",
      "\n",
      "mpfc_mod_g=nx.DiGraph()\n",
      "mpfc_ebunch=[]\n",
      "\n",
      "dl_vl_mod_g=nx.DiGraph()\n",
      "dl_vl_mod_g.add_nodes_from(whole_low.nodes())\n",
      "\n",
      "[dlpfc_ebunch.append([(xpreds,'dlpfc_mod')]) for xnode in mod_dlpfc_labels for xpreds in whole_low.predecessors(xnode)]\n",
      "[dlpfc_ebunch.append([('dlpfc_mod', xsucces)]) for xnode in mod_dlpfc_labels for xsucces in whole_low.successors(xnode)]\n",
      "[vlpfc_ebunch.append([(xpreds,'vlpfc_mod')]) for xnode in mod_vlpfc_labels for xpreds in whole_low.predecessors(xnode)]\n",
      "[vlpfc_ebunch.append([('vlpfc_mod', xsucces)]) for xnode in mod_vlpfc_labels for xsucces in whole_low.successors(xnode)]\n",
      "[mpfc_ebunch.append([(xpreds,'mpfc_mod')]) for xnode in mod_mpfc_labels for xpreds in whole_low.predecessors(xnode)]\n",
      "[mpfc_ebunch.append([('mpfc_mod', xsucces)]) for xnode in mod_mpfc_labels for xsucces in whole_low.successors(xnode)]\n",
      "\n",
      "\n",
      "[dlpfc_mod_g.add_weighted_edges_from([(xbunch[0][0],xbunch[0][1],dlpfc_ebunch.count(xbunch))]) for xbunch in dlpfc_ebunch]\n",
      "[vlpfc_mod_g.add_weighted_edges_from([(xbunch[0][0],xbunch[0][1],vlpfc_ebunch.count(xbunch))]) for xbunch in vlpfc_ebunch]\n",
      "[mpfc_mod_g.add_weighted_edges_from([(xbunch[0][0],xbunch[0][1],mpfc_ebunch.count(xbunch))]) for xbunch in mpfc_ebunch]\n",
      "\n",
      "[dl_vl_mod_g.add_weighted_edges_from([(xbunch[0][0],xbunch[0][1],dlpfc_ebunch.count(xbunch))]) for xbunch in dlpfc_ebunch]\n",
      "[dl_vl_mod_g.add_weighted_edges_from([(xbunch[0][0],xbunch[0][1],vlpfc_ebunch.count(xbunch))]) for xbunch in vlpfc_ebunch]\n",
      "\n",
      "#dweight=(dlpfc_ebunch.count(xbunch)/dlpfc_nlabels)*100\n",
      "#vweight=(vlpfc_ebunch.count(xbunch)/vlpfc_nlabels)*100\n",
      "#mweight=(mpfc_ebunch.count(xbunch)/mpfc_nlabels)*100\n",
      "\n",
      "#[dl_vl_mod_g.add_weighted_edges_from([(xbunch[0][0],xbunch[0][1], dweight)]) for xbunch in dlpfc_ebunch]\n",
      "#[dl_vl_mod_g.add_weighted_edges_from([(xbunch[0][0],xbunch[0][1], vweight)]) for xbunch in vlpfc_ebunch]\n"
     ],
     "language": "python",
     "metadata": {},
     "outputs": [
      {
       "output_type": "pyout",
       "prompt_number": 26,
       "text": [
        "[None,\n",
        " None,\n",
        " None,\n",
        " None,\n",
        " None,\n",
        " None,\n",
        " None,\n",
        " None,\n",
        " None,\n",
        " None,\n",
        " None,\n",
        " None,\n",
        " None,\n",
        " None,\n",
        " None,\n",
        " None,\n",
        " None,\n",
        " None,\n",
        " None,\n",
        " None,\n",
        " None,\n",
        " None,\n",
        " None,\n",
        " None,\n",
        " None,\n",
        " None,\n",
        " None,\n",
        " None,\n",
        " None,\n",
        " None,\n",
        " None,\n",
        " None,\n",
        " None,\n",
        " None,\n",
        " None,\n",
        " None,\n",
        " None,\n",
        " None,\n",
        " None,\n",
        " None,\n",
        " None,\n",
        " None,\n",
        " None,\n",
        " None,\n",
        " None,\n",
        " None,\n",
        " None,\n",
        " None,\n",
        " None,\n",
        " None,\n",
        " None,\n",
        " None,\n",
        " None,\n",
        " None,\n",
        " None,\n",
        " None,\n",
        " None,\n",
        " None,\n",
        " None,\n",
        " None,\n",
        " None,\n",
        " None,\n",
        " None,\n",
        " None,\n",
        " None,\n",
        " None,\n",
        " None,\n",
        " None,\n",
        " None,\n",
        " None,\n",
        " None,\n",
        " None,\n",
        " None,\n",
        " None,\n",
        " None,\n",
        " None,\n",
        " None,\n",
        " None,\n",
        " None,\n",
        " None,\n",
        " None,\n",
        " None,\n",
        " None,\n",
        " None,\n",
        " None,\n",
        " None,\n",
        " None,\n",
        " None,\n",
        " None,\n",
        " None,\n",
        " None,\n",
        " None,\n",
        " None,\n",
        " None,\n",
        " None,\n",
        " None,\n",
        " None,\n",
        " None,\n",
        " None,\n",
        " None,\n",
        " None]"
       ]
      }
     ],
     "prompt_number": 26
    },
    {
     "cell_type": "code",
     "collapsed": false,
     "input": [
      "\n"
     ],
     "language": "python",
     "metadata": {},
     "outputs": [
      {
       "output_type": "pyout",
       "prompt_number": 36,
       "text": [
        "True"
       ]
      }
     ],
     "prompt_number": 36
    },
    {
     "cell_type": "code",
     "collapsed": false,
     "input": [
      "#dl_vl_mod_g.nodes()\n",
      "frame_dict=dict()\n",
      "\n",
      "for xpfc in ['dlpfc_mod', 'vlpfc_mod']:\n",
      "    aff_key=xpfc + '_aff'\n",
      "    eff_key=xpfc + '_eff'\n",
      "    aff_w_key=xpfc + '_w_aff'\n",
      "    eff_w_key=xpfc + '_w_eff'\n",
      "    frame_dict.update({aff_key: [], eff_key : [], aff_w_key : [], eff_w_key : []})\n",
      "\n",
      "\n",
      "    for xnode in dl_vl_mod_g.nodes():\n",
      "        xaff=(xnode, xpfc)\n",
      "        xeff=(xpfc, xnode)\n",
      "        if xaff in dl_vl_mod_g.edges():\n",
      "            frame_dict[aff_key].append(1)\n",
      "            frame_dict[aff_w_key].append(dl_vl_mod_g.edge[xaff[0]][xaff[1]]['weight'])\n",
      "        else:    \n",
      "            frame_dict[aff_key].append(0)\n",
      "            frame_dict[aff_w_key].append(0)\n",
      "            \n",
      "            \n",
      "        if xeff in dl_vl_mod_g.edges():\n",
      "            frame_dict[eff_key].append(1)\n",
      "            frame_dict[eff_w_key].append(dl_vl_mod_g.edge[xeff[0]][xeff[1]]['weight'])\n",
      "        else:\n",
      "            frame_dict[eff_key].append(0)\n",
      "            frame_dict[eff_w_key].append(0)\n",
      "\n",
      "\n",
      "#xnode=dl_vl_mod_g.nodes()[0]\n",
      "#xaff=(xnode, 'dlpfc_mod')\n",
      "#if xaff in dl_vl_mod_g.edges():\n",
      "#    dl_aff.append(1)\n",
      "#    dl_waff.append(dl_vl_mod_g.edge[xaff[0]][xaff[1]]['weight'])\n",
      "#else:\n",
      "##    dl_aff.append(0)\n",
      "#    dl_waff.append(0)"
     ],
     "language": "python",
     "metadata": {},
     "outputs": [],
     "prompt_number": 10
    },
    {
     "cell_type": "code",
     "collapsed": false,
     "input": [
      "dl_vl_frame=DataFrame(frame_dict, index=[dl_vl_mod_g.nodes()])\n",
      "dl_vl_frame.drop('dlpfc_mod')\n",
      "dl_vl_frame.drop('vlpfc_mod')\n",
      "dl_vl_frame['region']=ms_frame['region']\n",
      "dl_vl_frame['subregion']=ms_frame['subregion']\n",
      "\n",
      "#dl_vl_node_idx=dl_vl_mod_g.nodes()\n",
      "#dl_vl_node_idx.remove('dlpfc_mod')\n",
      "#dl_vl_node_idx.remove('vlpfc_mod')\n",
      "#dl_vl_node_idx_dict={'label' : dl_vl_node_idx}"
     ],
     "language": "python",
     "metadata": {},
     "outputs": [],
     "prompt_number": 11
    },
    {
     "cell_type": "code",
     "collapsed": false,
     "input": [
      "# this really should be np.array, pretty ugly\n",
      "eff_list=[]\n",
      "aff_list=[]\n",
      "for x,y in dl_vl_frame.iterrows():\n",
      "    if dl_vl_frame.ix[x,'dlpfc_mod_eff']== dl_vl_frame.ix[x,'vlpfc_mod_eff']== 0:\n",
      "        eff_list.append(0)\n",
      "    elif dl_vl_frame.ix[x,'dlpfc_mod_eff']== dl_vl_frame.ix[x,'vlpfc_mod_eff']== 1:\n",
      "        eff_list.append(3)\n",
      "    elif dl_vl_frame.ix[x,'dlpfc_mod_eff']== 1 and dl_vl_frame.ix[x,'vlpfc_mod_eff']== 0:\n",
      "        eff_list.append(1)\n",
      "    elif dl_vl_frame.ix[x,'dlpfc_mod_eff']== 0 and dl_vl_frame.ix[x,'vlpfc_mod_eff']== 1:\n",
      "        eff_list.append(2)\n",
      "\n",
      "for x,y in dl_vl_frame.iterrows():\n",
      "    if dl_vl_frame.ix[x,'dlpfc_mod_aff']== dl_vl_frame.ix[x,'vlpfc_mod_aff']== 0:\n",
      "        aff_list.append(0)\n",
      "    elif dl_vl_frame.ix[x,'dlpfc_mod_aff']== dl_vl_frame.ix[x,'vlpfc_mod_aff']== 1:\n",
      "        aff_list.append(3)\n",
      "    elif dl_vl_frame.ix[x,'dlpfc_mod_aff']== 1 and dl_vl_frame.ix[x,'vlpfc_mod_aff']== 0:\n",
      "        aff_list.append(1)\n",
      "    elif dl_vl_frame.ix[x,'dlpfc_mod_aff']== 0 and dl_vl_frame.ix[x,'vlpfc_mod_aff']== 1:\n",
      "        aff_list.append(2)\n",
      "        \n",
      "dl_vl_frame['aff_cat']=aff_list\n",
      "dl_vl_frame['eff_cat']=eff_list        "
     ],
     "language": "python",
     "metadata": {},
     "outputs": [],
     "prompt_number": 26
    },
    {
     "cell_type": "code",
     "collapsed": false,
     "input": [
      "dl_vl_frame.to_csv('old_sim_dl_vl_mods.csv')"
     ],
     "language": "python",
     "metadata": {},
     "outputs": [],
     "prompt_number": 27
    },
    {
     "cell_type": "code",
     "collapsed": false,
     "input": [
      "#['44', '9/46d', '8Ad', '45A', '47/12', '45B', '9/46v', 'ProM#2']\n",
      "whole_low.edge['46r']"
     ],
     "language": "python",
     "metadata": {},
     "outputs": [
      {
       "ename": "KeyError",
       "evalue": "'46r'",
       "output_type": "pyerr",
       "traceback": [
        "\u001b[1;31m---------------------------------------------------------------------------\u001b[0m\n\u001b[1;31mKeyError\u001b[0m                                  Traceback (most recent call last)",
        "\u001b[1;32m<ipython-input-47-5d4427fb9888>\u001b[0m in \u001b[0;36m<module>\u001b[1;34m()\u001b[0m\n\u001b[0;32m      1\u001b[0m \u001b[1;31m#['44', '9/46d', '8Ad', '45A', '47/12', '45B', '9/46v', 'ProM#2']\u001b[0m\u001b[1;33m\u001b[0m\u001b[1;33m\u001b[0m\u001b[0m\n\u001b[1;32m----> 2\u001b[1;33m \u001b[0mwhole_low\u001b[0m\u001b[1;33m.\u001b[0m\u001b[0medge\u001b[0m\u001b[1;33m[\u001b[0m\u001b[1;34m'46r'\u001b[0m\u001b[1;33m]\u001b[0m\u001b[1;33m\u001b[0m\u001b[0m\n\u001b[0m",
        "\u001b[1;31mKeyError\u001b[0m: '46r'"
       ]
      }
     ],
     "prompt_number": 47
    },
    {
     "cell_type": "code",
     "collapsed": false,
     "input": [
      "dl_vl_frame.reindex(dl_vl_frame['region'], dl_vl_frame['subregion'])"
     ],
     "language": "python",
     "metadata": {},
     "outputs": [
      {
       "output_type": "pyout",
       "prompt_number": 139,
       "text": [
        "<class 'pandas.core.frame.DataFrame'>\n",
        "Index: 268 entries, DIENCEPH to FRONTAL\n",
        "Columns: 268 entries, THALAMUS to MOTOR\n",
        "dtypes: float64(268)"
       ]
      }
     ],
     "prompt_number": 139
    },
    {
     "cell_type": "code",
     "collapsed": false,
     "input": [
      "#for xpred in dlpfc_mod_g.predecessors('dlpfc_mod'):\n",
      "xpred = dlpfc_mod_g.predecessors('dlpfc_mod')[0]\n",
      "xbunch =dlpfc_ebunch[0]\n",
      "dlpfc_ebunch.count(xbunch)\n",
      "#test_g=nx.DiGraph()(xbunch[0][0],xbunch[0][1],dlpfc_ebunch.count(xbunch))\n",
      "#elist=[(\u2019a\u2019,\u2019b\u2019,5.0),(\u2019b\u2019,\u2019c\u2019,3.0),(\u2019a\u2019,\u2019c\u2019,1.0),(\u2019c\u2019,\u2019d\u2019,7.3)]\n",
      "#>>> G.add_weighted_edges_from(elist)\n",
      "weighted_xbunch=[(xbunch[0][0],xbunch[0][1],dlpfc_ebunch.count(xbunch))]\n",
      "\n",
      "test_g.add_weighted_edges_from(weighted_xbunch)\n",
      "#in dlpfc_mod_g.predecessors('dlpfc_mod'):    \n",
      "#dlpfc_ebunch.count(xbunch)    "
     ],
     "language": "python",
     "metadata": {},
     "outputs": [],
     "prompt_number": 286
    },
    {
     "cell_type": "code",
     "collapsed": false,
     "input": [
      "#12m\n",
      "dlpfc_mod_g2['dlpfc_mod']['12m']"
     ],
     "language": "python",
     "metadata": {},
     "outputs": [
      {
       "output_type": "pyout",
       "prompt_number": 339,
       "text": [
        "{'weight': 1}"
       ]
      }
     ],
     "prompt_number": 339
    },
    {
     "cell_type": "code",
     "collapsed": false,
     "input": [
      "p1=[1, 2, 260, 5, 7, 8, 11, 140, 258, 144, 145, 22, 155, 29, 164, 37, 38, 40, 43, 44, 175, 176, 264, 57, 87, 117, 64, 65, 199, 200, 74, 203, 78, 80, 206, 215, 216, 218, 221, 94, 95, 165, 226, 106, 107, 245, 247, 120, 252]\n",
      "p2=[129, 131, 132, 133, 134, 142, 259, 20, 21, 150, 151, 24, 4, 156, 158, 261, 160, 112, 42, 48, 177, 178, 243, 184, 244, 58, 187, 189, 63, 193, 66, 196, 198, 72, 201, 205, 211, 84, 91, 96, 98, 227, 229, 103, 104, 234, 108, 240, 113, 147, 25, 118, 191, 124, 125, 149]\n",
      "p3=[257, 130, 3, 86, 6, 135, 136, 13, 15, 17, 18, 148, 46, 23, 153, 26, 27, 28, 154, 69, 31, 161, 34, 35, 36, 92, 173, 174, 47, 51, 238, 55, 56, 116, 186, 59, 188, 61, 194, 67, 197, 73, 76, 162, 141, 208, 209, 210, 212, 214, 88, 89, 90, 143, 220, 122, 222, 223, 224, 225, 123, 114, 102, 231, 105, 235, 146, 110, 111, 157, 241, 242, 204, 246, 233, 250, 251, 239, 127]\n",
      "p4=[0, 128, 126, 262, 263, 9, 10, 139, 12, 14, 109, 16, 19, 121, 185, 152, 30, 159, 32, 33, 163, 166, 39, 168, 41, 170, 171, 172, 45, 49, 50, 179, 52, 53, 54, 265, 213, 180, 60, 138, 62, 181, 192, 100, 195, 68, 182, 70, 256, 202, 75, 77, 207, 79, 81, 82, 83, 85, 249, 217, 71, 219, 93, 97, 99, 228, 101, 230, 232, 167, 236, 237, 183, 115, 190, 169, 248, 137, 119, 253, 254, 255]"
     ],
     "language": "python",
     "metadata": {},
     "outputs": [],
     "prompt_number": 11
    },
    {
     "cell_type": "code",
     "collapsed": false,
     "input": [
      "#make graphs that represent PFC partitions: one node for partition\n",
      "# a few observations: can make counts for repeats as a measure of strength\n",
      "\n",
      "dlpfc_mod_g=nx.DiGraph()\n",
      "dlpfc_ebunch=[]\n",
      "        \n",
      "        \n",
      "[dlpfc_ebunch.append([(xpreds,'dlpfc_mod')]) for xnode in mod_dlpfc_labels for xpreds in whole_low.predecessors(xnode)]\n",
      "[dlpfc_ebunch.append([('dlpfc_mod', xsucces)]) for xnode in mod_dlpfc_labels for xsucces in whole_low.successors(xnode)]\n",
      "\n",
      "[dlpfc_mod_g.add_edges_from([(xpreds,'dlpfc_mod')]) for xnode in mod_dlpfc_labels for xpreds in whole_low.predecessors(xnode)]\n",
      "[dlpfc_mod_g.add_edges_from([('dlpfc_mod', xsucces)]) for xnode in mod_dlpfc_labels for xsucces in whole_low.successors(xnode)]\n",
      "\n",
      "\n",
      "#[dlpfc_mod_g.add_edges_from([(xpreds,'dlpfc_mod')]) for xnode in mod_dlpfc_labels for xpreds in whole_low.predecessors(xnode)]\n",
      "#[dlpfc_mod_g.add_edges_from([('dlpfc_mod', xsucces)]) for xnode in mod_dlpfc_labels for xsucces in whole_low.successors(xnode)]\n",
      "#[vlpfc_mod_g.add_edges_from([(xpreds,'vlpfc_mod')]) for xnode in mod_vlpfc_labels for xpreds in whole_low.predecessors(xnode)]\n",
      "#[vlpfc_mod_g.add_edges_from([('vlpfc_mod', xsucces)]) for xnode in mod_vlpfc_labels for xsucces in whole_low.successors(xnode)]\n",
      "#[mpfc_mod_g.add_edges_from([(xpreds,'mpfc_mod')]) for xnode in mod_mpfc_labels for xpreds in whole_low.predecessors(xnode)]\n",
      "#[mpfc_mod_g.add_edges_from([('mpfc_mod', xsucces)]) for xnode in mod_mpfc_labels for xsucces in whole_low.successors(xnode)]\n",
      "\n",
      "#a=[xnode_pred.append([whole_low.predecessors(xnode)[0], 'dlpfc_mod']) for xnode in mod_dlpfc_labels]\n",
      "#this is the long form:\n",
      "#for xnode in mod_dlpfc_labels:\n",
      "#    for xpreds in whole_low.predecessors(xnode):\n",
      "#        xnode_pred.append([(xpreds,'dlpfc_mod')])\n",
      "\n",
      "\n",
      "#[expr for val in collection if condition]"
     ],
     "language": "python",
     "metadata": {},
     "outputs": [
      {
       "output_type": "pyout",
       "prompt_number": 216,
       "text": [
        "[None,\n",
        " None,\n",
        " None,\n",
        " None,\n",
        " None,\n",
        " None,\n",
        " None,\n",
        " None,\n",
        " None,\n",
        " None,\n",
        " None,\n",
        " None,\n",
        " None,\n",
        " None,\n",
        " None,\n",
        " None,\n",
        " None,\n",
        " None,\n",
        " None,\n",
        " None,\n",
        " None,\n",
        " None,\n",
        " None,\n",
        " None,\n",
        " None,\n",
        " None,\n",
        " None,\n",
        " None,\n",
        " None,\n",
        " None,\n",
        " None,\n",
        " None,\n",
        " None,\n",
        " None,\n",
        " None,\n",
        " None,\n",
        " None,\n",
        " None,\n",
        " None,\n",
        " None,\n",
        " None,\n",
        " None,\n",
        " None,\n",
        " None,\n",
        " None,\n",
        " None,\n",
        " None,\n",
        " None,\n",
        " None,\n",
        " None,\n",
        " None,\n",
        " None,\n",
        " None,\n",
        " None,\n",
        " None,\n",
        " None,\n",
        " None,\n",
        " None,\n",
        " None,\n",
        " None,\n",
        " None,\n",
        " None,\n",
        " None,\n",
        " None,\n",
        " None,\n",
        " None,\n",
        " None,\n",
        " None,\n",
        " None,\n",
        " None,\n",
        " None,\n",
        " None,\n",
        " None,\n",
        " None,\n",
        " None,\n",
        " None,\n",
        " None,\n",
        " None,\n",
        " None,\n",
        " None,\n",
        " None,\n",
        " None,\n",
        " None,\n",
        " None,\n",
        " None,\n",
        " None,\n",
        " None,\n",
        " None,\n",
        " None,\n",
        " None,\n",
        " None,\n",
        " None,\n",
        " None,\n",
        " None,\n",
        " None,\n",
        " None,\n",
        " None,\n",
        " None,\n",
        " None,\n",
        " None,\n",
        " None,\n",
        " None,\n",
        " None,\n",
        " None,\n",
        " None,\n",
        " None]"
       ]
      }
     ],
     "prompt_number": 216
    },
    {
     "cell_type": "code",
     "collapsed": false,
     "input": [
      "p1_labels=[]\n",
      "p2_labels=[]\n",
      "p3_labels=[]\n",
      "p4_labels=[]\n",
      "for x in p1:\n",
      "    p1_labels.append(test[x])\n",
      "for x in p2:\n",
      "    p2_labels.append(test[x])\n",
      "for x in p3:\n",
      "    p3_labels.append(test[x])\n",
      "for x in p4:\n",
      "    p4_labels.append(test[x])\n",
      "    \n",
      "    "
     ],
     "language": "python",
     "metadata": {},
     "outputs": [
      {
       "ename": "NameError",
       "evalue": "name 'p1' is not defined",
       "output_type": "pyerr",
       "traceback": [
        "\u001b[1;31m---------------------------------------------------------------------------\u001b[0m\n\u001b[1;31mNameError\u001b[0m                                 Traceback (most recent call last)",
        "\u001b[1;32m<ipython-input-9-501e631c2fcf>\u001b[0m in \u001b[0;36m<module>\u001b[1;34m()\u001b[0m\n\u001b[0;32m      3\u001b[0m \u001b[0mp3_labels\u001b[0m\u001b[1;33m=\u001b[0m\u001b[1;33m[\u001b[0m\u001b[1;33m]\u001b[0m\u001b[1;33m\u001b[0m\u001b[0m\n\u001b[0;32m      4\u001b[0m \u001b[0mp4_labels\u001b[0m\u001b[1;33m=\u001b[0m\u001b[1;33m[\u001b[0m\u001b[1;33m]\u001b[0m\u001b[1;33m\u001b[0m\u001b[0m\n\u001b[1;32m----> 5\u001b[1;33m \u001b[1;32mfor\u001b[0m \u001b[0mx\u001b[0m \u001b[1;32min\u001b[0m \u001b[0mp1\u001b[0m\u001b[1;33m:\u001b[0m\u001b[1;33m\u001b[0m\u001b[0m\n\u001b[0m\u001b[0;32m      6\u001b[0m     \u001b[0mp1_labels\u001b[0m\u001b[1;33m.\u001b[0m\u001b[0mappend\u001b[0m\u001b[1;33m(\u001b[0m\u001b[0mtest\u001b[0m\u001b[1;33m[\u001b[0m\u001b[0mx\u001b[0m\u001b[1;33m]\u001b[0m\u001b[1;33m)\u001b[0m\u001b[1;33m\u001b[0m\u001b[0m\n\u001b[0;32m      7\u001b[0m \u001b[1;32mfor\u001b[0m \u001b[0mx\u001b[0m \u001b[1;32min\u001b[0m \u001b[0mp2\u001b[0m\u001b[1;33m:\u001b[0m\u001b[1;33m\u001b[0m\u001b[0m\n",
        "\u001b[1;31mNameError\u001b[0m: name 'p1' is not defined"
       ]
      }
     ],
     "prompt_number": 9
    },
    {
     "cell_type": "code",
     "collapsed": false,
     "input": [
      "#lets try sim annealing\n",
      "P1_sim=md.simulated_annealing(G1)"
     ],
     "language": "python",
     "metadata": {},
     "outputs": [
      {
       "output_type": "stream",
       "stream": "stdout",
       "text": [
        "T: 5.00e+01 energy: 7.85e-03 best: 0.00e+00\n",
        "T: 4.98e+01"
       ]
      },
      {
       "output_type": "stream",
       "stream": "stdout",
       "text": [
        " energy: 1.00e-02 best: 0.00e+00\n",
        "T: 4.95e+01"
       ]
      },
      {
       "output_type": "stream",
       "stream": "stdout",
       "text": [
        " energy: 8.39e-03 best: 0.00e+00\n",
        "T: 4.93e+01"
       ]
      },
      {
       "output_type": "stream",
       "stream": "stdout",
       "text": [
        " energy: 9.22e-03 best: 0.00e+00\n",
        "T: 4.90e+01"
       ]
      },
      {
       "output_type": "stream",
       "stream": "stdout",
       "text": [
        " energy: 6.08e-03 best: 0.00e+00\n",
        "T: 4.88e+01"
       ]
      },
      {
       "output_type": "stream",
       "stream": "stdout",
       "text": [
        " energy: 7.91e-03 best: 0.00e+00\n",
        "T: 4.85e+01"
       ]
      },
      {
       "output_type": "stream",
       "stream": "stdout",
       "text": [
        " energy: 5.17e-03 best: 0.00e+00\n",
        "T: 4.83e+01"
       ]
      },
      {
       "output_type": "stream",
       "stream": "stdout",
       "text": [
        " energy: 5.47e-03 best: 0.00e+00\n",
        "T: 4.80e+01"
       ]
      },
      {
       "output_type": "stream",
       "stream": "stdout",
       "text": [
        " energy: 4.41e-03 best: 0.00e+00\n",
        "T: 4.78e+01"
       ]
      },
      {
       "output_type": "stream",
       "stream": "stdout",
       "text": [
        " energy: 7.36e-03 best: 0.00e+00\n",
        "T: 4.76e+01"
       ]
      },
      {
       "output_type": "stream",
       "stream": "stdout",
       "text": [
        " energy: 7.53e-03 best: 0.00e+00\n",
        "T: 4.73e+01"
       ]
      },
      {
       "output_type": "stream",
       "stream": "stdout",
       "text": [
        " energy: 4.48e-03 best: 0.00e+00\n",
        "T: 4.71e+01"
       ]
      },
      {
       "output_type": "stream",
       "stream": "stdout",
       "text": [
        " energy: 6.93e-03 best: 0.00e+00\n",
        "T: 4.68e+01"
       ]
      },
      {
       "output_type": "stream",
       "stream": "stdout",
       "text": [
        " energy: 6.50e-03 best: 0.00e+00\n",
        "T: 4.66e+01"
       ]
      },
      {
       "output_type": "stream",
       "stream": "stdout",
       "text": [
        " energy: 3.82e-03 best: 0.00e+00\n",
        "T: 4.64e+01"
       ]
      },
      {
       "output_type": "stream",
       "stream": "stdout",
       "text": [
        " energy: 6.29e-03 best: 0.00e+00\n",
        "T: 4.61e+01"
       ]
      },
      {
       "output_type": "stream",
       "stream": "stdout",
       "text": [
        " energy: 4.85e-03 best: 0.00e+00\n",
        "T: 4.59e+01"
       ]
      },
      {
       "output_type": "stream",
       "stream": "stdout",
       "text": [
        " energy: 3.69e-03 best: 0.00e+00\n",
        "T: 4.57e+01"
       ]
      },
      {
       "output_type": "stream",
       "stream": "stdout",
       "text": [
        " energy: 3.31e-03 best: 0.00e+00\n",
        "T: 4.55e+01"
       ]
      },
      {
       "output_type": "stream",
       "stream": "stdout",
       "text": [
        " energy: 5.28e-03 best: 0.00e+00\n",
        "T: 4.52e+01"
       ]
      },
      {
       "output_type": "stream",
       "stream": "stdout",
       "text": [
        " energy: 4.74e-03 best: 0.00e+00\n",
        "T: 4.50e+01"
       ]
      },
      {
       "output_type": "stream",
       "stream": "stdout",
       "text": [
        " energy: 5.93e-03 best: 0.00e+00\n",
        "T: 4.48e+01"
       ]
      },
      {
       "output_type": "stream",
       "stream": "stdout",
       "text": [
        " energy: 3.62e-03 best: 0.00e+00\n",
        "T: 4.46e+01"
       ]
      },
      {
       "output_type": "stream",
       "stream": "stdout",
       "text": [
        " energy: 1.76e-03 best: 0.00e+00\n",
        "T: 4.43e+01"
       ]
      },
      {
       "output_type": "stream",
       "stream": "stdout",
       "text": [
        " energy: 6.39e-03 best: 0.00e+00\n",
        "T: 4.41e+01"
       ]
      },
      {
       "output_type": "stream",
       "stream": "stdout",
       "text": [
        " energy: 8.80e-03 best: 0.00e+00\n",
        "T: 4.39e+01"
       ]
      },
      {
       "output_type": "stream",
       "stream": "stdout",
       "text": [
        " energy: 6.84e-03 best: 0.00e+00\n",
        "T: 4.37e+01"
       ]
      },
      {
       "output_type": "stream",
       "stream": "stdout",
       "text": [
        " energy: 6.81e-03 best: 0.00e+00\n",
        "T: 4.35e+01"
       ]
      },
      {
       "output_type": "stream",
       "stream": "stdout",
       "text": [
        " energy: 7.59e-03 best: 0.00e+00\n",
        "T: 4.32e+01"
       ]
      },
      {
       "output_type": "stream",
       "stream": "stdout",
       "text": [
        " energy: 4.57e-03 best: 0.00e+00\n",
        "T: 4.30e+01"
       ]
      },
      {
       "output_type": "stream",
       "stream": "stdout",
       "text": [
        " energy: 8.33e-03 best: 0.00e+00\n",
        "T: 4.28e+01"
       ]
      },
      {
       "output_type": "stream",
       "stream": "stdout",
       "text": [
        " energy: 9.03e-03 best: 0.00e+00\n",
        "T: 4.26e+01"
       ]
      },
      {
       "output_type": "stream",
       "stream": "stdout",
       "text": [
        " energy: 7.95e-03 best: 0.00e+00\n",
        "T: 4.24e+01"
       ]
      },
      {
       "output_type": "stream",
       "stream": "stdout",
       "text": [
        " energy: 7.20e-03 best: 0.00e+00\n",
        "T: 4.22e+01"
       ]
      },
      {
       "output_type": "stream",
       "stream": "stdout",
       "text": [
        " energy: 9.16e-03 best: 0.00e+00\n",
        "T: 4.20e+01"
       ]
      },
      {
       "output_type": "stream",
       "stream": "stdout",
       "text": [
        " energy: 1.40e-02 best: 0.00e+00\n",
        "T: 4.17e+01"
       ]
      },
      {
       "output_type": "stream",
       "stream": "stdout",
       "text": [
        " energy: 8.98e-03 best: 0.00e+00\n",
        "T: 4.15e+01"
       ]
      },
      {
       "output_type": "stream",
       "stream": "stdout",
       "text": [
        " energy: 3.23e-03 best: 0.00e+00\n",
        "T: 4.13e+01"
       ]
      },
      {
       "output_type": "stream",
       "stream": "stdout",
       "text": [
        " energy: 4.39e-03 best: 0.00e+00\n",
        "T: 4.11e+01"
       ]
      },
      {
       "output_type": "stream",
       "stream": "stdout",
       "text": [
        " energy: 4.35e-03 best: 0.00e+00\n",
        "T: 4.09e+01"
       ]
      },
      {
       "output_type": "stream",
       "stream": "stdout",
       "text": [
        " energy: 6.77e-03 best: 0.00e+00\n",
        "T: 4.07e+01"
       ]
      },
      {
       "output_type": "stream",
       "stream": "stdout",
       "text": [
        " energy: 8.32e-03 best: 0.00e+00\n",
        "T: 4.05e+01"
       ]
      },
      {
       "output_type": "stream",
       "stream": "stdout",
       "text": [
        " energy: 1.04e-02 best: 0.00e+00\n",
        "T: 4.03e+01"
       ]
      },
      {
       "output_type": "stream",
       "stream": "stdout",
       "text": [
        " energy: 1.02e-02 best: 0.00e+00\n",
        "T: 4.01e+01"
       ]
      },
      {
       "output_type": "stream",
       "stream": "stdout",
       "text": [
        " energy: 9.72e-03 best: 0.00e+00\n",
        "T: 3.99e+01"
       ]
      },
      {
       "output_type": "stream",
       "stream": "stdout",
       "text": [
        " energy: 8.43e-03 best: 0.00e+00\n",
        "T: 3.97e+01"
       ]
      },
      {
       "output_type": "stream",
       "stream": "stdout",
       "text": [
        " energy: 7.43e-03 best: 0.00e+00\n",
        "T: 3.95e+01"
       ]
      },
      {
       "output_type": "stream",
       "stream": "stdout",
       "text": [
        " energy: 7.73e-03 best: 0.00e+00\n",
        "T: 3.93e+01"
       ]
      },
      {
       "output_type": "stream",
       "stream": "stdout",
       "text": [
        " energy: 8.36e-03 best: 0.00e+00\n",
        "T: 3.91e+01"
       ]
      },
      {
       "output_type": "stream",
       "stream": "stdout",
       "text": [
        " energy: 8.24e-03 best: 0.00e+00\n",
        "T: 3.89e+01"
       ]
      },
      {
       "output_type": "stream",
       "stream": "stdout",
       "text": [
        " energy: 8.05e-03 best: 0.00e+00\n",
        "T: 3.87e+01"
       ]
      },
      {
       "output_type": "stream",
       "stream": "stdout",
       "text": [
        " energy: 7.65e-03 best: 0.00e+00\n",
        "T: 3.85e+01"
       ]
      },
      {
       "output_type": "stream",
       "stream": "stdout",
       "text": [
        " energy: 8.97e-03 best: 0.00e+00\n",
        "T: 3.83e+01"
       ]
      },
      {
       "output_type": "stream",
       "stream": "stdout",
       "text": [
        " energy: 7.25e-03 best: 0.00e+00\n",
        "T: 3.81e+01"
       ]
      },
      {
       "output_type": "stream",
       "stream": "stdout",
       "text": [
        " energy: 5.93e-03 best: 0.00e+00\n",
        "T: 3.80e+01"
       ]
      },
      {
       "output_type": "stream",
       "stream": "stdout",
       "text": [
        " energy: 7.24e-03 best: 0.00e+00\n",
        "T: 3.78e+01"
       ]
      },
      {
       "output_type": "stream",
       "stream": "stdout",
       "text": [
        " energy: 7.87e-03 best: 0.00e+00\n",
        "T: 3.76e+01"
       ]
      },
      {
       "output_type": "stream",
       "stream": "stdout",
       "text": [
        " energy: 1.18e-02 best: 0.00e+00\n",
        "T: 3.74e+01"
       ]
      },
      {
       "output_type": "stream",
       "stream": "stdout",
       "text": [
        " energy: 1.35e-02 best: 0.00e+00\n",
        "T: 3.72e+01"
       ]
      },
      {
       "output_type": "stream",
       "stream": "stdout",
       "text": [
        " energy: 1.44e-02 best: 0.00e+00\n",
        "T: 3.70e+01"
       ]
      },
      {
       "output_type": "stream",
       "stream": "stdout",
       "text": [
        " energy: 1.70e-02 best: 0.00e+00\n",
        "T: 3.68e+01"
       ]
      },
      {
       "output_type": "stream",
       "stream": "stdout",
       "text": [
        " energy: 1.96e-02 best: 0.00e+00\n",
        "T: 3.66e+01"
       ]
      },
      {
       "output_type": "stream",
       "stream": "stdout",
       "text": [
        " energy: 1.65e-02 best: 0.00e+00\n",
        "T: 3.65e+01"
       ]
      },
      {
       "output_type": "stream",
       "stream": "stdout",
       "text": [
        " energy: 1.40e-02 best: 0.00e+00\n",
        "T: 3.63e+01"
       ]
      },
      {
       "output_type": "stream",
       "stream": "stdout",
       "text": [
        " energy: 1.22e-02 best: 0.00e+00\n",
        "T: 3.61e+01"
       ]
      },
      {
       "output_type": "stream",
       "stream": "stdout",
       "text": [
        " energy: 1.17e-02 best: 0.00e+00\n",
        "T: 3.59e+01"
       ]
      },
      {
       "output_type": "stream",
       "stream": "stdout",
       "text": [
        " energy: 1.19e-02 best: 0.00e+00\n",
        "T: 3.57e+01"
       ]
      },
      {
       "output_type": "stream",
       "stream": "stdout",
       "text": [
        " energy: 1.16e-02 best: 0.00e+00\n",
        "T: 3.56e+01"
       ]
      },
      {
       "output_type": "stream",
       "stream": "stdout",
       "text": [
        " energy: 8.66e-03 best: 0.00e+00\n",
        "T: 3.54e+01"
       ]
      },
      {
       "output_type": "stream",
       "stream": "stdout",
       "text": [
        " energy: 8.18e-03 best: 0.00e+00\n",
        "T: 3.52e+01"
       ]
      },
      {
       "output_type": "stream",
       "stream": "stdout",
       "text": [
        " energy: 5.62e-03 best: 0.00e+00\n",
        "T: 3.50e+01"
       ]
      },
      {
       "output_type": "stream",
       "stream": "stdout",
       "text": [
        " energy: 8.10e-03 best: 0.00e+00\n",
        "T: 3.49e+01"
       ]
      },
      {
       "output_type": "stream",
       "stream": "stdout",
       "text": [
        " energy: 6.15e-03 best: 0.00e+00\n",
        "T: 3.47e+01"
       ]
      },
      {
       "output_type": "stream",
       "stream": "stdout",
       "text": [
        " energy: 2.04e-03 best: 0.00e+00\n",
        "T: 3.45e+01"
       ]
      },
      {
       "output_type": "stream",
       "stream": "stdout",
       "text": [
        " energy: 2.95e-03 best: 0.00e+00\n",
        "T: 3.43e+01"
       ]
      },
      {
       "output_type": "stream",
       "stream": "stdout",
       "text": [
        " energy: 3.02e-03 best: 0.00e+00\n",
        "T: 3.42e+01"
       ]
      },
      {
       "output_type": "stream",
       "stream": "stdout",
       "text": [
        " energy: 6.34e-03 best: 0.00e+00\n",
        "T: 3.40e+01"
       ]
      },
      {
       "output_type": "stream",
       "stream": "stdout",
       "text": [
        " energy: 8.41e-03 best: 0.00e+00\n",
        "T: 3.38e+01"
       ]
      },
      {
       "output_type": "stream",
       "stream": "stdout",
       "text": [
        " energy: 7.12e-03 best: 0.00e+00\n",
        "T: 3.37e+01"
       ]
      },
      {
       "output_type": "stream",
       "stream": "stdout",
       "text": [
        " energy: 8.42e-03 best: 0.00e+00\n",
        "T: 3.35e+01"
       ]
      },
      {
       "output_type": "stream",
       "stream": "stdout",
       "text": [
        " energy: 9.18e-03 best: 0.00e+00\n",
        "T: 3.33e+01"
       ]
      },
      {
       "output_type": "stream",
       "stream": "stdout",
       "text": [
        " energy: 1.12e-02 best: 0.00e+00\n",
        "T: 3.31e+01"
       ]
      },
      {
       "output_type": "stream",
       "stream": "stdout",
       "text": [
        " energy: 7.77e-03 best: 0.00e+00\n",
        "T: 3.30e+01"
       ]
      },
      {
       "output_type": "stream",
       "stream": "stdout",
       "text": [
        " energy: 1.21e-02 best: 0.00e+00\n",
        "T: 3.28e+01"
       ]
      },
      {
       "output_type": "stream",
       "stream": "stdout",
       "text": [
        " energy: 1.32e-02 best: 0.00e+00\n",
        "T: 3.27e+01"
       ]
      },
      {
       "output_type": "stream",
       "stream": "stdout",
       "text": [
        " energy: 8.07e-03 best: 0.00e+00\n",
        "T: 3.25e+01"
       ]
      },
      {
       "output_type": "stream",
       "stream": "stdout",
       "text": [
        " energy: 8.25e-03 best: 0.00e+00\n",
        "T: 3.23e+01"
       ]
      },
      {
       "output_type": "stream",
       "stream": "stdout",
       "text": [
        " energy: 7.89e-03 best: 0.00e+00\n",
        "T: 3.22e+01"
       ]
      },
      {
       "output_type": "stream",
       "stream": "stdout",
       "text": [
        " energy: 9.78e-03 best: 0.00e+00\n",
        "T: 3.20e+01"
       ]
      },
      {
       "output_type": "stream",
       "stream": "stdout",
       "text": [
        " energy: 5.71e-03 best: 0.00e+00\n",
        "T: 3.18e+01"
       ]
      },
      {
       "output_type": "stream",
       "stream": "stdout",
       "text": [
        " energy: 7.58e-03 best: 0.00e+00\n",
        "T: 3.17e+01"
       ]
      },
      {
       "output_type": "stream",
       "stream": "stdout",
       "text": [
        " energy: 5.08e-03 best: 0.00e+00\n",
        "T: 3.15e+01"
       ]
      },
      {
       "output_type": "stream",
       "stream": "stdout",
       "text": [
        " energy: 7.04e-03 best: 0.00e+00\n",
        "T: 3.14e+01"
       ]
      },
      {
       "output_type": "stream",
       "stream": "stdout",
       "text": [
        " energy: 6.99e-03 best: 0.00e+00\n",
        "T: 3.12e+01"
       ]
      },
      {
       "output_type": "stream",
       "stream": "stdout",
       "text": [
        " energy: 1.26e-02 best: 0.00e+00\n",
        "T: 3.11e+01"
       ]
      },
      {
       "output_type": "stream",
       "stream": "stdout",
       "text": [
        " energy: 8.58e-03 best: 0.00e+00\n",
        "T: 3.09e+01"
       ]
      },
      {
       "output_type": "stream",
       "stream": "stdout",
       "text": [
        " energy: 5.47e-03 best: 0.00e+00\n",
        "T: 3.07e+01"
       ]
      },
      {
       "output_type": "stream",
       "stream": "stdout",
       "text": [
        " energy: 2.93e-03 best: 0.00e+00\n",
        "T: 3.06e+01"
       ]
      },
      {
       "output_type": "stream",
       "stream": "stdout",
       "text": [
        " energy: 3.96e-03 best: 0.00e+00\n",
        "T: 3.04e+01"
       ]
      },
      {
       "output_type": "stream",
       "stream": "stdout",
       "text": [
        " energy: 9.32e-03 best: 0.00e+00\n",
        "T: 3.03e+01"
       ]
      },
      {
       "output_type": "stream",
       "stream": "stdout",
       "text": [
        " energy: 6.89e-03 best: 0.00e+00\n",
        "T: 3.01e+01"
       ]
      },
      {
       "output_type": "stream",
       "stream": "stdout",
       "text": [
        " energy: 9.19e-03 best: 0.00e+00\n",
        "T: 3.00e+01"
       ]
      },
      {
       "output_type": "stream",
       "stream": "stdout",
       "text": [
        " energy: 9.36e-03 best: 0.00e+00\n",
        "T: 2.98e+01"
       ]
      },
      {
       "output_type": "stream",
       "stream": "stdout",
       "text": [
        " energy: 1.31e-02 best: 0.00e+00\n",
        "T: 2.97e+01"
       ]
      },
      {
       "output_type": "stream",
       "stream": "stdout",
       "text": [
        " energy: 1.33e-02 best: 0.00e+00\n",
        "T: 2.95e+01"
       ]
      },
      {
       "output_type": "stream",
       "stream": "stdout",
       "text": [
        " energy: 8.38e-03 best: 0.00e+00\n",
        "T: 2.94e+01"
       ]
      },
      {
       "output_type": "stream",
       "stream": "stdout",
       "text": [
        " energy: 7.77e-03 best: 0.00e+00\n",
        "T: 2.92e+01"
       ]
      },
      {
       "output_type": "stream",
       "stream": "stdout",
       "text": [
        " energy: 5.06e-03 best: 0.00e+00\n",
        "T: 2.91e+01"
       ]
      },
      {
       "output_type": "stream",
       "stream": "stdout",
       "text": [
        " energy: 9.92e-03 best: 0.00e+00\n",
        "T: 2.90e+01"
       ]
      },
      {
       "output_type": "stream",
       "stream": "stdout",
       "text": [
        " energy: 1.42e-02 best: 0.00e+00\n",
        "T: 2.88e+01"
       ]
      },
      {
       "output_type": "stream",
       "stream": "stdout",
       "text": [
        " energy: 8.09e-03 best: 0.00e+00\n",
        "T: 2.87e+01"
       ]
      },
      {
       "output_type": "stream",
       "stream": "stdout",
       "text": [
        " energy: 8.86e-03 best: 0.00e+00\n",
        "T: 2.85e+01"
       ]
      },
      {
       "output_type": "stream",
       "stream": "stdout",
       "text": [
        " energy: 1.45e-02 best: 0.00e+00\n",
        "T: 2.84e+01"
       ]
      },
      {
       "output_type": "stream",
       "stream": "stdout",
       "text": [
        " energy: 1.30e-02 best: 0.00e+00\n",
        "T: 2.82e+01"
       ]
      },
      {
       "output_type": "stream",
       "stream": "stdout",
       "text": [
        " energy: 1.12e-02 best: 0.00e+00\n",
        "T: 2.81e+01"
       ]
      },
      {
       "output_type": "stream",
       "stream": "stdout",
       "text": [
        " energy: 6.19e-03 best: 0.00e+00\n",
        "T: 2.80e+01"
       ]
      },
      {
       "output_type": "stream",
       "stream": "stdout",
       "text": [
        " energy: 6.17e-03 best: 0.00e+00\n",
        "T: 2.78e+01"
       ]
      },
      {
       "output_type": "stream",
       "stream": "stdout",
       "text": [
        " energy: 3.42e-03 best: 0.00e+00\n",
        "T: 2.77e+01"
       ]
      },
      {
       "output_type": "stream",
       "stream": "stdout",
       "text": [
        " energy: 5.59e-03 best: 0.00e+00\n",
        "T: 2.75e+01"
       ]
      },
      {
       "output_type": "stream",
       "stream": "stdout",
       "text": [
        " energy: 4.21e-03 best: 0.00e+00\n",
        "T: 2.74e+01"
       ]
      },
      {
       "output_type": "stream",
       "stream": "stdout",
       "text": [
        " energy: 4.65e-03 best: 0.00e+00\n",
        "T: 2.73e+01"
       ]
      },
      {
       "output_type": "stream",
       "stream": "stdout",
       "text": [
        " energy: 4.45e-03 best: 0.00e+00\n",
        "T: 2.71e+01"
       ]
      },
      {
       "output_type": "stream",
       "stream": "stdout",
       "text": [
        " energy: 2.50e-03 best: 0.00e+00\n",
        "T: 2.70e+01"
       ]
      },
      {
       "output_type": "stream",
       "stream": "stdout",
       "text": [
        " energy: 5.11e-03 best: 0.00e+00\n",
        "T: 2.69e+01"
       ]
      },
      {
       "output_type": "stream",
       "stream": "stdout",
       "text": [
        " energy: 8.63e-03 best: 0.00e+00\n",
        "T: 2.67e+01"
       ]
      },
      {
       "output_type": "stream",
       "stream": "stdout",
       "text": [
        " energy: 6.25e-03 best: 0.00e+00\n",
        "T: 2.66e+01"
       ]
      },
      {
       "output_type": "stream",
       "stream": "stdout",
       "text": [
        " energy: 4.04e-03 best: 0.00e+00\n",
        "T: 2.65e+01"
       ]
      },
      {
       "output_type": "stream",
       "stream": "stdout",
       "text": [
        " energy: 6.41e-03 best: 0.00e+00\n",
        "T: 2.63e+01"
       ]
      },
      {
       "output_type": "stream",
       "stream": "stdout",
       "text": [
        " energy: 4.99e-03 best: 0.00e+00\n",
        "T: 2.62e+01"
       ]
      },
      {
       "output_type": "stream",
       "stream": "stdout",
       "text": [
        " energy: 7.00e-03 best: 0.00e+00\n",
        "T: 2.61e+01"
       ]
      },
      {
       "output_type": "stream",
       "stream": "stdout",
       "text": [
        " energy: 8.12e-03 best: 0.00e+00\n",
        "T: 2.59e+01"
       ]
      },
      {
       "output_type": "stream",
       "stream": "stdout",
       "text": [
        " energy: 8.08e-03 best: 0.00e+00\n",
        "T: 2.58e+01"
       ]
      },
      {
       "output_type": "stream",
       "stream": "stdout",
       "text": [
        " energy: 6.90e-03 best: 0.00e+00\n",
        "T: 2.57e+01"
       ]
      },
      {
       "output_type": "stream",
       "stream": "stdout",
       "text": [
        " energy: 7.00e-03 best: 0.00e+00\n",
        "T: 2.55e+01"
       ]
      },
      {
       "output_type": "stream",
       "stream": "stdout",
       "text": [
        " energy: 7.21e-03 best: 0.00e+00\n",
        "T: 2.54e+01"
       ]
      },
      {
       "output_type": "stream",
       "stream": "stdout",
       "text": [
        " energy: 2.67e-03 best: 0.00e+00\n",
        "T: 2.53e+01"
       ]
      },
      {
       "output_type": "stream",
       "stream": "stdout",
       "text": [
        " energy: 3.52e-03 best: -1.12e-03\n",
        "T: 2.52e+01"
       ]
      },
      {
       "output_type": "stream",
       "stream": "stdout",
       "text": [
        " energy: 3.52e-03 best: -1.12e-03\n",
        "T: 2.50e+01"
       ]
      },
      {
       "output_type": "stream",
       "stream": "stdout",
       "text": [
        " energy: 6.66e-03 best: -1.12e-03\n",
        "T: 2.49e+01"
       ]
      },
      {
       "output_type": "stream",
       "stream": "stdout",
       "text": [
        " energy: 5.79e-03 best: -1.12e-03\n",
        "T: 2.48e+01"
       ]
      },
      {
       "output_type": "stream",
       "stream": "stdout",
       "text": [
        " energy: 9.29e-03 best: -1.12e-03\n",
        "T: 2.47e+01"
       ]
      },
      {
       "output_type": "stream",
       "stream": "stdout",
       "text": [
        " energy: 7.95e-03 best: -1.12e-03\n",
        "T: 2.45e+01"
       ]
      },
      {
       "output_type": "stream",
       "stream": "stdout",
       "text": [
        " energy: 9.34e-03 best: -1.12e-03\n",
        "T: 2.44e+01"
       ]
      },
      {
       "output_type": "stream",
       "stream": "stdout",
       "text": [
        " energy: 9.32e-03 best: -1.12e-03\n",
        "T: 2.43e+01"
       ]
      },
      {
       "output_type": "stream",
       "stream": "stdout",
       "text": [
        " energy: 7.63e-03 best: -1.12e-03\n",
        "T: 2.42e+01"
       ]
      },
      {
       "output_type": "stream",
       "stream": "stdout",
       "text": [
        " energy: 6.18e-03 best: -1.12e-03\n",
        "T: 2.41e+01"
       ]
      },
      {
       "output_type": "stream",
       "stream": "stdout",
       "text": [
        " energy: 6.85e-03 best: -1.12e-03\n",
        "T: 2.39e+01"
       ]
      },
      {
       "output_type": "stream",
       "stream": "stdout",
       "text": [
        " energy: 6.33e-03 best: -1.12e-03\n",
        "T: 2.38e+01"
       ]
      },
      {
       "output_type": "stream",
       "stream": "stdout",
       "text": [
        " energy: 6.27e-03 best: -1.12e-03\n",
        "T: 2.37e+01"
       ]
      },
      {
       "output_type": "stream",
       "stream": "stdout",
       "text": [
        " energy: 6.26e-03 best: -1.12e-03\n",
        "T: 2.36e+01"
       ]
      },
      {
       "output_type": "stream",
       "stream": "stdout",
       "text": [
        " energy: 5.33e-03 best: -1.12e-03\n",
        "T: 2.35e+01"
       ]
      },
      {
       "output_type": "stream",
       "stream": "stdout",
       "text": [
        " energy: 2.16e-03 best: -1.12e-03\n",
        "T: 2.33e+01"
       ]
      },
      {
       "output_type": "stream",
       "stream": "stdout",
       "text": [
        " energy: 2.74e-03 best: -1.15e-03\n",
        "T: 2.32e+01"
       ]
      },
      {
       "output_type": "stream",
       "stream": "stdout",
       "text": [
        " energy: 4.40e-03 best: -1.15e-03\n",
        "T: 2.31e+01"
       ]
      },
      {
       "output_type": "stream",
       "stream": "stdout",
       "text": [
        " energy: 4.09e-03 best: -1.15e-03\n",
        "T: 2.30e+01"
       ]
      },
      {
       "output_type": "stream",
       "stream": "stdout",
       "text": [
        " energy: 1.80e-03 best: -1.15e-03\n",
        "T: 2.29e+01"
       ]
      },
      {
       "output_type": "stream",
       "stream": "stdout",
       "text": [
        " energy: 2.32e-03 best: -1.15e-03\n",
        "T: 2.28e+01"
       ]
      },
      {
       "output_type": "stream",
       "stream": "stdout",
       "text": [
        " energy: 3.84e-03 best: -1.15e-03\n",
        "T: 2.26e+01"
       ]
      },
      {
       "output_type": "stream",
       "stream": "stdout",
       "text": [
        " energy: 4.40e-03 best: -1.15e-03\n",
        "T: 2.25e+01"
       ]
      },
      {
       "output_type": "stream",
       "stream": "stdout",
       "text": [
        " energy: 4.20e-03 best: -1.15e-03\n",
        "T: 2.24e+01"
       ]
      },
      {
       "output_type": "stream",
       "stream": "stdout",
       "text": [
        " energy: 7.62e-03 best: -1.15e-03\n",
        "T: 2.23e+01"
       ]
      },
      {
       "output_type": "stream",
       "stream": "stdout",
       "text": [
        " energy: 8.06e-03 best: -1.15e-03\n",
        "T: 2.22e+01"
       ]
      },
      {
       "output_type": "stream",
       "stream": "stdout",
       "text": [
        " energy: 5.21e-03 best: -1.15e-03\n",
        "T: 2.21e+01"
       ]
      },
      {
       "output_type": "stream",
       "stream": "stdout",
       "text": [
        " energy: 6.67e-03 best: -1.15e-03\n",
        "T: 2.20e+01"
       ]
      },
      {
       "output_type": "stream",
       "stream": "stdout",
       "text": [
        " energy: 8.88e-03 best: -1.15e-03\n",
        "T: 2.19e+01"
       ]
      },
      {
       "output_type": "stream",
       "stream": "stdout",
       "text": [
        " energy: 9.41e-03 best: -1.15e-03\n",
        "T: 2.18e+01"
       ]
      },
      {
       "output_type": "stream",
       "stream": "stdout",
       "text": [
        " energy: 7.41e-03 best: -1.15e-03\n",
        "T: 2.16e+01"
       ]
      },
      {
       "output_type": "stream",
       "stream": "stdout",
       "text": [
        " energy: 4.42e-03 best: -1.15e-03\n",
        "T: 2.15e+01"
       ]
      },
      {
       "output_type": "stream",
       "stream": "stdout",
       "text": [
        " energy: 2.95e-03 best: -1.15e-03\n",
        "T: 2.14e+01"
       ]
      },
      {
       "output_type": "stream",
       "stream": "stdout",
       "text": [
        " energy: 4.39e-03 best: -1.15e-03\n",
        "T: 2.13e+01"
       ]
      },
      {
       "output_type": "stream",
       "stream": "stdout",
       "text": [
        " energy: 8.24e-03 best: -1.15e-03\n",
        "T: 2.12e+01"
       ]
      },
      {
       "output_type": "stream",
       "stream": "stdout",
       "text": [
        " energy: 5.35e-03 best: -1.15e-03\n",
        "T: 2.11e+01"
       ]
      },
      {
       "output_type": "stream",
       "stream": "stdout",
       "text": [
        " energy: 7.38e-03 best: -1.15e-03\n",
        "T: 2.10e+01"
       ]
      },
      {
       "output_type": "stream",
       "stream": "stdout",
       "text": [
        " energy: 5.93e-03 best: -1.15e-03\n",
        "T: 2.09e+01"
       ]
      },
      {
       "output_type": "stream",
       "stream": "stdout",
       "text": [
        " energy: 4.39e-03 best: -1.15e-03\n",
        "T: 2.08e+01"
       ]
      },
      {
       "output_type": "stream",
       "stream": "stdout",
       "text": [
        " energy: 7.74e-03 best: -1.15e-03\n",
        "T: 2.07e+01"
       ]
      },
      {
       "output_type": "stream",
       "stream": "stdout",
       "text": [
        " energy: 6.20e-03 best: -1.15e-03\n",
        "T: 2.06e+01"
       ]
      },
      {
       "output_type": "stream",
       "stream": "stdout",
       "text": [
        " energy: 4.34e-03 best: -1.15e-03\n",
        "T: 2.05e+01"
       ]
      },
      {
       "output_type": "stream",
       "stream": "stdout",
       "text": [
        " energy: 6.80e-03 best: -1.15e-03\n",
        "T: 2.04e+01"
       ]
      },
      {
       "output_type": "stream",
       "stream": "stdout",
       "text": [
        " energy: 6.74e-03 best: -1.15e-03\n",
        "T: 2.03e+01"
       ]
      },
      {
       "output_type": "stream",
       "stream": "stdout",
       "text": [
        " energy: 7.70e-03 best: -1.15e-03\n",
        "T: 2.02e+01"
       ]
      },
      {
       "output_type": "stream",
       "stream": "stdout",
       "text": [
        " energy: 7.45e-03 best: -1.15e-03\n",
        "T: 2.01e+01"
       ]
      },
      {
       "output_type": "stream",
       "stream": "stdout",
       "text": [
        " energy: 4.29e-03 best: -1.15e-03\n",
        "T: 2.00e+01"
       ]
      },
      {
       "output_type": "stream",
       "stream": "stdout",
       "text": [
        " energy: 7.20e-03 best: -1.15e-03\n",
        "T: 1.99e+01"
       ]
      },
      {
       "output_type": "stream",
       "stream": "stdout",
       "text": [
        " energy: 5.29e-03 best: -1.15e-03\n",
        "T: 1.98e+01"
       ]
      },
      {
       "output_type": "stream",
       "stream": "stdout",
       "text": [
        " energy: 8.13e-03 best: -1.15e-03\n",
        "T: 1.97e+01"
       ]
      },
      {
       "output_type": "stream",
       "stream": "stdout",
       "text": [
        " energy: 8.43e-03 best: -1.15e-03\n",
        "T: 1.96e+01"
       ]
      },
      {
       "output_type": "stream",
       "stream": "stdout",
       "text": [
        " energy: 7.95e-03 best: -1.15e-03\n",
        "T: 1.95e+01"
       ]
      },
      {
       "output_type": "stream",
       "stream": "stdout",
       "text": [
        " energy: 3.32e-03 best: -1.15e-03\n",
        "T: 1.94e+01"
       ]
      },
      {
       "output_type": "stream",
       "stream": "stdout",
       "text": [
        " energy: 4.80e-03 best: -1.15e-03\n",
        "T: 1.93e+01"
       ]
      },
      {
       "output_type": "stream",
       "stream": "stdout",
       "text": [
        " energy: 6.12e-03 best: -1.15e-03\n",
        "T: 1.92e+01"
       ]
      },
      {
       "output_type": "stream",
       "stream": "stdout",
       "text": [
        " energy: 9.42e-03 best: -1.15e-03\n",
        "T: 1.91e+01"
       ]
      },
      {
       "output_type": "stream",
       "stream": "stdout",
       "text": [
        " energy: 5.93e-03 best: -1.15e-03\n",
        "T: 1.90e+01"
       ]
      },
      {
       "output_type": "stream",
       "stream": "stdout",
       "text": [
        " energy: 7.83e-03 best: -1.15e-03\n",
        "T: 1.89e+01"
       ]
      },
      {
       "output_type": "stream",
       "stream": "stdout",
       "text": [
        " energy: 4.45e-03 best: -1.15e-03\n",
        "T: 1.88e+01"
       ]
      },
      {
       "output_type": "stream",
       "stream": "stdout",
       "text": [
        " energy: 8.31e-03 best: -1.15e-03\n",
        "T: 1.87e+01"
       ]
      },
      {
       "output_type": "stream",
       "stream": "stdout",
       "text": [
        " energy: 5.32e-03 best: -1.15e-03\n",
        "T: 1.86e+01"
       ]
      },
      {
       "output_type": "stream",
       "stream": "stdout",
       "text": [
        " energy: 4.51e-03 best: -1.15e-03\n",
        "T: 1.85e+01"
       ]
      },
      {
       "output_type": "stream",
       "stream": "stdout",
       "text": [
        " energy: 5.72e-03 best: -1.15e-03\n",
        "T: 1.84e+01"
       ]
      },
      {
       "output_type": "stream",
       "stream": "stdout",
       "text": [
        " energy: 5.96e-03 best: -1.15e-03\n",
        "T: 1.83e+01"
       ]
      },
      {
       "output_type": "stream",
       "stream": "stdout",
       "text": [
        " energy: 7.01e-03 best: -1.15e-03\n",
        "T: 1.83e+01"
       ]
      },
      {
       "output_type": "stream",
       "stream": "stdout",
       "text": [
        " energy: 6.81e-03 best: -1.15e-03\n",
        "T: 1.82e+01"
       ]
      },
      {
       "output_type": "stream",
       "stream": "stdout",
       "text": [
        " energy: 1.11e-02 best: -1.15e-03\n",
        "T: 1.81e+01"
       ]
      },
      {
       "output_type": "stream",
       "stream": "stdout",
       "text": [
        " energy: 7.72e-03 best: -1.15e-03\n",
        "T: 1.80e+01"
       ]
      },
      {
       "output_type": "stream",
       "stream": "stdout",
       "text": [
        " energy: 4.61e-03 best: -1.15e-03\n",
        "T: 1.79e+01"
       ]
      },
      {
       "output_type": "stream",
       "stream": "stdout",
       "text": [
        " energy: 4.29e-03 best: -1.15e-03\n",
        "T: 1.78e+01"
       ]
      },
      {
       "output_type": "stream",
       "stream": "stdout",
       "text": [
        " energy: -7.56e-04 best: -1.52e-03\n",
        "T: 1.77e+01"
       ]
      },
      {
       "output_type": "stream",
       "stream": "stdout",
       "text": [
        " energy: 3.51e-03 best: -1.52e-03\n",
        "T: 1.76e+01"
       ]
      },
      {
       "output_type": "stream",
       "stream": "stdout",
       "text": [
        " energy: 2.63e-03 best: -1.52e-03\n",
        "T: 1.75e+01"
       ]
      },
      {
       "output_type": "stream",
       "stream": "stdout",
       "text": [
        " energy: 3.06e-03 best: -1.52e-03\n",
        "T: 1.75e+01"
       ]
      },
      {
       "output_type": "stream",
       "stream": "stdout",
       "text": [
        " energy: 6.33e-03 best: -1.52e-03\n",
        "T: 1.74e+01"
       ]
      },
      {
       "output_type": "stream",
       "stream": "stdout",
       "text": [
        " energy: 1.08e-02 best: -1.52e-03\n",
        "T: 1.73e+01"
       ]
      },
      {
       "output_type": "stream",
       "stream": "stdout",
       "text": [
        " energy: 5.74e-03 best: -1.52e-03\n",
        "T: 1.72e+01"
       ]
      },
      {
       "output_type": "stream",
       "stream": "stdout",
       "text": [
        " energy: 5.91e-03 best: -1.52e-03\n",
        "T: 1.71e+01"
       ]
      },
      {
       "output_type": "stream",
       "stream": "stdout",
       "text": [
        " energy: 3.14e-03 best: -1.52e-03\n",
        "T: 1.70e+01"
       ]
      },
      {
       "output_type": "stream",
       "stream": "stdout",
       "text": [
        " energy: 4.77e-03 best: -1.52e-03\n",
        "T: 1.69e+01"
       ]
      },
      {
       "output_type": "stream",
       "stream": "stdout",
       "text": [
        " energy: 6.09e-03 best: -1.52e-03\n",
        "T: 1.68e+01"
       ]
      },
      {
       "output_type": "stream",
       "stream": "stdout",
       "text": [
        " energy: 6.12e-03 best: -1.52e-03\n",
        "T: 1.68e+01"
       ]
      },
      {
       "output_type": "stream",
       "stream": "stdout",
       "text": [
        " energy: 2.96e-03 best: -1.52e-03\n",
        "T: 1.67e+01"
       ]
      },
      {
       "output_type": "stream",
       "stream": "stdout",
       "text": [
        " energy: 2.92e-03 best: -1.52e-03\n",
        "T: 1.66e+01"
       ]
      },
      {
       "output_type": "stream",
       "stream": "stdout",
       "text": [
        " energy: 6.28e-03 best: -1.52e-03\n",
        "T: 1.65e+01"
       ]
      },
      {
       "output_type": "stream",
       "stream": "stdout",
       "text": [
        " energy: 9.07e-03 best: -1.52e-03\n",
        "T: 1.64e+01"
       ]
      },
      {
       "output_type": "stream",
       "stream": "stdout",
       "text": [
        " energy: 8.86e-03 best: -1.52e-03\n",
        "T: 1.63e+01"
       ]
      },
      {
       "output_type": "stream",
       "stream": "stdout",
       "text": [
        " energy: 8.11e-03 best: -1.52e-03\n",
        "T: 1.63e+01"
       ]
      },
      {
       "output_type": "stream",
       "stream": "stdout",
       "text": [
        " energy: 6.83e-03 best: -1.52e-03\n",
        "T: 1.62e+01"
       ]
      },
      {
       "output_type": "stream",
       "stream": "stdout",
       "text": [
        " energy: 6.66e-03 best: -1.52e-03\n",
        "T: 1.61e+01"
       ]
      },
      {
       "output_type": "stream",
       "stream": "stdout",
       "text": [
        " energy: 8.10e-03 best: -1.52e-03\n",
        "T: 1.60e+01"
       ]
      },
      {
       "output_type": "stream",
       "stream": "stdout",
       "text": [
        " energy: 6.93e-03 best: -1.52e-03\n",
        "T: 1.59e+01"
       ]
      },
      {
       "output_type": "stream",
       "stream": "stdout",
       "text": [
        " energy: 8.50e-03 best: -1.52e-03\n",
        "T: 1.59e+01"
       ]
      },
      {
       "output_type": "stream",
       "stream": "stdout",
       "text": [
        " energy: 1.20e-02 best: -1.52e-03\n",
        "T: 1.58e+01"
       ]
      },
      {
       "output_type": "stream",
       "stream": "stdout",
       "text": [
        " energy: 7.83e-03 best: -1.52e-03\n",
        "T: 1.57e+01"
       ]
      },
      {
       "output_type": "stream",
       "stream": "stdout",
       "text": [
        " energy: 1.03e-02 best: -1.52e-03\n",
        "T: 1.56e+01"
       ]
      },
      {
       "output_type": "stream",
       "stream": "stdout",
       "text": [
        " energy: 5.79e-03 best: -1.52e-03\n",
        "T: 1.56e+01"
       ]
      },
      {
       "output_type": "stream",
       "stream": "stdout",
       "text": [
        " energy: 6.53e-03 best: -1.52e-03\n",
        "T: 1.55e+01"
       ]
      },
      {
       "output_type": "stream",
       "stream": "stdout",
       "text": [
        " energy: 5.05e-03 best: -1.52e-03\n",
        "T: 1.54e+01"
       ]
      },
      {
       "output_type": "stream",
       "stream": "stdout",
       "text": [
        " energy: 7.13e-03 best: -1.52e-03\n",
        "T: 1.53e+01"
       ]
      },
      {
       "output_type": "stream",
       "stream": "stdout",
       "text": [
        " energy: 6.06e-03 best: -1.52e-03\n",
        "T: 1.52e+01"
       ]
      },
      {
       "output_type": "stream",
       "stream": "stdout",
       "text": [
        " energy: 8.66e-03 best: -1.52e-03\n",
        "T: 1.52e+01"
       ]
      },
      {
       "output_type": "stream",
       "stream": "stdout",
       "text": [
        " energy: 6.01e-03 best: -1.52e-03\n",
        "T: 1.51e+01"
       ]
      },
      {
       "output_type": "stream",
       "stream": "stdout",
       "text": [
        " energy: 6.96e-03 best: -1.52e-03\n",
        "T: 1.50e+01"
       ]
      },
      {
       "output_type": "stream",
       "stream": "stdout",
       "text": [
        " energy: 1.06e-02 best: -1.52e-03\n",
        "T: 1.49e+01"
       ]
      },
      {
       "output_type": "stream",
       "stream": "stdout",
       "text": [
        " energy: 7.04e-03 best: -1.52e-03\n",
        "T: 1.49e+01"
       ]
      },
      {
       "output_type": "stream",
       "stream": "stdout",
       "text": [
        " energy: 7.14e-03 best: -1.52e-03\n",
        "T: 1.48e+01"
       ]
      },
      {
       "output_type": "stream",
       "stream": "stdout",
       "text": [
        " energy: 6.28e-03 best: -1.52e-03\n",
        "T: 1.47e+01"
       ]
      },
      {
       "output_type": "stream",
       "stream": "stdout",
       "text": [
        " energy: 5.90e-03 best: -1.52e-03\n",
        "T: 1.46e+01"
       ]
      },
      {
       "output_type": "stream",
       "stream": "stdout",
       "text": [
        " energy: 6.39e-03 best: -1.52e-03\n",
        "T: 1.46e+01"
       ]
      },
      {
       "output_type": "stream",
       "stream": "stdout",
       "text": [
        " energy: 3.82e-03 best: -1.52e-03\n",
        "T: 1.45e+01"
       ]
      },
      {
       "output_type": "stream",
       "stream": "stdout",
       "text": [
        " energy: 6.23e-03 best: -1.52e-03\n",
        "T: 1.44e+01"
       ]
      },
      {
       "output_type": "stream",
       "stream": "stdout",
       "text": [
        " energy: 6.48e-03 best: -1.52e-03\n",
        "T: 1.44e+01"
       ]
      },
      {
       "output_type": "stream",
       "stream": "stdout",
       "text": [
        " energy: 1.04e-02 best: -1.52e-03\n",
        "T: 1.43e+01"
       ]
      },
      {
       "output_type": "stream",
       "stream": "stdout",
       "text": [
        " energy: 6.42e-03 best: -1.52e-03\n",
        "T: 1.42e+01"
       ]
      },
      {
       "output_type": "stream",
       "stream": "stdout",
       "text": [
        " energy: 8.95e-03 best: -1.52e-03\n",
        "T: 1.41e+01"
       ]
      },
      {
       "output_type": "stream",
       "stream": "stdout",
       "text": [
        " energy: 8.61e-03 best: -1.52e-03\n",
        "T: 1.41e+01"
       ]
      },
      {
       "output_type": "stream",
       "stream": "stdout",
       "text": [
        " energy: 4.17e-03 best: -1.52e-03\n",
        "T: 1.40e+01"
       ]
      },
      {
       "output_type": "stream",
       "stream": "stdout",
       "text": [
        " energy: 5.86e-03 best: -1.52e-03\n",
        "T: 1.39e+01"
       ]
      },
      {
       "output_type": "stream",
       "stream": "stdout",
       "text": [
        " energy: 5.66e-03 best: -1.52e-03\n",
        "T: 1.39e+01"
       ]
      },
      {
       "output_type": "stream",
       "stream": "stdout",
       "text": [
        " energy: 4.56e-03 best: -1.52e-03\n",
        "T: 1.38e+01"
       ]
      },
      {
       "output_type": "stream",
       "stream": "stdout",
       "text": [
        " energy: 4.45e-03 best: -1.52e-03\n",
        "T: 1.37e+01"
       ]
      },
      {
       "output_type": "stream",
       "stream": "stdout",
       "text": [
        " energy: 4.59e-03 best: -1.52e-03\n",
        "T: 1.37e+01"
       ]
      },
      {
       "output_type": "stream",
       "stream": "stdout",
       "text": [
        " energy: 4.00e-03 best: -1.52e-03\n",
        "T: 1.36e+01"
       ]
      },
      {
       "output_type": "stream",
       "stream": "stdout",
       "text": [
        " energy: 1.89e-03 best: -1.52e-03\n",
        "T: 1.35e+01"
       ]
      },
      {
       "output_type": "stream",
       "stream": "stdout",
       "text": [
        " energy: 8.17e-03 best: -1.52e-03\n",
        "T: 1.34e+01"
       ]
      },
      {
       "output_type": "stream",
       "stream": "stdout",
       "text": [
        " energy: 5.73e-03 best: -1.52e-03\n",
        "T: 1.34e+01"
       ]
      },
      {
       "output_type": "stream",
       "stream": "stdout",
       "text": [
        " energy: 5.77e-03 best: -1.52e-03\n",
        "T: 1.33e+01"
       ]
      },
      {
       "output_type": "stream",
       "stream": "stdout",
       "text": [
        " energy: 7.79e-03 best: -1.52e-03\n",
        "T: 1.32e+01"
       ]
      },
      {
       "output_type": "stream",
       "stream": "stdout",
       "text": [
        " energy: 7.90e-03 best: -1.52e-03\n",
        "T: 1.32e+01"
       ]
      },
      {
       "output_type": "stream",
       "stream": "stdout",
       "text": [
        " energy: 8.66e-03 best: -1.52e-03\n",
        "T: 1.31e+01"
       ]
      },
      {
       "output_type": "stream",
       "stream": "stdout",
       "text": [
        " energy: 9.41e-03 best: -1.52e-03\n",
        "T: 1.30e+01"
       ]
      },
      {
       "output_type": "stream",
       "stream": "stdout",
       "text": [
        " energy: 9.57e-03 best: -1.52e-03\n",
        "T: 1.30e+01"
       ]
      },
      {
       "output_type": "stream",
       "stream": "stdout",
       "text": [
        " energy: 4.63e-03 best: -1.52e-03\n",
        "T: 1.29e+01"
       ]
      },
      {
       "output_type": "stream",
       "stream": "stdout",
       "text": [
        " energy: 6.51e-03 best: -1.52e-03\n",
        "T: 1.29e+01"
       ]
      },
      {
       "output_type": "stream",
       "stream": "stdout",
       "text": [
        " energy: 9.29e-03 best: -1.52e-03\n",
        "T: 1.28e+01"
       ]
      },
      {
       "output_type": "stream",
       "stream": "stdout",
       "text": [
        " energy: 5.07e-03 best: -1.52e-03\n",
        "T: 1.27e+01"
       ]
      },
      {
       "output_type": "stream",
       "stream": "stdout",
       "text": [
        " energy: 3.78e-03 best: -1.52e-03\n",
        "T: 1.27e+01"
       ]
      },
      {
       "output_type": "stream",
       "stream": "stdout",
       "text": [
        " energy: 6.54e-03 best: -1.52e-03\n",
        "T: 1.26e+01"
       ]
      },
      {
       "output_type": "stream",
       "stream": "stdout",
       "text": [
        " energy: 6.42e-03 best: -1.52e-03\n",
        "T: 1.25e+01"
       ]
      },
      {
       "output_type": "stream",
       "stream": "stdout",
       "text": [
        " energy: 6.94e-03 best: -1.52e-03\n",
        "T: 1.25e+01"
       ]
      },
      {
       "output_type": "stream",
       "stream": "stdout",
       "text": [
        " energy: 7.67e-03 best: -1.52e-03\n",
        "T: 1.24e+01"
       ]
      },
      {
       "output_type": "stream",
       "stream": "stdout",
       "text": [
        " energy: 7.92e-03 best: -1.52e-03\n",
        "T: 1.23e+01"
       ]
      },
      {
       "output_type": "stream",
       "stream": "stdout",
       "text": [
        " energy: 6.05e-03 best: -1.52e-03\n",
        "T: 1.23e+01"
       ]
      },
      {
       "output_type": "stream",
       "stream": "stdout",
       "text": [
        " energy: 2.82e-03 best: -1.52e-03\n",
        "T: 1.22e+01"
       ]
      },
      {
       "output_type": "stream",
       "stream": "stdout",
       "text": [
        " energy: 8.72e-03 best: -1.52e-03\n",
        "T: 1.22e+01"
       ]
      },
      {
       "output_type": "stream",
       "stream": "stdout",
       "text": [
        " energy: 7.05e-03 best: -1.52e-03\n",
        "T: 1.21e+01"
       ]
      },
      {
       "output_type": "stream",
       "stream": "stdout",
       "text": [
        " energy: 7.22e-03 best: -1.52e-03\n",
        "T: 1.20e+01"
       ]
      },
      {
       "output_type": "stream",
       "stream": "stdout",
       "text": [
        " energy: 5.78e-03 best: -1.52e-03\n",
        "T: 1.20e+01"
       ]
      },
      {
       "output_type": "stream",
       "stream": "stdout",
       "text": [
        " energy: 6.78e-03 best: -1.52e-03\n",
        "T: 1.19e+01"
       ]
      },
      {
       "output_type": "stream",
       "stream": "stdout",
       "text": [
        " energy: 5.35e-03 best: -1.52e-03\n",
        "T: 1.19e+01"
       ]
      },
      {
       "output_type": "stream",
       "stream": "stdout",
       "text": [
        " energy: 8.66e-03 best: -1.52e-03\n",
        "T: 1.18e+01"
       ]
      },
      {
       "output_type": "stream",
       "stream": "stdout",
       "text": [
        " energy: 8.57e-03 best: -1.52e-03\n",
        "T: 1.17e+01"
       ]
      },
      {
       "output_type": "stream",
       "stream": "stdout",
       "text": [
        " energy: 6.16e-03 best: -1.52e-03\n",
        "T: 1.17e+01"
       ]
      },
      {
       "output_type": "stream",
       "stream": "stdout",
       "text": [
        " energy: 7.79e-03 best: -1.52e-03\n",
        "T: 1.16e+01"
       ]
      },
      {
       "output_type": "stream",
       "stream": "stdout",
       "text": [
        " energy: 7.40e-03 best: -1.52e-03\n",
        "T: 1.16e+01"
       ]
      },
      {
       "output_type": "stream",
       "stream": "stdout",
       "text": [
        " energy: 5.60e-03 best: -1.52e-03\n",
        "T: 1.15e+01"
       ]
      },
      {
       "output_type": "stream",
       "stream": "stdout",
       "text": [
        " energy: 4.00e-03 best: -1.52e-03\n",
        "T: 1.15e+01"
       ]
      },
      {
       "output_type": "stream",
       "stream": "stdout",
       "text": [
        " energy: 5.60e-03 best: -1.52e-03\n",
        "T: 1.14e+01"
       ]
      },
      {
       "output_type": "stream",
       "stream": "stdout",
       "text": [
        " energy: 9.74e-03 best: -1.52e-03\n",
        "T: 1.13e+01"
       ]
      },
      {
       "output_type": "stream",
       "stream": "stdout",
       "text": [
        " energy: 7.70e-03 best: -1.52e-03\n",
        "T: 1.13e+01"
       ]
      },
      {
       "output_type": "stream",
       "stream": "stdout",
       "text": [
        " energy: 5.89e-03 best: -1.52e-03\n",
        "T: 1.12e+01"
       ]
      },
      {
       "output_type": "stream",
       "stream": "stdout",
       "text": [
        " energy: 1.04e-02 best: -1.52e-03\n",
        "T: 1.12e+01"
       ]
      },
      {
       "output_type": "stream",
       "stream": "stdout",
       "text": [
        " energy: 1.08e-02 best: -1.52e-03\n",
        "T: 1.11e+01"
       ]
      },
      {
       "output_type": "stream",
       "stream": "stdout",
       "text": [
        " energy: 1.15e-02 best: -1.52e-03\n",
        "T: 1.11e+01"
       ]
      },
      {
       "output_type": "stream",
       "stream": "stdout",
       "text": [
        " energy: 9.31e-03 best: -1.52e-03\n",
        "T: 1.10e+01"
       ]
      },
      {
       "output_type": "stream",
       "stream": "stdout",
       "text": [
        " energy: 1.23e-02 best: -1.52e-03\n",
        "T: 1.09e+01"
       ]
      },
      {
       "output_type": "stream",
       "stream": "stdout",
       "text": [
        " energy: 1.04e-02 best: -1.52e-03\n",
        "T: 1.09e+01"
       ]
      },
      {
       "output_type": "stream",
       "stream": "stdout",
       "text": [
        " energy: 8.55e-03 best: -1.52e-03\n",
        "T: 1.08e+01"
       ]
      },
      {
       "output_type": "stream",
       "stream": "stdout",
       "text": [
        " energy: 7.99e-03 best: -1.52e-03\n",
        "T: 1.08e+01"
       ]
      },
      {
       "output_type": "stream",
       "stream": "stdout",
       "text": [
        " energy: 1.05e-02 best: -1.52e-03\n",
        "T: 1.07e+01"
       ]
      },
      {
       "output_type": "stream",
       "stream": "stdout",
       "text": [
        " energy: 1.02e-02 best: -1.52e-03\n",
        "T: 1.07e+01"
       ]
      },
      {
       "output_type": "stream",
       "stream": "stdout",
       "text": [
        " energy: 1.08e-02 best: -1.52e-03\n",
        "T: 1.06e+01"
       ]
      },
      {
       "output_type": "stream",
       "stream": "stdout",
       "text": [
        " energy: 9.85e-03 best: -1.52e-03\n",
        "T: 1.06e+01"
       ]
      },
      {
       "output_type": "stream",
       "stream": "stdout",
       "text": [
        " energy: 1.01e-02 best: -1.52e-03\n",
        "T: 1.05e+01"
       ]
      },
      {
       "output_type": "stream",
       "stream": "stdout",
       "text": [
        " energy: 9.55e-03 best: -1.52e-03\n",
        "T: 1.05e+01"
       ]
      },
      {
       "output_type": "stream",
       "stream": "stdout",
       "text": [
        " energy: 6.66e-03 best: -1.52e-03\n",
        "T: 1.04e+01"
       ]
      },
      {
       "output_type": "stream",
       "stream": "stdout",
       "text": [
        " energy: 8.26e-03 best: -1.52e-03\n",
        "T: 1.04e+01"
       ]
      },
      {
       "output_type": "stream",
       "stream": "stdout",
       "text": [
        " energy: 3.46e-03 best: -1.52e-03\n",
        "T: 1.03e+01"
       ]
      },
      {
       "output_type": "stream",
       "stream": "stdout",
       "text": [
        " energy: 4.69e-03 best: -1.52e-03\n",
        "T: 1.03e+01"
       ]
      },
      {
       "output_type": "stream",
       "stream": "stdout",
       "text": [
        " energy: 5.50e-03 best: -1.52e-03\n",
        "T: 1.02e+01"
       ]
      },
      {
       "output_type": "stream",
       "stream": "stdout",
       "text": [
        " energy: 4.91e-03 best: -1.52e-03\n",
        "T: 1.02e+01"
       ]
      },
      {
       "output_type": "stream",
       "stream": "stdout",
       "text": [
        " energy: 5.94e-03 best: -1.52e-03\n",
        "T: 1.01e+01"
       ]
      },
      {
       "output_type": "stream",
       "stream": "stdout",
       "text": [
        " energy: 3.68e-03 best: -1.52e-03\n",
        "T: 1.01e+01"
       ]
      },
      {
       "output_type": "stream",
       "stream": "stdout",
       "text": [
        " energy: 4.98e-03 best: -1.52e-03\n",
        "T: 1.00e+01"
       ]
      },
      {
       "output_type": "stream",
       "stream": "stdout",
       "text": [
        " energy: 3.06e-03 best: -1.52e-03\n",
        "T: 9.95e+00"
       ]
      },
      {
       "output_type": "stream",
       "stream": "stdout",
       "text": [
        " energy: 4.11e-03 best: -1.52e-03\n",
        "T: 9.90e+00"
       ]
      },
      {
       "output_type": "stream",
       "stream": "stdout",
       "text": [
        " energy: 5.73e-03 best: -1.52e-03\n",
        "T: 9.85e+00"
       ]
      },
      {
       "output_type": "stream",
       "stream": "stdout",
       "text": [
        " energy: 8.81e-03 best: -1.52e-03\n",
        "T: 9.81e+00"
       ]
      },
      {
       "output_type": "stream",
       "stream": "stdout",
       "text": [
        " energy: 6.13e-03 best: -1.52e-03\n",
        "T: 9.76e+00"
       ]
      },
      {
       "output_type": "stream",
       "stream": "stdout",
       "text": [
        " energy: 6.48e-03 best: -1.52e-03\n",
        "T: 9.71e+00"
       ]
      },
      {
       "output_type": "stream",
       "stream": "stdout",
       "text": [
        " energy: 7.17e-03 best: -1.52e-03\n",
        "T: 9.66e+00"
       ]
      },
      {
       "output_type": "stream",
       "stream": "stdout",
       "text": [
        " energy: 8.26e-03 best: -1.52e-03\n",
        "T: 9.61e+00"
       ]
      },
      {
       "output_type": "stream",
       "stream": "stdout",
       "text": [
        " energy: 6.68e-03 best: -1.52e-03\n",
        "T: 9.56e+00"
       ]
      },
      {
       "output_type": "stream",
       "stream": "stdout",
       "text": [
        " energy: 7.32e-03 best: -1.52e-03\n",
        "T: 9.52e+00"
       ]
      },
      {
       "output_type": "stream",
       "stream": "stdout",
       "text": [
        " energy: 9.43e-03 best: -1.52e-03\n",
        "T: 9.47e+00"
       ]
      },
      {
       "output_type": "stream",
       "stream": "stdout",
       "text": [
        " energy: 8.80e-03 best: -1.52e-03\n",
        "T: 9.42e+00"
       ]
      },
      {
       "output_type": "stream",
       "stream": "stdout",
       "text": [
        " energy: 6.88e-03 best: -1.52e-03\n",
        "T: 9.37e+00"
       ]
      },
      {
       "output_type": "stream",
       "stream": "stdout",
       "text": [
        " energy: 8.36e-03 best: -1.52e-03\n",
        "T: 9.33e+00"
       ]
      },
      {
       "output_type": "stream",
       "stream": "stdout",
       "text": [
        " energy: 6.96e-03 best: -1.52e-03\n",
        "T: 9.28e+00"
       ]
      },
      {
       "output_type": "stream",
       "stream": "stdout",
       "text": [
        " energy: 6.62e-03 best: -1.52e-03\n",
        "T: 9.23e+00"
       ]
      },
      {
       "output_type": "stream",
       "stream": "stdout",
       "text": [
        " energy: 6.43e-03 best: -1.52e-03\n",
        "T: 9.19e+00"
       ]
      },
      {
       "output_type": "stream",
       "stream": "stdout",
       "text": [
        " energy: 7.41e-03 best: -1.52e-03\n",
        "T: 9.14e+00"
       ]
      },
      {
       "output_type": "stream",
       "stream": "stdout",
       "text": [
        " energy: 7.85e-03 best: -1.52e-03\n",
        "T: 9.10e+00"
       ]
      },
      {
       "output_type": "stream",
       "stream": "stdout",
       "text": [
        " energy: 8.84e-03 best: -1.52e-03\n",
        "T: 9.05e+00"
       ]
      },
      {
       "output_type": "stream",
       "stream": "stdout",
       "text": [
        " energy: 7.81e-03 best: -1.52e-03\n",
        "T: 9.00e+00"
       ]
      },
      {
       "output_type": "stream",
       "stream": "stdout",
       "text": [
        " energy: 5.61e-03 best: -1.52e-03\n",
        "T: 8.96e+00"
       ]
      },
      {
       "output_type": "stream",
       "stream": "stdout",
       "text": [
        " energy: 7.30e-03 best: -1.52e-03\n",
        "T: 8.91e+00"
       ]
      },
      {
       "output_type": "stream",
       "stream": "stdout",
       "text": [
        " energy: 6.69e-03 best: -1.52e-03\n",
        "T: 8.87e+00"
       ]
      },
      {
       "output_type": "stream",
       "stream": "stdout",
       "text": [
        " energy: 5.52e-03 best: -1.52e-03\n",
        "T: 8.83e+00"
       ]
      },
      {
       "output_type": "stream",
       "stream": "stdout",
       "text": [
        " energy: 6.87e-03 best: -1.52e-03\n",
        "T: 8.78e+00"
       ]
      },
      {
       "output_type": "stream",
       "stream": "stdout",
       "text": [
        " energy: 9.06e-03 best: -1.52e-03\n",
        "T: 8.74e+00"
       ]
      },
      {
       "output_type": "stream",
       "stream": "stdout",
       "text": [
        " energy: 3.36e-03 best: -1.52e-03\n",
        "T: 8.69e+00"
       ]
      },
      {
       "output_type": "stream",
       "stream": "stdout",
       "text": [
        " energy: 8.19e-03 best: -1.52e-03\n",
        "T: 8.65e+00"
       ]
      },
      {
       "output_type": "stream",
       "stream": "stdout",
       "text": [
        " energy: 8.08e-03 best: -1.52e-03\n",
        "T: 8.61e+00"
       ]
      },
      {
       "output_type": "stream",
       "stream": "stdout",
       "text": [
        " energy: 4.80e-03 best: -1.52e-03\n",
        "T: 8.56e+00"
       ]
      },
      {
       "output_type": "stream",
       "stream": "stdout",
       "text": [
        " energy: 7.97e-03 best: -1.52e-03\n",
        "T: 8.52e+00"
       ]
      },
      {
       "output_type": "stream",
       "stream": "stdout",
       "text": [
        " energy: 4.70e-03 best: -1.52e-03\n",
        "T: 8.48e+00"
       ]
      },
      {
       "output_type": "stream",
       "stream": "stdout",
       "text": [
        " energy: 4.85e-03 best: -1.52e-03\n",
        "T: 8.44e+00"
       ]
      },
      {
       "output_type": "stream",
       "stream": "stdout",
       "text": [
        " energy: 4.22e-03 best: -1.52e-03\n",
        "T: 8.39e+00"
       ]
      },
      {
       "output_type": "stream",
       "stream": "stdout",
       "text": [
        " energy: 6.42e-03 best: -1.52e-03\n",
        "T: 8.35e+00"
       ]
      },
      {
       "output_type": "stream",
       "stream": "stdout",
       "text": [
        " energy: 5.56e-03 best: -1.52e-03\n",
        "T: 8.31e+00"
       ]
      },
      {
       "output_type": "stream",
       "stream": "stdout",
       "text": [
        " energy: 7.55e-03 best: -1.52e-03\n",
        "T: 8.27e+00"
       ]
      },
      {
       "output_type": "stream",
       "stream": "stdout",
       "text": [
        " energy: 4.75e-03 best: -1.52e-03\n",
        "T: 8.23e+00"
       ]
      },
      {
       "output_type": "stream",
       "stream": "stdout",
       "text": [
        " energy: 7.52e-03 best: -1.52e-03\n",
        "T: 8.19e+00"
       ]
      },
      {
       "output_type": "stream",
       "stream": "stdout",
       "text": [
        " energy: 9.19e-03 best: -1.52e-03\n",
        "T: 8.15e+00"
       ]
      },
      {
       "output_type": "stream",
       "stream": "stdout",
       "text": [
        " energy: 4.26e-03 best: -1.52e-03\n",
        "T: 8.10e+00"
       ]
      },
      {
       "output_type": "stream",
       "stream": "stdout",
       "text": [
        " energy: 3.85e-03 best: -1.52e-03\n",
        "T: 8.06e+00"
       ]
      },
      {
       "output_type": "stream",
       "stream": "stdout",
       "text": [
        " energy: 5.75e-03 best: -1.52e-03\n",
        "T: 8.02e+00"
       ]
      },
      {
       "output_type": "stream",
       "stream": "stdout",
       "text": [
        " energy: 6.30e-03 best: -1.52e-03\n",
        "T: 7.98e+00"
       ]
      },
      {
       "output_type": "stream",
       "stream": "stdout",
       "text": [
        " energy: 8.13e-03 best: -1.52e-03\n",
        "T: 7.94e+00"
       ]
      },
      {
       "output_type": "stream",
       "stream": "stdout",
       "text": [
        " energy: 8.33e-03 best: -1.52e-03\n",
        "T: 7.90e+00"
       ]
      },
      {
       "output_type": "stream",
       "stream": "stdout",
       "text": [
        " energy: 8.87e-03 best: -1.52e-03\n",
        "T: 7.86e+00"
       ]
      },
      {
       "output_type": "stream",
       "stream": "stdout",
       "text": [
        " energy: 4.11e-03 best: -1.52e-03\n",
        "T: 7.83e+00"
       ]
      },
      {
       "output_type": "stream",
       "stream": "stdout",
       "text": [
        " energy: 8.41e-03 best: -1.52e-03\n",
        "T: 7.79e+00"
       ]
      },
      {
       "output_type": "stream",
       "stream": "stdout",
       "text": [
        " energy: 6.80e-03 best: -1.52e-03\n",
        "T: 7.75e+00"
       ]
      },
      {
       "output_type": "stream",
       "stream": "stdout",
       "text": [
        " energy: 4.31e-03 best: -1.52e-03\n",
        "T: 7.71e+00"
       ]
      },
      {
       "output_type": "stream",
       "stream": "stdout",
       "text": [
        " energy: 4.36e-03 best: -1.52e-03\n",
        "T: 7.67e+00"
       ]
      },
      {
       "output_type": "stream",
       "stream": "stdout",
       "text": [
        " energy: 4.89e-03 best: -1.52e-03\n",
        "T: 7.63e+00"
       ]
      },
      {
       "output_type": "stream",
       "stream": "stdout",
       "text": [
        " energy: 6.50e-03 best: -1.52e-03\n",
        "T: 7.59e+00"
       ]
      },
      {
       "output_type": "stream",
       "stream": "stdout",
       "text": [
        " energy: 2.85e-03 best: -1.52e-03\n",
        "T: 7.56e+00"
       ]
      },
      {
       "output_type": "stream",
       "stream": "stdout",
       "text": [
        " energy: -4.74e-04 best: -1.52e-03\n",
        "T: 7.52e+00"
       ]
      },
      {
       "output_type": "stream",
       "stream": "stdout",
       "text": [
        " energy: -1.95e-04 best: -1.52e-03\n",
        "T: 7.48e+00"
       ]
      },
      {
       "output_type": "stream",
       "stream": "stdout",
       "text": [
        " energy: 2.81e-03 best: -1.52e-03\n",
        "T: 7.44e+00"
       ]
      },
      {
       "output_type": "stream",
       "stream": "stdout",
       "text": [
        " energy: 2.44e-03 best: -1.52e-03\n",
        "T: 7.41e+00"
       ]
      },
      {
       "output_type": "stream",
       "stream": "stdout",
       "text": [
        " energy: 1.65e-03 best: -1.52e-03\n",
        "T: 7.37e+00"
       ]
      },
      {
       "output_type": "stream",
       "stream": "stdout",
       "text": [
        " energy: 4.55e-03 best: -1.52e-03\n",
        "T: 7.33e+00"
       ]
      },
      {
       "output_type": "stream",
       "stream": "stdout",
       "text": [
        " energy: 3.32e-03 best: -1.52e-03\n",
        "T: 7.30e+00"
       ]
      },
      {
       "output_type": "stream",
       "stream": "stdout",
       "text": [
        " energy: 1.85e-03 best: -1.52e-03\n",
        "T: 7.26e+00"
       ]
      },
      {
       "output_type": "stream",
       "stream": "stdout",
       "text": [
        " energy: 5.73e-03 best: -1.52e-03\n",
        "T: 7.22e+00"
       ]
      },
      {
       "output_type": "stream",
       "stream": "stdout",
       "text": [
        " energy: 5.67e-03 best: -1.52e-03\n",
        "T: 7.19e+00"
       ]
      },
      {
       "output_type": "stream",
       "stream": "stdout",
       "text": [
        " energy: 2.18e-03 best: -1.52e-03\n",
        "T: 7.15e+00"
       ]
      },
      {
       "output_type": "stream",
       "stream": "stdout",
       "text": [
        " energy: 3.68e-03 best: -1.52e-03\n",
        "T: 7.11e+00"
       ]
      },
      {
       "output_type": "stream",
       "stream": "stdout",
       "text": [
        " energy: 5.13e-03 best: -1.52e-03\n",
        "T: 7.08e+00"
       ]
      },
      {
       "output_type": "stream",
       "stream": "stdout",
       "text": [
        " energy: 7.26e-03 best: -1.52e-03\n",
        "T: 7.04e+00"
       ]
      },
      {
       "output_type": "stream",
       "stream": "stdout",
       "text": [
        " energy: 4.15e-03 best: -1.52e-03\n",
        "T: 7.01e+00"
       ]
      },
      {
       "output_type": "stream",
       "stream": "stdout",
       "text": [
        " energy: 5.07e-03 best: -1.52e-03\n",
        "T: 6.97e+00"
       ]
      },
      {
       "output_type": "stream",
       "stream": "stdout",
       "text": [
        " energy: 4.55e-03 best: -1.52e-03\n",
        "T: 6.94e+00"
       ]
      },
      {
       "output_type": "stream",
       "stream": "stdout",
       "text": [
        " energy: 3.61e-03 best: -1.52e-03\n",
        "T: 6.90e+00"
       ]
      },
      {
       "output_type": "stream",
       "stream": "stdout",
       "text": [
        " energy: 5.95e-03 best: -1.52e-03\n",
        "T: 6.87e+00"
       ]
      },
      {
       "output_type": "stream",
       "stream": "stdout",
       "text": [
        " energy: 1.27e-03 best: -1.52e-03\n",
        "T: 6.83e+00"
       ]
      },
      {
       "output_type": "stream",
       "stream": "stdout",
       "text": [
        " energy: 5.70e-03 best: -1.52e-03\n",
        "T: 6.80e+00"
       ]
      },
      {
       "output_type": "stream",
       "stream": "stdout",
       "text": [
        " energy: 7.05e-03 best: -1.52e-03\n",
        "T: 6.77e+00"
       ]
      },
      {
       "output_type": "stream",
       "stream": "stdout",
       "text": [
        " energy: 9.14e-03 best: -1.52e-03\n",
        "T: 6.73e+00"
       ]
      },
      {
       "output_type": "stream",
       "stream": "stdout",
       "text": [
        " energy: 7.05e-03 best: -1.52e-03\n",
        "T: 6.70e+00"
       ]
      },
      {
       "output_type": "stream",
       "stream": "stdout",
       "text": [
        " energy: 6.75e-03 best: -1.52e-03\n",
        "T: 6.67e+00"
       ]
      },
      {
       "output_type": "stream",
       "stream": "stdout",
       "text": [
        " energy: 8.84e-03 best: -1.52e-03\n",
        "T: 6.63e+00"
       ]
      },
      {
       "output_type": "stream",
       "stream": "stdout",
       "text": [
        " energy: 8.95e-03 best: -1.52e-03\n",
        "T: 6.60e+00"
       ]
      },
      {
       "output_type": "stream",
       "stream": "stdout",
       "text": [
        " energy: 1.01e-02 best: -1.52e-03\n",
        "T: 6.57e+00"
       ]
      },
      {
       "output_type": "stream",
       "stream": "stdout",
       "text": [
        " energy: 9.16e-03 best: -1.52e-03\n",
        "T: 6.53e+00"
       ]
      },
      {
       "output_type": "stream",
       "stream": "stdout",
       "text": [
        " energy: 7.10e-03 best: -1.52e-03\n",
        "T: 6.50e+00"
       ]
      },
      {
       "output_type": "stream",
       "stream": "stdout",
       "text": [
        " energy: 4.29e-03 best: -1.52e-03\n",
        "T: 6.47e+00"
       ]
      },
      {
       "output_type": "stream",
       "stream": "stdout",
       "text": [
        " energy: 6.49e-03 best: -1.52e-03\n",
        "T: 6.44e+00"
       ]
      },
      {
       "output_type": "stream",
       "stream": "stdout",
       "text": [
        " energy: 4.80e-03 best: -1.52e-03\n",
        "T: 6.40e+00"
       ]
      },
      {
       "output_type": "stream",
       "stream": "stdout",
       "text": [
        " energy: 5.71e-03 best: -1.52e-03\n",
        "T: 6.37e+00"
       ]
      },
      {
       "output_type": "stream",
       "stream": "stdout",
       "text": [
        " energy: 4.18e-03 best: -1.52e-03\n",
        "T: 6.34e+00"
       ]
      },
      {
       "output_type": "stream",
       "stream": "stdout",
       "text": [
        " energy: 4.64e-03 best: -1.52e-03\n",
        "T: 6.31e+00"
       ]
      },
      {
       "output_type": "stream",
       "stream": "stdout",
       "text": [
        " energy: 6.53e-03 best: -1.52e-03\n",
        "T: 6.28e+00"
       ]
      },
      {
       "output_type": "stream",
       "stream": "stdout",
       "text": [
        " energy: 5.06e-03 best: -1.52e-03\n",
        "T: 6.25e+00"
       ]
      },
      {
       "output_type": "stream",
       "stream": "stdout",
       "text": [
        " energy: 6.63e-03 best: -1.52e-03\n",
        "T: 6.21e+00"
       ]
      },
      {
       "output_type": "stream",
       "stream": "stdout",
       "text": [
        " energy: 9.38e-03 best: -1.52e-03\n",
        "T: 6.18e+00"
       ]
      },
      {
       "output_type": "stream",
       "stream": "stdout",
       "text": [
        " energy: 7.05e-03 best: -1.52e-03\n",
        "T: 6.15e+00"
       ]
      },
      {
       "output_type": "stream",
       "stream": "stdout",
       "text": [
        " energy: 7.98e-03 best: -1.52e-03\n",
        "T: 6.12e+00"
       ]
      },
      {
       "output_type": "stream",
       "stream": "stdout",
       "text": [
        " energy: 5.00e-03 best: -1.52e-03\n",
        "T: 6.09e+00"
       ]
      },
      {
       "output_type": "stream",
       "stream": "stdout",
       "text": [
        " energy: 5.60e-03 best: -1.52e-03\n",
        "T: 6.06e+00"
       ]
      },
      {
       "output_type": "stream",
       "stream": "stdout",
       "text": [
        " energy: 7.65e-03 best: -1.52e-03\n",
        "T: 6.03e+00"
       ]
      },
      {
       "output_type": "stream",
       "stream": "stdout",
       "text": [
        " energy: 5.97e-03 best: -1.52e-03\n",
        "T: 6.00e+00"
       ]
      },
      {
       "output_type": "stream",
       "stream": "stdout",
       "text": [
        " energy: 8.23e-03 best: -1.52e-03\n",
        "T: 5.97e+00"
       ]
      },
      {
       "output_type": "stream",
       "stream": "stdout",
       "text": [
        " energy: 7.23e-03 best: -1.52e-03\n",
        "T: 5.94e+00"
       ]
      },
      {
       "output_type": "stream",
       "stream": "stdout",
       "text": [
        " energy: 7.96e-03 best: -1.52e-03\n",
        "T: 5.91e+00"
       ]
      },
      {
       "output_type": "stream",
       "stream": "stdout",
       "text": [
        " energy: 8.42e-03 best: -1.52e-03\n",
        "T: 5.88e+00"
       ]
      },
      {
       "output_type": "stream",
       "stream": "stdout",
       "text": [
        " energy: 9.68e-03 best: -1.52e-03\n",
        "T: 5.85e+00"
       ]
      },
      {
       "output_type": "stream",
       "stream": "stdout",
       "text": [
        " energy: 8.43e-03 best: -1.52e-03\n",
        "T: 5.82e+00"
       ]
      },
      {
       "output_type": "stream",
       "stream": "stdout",
       "text": [
        " energy: 9.97e-03 best: -1.52e-03\n",
        "T: 5.79e+00"
       ]
      },
      {
       "output_type": "stream",
       "stream": "stdout",
       "text": [
        " energy: 1.02e-02 best: -1.52e-03\n",
        "T: 5.76e+00"
       ]
      },
      {
       "output_type": "stream",
       "stream": "stdout",
       "text": [
        " energy: 8.78e-03 best: -1.52e-03\n",
        "T: 5.74e+00"
       ]
      },
      {
       "output_type": "stream",
       "stream": "stdout",
       "text": [
        " energy: 6.04e-03 best: -1.52e-03\n",
        "T: 5.71e+00"
       ]
      },
      {
       "output_type": "stream",
       "stream": "stdout",
       "text": [
        " energy: 2.79e-03 best: -1.52e-03\n",
        "T: 5.68e+00"
       ]
      },
      {
       "output_type": "stream",
       "stream": "stdout",
       "text": [
        " energy: 6.88e-03 best: -1.52e-03\n",
        "T: 5.65e+00"
       ]
      },
      {
       "output_type": "stream",
       "stream": "stdout",
       "text": [
        " energy: 8.87e-03 best: -1.52e-03\n",
        "T: 5.62e+00"
       ]
      },
      {
       "output_type": "stream",
       "stream": "stdout",
       "text": [
        " energy: 6.30e-03 best: -1.52e-03\n",
        "T: 5.59e+00"
       ]
      },
      {
       "output_type": "stream",
       "stream": "stdout",
       "text": [
        " energy: 9.01e-03 best: -1.52e-03\n",
        "T: 5.57e+00"
       ]
      },
      {
       "output_type": "stream",
       "stream": "stdout",
       "text": [
        " energy: 7.51e-03 best: -1.52e-03\n",
        "T: 5.54e+00"
       ]
      },
      {
       "output_type": "stream",
       "stream": "stdout",
       "text": [
        " energy: 8.78e-03 best: -1.52e-03\n",
        "T: 5.51e+00"
       ]
      },
      {
       "output_type": "stream",
       "stream": "stdout",
       "text": [
        " energy: 8.78e-03 best: -1.52e-03\n",
        "T: 5.48e+00"
       ]
      },
      {
       "output_type": "stream",
       "stream": "stdout",
       "text": [
        " energy: 4.60e-03 best: -1.52e-03\n",
        "T: 5.45e+00"
       ]
      },
      {
       "output_type": "stream",
       "stream": "stdout",
       "text": [
        " energy: 4.84e-03 best: -1.52e-03\n",
        "T: 5.43e+00"
       ]
      },
      {
       "output_type": "stream",
       "stream": "stdout",
       "text": [
        " energy: 4.51e-03 best: -1.52e-03\n",
        "T: 5.40e+00"
       ]
      },
      {
       "output_type": "stream",
       "stream": "stdout",
       "text": [
        " energy: 5.83e-03 best: -1.52e-03\n",
        "T: 5.37e+00"
       ]
      },
      {
       "output_type": "stream",
       "stream": "stdout",
       "text": [
        " energy: 7.49e-03 best: -1.52e-03\n",
        "T: 5.35e+00"
       ]
      },
      {
       "output_type": "stream",
       "stream": "stdout",
       "text": [
        " energy: 5.15e-03 best: -1.52e-03\n",
        "T: 5.32e+00"
       ]
      },
      {
       "output_type": "stream",
       "stream": "stdout",
       "text": [
        " energy: 9.19e-03 best: -1.52e-03\n",
        "T: 5.29e+00"
       ]
      },
      {
       "output_type": "stream",
       "stream": "stdout",
       "text": [
        " energy: 5.08e-03 best: -1.52e-03\n",
        "T: 5.27e+00"
       ]
      },
      {
       "output_type": "stream",
       "stream": "stdout",
       "text": [
        " energy: 6.10e-03 best: -1.52e-03\n",
        "T: 5.24e+00"
       ]
      },
      {
       "output_type": "stream",
       "stream": "stdout",
       "text": [
        " energy: 1.38e-03 best: -1.52e-03\n",
        "T: 5.21e+00"
       ]
      },
      {
       "output_type": "stream",
       "stream": "stdout",
       "text": [
        " energy: 4.19e-03 best: -1.52e-03\n",
        "T: 5.19e+00"
       ]
      },
      {
       "output_type": "stream",
       "stream": "stdout",
       "text": [
        " energy: 6.01e-03 best: -1.52e-03\n",
        "T: 5.16e+00"
       ]
      },
      {
       "output_type": "stream",
       "stream": "stdout",
       "text": [
        " energy: 4.21e-03 best: -1.52e-03\n",
        "T: 5.14e+00"
       ]
      },
      {
       "output_type": "stream",
       "stream": "stdout",
       "text": [
        " energy: 6.91e-03 best: -1.52e-03\n",
        "T: 5.11e+00"
       ]
      },
      {
       "output_type": "stream",
       "stream": "stdout",
       "text": [
        " energy: 7.06e-03 best: -1.52e-03\n",
        "T: 5.09e+00"
       ]
      },
      {
       "output_type": "stream",
       "stream": "stdout",
       "text": [
        " energy: 5.78e-03 best: -1.52e-03\n",
        "T: 5.06e+00"
       ]
      },
      {
       "output_type": "stream",
       "stream": "stdout",
       "text": [
        " energy: 5.62e-03 best: -1.52e-03\n",
        "T: 5.03e+00"
       ]
      },
      {
       "output_type": "stream",
       "stream": "stdout",
       "text": [
        " energy: 7.48e-03 best: -1.52e-03\n",
        "T: 5.01e+00"
       ]
      },
      {
       "output_type": "stream",
       "stream": "stdout",
       "text": [
        " energy: 7.71e-03 best: -1.52e-03\n",
        "T: 4.98e+00"
       ]
      },
      {
       "output_type": "stream",
       "stream": "stdout",
       "text": [
        " energy: 7.51e-03 best: -1.52e-03\n",
        "T: 4.96e+00"
       ]
      },
      {
       "output_type": "stream",
       "stream": "stdout",
       "text": [
        " energy: 6.15e-03 best: -1.52e-03\n",
        "T: 4.93e+00"
       ]
      },
      {
       "output_type": "stream",
       "stream": "stdout",
       "text": [
        " energy: 8.70e-03 best: -1.52e-03\n",
        "T: 4.91e+00"
       ]
      },
      {
       "output_type": "stream",
       "stream": "stdout",
       "text": [
        " energy: 7.67e-03 best: -1.52e-03\n",
        "T: 4.89e+00"
       ]
      },
      {
       "output_type": "stream",
       "stream": "stdout",
       "text": [
        " energy: 7.43e-03 best: -1.52e-03\n",
        "T: 4.86e+00"
       ]
      },
      {
       "output_type": "stream",
       "stream": "stdout",
       "text": [
        " energy: 4.58e-03 best: -1.52e-03\n",
        "T: 4.84e+00"
       ]
      },
      {
       "output_type": "stream",
       "stream": "stdout",
       "text": [
        " energy: 7.64e-03 best: -1.52e-03\n",
        "T: 4.81e+00"
       ]
      },
      {
       "output_type": "stream",
       "stream": "stdout",
       "text": [
        " energy: 6.00e-03 best: -1.52e-03\n",
        "T: 4.79e+00"
       ]
      },
      {
       "output_type": "stream",
       "stream": "stdout",
       "text": [
        " energy: 6.62e-03 best: -1.52e-03\n",
        "T: 4.76e+00"
       ]
      },
      {
       "output_type": "stream",
       "stream": "stdout",
       "text": [
        " energy: 6.60e-03 best: -1.52e-03\n",
        "T: 4.74e+00"
       ]
      },
      {
       "output_type": "stream",
       "stream": "stdout",
       "text": [
        " energy: 7.66e-03 best: -1.52e-03\n",
        "T: 4.72e+00"
       ]
      },
      {
       "output_type": "stream",
       "stream": "stdout",
       "text": [
        " energy: 7.65e-03 best: -1.52e-03\n",
        "T: 4.69e+00"
       ]
      },
      {
       "output_type": "stream",
       "stream": "stdout",
       "text": [
        " energy: 6.09e-03 best: -1.52e-03\n",
        "T: 4.67e+00"
       ]
      },
      {
       "output_type": "stream",
       "stream": "stdout",
       "text": [
        " energy: 6.56e-03 best: -1.52e-03\n",
        "T: 4.65e+00"
       ]
      },
      {
       "output_type": "stream",
       "stream": "stdout",
       "text": [
        " energy: 7.11e-03 best: -1.52e-03\n",
        "T: 4.62e+00"
       ]
      },
      {
       "output_type": "stream",
       "stream": "stdout",
       "text": [
        " energy: 9.51e-03 best: -1.52e-03\n",
        "T: 4.60e+00"
       ]
      },
      {
       "output_type": "stream",
       "stream": "stdout",
       "text": [
        " energy: 5.26e-03 best: -1.52e-03\n",
        "T: 4.58e+00"
       ]
      },
      {
       "output_type": "stream",
       "stream": "stdout",
       "text": [
        " energy: 7.19e-03 best: -1.52e-03\n",
        "T: 4.55e+00"
       ]
      },
      {
       "output_type": "stream",
       "stream": "stdout",
       "text": [
        " energy: 7.71e-03 best: -1.52e-03\n",
        "T: 4.53e+00"
       ]
      },
      {
       "output_type": "stream",
       "stream": "stdout",
       "text": [
        " energy: 7.18e-03 best: -1.52e-03\n",
        "T: 4.51e+00"
       ]
      },
      {
       "output_type": "stream",
       "stream": "stdout",
       "text": [
        " energy: 6.61e-03 best: -1.52e-03\n",
        "T: 4.49e+00"
       ]
      },
      {
       "output_type": "stream",
       "stream": "stdout",
       "text": [
        " energy: 7.19e-03 best: -1.52e-03\n",
        "T: 4.46e+00"
       ]
      },
      {
       "output_type": "stream",
       "stream": "stdout",
       "text": [
        " energy: 6.43e-03 best: -1.52e-03\n",
        "T: 4.44e+00"
       ]
      },
      {
       "output_type": "stream",
       "stream": "stdout",
       "text": [
        " energy: 5.38e-03 best: -1.52e-03\n",
        "T: 4.42e+00"
       ]
      },
      {
       "output_type": "stream",
       "stream": "stdout",
       "text": [
        " energy: 6.51e-03 best: -1.52e-03\n",
        "T: 4.40e+00"
       ]
      },
      {
       "output_type": "stream",
       "stream": "stdout",
       "text": [
        " energy: 4.08e-03 best: -1.52e-03\n",
        "T: 4.38e+00"
       ]
      },
      {
       "output_type": "stream",
       "stream": "stdout",
       "text": [
        " energy: 5.35e-03 best: -1.52e-03\n",
        "T: 4.35e+00"
       ]
      },
      {
       "output_type": "stream",
       "stream": "stdout",
       "text": [
        " energy: 5.89e-03 best: -1.52e-03\n",
        "T: 4.33e+00"
       ]
      },
      {
       "output_type": "stream",
       "stream": "stdout",
       "text": [
        " energy: 8.21e-03 best: -1.52e-03\n",
        "T: 4.31e+00"
       ]
      },
      {
       "output_type": "stream",
       "stream": "stdout",
       "text": [
        " energy: 7.09e-03 best: -1.52e-03\n",
        "T: 4.29e+00"
       ]
      },
      {
       "output_type": "stream",
       "stream": "stdout",
       "text": [
        " energy: 4.36e-03 best: -1.52e-03\n",
        "T: 4.27e+00"
       ]
      },
      {
       "output_type": "stream",
       "stream": "stdout",
       "text": [
        " energy: 6.30e-03 best: -1.52e-03\n",
        "T: 4.25e+00"
       ]
      },
      {
       "output_type": "stream",
       "stream": "stdout",
       "text": [
        " energy: 7.88e-03 best: -1.52e-03\n",
        "T: 4.22e+00"
       ]
      },
      {
       "output_type": "stream",
       "stream": "stdout",
       "text": [
        " energy: 5.91e-03 best: -1.52e-03\n",
        "T: 4.20e+00"
       ]
      },
      {
       "output_type": "stream",
       "stream": "stdout",
       "text": [
        " energy: 7.16e-03 best: -1.52e-03\n",
        "T: 4.18e+00"
       ]
      },
      {
       "output_type": "stream",
       "stream": "stdout",
       "text": [
        " energy: 5.24e-03 best: -1.52e-03\n",
        "T: 4.16e+00"
       ]
      },
      {
       "output_type": "stream",
       "stream": "stdout",
       "text": [
        " energy: 5.85e-03 best: -1.52e-03\n",
        "T: 4.14e+00"
       ]
      },
      {
       "output_type": "stream",
       "stream": "stdout",
       "text": [
        " energy: 4.14e-03 best: -1.52e-03\n",
        "T: 4.12e+00"
       ]
      },
      {
       "output_type": "stream",
       "stream": "stdout",
       "text": [
        " energy: 5.15e-03 best: -1.52e-03\n",
        "T: 4.10e+00"
       ]
      },
      {
       "output_type": "stream",
       "stream": "stdout",
       "text": [
        " energy: 7.77e-03 best: -1.52e-03\n",
        "T: 4.08e+00"
       ]
      },
      {
       "output_type": "stream",
       "stream": "stdout",
       "text": [
        " energy: 8.97e-03 best: -1.52e-03\n",
        "T: 4.06e+00"
       ]
      },
      {
       "output_type": "stream",
       "stream": "stdout",
       "text": [
        " energy: 7.10e-03 best: -1.52e-03\n",
        "T: 4.04e+00"
       ]
      },
      {
       "output_type": "stream",
       "stream": "stdout",
       "text": [
        " energy: 6.47e-03 best: -1.52e-03\n",
        "T: 4.02e+00"
       ]
      },
      {
       "output_type": "stream",
       "stream": "stdout",
       "text": [
        " energy: 5.11e-03 best: -1.52e-03\n",
        "T: 4.00e+00"
       ]
      },
      {
       "output_type": "stream",
       "stream": "stdout",
       "text": [
        " energy: 6.25e-03 best: -1.52e-03\n",
        "T: 3.98e+00"
       ]
      },
      {
       "output_type": "stream",
       "stream": "stdout",
       "text": [
        " energy: 6.46e-03 best: -1.52e-03\n",
        "T: 3.96e+00"
       ]
      },
      {
       "output_type": "stream",
       "stream": "stdout",
       "text": [
        " energy: 7.78e-03 best: -1.52e-03\n",
        "T: 3.94e+00"
       ]
      },
      {
       "output_type": "stream",
       "stream": "stdout",
       "text": [
        " energy: 7.88e-03 best: -1.52e-03\n",
        "T: 3.92e+00"
       ]
      },
      {
       "output_type": "stream",
       "stream": "stdout",
       "text": [
        " energy: 7.10e-03 best: -1.52e-03\n",
        "T: 3.90e+00"
       ]
      },
      {
       "output_type": "stream",
       "stream": "stdout",
       "text": [
        " energy: 6.84e-03 best: -1.52e-03\n",
        "T: 3.88e+00"
       ]
      },
      {
       "output_type": "stream",
       "stream": "stdout",
       "text": [
        " energy: 6.56e-03 best: -1.52e-03\n",
        "T: 3.86e+00"
       ]
      },
      {
       "output_type": "stream",
       "stream": "stdout",
       "text": [
        " energy: 5.61e-03 best: -1.52e-03\n",
        "T: 3.84e+00"
       ]
      },
      {
       "output_type": "stream",
       "stream": "stdout",
       "text": [
        " energy: 6.43e-03 best: -1.52e-03\n",
        "T: 3.82e+00"
       ]
      },
      {
       "output_type": "stream",
       "stream": "stdout",
       "text": [
        " energy: 9.19e-03 best: -1.52e-03\n",
        "T: 3.80e+00"
       ]
      },
      {
       "output_type": "stream",
       "stream": "stdout",
       "text": [
        " energy: 8.18e-03 best: -1.52e-03\n",
        "T: 3.78e+00"
       ]
      },
      {
       "output_type": "stream",
       "stream": "stdout",
       "text": [
        " energy: 5.85e-03 best: -1.52e-03\n",
        "T: 3.76e+00"
       ]
      },
      {
       "output_type": "stream",
       "stream": "stdout",
       "text": [
        " energy: 7.31e-03 best: -1.52e-03\n",
        "T: 3.75e+00"
       ]
      },
      {
       "output_type": "stream",
       "stream": "stdout",
       "text": [
        " energy: 7.26e-03 best: -1.52e-03\n",
        "T: 3.73e+00"
       ]
      },
      {
       "output_type": "stream",
       "stream": "stdout",
       "text": [
        " energy: 6.91e-03 best: -1.52e-03\n",
        "T: 3.71e+00"
       ]
      },
      {
       "output_type": "stream",
       "stream": "stdout",
       "text": [
        " energy: 6.64e-03 best: -1.52e-03\n",
        "T: 3.69e+00"
       ]
      },
      {
       "output_type": "stream",
       "stream": "stdout",
       "text": [
        " energy: 7.84e-03 best: -1.52e-03\n",
        "T: 3.67e+00"
       ]
      },
      {
       "output_type": "stream",
       "stream": "stdout",
       "text": [
        " energy: 5.83e-03 best: -1.52e-03\n",
        "T: 3.65e+00"
       ]
      },
      {
       "output_type": "stream",
       "stream": "stdout",
       "text": [
        " energy: 7.62e-03 best: -1.52e-03\n",
        "T: 3.63e+00"
       ]
      },
      {
       "output_type": "stream",
       "stream": "stdout",
       "text": [
        " energy: 8.18e-03 best: -1.52e-03\n",
        "T: 3.62e+00"
       ]
      },
      {
       "output_type": "stream",
       "stream": "stdout",
       "text": [
        " energy: 6.12e-03 best: -1.52e-03\n",
        "T: 3.60e+00"
       ]
      },
      {
       "output_type": "stream",
       "stream": "stdout",
       "text": [
        " energy: 6.67e-03 best: -1.52e-03\n",
        "T: 3.58e+00"
       ]
      },
      {
       "output_type": "stream",
       "stream": "stdout",
       "text": [
        " energy: 6.75e-03 best: -1.52e-03\n",
        "T: 3.56e+00"
       ]
      },
      {
       "output_type": "stream",
       "stream": "stdout",
       "text": [
        " energy: 6.38e-03 best: -1.52e-03\n",
        "T: 3.54e+00"
       ]
      },
      {
       "output_type": "stream",
       "stream": "stdout",
       "text": [
        " energy: 5.19e-03 best: -1.52e-03\n",
        "T: 3.53e+00"
       ]
      },
      {
       "output_type": "stream",
       "stream": "stdout",
       "text": [
        " energy: 4.06e-03 best: -1.52e-03\n",
        "T: 3.51e+00"
       ]
      },
      {
       "output_type": "stream",
       "stream": "stdout",
       "text": [
        " energy: 6.82e-03 best: -1.52e-03\n",
        "T: 3.49e+00"
       ]
      },
      {
       "output_type": "stream",
       "stream": "stdout",
       "text": [
        " energy: 4.46e-03 best: -1.52e-03\n",
        "T: 3.47e+00"
       ]
      },
      {
       "output_type": "stream",
       "stream": "stdout",
       "text": [
        " energy: 5.50e-03 best: -1.52e-03\n",
        "T: 3.46e+00"
       ]
      },
      {
       "output_type": "stream",
       "stream": "stdout",
       "text": [
        " energy: 5.31e-03 best: -1.52e-03\n",
        "T: 3.44e+00"
       ]
      },
      {
       "output_type": "stream",
       "stream": "stdout",
       "text": [
        " energy: 4.91e-03 best: -1.52e-03\n",
        "T: 3.42e+00"
       ]
      },
      {
       "output_type": "stream",
       "stream": "stdout",
       "text": [
        " energy: 6.24e-03 best: -1.52e-03\n",
        "T: 3.41e+00"
       ]
      },
      {
       "output_type": "stream",
       "stream": "stdout",
       "text": [
        " energy: 4.90e-03 best: -1.52e-03\n",
        "T: 3.39e+00"
       ]
      },
      {
       "output_type": "stream",
       "stream": "stdout",
       "text": [
        " energy: 6.10e-03 best: -1.52e-03\n",
        "T: 3.37e+00"
       ]
      },
      {
       "output_type": "stream",
       "stream": "stdout",
       "text": [
        " energy: 6.20e-03 best: -1.52e-03\n",
        "T: 3.35e+00"
       ]
      },
      {
       "output_type": "stream",
       "stream": "stdout",
       "text": [
        " energy: 6.70e-03 best: -1.52e-03\n",
        "T: 3.34e+00"
       ]
      },
      {
       "output_type": "stream",
       "stream": "stdout",
       "text": [
        " energy: 7.14e-03 best: -1.52e-03\n",
        "T: 3.32e+00"
       ]
      },
      {
       "output_type": "stream",
       "stream": "stdout",
       "text": [
        " energy: 5.96e-03 best: -1.52e-03\n",
        "T: 3.30e+00"
       ]
      },
      {
       "output_type": "stream",
       "stream": "stdout",
       "text": [
        " energy: 2.94e-03 best: -1.52e-03\n",
        "T: 3.29e+00"
       ]
      },
      {
       "output_type": "stream",
       "stream": "stdout",
       "text": [
        " energy: 6.05e-03 best: -1.52e-03\n",
        "T: 3.27e+00"
       ]
      },
      {
       "output_type": "stream",
       "stream": "stdout",
       "text": [
        " energy: 5.38e-03 best: -1.52e-03\n",
        "T: 3.25e+00"
       ]
      },
      {
       "output_type": "stream",
       "stream": "stdout",
       "text": [
        " energy: 7.24e-03 best: -1.52e-03\n",
        "T: 3.24e+00"
       ]
      },
      {
       "output_type": "stream",
       "stream": "stdout",
       "text": [
        " energy: 3.56e-03 best: -1.52e-03\n",
        "T: 3.22e+00"
       ]
      },
      {
       "output_type": "stream",
       "stream": "stdout",
       "text": [
        " energy: 5.62e-03 best: -1.52e-03\n",
        "T: 3.21e+00"
       ]
      },
      {
       "output_type": "stream",
       "stream": "stdout",
       "text": [
        " energy: 5.46e-03 best: -1.52e-03\n",
        "T: 3.19e+00"
       ]
      },
      {
       "output_type": "stream",
       "stream": "stdout",
       "text": [
        " energy: 5.38e-03 best: -1.52e-03\n",
        "T: 3.17e+00"
       ]
      },
      {
       "output_type": "stream",
       "stream": "stdout",
       "text": [
        " energy: 7.79e-03 best: -1.52e-03\n",
        "T: 3.16e+00"
       ]
      },
      {
       "output_type": "stream",
       "stream": "stdout",
       "text": [
        " energy: 9.40e-03 best: -1.52e-03\n",
        "T: 3.14e+00"
       ]
      },
      {
       "output_type": "stream",
       "stream": "stdout",
       "text": [
        " energy: 7.34e-03 best: -1.52e-03\n",
        "T: 3.13e+00"
       ]
      },
      {
       "output_type": "stream",
       "stream": "stdout",
       "text": [
        " energy: 8.31e-03 best: -1.52e-03\n",
        "T: 3.11e+00"
       ]
      },
      {
       "output_type": "stream",
       "stream": "stdout",
       "text": [
        " energy: 4.55e-03 best: -1.52e-03\n",
        "T: 3.10e+00"
       ]
      },
      {
       "output_type": "stream",
       "stream": "stdout",
       "text": [
        " energy: 5.17e-03 best: -1.52e-03\n",
        "T: 3.08e+00"
       ]
      },
      {
       "output_type": "stream",
       "stream": "stdout",
       "text": [
        " energy: 6.15e-03 best: -1.52e-03\n",
        "T: 3.06e+00"
       ]
      },
      {
       "output_type": "stream",
       "stream": "stdout",
       "text": [
        " energy: 1.04e-02 best: -1.52e-03\n",
        "T: 3.05e+00"
       ]
      },
      {
       "output_type": "stream",
       "stream": "stdout",
       "text": [
        " energy: 8.33e-03 best: -1.52e-03\n",
        "T: 3.03e+00"
       ]
      },
      {
       "output_type": "stream",
       "stream": "stdout",
       "text": [
        " energy: 6.81e-03 best: -1.52e-03\n",
        "T: 3.02e+00"
       ]
      },
      {
       "output_type": "stream",
       "stream": "stdout",
       "text": [
        " energy: 5.88e-03 best: -1.52e-03\n",
        "T: 3.00e+00"
       ]
      },
      {
       "output_type": "stream",
       "stream": "stdout",
       "text": [
        " energy: 5.96e-03 best: -1.52e-03\n",
        "T: 2.99e+00"
       ]
      },
      {
       "output_type": "stream",
       "stream": "stdout",
       "text": [
        " energy: 8.74e-03 best: -1.52e-03\n",
        "T: 2.97e+00"
       ]
      },
      {
       "output_type": "stream",
       "stream": "stdout",
       "text": [
        " energy: 7.52e-03 best: -1.52e-03\n",
        "T: 2.96e+00"
       ]
      },
      {
       "output_type": "stream",
       "stream": "stdout",
       "text": [
        " energy: 4.55e-03 best: -1.52e-03\n",
        "T: 2.94e+00"
       ]
      },
      {
       "output_type": "stream",
       "stream": "stdout",
       "text": [
        " energy: 4.21e-03 best: -1.52e-03\n",
        "T: 2.93e+00"
       ]
      },
      {
       "output_type": "stream",
       "stream": "stdout",
       "text": [
        " energy: 6.03e-03 best: -1.52e-03\n",
        "T: 2.92e+00"
       ]
      },
      {
       "output_type": "stream",
       "stream": "stdout",
       "text": [
        " energy: 5.49e-03 best: -1.52e-03\n",
        "T: 2.90e+00"
       ]
      },
      {
       "output_type": "stream",
       "stream": "stdout",
       "text": [
        " energy: 3.20e-03 best: -1.52e-03\n",
        "T: 2.89e+00"
       ]
      },
      {
       "output_type": "stream",
       "stream": "stdout",
       "text": [
        " energy: 6.14e-03 best: -1.52e-03\n",
        "T: 2.87e+00"
       ]
      },
      {
       "output_type": "stream",
       "stream": "stdout",
       "text": [
        " energy: 4.66e-03 best: -1.52e-03\n",
        "T: 2.86e+00"
       ]
      },
      {
       "output_type": "stream",
       "stream": "stdout",
       "text": [
        " energy: 5.12e-03 best: -1.52e-03\n",
        "T: 2.84e+00"
       ]
      },
      {
       "output_type": "stream",
       "stream": "stdout",
       "text": [
        " energy: 4.36e-03 best: -1.52e-03\n",
        "T: 2.83e+00"
       ]
      },
      {
       "output_type": "stream",
       "stream": "stdout",
       "text": [
        " energy: 6.83e-03 best: -1.52e-03\n",
        "T: 2.81e+00"
       ]
      },
      {
       "output_type": "stream",
       "stream": "stdout",
       "text": [
        " energy: 7.65e-03 best: -1.52e-03\n",
        "T: 2.80e+00"
       ]
      },
      {
       "output_type": "stream",
       "stream": "stdout",
       "text": [
        " energy: 8.16e-03 best: -1.52e-03\n",
        "T: 2.79e+00"
       ]
      },
      {
       "output_type": "stream",
       "stream": "stdout",
       "text": [
        " energy: 6.82e-03 best: -1.52e-03\n",
        "T: 2.77e+00"
       ]
      },
      {
       "output_type": "stream",
       "stream": "stdout",
       "text": [
        " energy: 5.49e-03 best: -1.52e-03\n",
        "T: 2.76e+00"
       ]
      },
      {
       "output_type": "stream",
       "stream": "stdout",
       "text": [
        " energy: 7.95e-03 best: -1.52e-03\n",
        "T: 2.74e+00"
       ]
      },
      {
       "output_type": "stream",
       "stream": "stdout",
       "text": [
        " energy: 1.01e-02 best: -1.52e-03\n",
        "T: 2.73e+00"
       ]
      },
      {
       "output_type": "stream",
       "stream": "stdout",
       "text": [
        " energy: 8.28e-03 best: -1.52e-03\n",
        "T: 2.72e+00"
       ]
      },
      {
       "output_type": "stream",
       "stream": "stdout",
       "text": [
        " energy: 5.90e-03 best: -1.52e-03\n",
        "T: 2.70e+00"
       ]
      },
      {
       "output_type": "stream",
       "stream": "stdout",
       "text": [
        " energy: 8.03e-03 best: -1.52e-03\n",
        "T: 2.69e+00"
       ]
      },
      {
       "output_type": "stream",
       "stream": "stdout",
       "text": [
        " energy: 6.80e-03 best: -1.52e-03\n",
        "T: 2.68e+00"
       ]
      },
      {
       "output_type": "stream",
       "stream": "stdout",
       "text": [
        " energy: 9.88e-03 best: -1.52e-03\n",
        "T: 2.66e+00"
       ]
      },
      {
       "output_type": "stream",
       "stream": "stdout",
       "text": [
        " energy: 9.20e-03 best: -1.52e-03\n",
        "T: 2.65e+00"
       ]
      },
      {
       "output_type": "stream",
       "stream": "stdout",
       "text": [
        " energy: 7.44e-03 best: -1.52e-03\n",
        "T: 2.64e+00"
       ]
      },
      {
       "output_type": "stream",
       "stream": "stdout",
       "text": [
        " energy: 5.16e-03 best: -1.52e-03\n",
        "T: 2.62e+00"
       ]
      },
      {
       "output_type": "stream",
       "stream": "stdout",
       "text": [
        " energy: 5.68e-03 best: -1.52e-03\n",
        "T: 2.61e+00"
       ]
      },
      {
       "output_type": "stream",
       "stream": "stdout",
       "text": [
        " energy: 5.28e-03 best: -1.52e-03\n",
        "T: 2.60e+00"
       ]
      },
      {
       "output_type": "stream",
       "stream": "stdout",
       "text": [
        " energy: 3.69e-03 best: -1.52e-03\n",
        "T: 2.58e+00"
       ]
      },
      {
       "output_type": "stream",
       "stream": "stdout",
       "text": [
        " energy: 3.51e-03 best: -1.52e-03\n",
        "T: 2.57e+00"
       ]
      },
      {
       "output_type": "stream",
       "stream": "stdout",
       "text": [
        " energy: 6.87e-03 best: -1.52e-03\n",
        "T: 2.56e+00"
       ]
      },
      {
       "output_type": "stream",
       "stream": "stdout",
       "text": [
        " energy: 9.17e-03 best: -1.52e-03\n",
        "T: 2.55e+00"
       ]
      },
      {
       "output_type": "stream",
       "stream": "stdout",
       "text": [
        " energy: 6.77e-03 best: -1.52e-03\n",
        "T: 2.53e+00"
       ]
      },
      {
       "output_type": "stream",
       "stream": "stdout",
       "text": [
        " energy: 6.52e-03 best: -1.52e-03\n",
        "T: 2.52e+00"
       ]
      },
      {
       "output_type": "stream",
       "stream": "stdout",
       "text": [
        " energy: 9.76e-03 best: -1.52e-03\n",
        "T: 2.51e+00"
       ]
      },
      {
       "output_type": "stream",
       "stream": "stdout",
       "text": [
        " energy: 8.53e-03 best: -1.52e-03\n",
        "T: 2.50e+00"
       ]
      },
      {
       "output_type": "stream",
       "stream": "stdout",
       "text": [
        " energy: 6.93e-03 best: -1.52e-03\n",
        "T: 2.48e+00"
       ]
      },
      {
       "output_type": "stream",
       "stream": "stdout",
       "text": [
        " energy: 8.37e-03 best: -1.52e-03\n",
        "T: 2.47e+00"
       ]
      },
      {
       "output_type": "stream",
       "stream": "stdout",
       "text": [
        " energy: 8.58e-03 best: -1.52e-03\n",
        "T: 2.46e+00"
       ]
      },
      {
       "output_type": "stream",
       "stream": "stdout",
       "text": [
        " energy: 5.92e-03 best: -1.52e-03\n",
        "T: 2.45e+00"
       ]
      },
      {
       "output_type": "stream",
       "stream": "stdout",
       "text": [
        " energy: 8.72e-03 best: -1.52e-03\n",
        "T: 2.43e+00"
       ]
      },
      {
       "output_type": "stream",
       "stream": "stdout",
       "text": [
        " energy: 7.43e-03 best: -1.52e-03\n",
        "T: 2.42e+00"
       ]
      },
      {
       "output_type": "stream",
       "stream": "stdout",
       "text": [
        " energy: 8.31e-03 best: -1.52e-03\n",
        "T: 2.41e+00"
       ]
      },
      {
       "output_type": "stream",
       "stream": "stdout",
       "text": [
        " energy: 7.81e-03 best: -1.52e-03\n",
        "T: 2.40e+00"
       ]
      },
      {
       "output_type": "stream",
       "stream": "stdout",
       "text": [
        " energy: 6.35e-03 best: -1.52e-03\n",
        "T: 2.39e+00"
       ]
      },
      {
       "output_type": "stream",
       "stream": "stdout",
       "text": [
        " energy: 8.56e-03 best: -1.52e-03\n",
        "T: 2.37e+00"
       ]
      },
      {
       "output_type": "stream",
       "stream": "stdout",
       "text": [
        " energy: 5.82e-03 best: -1.52e-03\n",
        "T: 2.36e+00"
       ]
      },
      {
       "output_type": "stream",
       "stream": "stdout",
       "text": [
        " energy: 7.04e-03 best: -1.52e-03\n",
        "T: 2.35e+00"
       ]
      },
      {
       "output_type": "stream",
       "stream": "stdout",
       "text": [
        " energy: 6.13e-03 best: -1.52e-03\n",
        "T: 2.34e+00"
       ]
      },
      {
       "output_type": "stream",
       "stream": "stdout",
       "text": [
        " energy: 2.63e-03 best: -1.52e-03\n",
        "T: 2.33e+00"
       ]
      },
      {
       "output_type": "stream",
       "stream": "stdout",
       "text": [
        " energy: 6.48e-03 best: -1.52e-03\n",
        "T: 2.31e+00"
       ]
      },
      {
       "output_type": "stream",
       "stream": "stdout",
       "text": [
        " energy: 9.03e-03 best: -1.52e-03\n",
        "T: 2.30e+00"
       ]
      },
      {
       "output_type": "stream",
       "stream": "stdout",
       "text": [
        " energy: 7.11e-03 best: -1.52e-03\n",
        "T: 2.29e+00"
       ]
      },
      {
       "output_type": "stream",
       "stream": "stdout",
       "text": [
        " energy: 8.03e-03 best: -1.52e-03\n",
        "T: 2.28e+00"
       ]
      },
      {
       "output_type": "stream",
       "stream": "stdout",
       "text": [
        " energy: 9.78e-03 best: -1.52e-03\n",
        "T: 2.27e+00"
       ]
      },
      {
       "output_type": "stream",
       "stream": "stdout",
       "text": [
        " energy: 1.02e-02 best: -1.52e-03\n",
        "T: 2.26e+00"
       ]
      },
      {
       "output_type": "stream",
       "stream": "stdout",
       "text": [
        " energy: 9.65e-03 best: -1.52e-03\n",
        "T: 2.25e+00"
       ]
      },
      {
       "output_type": "stream",
       "stream": "stdout",
       "text": [
        " energy: 8.93e-03 best: -1.52e-03\n",
        "T: 2.24e+00"
       ]
      },
      {
       "output_type": "stream",
       "stream": "stdout",
       "text": [
        " energy: 9.06e-03 best: -1.52e-03\n",
        "T: 2.22e+00"
       ]
      },
      {
       "output_type": "stream",
       "stream": "stdout",
       "text": [
        " energy: 6.41e-03 best: -1.52e-03\n",
        "T: 2.21e+00"
       ]
      },
      {
       "output_type": "stream",
       "stream": "stdout",
       "text": [
        " energy: 5.13e-03 best: -1.52e-03\n",
        "T: 2.20e+00"
       ]
      },
      {
       "output_type": "stream",
       "stream": "stdout",
       "text": [
        " energy: 2.93e-03 best: -1.52e-03\n",
        "T: 2.19e+00"
       ]
      },
      {
       "output_type": "stream",
       "stream": "stdout",
       "text": [
        " energy: 4.15e-03 best: -1.52e-03\n",
        "T: 2.18e+00"
       ]
      },
      {
       "output_type": "stream",
       "stream": "stdout",
       "text": [
        " energy: 4.33e-03 best: -1.52e-03\n",
        "T: 2.17e+00"
       ]
      },
      {
       "output_type": "stream",
       "stream": "stdout",
       "text": [
        " energy: 4.92e-03 best: -1.52e-03\n",
        "T: 2.16e+00"
       ]
      },
      {
       "output_type": "stream",
       "stream": "stdout",
       "text": [
        " energy: 6.89e-03 best: -1.52e-03\n",
        "T: 2.15e+00"
       ]
      },
      {
       "output_type": "stream",
       "stream": "stdout",
       "text": [
        " energy: 7.65e-03 best: -1.52e-03\n",
        "T: 2.14e+00"
       ]
      },
      {
       "output_type": "stream",
       "stream": "stdout",
       "text": [
        " energy: 1.02e-02 best: -1.52e-03\n",
        "T: 2.13e+00"
       ]
      },
      {
       "output_type": "stream",
       "stream": "stdout",
       "text": [
        " energy: 6.27e-03 best: -1.52e-03\n",
        "T: 2.12e+00"
       ]
      },
      {
       "output_type": "stream",
       "stream": "stdout",
       "text": [
        " energy: 6.12e-03 best: -1.52e-03\n",
        "T: 2.10e+00"
       ]
      },
      {
       "output_type": "stream",
       "stream": "stdout",
       "text": [
        " energy: 3.74e-03 best: -1.52e-03\n",
        "T: 2.09e+00"
       ]
      },
      {
       "output_type": "stream",
       "stream": "stdout",
       "text": [
        " energy: 3.86e-03 best: -1.52e-03\n",
        "T: 2.08e+00"
       ]
      },
      {
       "output_type": "stream",
       "stream": "stdout",
       "text": [
        " energy: 3.79e-03 best: -1.52e-03\n",
        "T: 2.07e+00"
       ]
      },
      {
       "output_type": "stream",
       "stream": "stdout",
       "text": [
        " energy: 3.99e-03 best: -1.52e-03\n",
        "T: 2.06e+00"
       ]
      },
      {
       "output_type": "stream",
       "stream": "stdout",
       "text": [
        " energy: 6.02e-03 best: -1.52e-03\n",
        "T: 2.05e+00"
       ]
      },
      {
       "output_type": "stream",
       "stream": "stdout",
       "text": [
        " energy: 6.41e-03 best: -1.52e-03\n",
        "T: 2.04e+00"
       ]
      },
      {
       "output_type": "stream",
       "stream": "stdout",
       "text": [
        " energy: 4.93e-03 best: -1.52e-03\n",
        "T: 2.03e+00"
       ]
      },
      {
       "output_type": "stream",
       "stream": "stdout",
       "text": [
        " energy: 4.62e-03 best: -1.52e-03\n",
        "T: 2.02e+00"
       ]
      },
      {
       "output_type": "stream",
       "stream": "stdout",
       "text": [
        " energy: 5.66e-03 best: -1.52e-03\n",
        "T: 2.01e+00"
       ]
      },
      {
       "output_type": "stream",
       "stream": "stdout",
       "text": [
        " energy: 8.83e-03 best: -1.52e-03\n",
        "T: 2.00e+00"
       ]
      },
      {
       "output_type": "stream",
       "stream": "stdout",
       "text": [
        " energy: 9.54e-03 best: -1.52e-03\n",
        "T: 1.99e+00"
       ]
      },
      {
       "output_type": "stream",
       "stream": "stdout",
       "text": [
        " energy: 8.46e-03 best: -1.52e-03\n",
        "T: 1.98e+00"
       ]
      },
      {
       "output_type": "stream",
       "stream": "stdout",
       "text": [
        " energy: 9.79e-03 best: -1.52e-03\n",
        "T: 1.97e+00"
       ]
      },
      {
       "output_type": "stream",
       "stream": "stdout",
       "text": [
        " energy: 6.04e-03 best: -1.52e-03\n",
        "T: 1.96e+00"
       ]
      },
      {
       "output_type": "stream",
       "stream": "stdout",
       "text": [
        " energy: 8.64e-03 best: -1.52e-03\n",
        "T: 1.95e+00"
       ]
      },
      {
       "output_type": "stream",
       "stream": "stdout",
       "text": [
        " energy: 6.30e-03 best: -1.52e-03\n",
        "T: 1.94e+00"
       ]
      },
      {
       "output_type": "stream",
       "stream": "stdout",
       "text": [
        " energy: 4.50e-03 best: -1.52e-03\n",
        "T: 1.93e+00"
       ]
      },
      {
       "output_type": "stream",
       "stream": "stdout",
       "text": [
        " energy: 5.45e-03 best: -1.52e-03\n",
        "T: 1.92e+00"
       ]
      },
      {
       "output_type": "stream",
       "stream": "stdout",
       "text": [
        " energy: 4.01e-03 best: -1.52e-03\n",
        "T: 1.91e+00"
       ]
      },
      {
       "output_type": "stream",
       "stream": "stdout",
       "text": [
        " energy: 8.09e-03 best: -1.52e-03\n",
        "T: 1.90e+00"
       ]
      },
      {
       "output_type": "stream",
       "stream": "stdout",
       "text": [
        " energy: 5.86e-03 best: -1.52e-03\n",
        "T: 1.89e+00"
       ]
      },
      {
       "output_type": "stream",
       "stream": "stdout",
       "text": [
        " energy: 6.34e-03 best: -1.52e-03\n",
        "T: 1.88e+00"
       ]
      },
      {
       "output_type": "stream",
       "stream": "stdout",
       "text": [
        " energy: 5.20e-03 best: -1.52e-03\n",
        "T: 1.88e+00"
       ]
      },
      {
       "output_type": "stream",
       "stream": "stdout",
       "text": [
        " energy: 7.49e-03 best: -1.52e-03\n",
        "T: 1.87e+00"
       ]
      },
      {
       "output_type": "stream",
       "stream": "stdout",
       "text": [
        " energy: 8.53e-03 best: -1.52e-03\n",
        "T: 1.86e+00"
       ]
      },
      {
       "output_type": "stream",
       "stream": "stdout",
       "text": [
        " energy: 7.36e-03 best: -1.52e-03\n",
        "T: 1.85e+00"
       ]
      },
      {
       "output_type": "stream",
       "stream": "stdout",
       "text": [
        " energy: 6.80e-03 best: -1.52e-03\n",
        "T: 1.84e+00"
       ]
      },
      {
       "output_type": "stream",
       "stream": "stdout",
       "text": [
        " energy: 6.30e-03 best: -1.52e-03\n",
        "T: 1.83e+00"
       ]
      },
      {
       "output_type": "stream",
       "stream": "stdout",
       "text": [
        " energy: 5.37e-03 best: -1.52e-03\n",
        "T: 1.82e+00"
       ]
      },
      {
       "output_type": "stream",
       "stream": "stdout",
       "text": [
        " energy: 7.62e-03 best: -1.52e-03\n",
        "T: 1.81e+00"
       ]
      },
      {
       "output_type": "stream",
       "stream": "stdout",
       "text": [
        " energy: 5.31e-03 best: -1.52e-03\n",
        "T: 1.80e+00"
       ]
      },
      {
       "output_type": "stream",
       "stream": "stdout",
       "text": [
        " energy: 6.98e-03 best: -1.52e-03\n",
        "T: 1.79e+00"
       ]
      },
      {
       "output_type": "stream",
       "stream": "stdout",
       "text": [
        " energy: 4.18e-03 best: -1.52e-03\n",
        "T: 1.78e+00"
       ]
      },
      {
       "output_type": "stream",
       "stream": "stdout",
       "text": [
        " energy: 2.95e-03 best: -1.52e-03\n",
        "T: 1.77e+00"
       ]
      },
      {
       "output_type": "stream",
       "stream": "stdout",
       "text": [
        " energy: 6.55e-03 best: -1.52e-03\n",
        "T: 1.77e+00"
       ]
      },
      {
       "output_type": "stream",
       "stream": "stdout",
       "text": [
        " energy: 5.69e-03 best: -1.52e-03\n",
        "T: 1.76e+00"
       ]
      },
      {
       "output_type": "stream",
       "stream": "stdout",
       "text": [
        " energy: 6.72e-03 best: -1.52e-03\n",
        "T: 1.75e+00"
       ]
      },
      {
       "output_type": "stream",
       "stream": "stdout",
       "text": [
        " energy: 6.82e-03 best: -1.52e-03\n",
        "T: 1.74e+00"
       ]
      },
      {
       "output_type": "stream",
       "stream": "stdout",
       "text": [
        " energy: 8.22e-03 best: -1.52e-03\n",
        "T: 1.73e+00"
       ]
      },
      {
       "output_type": "stream",
       "stream": "stdout",
       "text": [
        " energy: 8.56e-03 best: -1.52e-03\n",
        "T: 1.72e+00"
       ]
      },
      {
       "output_type": "stream",
       "stream": "stdout",
       "text": [
        " energy: 6.58e-03 best: -1.52e-03\n",
        "T: 1.71e+00"
       ]
      },
      {
       "output_type": "stream",
       "stream": "stdout",
       "text": [
        " energy: 7.43e-03 best: -1.52e-03\n",
        "T: 1.71e+00"
       ]
      },
      {
       "output_type": "stream",
       "stream": "stdout",
       "text": [
        " energy: 5.42e-03 best: -1.52e-03\n",
        "T: 1.70e+00"
       ]
      },
      {
       "output_type": "stream",
       "stream": "stdout",
       "text": [
        " energy: 4.82e-03 best: -1.52e-03\n",
        "T: 1.69e+00"
       ]
      },
      {
       "output_type": "stream",
       "stream": "stdout",
       "text": [
        " energy: 8.32e-03 best: -1.52e-03\n",
        "T: 1.68e+00"
       ]
      },
      {
       "output_type": "stream",
       "stream": "stdout",
       "text": [
        " energy: 6.63e-03 best: -1.52e-03\n",
        "T: 1.67e+00"
       ]
      },
      {
       "output_type": "stream",
       "stream": "stdout",
       "text": [
        " energy: 4.84e-03 best: -1.52e-03\n",
        "T: 1.66e+00"
       ]
      },
      {
       "output_type": "stream",
       "stream": "stdout",
       "text": [
        " energy: 7.45e-03 best: -1.52e-03\n",
        "T: 1.65e+00"
       ]
      },
      {
       "output_type": "stream",
       "stream": "stdout",
       "text": [
        " energy: 5.73e-03 best: -1.52e-03\n",
        "T: 1.65e+00"
       ]
      },
      {
       "output_type": "stream",
       "stream": "stdout",
       "text": [
        " energy: 8.06e-03 best: -1.52e-03\n",
        "T: 1.64e+00"
       ]
      },
      {
       "output_type": "stream",
       "stream": "stdout",
       "text": [
        " energy: 7.01e-03 best: -1.52e-03\n",
        "T: 1.63e+00"
       ]
      },
      {
       "output_type": "stream",
       "stream": "stdout",
       "text": [
        " energy: 7.15e-03 best: -1.52e-03\n",
        "T: 1.62e+00"
       ]
      },
      {
       "output_type": "stream",
       "stream": "stdout",
       "text": [
        " energy: 8.22e-03 best: -1.52e-03\n",
        "T: 1.61e+00"
       ]
      },
      {
       "output_type": "stream",
       "stream": "stdout",
       "text": [
        " energy: 7.85e-03 best: -1.52e-03\n",
        "T: 1.61e+00"
       ]
      },
      {
       "output_type": "stream",
       "stream": "stdout",
       "text": [
        " energy: 5.57e-03 best: -1.52e-03\n",
        "T: 1.60e+00"
       ]
      },
      {
       "output_type": "stream",
       "stream": "stdout",
       "text": [
        " energy: 7.13e-03 best: -1.52e-03\n",
        "T: 1.59e+00"
       ]
      },
      {
       "output_type": "stream",
       "stream": "stdout",
       "text": [
        " energy: 7.84e-03 best: -1.52e-03\n",
        "T: 1.58e+00"
       ]
      },
      {
       "output_type": "stream",
       "stream": "stdout",
       "text": [
        " energy: 5.17e-03 best: -1.52e-03\n",
        "T: 1.57e+00"
       ]
      },
      {
       "output_type": "stream",
       "stream": "stdout",
       "text": [
        " energy: 8.69e-03 best: -1.52e-03\n",
        "T: 1.57e+00"
       ]
      },
      {
       "output_type": "stream",
       "stream": "stdout",
       "text": [
        " energy: 7.19e-03 best: -1.52e-03\n",
        "T: 1.56e+00"
       ]
      },
      {
       "output_type": "stream",
       "stream": "stdout",
       "text": [
        " energy: 9.23e-03 best: -1.52e-03\n",
        "T: 1.55e+00"
       ]
      },
      {
       "output_type": "stream",
       "stream": "stdout",
       "text": [
        " energy: 6.88e-03 best: -1.52e-03\n",
        "T: 1.54e+00"
       ]
      },
      {
       "output_type": "stream",
       "stream": "stdout",
       "text": [
        " energy: 8.60e-03 best: -1.52e-03\n",
        "T: 1.53e+00"
       ]
      },
      {
       "output_type": "stream",
       "stream": "stdout",
       "text": [
        " energy: 7.18e-03 best: -1.52e-03\n",
        "T: 1.53e+00"
       ]
      },
      {
       "output_type": "stream",
       "stream": "stdout",
       "text": [
        " energy: 7.35e-03 best: -1.52e-03\n",
        "T: 1.52e+00"
       ]
      },
      {
       "output_type": "stream",
       "stream": "stdout",
       "text": [
        " energy: 6.57e-03 best: -1.52e-03\n",
        "T: 1.51e+00"
       ]
      },
      {
       "output_type": "stream",
       "stream": "stdout",
       "text": [
        " energy: 4.24e-03 best: -1.52e-03\n",
        "T: 1.50e+00"
       ]
      },
      {
       "output_type": "stream",
       "stream": "stdout",
       "text": [
        " energy: 7.47e-03 best: -1.52e-03\n",
        "T: 1.50e+00"
       ]
      },
      {
       "output_type": "stream",
       "stream": "stdout",
       "text": [
        " energy: 8.06e-03 best: -1.52e-03\n",
        "T: 1.49e+00"
       ]
      },
      {
       "output_type": "stream",
       "stream": "stdout",
       "text": [
        " energy: 5.79e-03 best: -1.52e-03\n",
        "T: 1.48e+00"
       ]
      },
      {
       "output_type": "stream",
       "stream": "stdout",
       "text": [
        " energy: 7.39e-03 best: -1.52e-03\n",
        "T: 1.47e+00"
       ]
      },
      {
       "output_type": "stream",
       "stream": "stdout",
       "text": [
        " energy: 6.95e-03 best: -1.52e-03\n",
        "T: 1.47e+00"
       ]
      },
      {
       "output_type": "stream",
       "stream": "stdout",
       "text": [
        " energy: 5.68e-03 best: -1.52e-03\n",
        "T: 1.46e+00"
       ]
      },
      {
       "output_type": "stream",
       "stream": "stdout",
       "text": [
        " energy: 4.70e-03 best: -1.52e-03\n",
        "T: 1.45e+00"
       ]
      },
      {
       "output_type": "stream",
       "stream": "stdout",
       "text": [
        " energy: 4.41e-03 best: -1.52e-03\n",
        "T: 1.45e+00"
       ]
      },
      {
       "output_type": "stream",
       "stream": "stdout",
       "text": [
        " energy: 5.43e-03 best: -1.52e-03\n",
        "T: 1.44e+00"
       ]
      },
      {
       "output_type": "stream",
       "stream": "stdout",
       "text": [
        " energy: 6.96e-03 best: -1.52e-03\n",
        "T: 1.43e+00"
       ]
      },
      {
       "output_type": "stream",
       "stream": "stdout",
       "text": [
        " energy: 6.80e-03 best: -1.52e-03\n",
        "T: 1.42e+00"
       ]
      },
      {
       "output_type": "stream",
       "stream": "stdout",
       "text": [
        " energy: 8.82e-03 best: -1.52e-03\n",
        "T: 1.42e+00"
       ]
      },
      {
       "output_type": "stream",
       "stream": "stdout",
       "text": [
        " energy: 1.00e-02 best: -1.52e-03\n",
        "T: 1.41e+00"
       ]
      },
      {
       "output_type": "stream",
       "stream": "stdout",
       "text": [
        " energy: 8.59e-03 best: -1.52e-03\n",
        "T: 1.40e+00"
       ]
      },
      {
       "output_type": "stream",
       "stream": "stdout",
       "text": [
        " energy: 6.62e-03 best: -1.52e-03\n",
        "T: 1.40e+00"
       ]
      },
      {
       "output_type": "stream",
       "stream": "stdout",
       "text": [
        " energy: 6.45e-03 best: -1.52e-03\n",
        "T: 1.39e+00"
       ]
      },
      {
       "output_type": "stream",
       "stream": "stdout",
       "text": [
        " energy: 6.30e-03 best: -1.52e-03\n",
        "T: 1.38e+00"
       ]
      },
      {
       "output_type": "stream",
       "stream": "stdout",
       "text": [
        " energy: 4.20e-03 best: -1.52e-03\n",
        "T: 1.37e+00"
       ]
      },
      {
       "output_type": "stream",
       "stream": "stdout",
       "text": [
        " energy: 5.84e-03 best: -1.52e-03\n",
        "T: 1.37e+00"
       ]
      },
      {
       "output_type": "stream",
       "stream": "stdout",
       "text": [
        " energy: 6.19e-03 best: -1.52e-03\n",
        "T: 1.36e+00"
       ]
      },
      {
       "output_type": "stream",
       "stream": "stdout",
       "text": [
        " energy: 6.69e-03 best: -1.52e-03\n",
        "T: 1.35e+00"
       ]
      },
      {
       "output_type": "stream",
       "stream": "stdout",
       "text": [
        " energy: 9.14e-03 best: -1.52e-03\n",
        "T: 1.35e+00"
       ]
      },
      {
       "output_type": "stream",
       "stream": "stdout",
       "text": [
        " energy: 9.03e-03 best: -1.52e-03\n",
        "T: 1.34e+00"
       ]
      },
      {
       "output_type": "stream",
       "stream": "stdout",
       "text": [
        " energy: 7.12e-03 best: -1.52e-03\n",
        "T: 1.33e+00"
       ]
      },
      {
       "output_type": "stream",
       "stream": "stdout",
       "text": [
        " energy: 7.30e-03 best: -1.52e-03\n",
        "T: 1.33e+00"
       ]
      },
      {
       "output_type": "stream",
       "stream": "stdout",
       "text": [
        " energy: 8.01e-03 best: -1.52e-03\n",
        "T: 1.32e+00"
       ]
      },
      {
       "output_type": "stream",
       "stream": "stdout",
       "text": [
        " energy: 5.64e-03 best: -1.52e-03\n",
        "T: 1.31e+00"
       ]
      },
      {
       "output_type": "stream",
       "stream": "stdout",
       "text": [
        " energy: 8.35e-03 best: -1.52e-03\n",
        "T: 1.31e+00"
       ]
      },
      {
       "output_type": "stream",
       "stream": "stdout",
       "text": [
        " energy: 6.82e-03 best: -1.52e-03\n",
        "T: 1.30e+00"
       ]
      },
      {
       "output_type": "stream",
       "stream": "stdout",
       "text": [
        " energy: 5.61e-03 best: -1.52e-03\n",
        "T: 1.29e+00"
       ]
      },
      {
       "output_type": "stream",
       "stream": "stdout",
       "text": [
        " energy: 2.93e-03 best: -1.52e-03\n",
        "T: 1.29e+00"
       ]
      },
      {
       "output_type": "stream",
       "stream": "stdout",
       "text": [
        " energy: 7.41e-03 best: -1.52e-03\n",
        "T: 1.28e+00"
       ]
      },
      {
       "output_type": "stream",
       "stream": "stdout",
       "text": [
        " energy: 5.71e-03 best: -1.52e-03\n",
        "T: 1.27e+00"
       ]
      },
      {
       "output_type": "stream",
       "stream": "stdout",
       "text": [
        " energy: 7.66e-03 best: -1.52e-03\n",
        "T: 1.27e+00"
       ]
      },
      {
       "output_type": "stream",
       "stream": "stdout",
       "text": [
        " energy: 8.80e-03 best: -1.52e-03\n",
        "T: 1.26e+00"
       ]
      },
      {
       "output_type": "stream",
       "stream": "stdout",
       "text": [
        " energy: 6.64e-03 best: -1.52e-03\n",
        "T: 1.26e+00"
       ]
      },
      {
       "output_type": "stream",
       "stream": "stdout",
       "text": [
        " energy: 8.81e-03 best: -1.52e-03\n",
        "T: 1.25e+00"
       ]
      },
      {
       "output_type": "stream",
       "stream": "stdout",
       "text": [
        " energy: 9.84e-03 best: -1.52e-03\n",
        "T: 1.24e+00"
       ]
      },
      {
       "output_type": "stream",
       "stream": "stdout",
       "text": [
        " energy: 8.03e-03 best: -1.52e-03\n",
        "T: 1.24e+00"
       ]
      },
      {
       "output_type": "stream",
       "stream": "stdout",
       "text": [
        " energy: 8.08e-03 best: -1.52e-03\n",
        "T: 1.23e+00"
       ]
      },
      {
       "output_type": "stream",
       "stream": "stdout",
       "text": [
        " energy: 8.45e-03 best: -1.52e-03\n",
        "T: 1.22e+00"
       ]
      },
      {
       "output_type": "stream",
       "stream": "stdout",
       "text": [
        " energy: 8.28e-03 best: -1.52e-03\n",
        "T: 1.22e+00"
       ]
      },
      {
       "output_type": "stream",
       "stream": "stdout",
       "text": [
        " energy: 5.53e-03 best: -1.52e-03\n",
        "T: 1.21e+00"
       ]
      },
      {
       "output_type": "stream",
       "stream": "stdout",
       "text": [
        " energy: 7.29e-03 best: -1.52e-03\n",
        "T: 1.21e+00"
       ]
      },
      {
       "output_type": "stream",
       "stream": "stdout",
       "text": [
        " energy: 6.66e-03 best: -1.52e-03\n",
        "T: 1.20e+00"
       ]
      },
      {
       "output_type": "stream",
       "stream": "stdout",
       "text": [
        " energy: 8.69e-03 best: -1.52e-03\n",
        "T: 1.19e+00"
       ]
      },
      {
       "output_type": "stream",
       "stream": "stdout",
       "text": [
        " energy: 8.16e-03 best: -1.52e-03\n",
        "T: 1.19e+00"
       ]
      },
      {
       "output_type": "stream",
       "stream": "stdout",
       "text": [
        " energy: 7.42e-03 best: -1.52e-03\n",
        "T: 1.18e+00"
       ]
      },
      {
       "output_type": "stream",
       "stream": "stdout",
       "text": [
        " energy: 7.75e-03 best: -1.52e-03\n",
        "T: 1.18e+00"
       ]
      },
      {
       "output_type": "stream",
       "stream": "stdout",
       "text": [
        " energy: 7.76e-03 best: -1.52e-03\n",
        "T: 1.17e+00"
       ]
      },
      {
       "output_type": "stream",
       "stream": "stdout",
       "text": [
        " energy: 8.58e-03 best: -1.52e-03\n",
        "T: 1.16e+00"
       ]
      },
      {
       "output_type": "stream",
       "stream": "stdout",
       "text": [
        " energy: 8.82e-03 best: -1.52e-03\n",
        "T: 1.16e+00"
       ]
      },
      {
       "output_type": "stream",
       "stream": "stdout",
       "text": [
        " energy: 8.98e-03 best: -1.52e-03\n",
        "T: 1.15e+00"
       ]
      },
      {
       "output_type": "stream",
       "stream": "stdout",
       "text": [
        " energy: 6.67e-03 best: -1.52e-03\n",
        "T: 1.15e+00"
       ]
      },
      {
       "output_type": "stream",
       "stream": "stdout",
       "text": [
        " energy: 8.92e-03 best: -1.52e-03\n",
        "T: 1.14e+00"
       ]
      },
      {
       "output_type": "stream",
       "stream": "stdout",
       "text": [
        " energy: 7.15e-03 best: -1.52e-03\n",
        "T: 1.14e+00"
       ]
      },
      {
       "output_type": "stream",
       "stream": "stdout",
       "text": [
        " energy: 7.80e-03 best: -1.52e-03\n",
        "T: 1.13e+00"
       ]
      },
      {
       "output_type": "stream",
       "stream": "stdout",
       "text": [
        " energy: 8.83e-03 best: -1.52e-03\n",
        "T: 1.12e+00"
       ]
      },
      {
       "output_type": "stream",
       "stream": "stdout",
       "text": [
        " energy: 6.61e-03 best: -1.52e-03\n",
        "T: 1.12e+00"
       ]
      },
      {
       "output_type": "stream",
       "stream": "stdout",
       "text": [
        " energy: 5.82e-03 best: -1.52e-03\n",
        "T: 1.11e+00"
       ]
      },
      {
       "output_type": "stream",
       "stream": "stdout",
       "text": [
        " energy: 9.01e-03 best: -1.52e-03\n",
        "T: 1.11e+00"
       ]
      },
      {
       "output_type": "stream",
       "stream": "stdout",
       "text": [
        " energy: 7.82e-03 best: -1.52e-03\n",
        "T: 1.10e+00"
       ]
      },
      {
       "output_type": "stream",
       "stream": "stdout",
       "text": [
        " energy: 9.32e-03 best: -1.52e-03\n",
        "T: 1.10e+00"
       ]
      },
      {
       "output_type": "stream",
       "stream": "stdout",
       "text": [
        " energy: 9.40e-03 best: -1.52e-03\n",
        "T: 1.09e+00"
       ]
      },
      {
       "output_type": "stream",
       "stream": "stdout",
       "text": [
        " energy: 9.41e-03 best: -1.52e-03\n",
        "T: 1.09e+00"
       ]
      },
      {
       "output_type": "stream",
       "stream": "stdout",
       "text": [
        " energy: 1.07e-02 best: -1.52e-03\n",
        "T: 1.08e+00"
       ]
      },
      {
       "output_type": "stream",
       "stream": "stdout",
       "text": [
        " energy: 1.12e-02 best: -1.52e-03\n",
        "T: 1.08e+00"
       ]
      },
      {
       "output_type": "stream",
       "stream": "stdout",
       "text": [
        " energy: 8.44e-03 best: -1.52e-03\n",
        "T: 1.07e+00"
       ]
      },
      {
       "output_type": "stream",
       "stream": "stdout",
       "text": [
        " energy: 8.25e-03 best: -1.52e-03\n",
        "T: 1.06e+00"
       ]
      },
      {
       "output_type": "stream",
       "stream": "stdout",
       "text": [
        " energy: 7.09e-03 best: -1.52e-03\n",
        "T: 1.06e+00"
       ]
      },
      {
       "output_type": "stream",
       "stream": "stdout",
       "text": [
        " energy: 9.50e-03 best: -1.52e-03\n",
        "T: 1.05e+00"
       ]
      },
      {
       "output_type": "stream",
       "stream": "stdout",
       "text": [
        " energy: 5.91e-03 best: -1.52e-03\n",
        "T: 1.05e+00"
       ]
      },
      {
       "output_type": "stream",
       "stream": "stdout",
       "text": [
        " energy: 5.85e-03 best: -1.52e-03\n",
        "T: 1.04e+00"
       ]
      },
      {
       "output_type": "stream",
       "stream": "stdout",
       "text": [
        " energy: 7.76e-03 best: -1.52e-03\n",
        "T: 1.04e+00"
       ]
      },
      {
       "output_type": "stream",
       "stream": "stdout",
       "text": [
        " energy: 5.95e-03 best: -1.52e-03\n",
        "T: 1.03e+00"
       ]
      },
      {
       "output_type": "stream",
       "stream": "stdout",
       "text": [
        " energy: 6.52e-03 best: -1.52e-03\n",
        "T: 1.03e+00"
       ]
      },
      {
       "output_type": "stream",
       "stream": "stdout",
       "text": [
        " energy: 3.82e-03 best: -1.52e-03\n",
        "T: 1.02e+00"
       ]
      },
      {
       "output_type": "stream",
       "stream": "stdout",
       "text": [
        " energy: 5.38e-03 best: -1.52e-03\n",
        "T: 1.02e+00"
       ]
      },
      {
       "output_type": "stream",
       "stream": "stdout",
       "text": [
        " energy: 6.71e-03 best: -1.52e-03\n",
        "T: 1.01e+00"
       ]
      },
      {
       "output_type": "stream",
       "stream": "stdout",
       "text": [
        " energy: 8.58e-03 best: -1.52e-03\n",
        "T: 1.01e+00"
       ]
      },
      {
       "output_type": "stream",
       "stream": "stdout",
       "text": [
        " energy: 7.83e-03 best: -1.52e-03\n",
        "T: 1.00e+00"
       ]
      },
      {
       "output_type": "stream",
       "stream": "stdout",
       "text": [
        " energy: 8.90e-03 best: -1.52e-03\n",
        "T: 9.97e-01"
       ]
      },
      {
       "output_type": "stream",
       "stream": "stdout",
       "text": [
        " energy: 7.60e-03 best: -1.52e-03\n",
        "T: 9.92e-01"
       ]
      },
      {
       "output_type": "stream",
       "stream": "stdout",
       "text": [
        " energy: 6.75e-03 best: -1.52e-03\n",
        "T: 9.87e-01"
       ]
      },
      {
       "output_type": "stream",
       "stream": "stdout",
       "text": [
        " energy: 6.80e-03 best: -1.52e-03\n",
        "T: 9.82e-01"
       ]
      },
      {
       "output_type": "stream",
       "stream": "stdout",
       "text": [
        " energy: 5.90e-03 best: -1.52e-03\n",
        "T: 9.77e-01"
       ]
      },
      {
       "output_type": "stream",
       "stream": "stdout",
       "text": [
        " energy: 6.96e-03 best: -1.52e-03\n",
        "T: 9.73e-01"
       ]
      },
      {
       "output_type": "stream",
       "stream": "stdout",
       "text": [
        " energy: 4.87e-03 best: -1.52e-03\n",
        "T: 9.68e-01"
       ]
      },
      {
       "output_type": "stream",
       "stream": "stdout",
       "text": [
        " energy: 5.64e-03 best: -1.52e-03\n",
        "T: 9.63e-01"
       ]
      },
      {
       "output_type": "stream",
       "stream": "stdout",
       "text": [
        " energy: 7.35e-03 best: -1.52e-03\n",
        "T: 9.58e-01"
       ]
      },
      {
       "output_type": "stream",
       "stream": "stdout",
       "text": [
        " energy: 7.10e-03 best: -1.52e-03\n",
        "T: 9.53e-01"
       ]
      },
      {
       "output_type": "stream",
       "stream": "stdout",
       "text": [
        " energy: 7.54e-03 best: -1.52e-03\n",
        "T: 9.48e-01"
       ]
      },
      {
       "output_type": "stream",
       "stream": "stdout",
       "text": [
        " energy: 8.40e-03 best: -1.52e-03\n",
        "T: 9.44e-01"
       ]
      },
      {
       "output_type": "stream",
       "stream": "stdout",
       "text": [
        " energy: 6.71e-03 best: -1.52e-03\n",
        "T: 9.39e-01"
       ]
      },
      {
       "output_type": "stream",
       "stream": "stdout",
       "text": [
        " energy: 5.49e-03 best: -1.52e-03\n",
        "T: 9.34e-01"
       ]
      },
      {
       "output_type": "stream",
       "stream": "stdout",
       "text": [
        " energy: 3.72e-03 best: -1.52e-03\n",
        "T: 9.30e-01"
       ]
      },
      {
       "output_type": "stream",
       "stream": "stdout",
       "text": [
        " energy: 5.17e-03 best: -1.52e-03\n",
        "T: 9.25e-01"
       ]
      },
      {
       "output_type": "stream",
       "stream": "stdout",
       "text": [
        " energy: 3.63e-03 best: -1.52e-03\n",
        "T: 9.20e-01"
       ]
      },
      {
       "output_type": "stream",
       "stream": "stdout",
       "text": [
        " energy: 1.15e-02 best: -1.52e-03\n",
        "T: 9.16e-01"
       ]
      },
      {
       "output_type": "stream",
       "stream": "stdout",
       "text": [
        " energy: 9.20e-03 best: -1.52e-03\n",
        "T: 9.11e-01"
       ]
      },
      {
       "output_type": "stream",
       "stream": "stdout",
       "text": [
        " energy: 7.88e-03 best: -1.52e-03\n",
        "T: 9.07e-01"
       ]
      },
      {
       "output_type": "stream",
       "stream": "stdout",
       "text": [
        " energy: 6.90e-03 best: -1.52e-03\n",
        "T: 9.02e-01"
       ]
      },
      {
       "output_type": "stream",
       "stream": "stdout",
       "text": [
        " energy: 7.04e-03 best: -1.52e-03\n",
        "T: 8.98e-01"
       ]
      },
      {
       "output_type": "stream",
       "stream": "stdout",
       "text": [
        " energy: 6.45e-03 best: -1.52e-03\n",
        "T: 8.93e-01"
       ]
      },
      {
       "output_type": "stream",
       "stream": "stdout",
       "text": [
        " energy: 6.67e-03 best: -1.52e-03\n",
        "T: 8.89e-01"
       ]
      },
      {
       "output_type": "stream",
       "stream": "stdout",
       "text": [
        " energy: 6.83e-03 best: -1.52e-03\n",
        "T: 8.84e-01"
       ]
      },
      {
       "output_type": "stream",
       "stream": "stdout",
       "text": [
        " energy: 4.84e-03 best: -1.52e-03\n",
        "T: 8.80e-01"
       ]
      },
      {
       "output_type": "stream",
       "stream": "stdout",
       "text": [
        " energy: 5.57e-03 best: -1.52e-03\n",
        "T: 8.75e-01"
       ]
      },
      {
       "output_type": "stream",
       "stream": "stdout",
       "text": [
        " energy: 3.85e-03 best: -1.52e-03\n",
        "T: 8.71e-01"
       ]
      },
      {
       "output_type": "stream",
       "stream": "stdout",
       "text": [
        " energy: 5.30e-03 best: -1.52e-03\n",
        "T: 8.67e-01"
       ]
      },
      {
       "output_type": "stream",
       "stream": "stdout",
       "text": [
        " energy: 8.62e-03 best: -1.52e-03\n",
        "T: 8.62e-01"
       ]
      },
      {
       "output_type": "stream",
       "stream": "stdout",
       "text": [
        " energy: 7.26e-03 best: -1.52e-03\n",
        "T: 8.58e-01"
       ]
      },
      {
       "output_type": "stream",
       "stream": "stdout",
       "text": [
        " energy: 5.93e-03 best: -1.52e-03\n",
        "T: 8.54e-01"
       ]
      },
      {
       "output_type": "stream",
       "stream": "stdout",
       "text": [
        " energy: 8.51e-03 best: -1.52e-03\n",
        "T: 8.49e-01"
       ]
      },
      {
       "output_type": "stream",
       "stream": "stdout",
       "text": [
        " energy: 6.44e-03 best: -1.52e-03\n",
        "T: 8.45e-01"
       ]
      },
      {
       "output_type": "stream",
       "stream": "stdout",
       "text": [
        " energy: 5.33e-03 best: -1.52e-03\n",
        "T: 8.41e-01"
       ]
      },
      {
       "output_type": "stream",
       "stream": "stdout",
       "text": [
        " energy: 3.84e-03 best: -1.52e-03\n",
        "T: 8.37e-01"
       ]
      },
      {
       "output_type": "stream",
       "stream": "stdout",
       "text": [
        " energy: 5.58e-03 best: -1.52e-03\n",
        "T: 8.33e-01"
       ]
      },
      {
       "output_type": "stream",
       "stream": "stdout",
       "text": [
        " energy: 5.44e-03 best: -1.52e-03\n",
        "T: 8.28e-01"
       ]
      },
      {
       "output_type": "stream",
       "stream": "stdout",
       "text": [
        " energy: 7.24e-03 best: -1.52e-03\n",
        "T: 8.24e-01"
       ]
      },
      {
       "output_type": "stream",
       "stream": "stdout",
       "text": [
        " energy: 7.13e-03 best: -1.52e-03\n",
        "T: 8.20e-01"
       ]
      },
      {
       "output_type": "stream",
       "stream": "stdout",
       "text": [
        " energy: 8.23e-03 best: -1.52e-03\n",
        "T: 8.16e-01"
       ]
      },
      {
       "output_type": "stream",
       "stream": "stdout",
       "text": [
        " energy: 8.42e-03 best: -1.52e-03\n",
        "T: 8.12e-01"
       ]
      },
      {
       "output_type": "stream",
       "stream": "stdout",
       "text": [
        " energy: 1.02e-02 best: -1.52e-03\n",
        "T: 8.08e-01"
       ]
      },
      {
       "output_type": "stream",
       "stream": "stdout",
       "text": [
        " energy: 7.20e-03 best: -1.52e-03\n",
        "T: 8.04e-01"
       ]
      },
      {
       "output_type": "stream",
       "stream": "stdout",
       "text": [
        " energy: 6.63e-03 best: -1.52e-03\n",
        "T: 8.00e-01"
       ]
      },
      {
       "output_type": "stream",
       "stream": "stdout",
       "text": [
        " energy: 6.29e-03 best: -1.52e-03\n",
        "T: 7.96e-01"
       ]
      },
      {
       "output_type": "stream",
       "stream": "stdout",
       "text": [
        " energy: 4.43e-03 best: -1.52e-03\n",
        "T: 7.92e-01"
       ]
      },
      {
       "output_type": "stream",
       "stream": "stdout",
       "text": [
        " energy: 5.93e-03 best: -1.52e-03\n",
        "T: 7.88e-01"
       ]
      },
      {
       "output_type": "stream",
       "stream": "stdout",
       "text": [
        " energy: 5.64e-03 best: -1.52e-03\n",
        "T: 7.84e-01"
       ]
      },
      {
       "output_type": "stream",
       "stream": "stdout",
       "text": [
        " energy: 4.59e-03 best: -1.52e-03\n",
        "T: 7.80e-01"
       ]
      },
      {
       "output_type": "stream",
       "stream": "stdout",
       "text": [
        " energy: 4.97e-03 best: -1.52e-03\n",
        "T: 7.76e-01"
       ]
      },
      {
       "output_type": "stream",
       "stream": "stdout",
       "text": [
        " energy: 8.31e-03 best: -1.52e-03\n",
        "T: 7.72e-01"
       ]
      },
      {
       "output_type": "stream",
       "stream": "stdout",
       "text": [
        " energy: 7.43e-03 best: -1.52e-03\n",
        "T: 7.68e-01"
       ]
      },
      {
       "output_type": "stream",
       "stream": "stdout",
       "text": [
        " energy: 7.68e-03 best: -1.52e-03\n",
        "T: 7.65e-01"
       ]
      },
      {
       "output_type": "stream",
       "stream": "stdout",
       "text": [
        " energy: 7.84e-03 best: -1.52e-03\n",
        "T: 7.61e-01"
       ]
      },
      {
       "output_type": "stream",
       "stream": "stdout",
       "text": [
        " energy: 6.08e-03 best: -1.52e-03\n",
        "T: 7.57e-01"
       ]
      },
      {
       "output_type": "stream",
       "stream": "stdout",
       "text": [
        " energy: 8.56e-03 best: -1.52e-03\n",
        "T: 7.53e-01"
       ]
      },
      {
       "output_type": "stream",
       "stream": "stdout",
       "text": [
        " energy: 7.91e-03 best: -1.52e-03\n",
        "T: 7.49e-01"
       ]
      },
      {
       "output_type": "stream",
       "stream": "stdout",
       "text": [
        " energy: 7.12e-03 best: -1.52e-03\n",
        "T: 7.46e-01"
       ]
      },
      {
       "output_type": "stream",
       "stream": "stdout",
       "text": [
        " energy: 9.04e-03 best: -1.52e-03\n",
        "T: 7.42e-01"
       ]
      },
      {
       "output_type": "stream",
       "stream": "stdout",
       "text": [
        " energy: 9.22e-03 best: -1.52e-03\n",
        "T: 7.38e-01"
       ]
      },
      {
       "output_type": "stream",
       "stream": "stdout",
       "text": [
        " energy: 8.04e-03 best: -1.52e-03\n",
        "T: 7.35e-01"
       ]
      },
      {
       "output_type": "stream",
       "stream": "stdout",
       "text": [
        " energy: 5.22e-03 best: -1.52e-03\n",
        "T: 7.31e-01"
       ]
      },
      {
       "output_type": "stream",
       "stream": "stdout",
       "text": [
        " energy: 5.54e-03 best: -1.52e-03\n",
        "T: 7.27e-01"
       ]
      },
      {
       "output_type": "stream",
       "stream": "stdout",
       "text": [
        " energy: 6.08e-03 best: -1.52e-03\n",
        "T: 7.24e-01"
       ]
      },
      {
       "output_type": "stream",
       "stream": "stdout",
       "text": [
        " energy: 7.10e-03 best: -1.52e-03\n",
        "T: 7.20e-01"
       ]
      },
      {
       "output_type": "stream",
       "stream": "stdout",
       "text": [
        " energy: 7.97e-03 best: -1.52e-03\n",
        "T: 7.16e-01"
       ]
      },
      {
       "output_type": "stream",
       "stream": "stdout",
       "text": [
        " energy: 6.54e-03 best: -1.52e-03\n",
        "T: 7.13e-01"
       ]
      },
      {
       "output_type": "stream",
       "stream": "stdout",
       "text": [
        " energy: 6.46e-03 best: -1.52e-03\n",
        "T: 7.09e-01"
       ]
      },
      {
       "output_type": "stream",
       "stream": "stdout",
       "text": [
        " energy: 4.20e-03 best: -1.52e-03\n",
        "T: 7.06e-01"
       ]
      },
      {
       "output_type": "stream",
       "stream": "stdout",
       "text": [
        " energy: 3.72e-03 best: -1.52e-03\n",
        "T: 7.02e-01"
       ]
      },
      {
       "output_type": "stream",
       "stream": "stdout",
       "text": [
        " energy: 4.34e-03 best: -1.52e-03\n",
        "T: 6.99e-01"
       ]
      },
      {
       "output_type": "stream",
       "stream": "stdout",
       "text": [
        " energy: 6.79e-03 best: -1.52e-03\n",
        "T: 6.95e-01"
       ]
      },
      {
       "output_type": "stream",
       "stream": "stdout",
       "text": [
        " energy: 1.02e-02 best: -1.52e-03\n",
        "T: 6.92e-01"
       ]
      },
      {
       "output_type": "stream",
       "stream": "stdout",
       "text": [
        " energy: 6.09e-03 best: -1.52e-03\n",
        "T: 6.88e-01"
       ]
      },
      {
       "output_type": "stream",
       "stream": "stdout",
       "text": [
        " energy: 9.48e-03 best: -1.52e-03\n",
        "T: 6.85e-01"
       ]
      },
      {
       "output_type": "stream",
       "stream": "stdout",
       "text": [
        " energy: 8.85e-03 best: -1.52e-03\n",
        "T: 6.81e-01"
       ]
      },
      {
       "output_type": "stream",
       "stream": "stdout",
       "text": [
        " energy: 7.71e-03 best: -1.52e-03\n",
        "T: 6.78e-01"
       ]
      },
      {
       "output_type": "stream",
       "stream": "stdout",
       "text": [
        " energy: 5.34e-03 best: -1.52e-03\n",
        "T: 6.75e-01"
       ]
      },
      {
       "output_type": "stream",
       "stream": "stdout",
       "text": [
        " energy: 6.22e-03 best: -1.52e-03\n",
        "T: 6.71e-01"
       ]
      },
      {
       "output_type": "stream",
       "stream": "stdout",
       "text": [
        " energy: 6.99e-03 best: -1.52e-03\n",
        "T: 6.68e-01"
       ]
      },
      {
       "output_type": "stream",
       "stream": "stdout",
       "text": [
        " energy: 7.68e-03 best: -1.52e-03\n",
        "T: 6.64e-01"
       ]
      },
      {
       "output_type": "stream",
       "stream": "stdout",
       "text": [
        " energy: 6.10e-03 best: -1.52e-03\n",
        "T: 6.61e-01"
       ]
      },
      {
       "output_type": "stream",
       "stream": "stdout",
       "text": [
        " energy: 1.09e-02 best: -1.52e-03\n",
        "T: 6.58e-01"
       ]
      },
      {
       "output_type": "stream",
       "stream": "stdout",
       "text": [
        " energy: 6.82e-03 best: -1.52e-03\n",
        "T: 6.55e-01"
       ]
      },
      {
       "output_type": "stream",
       "stream": "stdout",
       "text": [
        " energy: 8.41e-03 best: -1.52e-03\n",
        "T: 6.51e-01"
       ]
      },
      {
       "output_type": "stream",
       "stream": "stdout",
       "text": [
        " energy: 7.85e-03 best: -1.52e-03\n",
        "T: 6.48e-01"
       ]
      },
      {
       "output_type": "stream",
       "stream": "stdout",
       "text": [
        " energy: 6.74e-03 best: -1.52e-03\n",
        "T: 6.45e-01"
       ]
      },
      {
       "output_type": "stream",
       "stream": "stdout",
       "text": [
        " energy: 9.81e-03 best: -1.52e-03\n",
        "T: 6.42e-01"
       ]
      },
      {
       "output_type": "stream",
       "stream": "stdout",
       "text": [
        " energy: 7.41e-03 best: -1.52e-03\n",
        "T: 6.38e-01"
       ]
      },
      {
       "output_type": "stream",
       "stream": "stdout",
       "text": [
        " energy: 8.04e-03 best: -1.52e-03\n",
        "T: 6.35e-01"
       ]
      },
      {
       "output_type": "stream",
       "stream": "stdout",
       "text": [
        " energy: 1.12e-02 best: -1.52e-03\n",
        "T: 6.32e-01"
       ]
      },
      {
       "output_type": "stream",
       "stream": "stdout",
       "text": [
        " energy: 7.27e-03 best: -1.52e-03\n",
        "T: 6.29e-01"
       ]
      },
      {
       "output_type": "stream",
       "stream": "stdout",
       "text": [
        " energy: 7.55e-03 best: -1.52e-03\n",
        "T: 6.26e-01"
       ]
      },
      {
       "output_type": "stream",
       "stream": "stdout",
       "text": [
        " energy: 7.64e-03 best: -1.52e-03\n",
        "T: 6.23e-01"
       ]
      },
      {
       "output_type": "stream",
       "stream": "stdout",
       "text": [
        " energy: 2.42e-03 best: -1.52e-03\n",
        "T: 6.19e-01"
       ]
      },
      {
       "output_type": "stream",
       "stream": "stdout",
       "text": [
        " energy: 7.86e-03 best: -1.52e-03\n",
        "T: 6.16e-01"
       ]
      },
      {
       "output_type": "stream",
       "stream": "stdout",
       "text": [
        " energy: 8.43e-03 best: -1.52e-03\n",
        "T: 6.13e-01"
       ]
      },
      {
       "output_type": "stream",
       "stream": "stdout",
       "text": [
        " energy: 5.18e-03 best: -1.52e-03\n",
        "T: 6.10e-01"
       ]
      },
      {
       "output_type": "stream",
       "stream": "stdout",
       "text": [
        " energy: 7.67e-03 best: -1.52e-03\n",
        "T: 6.07e-01"
       ]
      },
      {
       "output_type": "stream",
       "stream": "stdout",
       "text": [
        " energy: 1.09e-02 best: -1.52e-03\n",
        "T: 6.04e-01"
       ]
      },
      {
       "output_type": "stream",
       "stream": "stdout",
       "text": [
        " energy: 1.01e-02 best: -1.52e-03\n",
        "T: 6.01e-01"
       ]
      },
      {
       "output_type": "stream",
       "stream": "stdout",
       "text": [
        " energy: 7.00e-03 best: -1.52e-03\n",
        "T: 5.98e-01"
       ]
      },
      {
       "output_type": "stream",
       "stream": "stdout",
       "text": [
        " energy: 7.54e-03 best: -1.52e-03\n",
        "T: 5.95e-01"
       ]
      },
      {
       "output_type": "stream",
       "stream": "stdout",
       "text": [
        " energy: 7.25e-03 best: -1.52e-03\n",
        "T: 5.92e-01"
       ]
      },
      {
       "output_type": "stream",
       "stream": "stdout",
       "text": [
        " energy: 6.54e-03 best: -1.52e-03\n",
        "T: 5.89e-01"
       ]
      },
      {
       "output_type": "stream",
       "stream": "stdout",
       "text": [
        " energy: 8.72e-03 best: -1.52e-03\n",
        "T: 5.86e-01"
       ]
      },
      {
       "output_type": "stream",
       "stream": "stdout",
       "text": [
        " energy: 1.20e-02 best: -1.52e-03\n",
        "T: 5.83e-01"
       ]
      },
      {
       "output_type": "stream",
       "stream": "stdout",
       "text": [
        " energy: 9.61e-03 best: -1.52e-03\n",
        "T: 5.80e-01"
       ]
      },
      {
       "output_type": "stream",
       "stream": "stdout",
       "text": [
        " energy: 9.73e-03 best: -1.52e-03\n",
        "T: 5.77e-01"
       ]
      },
      {
       "output_type": "stream",
       "stream": "stdout",
       "text": [
        " energy: 8.88e-03 best: -1.52e-03\n",
        "T: 5.75e-01"
       ]
      },
      {
       "output_type": "stream",
       "stream": "stdout",
       "text": [
        " energy: 1.02e-02 best: -1.52e-03\n",
        "T: 5.72e-01"
       ]
      },
      {
       "output_type": "stream",
       "stream": "stdout",
       "text": [
        " energy: 6.21e-03 best: -1.52e-03\n",
        "T: 5.69e-01"
       ]
      },
      {
       "output_type": "stream",
       "stream": "stdout",
       "text": [
        " energy: 9.88e-03 best: -1.52e-03\n",
        "T: 5.66e-01"
       ]
      },
      {
       "output_type": "stream",
       "stream": "stdout",
       "text": [
        " energy: 8.51e-03 best: -1.52e-03\n",
        "T: 5.63e-01"
       ]
      },
      {
       "output_type": "stream",
       "stream": "stdout",
       "text": [
        " energy: 4.39e-03 best: -1.52e-03\n",
        "T: 5.60e-01"
       ]
      },
      {
       "output_type": "stream",
       "stream": "stdout",
       "text": [
        " energy: 4.82e-03 best: -1.52e-03\n",
        "T: 5.58e-01"
       ]
      },
      {
       "output_type": "stream",
       "stream": "stdout",
       "text": [
        " energy: 6.44e-03 best: -1.52e-03\n",
        "T: 5.55e-01"
       ]
      },
      {
       "output_type": "stream",
       "stream": "stdout",
       "text": [
        " energy: 8.83e-03 best: -1.52e-03\n",
        "T: 5.52e-01"
       ]
      },
      {
       "output_type": "stream",
       "stream": "stdout",
       "text": [
        " energy: 6.95e-03 best: -1.52e-03\n",
        "T: 5.49e-01"
       ]
      },
      {
       "output_type": "stream",
       "stream": "stdout",
       "text": [
        " energy: 5.28e-03 best: -1.52e-03\n",
        "T: 5.46e-01"
       ]
      },
      {
       "output_type": "stream",
       "stream": "stdout",
       "text": [
        " energy: 7.45e-03 best: -1.52e-03\n",
        "T: 5.44e-01"
       ]
      },
      {
       "output_type": "stream",
       "stream": "stdout",
       "text": [
        " energy: 6.43e-03 best: -1.52e-03\n",
        "T: 5.41e-01"
       ]
      },
      {
       "output_type": "stream",
       "stream": "stdout",
       "text": [
        " energy: 6.51e-03 best: -1.52e-03\n",
        "T: 5.38e-01"
       ]
      },
      {
       "output_type": "stream",
       "stream": "stdout",
       "text": [
        " energy: 7.51e-03 best: -1.52e-03\n",
        "T: 5.36e-01"
       ]
      },
      {
       "output_type": "stream",
       "stream": "stdout",
       "text": [
        " energy: 8.36e-03 best: -1.52e-03\n",
        "T: 5.33e-01"
       ]
      },
      {
       "output_type": "stream",
       "stream": "stdout",
       "text": [
        " energy: 3.59e-03 best: -1.52e-03\n",
        "T: 5.30e-01"
       ]
      },
      {
       "output_type": "stream",
       "stream": "stdout",
       "text": [
        " energy: 2.33e-03 best: -1.52e-03\n",
        "T: 5.28e-01"
       ]
      },
      {
       "output_type": "stream",
       "stream": "stdout",
       "text": [
        " energy: 6.54e-03 best: -1.52e-03\n",
        "T: 5.25e-01"
       ]
      },
      {
       "output_type": "stream",
       "stream": "stdout",
       "text": [
        " energy: 5.95e-03 best: -1.52e-03\n",
        "T: 5.22e-01"
       ]
      },
      {
       "output_type": "stream",
       "stream": "stdout",
       "text": [
        " energy: 6.70e-03 best: -1.52e-03\n",
        "T: 5.20e-01"
       ]
      },
      {
       "output_type": "stream",
       "stream": "stdout",
       "text": [
        " energy: 6.01e-03 best: -1.52e-03\n",
        "T: 5.17e-01"
       ]
      },
      {
       "output_type": "stream",
       "stream": "stdout",
       "text": [
        " energy: 5.41e-03 best: -1.52e-03\n",
        "T: 5.15e-01"
       ]
      },
      {
       "output_type": "stream",
       "stream": "stdout",
       "text": [
        " energy: 5.44e-03 best: -1.52e-03\n",
        "T: 5.12e-01"
       ]
      },
      {
       "output_type": "stream",
       "stream": "stdout",
       "text": [
        " energy: 7.35e-03 best: -1.52e-03\n",
        "T: 5.09e-01"
       ]
      },
      {
       "output_type": "stream",
       "stream": "stdout",
       "text": [
        " energy: 5.19e-03 best: -1.52e-03\n",
        "T: 5.07e-01"
       ]
      },
      {
       "output_type": "stream",
       "stream": "stdout",
       "text": [
        " energy: 3.31e-03 best: -1.52e-03\n",
        "T: 5.04e-01"
       ]
      },
      {
       "output_type": "stream",
       "stream": "stdout",
       "text": [
        " energy: 7.50e-03 best: -1.52e-03\n",
        "T: 5.02e-01"
       ]
      },
      {
       "output_type": "stream",
       "stream": "stdout",
       "text": [
        " energy: 6.48e-03 best: -1.52e-03\n",
        "T: 4.99e-01"
       ]
      },
      {
       "output_type": "stream",
       "stream": "stdout",
       "text": [
        " energy: 8.96e-03 best: -1.52e-03\n",
        "T: 4.97e-01"
       ]
      },
      {
       "output_type": "stream",
       "stream": "stdout",
       "text": [
        " energy: 8.56e-03 best: -1.52e-03\n",
        "T: 4.94e-01"
       ]
      },
      {
       "output_type": "stream",
       "stream": "stdout",
       "text": [
        " energy: 6.51e-03 best: -1.52e-03\n",
        "T: 4.92e-01"
       ]
      },
      {
       "output_type": "stream",
       "stream": "stdout",
       "text": [
        " energy: 7.12e-03 best: -1.52e-03\n",
        "T: 4.89e-01"
       ]
      },
      {
       "output_type": "stream",
       "stream": "stdout",
       "text": [
        " energy: 8.17e-03 best: -1.52e-03\n",
        "T: 4.87e-01"
       ]
      },
      {
       "output_type": "stream",
       "stream": "stdout",
       "text": [
        " energy: 9.82e-03 best: -1.52e-03\n",
        "T: 4.85e-01"
       ]
      },
      {
       "output_type": "stream",
       "stream": "stdout",
       "text": [
        " energy: 8.22e-03 best: -1.52e-03\n",
        "T: 4.82e-01"
       ]
      },
      {
       "output_type": "stream",
       "stream": "stdout",
       "text": [
        " energy: 7.34e-03 best: -1.52e-03\n",
        "T: 4.80e-01"
       ]
      },
      {
       "output_type": "stream",
       "stream": "stdout",
       "text": [
        " energy: 1.03e-02 best: -1.52e-03\n",
        "T: 4.77e-01"
       ]
      },
      {
       "output_type": "stream",
       "stream": "stdout",
       "text": [
        " energy: 9.86e-03 best: -1.52e-03\n",
        "T: 4.75e-01"
       ]
      },
      {
       "output_type": "stream",
       "stream": "stdout",
       "text": [
        " energy: 8.69e-03 best: -1.52e-03\n",
        "T: 4.73e-01"
       ]
      },
      {
       "output_type": "stream",
       "stream": "stdout",
       "text": [
        " energy: 4.83e-03 best: -1.52e-03\n",
        "T: 4.70e-01"
       ]
      },
      {
       "output_type": "stream",
       "stream": "stdout",
       "text": [
        " energy: 7.14e-03 best: -1.52e-03\n",
        "T: 4.68e-01"
       ]
      },
      {
       "output_type": "stream",
       "stream": "stdout",
       "text": [
        " energy: 6.95e-03 best: -1.52e-03\n",
        "T: 4.65e-01"
       ]
      },
      {
       "output_type": "stream",
       "stream": "stdout",
       "text": [
        " energy: 4.27e-03 best: -1.52e-03\n",
        "T: 4.63e-01"
       ]
      },
      {
       "output_type": "stream",
       "stream": "stdout",
       "text": [
        " energy: 5.59e-03 best: -1.52e-03\n",
        "T: 4.61e-01"
       ]
      },
      {
       "output_type": "stream",
       "stream": "stdout",
       "text": [
        " energy: 9.12e-03 best: -1.52e-03\n",
        "T: 4.59e-01"
       ]
      },
      {
       "output_type": "stream",
       "stream": "stdout",
       "text": [
        " energy: 6.04e-03 best: -1.52e-03\n",
        "T: 4.56e-01"
       ]
      },
      {
       "output_type": "stream",
       "stream": "stdout",
       "text": [
        " energy: 3.86e-03 best: -1.52e-03\n",
        "T: 4.54e-01"
       ]
      },
      {
       "output_type": "stream",
       "stream": "stdout",
       "text": [
        " energy: 2.97e-03 best: -1.52e-03\n",
        "T: 4.52e-01"
       ]
      },
      {
       "output_type": "stream",
       "stream": "stdout",
       "text": [
        " energy: 6.96e-03 best: -1.52e-03\n",
        "T: 4.49e-01"
       ]
      },
      {
       "output_type": "stream",
       "stream": "stdout",
       "text": [
        " energy: 6.96e-03 best: -1.52e-03\n",
        "T: 4.47e-01"
       ]
      },
      {
       "output_type": "stream",
       "stream": "stdout",
       "text": [
        " energy: 8.27e-03 best: -1.52e-03\n",
        "T: 4.45e-01"
       ]
      },
      {
       "output_type": "stream",
       "stream": "stdout",
       "text": [
        " energy: 8.19e-03 best: -1.52e-03\n",
        "T: 4.43e-01"
       ]
      },
      {
       "output_type": "stream",
       "stream": "stdout",
       "text": [
        " energy: 4.37e-03 best: -1.52e-03\n",
        "T: 4.41e-01"
       ]
      },
      {
       "output_type": "stream",
       "stream": "stdout",
       "text": [
        " energy: 2.31e-03 best: -1.52e-03\n",
        "T: 4.38e-01"
       ]
      },
      {
       "output_type": "stream",
       "stream": "stdout",
       "text": [
        " energy: 4.80e-03 best: -1.52e-03\n",
        "T: 4.36e-01"
       ]
      },
      {
       "output_type": "stream",
       "stream": "stdout",
       "text": [
        " energy: 2.89e-03 best: -1.52e-03\n",
        "T: 4.34e-01"
       ]
      },
      {
       "output_type": "stream",
       "stream": "stdout",
       "text": [
        " energy: 6.50e-03 best: -1.52e-03\n",
        "T: 4.32e-01"
       ]
      },
      {
       "output_type": "stream",
       "stream": "stdout",
       "text": [
        " energy: 7.03e-03 best: -1.52e-03\n",
        "T: 4.30e-01"
       ]
      },
      {
       "output_type": "stream",
       "stream": "stdout",
       "text": [
        " energy: 5.58e-03 best: -1.52e-03\n",
        "T: 4.27e-01"
       ]
      },
      {
       "output_type": "stream",
       "stream": "stdout",
       "text": [
        " energy: 6.60e-04 best: -1.52e-03\n",
        "T: 4.25e-01"
       ]
      },
      {
       "output_type": "stream",
       "stream": "stdout",
       "text": [
        " energy: 2.82e-03 best: -1.52e-03\n",
        "T: 4.23e-01"
       ]
      },
      {
       "output_type": "stream",
       "stream": "stdout",
       "text": [
        " energy: 6.85e-03 best: -1.52e-03\n",
        "T: 4.21e-01"
       ]
      },
      {
       "output_type": "stream",
       "stream": "stdout",
       "text": [
        " energy: 9.18e-03 best: -1.52e-03\n",
        "T: 4.19e-01"
       ]
      },
      {
       "output_type": "stream",
       "stream": "stdout",
       "text": [
        " energy: 7.80e-03 best: -1.52e-03\n",
        "T: 4.17e-01"
       ]
      },
      {
       "output_type": "stream",
       "stream": "stdout",
       "text": [
        " energy: 8.63e-03 best: -1.52e-03\n",
        "T: 4.15e-01"
       ]
      },
      {
       "output_type": "stream",
       "stream": "stdout",
       "text": [
        " energy: 7.40e-03 best: -1.52e-03\n",
        "T: 4.13e-01"
       ]
      },
      {
       "output_type": "stream",
       "stream": "stdout",
       "text": [
        " energy: 2.98e-03 best: -1.52e-03\n",
        "T: 4.11e-01"
       ]
      },
      {
       "output_type": "stream",
       "stream": "stdout",
       "text": [
        " energy: 5.94e-03 best: -1.52e-03\n",
        "T: 4.09e-01"
       ]
      },
      {
       "output_type": "stream",
       "stream": "stdout",
       "text": [
        " energy: 6.62e-03 best: -1.52e-03\n",
        "T: 4.07e-01"
       ]
      },
      {
       "output_type": "stream",
       "stream": "stdout",
       "text": [
        " energy: 1.02e-02 best: -1.52e-03\n",
        "T: 4.05e-01"
       ]
      },
      {
       "output_type": "stream",
       "stream": "stdout",
       "text": [
        " energy: 8.88e-03 best: -1.52e-03\n",
        "T: 4.03e-01"
       ]
      },
      {
       "output_type": "stream",
       "stream": "stdout",
       "text": [
        " energy: 8.30e-03 best: -1.52e-03\n",
        "T: 4.00e-01"
       ]
      },
      {
       "output_type": "stream",
       "stream": "stdout",
       "text": [
        " energy: 4.23e-03 best: -1.52e-03\n",
        "T: 3.98e-01"
       ]
      },
      {
       "output_type": "stream",
       "stream": "stdout",
       "text": [
        " energy: 3.31e-03 best: -1.52e-03\n",
        "T: 3.96e-01"
       ]
      },
      {
       "output_type": "stream",
       "stream": "stdout",
       "text": [
        " energy: 1.34e-03 best: -1.52e-03\n",
        "T: 3.95e-01"
       ]
      },
      {
       "output_type": "stream",
       "stream": "stdout",
       "text": [
        " energy: -1.42e-03 best: -1.52e-03\n",
        "T: 3.93e-01"
       ]
      },
      {
       "output_type": "stream",
       "stream": "stdout",
       "text": [
        " energy: 1.44e-03 best: -2.42e-03\n",
        "T: 3.91e-01"
       ]
      },
      {
       "output_type": "stream",
       "stream": "stdout",
       "text": [
        " energy: 5.44e-03 best: -2.42e-03\n",
        "T: 3.89e-01"
       ]
      },
      {
       "output_type": "stream",
       "stream": "stdout",
       "text": [
        " energy: 9.48e-03 best: -2.42e-03\n",
        "T: 3.87e-01"
       ]
      },
      {
       "output_type": "stream",
       "stream": "stdout",
       "text": [
        " energy: 4.91e-03 best: -2.42e-03\n",
        "T: 3.85e-01"
       ]
      },
      {
       "output_type": "stream",
       "stream": "stdout",
       "text": [
        " energy: 8.52e-03 best: -2.42e-03\n",
        "T: 3.83e-01"
       ]
      },
      {
       "output_type": "stream",
       "stream": "stdout",
       "text": [
        " energy: 8.96e-03 best: -2.42e-03\n",
        "T: 3.81e-01"
       ]
      },
      {
       "output_type": "stream",
       "stream": "stdout",
       "text": [
        " energy: 9.41e-03 best: -2.42e-03\n",
        "T: 3.79e-01"
       ]
      },
      {
       "output_type": "stream",
       "stream": "stdout",
       "text": [
        " energy: 8.41e-03 best: -2.42e-03\n",
        "T: 3.77e-01"
       ]
      },
      {
       "output_type": "stream",
       "stream": "stdout",
       "text": [
        " energy: 1.08e-02 best: -2.42e-03\n",
        "T: 3.75e-01"
       ]
      },
      {
       "output_type": "stream",
       "stream": "stdout",
       "text": [
        " energy: 1.11e-02 best: -2.42e-03\n",
        "T: 3.73e-01"
       ]
      },
      {
       "output_type": "stream",
       "stream": "stdout",
       "text": [
        " energy: 9.22e-03 best: -2.42e-03\n",
        "T: 3.71e-01"
       ]
      },
      {
       "output_type": "stream",
       "stream": "stdout",
       "text": [
        " energy: 6.11e-03 best: -2.42e-03\n",
        "T: 3.70e-01"
       ]
      },
      {
       "output_type": "stream",
       "stream": "stdout",
       "text": [
        " energy: 8.00e-03 best: -2.42e-03\n",
        "T: 3.68e-01"
       ]
      },
      {
       "output_type": "stream",
       "stream": "stdout",
       "text": [
        " energy: 3.07e-03 best: -2.42e-03\n",
        "T: 3.66e-01"
       ]
      },
      {
       "output_type": "stream",
       "stream": "stdout",
       "text": [
        " energy: 3.51e-03 best: -2.42e-03\n",
        "T: 3.64e-01"
       ]
      },
      {
       "output_type": "stream",
       "stream": "stdout",
       "text": [
        " energy: 4.58e-03 best: -2.42e-03\n",
        "T: 3.62e-01"
       ]
      },
      {
       "output_type": "stream",
       "stream": "stdout",
       "text": [
        " energy: 5.79e-03 best: -2.42e-03\n",
        "T: 3.60e-01"
       ]
      },
      {
       "output_type": "stream",
       "stream": "stdout",
       "text": [
        " energy: 2.53e-03 best: -2.42e-03\n",
        "T: 3.59e-01"
       ]
      },
      {
       "output_type": "stream",
       "stream": "stdout",
       "text": [
        " energy: 3.59e-03 best: -2.42e-03\n",
        "T: 3.57e-01"
       ]
      },
      {
       "output_type": "stream",
       "stream": "stdout",
       "text": [
        " energy: 5.03e-03 best: -2.42e-03\n",
        "T: 3.55e-01"
       ]
      },
      {
       "output_type": "stream",
       "stream": "stdout",
       "text": [
        " energy: 6.14e-03 best: -2.42e-03\n",
        "T: 3.53e-01"
       ]
      },
      {
       "output_type": "stream",
       "stream": "stdout",
       "text": [
        " energy: 5.17e-03 best: -2.42e-03\n",
        "T: 3.52e-01"
       ]
      },
      {
       "output_type": "stream",
       "stream": "stdout",
       "text": [
        " energy: 6.30e-03 best: -2.42e-03\n",
        "T: 3.50e-01"
       ]
      },
      {
       "output_type": "stream",
       "stream": "stdout",
       "text": [
        " energy: 5.03e-03 best: -2.42e-03\n",
        "T: 3.48e-01"
       ]
      },
      {
       "output_type": "stream",
       "stream": "stdout",
       "text": [
        " energy: 5.38e-03 best: -2.42e-03\n",
        "T: 3.46e-01"
       ]
      },
      {
       "output_type": "stream",
       "stream": "stdout",
       "text": [
        " energy: 7.26e-03 best: -2.42e-03\n",
        "T: 3.45e-01"
       ]
      },
      {
       "output_type": "stream",
       "stream": "stdout",
       "text": [
        " energy: 1.09e-02 best: -2.42e-03\n",
        "T: 3.43e-01"
       ]
      },
      {
       "output_type": "stream",
       "stream": "stdout",
       "text": [
        " energy: 9.73e-03 best: -2.42e-03\n",
        "T: 3.41e-01"
       ]
      },
      {
       "output_type": "stream",
       "stream": "stdout",
       "text": [
        " energy: 9.30e-03 best: -2.42e-03\n",
        "T: 3.39e-01"
       ]
      },
      {
       "output_type": "stream",
       "stream": "stdout",
       "text": [
        " energy: 7.86e-03 best: -2.42e-03\n",
        "T: 3.38e-01"
       ]
      },
      {
       "output_type": "stream",
       "stream": "stdout",
       "text": [
        " energy: 6.85e-03 best: -2.42e-03\n",
        "T: 3.36e-01"
       ]
      },
      {
       "output_type": "stream",
       "stream": "stdout",
       "text": [
        " energy: 1.35e-02 best: -2.42e-03\n",
        "T: 3.34e-01"
       ]
      },
      {
       "output_type": "stream",
       "stream": "stdout",
       "text": [
        " energy: 1.23e-02 best: -2.42e-03\n",
        "T: 3.33e-01"
       ]
      },
      {
       "output_type": "stream",
       "stream": "stdout",
       "text": [
        " energy: 1.11e-02 best: -2.42e-03\n",
        "T: 3.31e-01"
       ]
      },
      {
       "output_type": "stream",
       "stream": "stdout",
       "text": [
        " energy: 8.73e-03 best: -2.42e-03\n",
        "T: 3.29e-01"
       ]
      },
      {
       "output_type": "stream",
       "stream": "stdout",
       "text": [
        " energy: 1.24e-02 best: -2.42e-03\n",
        "T: 3.28e-01"
       ]
      },
      {
       "output_type": "stream",
       "stream": "stdout",
       "text": [
        " energy: 1.09e-02 best: -2.42e-03\n",
        "T: 3.26e-01"
       ]
      },
      {
       "output_type": "stream",
       "stream": "stdout",
       "text": [
        " energy: 6.77e-03 best: -2.42e-03\n",
        "T: 3.24e-01"
       ]
      },
      {
       "output_type": "stream",
       "stream": "stdout",
       "text": [
        " energy: 6.81e-03 best: -2.42e-03\n",
        "T: 3.23e-01"
       ]
      },
      {
       "output_type": "stream",
       "stream": "stdout",
       "text": [
        " energy: 9.17e-03 best: -2.42e-03\n",
        "T: 3.21e-01"
       ]
      },
      {
       "output_type": "stream",
       "stream": "stdout",
       "text": [
        " energy: 1.43e-02 best: -2.42e-03\n",
        "T: 3.20e-01"
       ]
      },
      {
       "output_type": "stream",
       "stream": "stdout",
       "text": [
        " energy: 7.61e-03 best: -2.42e-03\n",
        "T: 3.18e-01"
       ]
      },
      {
       "output_type": "stream",
       "stream": "stdout",
       "text": [
        " energy: 5.20e-03 best: -2.42e-03\n",
        "T: 3.16e-01"
       ]
      },
      {
       "output_type": "stream",
       "stream": "stdout",
       "text": [
        " energy: 2.95e-03 best: -2.42e-03\n",
        "T: 3.15e-01"
       ]
      },
      {
       "output_type": "stream",
       "stream": "stdout",
       "text": [
        " energy: 3.57e-03 best: -2.42e-03\n",
        "T: 3.13e-01"
       ]
      },
      {
       "output_type": "stream",
       "stream": "stdout",
       "text": [
        " energy: 1.85e-03 best: -2.42e-03\n",
        "T: 3.12e-01"
       ]
      },
      {
       "output_type": "stream",
       "stream": "stdout",
       "text": [
        " energy: -1.31e-03 best: -2.42e-03\n",
        "T: 3.10e-01"
       ]
      },
      {
       "output_type": "stream",
       "stream": "stdout",
       "text": [
        " energy: 1.69e-03 best: -3.45e-03\n",
        "T: 3.09e-01"
       ]
      },
      {
       "output_type": "stream",
       "stream": "stdout",
       "text": [
        " energy: 4.89e-04 best: -3.45e-03\n",
        "T: 3.07e-01"
       ]
      },
      {
       "output_type": "stream",
       "stream": "stdout",
       "text": [
        " energy: -1.64e-04 best: -3.45e-03\n",
        "T: 3.06e-01"
       ]
      },
      {
       "output_type": "stream",
       "stream": "stdout",
       "text": [
        " energy: 5.43e-03 best: -3.45e-03\n",
        "T: 3.04e-01"
       ]
      },
      {
       "output_type": "stream",
       "stream": "stdout",
       "text": [
        " energy: -5.09e-04 best: -3.45e-03\n",
        "T: 3.02e-01"
       ]
      },
      {
       "output_type": "stream",
       "stream": "stdout",
       "text": [
        " energy: 1.54e-03 best: -3.45e-03\n",
        "T: 3.01e-01"
       ]
      },
      {
       "output_type": "stream",
       "stream": "stdout",
       "text": [
        " energy: 1.74e-03 best: -3.45e-03\n",
        "T: 2.99e-01"
       ]
      },
      {
       "output_type": "stream",
       "stream": "stdout",
       "text": [
        " energy: 6.34e-03 best: -3.45e-03\n",
        "T: 2.98e-01"
       ]
      },
      {
       "output_type": "stream",
       "stream": "stdout",
       "text": [
        " energy: 6.64e-03 best: -3.45e-03\n",
        "T: 2.96e-01"
       ]
      },
      {
       "output_type": "stream",
       "stream": "stdout",
       "text": [
        " energy: 1.27e-02 best: -3.45e-03\n",
        "T: 2.95e-01"
       ]
      },
      {
       "output_type": "stream",
       "stream": "stdout",
       "text": [
        " energy: 9.90e-03 best: -3.45e-03\n",
        "T: 2.94e-01"
       ]
      },
      {
       "output_type": "stream",
       "stream": "stdout",
       "text": [
        " energy: 6.46e-03 best: -3.45e-03\n",
        "T: 2.92e-01"
       ]
      },
      {
       "output_type": "stream",
       "stream": "stdout",
       "text": [
        " energy: 1.01e-02 best: -3.45e-03\n",
        "T: 2.91e-01"
       ]
      },
      {
       "output_type": "stream",
       "stream": "stdout",
       "text": [
        " energy: 1.12e-02 best: -3.45e-03\n",
        "T: 2.89e-01"
       ]
      },
      {
       "output_type": "stream",
       "stream": "stdout",
       "text": [
        " energy: 8.81e-03 best: -3.45e-03\n",
        "T: 2.88e-01"
       ]
      },
      {
       "output_type": "stream",
       "stream": "stdout",
       "text": [
        " energy: 7.82e-03 best: -3.45e-03\n",
        "T: 2.86e-01"
       ]
      },
      {
       "output_type": "stream",
       "stream": "stdout",
       "text": [
        " energy: 1.22e-02 best: -3.45e-03\n",
        "T: 2.85e-01"
       ]
      },
      {
       "output_type": "stream",
       "stream": "stdout",
       "text": [
        " energy: 1.10e-02 best: -3.45e-03\n",
        "T: 2.83e-01"
       ]
      },
      {
       "output_type": "stream",
       "stream": "stdout",
       "text": [
        " energy: 5.38e-03 best: -3.45e-03\n",
        "T: 2.82e-01"
       ]
      },
      {
       "output_type": "stream",
       "stream": "stdout",
       "text": [
        " energy: 6.32e-03 best: -3.45e-03\n",
        "T: 2.81e-01"
       ]
      },
      {
       "output_type": "stream",
       "stream": "stdout",
       "text": [
        " energy: 5.92e-03 best: -3.45e-03\n",
        "T: 2.79e-01"
       ]
      },
      {
       "output_type": "stream",
       "stream": "stdout",
       "text": [
        " energy: 8.91e-03 best: -3.45e-03\n",
        "T: 2.78e-01"
       ]
      },
      {
       "output_type": "stream",
       "stream": "stdout",
       "text": [
        " energy: 8.74e-03 best: -3.45e-03\n",
        "T: 2.76e-01"
       ]
      },
      {
       "output_type": "stream",
       "stream": "stdout",
       "text": [
        " energy: 8.37e-03 best: -3.45e-03\n",
        "T: 2.75e-01"
       ]
      },
      {
       "output_type": "stream",
       "stream": "stdout",
       "text": [
        " energy: 7.40e-03 best: -3.45e-03\n",
        "T: 2.74e-01"
       ]
      },
      {
       "output_type": "stream",
       "stream": "stdout",
       "text": [
        " energy: 6.32e-03 best: -3.45e-03\n",
        "T: 2.72e-01"
       ]
      },
      {
       "output_type": "stream",
       "stream": "stdout",
       "text": [
        " energy: 8.92e-03 best: -3.45e-03\n",
        "T: 2.71e-01"
       ]
      },
      {
       "output_type": "stream",
       "stream": "stdout",
       "text": [
        " energy: 9.06e-03 best: -3.45e-03\n",
        "T: 2.70e-01"
       ]
      },
      {
       "output_type": "stream",
       "stream": "stdout",
       "text": [
        " energy: 4.32e-03 best: -3.45e-03\n",
        "T: 2.68e-01"
       ]
      },
      {
       "output_type": "stream",
       "stream": "stdout",
       "text": [
        " energy: 7.78e-03 best: -3.45e-03\n",
        "T: 2.67e-01"
       ]
      },
      {
       "output_type": "stream",
       "stream": "stdout",
       "text": [
        " energy: 3.10e-03 best: -3.45e-03\n",
        "T: 2.66e-01"
       ]
      },
      {
       "output_type": "stream",
       "stream": "stdout",
       "text": [
        " energy: 1.06e-02 best: -3.45e-03\n",
        "T: 2.64e-01"
       ]
      },
      {
       "output_type": "stream",
       "stream": "stdout",
       "text": [
        " energy: 1.06e-02 best: -3.45e-03\n",
        "T: 2.63e-01"
       ]
      },
      {
       "output_type": "stream",
       "stream": "stdout",
       "text": [
        " energy: 1.00e-02 best: -3.45e-03\n",
        "T: 2.62e-01"
       ]
      },
      {
       "output_type": "stream",
       "stream": "stdout",
       "text": [
        " energy: 8.86e-03 best: -3.45e-03\n",
        "T: 2.60e-01"
       ]
      },
      {
       "output_type": "stream",
       "stream": "stdout",
       "text": [
        " energy: 8.41e-03 best: -3.45e-03\n",
        "T: 2.59e-01"
       ]
      },
      {
       "output_type": "stream",
       "stream": "stdout",
       "text": [
        " energy: 6.04e-03 best: -3.45e-03\n",
        "T: 2.58e-01"
       ]
      },
      {
       "output_type": "stream",
       "stream": "stdout",
       "text": [
        " energy: 5.59e-03 best: -3.45e-03\n",
        "T: 2.56e-01"
       ]
      },
      {
       "output_type": "stream",
       "stream": "stdout",
       "text": [
        " energy: 7.19e-03 best: -3.45e-03\n",
        "T: 2.55e-01"
       ]
      },
      {
       "output_type": "stream",
       "stream": "stdout",
       "text": [
        " energy: 9.28e-03 best: -3.45e-03\n",
        "T: 2.54e-01"
       ]
      },
      {
       "output_type": "stream",
       "stream": "stdout",
       "text": [
        " energy: 5.86e-03 best: -3.45e-03\n",
        "T: 2.53e-01"
       ]
      },
      {
       "output_type": "stream",
       "stream": "stdout",
       "text": [
        " energy: 1.21e-02 best: -3.45e-03\n",
        "T: 2.51e-01"
       ]
      },
      {
       "output_type": "stream",
       "stream": "stdout",
       "text": [
        " energy: 4.10e-03 best: -3.45e-03\n",
        "T: 2.50e-01"
       ]
      },
      {
       "output_type": "stream",
       "stream": "stdout",
       "text": [
        " energy: 5.67e-03 best: -3.45e-03\n",
        "T: 2.49e-01"
       ]
      },
      {
       "output_type": "stream",
       "stream": "stdout",
       "text": [
        " energy: 8.34e-03 best: -3.45e-03\n",
        "T: 2.48e-01"
       ]
      },
      {
       "output_type": "stream",
       "stream": "stdout",
       "text": [
        " energy: 6.55e-03 best: -3.45e-03\n",
        "T: 2.46e-01"
       ]
      },
      {
       "output_type": "stream",
       "stream": "stdout",
       "text": [
        " energy: 5.92e-03 best: -3.45e-03\n",
        "T: 2.45e-01"
       ]
      },
      {
       "output_type": "stream",
       "stream": "stdout",
       "text": [
        " energy: 4.24e-03 best: -3.45e-03\n",
        "T: 2.44e-01"
       ]
      },
      {
       "output_type": "stream",
       "stream": "stdout",
       "text": [
        " energy: 6.58e-03 best: -3.45e-03\n",
        "T: 2.43e-01"
       ]
      },
      {
       "output_type": "stream",
       "stream": "stdout",
       "text": [
        " energy: 9.83e-03 best: -3.45e-03\n",
        "T: 2.41e-01"
       ]
      },
      {
       "output_type": "stream",
       "stream": "stdout",
       "text": [
        " energy: 7.12e-03 best: -3.45e-03\n",
        "T: 2.40e-01"
       ]
      },
      {
       "output_type": "stream",
       "stream": "stdout",
       "text": [
        " energy: 7.80e-03 best: -3.45e-03\n",
        "T: 2.39e-01"
       ]
      },
      {
       "output_type": "stream",
       "stream": "stdout",
       "text": [
        " energy: 5.72e-03 best: -3.45e-03\n",
        "T: 2.38e-01"
       ]
      },
      {
       "output_type": "stream",
       "stream": "stdout",
       "text": [
        " energy: 8.07e-03 best: -3.45e-03\n",
        "T: 2.37e-01"
       ]
      },
      {
       "output_type": "stream",
       "stream": "stdout",
       "text": [
        " energy: 1.23e-02 best: -3.45e-03\n",
        "T: 2.35e-01"
       ]
      },
      {
       "output_type": "stream",
       "stream": "stdout",
       "text": [
        " energy: 1.22e-02 best: -3.45e-03\n",
        "T: 2.34e-01"
       ]
      },
      {
       "output_type": "stream",
       "stream": "stdout",
       "text": [
        " energy: 8.31e-03 best: -3.45e-03\n",
        "T: 2.33e-01"
       ]
      },
      {
       "output_type": "stream",
       "stream": "stdout",
       "text": [
        " energy: 1.04e-02 best: -3.45e-03\n",
        "T: 2.32e-01"
       ]
      },
      {
       "output_type": "stream",
       "stream": "stdout",
       "text": [
        " energy: 8.56e-03 best: -3.45e-03\n",
        "T: 2.31e-01"
       ]
      },
      {
       "output_type": "stream",
       "stream": "stdout",
       "text": [
        " energy: 1.07e-02 best: -3.45e-03\n",
        "T: 2.30e-01"
       ]
      },
      {
       "output_type": "stream",
       "stream": "stdout",
       "text": [
        " energy: 1.16e-02 best: -3.45e-03\n",
        "T: 2.28e-01"
       ]
      },
      {
       "output_type": "stream",
       "stream": "stdout",
       "text": [
        " energy: 1.22e-02 best: -3.45e-03\n",
        "T: 2.27e-01"
       ]
      },
      {
       "output_type": "stream",
       "stream": "stdout",
       "text": [
        " energy: 1.11e-02 best: -3.45e-03\n",
        "T: 2.26e-01"
       ]
      },
      {
       "output_type": "stream",
       "stream": "stdout",
       "text": [
        " energy: 1.17e-02 best: -3.45e-03\n",
        "T: 2.25e-01"
       ]
      },
      {
       "output_type": "stream",
       "stream": "stdout",
       "text": [
        " energy: 1.56e-02 best: -3.45e-03\n",
        "T: 2.24e-01"
       ]
      },
      {
       "output_type": "stream",
       "stream": "stdout",
       "text": [
        " energy: 1.22e-02 best: -3.45e-03\n",
        "T: 2.23e-01"
       ]
      },
      {
       "output_type": "stream",
       "stream": "stdout",
       "text": [
        " energy: 1.48e-02 best: -3.45e-03\n",
        "T: 2.22e-01"
       ]
      },
      {
       "output_type": "stream",
       "stream": "stdout",
       "text": [
        " energy: 1.85e-02 best: -3.45e-03\n",
        "T: 2.21e-01"
       ]
      },
      {
       "output_type": "stream",
       "stream": "stdout",
       "text": [
        " energy: 1.59e-02 best: -3.45e-03\n",
        "T: 2.19e-01"
       ]
      },
      {
       "output_type": "stream",
       "stream": "stdout",
       "text": [
        " energy: 9.66e-03 best: -3.45e-03\n",
        "T: 2.18e-01"
       ]
      },
      {
       "output_type": "stream",
       "stream": "stdout",
       "text": [
        " energy: 1.00e-02 best: -3.45e-03\n",
        "T: 2.17e-01"
       ]
      },
      {
       "output_type": "stream",
       "stream": "stdout",
       "text": [
        " energy: 9.26e-03 best: -3.45e-03\n",
        "T: 2.16e-01"
       ]
      },
      {
       "output_type": "stream",
       "stream": "stdout",
       "text": [
        " energy: 6.74e-03 best: -3.45e-03\n",
        "T: 2.15e-01"
       ]
      },
      {
       "output_type": "stream",
       "stream": "stdout",
       "text": [
        " energy: 1.33e-02 best: -3.45e-03\n",
        "T: 2.14e-01"
       ]
      },
      {
       "output_type": "stream",
       "stream": "stdout",
       "text": [
        " energy: 1.25e-02 best: -3.45e-03\n",
        "T: 2.13e-01"
       ]
      },
      {
       "output_type": "stream",
       "stream": "stdout",
       "text": [
        " energy: 8.25e-03 best: -3.45e-03\n",
        "T: 2.12e-01"
       ]
      },
      {
       "output_type": "stream",
       "stream": "stdout",
       "text": [
        " energy: 9.04e-03 best: -3.45e-03\n",
        "T: 2.11e-01"
       ]
      },
      {
       "output_type": "stream",
       "stream": "stdout",
       "text": [
        " energy: 1.02e-02 best: -3.45e-03\n",
        "T: 2.10e-01"
       ]
      },
      {
       "output_type": "stream",
       "stream": "stdout",
       "text": [
        " energy: 8.69e-03 best: -3.45e-03\n",
        "T: 2.09e-01"
       ]
      },
      {
       "output_type": "stream",
       "stream": "stdout",
       "text": [
        " energy: 8.76e-03 best: -3.45e-03\n",
        "T: 2.08e-01"
       ]
      },
      {
       "output_type": "stream",
       "stream": "stdout",
       "text": [
        " energy: 1.52e-02 best: -3.45e-03\n",
        "T: 2.07e-01"
       ]
      },
      {
       "output_type": "stream",
       "stream": "stdout",
       "text": [
        " energy: 1.38e-02 best: -3.45e-03\n",
        "T: 2.06e-01"
       ]
      },
      {
       "output_type": "stream",
       "stream": "stdout",
       "text": [
        " energy: 1.42e-02 best: -3.45e-03\n",
        "T: 2.05e-01"
       ]
      },
      {
       "output_type": "stream",
       "stream": "stdout",
       "text": [
        " energy: 1.18e-02 best: -3.45e-03\n",
        "T: 2.04e-01"
       ]
      },
      {
       "output_type": "stream",
       "stream": "stdout",
       "text": [
        " energy: 9.59e-03 best: -3.45e-03\n",
        "T: 2.03e-01"
       ]
      },
      {
       "output_type": "stream",
       "stream": "stdout",
       "text": [
        " energy: 9.87e-03 best: -3.45e-03\n",
        "T: 2.02e-01"
       ]
      },
      {
       "output_type": "stream",
       "stream": "stdout",
       "text": [
        " energy: 5.27e-03 best: -3.45e-03\n",
        "T: 2.01e-01"
       ]
      },
      {
       "output_type": "stream",
       "stream": "stdout",
       "text": [
        " energy: 5.82e-03 best: -3.45e-03\n",
        "T: 2.00e-01"
       ]
      },
      {
       "output_type": "stream",
       "stream": "stdout",
       "text": [
        " energy: 8.61e-03 best: -3.45e-03\n",
        "T: 1.99e-01"
       ]
      },
      {
       "output_type": "stream",
       "stream": "stdout",
       "text": [
        " energy: 6.77e-03 best: -3.45e-03\n",
        "T: 1.98e-01"
       ]
      },
      {
       "output_type": "stream",
       "stream": "stdout",
       "text": [
        " energy: 2.30e-03 best: -3.45e-03\n",
        "T: 1.97e-01"
       ]
      },
      {
       "output_type": "stream",
       "stream": "stdout",
       "text": [
        " energy: 1.05e-04 best: -3.45e-03\n",
        "T: 1.96e-01"
       ]
      },
      {
       "output_type": "stream",
       "stream": "stdout",
       "text": [
        " energy: 3.23e-04 best: -3.45e-03\n",
        "T: 1.95e-01"
       ]
      },
      {
       "output_type": "stream",
       "stream": "stdout",
       "text": [
        " energy: 7.55e-03 best: -3.45e-03\n",
        "T: 1.94e-01"
       ]
      },
      {
       "output_type": "stream",
       "stream": "stdout",
       "text": [
        " energy: 4.18e-03 best: -3.45e-03\n",
        "T: 1.93e-01"
       ]
      },
      {
       "output_type": "stream",
       "stream": "stdout",
       "text": [
        " energy: 8.51e-03 best: -3.45e-03\n",
        "T: 1.92e-01"
       ]
      },
      {
       "output_type": "stream",
       "stream": "stdout",
       "text": [
        " energy: 7.84e-03 best: -3.45e-03\n",
        "T: 1.91e-01"
       ]
      },
      {
       "output_type": "stream",
       "stream": "stdout",
       "text": [
        " energy: 6.23e-03 best: -3.45e-03\n",
        "T: 1.90e-01"
       ]
      },
      {
       "output_type": "stream",
       "stream": "stdout",
       "text": [
        " energy: 9.13e-03 best: -3.45e-03\n",
        "T: 1.89e-01"
       ]
      },
      {
       "output_type": "stream",
       "stream": "stdout",
       "text": [
        " energy: 9.55e-03 best: -3.45e-03\n",
        "T: 1.88e-01"
       ]
      },
      {
       "output_type": "stream",
       "stream": "stdout",
       "text": [
        " energy: 1.06e-02 best: -3.45e-03\n",
        "T: 1.87e-01"
       ]
      },
      {
       "output_type": "stream",
       "stream": "stdout",
       "text": [
        " energy: 1.04e-02 best: -3.45e-03\n",
        "T: 1.86e-01"
       ]
      },
      {
       "output_type": "stream",
       "stream": "stdout",
       "text": [
        " energy: 1.30e-02 best: -3.45e-03\n",
        "T: 1.85e-01"
       ]
      },
      {
       "output_type": "stream",
       "stream": "stdout",
       "text": [
        " energy: 1.09e-02 best: -3.45e-03\n",
        "T: 1.84e-01"
       ]
      },
      {
       "output_type": "stream",
       "stream": "stdout",
       "text": [
        " energy: 6.91e-03 best: -3.45e-03\n",
        "T: 1.83e-01"
       ]
      },
      {
       "output_type": "stream",
       "stream": "stdout",
       "text": [
        " energy: 1.03e-02 best: -3.45e-03\n",
        "T: 1.82e-01"
       ]
      },
      {
       "output_type": "stream",
       "stream": "stdout",
       "text": [
        " energy: 1.01e-02 best: -3.45e-03\n",
        "T: 1.81e-01"
       ]
      },
      {
       "output_type": "stream",
       "stream": "stdout",
       "text": [
        " energy: 3.45e-03 best: -3.45e-03\n",
        "T: 1.80e-01"
       ]
      },
      {
       "output_type": "stream",
       "stream": "stdout",
       "text": [
        " energy: 2.61e-03 best: -3.45e-03\n",
        "T: 1.80e-01"
       ]
      },
      {
       "output_type": "stream",
       "stream": "stdout",
       "text": [
        " energy: 4.41e-03 best: -3.45e-03\n",
        "T: 1.79e-01"
       ]
      },
      {
       "output_type": "stream",
       "stream": "stdout",
       "text": [
        " energy: 3.61e-03 best: -3.45e-03\n",
        "T: 1.78e-01"
       ]
      },
      {
       "output_type": "stream",
       "stream": "stdout",
       "text": [
        " energy: 4.66e-03 best: -3.45e-03\n",
        "T: 1.77e-01"
       ]
      },
      {
       "output_type": "stream",
       "stream": "stdout",
       "text": [
        " energy: -4.35e-04 best: -3.45e-03\n",
        "T: 1.76e-01"
       ]
      },
      {
       "output_type": "stream",
       "stream": "stdout",
       "text": [
        " energy: 5.34e-03 best: -5.46e-03\n",
        "T: 1.75e-01"
       ]
      },
      {
       "output_type": "stream",
       "stream": "stdout",
       "text": [
        " energy: 8.81e-04 best: -5.46e-03\n",
        "T: 1.74e-01"
       ]
      },
      {
       "output_type": "stream",
       "stream": "stdout",
       "text": [
        " energy: 6.35e-03 best: -5.46e-03\n",
        "T: 1.73e-01"
       ]
      },
      {
       "output_type": "stream",
       "stream": "stdout",
       "text": [
        " energy: 9.15e-03 best: -5.46e-03\n",
        "T: 1.73e-01"
       ]
      },
      {
       "output_type": "stream",
       "stream": "stdout",
       "text": [
        " energy: 4.91e-03 best: -5.46e-03\n",
        "T: 1.72e-01"
       ]
      },
      {
       "output_type": "stream",
       "stream": "stdout",
       "text": [
        " energy: 6.52e-03 best: -5.46e-03\n",
        "T: 1.71e-01"
       ]
      },
      {
       "output_type": "stream",
       "stream": "stdout",
       "text": [
        " energy: -3.96e-04 best: -5.46e-03\n",
        "T: 1.70e-01"
       ]
      },
      {
       "output_type": "stream",
       "stream": "stdout",
       "text": [
        " energy: 2.98e-03 best: -5.46e-03\n",
        "T: 1.69e-01"
       ]
      },
      {
       "output_type": "stream",
       "stream": "stdout",
       "text": [
        " energy: 5.85e-03 best: -5.46e-03\n",
        "T: 1.68e-01"
       ]
      },
      {
       "output_type": "stream",
       "stream": "stdout",
       "text": [
        " energy: 9.52e-03 best: -5.46e-03\n",
        "T: 1.67e-01"
       ]
      },
      {
       "output_type": "stream",
       "stream": "stdout",
       "text": [
        " energy: 5.43e-03 best: -5.46e-03\n",
        "T: 1.67e-01"
       ]
      },
      {
       "output_type": "stream",
       "stream": "stdout",
       "text": [
        " energy: 1.27e-02 best: -5.46e-03\n",
        "T: 1.66e-01"
       ]
      },
      {
       "output_type": "stream",
       "stream": "stdout",
       "text": [
        " energy: 8.46e-03 best: -5.46e-03\n",
        "T: 1.65e-01"
       ]
      },
      {
       "output_type": "stream",
       "stream": "stdout",
       "text": [
        " energy: 5.38e-03 best: -5.46e-03\n",
        "T: 1.64e-01"
       ]
      },
      {
       "output_type": "stream",
       "stream": "stdout",
       "text": [
        " energy: -1.29e-03 best: -5.46e-03\n",
        "T: 1.63e-01"
       ]
      },
      {
       "output_type": "stream",
       "stream": "stdout",
       "text": [
        " energy: 5.90e-03 best: -5.97e-03\n",
        "T: 1.62e-01"
       ]
      },
      {
       "output_type": "stream",
       "stream": "stdout",
       "text": [
        " energy: 3.94e-03 best: -5.97e-03\n",
        "T: 1.62e-01"
       ]
      },
      {
       "output_type": "stream",
       "stream": "stdout",
       "text": [
        " energy: -4.60e-03 best: -5.97e-03\n",
        "T: 1.61e-01"
       ]
      },
      {
       "output_type": "stream",
       "stream": "stdout",
       "text": [
        " energy: -4.07e-03 best: -8.42e-03\n",
        "T: 1.60e-01"
       ]
      },
      {
       "output_type": "stream",
       "stream": "stdout",
       "text": [
        " energy: -8.69e-03 best: -1.07e-02\n",
        "T: 1.59e-01"
       ]
      },
      {
       "output_type": "stream",
       "stream": "stdout",
       "text": [
        " energy: -3.97e-03 best: -1.07e-02\n",
        "T: 1.58e-01"
       ]
      },
      {
       "output_type": "stream",
       "stream": "stdout",
       "text": [
        " energy: -1.29e-02 best: -1.29e-02\n",
        "T: 1.58e-01"
       ]
      },
      {
       "output_type": "stream",
       "stream": "stdout",
       "text": [
        " energy: -1.05e-02 best: -1.43e-02\n",
        "T: 1.57e-01"
       ]
      },
      {
       "output_type": "stream",
       "stream": "stdout",
       "text": [
        " energy: -1.37e-02 best: -1.76e-02\n",
        "T: 1.56e-01"
       ]
      },
      {
       "output_type": "stream",
       "stream": "stdout",
       "text": [
        " energy: 2.88e-03 best: -1.76e-02\n",
        "T: 1.55e-01"
       ]
      },
      {
       "output_type": "stream",
       "stream": "stdout",
       "text": [
        " energy: 1.65e-02 best: -1.76e-02\n",
        "T: 1.55e-01"
       ]
      },
      {
       "output_type": "stream",
       "stream": "stdout",
       "text": [
        " energy: -2.40e-03 best: -1.76e-02\n",
        "T: 1.54e-01"
       ]
      },
      {
       "output_type": "stream",
       "stream": "stdout",
       "text": [
        " energy: 1.41e-02 best: -1.76e-02\n",
        "T: 1.53e-01"
       ]
      },
      {
       "output_type": "stream",
       "stream": "stdout",
       "text": [
        " energy: 1.21e-02 best: -1.76e-02\n",
        "T: 1.52e-01"
       ]
      },
      {
       "output_type": "stream",
       "stream": "stdout",
       "text": [
        " energy: 8.59e-03 best: -1.76e-02\n",
        "T: 1.51e-01"
       ]
      },
      {
       "output_type": "stream",
       "stream": "stdout",
       "text": [
        " energy: 1.02e-02 best: -1.76e-02\n",
        "T: 1.51e-01"
       ]
      },
      {
       "output_type": "stream",
       "stream": "stdout",
       "text": [
        " energy: 1.43e-02 best: -1.76e-02\n",
        "T: 1.50e-01"
       ]
      },
      {
       "output_type": "stream",
       "stream": "stdout",
       "text": [
        " energy: 6.60e-03 best: -1.76e-02\n",
        "T: 1.49e-01"
       ]
      },
      {
       "output_type": "stream",
       "stream": "stdout",
       "text": [
        " energy: 4.40e-03 best: -1.76e-02\n",
        "T: 1.48e-01"
       ]
      },
      {
       "output_type": "stream",
       "stream": "stdout",
       "text": [
        " energy: 7.16e-03 best: -1.76e-02\n",
        "T: 1.48e-01"
       ]
      },
      {
       "output_type": "stream",
       "stream": "stdout",
       "text": [
        " energy: 7.78e-03 best: -1.76e-02\n",
        "T: 1.47e-01"
       ]
      },
      {
       "output_type": "stream",
       "stream": "stdout",
       "text": [
        " energy: 9.13e-03 best: -1.76e-02\n",
        "T: 1.46e-01"
       ]
      },
      {
       "output_type": "stream",
       "stream": "stdout",
       "text": [
        " energy: 3.18e-03 best: -1.76e-02\n",
        "T: 1.45e-01"
       ]
      },
      {
       "output_type": "stream",
       "stream": "stdout",
       "text": [
        " energy: 6.30e-03 best: -1.76e-02\n",
        "T: 1.45e-01"
       ]
      },
      {
       "output_type": "stream",
       "stream": "stdout",
       "text": [
        " energy: 7.02e-03 best: -1.76e-02\n",
        "T: 1.44e-01"
       ]
      },
      {
       "output_type": "stream",
       "stream": "stdout",
       "text": [
        " energy: 2.05e-03 best: -1.76e-02\n",
        "T: 1.43e-01"
       ]
      },
      {
       "output_type": "stream",
       "stream": "stdout",
       "text": [
        " energy: 5.84e-03 best: -1.76e-02\n",
        "T: 1.43e-01"
       ]
      },
      {
       "output_type": "stream",
       "stream": "stdout",
       "text": [
        " energy: 1.20e-02 best: -1.76e-02\n",
        "T: 1.42e-01"
       ]
      },
      {
       "output_type": "stream",
       "stream": "stdout",
       "text": [
        " energy: 3.74e-03 best: -1.76e-02\n",
        "T: 1.41e-01"
       ]
      },
      {
       "output_type": "stream",
       "stream": "stdout",
       "text": [
        " energy: 4.06e-03 best: -1.76e-02\n",
        "T: 1.40e-01"
       ]
      },
      {
       "output_type": "stream",
       "stream": "stdout",
       "text": [
        " energy: 2.74e-03 best: -1.76e-02\n",
        "T: 1.40e-01"
       ]
      },
      {
       "output_type": "stream",
       "stream": "stdout",
       "text": [
        " energy: 3.38e-03 best: -1.76e-02\n",
        "T: 1.39e-01"
       ]
      },
      {
       "output_type": "stream",
       "stream": "stdout",
       "text": [
        " energy: 9.16e-03 best: -1.76e-02\n",
        "T: 1.38e-01"
       ]
      },
      {
       "output_type": "stream",
       "stream": "stdout",
       "text": [
        " energy: 3.50e-03 best: -1.76e-02\n",
        "T: 1.38e-01"
       ]
      },
      {
       "output_type": "stream",
       "stream": "stdout",
       "text": [
        " energy: 4.93e-03 best: -1.76e-02\n",
        "T: 1.37e-01"
       ]
      },
      {
       "output_type": "stream",
       "stream": "stdout",
       "text": [
        " energy: 5.65e-03 best: -1.76e-02\n",
        "T: 1.36e-01"
       ]
      },
      {
       "output_type": "stream",
       "stream": "stdout",
       "text": [
        " energy: 1.57e-02 best: -1.76e-02\n",
        "T: 1.36e-01"
       ]
      },
      {
       "output_type": "stream",
       "stream": "stdout",
       "text": [
        " energy: 1.70e-02 best: -1.76e-02\n",
        "T: 1.35e-01"
       ]
      },
      {
       "output_type": "stream",
       "stream": "stdout",
       "text": [
        " energy: 1.83e-02 best: -1.76e-02\n",
        "T: 1.34e-01"
       ]
      },
      {
       "output_type": "stream",
       "stream": "stdout",
       "text": [
        " energy: 9.40e-03 best: -1.76e-02\n",
        "T: 1.34e-01"
       ]
      },
      {
       "output_type": "stream",
       "stream": "stdout",
       "text": [
        " energy: 1.35e-02 best: -1.76e-02\n",
        "T: 1.33e-01"
       ]
      },
      {
       "output_type": "stream",
       "stream": "stdout",
       "text": [
        " energy: 5.07e-03 best: -1.76e-02\n",
        "T: 1.32e-01"
       ]
      },
      {
       "output_type": "stream",
       "stream": "stdout",
       "text": [
        " energy: 1.17e-02 best: -1.76e-02\n",
        "T: 1.32e-01"
       ]
      },
      {
       "output_type": "stream",
       "stream": "stdout",
       "text": [
        " energy: 9.14e-03 best: -1.76e-02\n",
        "T: 1.31e-01"
       ]
      },
      {
       "output_type": "stream",
       "stream": "stdout",
       "text": [
        " energy: 5.15e-03 best: -1.76e-02\n",
        "T: 1.30e-01"
       ]
      },
      {
       "output_type": "stream",
       "stream": "stdout",
       "text": [
        " energy: 6.49e-03 best: -1.76e-02\n",
        "T: 1.30e-01"
       ]
      },
      {
       "output_type": "stream",
       "stream": "stdout",
       "text": [
        " energy: 4.32e-03 best: -1.76e-02\n",
        "T: 1.29e-01"
       ]
      },
      {
       "output_type": "stream",
       "stream": "stdout",
       "text": [
        " energy: 1.58e-02 best: -1.76e-02\n",
        "T: 1.28e-01"
       ]
      },
      {
       "output_type": "stream",
       "stream": "stdout",
       "text": [
        " energy: 1.59e-02 best: -1.76e-02\n",
        "T: 1.28e-01"
       ]
      },
      {
       "output_type": "stream",
       "stream": "stdout",
       "text": [
        " energy: 1.49e-02 best: -1.76e-02\n",
        "T: 1.27e-01"
       ]
      },
      {
       "output_type": "stream",
       "stream": "stdout",
       "text": [
        " energy: 1.20e-02 best: -1.76e-02\n",
        "T: 1.26e-01"
       ]
      },
      {
       "output_type": "stream",
       "stream": "stdout",
       "text": [
        " energy: 7.47e-03 best: -1.76e-02\n",
        "T: 1.26e-01"
       ]
      },
      {
       "output_type": "stream",
       "stream": "stdout",
       "text": [
        " energy: -3.71e-03 best: -1.76e-02\n",
        "T: 1.25e-01"
       ]
      },
      {
       "output_type": "stream",
       "stream": "stdout",
       "text": [
        " energy: 3.88e-03 best: -1.76e-02\n",
        "T: 1.25e-01"
       ]
      },
      {
       "output_type": "stream",
       "stream": "stdout",
       "text": [
        " energy: 7.98e-03 best: -1.76e-02\n",
        "T: 1.24e-01"
       ]
      },
      {
       "output_type": "stream",
       "stream": "stdout",
       "text": [
        " energy: 3.07e-02 best: -1.76e-02\n",
        "T: 1.23e-01"
       ]
      },
      {
       "output_type": "stream",
       "stream": "stdout",
       "text": [
        " energy: -2.30e-03 best: -1.76e-02\n",
        "T: 1.23e-01"
       ]
      },
      {
       "output_type": "stream",
       "stream": "stdout",
       "text": [
        " energy: 3.82e-04 best: -1.76e-02\n",
        "T: 1.22e-01"
       ]
      },
      {
       "output_type": "stream",
       "stream": "stdout",
       "text": [
        " energy: 2.91e-03 best: -1.76e-02\n",
        "T: 1.21e-01"
       ]
      },
      {
       "output_type": "stream",
       "stream": "stdout",
       "text": [
        " energy: -1.60e-02 best: -1.76e-02\n",
        "T: 1.21e-01"
       ]
      },
      {
       "output_type": "stream",
       "stream": "stdout",
       "text": [
        " energy: -1.45e-02 best: -2.47e-02\n",
        "T: 1.20e-01"
       ]
      },
      {
       "output_type": "stream",
       "stream": "stdout",
       "text": [
        " energy: 1.04e-03 best: -2.47e-02\n",
        "T: 1.20e-01"
       ]
      },
      {
       "output_type": "stream",
       "stream": "stdout",
       "text": [
        " energy: 2.74e-03 best: -2.47e-02\n",
        "T: 1.19e-01"
       ]
      },
      {
       "output_type": "stream",
       "stream": "stdout",
       "text": [
        " energy: -5.37e-04 best: -2.47e-02\n",
        "T: 1.18e-01"
       ]
      },
      {
       "output_type": "stream",
       "stream": "stdout",
       "text": [
        " energy: 1.43e-03 best: -2.47e-02\n",
        "T: 1.18e-01"
       ]
      },
      {
       "output_type": "stream",
       "stream": "stdout",
       "text": [
        " energy: 1.35e-03 best: -2.47e-02\n",
        "T: 1.17e-01"
       ]
      },
      {
       "output_type": "stream",
       "stream": "stdout",
       "text": [
        " energy: 6.78e-03 best: -2.47e-02\n",
        "T: 1.17e-01"
       ]
      },
      {
       "output_type": "stream",
       "stream": "stdout",
       "text": [
        " energy: 4.54e-03 best: -2.47e-02\n",
        "T: 1.16e-01"
       ]
      },
      {
       "output_type": "stream",
       "stream": "stdout",
       "text": [
        " energy: -2.83e-04 best: -2.47e-02\n",
        "T: 1.16e-01"
       ]
      },
      {
       "output_type": "stream",
       "stream": "stdout",
       "text": [
        " energy: -9.93e-05 best: -2.47e-02\n",
        "T: 1.15e-01"
       ]
      },
      {
       "output_type": "stream",
       "stream": "stdout",
       "text": [
        " energy: 2.53e-03 best: -2.47e-02\n",
        "T: 1.14e-01"
       ]
      },
      {
       "output_type": "stream",
       "stream": "stdout",
       "text": [
        " energy: 6.07e-03 best: -2.47e-02\n",
        "T: 1.14e-01"
       ]
      },
      {
       "output_type": "stream",
       "stream": "stdout",
       "text": [
        " energy: 7.39e-03 best: -2.47e-02\n",
        "T: 1.13e-01"
       ]
      },
      {
       "output_type": "stream",
       "stream": "stdout",
       "text": [
        " energy: 7.92e-03 best: -2.47e-02\n",
        "T: 1.13e-01"
       ]
      },
      {
       "output_type": "stream",
       "stream": "stdout",
       "text": [
        " energy: 1.86e-03 best: -2.47e-02\n",
        "T: 1.12e-01"
       ]
      },
      {
       "output_type": "stream",
       "stream": "stdout",
       "text": [
        " energy: 1.37e-02 best: -2.47e-02\n",
        "T: 1.12e-01"
       ]
      },
      {
       "output_type": "stream",
       "stream": "stdout",
       "text": [
        " energy: 1.53e-02 best: -2.47e-02\n",
        "T: 1.11e-01"
       ]
      },
      {
       "output_type": "stream",
       "stream": "stdout",
       "text": [
        " energy: 6.82e-03 best: -2.47e-02\n",
        "T: 1.10e-01"
       ]
      },
      {
       "output_type": "stream",
       "stream": "stdout",
       "text": [
        " energy: -2.31e-03 best: -2.47e-02\n",
        "T: 1.10e-01"
       ]
      },
      {
       "output_type": "stream",
       "stream": "stdout",
       "text": [
        " energy: -1.49e-03 best: -2.47e-02\n",
        "T: 1.09e-01"
       ]
      },
      {
       "output_type": "stream",
       "stream": "stdout",
       "text": [
        " energy: 1.33e-02 best: -2.47e-02\n",
        "T: 1.09e-01"
       ]
      },
      {
       "output_type": "stream",
       "stream": "stdout",
       "text": [
        " energy: 2.92e-02 best: -2.47e-02\n",
        "T: 1.08e-01"
       ]
      },
      {
       "output_type": "stream",
       "stream": "stdout",
       "text": [
        " energy: -1.48e-03 best: -2.47e-02\n",
        "T: 1.08e-01"
       ]
      },
      {
       "output_type": "stream",
       "stream": "stdout",
       "text": [
        " energy: -2.96e-03 best: -2.47e-02\n",
        "T: 1.07e-01"
       ]
      },
      {
       "output_type": "stream",
       "stream": "stdout",
       "text": [
        " energy: 9.26e-04 best: -2.47e-02\n",
        "T: 1.07e-01"
       ]
      },
      {
       "output_type": "stream",
       "stream": "stdout",
       "text": [
        " energy: -3.19e-03 best: -2.47e-02\n",
        "T: 1.06e-01"
       ]
      },
      {
       "output_type": "stream",
       "stream": "stdout",
       "text": [
        " energy: 2.62e-03 best: -2.47e-02\n",
        "T: 1.06e-01"
       ]
      },
      {
       "output_type": "stream",
       "stream": "stdout",
       "text": [
        " energy: 2.44e-03 best: -2.47e-02\n",
        "T: 1.05e-01"
       ]
      },
      {
       "output_type": "stream",
       "stream": "stdout",
       "text": [
        " energy: -5.16e-03 best: -2.47e-02\n",
        "T: 1.05e-01"
       ]
      },
      {
       "output_type": "stream",
       "stream": "stdout",
       "text": [
        " energy: -1.90e-03 best: -2.47e-02\n",
        "T: 1.04e-01"
       ]
      },
      {
       "output_type": "stream",
       "stream": "stdout",
       "text": [
        " energy: 5.82e-03 best: -2.47e-02\n",
        "T: 1.03e-01"
       ]
      },
      {
       "output_type": "stream",
       "stream": "stdout",
       "text": [
        " energy: -8.71e-03 best: -2.47e-02\n",
        "T: 1.03e-01"
       ]
      },
      {
       "output_type": "stream",
       "stream": "stdout",
       "text": [
        " energy: 1.33e-03 best: -2.47e-02\n",
        "T: 1.02e-01"
       ]
      },
      {
       "output_type": "stream",
       "stream": "stdout",
       "text": [
        " energy: 6.77e-04 best: -2.47e-02\n",
        "T: 1.02e-01"
       ]
      },
      {
       "output_type": "stream",
       "stream": "stdout",
       "text": [
        " energy: -4.67e-03 best: -2.47e-02\n",
        "T: 1.01e-01"
       ]
      },
      {
       "output_type": "stream",
       "stream": "stdout",
       "text": [
        " energy: 1.83e-03 best: -2.47e-02\n",
        "T: 1.01e-01"
       ]
      },
      {
       "output_type": "stream",
       "stream": "stdout",
       "text": [
        " energy: -2.67e-03 best: -2.47e-02\n",
        "T: 1.00e-01"
       ]
      },
      {
       "output_type": "stream",
       "stream": "stdout",
       "text": [
        " energy: 2.50e-03 best: -2.47e-02\n",
        "T: 9.99e-02"
       ]
      },
      {
       "output_type": "stream",
       "stream": "stdout",
       "text": [
        " energy: -1.09e-04 best: -2.47e-02\n",
        "T: 9.94e-02"
       ]
      },
      {
       "output_type": "stream",
       "stream": "stdout",
       "text": [
        " energy: 1.32e-02 best: -2.47e-02\n",
        "T: 9.89e-02"
       ]
      },
      {
       "output_type": "stream",
       "stream": "stdout",
       "text": [
        " energy: 9.13e-03 best: -2.47e-02\n",
        "T: 9.84e-02"
       ]
      },
      {
       "output_type": "stream",
       "stream": "stdout",
       "text": [
        " energy: 3.95e-03 best: -2.47e-02\n",
        "T: 9.79e-02"
       ]
      },
      {
       "output_type": "stream",
       "stream": "stdout",
       "text": [
        " energy: 2.16e-03 best: -2.47e-02\n",
        "T: 9.74e-02"
       ]
      },
      {
       "output_type": "stream",
       "stream": "stdout",
       "text": [
        " energy: 1.39e-03 best: -2.47e-02\n",
        "T: 9.69e-02"
       ]
      },
      {
       "output_type": "stream",
       "stream": "stdout",
       "text": [
        " energy: 2.61e-02 best: -2.47e-02\n",
        "T: 9.65e-02"
       ]
      },
      {
       "output_type": "stream",
       "stream": "stdout",
       "text": [
        " energy: 1.54e-02 best: -2.47e-02\n",
        "T: 9.60e-02"
       ]
      },
      {
       "output_type": "stream",
       "stream": "stdout",
       "text": [
        " energy: 1.88e-02 best: -2.47e-02\n",
        "T: 9.55e-02"
       ]
      },
      {
       "output_type": "stream",
       "stream": "stdout",
       "text": [
        " energy: 1.00e-02 best: -2.47e-02\n",
        "T: 9.50e-02"
       ]
      },
      {
       "output_type": "stream",
       "stream": "stdout",
       "text": [
        " energy: 1.49e-02 best: -2.47e-02\n",
        "T: 9.45e-02"
       ]
      },
      {
       "output_type": "stream",
       "stream": "stdout",
       "text": [
        " energy: 1.85e-02 best: -2.47e-02\n",
        "T: 9.41e-02"
       ]
      },
      {
       "output_type": "stream",
       "stream": "stdout",
       "text": [
        " energy: 1.44e-02 best: -2.47e-02\n",
        "T: 9.36e-02"
       ]
      },
      {
       "output_type": "stream",
       "stream": "stdout",
       "text": [
        " energy: 1.29e-02 best: -2.47e-02\n",
        "T: 9.31e-02"
       ]
      },
      {
       "output_type": "stream",
       "stream": "stdout",
       "text": [
        " energy: 5.63e-03 best: -2.47e-02\n",
        "T: 9.27e-02"
       ]
      },
      {
       "output_type": "stream",
       "stream": "stdout",
       "text": [
        " energy: 1.24e-02 best: -2.47e-02\n",
        "T: 9.22e-02"
       ]
      },
      {
       "output_type": "stream",
       "stream": "stdout",
       "text": [
        " energy: 1.82e-02 best: -2.47e-02\n",
        "T: 9.17e-02"
       ]
      },
      {
       "output_type": "stream",
       "stream": "stdout",
       "text": [
        " energy: 5.91e-03 best: -2.47e-02\n",
        "T: 9.13e-02"
       ]
      },
      {
       "output_type": "stream",
       "stream": "stdout",
       "text": [
        " energy: 7.64e-03 best: -2.47e-02\n",
        "T: 9.08e-02"
       ]
      },
      {
       "output_type": "stream",
       "stream": "stdout",
       "text": [
        " energy: 2.75e-03 best: -2.47e-02\n",
        "T: 9.04e-02"
       ]
      },
      {
       "output_type": "stream",
       "stream": "stdout",
       "text": [
        " energy: 1.71e-02 best: -2.47e-02\n",
        "T: 8.99e-02"
       ]
      },
      {
       "output_type": "stream",
       "stream": "stdout",
       "text": [
        " energy: 7.35e-03 best: -2.47e-02\n",
        "T: 8.95e-02"
       ]
      },
      {
       "output_type": "stream",
       "stream": "stdout",
       "text": [
        " energy: 1.09e-02 best: -2.47e-02\n",
        "T: 8.90e-02"
       ]
      },
      {
       "output_type": "stream",
       "stream": "stdout",
       "text": [
        " energy: 9.10e-03 best: -2.47e-02\n",
        "T: 8.86e-02"
       ]
      },
      {
       "output_type": "stream",
       "stream": "stdout",
       "text": [
        " energy: 7.41e-03 best: -2.47e-02\n",
        "T: 8.81e-02"
       ]
      },
      {
       "output_type": "stream",
       "stream": "stdout",
       "text": [
        " energy: 1.51e-02 best: -2.47e-02\n",
        "T: 8.77e-02"
       ]
      },
      {
       "output_type": "stream",
       "stream": "stdout",
       "text": [
        " energy: 6.69e-03 best: -2.47e-02\n",
        "T: 8.73e-02"
       ]
      },
      {
       "output_type": "stream",
       "stream": "stdout",
       "text": [
        " energy: 1.33e-02 best: -2.47e-02\n",
        "T: 8.68e-02"
       ]
      },
      {
       "output_type": "stream",
       "stream": "stdout",
       "text": [
        " energy: 1.51e-02 best: -2.47e-02\n",
        "T: 8.64e-02"
       ]
      },
      {
       "output_type": "stream",
       "stream": "stdout",
       "text": [
        " energy: 1.40e-02 best: -2.47e-02\n",
        "T: 8.60e-02"
       ]
      },
      {
       "output_type": "stream",
       "stream": "stdout",
       "text": [
        " energy: 5.90e-03 best: -2.47e-02\n",
        "T: 8.55e-02"
       ]
      },
      {
       "output_type": "stream",
       "stream": "stdout",
       "text": [
        " energy: 7.82e-03 best: -2.47e-02\n",
        "T: 8.51e-02"
       ]
      },
      {
       "output_type": "stream",
       "stream": "stdout",
       "text": [
        " energy: 1.56e-02 best: -2.47e-02\n",
        "T: 8.47e-02"
       ]
      },
      {
       "output_type": "stream",
       "stream": "stdout",
       "text": [
        " energy: 8.44e-03 best: -2.47e-02\n",
        "T: 8.43e-02"
       ]
      },
      {
       "output_type": "stream",
       "stream": "stdout",
       "text": [
        " energy: 6.67e-04 best: -2.47e-02\n",
        "T: 8.38e-02"
       ]
      },
      {
       "output_type": "stream",
       "stream": "stdout",
       "text": [
        " energy: -2.83e-03 best: -2.47e-02\n",
        "T: 8.34e-02"
       ]
      },
      {
       "output_type": "stream",
       "stream": "stdout",
       "text": [
        " energy: 5.32e-03 best: -2.47e-02\n",
        "T: 8.30e-02"
       ]
      },
      {
       "output_type": "stream",
       "stream": "stdout",
       "text": [
        " energy: 1.00e-02 best: -2.47e-02\n",
        "T: 8.26e-02"
       ]
      },
      {
       "output_type": "stream",
       "stream": "stdout",
       "text": [
        " energy: 1.06e-02 best: -2.47e-02\n",
        "T: 8.22e-02"
       ]
      },
      {
       "output_type": "stream",
       "stream": "stdout",
       "text": [
        " energy: -1.98e-03 best: -2.47e-02\n",
        "T: 8.18e-02"
       ]
      },
      {
       "output_type": "stream",
       "stream": "stdout",
       "text": [
        " energy: 9.18e-03 best: -2.47e-02\n",
        "T: 8.13e-02"
       ]
      },
      {
       "output_type": "stream",
       "stream": "stdout",
       "text": [
        " energy: 3.27e-03 best: -2.47e-02\n",
        "T: 8.09e-02"
       ]
      },
      {
       "output_type": "stream",
       "stream": "stdout",
       "text": [
        " energy: 1.05e-02 best: -2.47e-02\n",
        "T: 8.05e-02"
       ]
      },
      {
       "output_type": "stream",
       "stream": "stdout",
       "text": [
        " energy: 1.95e-03 best: -2.47e-02\n",
        "T: 8.01e-02"
       ]
      },
      {
       "output_type": "stream",
       "stream": "stdout",
       "text": [
        " energy: 6.34e-03 best: -2.47e-02\n",
        "T: 7.97e-02"
       ]
      },
      {
       "output_type": "stream",
       "stream": "stdout",
       "text": [
        " energy: -2.18e-03 best: -2.47e-02\n",
        "T: 7.93e-02"
       ]
      },
      {
       "output_type": "stream",
       "stream": "stdout",
       "text": [
        " energy: 6.12e-03 best: -2.47e-02\n",
        "T: 7.89e-02"
       ]
      },
      {
       "output_type": "stream",
       "stream": "stdout",
       "text": [
        " energy: 7.86e-03 best: -2.47e-02\n",
        "T: 7.85e-02"
       ]
      },
      {
       "output_type": "stream",
       "stream": "stdout",
       "text": [
        " energy: 7.95e-03 best: -2.47e-02\n",
        "T: 7.81e-02"
       ]
      },
      {
       "output_type": "stream",
       "stream": "stdout",
       "text": [
        " energy: 9.93e-03 best: -2.47e-02\n",
        "T: 7.78e-02"
       ]
      },
      {
       "output_type": "stream",
       "stream": "stdout",
       "text": [
        " energy: -1.45e-03 best: -2.47e-02\n",
        "T: 7.74e-02"
       ]
      },
      {
       "output_type": "stream",
       "stream": "stdout",
       "text": [
        " energy: -6.31e-04 best: -2.47e-02\n",
        "T: 7.70e-02"
       ]
      },
      {
       "output_type": "stream",
       "stream": "stdout",
       "text": [
        " energy: -3.30e-03 best: -2.47e-02\n",
        "T: 7.66e-02"
       ]
      },
      {
       "output_type": "stream",
       "stream": "stdout",
       "text": [
        " energy: 1.19e-03 best: -2.47e-02\n",
        "T: 7.62e-02"
       ]
      },
      {
       "output_type": "stream",
       "stream": "stdout",
       "text": [
        " energy: 6.30e-03 best: -2.47e-02\n",
        "T: 7.58e-02"
       ]
      },
      {
       "output_type": "stream",
       "stream": "stdout",
       "text": [
        " energy: 2.82e-03 best: -2.47e-02\n",
        "T: 7.55e-02"
       ]
      },
      {
       "output_type": "stream",
       "stream": "stdout",
       "text": [
        " energy: 1.63e-03 best: -2.47e-02\n",
        "T: 7.51e-02"
       ]
      },
      {
       "output_type": "stream",
       "stream": "stdout",
       "text": [
        " energy: 1.45e-03 best: -2.47e-02\n",
        "T: 7.47e-02"
       ]
      },
      {
       "output_type": "stream",
       "stream": "stdout",
       "text": [
        " energy: 8.12e-04 best: -2.47e-02\n",
        "T: 7.43e-02"
       ]
      },
      {
       "output_type": "stream",
       "stream": "stdout",
       "text": [
        " energy: 5.92e-03 best: -2.47e-02\n",
        "T: 7.40e-02"
       ]
      },
      {
       "output_type": "stream",
       "stream": "stdout",
       "text": [
        " energy: 1.39e-03 best: -2.47e-02\n",
        "T: 7.36e-02"
       ]
      },
      {
       "output_type": "stream",
       "stream": "stdout",
       "text": [
        " energy: 1.03e-02 best: -2.47e-02\n",
        "T: 7.32e-02"
       ]
      },
      {
       "output_type": "stream",
       "stream": "stdout",
       "text": [
        " energy: 1.00e-02 best: -2.47e-02\n",
        "T: 7.29e-02"
       ]
      },
      {
       "output_type": "stream",
       "stream": "stdout",
       "text": [
        " energy: -6.56e-03 best: -2.47e-02\n",
        "T: 7.25e-02"
       ]
      },
      {
       "output_type": "stream",
       "stream": "stdout",
       "text": [
        " energy: -8.19e-03 best: -2.47e-02\n",
        "T: 7.21e-02"
       ]
      },
      {
       "output_type": "stream",
       "stream": "stdout",
       "text": [
        " energy: 3.98e-04 best: -2.47e-02\n",
        "T: 7.18e-02"
       ]
      },
      {
       "output_type": "stream",
       "stream": "stdout",
       "text": [
        " energy: 3.90e-03 best: -2.47e-02\n",
        "T: 7.14e-02"
       ]
      },
      {
       "output_type": "stream",
       "stream": "stdout",
       "text": [
        " energy: -2.31e-03 best: -2.47e-02\n",
        "T: 7.10e-02"
       ]
      },
      {
       "output_type": "stream",
       "stream": "stdout",
       "text": [
        " energy: 1.23e-03 best: -2.47e-02\n",
        "T: 7.07e-02"
       ]
      },
      {
       "output_type": "stream",
       "stream": "stdout",
       "text": [
        " energy: 4.17e-03 best: -2.47e-02\n",
        "T: 7.03e-02"
       ]
      },
      {
       "output_type": "stream",
       "stream": "stdout",
       "text": [
        " energy: 5.81e-04 best: -2.47e-02\n",
        "T: 7.00e-02"
       ]
      },
      {
       "output_type": "stream",
       "stream": "stdout",
       "text": [
        " energy: 2.00e-03 best: -2.47e-02\n",
        "T: 6.96e-02"
       ]
      },
      {
       "output_type": "stream",
       "stream": "stdout",
       "text": [
        " energy: 1.06e-02 best: -2.47e-02\n",
        "T: 6.93e-02"
       ]
      },
      {
       "output_type": "stream",
       "stream": "stdout",
       "text": [
        " energy: 9.50e-03 best: -2.47e-02\n",
        "T: 6.89e-02"
       ]
      },
      {
       "output_type": "stream",
       "stream": "stdout",
       "text": [
        " energy: 6.22e-03 best: -2.47e-02\n",
        "T: 6.86e-02"
       ]
      },
      {
       "output_type": "stream",
       "stream": "stdout",
       "text": [
        " energy: 6.71e-04 best: -2.47e-02\n",
        "T: 6.83e-02"
       ]
      },
      {
       "output_type": "stream",
       "stream": "stdout",
       "text": [
        " energy: -3.19e-03 best: -2.47e-02\n",
        "T: 6.79e-02"
       ]
      },
      {
       "output_type": "stream",
       "stream": "stdout",
       "text": [
        " energy: 6.55e-03 best: -2.47e-02\n",
        "T: 6.76e-02"
       ]
      },
      {
       "output_type": "stream",
       "stream": "stdout",
       "text": [
        " energy: 6.54e-03 best: -2.47e-02\n",
        "T: 6.72e-02"
       ]
      },
      {
       "output_type": "stream",
       "stream": "stdout",
       "text": [
        " energy: -1.21e-03 best: -2.47e-02\n",
        "T: 6.69e-02"
       ]
      },
      {
       "output_type": "stream",
       "stream": "stdout",
       "text": [
        " energy: 8.86e-03 best: -2.47e-02\n",
        "T: 6.66e-02"
       ]
      },
      {
       "output_type": "stream",
       "stream": "stdout",
       "text": [
        " energy: 1.92e-03 best: -2.47e-02\n",
        "T: 6.62e-02"
       ]
      },
      {
       "output_type": "stream",
       "stream": "stdout",
       "text": [
        " energy: 1.46e-02 best: -2.47e-02\n",
        "T: 6.59e-02"
       ]
      },
      {
       "output_type": "stream",
       "stream": "stdout",
       "text": [
        " energy: 5.99e-03 best: -2.47e-02\n",
        "T: 6.56e-02"
       ]
      },
      {
       "output_type": "stream",
       "stream": "stdout",
       "text": [
        " energy: 5.09e-03 best: -2.47e-02\n",
        "T: 6.52e-02"
       ]
      },
      {
       "output_type": "stream",
       "stream": "stdout",
       "text": [
        " energy: 5.67e-03 best: -2.47e-02\n",
        "T: 6.49e-02"
       ]
      },
      {
       "output_type": "stream",
       "stream": "stdout",
       "text": [
        " energy: 2.65e-03 best: -2.47e-02\n",
        "T: 6.46e-02"
       ]
      },
      {
       "output_type": "stream",
       "stream": "stdout",
       "text": [
        " energy: -1.01e-03 best: -2.47e-02\n",
        "T: 6.43e-02"
       ]
      },
      {
       "output_type": "stream",
       "stream": "stdout",
       "text": [
        " energy: 1.03e-02 best: -2.47e-02\n",
        "T: 6.40e-02"
       ]
      },
      {
       "output_type": "stream",
       "stream": "stdout",
       "text": [
        " energy: 9.06e-03 best: -2.47e-02\n",
        "T: 6.36e-02"
       ]
      },
      {
       "output_type": "stream",
       "stream": "stdout",
       "text": [
        " energy: 7.49e-03 best: -2.47e-02\n",
        "T: 6.33e-02"
       ]
      },
      {
       "output_type": "stream",
       "stream": "stdout",
       "text": [
        " energy: 1.28e-02 best: -2.47e-02\n",
        "T: 6.30e-02"
       ]
      },
      {
       "output_type": "stream",
       "stream": "stdout",
       "text": [
        " energy: 1.93e-02 best: -2.47e-02\n",
        "T: 6.27e-02"
       ]
      },
      {
       "output_type": "stream",
       "stream": "stdout",
       "text": [
        " energy: 1.83e-02 best: -2.47e-02\n",
        "T: 6.24e-02"
       ]
      },
      {
       "output_type": "stream",
       "stream": "stdout",
       "text": [
        " energy: 9.23e-03 best: -2.47e-02\n",
        "T: 6.21e-02"
       ]
      },
      {
       "output_type": "stream",
       "stream": "stdout",
       "text": [
        " energy: 9.40e-03 best: -2.47e-02\n",
        "T: 6.17e-02"
       ]
      },
      {
       "output_type": "stream",
       "stream": "stdout",
       "text": [
        " energy: 1.53e-02 best: -2.47e-02\n",
        "T: 6.14e-02"
       ]
      },
      {
       "output_type": "stream",
       "stream": "stdout",
       "text": [
        " energy: 4.92e-03 best: -2.47e-02\n",
        "T: 6.11e-02"
       ]
      },
      {
       "output_type": "stream",
       "stream": "stdout",
       "text": [
        " energy: 6.94e-03 best: -2.47e-02\n",
        "T: 6.08e-02"
       ]
      },
      {
       "output_type": "stream",
       "stream": "stdout",
       "text": [
        " energy: -8.55e-04 best: -2.47e-02\n",
        "T: 6.05e-02"
       ]
      },
      {
       "output_type": "stream",
       "stream": "stdout",
       "text": [
        " energy: -2.99e-04 best: -2.47e-02\n",
        "T: 6.02e-02"
       ]
      },
      {
       "output_type": "stream",
       "stream": "stdout",
       "text": [
        " energy: 3.66e-03 best: -2.47e-02\n",
        "T: 5.99e-02"
       ]
      },
      {
       "output_type": "stream",
       "stream": "stdout",
       "text": [
        " energy: 7.98e-03 best: -2.47e-02\n",
        "T: 5.96e-02"
       ]
      },
      {
       "output_type": "stream",
       "stream": "stdout",
       "text": [
        " energy: 8.47e-03 best: -2.47e-02\n",
        "T: 5.93e-02"
       ]
      },
      {
       "output_type": "stream",
       "stream": "stdout",
       "text": [
        " energy: 6.60e-03 best: -2.47e-02\n",
        "T: 5.90e-02"
       ]
      },
      {
       "output_type": "stream",
       "stream": "stdout",
       "text": [
        " energy: 7.10e-03 best: -2.47e-02\n",
        "T: 5.87e-02"
       ]
      },
      {
       "output_type": "stream",
       "stream": "stdout",
       "text": [
        " energy: 7.09e-03 best: -2.47e-02\n",
        "T: 5.84e-02"
       ]
      },
      {
       "output_type": "stream",
       "stream": "stdout",
       "text": [
        " energy: -4.60e-03 best: -2.47e-02\n",
        "T: 5.81e-02"
       ]
      },
      {
       "output_type": "stream",
       "stream": "stdout",
       "text": [
        " energy: -3.00e-03 best: -2.47e-02\n",
        "T: 5.79e-02"
       ]
      },
      {
       "output_type": "stream",
       "stream": "stdout",
       "text": [
        " energy: 5.55e-03 best: -2.47e-02\n",
        "T: 5.76e-02"
       ]
      },
      {
       "output_type": "stream",
       "stream": "stdout",
       "text": [
        " energy: -2.65e-03 best: -2.47e-02\n",
        "T: 5.73e-02"
       ]
      },
      {
       "output_type": "stream",
       "stream": "stdout",
       "text": [
        " energy: 7.99e-03 best: -2.47e-02\n",
        "T: 5.70e-02"
       ]
      },
      {
       "output_type": "stream",
       "stream": "stdout",
       "text": [
        " energy: -1.78e-06 best: -2.47e-02\n",
        "T: 5.67e-02"
       ]
      },
      {
       "output_type": "stream",
       "stream": "stdout",
       "text": [
        " energy: -5.33e-04 best: -2.47e-02\n",
        "T: 5.64e-02"
       ]
      },
      {
       "output_type": "stream",
       "stream": "stdout",
       "text": [
        " energy: -7.66e-03 best: -2.47e-02\n",
        "T: 5.61e-02"
       ]
      },
      {
       "output_type": "stream",
       "stream": "stdout",
       "text": [
        " energy: 5.91e-03 best: -2.47e-02\n",
        "T: 5.59e-02"
       ]
      },
      {
       "output_type": "stream",
       "stream": "stdout",
       "text": [
        " energy: 5.93e-03 best: -2.47e-02\n",
        "T: 5.56e-02"
       ]
      },
      {
       "output_type": "stream",
       "stream": "stdout",
       "text": [
        " energy: 5.25e-03 best: -2.47e-02\n",
        "T: 5.53e-02"
       ]
      },
      {
       "output_type": "stream",
       "stream": "stdout",
       "text": [
        " energy: 8.23e-03 best: -2.47e-02\n",
        "T: 5.50e-02"
       ]
      },
      {
       "output_type": "stream",
       "stream": "stdout",
       "text": [
        " energy: 2.60e-03 best: -2.47e-02\n",
        "T: 5.47e-02"
       ]
      },
      {
       "output_type": "stream",
       "stream": "stdout",
       "text": [
        " energy: 5.30e-03 best: -2.47e-02\n",
        "T: 5.45e-02"
       ]
      },
      {
       "output_type": "stream",
       "stream": "stdout",
       "text": [
        " energy: -1.38e-02 best: -2.47e-02\n",
        "T: 5.42e-02"
       ]
      },
      {
       "output_type": "stream",
       "stream": "stdout",
       "text": [
        " energy: -1.54e-02 best: -2.47e-02\n",
        "T: 5.39e-02"
       ]
      },
      {
       "output_type": "stream",
       "stream": "stdout",
       "text": [
        " energy: -1.31e-02 best: -2.47e-02\n",
        "T: 5.37e-02"
       ]
      },
      {
       "output_type": "stream",
       "stream": "stdout",
       "text": [
        " energy: -7.94e-04 best: -2.47e-02\n",
        "T: 5.34e-02"
       ]
      },
      {
       "output_type": "stream",
       "stream": "stdout",
       "text": [
        " energy: 2.80e-03 best: -2.47e-02\n",
        "T: 5.31e-02"
       ]
      },
      {
       "output_type": "stream",
       "stream": "stdout",
       "text": [
        " energy: -2.98e-04 best: -2.47e-02\n",
        "T: 5.29e-02"
       ]
      },
      {
       "output_type": "stream",
       "stream": "stdout",
       "text": [
        " energy: 2.03e-03 best: -2.47e-02\n",
        "T: 5.26e-02"
       ]
      },
      {
       "output_type": "stream",
       "stream": "stdout",
       "text": [
        " energy: 1.89e-03 best: -2.47e-02\n",
        "T: 5.23e-02"
       ]
      },
      {
       "output_type": "stream",
       "stream": "stdout",
       "text": [
        " energy: 9.49e-03 best: -2.47e-02\n",
        "T: 5.21e-02"
       ]
      },
      {
       "output_type": "stream",
       "stream": "stdout",
       "text": [
        " energy: 5.27e-03 best: -2.47e-02\n",
        "T: 5.18e-02"
       ]
      },
      {
       "output_type": "stream",
       "stream": "stdout",
       "text": [
        " energy: 1.27e-02 best: -2.47e-02\n",
        "T: 5.16e-02"
       ]
      },
      {
       "output_type": "stream",
       "stream": "stdout",
       "text": [
        " energy: 1.70e-02 best: -2.47e-02\n",
        "T: 5.13e-02"
       ]
      },
      {
       "output_type": "stream",
       "stream": "stdout",
       "text": [
        " energy: 6.86e-03 best: -2.47e-02\n",
        "T: 5.10e-02"
       ]
      },
      {
       "output_type": "stream",
       "stream": "stdout",
       "text": [
        " energy: 9.45e-03 best: -2.47e-02\n",
        "T: 5.08e-02"
       ]
      },
      {
       "output_type": "stream",
       "stream": "stdout",
       "text": [
        " energy: 7.73e-03 best: -2.47e-02\n",
        "T: 5.05e-02"
       ]
      },
      {
       "output_type": "stream",
       "stream": "stdout",
       "text": [
        " energy: 9.88e-04 best: -2.47e-02\n",
        "T: 5.03e-02"
       ]
      },
      {
       "output_type": "stream",
       "stream": "stdout",
       "text": [
        " energy: -4.69e-03 best: -2.47e-02\n",
        "T: 5.00e-02"
       ]
      },
      {
       "output_type": "stream",
       "stream": "stdout",
       "text": [
        " energy: 1.53e-03 best: -2.47e-02\n",
        "T: 4.98e-02"
       ]
      },
      {
       "output_type": "stream",
       "stream": "stdout",
       "text": [
        " energy: -1.12e-03 best: -2.47e-02\n",
        "T: 4.95e-02"
       ]
      },
      {
       "output_type": "stream",
       "stream": "stdout",
       "text": [
        " energy: -7.87e-04 best: -2.47e-02\n",
        "T: 4.93e-02"
       ]
      },
      {
       "output_type": "stream",
       "stream": "stdout",
       "text": [
        " energy: -7.84e-05 best: -2.47e-02\n",
        "T: 4.90e-02"
       ]
      },
      {
       "output_type": "stream",
       "stream": "stdout",
       "text": [
        " energy: 7.88e-04 best: -2.47e-02\n",
        "T: 4.88e-02"
       ]
      },
      {
       "output_type": "stream",
       "stream": "stdout",
       "text": [
        " energy: 5.44e-03 best: -2.47e-02\n",
        "T: 4.85e-02"
       ]
      },
      {
       "output_type": "stream",
       "stream": "stdout",
       "text": [
        " energy: 9.99e-03 best: -2.47e-02\n",
        "T: 4.83e-02"
       ]
      },
      {
       "output_type": "stream",
       "stream": "stdout",
       "text": [
        " energy: 4.02e-03 best: -2.47e-02\n",
        "T: 4.81e-02"
       ]
      },
      {
       "output_type": "stream",
       "stream": "stdout",
       "text": [
        " energy: -2.01e-03 best: -2.47e-02\n",
        "T: 4.78e-02"
       ]
      },
      {
       "output_type": "stream",
       "stream": "stdout",
       "text": [
        " energy: 4.07e-03 best: -2.47e-02\n",
        "T: 4.76e-02"
       ]
      },
      {
       "output_type": "stream",
       "stream": "stdout",
       "text": [
        " energy: 7.82e-03 best: -2.47e-02\n",
        "T: 4.73e-02"
       ]
      },
      {
       "output_type": "stream",
       "stream": "stdout",
       "text": [
        " energy: 9.01e-03 best: -2.47e-02\n",
        "T: 4.71e-02"
       ]
      },
      {
       "output_type": "stream",
       "stream": "stdout",
       "text": [
        " energy: 8.36e-03 best: -2.47e-02\n",
        "T: 4.69e-02"
       ]
      },
      {
       "output_type": "stream",
       "stream": "stdout",
       "text": [
        " energy: 1.32e-02 best: -2.47e-02\n",
        "T: 4.66e-02"
       ]
      },
      {
       "output_type": "stream",
       "stream": "stdout",
       "text": [
        " energy: 1.23e-02 best: -2.47e-02\n",
        "T: 4.64e-02"
       ]
      },
      {
       "output_type": "stream",
       "stream": "stdout",
       "text": [
        " energy: 8.43e-03 best: -2.47e-02\n",
        "T: 4.62e-02"
       ]
      },
      {
       "output_type": "stream",
       "stream": "stdout",
       "text": [
        " energy: 9.17e-03 best: -2.47e-02\n",
        "T: 4.59e-02"
       ]
      },
      {
       "output_type": "stream",
       "stream": "stdout",
       "text": [
        " energy: 8.63e-03 best: -2.47e-02\n",
        "T: 4.57e-02"
       ]
      },
      {
       "output_type": "stream",
       "stream": "stdout",
       "text": [
        " energy: 1.06e-02 best: -2.47e-02\n",
        "T: 4.55e-02"
       ]
      },
      {
       "output_type": "stream",
       "stream": "stdout",
       "text": [
        " energy: 8.65e-03 best: -2.47e-02\n",
        "T: 4.53e-02"
       ]
      },
      {
       "output_type": "stream",
       "stream": "stdout",
       "text": [
        " energy: 6.01e-03 best: -2.47e-02\n",
        "T: 4.50e-02"
       ]
      },
      {
       "output_type": "stream",
       "stream": "stdout",
       "text": [
        " energy: 6.92e-03 best: -2.47e-02\n",
        "T: 4.48e-02"
       ]
      },
      {
       "output_type": "stream",
       "stream": "stdout",
       "text": [
        " energy: 3.37e-03 best: -2.47e-02\n",
        "T: 4.46e-02"
       ]
      },
      {
       "output_type": "stream",
       "stream": "stdout",
       "text": [
        " energy: 6.33e-03 best: -2.47e-02\n",
        "T: 4.44e-02"
       ]
      },
      {
       "output_type": "stream",
       "stream": "stdout",
       "text": [
        " energy: 2.52e-03 best: -2.47e-02\n",
        "T: 4.41e-02"
       ]
      },
      {
       "output_type": "stream",
       "stream": "stdout",
       "text": [
        " energy: 5.53e-04 best: -2.47e-02\n",
        "T: 4.39e-02"
       ]
      },
      {
       "output_type": "stream",
       "stream": "stdout",
       "text": [
        " energy: 4.35e-03 best: -2.47e-02\n",
        "T: 4.37e-02"
       ]
      },
      {
       "output_type": "stream",
       "stream": "stdout",
       "text": [
        " energy: 6.99e-03 best: -2.47e-02\n",
        "T: 4.35e-02"
       ]
      },
      {
       "output_type": "stream",
       "stream": "stdout",
       "text": [
        " energy: 7.51e-03 best: -2.47e-02\n",
        "T: 4.33e-02"
       ]
      },
      {
       "output_type": "stream",
       "stream": "stdout",
       "text": [
        " energy: 7.58e-03 best: -2.47e-02\n",
        "T: 4.30e-02"
       ]
      },
      {
       "output_type": "stream",
       "stream": "stdout",
       "text": [
        " energy: 5.90e-03 best: -2.47e-02\n",
        "T: 4.28e-02"
       ]
      },
      {
       "output_type": "stream",
       "stream": "stdout",
       "text": [
        " energy: 6.92e-03 best: -2.47e-02\n",
        "T: 4.26e-02"
       ]
      },
      {
       "output_type": "stream",
       "stream": "stdout",
       "text": [
        " energy: 8.90e-03 best: -2.47e-02\n",
        "T: 4.24e-02"
       ]
      },
      {
       "output_type": "stream",
       "stream": "stdout",
       "text": [
        " energy: 8.22e-03 best: -2.47e-02\n",
        "T: 4.22e-02"
       ]
      },
      {
       "output_type": "stream",
       "stream": "stdout",
       "text": [
        " energy: 9.55e-03 best: -2.47e-02\n",
        "T: 4.20e-02"
       ]
      },
      {
       "output_type": "stream",
       "stream": "stdout",
       "text": [
        " energy: 7.22e-03 best: -2.47e-02\n",
        "T: 4.18e-02"
       ]
      },
      {
       "output_type": "stream",
       "stream": "stdout",
       "text": [
        " energy: 1.26e-03 best: -2.47e-02\n",
        "T: 4.16e-02"
       ]
      },
      {
       "output_type": "stream",
       "stream": "stdout",
       "text": [
        " energy: 4.21e-03 best: -2.47e-02\n",
        "T: 4.13e-02"
       ]
      },
      {
       "output_type": "stream",
       "stream": "stdout",
       "text": [
        " energy: 8.75e-03 best: -2.47e-02\n",
        "T: 4.11e-02"
       ]
      },
      {
       "output_type": "stream",
       "stream": "stdout",
       "text": [
        " energy: 9.78e-04 best: -2.47e-02\n",
        "T: 4.09e-02"
       ]
      },
      {
       "output_type": "stream",
       "stream": "stdout",
       "text": [
        " energy: -7.43e-04 best: -2.47e-02\n",
        "T: 4.07e-02"
       ]
      },
      {
       "output_type": "stream",
       "stream": "stdout",
       "text": [
        " energy: 2.22e-03 best: -2.47e-02\n",
        "T: 4.05e-02"
       ]
      },
      {
       "output_type": "stream",
       "stream": "stdout",
       "text": [
        " energy: 3.64e-03 best: -2.47e-02\n",
        "T: 4.03e-02"
       ]
      },
      {
       "output_type": "stream",
       "stream": "stdout",
       "text": [
        " energy: 5.44e-03 best: -2.47e-02\n",
        "T: 4.01e-02"
       ]
      },
      {
       "output_type": "stream",
       "stream": "stdout",
       "text": [
        " energy: 7.68e-03 best: -2.47e-02\n",
        "T: 3.99e-02"
       ]
      },
      {
       "output_type": "stream",
       "stream": "stdout",
       "text": [
        " energy: 5.71e-03 best: -2.47e-02\n",
        "T: 3.97e-02"
       ]
      },
      {
       "output_type": "stream",
       "stream": "stdout",
       "text": [
        " energy: 5.68e-03 best: -2.47e-02\n",
        "T: 3.95e-02"
       ]
      },
      {
       "output_type": "stream",
       "stream": "stdout",
       "text": [
        " energy: 4.38e-03 best: -2.47e-02\n",
        "T: 3.93e-02"
       ]
      },
      {
       "output_type": "stream",
       "stream": "stdout",
       "text": [
        " energy: 6.77e-03 best: -2.47e-02\n",
        "T: 3.91e-02"
       ]
      },
      {
       "output_type": "stream",
       "stream": "stdout",
       "text": [
        " energy: 1.01e-02 best: -2.47e-02\n",
        "T: 3.89e-02"
       ]
      },
      {
       "output_type": "stream",
       "stream": "stdout",
       "text": [
        " energy: 1.19e-02 best: -2.47e-02\n",
        "T: 3.87e-02"
       ]
      },
      {
       "output_type": "stream",
       "stream": "stdout",
       "text": [
        " energy: 7.19e-03 best: -2.47e-02\n",
        "T: 3.85e-02"
       ]
      },
      {
       "output_type": "stream",
       "stream": "stdout",
       "text": [
        " energy: 7.44e-03 best: -2.47e-02\n",
        "T: 3.84e-02"
       ]
      },
      {
       "output_type": "stream",
       "stream": "stdout",
       "text": [
        " energy: 3.15e-03 best: -2.47e-02\n",
        "T: 3.82e-02"
       ]
      },
      {
       "output_type": "stream",
       "stream": "stdout",
       "text": [
        " energy: 4.94e-03 best: -2.47e-02\n",
        "T: 3.80e-02"
       ]
      },
      {
       "output_type": "stream",
       "stream": "stdout",
       "text": [
        " energy: 5.79e-03 best: -2.47e-02\n",
        "T: 3.78e-02"
       ]
      },
      {
       "output_type": "stream",
       "stream": "stdout",
       "text": [
        " energy: 7.03e-03 best: -2.47e-02\n",
        "T: 3.76e-02"
       ]
      },
      {
       "output_type": "stream",
       "stream": "stdout",
       "text": [
        " energy: 3.54e-04 best: -2.47e-02\n",
        "T: 3.74e-02"
       ]
      },
      {
       "output_type": "stream",
       "stream": "stdout",
       "text": [
        " energy: 5.84e-03 best: -2.47e-02\n",
        "T: 3.72e-02"
       ]
      },
      {
       "output_type": "stream",
       "stream": "stdout",
       "text": [
        " energy: 3.85e-03 best: -2.47e-02\n",
        "T: 3.70e-02"
       ]
      },
      {
       "output_type": "stream",
       "stream": "stdout",
       "text": [
        " energy: 8.79e-03 best: -2.47e-02\n",
        "T: 3.68e-02"
       ]
      },
      {
       "output_type": "stream",
       "stream": "stdout",
       "text": [
        " energy: 5.31e-03 best: -2.47e-02\n",
        "T: 3.67e-02"
       ]
      },
      {
       "output_type": "stream",
       "stream": "stdout",
       "text": [
        " energy: 1.16e-02 best: -2.47e-02\n",
        "T: 3.65e-02"
       ]
      },
      {
       "output_type": "stream",
       "stream": "stdout",
       "text": [
        " energy: 1.23e-02 best: -2.47e-02\n",
        "T: 3.63e-02"
       ]
      },
      {
       "output_type": "stream",
       "stream": "stdout",
       "text": [
        " energy: 9.19e-03 best: -2.47e-02\n",
        "T: 3.61e-02"
       ]
      },
      {
       "output_type": "stream",
       "stream": "stdout",
       "text": [
        " energy: 1.08e-02 best: -2.47e-02\n",
        "T: 3.59e-02"
       ]
      },
      {
       "output_type": "stream",
       "stream": "stdout",
       "text": [
        " energy: 1.03e-02 best: -2.47e-02\n",
        "T: 3.58e-02"
       ]
      },
      {
       "output_type": "stream",
       "stream": "stdout",
       "text": [
        " energy: 1.36e-02 best: -2.47e-02\n",
        "T: 3.56e-02"
       ]
      },
      {
       "output_type": "stream",
       "stream": "stdout",
       "text": [
        " energy: 7.84e-03 best: -2.47e-02\n",
        "T: 3.54e-02"
       ]
      },
      {
       "output_type": "stream",
       "stream": "stdout",
       "text": [
        " energy: 8.06e-03 best: -2.47e-02\n",
        "T: 3.52e-02"
       ]
      },
      {
       "output_type": "stream",
       "stream": "stdout",
       "text": [
        " energy: 6.94e-03 best: -2.47e-02\n",
        "T: 3.50e-02"
       ]
      },
      {
       "output_type": "stream",
       "stream": "stdout",
       "text": [
        " energy: 2.20e-03 best: -2.47e-02\n",
        "T: 3.49e-02"
       ]
      },
      {
       "output_type": "stream",
       "stream": "stdout",
       "text": [
        " energy: 5.88e-03 best: -2.47e-02\n",
        "T: 3.47e-02"
       ]
      },
      {
       "output_type": "stream",
       "stream": "stdout",
       "text": [
        " energy: 1.33e-02 best: -2.47e-02\n",
        "T: 3.45e-02"
       ]
      },
      {
       "output_type": "stream",
       "stream": "stdout",
       "text": [
        " energy: 1.21e-02 best: -2.47e-02\n",
        "T: 3.43e-02"
       ]
      },
      {
       "output_type": "stream",
       "stream": "stdout",
       "text": [
        " energy: 8.38e-03 best: -2.47e-02\n",
        "T: 3.42e-02"
       ]
      },
      {
       "output_type": "stream",
       "stream": "stdout",
       "text": [
        " energy: 9.04e-03 best: -2.47e-02\n",
        "T: 3.40e-02"
       ]
      },
      {
       "output_type": "stream",
       "stream": "stdout",
       "text": [
        " energy: 6.48e-03 best: -2.47e-02\n",
        "T: 3.38e-02"
       ]
      },
      {
       "output_type": "stream",
       "stream": "stdout",
       "text": [
        " energy: 8.57e-03 best: -2.47e-02\n",
        "T: 3.37e-02"
       ]
      },
      {
       "output_type": "stream",
       "stream": "stdout",
       "text": [
        " energy: 4.79e-03 best: -2.47e-02\n",
        "T: 3.35e-02"
       ]
      },
      {
       "output_type": "stream",
       "stream": "stdout",
       "text": [
        " energy: 2.52e-03 best: -2.47e-02\n",
        "T: 3.33e-02"
       ]
      },
      {
       "output_type": "stream",
       "stream": "stdout",
       "text": [
        " energy: 2.94e-03 best: -2.47e-02\n",
        "T: 3.32e-02"
       ]
      },
      {
       "output_type": "stream",
       "stream": "stdout",
       "text": [
        " energy: 4.49e-03 best: -2.47e-02\n",
        "T: 3.30e-02"
       ]
      },
      {
       "output_type": "stream",
       "stream": "stdout",
       "text": [
        " energy: 4.92e-03 best: -2.47e-02\n",
        "T: 3.28e-02"
       ]
      },
      {
       "output_type": "stream",
       "stream": "stdout",
       "text": [
        " energy: 6.71e-03 best: -2.47e-02\n",
        "T: 3.27e-02"
       ]
      },
      {
       "output_type": "stream",
       "stream": "stdout",
       "text": [
        " energy: 8.25e-03 best: -2.47e-02\n",
        "T: 3.25e-02"
       ]
      },
      {
       "output_type": "stream",
       "stream": "stdout",
       "text": [
        " energy: 8.21e-03 best: -2.47e-02\n",
        "T: 3.23e-02"
       ]
      },
      {
       "output_type": "stream",
       "stream": "stdout",
       "text": [
        " energy: 4.50e-03 best: -2.47e-02\n",
        "T: 3.22e-02"
       ]
      },
      {
       "output_type": "stream",
       "stream": "stdout",
       "text": [
        " energy: 1.47e-03 best: -2.47e-02\n",
        "T: 3.20e-02"
       ]
      },
      {
       "output_type": "stream",
       "stream": "stdout",
       "text": [
        " energy: -1.13e-03 best: -2.47e-02\n",
        "T: 3.19e-02"
       ]
      },
      {
       "output_type": "stream",
       "stream": "stdout",
       "text": [
        " energy: 2.85e-04 best: -2.47e-02\n",
        "T: 3.17e-02"
       ]
      },
      {
       "output_type": "stream",
       "stream": "stdout",
       "text": [
        " energy: -2.27e-04 best: -2.47e-02\n",
        "T: 3.15e-02"
       ]
      },
      {
       "output_type": "stream",
       "stream": "stdout",
       "text": [
        " energy: 1.46e-03 best: -2.47e-02\n",
        "T: 3.14e-02"
       ]
      },
      {
       "output_type": "stream",
       "stream": "stdout",
       "text": [
        " energy: 5.61e-03 best: -2.47e-02\n",
        "T: 3.12e-02"
       ]
      },
      {
       "output_type": "stream",
       "stream": "stdout",
       "text": [
        " energy: 6.73e-03 best: -2.47e-02\n",
        "T: 3.11e-02"
       ]
      },
      {
       "output_type": "stream",
       "stream": "stdout",
       "text": [
        " energy: 9.56e-03 best: -2.47e-02\n",
        "T: 3.09e-02"
       ]
      },
      {
       "output_type": "stream",
       "stream": "stdout",
       "text": [
        " energy: 1.03e-02 best: -2.47e-02\n",
        "T: 3.08e-02"
       ]
      },
      {
       "output_type": "stream",
       "stream": "stdout",
       "text": [
        " energy: 9.95e-03 best: -2.47e-02\n",
        "T: 3.06e-02"
       ]
      },
      {
       "output_type": "stream",
       "stream": "stdout",
       "text": [
        " energy: 9.44e-03 best: -2.47e-02\n",
        "T: 3.05e-02"
       ]
      },
      {
       "output_type": "stream",
       "stream": "stdout",
       "text": [
        " energy: 1.17e-02 best: -2.47e-02\n",
        "T: 3.03e-02"
       ]
      },
      {
       "output_type": "stream",
       "stream": "stdout",
       "text": [
        " energy: 1.25e-02 best: -2.47e-02\n",
        "T: 3.02e-02"
       ]
      },
      {
       "output_type": "stream",
       "stream": "stdout",
       "text": [
        " energy: 1.41e-02 best: -2.47e-02\n",
        "T: 3.00e-02"
       ]
      },
      {
       "output_type": "stream",
       "stream": "stdout",
       "text": [
        " energy: 9.19e-03 best: -2.47e-02\n",
        "T: 2.99e-02"
       ]
      },
      {
       "output_type": "stream",
       "stream": "stdout",
       "text": [
        " energy: 8.45e-03 best: -2.47e-02\n",
        "T: 2.97e-02"
       ]
      },
      {
       "output_type": "stream",
       "stream": "stdout",
       "text": [
        " energy: 9.41e-03 best: -2.47e-02\n",
        "T: 2.96e-02"
       ]
      },
      {
       "output_type": "stream",
       "stream": "stdout",
       "text": [
        " energy: 1.37e-02 best: -2.47e-02\n",
        "T: 2.94e-02"
       ]
      },
      {
       "output_type": "stream",
       "stream": "stdout",
       "text": [
        " energy: 6.28e-03 best: -2.47e-02\n",
        "T: 2.93e-02"
       ]
      },
      {
       "output_type": "stream",
       "stream": "stdout",
       "text": [
        " energy: 5.31e-03 best: -2.47e-02\n",
        "T: 2.91e-02"
       ]
      },
      {
       "output_type": "stream",
       "stream": "stdout",
       "text": [
        " energy: 4.27e-03 best: -2.47e-02\n",
        "T: 2.90e-02"
       ]
      },
      {
       "output_type": "stream",
       "stream": "stdout",
       "text": [
        " energy: 6.34e-04 best: -2.47e-02\n",
        "T: 2.88e-02"
       ]
      },
      {
       "output_type": "stream",
       "stream": "stdout",
       "text": [
        " energy: 6.50e-03 best: -2.47e-02\n",
        "T: 2.87e-02"
       ]
      },
      {
       "output_type": "stream",
       "stream": "stdout",
       "text": [
        " energy: 7.09e-03 best: -2.47e-02\n",
        "T: 2.85e-02"
       ]
      },
      {
       "output_type": "stream",
       "stream": "stdout",
       "text": [
        " energy: 3.09e-03 best: -2.47e-02\n",
        "T: 2.84e-02"
       ]
      },
      {
       "output_type": "stream",
       "stream": "stdout",
       "text": [
        " energy: 5.57e-03 best: -2.47e-02\n",
        "T: 2.82e-02"
       ]
      },
      {
       "output_type": "stream",
       "stream": "stdout",
       "text": [
        " energy: 7.22e-03 best: -2.47e-02\n",
        "T: 2.81e-02"
       ]
      },
      {
       "output_type": "stream",
       "stream": "stdout",
       "text": [
        " energy: -9.22e-04 best: -2.47e-02\n",
        "T: 2.80e-02"
       ]
      },
      {
       "output_type": "stream",
       "stream": "stdout",
       "text": [
        " energy: 7.62e-04 best: -2.47e-02\n",
        "T: 2.78e-02"
       ]
      },
      {
       "output_type": "stream",
       "stream": "stdout",
       "text": [
        " energy: 8.39e-03 best: -2.47e-02\n",
        "T: 2.77e-02"
       ]
      },
      {
       "output_type": "stream",
       "stream": "stdout",
       "text": [
        " energy: 1.70e-03 best: -2.47e-02\n",
        "T: 2.76e-02"
       ]
      },
      {
       "output_type": "stream",
       "stream": "stdout",
       "text": [
        " energy: 2.48e-03 best: -2.47e-02\n",
        "T: 2.74e-02"
       ]
      },
      {
       "output_type": "stream",
       "stream": "stdout",
       "text": [
        " energy: -2.11e-04 best: -2.47e-02\n",
        "T: 2.73e-02"
       ]
      },
      {
       "output_type": "stream",
       "stream": "stdout",
       "text": [
        " energy: -6.67e-04 best: -2.47e-02\n",
        "T: 2.71e-02"
       ]
      },
      {
       "output_type": "stream",
       "stream": "stdout",
       "text": [
        " energy: 3.72e-03 best: -2.47e-02\n",
        "T: 2.70e-02"
       ]
      },
      {
       "output_type": "stream",
       "stream": "stdout",
       "text": [
        " energy: 3.18e-03 best: -2.47e-02\n",
        "T: 2.69e-02"
       ]
      },
      {
       "output_type": "stream",
       "stream": "stdout",
       "text": [
        " energy: 5.39e-03 best: -2.47e-02\n",
        "T: 2.67e-02"
       ]
      },
      {
       "output_type": "stream",
       "stream": "stdout",
       "text": [
        " energy: 2.24e-03 best: -2.47e-02\n",
        "T: 2.66e-02"
       ]
      },
      {
       "output_type": "stream",
       "stream": "stdout",
       "text": [
        " energy: -9.70e-04 best: -2.47e-02\n",
        "T: 2.65e-02"
       ]
      },
      {
       "output_type": "stream",
       "stream": "stdout",
       "text": [
        " energy: 2.58e-03 best: -2.47e-02\n",
        "T: 2.63e-02"
       ]
      },
      {
       "output_type": "stream",
       "stream": "stdout",
       "text": [
        " energy: -9.14e-04 best: -2.47e-02\n",
        "T: 2.62e-02"
       ]
      },
      {
       "output_type": "stream",
       "stream": "stdout",
       "text": [
        " energy: 1.67e-03 best: -2.47e-02\n",
        "T: 2.61e-02"
       ]
      },
      {
       "output_type": "stream",
       "stream": "stdout",
       "text": [
        " energy: 4.71e-03 best: -2.47e-02\n",
        "T: 2.59e-02"
       ]
      },
      {
       "output_type": "stream",
       "stream": "stdout",
       "text": [
        " energy: 7.07e-04 best: -2.47e-02\n",
        "T: 2.58e-02"
       ]
      },
      {
       "output_type": "stream",
       "stream": "stdout",
       "text": [
        " energy: 5.71e-04 best: -2.47e-02\n",
        "T: 2.57e-02"
       ]
      },
      {
       "output_type": "stream",
       "stream": "stdout",
       "text": [
        " energy: -4.59e-03 best: -2.47e-02\n",
        "T: 2.56e-02"
       ]
      },
      {
       "output_type": "stream",
       "stream": "stdout",
       "text": [
        " energy: -1.50e-03 best: -2.47e-02\n",
        "T: 2.54e-02"
       ]
      },
      {
       "output_type": "stream",
       "stream": "stdout",
       "text": [
        " energy: 3.02e-04 best: -2.47e-02\n",
        "T: 2.53e-02"
       ]
      },
      {
       "output_type": "stream",
       "stream": "stdout",
       "text": [
        " energy: 7.53e-04 best: -2.47e-02\n",
        "T: 2.52e-02"
       ]
      },
      {
       "output_type": "stream",
       "stream": "stdout",
       "text": [
        " energy: -7.39e-04 best: -2.47e-02\n",
        "T: 2.50e-02"
       ]
      },
      {
       "output_type": "stream",
       "stream": "stdout",
       "text": [
        " energy: 2.11e-03 best: -2.47e-02\n",
        "T: 2.49e-02"
       ]
      },
      {
       "output_type": "stream",
       "stream": "stdout",
       "text": [
        " energy: 1.14e-04 best: -2.47e-02\n",
        "T: 2.48e-02"
       ]
      },
      {
       "output_type": "stream",
       "stream": "stdout",
       "text": [
        " energy: 1.58e-04 best: -2.47e-02\n",
        "T: 2.47e-02"
       ]
      },
      {
       "output_type": "stream",
       "stream": "stdout",
       "text": [
        " energy: 1.41e-03 best: -2.47e-02\n",
        "T: 2.46e-02"
       ]
      },
      {
       "output_type": "stream",
       "stream": "stdout",
       "text": [
        " energy: 2.20e-03 best: -2.47e-02\n",
        "T: 2.44e-02"
       ]
      },
      {
       "output_type": "stream",
       "stream": "stdout",
       "text": [
        " energy: 1.81e-03 best: -2.47e-02\n",
        "T: 2.43e-02"
       ]
      },
      {
       "output_type": "stream",
       "stream": "stdout",
       "text": [
        " energy: 4.10e-03 best: -2.47e-02\n",
        "T: 2.42e-02"
       ]
      },
      {
       "output_type": "stream",
       "stream": "stdout",
       "text": [
        " energy: 2.45e-03 best: -2.47e-02\n",
        "T: 2.41e-02"
       ]
      },
      {
       "output_type": "stream",
       "stream": "stdout",
       "text": [
        " energy: 8.14e-03 best: -2.47e-02\n",
        "T: 2.39e-02"
       ]
      },
      {
       "output_type": "stream",
       "stream": "stdout",
       "text": [
        " energy: 3.95e-03 best: -2.47e-02\n",
        "T: 2.38e-02"
       ]
      },
      {
       "output_type": "stream",
       "stream": "stdout",
       "text": [
        " energy: 6.68e-03 best: -2.47e-02\n",
        "T: 2.37e-02"
       ]
      },
      {
       "output_type": "stream",
       "stream": "stdout",
       "text": [
        " energy: 1.67e-03 best: -2.47e-02\n",
        "T: 2.36e-02"
       ]
      },
      {
       "output_type": "stream",
       "stream": "stdout",
       "text": [
        " energy: 7.71e-04 best: -2.47e-02\n",
        "T: 2.35e-02"
       ]
      },
      {
       "output_type": "stream",
       "stream": "stdout",
       "text": [
        " energy: 9.15e-04 best: -2.47e-02\n",
        "T: 2.33e-02"
       ]
      },
      {
       "output_type": "stream",
       "stream": "stdout",
       "text": [
        " energy: -7.44e-03 best: -2.47e-02\n",
        "T: 2.32e-02"
       ]
      },
      {
       "output_type": "stream",
       "stream": "stdout",
       "text": [
        " energy: -1.17e-03 best: -2.47e-02\n",
        "T: 2.31e-02"
       ]
      },
      {
       "output_type": "stream",
       "stream": "stdout",
       "text": [
        " energy: 2.12e-03 best: -2.47e-02\n",
        "T: 2.30e-02"
       ]
      },
      {
       "output_type": "stream",
       "stream": "stdout",
       "text": [
        " energy: 8.69e-03 best: -2.47e-02\n",
        "T: 2.29e-02"
       ]
      },
      {
       "output_type": "stream",
       "stream": "stdout",
       "text": [
        " energy: 7.57e-04 best: -2.47e-02\n",
        "T: 2.28e-02"
       ]
      },
      {
       "output_type": "stream",
       "stream": "stdout",
       "text": [
        " energy: 8.33e-03 best: -2.47e-02\n",
        "T: 2.27e-02"
       ]
      },
      {
       "output_type": "stream",
       "stream": "stdout",
       "text": [
        " energy: -6.94e-04 best: -2.47e-02\n",
        "T: 2.25e-02"
       ]
      },
      {
       "output_type": "stream",
       "stream": "stdout",
       "text": [
        " energy: 1.20e-02 best: -2.47e-02\n",
        "T: 2.24e-02"
       ]
      },
      {
       "output_type": "stream",
       "stream": "stdout",
       "text": [
        " energy: 8.62e-03 best: -2.47e-02\n",
        "T: 2.23e-02"
       ]
      },
      {
       "output_type": "stream",
       "stream": "stdout",
       "text": [
        " energy: 4.73e-03 best: -2.47e-02\n",
        "T: 2.22e-02"
       ]
      },
      {
       "output_type": "stream",
       "stream": "stdout",
       "text": [
        " energy: 8.64e-03 best: -2.47e-02\n",
        "T: 2.21e-02"
       ]
      },
      {
       "output_type": "stream",
       "stream": "stdout",
       "text": [
        " energy: -1.27e-03 best: -2.47e-02\n",
        "T: 2.20e-02"
       ]
      },
      {
       "output_type": "stream",
       "stream": "stdout",
       "text": [
        " energy: 1.14e-02 best: -2.47e-02\n",
        "T: 2.19e-02"
       ]
      },
      {
       "output_type": "stream",
       "stream": "stdout",
       "text": [
        " energy: -9.56e-03 best: -2.47e-02\n",
        "T: 2.18e-02"
       ]
      },
      {
       "output_type": "stream",
       "stream": "stdout",
       "text": [
        " energy: 8.35e-03 best: -2.47e-02\n",
        "T: 2.17e-02"
       ]
      },
      {
       "output_type": "stream",
       "stream": "stdout",
       "text": [
        " energy: 9.56e-03 best: -2.47e-02\n",
        "T: 2.16e-02"
       ]
      },
      {
       "output_type": "stream",
       "stream": "stdout",
       "text": [
        " energy: -5.14e-03 best: -2.47e-02\n",
        "T: 2.14e-02"
       ]
      },
      {
       "output_type": "stream",
       "stream": "stdout",
       "text": [
        " energy: -7.94e-04 best: -2.47e-02\n",
        "T: 2.13e-02"
       ]
      },
      {
       "output_type": "stream",
       "stream": "stdout",
       "text": [
        " energy: 2.84e-03 best: -2.47e-02\n",
        "T: 2.12e-02"
       ]
      },
      {
       "output_type": "stream",
       "stream": "stdout",
       "text": [
        " energy: -3.34e-03 best: -2.47e-02\n",
        "T: 2.11e-02"
       ]
      },
      {
       "output_type": "stream",
       "stream": "stdout",
       "text": [
        " energy: 4.85e-03 best: -2.47e-02\n",
        "T: 2.10e-02"
       ]
      },
      {
       "output_type": "stream",
       "stream": "stdout",
       "text": [
        " energy: 5.09e-03 best: -2.47e-02\n",
        "T: 2.09e-02"
       ]
      },
      {
       "output_type": "stream",
       "stream": "stdout",
       "text": [
        " energy: 5.63e-03 best: -2.47e-02\n",
        "T: 2.08e-02"
       ]
      },
      {
       "output_type": "stream",
       "stream": "stdout",
       "text": [
        " energy: 1.51e-02 best: -2.47e-02\n",
        "T: 2.07e-02"
       ]
      },
      {
       "output_type": "stream",
       "stream": "stdout",
       "text": [
        " energy: 1.73e-02 best: -2.47e-02\n",
        "T: 2.06e-02"
       ]
      },
      {
       "output_type": "stream",
       "stream": "stdout",
       "text": [
        " energy: 1.62e-02 best: -2.47e-02\n",
        "T: 2.05e-02"
       ]
      },
      {
       "output_type": "stream",
       "stream": "stdout",
       "text": [
        " energy: 1.31e-02 best: -2.47e-02\n",
        "T: 2.04e-02"
       ]
      },
      {
       "output_type": "stream",
       "stream": "stdout",
       "text": [
        " energy: 1.17e-02 best: -2.47e-02\n",
        "T: 2.03e-02"
       ]
      },
      {
       "output_type": "stream",
       "stream": "stdout",
       "text": [
        " energy: 6.42e-03 best: -2.47e-02\n",
        "T: 2.02e-02"
       ]
      },
      {
       "output_type": "stream",
       "stream": "stdout",
       "text": [
        " energy: 1.49e-02 best: -2.47e-02\n",
        "T: 2.01e-02"
       ]
      },
      {
       "output_type": "stream",
       "stream": "stdout",
       "text": [
        " energy: 4.28e-03 best: -2.47e-02\n",
        "T: 2.00e-02"
       ]
      },
      {
       "output_type": "stream",
       "stream": "stdout",
       "text": [
        " energy: 1.12e-02 best: -2.47e-02\n",
        "T: 1.99e-02"
       ]
      },
      {
       "output_type": "stream",
       "stream": "stdout",
       "text": [
        " energy: 1.30e-02 best: -2.47e-02\n",
        "T: 1.98e-02"
       ]
      },
      {
       "output_type": "stream",
       "stream": "stdout",
       "text": [
        " energy: 7.41e-03 best: -2.47e-02\n",
        "T: 1.97e-02"
       ]
      },
      {
       "output_type": "stream",
       "stream": "stdout",
       "text": [
        " energy: 3.59e-03 best: -2.47e-02\n",
        "T: 1.96e-02"
       ]
      },
      {
       "output_type": "stream",
       "stream": "stdout",
       "text": [
        " energy: 2.69e-03 best: -2.47e-02\n",
        "T: 1.95e-02"
       ]
      },
      {
       "output_type": "stream",
       "stream": "stdout",
       "text": [
        " energy: 8.53e-03 best: -2.47e-02\n",
        "T: 1.94e-02"
       ]
      },
      {
       "output_type": "stream",
       "stream": "stdout",
       "text": [
        " energy: 5.80e-03 best: -2.47e-02\n",
        "T: 1.93e-02"
       ]
      },
      {
       "output_type": "stream",
       "stream": "stdout",
       "text": [
        " energy: 2.36e-03 best: -2.47e-02\n",
        "T: 1.92e-02"
       ]
      },
      {
       "output_type": "stream",
       "stream": "stdout",
       "text": [
        " energy: 3.25e-03 best: -2.47e-02\n",
        "T: 1.91e-02"
       ]
      },
      {
       "output_type": "stream",
       "stream": "stdout",
       "text": [
        " energy: 1.90e-03 best: -2.47e-02\n",
        "T: 1.90e-02"
       ]
      },
      {
       "output_type": "stream",
       "stream": "stdout",
       "text": [
        " energy: 7.79e-04 best: -2.47e-02\n",
        "T: 1.89e-02"
       ]
      },
      {
       "output_type": "stream",
       "stream": "stdout",
       "text": [
        " energy: -4.00e-03 best: -2.47e-02\n",
        "T: 1.88e-02"
       ]
      },
      {
       "output_type": "stream",
       "stream": "stdout",
       "text": [
        " energy: 1.28e-04 best: -2.47e-02\n",
        "T: 1.87e-02"
       ]
      },
      {
       "output_type": "stream",
       "stream": "stdout",
       "text": [
        " energy: 1.42e-04 best: -2.47e-02\n",
        "T: 1.86e-02"
       ]
      },
      {
       "output_type": "stream",
       "stream": "stdout",
       "text": [
        " energy: 2.37e-03 best: -2.47e-02\n",
        "T: 1.85e-02"
       ]
      },
      {
       "output_type": "stream",
       "stream": "stdout",
       "text": [
        " energy: 4.82e-03 best: -2.47e-02\n",
        "T: 1.84e-02"
       ]
      },
      {
       "output_type": "stream",
       "stream": "stdout",
       "text": [
        " energy: 4.98e-03 best: -2.47e-02\n",
        "T: 1.84e-02"
       ]
      },
      {
       "output_type": "stream",
       "stream": "stdout",
       "text": [
        " energy: 7.17e-03 best: -2.47e-02\n",
        "T: 1.83e-02"
       ]
      },
      {
       "output_type": "stream",
       "stream": "stdout",
       "text": [
        " energy: 1.24e-02 best: -2.47e-02\n",
        "T: 1.82e-02"
       ]
      },
      {
       "output_type": "stream",
       "stream": "stdout",
       "text": [
        " energy: 7.78e-03 best: -2.47e-02\n",
        "T: 1.81e-02"
       ]
      },
      {
       "output_type": "stream",
       "stream": "stdout",
       "text": [
        " energy: 4.67e-03 best: -2.47e-02\n",
        "T: 1.80e-02"
       ]
      },
      {
       "output_type": "stream",
       "stream": "stdout",
       "text": [
        " energy: 6.65e-03 best: -2.47e-02\n",
        "T: 1.79e-02"
       ]
      },
      {
       "output_type": "stream",
       "stream": "stdout",
       "text": [
        " energy: 3.86e-03 best: -2.47e-02\n",
        "T: 1.78e-02"
       ]
      },
      {
       "output_type": "stream",
       "stream": "stdout",
       "text": [
        " energy: 4.73e-03 best: -2.47e-02\n",
        "T: 1.77e-02"
       ]
      },
      {
       "output_type": "stream",
       "stream": "stdout",
       "text": [
        " energy: 3.57e-03 best: -2.47e-02\n",
        "T: 1.76e-02"
       ]
      },
      {
       "output_type": "stream",
       "stream": "stdout",
       "text": [
        " energy: 4.40e-04 best: -2.47e-02\n",
        "T: 1.75e-02"
       ]
      },
      {
       "output_type": "stream",
       "stream": "stdout",
       "text": [
        " energy: 6.37e-03 best: -2.47e-02\n",
        "T: 1.75e-02"
       ]
      },
      {
       "output_type": "stream",
       "stream": "stdout",
       "text": [
        " energy: 1.74e-03 best: -2.47e-02\n",
        "T: 1.74e-02"
       ]
      },
      {
       "output_type": "stream",
       "stream": "stdout",
       "text": [
        " energy: 1.29e-03 best: -2.47e-02\n",
        "T: 1.73e-02"
       ]
      },
      {
       "output_type": "stream",
       "stream": "stdout",
       "text": [
        " energy: 2.68e-03 best: -2.47e-02\n",
        "T: 1.72e-02"
       ]
      },
      {
       "output_type": "stream",
       "stream": "stdout",
       "text": [
        " energy: 1.28e-03 best: -2.47e-02\n",
        "T: 1.71e-02"
       ]
      },
      {
       "output_type": "stream",
       "stream": "stdout",
       "text": [
        " energy: 4.79e-03 best: -2.47e-02\n",
        "T: 1.70e-02"
       ]
      },
      {
       "output_type": "stream",
       "stream": "stdout",
       "text": [
        " energy: 4.95e-04 best: -2.47e-02\n",
        "T: 1.69e-02"
       ]
      },
      {
       "output_type": "stream",
       "stream": "stdout",
       "text": [
        " energy: 8.84e-03 best: -2.47e-02\n",
        "T: 1.69e-02"
       ]
      },
      {
       "output_type": "stream",
       "stream": "stdout",
       "text": [
        " energy: 9.71e-03 best: -2.47e-02\n",
        "T: 1.68e-02"
       ]
      },
      {
       "output_type": "stream",
       "stream": "stdout",
       "text": [
        " energy: 1.00e-02 best: -2.47e-02\n",
        "T: 1.67e-02"
       ]
      },
      {
       "output_type": "stream",
       "stream": "stdout",
       "text": [
        " energy: 9.49e-03 best: -2.47e-02\n",
        "T: 1.66e-02"
       ]
      },
      {
       "output_type": "stream",
       "stream": "stdout",
       "text": [
        " energy: 7.53e-03 best: -2.47e-02\n",
        "T: 1.65e-02"
       ]
      },
      {
       "output_type": "stream",
       "stream": "stdout",
       "text": [
        " energy: 5.24e-04 best: -2.47e-02\n",
        "T: 1.64e-02"
       ]
      },
      {
       "output_type": "stream",
       "stream": "stdout",
       "text": [
        " energy: 2.08e-03 best: -2.47e-02\n",
        "T: 1.64e-02"
       ]
      },
      {
       "output_type": "stream",
       "stream": "stdout",
       "text": [
        " energy: -8.88e-04 best: -2.47e-02\n",
        "T: 1.63e-02"
       ]
      },
      {
       "output_type": "stream",
       "stream": "stdout",
       "text": [
        " energy: 5.64e-03 best: -2.47e-02\n",
        "T: 1.62e-02"
       ]
      },
      {
       "output_type": "stream",
       "stream": "stdout",
       "text": [
        " energy: 8.40e-03 best: -2.47e-02\n",
        "T: 1.61e-02"
       ]
      },
      {
       "output_type": "stream",
       "stream": "stdout",
       "text": [
        " energy: 1.13e-02 best: -2.47e-02\n",
        "T: 1.60e-02"
       ]
      },
      {
       "output_type": "stream",
       "stream": "stdout",
       "text": [
        " energy: 9.09e-03 best: -2.47e-02\n",
        "T: 1.60e-02"
       ]
      },
      {
       "output_type": "stream",
       "stream": "stdout",
       "text": [
        " energy: 1.59e-02 best: -2.47e-02\n",
        "T: 1.59e-02"
       ]
      },
      {
       "output_type": "stream",
       "stream": "stdout",
       "text": [
        " energy: 6.64e-03 best: -2.47e-02\n",
        "T: 1.58e-02"
       ]
      },
      {
       "output_type": "stream",
       "stream": "stdout",
       "text": [
        " energy: 8.04e-03 best: -2.47e-02\n",
        "T: 1.57e-02"
       ]
      },
      {
       "output_type": "stream",
       "stream": "stdout",
       "text": [
        " energy: 1.00e-02 best: -2.47e-02\n",
        "T: 1.56e-02"
       ]
      },
      {
       "output_type": "stream",
       "stream": "stdout",
       "text": [
        " energy: 5.68e-03 best: -2.47e-02\n",
        "T: 1.56e-02"
       ]
      },
      {
       "output_type": "stream",
       "stream": "stdout",
       "text": [
        " energy: 8.51e-03 best: -2.47e-02\n",
        "T: 1.55e-02"
       ]
      },
      {
       "output_type": "stream",
       "stream": "stdout",
       "text": [
        " energy: 4.44e-03 best: -2.47e-02\n",
        "T: 1.54e-02"
       ]
      },
      {
       "output_type": "stream",
       "stream": "stdout",
       "text": [
        " energy: 9.06e-03 best: -2.47e-02\n",
        "T: 1.53e-02"
       ]
      },
      {
       "output_type": "stream",
       "stream": "stdout",
       "text": [
        " energy: 9.02e-03 best: -2.47e-02\n",
        "T: 1.52e-02"
       ]
      },
      {
       "output_type": "stream",
       "stream": "stdout",
       "text": [
        " energy: 1.09e-02 best: -2.47e-02\n",
        "T: 1.52e-02"
       ]
      },
      {
       "output_type": "stream",
       "stream": "stdout",
       "text": [
        " energy: 7.60e-03 best: -2.47e-02\n",
        "T: 1.51e-02"
       ]
      },
      {
       "output_type": "stream",
       "stream": "stdout",
       "text": [
        " energy: 4.02e-03 best: -2.47e-02\n",
        "T: 1.50e-02"
       ]
      },
      {
       "output_type": "stream",
       "stream": "stdout",
       "text": [
        " energy: 5.50e-03 best: -2.47e-02\n",
        "T: 1.49e-02"
       ]
      },
      {
       "output_type": "stream",
       "stream": "stdout",
       "text": [
        " energy: 7.23e-03 best: -2.47e-02\n",
        "T: 1.49e-02"
       ]
      },
      {
       "output_type": "stream",
       "stream": "stdout",
       "text": [
        " energy: 1.14e-03 best: -2.47e-02\n",
        "T: 1.48e-02"
       ]
      },
      {
       "output_type": "stream",
       "stream": "stdout",
       "text": [
        " energy: 4.98e-03 best: -2.47e-02\n",
        "T: 1.47e-02"
       ]
      },
      {
       "output_type": "stream",
       "stream": "stdout",
       "text": [
        " energy: 2.99e-03 best: -2.47e-02\n",
        "T: 1.46e-02"
       ]
      },
      {
       "output_type": "stream",
       "stream": "stdout",
       "text": [
        " energy: 1.84e-03 best: -2.47e-02\n",
        "T: 1.46e-02"
       ]
      },
      {
       "output_type": "stream",
       "stream": "stdout",
       "text": [
        " energy: 5.24e-03 best: -2.47e-02\n",
        "T: 1.45e-02"
       ]
      },
      {
       "output_type": "stream",
       "stream": "stdout",
       "text": [
        " energy: 6.73e-04 best: -2.47e-02\n",
        "T: 1.44e-02"
       ]
      },
      {
       "output_type": "stream",
       "stream": "stdout",
       "text": [
        " energy: 3.72e-03 best: -2.47e-02\n",
        "T: 1.44e-02"
       ]
      },
      {
       "output_type": "stream",
       "stream": "stdout",
       "text": [
        " energy: 7.56e-03 best: -2.47e-02\n",
        "T: 1.43e-02"
       ]
      },
      {
       "output_type": "stream",
       "stream": "stdout",
       "text": [
        " energy: 1.29e-02 best: -2.47e-02\n",
        "T: 1.42e-02"
       ]
      },
      {
       "output_type": "stream",
       "stream": "stdout",
       "text": [
        " energy: 8.43e-03 best: -2.47e-02\n",
        "T: 1.41e-02"
       ]
      },
      {
       "output_type": "stream",
       "stream": "stdout",
       "text": [
        " energy: 8.31e-03 best: -2.47e-02\n",
        "T: 1.41e-02"
       ]
      },
      {
       "output_type": "stream",
       "stream": "stdout",
       "text": [
        " energy: 6.76e-03 best: -2.47e-02\n",
        "T: 1.40e-02"
       ]
      },
      {
       "output_type": "stream",
       "stream": "stdout",
       "text": [
        " energy: 6.42e-03 best: -2.47e-02\n",
        "T: 1.39e-02"
       ]
      },
      {
       "output_type": "stream",
       "stream": "stdout",
       "text": [
        " energy: 7.20e-03 best: -2.47e-02\n",
        "T: 1.39e-02"
       ]
      },
      {
       "output_type": "stream",
       "stream": "stdout",
       "text": [
        " energy: 8.04e-03 best: -2.47e-02\n",
        "T: 1.38e-02"
       ]
      },
      {
       "output_type": "stream",
       "stream": "stdout",
       "text": [
        " energy: 2.88e-03 best: -2.47e-02\n",
        "T: 1.37e-02"
       ]
      },
      {
       "output_type": "stream",
       "stream": "stdout",
       "text": [
        " energy: 7.06e-03 best: -2.47e-02\n",
        "T: 1.37e-02"
       ]
      },
      {
       "output_type": "stream",
       "stream": "stdout",
       "text": [
        " energy: 8.13e-03 best: -2.47e-02\n",
        "T: 1.36e-02"
       ]
      },
      {
       "output_type": "stream",
       "stream": "stdout",
       "text": [
        " energy: 5.72e-03 best: -2.47e-02\n",
        "T: 1.35e-02"
       ]
      },
      {
       "output_type": "stream",
       "stream": "stdout",
       "text": [
        " energy: 1.19e-03 best: -2.47e-02\n",
        "T: 1.35e-02"
       ]
      },
      {
       "output_type": "stream",
       "stream": "stdout",
       "text": [
        " energy: 7.82e-04 best: -2.47e-02\n",
        "T: 1.34e-02"
       ]
      },
      {
       "output_type": "stream",
       "stream": "stdout",
       "text": [
        " energy: -4.62e-03 best: -2.47e-02\n",
        "T: 1.33e-02"
       ]
      },
      {
       "output_type": "stream",
       "stream": "stdout",
       "text": [
        " energy: 3.38e-03 best: -2.47e-02\n",
        "T: 1.33e-02"
       ]
      },
      {
       "output_type": "stream",
       "stream": "stdout",
       "text": [
        " energy: 1.71e-03 best: -2.47e-02\n",
        "T: 1.32e-02"
       ]
      },
      {
       "output_type": "stream",
       "stream": "stdout",
       "text": [
        " energy: 3.20e-03 best: -2.47e-02\n",
        "T: 1.31e-02"
       ]
      },
      {
       "output_type": "stream",
       "stream": "stdout",
       "text": [
        " energy: 5.56e-03 best: -2.47e-02\n",
        "T: 1.31e-02"
       ]
      },
      {
       "output_type": "stream",
       "stream": "stdout",
       "text": [
        " energy: 9.37e-03 best: -2.47e-02\n",
        "T: 1.30e-02"
       ]
      },
      {
       "output_type": "stream",
       "stream": "stdout",
       "text": [
        " energy: 1.10e-02 best: -2.47e-02\n",
        "T: 1.29e-02"
       ]
      },
      {
       "output_type": "stream",
       "stream": "stdout",
       "text": [
        " energy: 1.10e-02 best: -2.47e-02\n",
        "T: 1.29e-02"
       ]
      },
      {
       "output_type": "stream",
       "stream": "stdout",
       "text": [
        " energy: 7.75e-03 best: -2.47e-02\n",
        "T: 1.28e-02"
       ]
      },
      {
       "output_type": "stream",
       "stream": "stdout",
       "text": [
        " energy: 3.40e-03 best: -2.47e-02\n",
        "T: 1.27e-02"
       ]
      },
      {
       "output_type": "stream",
       "stream": "stdout",
       "text": [
        " energy: 5.37e-03 best: -2.47e-02\n",
        "T: 1.27e-02"
       ]
      },
      {
       "output_type": "stream",
       "stream": "stdout",
       "text": [
        " energy: 1.08e-02 best: -2.47e-02\n",
        "T: 1.26e-02"
       ]
      },
      {
       "output_type": "stream",
       "stream": "stdout",
       "text": [
        " energy: 5.77e-03 best: -2.47e-02\n",
        "T: 1.25e-02"
       ]
      },
      {
       "output_type": "stream",
       "stream": "stdout",
       "text": [
        " energy: 6.77e-03 best: -2.47e-02\n",
        "T: 1.25e-02"
       ]
      },
      {
       "output_type": "stream",
       "stream": "stdout",
       "text": [
        " energy: 5.59e-03 best: -2.47e-02\n",
        "T: 1.24e-02"
       ]
      },
      {
       "output_type": "stream",
       "stream": "stdout",
       "text": [
        " energy: 6.38e-03 best: -2.47e-02\n",
        "T: 1.24e-02"
       ]
      },
      {
       "output_type": "stream",
       "stream": "stdout",
       "text": [
        " energy: 4.22e-03 best: -2.47e-02\n",
        "T: 1.23e-02"
       ]
      },
      {
       "output_type": "stream",
       "stream": "stdout",
       "text": [
        " energy: 5.58e-03 best: -2.47e-02\n",
        "T: 1.22e-02"
       ]
      },
      {
       "output_type": "stream",
       "stream": "stdout",
       "text": [
        " energy: 9.56e-03 best: -2.47e-02\n",
        "T: 1.22e-02"
       ]
      },
      {
       "output_type": "stream",
       "stream": "stdout",
       "text": [
        " energy: 8.47e-03 best: -2.47e-02\n",
        "T: 1.21e-02"
       ]
      },
      {
       "output_type": "stream",
       "stream": "stdout",
       "text": [
        " energy: 1.09e-02 best: -2.47e-02\n",
        "T: 1.20e-02"
       ]
      },
      {
       "output_type": "stream",
       "stream": "stdout",
       "text": [
        " energy: 1.17e-02 best: -2.47e-02\n",
        "T: 1.20e-02"
       ]
      },
      {
       "output_type": "stream",
       "stream": "stdout",
       "text": [
        " energy: 1.12e-02 best: -2.47e-02\n",
        "T: 1.19e-02"
       ]
      },
      {
       "output_type": "stream",
       "stream": "stdout",
       "text": [
        " energy: 8.50e-03 best: -2.47e-02\n",
        "T: 1.19e-02"
       ]
      },
      {
       "output_type": "stream",
       "stream": "stdout",
       "text": [
        " energy: 4.72e-03 best: -2.47e-02\n",
        "T: 1.18e-02"
       ]
      },
      {
       "output_type": "stream",
       "stream": "stdout",
       "text": [
        " energy: 1.31e-03 best: -2.47e-02\n",
        "T: 1.18e-02"
       ]
      },
      {
       "output_type": "stream",
       "stream": "stdout",
       "text": [
        " energy: 4.28e-03 best: -2.47e-02\n",
        "T: 1.17e-02"
       ]
      },
      {
       "output_type": "stream",
       "stream": "stdout",
       "text": [
        " energy: 3.69e-03 best: -2.47e-02\n",
        "T: 1.16e-02"
       ]
      },
      {
       "output_type": "stream",
       "stream": "stdout",
       "text": [
        " energy: 3.47e-03 best: -2.47e-02\n",
        "T: 1.16e-02"
       ]
      },
      {
       "output_type": "stream",
       "stream": "stdout",
       "text": [
        " energy: 6.09e-03 best: -2.47e-02\n",
        "T: 1.15e-02"
       ]
      },
      {
       "output_type": "stream",
       "stream": "stdout",
       "text": [
        " energy: 4.01e-03 best: -2.47e-02\n",
        "T: 1.15e-02"
       ]
      },
      {
       "output_type": "stream",
       "stream": "stdout",
       "text": [
        " energy: 2.56e-03 best: -2.47e-02\n",
        "T: 1.14e-02"
       ]
      },
      {
       "output_type": "stream",
       "stream": "stdout",
       "text": [
        " energy: 5.31e-03 best: -2.47e-02\n",
        "T: 1.13e-02"
       ]
      },
      {
       "output_type": "stream",
       "stream": "stdout",
       "text": [
        " energy: 6.19e-03 best: -2.47e-02\n",
        "T: 1.13e-02"
       ]
      },
      {
       "output_type": "stream",
       "stream": "stdout",
       "text": [
        " energy: 4.80e-03 best: -2.47e-02\n",
        "T: 1.12e-02"
       ]
      },
      {
       "output_type": "stream",
       "stream": "stdout",
       "text": [
        " energy: 5.45e-03 best: -2.47e-02\n",
        "T: 1.12e-02"
       ]
      },
      {
       "output_type": "stream",
       "stream": "stdout",
       "text": [
        " energy: 4.66e-03 best: -2.47e-02\n",
        "T: 1.11e-02"
       ]
      },
      {
       "output_type": "stream",
       "stream": "stdout",
       "text": [
        " energy: 6.60e-04 best: -2.47e-02\n",
        "T: 1.11e-02"
       ]
      },
      {
       "output_type": "stream",
       "stream": "stdout",
       "text": [
        " energy: 3.71e-03 best: -2.47e-02\n",
        "T: 1.10e-02"
       ]
      },
      {
       "output_type": "stream",
       "stream": "stdout",
       "text": [
        " energy: 4.69e-03 best: -2.47e-02\n",
        "T: 1.10e-02"
       ]
      },
      {
       "output_type": "stream",
       "stream": "stdout",
       "text": [
        " energy: 5.39e-03 best: -2.47e-02\n",
        "T: 1.09e-02"
       ]
      },
      {
       "output_type": "stream",
       "stream": "stdout",
       "text": [
        " energy: 8.40e-03 best: -2.47e-02\n",
        "T: 1.08e-02"
       ]
      },
      {
       "output_type": "stream",
       "stream": "stdout",
       "text": [
        " energy: 7.64e-03 best: -2.47e-02\n",
        "T: 1.08e-02"
       ]
      },
      {
       "output_type": "stream",
       "stream": "stdout",
       "text": [
        " energy: 6.87e-03 best: -2.47e-02\n",
        "T: 1.07e-02"
       ]
      },
      {
       "output_type": "stream",
       "stream": "stdout",
       "text": [
        " energy: 5.18e-03 best: -2.47e-02\n",
        "T: 1.07e-02"
       ]
      },
      {
       "output_type": "stream",
       "stream": "stdout",
       "text": [
        " energy: 8.00e-03 best: -2.47e-02\n",
        "T: 1.06e-02"
       ]
      },
      {
       "output_type": "stream",
       "stream": "stdout",
       "text": [
        " energy: 8.59e-03 best: -2.47e-02\n",
        "T: 1.06e-02"
       ]
      },
      {
       "output_type": "stream",
       "stream": "stdout",
       "text": [
        " energy: 5.21e-03 best: -2.47e-02\n",
        "T: 1.05e-02"
       ]
      },
      {
       "output_type": "stream",
       "stream": "stdout",
       "text": [
        " energy: 5.45e-03 best: -2.47e-02\n",
        "T: 1.05e-02"
       ]
      },
      {
       "output_type": "stream",
       "stream": "stdout",
       "text": [
        " energy: 5.55e-03 best: -2.47e-02\n",
        "T: 1.04e-02"
       ]
      },
      {
       "output_type": "stream",
       "stream": "stdout",
       "text": [
        " energy: 5.31e-03 best: -2.47e-02\n",
        "T: 1.04e-02"
       ]
      },
      {
       "output_type": "stream",
       "stream": "stdout",
       "text": [
        " energy: 4.33e-03 best: -2.47e-02\n",
        "T: 1.03e-02"
       ]
      },
      {
       "output_type": "stream",
       "stream": "stdout",
       "text": [
        " energy: 8.94e-03 best: -2.47e-02\n",
        "T: 1.03e-02"
       ]
      },
      {
       "output_type": "stream",
       "stream": "stdout",
       "text": [
        " energy: 9.27e-03 best: -2.47e-02\n",
        "T: 1.02e-02"
       ]
      },
      {
       "output_type": "stream",
       "stream": "stdout",
       "text": [
        " energy: 6.52e-03 best: -2.47e-02\n",
        "T: 1.02e-02"
       ]
      },
      {
       "output_type": "stream",
       "stream": "stdout",
       "text": [
        " energy: 7.83e-03 best: -2.47e-02\n",
        "T: 1.01e-02"
       ]
      },
      {
       "output_type": "stream",
       "stream": "stdout",
       "text": [
        " energy: 8.71e-03 best: -2.47e-02\n",
        "T: 1.01e-02"
       ]
      },
      {
       "output_type": "stream",
       "stream": "stdout",
       "text": [
        " energy: 3.64e-03 best: -2.47e-02\n",
        "T: 1.00e-02"
       ]
      },
      {
       "output_type": "stream",
       "stream": "stdout",
       "text": [
        " energy: 2.25e-03 best: -2.47e-02\n",
        "T: 9.96e-03"
       ]
      },
      {
       "output_type": "stream",
       "stream": "stdout",
       "text": [
        " energy: 2.16e-03 best: -2.47e-02\n",
        "T: 9.91e-03"
       ]
      },
      {
       "output_type": "stream",
       "stream": "stdout",
       "text": [
        " energy: 5.33e-03 best: -2.47e-02\n",
        "T: 9.86e-03"
       ]
      },
      {
       "output_type": "stream",
       "stream": "stdout",
       "text": [
        " energy: 4.14e-03 best: -2.47e-02\n",
        "T: 9.81e-03"
       ]
      },
      {
       "output_type": "stream",
       "stream": "stdout",
       "text": [
        " energy: 3.68e-03 best: -2.47e-02\n",
        "T: 9.76e-03"
       ]
      },
      {
       "output_type": "stream",
       "stream": "stdout",
       "text": [
        " energy: 4.06e-03 best: -2.47e-02\n",
        "T: 9.71e-03"
       ]
      },
      {
       "output_type": "stream",
       "stream": "stdout",
       "text": [
        " energy: 5.81e-03 best: -2.47e-02\n",
        "T: 9.66e-03"
       ]
      },
      {
       "output_type": "stream",
       "stream": "stdout",
       "text": [
        " energy: 2.69e-03 best: -2.47e-02\n",
        "T: 9.62e-03"
       ]
      },
      {
       "output_type": "stream",
       "stream": "stdout",
       "text": [
        " energy: 6.99e-03 best: -2.47e-02\n",
        "T: 9.57e-03"
       ]
      },
      {
       "output_type": "stream",
       "stream": "stdout",
       "text": [
        " energy: 1.96e-03 best: -2.47e-02\n",
        "T: 9.52e-03"
       ]
      },
      {
       "output_type": "stream",
       "stream": "stdout",
       "text": [
        " energy: 3.77e-03 best: -2.47e-02\n",
        "T: 9.47e-03"
       ]
      },
      {
       "output_type": "stream",
       "stream": "stdout",
       "text": [
        " energy: 6.45e-03 best: -2.47e-02\n",
        "T: 9.42e-03"
       ]
      },
      {
       "output_type": "stream",
       "stream": "stdout",
       "text": [
        " energy: 3.99e-03 best: -2.47e-02\n",
        "T: 9.38e-03"
       ]
      },
      {
       "output_type": "stream",
       "stream": "stdout",
       "text": [
        " energy: 7.29e-03 best: -2.47e-02\n",
        "T: 9.33e-03"
       ]
      },
      {
       "output_type": "stream",
       "stream": "stdout",
       "text": [
        " energy: 1.27e-02 best: -2.47e-02\n",
        "T: 9.28e-03"
       ]
      },
      {
       "output_type": "stream",
       "stream": "stdout",
       "text": [
        " energy: 1.05e-02 best: -2.47e-02\n",
        "T: 9.24e-03"
       ]
      },
      {
       "output_type": "stream",
       "stream": "stdout",
       "text": [
        " energy: 8.92e-03 best: -2.47e-02\n",
        "T: 9.19e-03"
       ]
      },
      {
       "output_type": "stream",
       "stream": "stdout",
       "text": [
        " energy: 7.78e-03 best: -2.47e-02\n",
        "T: 9.15e-03"
       ]
      },
      {
       "output_type": "stream",
       "stream": "stdout",
       "text": [
        " energy: 5.88e-03 best: -2.47e-02\n",
        "T: 9.10e-03"
       ]
      },
      {
       "output_type": "stream",
       "stream": "stdout",
       "text": [
        " energy: 8.74e-03 best: -2.47e-02\n",
        "T: 9.05e-03"
       ]
      },
      {
       "output_type": "stream",
       "stream": "stdout",
       "text": [
        " energy: 8.13e-03 best: -2.47e-02\n",
        "T: 9.01e-03"
       ]
      },
      {
       "output_type": "stream",
       "stream": "stdout",
       "text": [
        " energy: 5.98e-03 best: -2.47e-02\n",
        "T: 8.96e-03"
       ]
      },
      {
       "output_type": "stream",
       "stream": "stdout",
       "text": [
        " energy: 3.48e-03 best: -2.47e-02\n",
        "T: 8.92e-03"
       ]
      },
      {
       "output_type": "stream",
       "stream": "stdout",
       "text": [
        " energy: 4.16e-03 best: -2.47e-02\n",
        "T: 8.87e-03"
       ]
      },
      {
       "output_type": "stream",
       "stream": "stdout",
       "text": [
        " energy: 1.69e-03 best: -2.47e-02\n",
        "T: 8.83e-03"
       ]
      },
      {
       "output_type": "stream",
       "stream": "stdout",
       "text": [
        " energy: 3.61e-03 best: -2.47e-02\n",
        "T: 8.79e-03"
       ]
      },
      {
       "output_type": "stream",
       "stream": "stdout",
       "text": [
        " energy: 9.21e-03 best: -2.47e-02\n",
        "T: 8.74e-03"
       ]
      },
      {
       "output_type": "stream",
       "stream": "stdout",
       "text": [
        " energy: 1.00e-02 best: -2.47e-02\n",
        "T: 8.70e-03"
       ]
      },
      {
       "output_type": "stream",
       "stream": "stdout",
       "text": [
        " energy: 1.11e-02 best: -2.47e-02\n",
        "T: 8.65e-03"
       ]
      },
      {
       "output_type": "stream",
       "stream": "stdout",
       "text": [
        " energy: 9.83e-03 best: -2.47e-02\n",
        "T: 8.61e-03"
       ]
      },
      {
       "output_type": "stream",
       "stream": "stdout",
       "text": [
        " energy: 5.94e-03 best: -2.47e-02\n",
        "T: 8.57e-03"
       ]
      },
      {
       "output_type": "stream",
       "stream": "stdout",
       "text": [
        " energy: 7.31e-03 best: -2.47e-02\n",
        "T: 8.53e-03"
       ]
      },
      {
       "output_type": "stream",
       "stream": "stdout",
       "text": [
        " energy: 9.26e-03 best: -2.47e-02\n",
        "T: 8.48e-03"
       ]
      },
      {
       "output_type": "stream",
       "stream": "stdout",
       "text": [
        " energy: 8.48e-03 best: -2.47e-02\n",
        "T: 8.44e-03"
       ]
      },
      {
       "output_type": "stream",
       "stream": "stdout",
       "text": [
        " energy: 3.63e-03 best: -2.47e-02\n",
        "T: 8.40e-03"
       ]
      },
      {
       "output_type": "stream",
       "stream": "stdout",
       "text": [
        " energy: 4.90e-03 best: -2.47e-02\n",
        "T: 8.36e-03"
       ]
      },
      {
       "output_type": "stream",
       "stream": "stdout",
       "text": [
        " energy: 4.94e-03 best: -2.47e-02\n",
        "T: 8.31e-03"
       ]
      },
      {
       "output_type": "stream",
       "stream": "stdout",
       "text": [
        " energy: 7.72e-03 best: -2.47e-02\n",
        "T: 8.27e-03"
       ]
      },
      {
       "output_type": "stream",
       "stream": "stdout",
       "text": [
        " energy: 8.38e-03 best: -2.47e-02\n",
        "T: 8.23e-03"
       ]
      },
      {
       "output_type": "stream",
       "stream": "stdout",
       "text": [
        " energy: 5.79e-03 best: -2.47e-02\n",
        "T: 8.19e-03"
       ]
      },
      {
       "output_type": "stream",
       "stream": "stdout",
       "text": [
        " energy: 8.36e-03 best: -2.47e-02\n",
        "T: 8.15e-03"
       ]
      },
      {
       "output_type": "stream",
       "stream": "stdout",
       "text": [
        " energy: 5.84e-03 best: -2.47e-02\n",
        "T: 8.11e-03"
       ]
      },
      {
       "output_type": "stream",
       "stream": "stdout",
       "text": [
        " energy: 4.90e-03 best: -2.47e-02\n",
        "T: 8.07e-03"
       ]
      },
      {
       "output_type": "stream",
       "stream": "stdout",
       "text": [
        " energy: 5.22e-03 best: -2.47e-02\n",
        "T: 8.03e-03"
       ]
      },
      {
       "output_type": "stream",
       "stream": "stdout",
       "text": [
        " energy: 1.76e-03 best: -2.47e-02\n",
        "T: 7.99e-03"
       ]
      },
      {
       "output_type": "stream",
       "stream": "stdout",
       "text": [
        " energy: 8.83e-03 best: -2.47e-02\n",
        "T: 7.95e-03"
       ]
      },
      {
       "output_type": "stream",
       "stream": "stdout",
       "text": [
        " energy: 8.87e-03 best: -2.47e-02\n",
        "T: 7.91e-03"
       ]
      },
      {
       "output_type": "stream",
       "stream": "stdout",
       "text": [
        " energy: 6.98e-03 best: -2.47e-02\n",
        "T: 7.87e-03"
       ]
      },
      {
       "output_type": "stream",
       "stream": "stdout",
       "text": [
        " energy: 6.47e-03 best: -2.47e-02\n",
        "T: 7.83e-03"
       ]
      },
      {
       "output_type": "stream",
       "stream": "stdout",
       "text": [
        " energy: 4.85e-03 best: -2.47e-02\n",
        "T: 7.79e-03"
       ]
      },
      {
       "output_type": "stream",
       "stream": "stdout",
       "text": [
        " energy: 5.68e-03 best: -2.47e-02\n",
        "T: 7.75e-03"
       ]
      },
      {
       "output_type": "stream",
       "stream": "stdout",
       "text": [
        " energy: 2.71e-03 best: -2.47e-02\n",
        "T: 7.71e-03"
       ]
      },
      {
       "output_type": "stream",
       "stream": "stdout",
       "text": [
        " energy: 6.47e-03 best: -2.47e-02\n",
        "T: 7.67e-03"
       ]
      },
      {
       "output_type": "stream",
       "stream": "stdout",
       "text": [
        " energy: 6.18e-03 best: -2.47e-02\n",
        "T: 7.64e-03"
       ]
      },
      {
       "output_type": "stream",
       "stream": "stdout",
       "text": [
        " energy: 4.47e-03 best: -2.47e-02\n",
        "T: 7.60e-03"
       ]
      },
      {
       "output_type": "stream",
       "stream": "stdout",
       "text": [
        " energy: 4.14e-03 best: -2.47e-02\n",
        "T: 7.56e-03"
       ]
      },
      {
       "output_type": "stream",
       "stream": "stdout",
       "text": [
        " energy: 3.36e-03 best: -2.47e-02\n",
        "T: 7.52e-03"
       ]
      },
      {
       "output_type": "stream",
       "stream": "stdout",
       "text": [
        " energy: 5.27e-03 best: -2.47e-02\n",
        "T: 7.48e-03"
       ]
      },
      {
       "output_type": "stream",
       "stream": "stdout",
       "text": [
        " energy: 5.92e-03 best: -2.47e-02\n",
        "T: 7.45e-03"
       ]
      },
      {
       "output_type": "stream",
       "stream": "stdout",
       "text": [
        " energy: 6.68e-03 best: -2.47e-02\n",
        "T: 7.41e-03"
       ]
      },
      {
       "output_type": "stream",
       "stream": "stdout",
       "text": [
        " energy: 9.09e-03 best: -2.47e-02\n",
        "T: 7.37e-03"
       ]
      },
      {
       "output_type": "stream",
       "stream": "stdout",
       "text": [
        " energy: 7.15e-03 best: -2.47e-02\n",
        "T: 7.34e-03"
       ]
      },
      {
       "output_type": "stream",
       "stream": "stdout",
       "text": [
        " energy: 2.41e-03 best: -2.47e-02\n",
        "T: 7.30e-03"
       ]
      },
      {
       "output_type": "stream",
       "stream": "stdout",
       "text": [
        " energy: 4.53e-03 best: -2.47e-02\n",
        "T: 7.26e-03"
       ]
      },
      {
       "output_type": "stream",
       "stream": "stdout",
       "text": [
        " energy: 6.34e-03 best: -2.47e-02\n",
        "T: 7.23e-03"
       ]
      },
      {
       "output_type": "stream",
       "stream": "stdout",
       "text": [
        " energy: 7.19e-03 best: -2.47e-02\n",
        "T: 7.19e-03"
       ]
      },
      {
       "output_type": "stream",
       "stream": "stdout",
       "text": [
        " energy: 8.14e-03 best: -2.47e-02\n",
        "T: 7.15e-03"
       ]
      },
      {
       "output_type": "stream",
       "stream": "stdout",
       "text": [
        " energy: 6.04e-03 best: -2.47e-02\n",
        "T: 7.12e-03"
       ]
      },
      {
       "output_type": "stream",
       "stream": "stdout",
       "text": [
        " energy: 6.62e-03 best: -2.47e-02\n",
        "T: 7.08e-03"
       ]
      },
      {
       "output_type": "stream",
       "stream": "stdout",
       "text": [
        " energy: 6.90e-03 best: -2.47e-02\n",
        "T: 7.05e-03"
       ]
      },
      {
       "output_type": "stream",
       "stream": "stdout",
       "text": [
        " energy: 9.23e-03 best: -2.47e-02\n",
        "T: 7.01e-03"
       ]
      },
      {
       "output_type": "stream",
       "stream": "stdout",
       "text": [
        " energy: 5.54e-03 best: -2.47e-02\n",
        "T: 6.98e-03"
       ]
      },
      {
       "output_type": "stream",
       "stream": "stdout",
       "text": [
        " energy: 4.87e-03 best: -2.47e-02\n",
        "T: 6.94e-03"
       ]
      },
      {
       "output_type": "stream",
       "stream": "stdout",
       "text": [
        " energy: 3.30e-03 best: -2.47e-02\n",
        "T: 6.91e-03"
       ]
      },
      {
       "output_type": "stream",
       "stream": "stdout",
       "text": [
        " energy: 2.94e-03 best: -2.47e-02\n",
        "T: 6.87e-03"
       ]
      },
      {
       "output_type": "stream",
       "stream": "stdout",
       "text": [
        " energy: 9.02e-03 best: -2.47e-02\n",
        "T: 6.84e-03"
       ]
      },
      {
       "output_type": "stream",
       "stream": "stdout",
       "text": [
        " energy: 6.29e-03 best: -2.47e-02\n",
        "T: 6.80e-03"
       ]
      },
      {
       "output_type": "stream",
       "stream": "stdout",
       "text": [
        " energy: 6.58e-03 best: -2.47e-02\n",
        "T: 6.77e-03"
       ]
      },
      {
       "output_type": "stream",
       "stream": "stdout",
       "text": [
        " energy: 5.02e-03 best: -2.47e-02\n",
        "T: 6.74e-03"
       ]
      },
      {
       "output_type": "stream",
       "stream": "stdout",
       "text": [
        " energy: 8.71e-03 best: -2.47e-02\n",
        "T: 6.70e-03"
       ]
      },
      {
       "output_type": "stream",
       "stream": "stdout",
       "text": [
        " energy: 6.17e-03 best: -2.47e-02\n",
        "T: 6.67e-03"
       ]
      },
      {
       "output_type": "stream",
       "stream": "stdout",
       "text": [
        " energy: 8.86e-03 best: -2.47e-02\n",
        "T: 6.64e-03"
       ]
      },
      {
       "output_type": "stream",
       "stream": "stdout",
       "text": [
        " energy: 6.23e-03 best: -2.47e-02\n",
        "T: 6.60e-03"
       ]
      },
      {
       "output_type": "stream",
       "stream": "stdout",
       "text": [
        " energy: 6.67e-03 best: -2.47e-02\n",
        "T: 6.57e-03"
       ]
      },
      {
       "output_type": "stream",
       "stream": "stdout",
       "text": [
        " energy: 8.92e-03 best: -2.47e-02\n",
        "T: 6.54e-03"
       ]
      },
      {
       "output_type": "stream",
       "stream": "stdout",
       "text": [
        " energy: 7.10e-03 best: -2.47e-02\n",
        "T: 6.50e-03"
       ]
      },
      {
       "output_type": "stream",
       "stream": "stdout",
       "text": [
        " energy: 4.46e-03 best: -2.47e-02\n",
        "T: 6.47e-03"
       ]
      },
      {
       "output_type": "stream",
       "stream": "stdout",
       "text": [
        " energy: 1.79e-03 best: -2.47e-02\n",
        "T: 6.44e-03"
       ]
      },
      {
       "output_type": "stream",
       "stream": "stdout",
       "text": [
        " energy: 3.96e-03 best: -2.47e-02\n",
        "T: 6.41e-03"
       ]
      },
      {
       "output_type": "stream",
       "stream": "stdout",
       "text": [
        " energy: 6.26e-03 best: -2.47e-02\n",
        "T: 6.37e-03"
       ]
      },
      {
       "output_type": "stream",
       "stream": "stdout",
       "text": [
        " energy: 6.68e-03 best: -2.47e-02\n",
        "T: 6.34e-03"
       ]
      },
      {
       "output_type": "stream",
       "stream": "stdout",
       "text": [
        " energy: 5.43e-03 best: -2.47e-02\n",
        "T: 6.31e-03"
       ]
      },
      {
       "output_type": "stream",
       "stream": "stdout",
       "text": [
        " energy: 4.54e-03 best: -2.47e-02\n",
        "T: 6.28e-03"
       ]
      },
      {
       "output_type": "stream",
       "stream": "stdout",
       "text": [
        " energy: 6.83e-04 best: -2.47e-02\n",
        "T: 6.25e-03"
       ]
      },
      {
       "output_type": "stream",
       "stream": "stdout",
       "text": [
        " energy: 2.10e-03 best: -2.47e-02\n",
        "T: 6.22e-03"
       ]
      },
      {
       "output_type": "stream",
       "stream": "stdout",
       "text": [
        " energy: 6.32e-03 best: -2.47e-02\n",
        "T: 6.19e-03"
       ]
      },
      {
       "output_type": "stream",
       "stream": "stdout",
       "text": [
        " energy: 7.30e-03 best: -2.47e-02\n",
        "T: 6.15e-03"
       ]
      },
      {
       "output_type": "stream",
       "stream": "stdout",
       "text": [
        " energy: 7.32e-03 best: -2.47e-02\n",
        "T: 6.12e-03"
       ]
      },
      {
       "output_type": "stream",
       "stream": "stdout",
       "text": [
        " energy: 6.32e-03 best: -2.47e-02\n",
        "T: 6.09e-03"
       ]
      },
      {
       "output_type": "stream",
       "stream": "stdout",
       "text": [
        " energy: 4.25e-03 best: -2.47e-02\n",
        "T: 6.06e-03"
       ]
      },
      {
       "output_type": "stream",
       "stream": "stdout",
       "text": [
        " energy: 6.25e-03 best: -2.47e-02\n",
        "T: 6.03e-03"
       ]
      },
      {
       "output_type": "stream",
       "stream": "stdout",
       "text": [
        " energy: 3.99e-03 best: -2.47e-02\n",
        "T: 6.00e-03"
       ]
      },
      {
       "output_type": "stream",
       "stream": "stdout",
       "text": [
        " energy: 3.29e-03 best: -2.47e-02\n",
        "T: 5.97e-03"
       ]
      },
      {
       "output_type": "stream",
       "stream": "stdout",
       "text": [
        " energy: 1.79e-03 best: -2.47e-02\n",
        "T: 5.94e-03"
       ]
      },
      {
       "output_type": "stream",
       "stream": "stdout",
       "text": [
        " energy: 2.26e-03 best: -2.47e-02\n",
        "T: 5.91e-03"
       ]
      },
      {
       "output_type": "stream",
       "stream": "stdout",
       "text": [
        " energy: 3.64e-03 best: -2.47e-02\n",
        "T: 5.88e-03"
       ]
      },
      {
       "output_type": "stream",
       "stream": "stdout",
       "text": [
        " energy: 4.91e-03 best: -2.47e-02\n",
        "T: 5.85e-03"
       ]
      },
      {
       "output_type": "stream",
       "stream": "stdout",
       "text": [
        " energy: 5.33e-03 best: -2.47e-02\n",
        "T: 5.82e-03"
       ]
      },
      {
       "output_type": "stream",
       "stream": "stdout",
       "text": [
        " energy: 7.42e-03 best: -2.47e-02\n",
        "T: 5.80e-03"
       ]
      },
      {
       "output_type": "stream",
       "stream": "stdout",
       "text": [
        " energy: 5.64e-03 best: -2.47e-02\n",
        "T: 5.77e-03"
       ]
      },
      {
       "output_type": "stream",
       "stream": "stdout",
       "text": [
        " energy: 3.23e-03 best: -2.47e-02\n",
        "T: 5.74e-03"
       ]
      },
      {
       "output_type": "stream",
       "stream": "stdout",
       "text": [
        " energy: 9.32e-03 best: -2.47e-02\n",
        "T: 5.71e-03"
       ]
      },
      {
       "output_type": "stream",
       "stream": "stdout",
       "text": [
        " energy: 7.49e-03 best: -2.47e-02\n",
        "T: 5.68e-03"
       ]
      },
      {
       "output_type": "stream",
       "stream": "stdout",
       "text": [
        " energy: 6.05e-03 best: -2.47e-02\n",
        "T: 5.65e-03"
       ]
      },
      {
       "output_type": "stream",
       "stream": "stdout",
       "text": [
        " energy: 5.34e-03 best: -2.47e-02\n",
        "T: 5.62e-03"
       ]
      },
      {
       "output_type": "stream",
       "stream": "stdout",
       "text": [
        " energy: 3.51e-03 best: -2.47e-02\n",
        "T: 5.60e-03"
       ]
      },
      {
       "output_type": "stream",
       "stream": "stdout",
       "text": [
        " energy: 5.03e-03 best: -2.47e-02\n",
        "T: 5.57e-03"
       ]
      },
      {
       "output_type": "stream",
       "stream": "stdout",
       "text": [
        " energy: 4.93e-03 best: -2.47e-02\n",
        "T: 5.54e-03"
       ]
      },
      {
       "output_type": "stream",
       "stream": "stdout",
       "text": [
        " energy: 8.81e-05 best: -2.47e-02\n",
        "T: 5.51e-03"
       ]
      },
      {
       "output_type": "stream",
       "stream": "stdout",
       "text": [
        " energy: 5.22e-03 best: -2.47e-02\n",
        "T: 5.48e-03"
       ]
      },
      {
       "output_type": "stream",
       "stream": "stdout",
       "text": [
        " energy: 1.98e-03 best: -2.47e-02\n",
        "T: 5.46e-03"
       ]
      },
      {
       "output_type": "stream",
       "stream": "stdout",
       "text": [
        " energy: 3.77e-03 best: -2.47e-02\n",
        "T: 5.43e-03"
       ]
      },
      {
       "output_type": "stream",
       "stream": "stdout",
       "text": [
        " energy: 3.08e-03 best: -2.47e-02\n",
        "T: 5.40e-03"
       ]
      },
      {
       "output_type": "stream",
       "stream": "stdout",
       "text": [
        " energy: 5.78e-03 best: -2.47e-02\n",
        "T: 5.38e-03"
       ]
      },
      {
       "output_type": "stream",
       "stream": "stdout",
       "text": [
        " energy: 5.69e-03 best: -2.47e-02\n",
        "T: 5.35e-03"
       ]
      },
      {
       "output_type": "stream",
       "stream": "stdout",
       "text": [
        " energy: 4.24e-03 best: -2.47e-02\n",
        "T: 5.32e-03"
       ]
      },
      {
       "output_type": "stream",
       "stream": "stdout",
       "text": [
        " energy: 6.79e-03 best: -2.47e-02\n",
        "T: 5.30e-03"
       ]
      },
      {
       "output_type": "stream",
       "stream": "stdout",
       "text": [
        " energy: 5.10e-03 best: -2.47e-02\n",
        "T: 5.27e-03"
       ]
      },
      {
       "output_type": "stream",
       "stream": "stdout",
       "text": [
        " energy: 3.76e-03 best: -2.47e-02\n",
        "T: 5.24e-03"
       ]
      },
      {
       "output_type": "stream",
       "stream": "stdout",
       "text": [
        " energy: 4.92e-03 best: -2.47e-02\n",
        "T: 5.22e-03"
       ]
      },
      {
       "output_type": "stream",
       "stream": "stdout",
       "text": [
        " energy: 4.89e-03 best: -2.47e-02\n",
        "T: 5.19e-03"
       ]
      },
      {
       "output_type": "stream",
       "stream": "stdout",
       "text": [
        " energy: 5.96e-03 best: -2.47e-02\n",
        "T: 5.16e-03"
       ]
      },
      {
       "output_type": "stream",
       "stream": "stdout",
       "text": [
        " energy: 6.43e-03 best: -2.47e-02\n",
        "T: 5.14e-03"
       ]
      },
      {
       "output_type": "stream",
       "stream": "stdout",
       "text": [
        " energy: 7.16e-03 best: -2.47e-02\n",
        "T: 5.11e-03"
       ]
      },
      {
       "output_type": "stream",
       "stream": "stdout",
       "text": [
        " energy: 5.39e-03 best: -2.47e-02\n",
        "T: 5.09e-03"
       ]
      },
      {
       "output_type": "stream",
       "stream": "stdout",
       "text": [
        " energy: 5.33e-03 best: -2.47e-02\n",
        "T: 5.06e-03"
       ]
      },
      {
       "output_type": "stream",
       "stream": "stdout",
       "text": [
        " energy: 3.07e-03 best: -2.47e-02\n",
        "T: 5.04e-03"
       ]
      },
      {
       "output_type": "stream",
       "stream": "stdout",
       "text": [
        " energy: 4.56e-04 best: -2.47e-02\n",
        "T: 5.01e-03"
       ]
      },
      {
       "output_type": "stream",
       "stream": "stdout",
       "text": [
        " energy: 3.48e-03 best: -2.47e-02\n",
        "T: 4.99e-03"
       ]
      },
      {
       "output_type": "stream",
       "stream": "stdout",
       "text": [
        " energy: 7.09e-03 best: -2.47e-02\n",
        "T: 4.96e-03"
       ]
      },
      {
       "output_type": "stream",
       "stream": "stdout",
       "text": [
        " energy: 5.21e-03 best: -2.47e-02\n",
        "T: 4.94e-03"
       ]
      },
      {
       "output_type": "stream",
       "stream": "stdout",
       "text": [
        " energy: 8.29e-03 best: -2.47e-02\n",
        "T: 4.91e-03"
       ]
      },
      {
       "output_type": "stream",
       "stream": "stdout",
       "text": [
        " energy: 9.06e-03 best: -2.47e-02\n",
        "T: 4.89e-03"
       ]
      },
      {
       "output_type": "stream",
       "stream": "stdout",
       "text": [
        " energy: 6.62e-03 best: -2.47e-02\n",
        "T: 4.86e-03"
       ]
      },
      {
       "output_type": "stream",
       "stream": "stdout",
       "text": [
        " energy: 7.33e-03 best: -2.47e-02\n",
        "T: 4.84e-03"
       ]
      },
      {
       "output_type": "stream",
       "stream": "stdout",
       "text": [
        " energy: 8.38e-03 best: -2.47e-02\n",
        "T: 4.81e-03"
       ]
      },
      {
       "output_type": "stream",
       "stream": "stdout",
       "text": [
        " energy: 9.36e-03 best: -2.47e-02\n",
        "T: 4.79e-03"
       ]
      },
      {
       "output_type": "stream",
       "stream": "stdout",
       "text": [
        " energy: 7.49e-03 best: -2.47e-02\n",
        "T: 4.77e-03"
       ]
      },
      {
       "output_type": "stream",
       "stream": "stdout",
       "text": [
        " energy: 6.75e-03 best: -2.47e-02\n",
        "T: 4.74e-03"
       ]
      },
      {
       "output_type": "stream",
       "stream": "stdout",
       "text": [
        " energy: 4.59e-03 best: -2.47e-02\n",
        "T: 4.72e-03"
       ]
      },
      {
       "output_type": "stream",
       "stream": "stdout",
       "text": [
        " energy: 5.64e-03 best: -2.47e-02\n",
        "T: 4.70e-03"
       ]
      },
      {
       "output_type": "stream",
       "stream": "stdout",
       "text": [
        " energy: 5.08e-03 best: -2.47e-02\n",
        "T: 4.67e-03"
       ]
      },
      {
       "output_type": "stream",
       "stream": "stdout",
       "text": [
        " energy: 4.44e-03 best: -2.47e-02\n",
        "T: 4.65e-03"
       ]
      },
      {
       "output_type": "stream",
       "stream": "stdout",
       "text": [
        " energy: 2.75e-03 best: -2.47e-02\n",
        "T: 4.63e-03"
       ]
      },
      {
       "output_type": "stream",
       "stream": "stdout",
       "text": [
        " energy: 3.63e-05 best: -2.47e-02\n",
        "T: 4.60e-03"
       ]
      },
      {
       "output_type": "stream",
       "stream": "stdout",
       "text": [
        " energy: 7.62e-03 best: -2.47e-02\n",
        "T: 4.58e-03"
       ]
      },
      {
       "output_type": "stream",
       "stream": "stdout",
       "text": [
        " energy: 8.92e-03 best: -2.47e-02\n",
        "T: 4.56e-03"
       ]
      },
      {
       "output_type": "stream",
       "stream": "stdout",
       "text": [
        " energy: 4.78e-03 best: -2.47e-02\n",
        "T: 4.53e-03"
       ]
      },
      {
       "output_type": "stream",
       "stream": "stdout",
       "text": [
        " energy: 6.57e-03 best: -2.47e-02\n",
        "T: 4.51e-03"
       ]
      },
      {
       "output_type": "stream",
       "stream": "stdout",
       "text": [
        " energy: 8.41e-03 best: -2.47e-02\n",
        "T: 4.49e-03"
       ]
      },
      {
       "output_type": "stream",
       "stream": "stdout",
       "text": [
        " energy: 6.73e-03 best: -2.47e-02\n",
        "T: 4.47e-03"
       ]
      },
      {
       "output_type": "stream",
       "stream": "stdout",
       "text": [
        " energy: 3.73e-03 best: -2.47e-02\n",
        "T: 4.44e-03"
       ]
      },
      {
       "output_type": "stream",
       "stream": "stdout",
       "text": [
        " energy: 4.93e-03 best: -2.47e-02\n",
        "T: 4.42e-03"
       ]
      },
      {
       "output_type": "stream",
       "stream": "stdout",
       "text": [
        " energy: 1.76e-03 best: -2.47e-02\n",
        "T: 4.40e-03"
       ]
      },
      {
       "output_type": "stream",
       "stream": "stdout",
       "text": [
        " energy: 2.30e-03 best: -2.47e-02\n",
        "T: 4.38e-03"
       ]
      },
      {
       "output_type": "stream",
       "stream": "stdout",
       "text": [
        " energy: 4.85e-03 best: -2.47e-02\n",
        "T: 4.36e-03"
       ]
      },
      {
       "output_type": "stream",
       "stream": "stdout",
       "text": [
        " energy: 6.19e-03 best: -2.47e-02\n",
        "T: 4.33e-03"
       ]
      },
      {
       "output_type": "stream",
       "stream": "stdout",
       "text": [
        " energy: 6.12e-03 best: -2.47e-02\n",
        "T: 4.31e-03"
       ]
      },
      {
       "output_type": "stream",
       "stream": "stdout",
       "text": [
        " energy: 4.03e-03 best: -2.47e-02\n",
        "T: 4.29e-03"
       ]
      },
      {
       "output_type": "stream",
       "stream": "stdout",
       "text": [
        " energy: 3.14e-03 best: -2.47e-02\n",
        "T: 4.27e-03"
       ]
      },
      {
       "output_type": "stream",
       "stream": "stdout",
       "text": [
        " energy: 4.85e-03 best: -2.47e-02\n",
        "T: 4.25e-03"
       ]
      },
      {
       "output_type": "stream",
       "stream": "stdout",
       "text": [
        " energy: 6.32e-03 best: -2.47e-02\n",
        "T: 4.23e-03"
       ]
      },
      {
       "output_type": "stream",
       "stream": "stdout",
       "text": [
        " energy: 1.12e-02 best: -2.47e-02\n",
        "T: 4.21e-03"
       ]
      },
      {
       "output_type": "stream",
       "stream": "stdout",
       "text": [
        " energy: 7.65e-03 best: -2.47e-02\n",
        "T: 4.18e-03"
       ]
      },
      {
       "output_type": "stream",
       "stream": "stdout",
       "text": [
        " energy: 5.62e-03 best: -2.47e-02\n",
        "T: 4.16e-03"
       ]
      },
      {
       "output_type": "stream",
       "stream": "stdout",
       "text": [
        " energy: 4.26e-03 best: -2.47e-02\n",
        "T: 4.14e-03"
       ]
      },
      {
       "output_type": "stream",
       "stream": "stdout",
       "text": [
        " energy: 1.03e-03 best: -2.47e-02\n",
        "T: 4.12e-03"
       ]
      },
      {
       "output_type": "stream",
       "stream": "stdout",
       "text": [
        " energy: 3.58e-03 best: -2.47e-02\n",
        "T: 4.10e-03"
       ]
      },
      {
       "output_type": "stream",
       "stream": "stdout",
       "text": [
        " energy: 3.46e-03 best: -2.47e-02\n",
        "T: 4.08e-03"
       ]
      },
      {
       "output_type": "stream",
       "stream": "stdout",
       "text": [
        " energy: -3.77e-04 best: -2.47e-02\n",
        "T: 4.06e-03"
       ]
      },
      {
       "output_type": "stream",
       "stream": "stdout",
       "text": [
        " energy: 5.08e-03 best: -2.47e-02\n",
        "T: 4.04e-03"
       ]
      },
      {
       "output_type": "stream",
       "stream": "stdout",
       "text": [
        " energy: 2.66e-03 best: -2.47e-02\n",
        "T: 4.02e-03"
       ]
      },
      {
       "output_type": "stream",
       "stream": "stdout",
       "text": [
        " energy: 2.85e-03 best: -2.47e-02\n",
        "T: 4.00e-03"
       ]
      },
      {
       "output_type": "stream",
       "stream": "stdout",
       "text": [
        " energy: 2.89e-03 best: -2.47e-02\n",
        "T: 3.98e-03"
       ]
      },
      {
       "output_type": "stream",
       "stream": "stdout",
       "text": [
        " energy: 4.46e-03 best: -2.47e-02\n",
        "T: 3.96e-03"
       ]
      },
      {
       "output_type": "stream",
       "stream": "stdout",
       "text": [
        " energy: 2.14e-03 best: -2.47e-02\n",
        "T: 3.94e-03"
       ]
      },
      {
       "output_type": "stream",
       "stream": "stdout",
       "text": [
        " energy: 3.94e-03 best: -2.47e-02\n",
        "T: 3.92e-03"
       ]
      },
      {
       "output_type": "stream",
       "stream": "stdout",
       "text": [
        " energy: 3.88e-03 best: -2.47e-02\n",
        "T: 3.90e-03"
       ]
      },
      {
       "output_type": "stream",
       "stream": "stdout",
       "text": [
        " energy: 6.46e-03 best: -2.47e-02\n",
        "T: 3.88e-03"
       ]
      },
      {
       "output_type": "stream",
       "stream": "stdout",
       "text": [
        " energy: 2.91e-03 best: -2.47e-02\n",
        "T: 3.86e-03"
       ]
      },
      {
       "output_type": "stream",
       "stream": "stdout",
       "text": [
        " energy: 4.88e-03 best: -2.47e-02\n",
        "T: 3.84e-03"
       ]
      },
      {
       "output_type": "stream",
       "stream": "stdout",
       "text": [
        " energy: 8.72e-03 best: -2.47e-02\n",
        "T: 3.82e-03"
       ]
      },
      {
       "output_type": "stream",
       "stream": "stdout",
       "text": [
        " energy: 5.77e-03 best: -2.47e-02\n",
        "T: 3.80e-03"
       ]
      },
      {
       "output_type": "stream",
       "stream": "stdout",
       "text": [
        " energy: 2.64e-03 best: -2.47e-02\n",
        "T: 3.78e-03"
       ]
      },
      {
       "output_type": "stream",
       "stream": "stdout",
       "text": [
        " energy: 1.80e-03 best: -2.47e-02\n",
        "T: 3.77e-03"
       ]
      },
      {
       "output_type": "stream",
       "stream": "stdout",
       "text": [
        " energy: 3.24e-03 best: -2.47e-02\n",
        "T: 3.75e-03"
       ]
      },
      {
       "output_type": "stream",
       "stream": "stdout",
       "text": [
        " energy: 4.29e-03 best: -2.47e-02\n",
        "T: 3.73e-03"
       ]
      },
      {
       "output_type": "stream",
       "stream": "stdout",
       "text": [
        " energy: 2.33e-03 best: -2.47e-02\n",
        "T: 3.71e-03"
       ]
      },
      {
       "output_type": "stream",
       "stream": "stdout",
       "text": [
        " energy: 1.09e-03 best: -2.47e-02\n",
        "T: 3.69e-03"
       ]
      },
      {
       "output_type": "stream",
       "stream": "stdout",
       "text": [
        " energy: 2.67e-03 best: -2.47e-02\n",
        "T: 3.67e-03"
       ]
      },
      {
       "output_type": "stream",
       "stream": "stdout",
       "text": [
        " energy: 5.76e-03 best: -2.47e-02\n",
        "T: 3.65e-03"
       ]
      },
      {
       "output_type": "stream",
       "stream": "stdout",
       "text": [
        " energy: 5.64e-03 best: -2.47e-02\n",
        "T: 3.64e-03"
       ]
      },
      {
       "output_type": "stream",
       "stream": "stdout",
       "text": [
        " energy: 4.67e-03 best: -2.47e-02\n",
        "T: 3.62e-03"
       ]
      },
      {
       "output_type": "stream",
       "stream": "stdout",
       "text": [
        " energy: 7.98e-03 best: -2.47e-02\n",
        "T: 3.60e-03"
       ]
      },
      {
       "output_type": "stream",
       "stream": "stdout",
       "text": [
        " energy: 8.77e-03 best: -2.47e-02\n",
        "T: 3.58e-03"
       ]
      },
      {
       "output_type": "stream",
       "stream": "stdout",
       "text": [
        " energy: 1.05e-02 best: -2.47e-02\n",
        "T: 3.56e-03"
       ]
      },
      {
       "output_type": "stream",
       "stream": "stdout",
       "text": [
        " energy: 1.11e-02 best: -2.47e-02\n",
        "T: 3.55e-03"
       ]
      },
      {
       "output_type": "stream",
       "stream": "stdout",
       "text": [
        " energy: 8.35e-03 best: -2.47e-02\n",
        "T: 3.53e-03"
       ]
      },
      {
       "output_type": "stream",
       "stream": "stdout",
       "text": [
        " energy: 7.88e-03 best: -2.47e-02\n",
        "T: 3.51e-03"
       ]
      },
      {
       "output_type": "stream",
       "stream": "stdout",
       "text": [
        " energy: 5.46e-03 best: -2.47e-02\n",
        "T: 3.49e-03"
       ]
      },
      {
       "output_type": "stream",
       "stream": "stdout",
       "text": [
        " energy: 1.71e-03 best: -2.47e-02\n",
        "T: 3.48e-03"
       ]
      },
      {
       "output_type": "stream",
       "stream": "stdout",
       "text": [
        " energy: -1.77e-03 best: -2.47e-02\n",
        "T: 3.46e-03"
       ]
      },
      {
       "output_type": "stream",
       "stream": "stdout",
       "text": [
        " energy: 3.65e-03 best: -2.47e-02\n",
        "T: 3.44e-03"
       ]
      },
      {
       "output_type": "stream",
       "stream": "stdout",
       "text": [
        " energy: 7.93e-03 best: -2.47e-02\n",
        "T: 3.42e-03"
       ]
      },
      {
       "output_type": "stream",
       "stream": "stdout",
       "text": [
        " energy: 7.30e-03 best: -2.47e-02\n",
        "T: 3.41e-03"
       ]
      },
      {
       "output_type": "stream",
       "stream": "stdout",
       "text": [
        " energy: 6.80e-03 best: -2.47e-02\n",
        "T: 3.39e-03"
       ]
      },
      {
       "output_type": "stream",
       "stream": "stdout",
       "text": [
        " energy: 8.50e-03 best: -2.47e-02\n",
        "T: 3.37e-03"
       ]
      },
      {
       "output_type": "stream",
       "stream": "stdout",
       "text": [
        " energy: 8.66e-03 best: -2.47e-02\n",
        "T: 3.36e-03"
       ]
      },
      {
       "output_type": "stream",
       "stream": "stdout",
       "text": [
        " energy: 9.00e-03 best: -2.47e-02\n",
        "T: 3.34e-03"
       ]
      },
      {
       "output_type": "stream",
       "stream": "stdout",
       "text": [
        " energy: 5.06e-03 best: -2.47e-02\n",
        "T: 3.32e-03"
       ]
      },
      {
       "output_type": "stream",
       "stream": "stdout",
       "text": [
        " energy: 4.97e-03 best: -2.47e-02\n",
        "T: 3.31e-03"
       ]
      },
      {
       "output_type": "stream",
       "stream": "stdout",
       "text": [
        " energy: 6.56e-03 best: -2.47e-02\n",
        "T: 3.29e-03"
       ]
      },
      {
       "output_type": "stream",
       "stream": "stdout",
       "text": [
        " energy: 6.61e-03 best: -2.47e-02\n",
        "T: 3.27e-03"
       ]
      },
      {
       "output_type": "stream",
       "stream": "stdout",
       "text": [
        " energy: 4.95e-03 best: -2.47e-02\n",
        "T: 3.26e-03"
       ]
      },
      {
       "output_type": "stream",
       "stream": "stdout",
       "text": [
        " energy: 5.86e-03 best: -2.47e-02\n",
        "T: 3.24e-03"
       ]
      },
      {
       "output_type": "stream",
       "stream": "stdout",
       "text": [
        " energy: 7.66e-03 best: -2.47e-02\n",
        "T: 3.22e-03"
       ]
      },
      {
       "output_type": "stream",
       "stream": "stdout",
       "text": [
        " energy: 5.51e-03 best: -2.47e-02\n",
        "T: 3.21e-03"
       ]
      },
      {
       "output_type": "stream",
       "stream": "stdout",
       "text": [
        " energy: 8.16e-03 best: -2.47e-02\n",
        "T: 3.19e-03"
       ]
      },
      {
       "output_type": "stream",
       "stream": "stdout",
       "text": [
        " energy: 6.29e-03 best: -2.47e-02\n",
        "T: 3.18e-03"
       ]
      },
      {
       "output_type": "stream",
       "stream": "stdout",
       "text": [
        " energy: 4.78e-03 best: -2.47e-02\n",
        "T: 3.16e-03"
       ]
      },
      {
       "output_type": "stream",
       "stream": "stdout",
       "text": [
        " energy: 5.41e-03 best: -2.47e-02\n",
        "T: 3.14e-03"
       ]
      },
      {
       "output_type": "stream",
       "stream": "stdout",
       "text": [
        " energy: 4.19e-03 best: -2.47e-02\n",
        "T: 3.13e-03"
       ]
      },
      {
       "output_type": "stream",
       "stream": "stdout",
       "text": [
        " energy: 6.57e-03 best: -2.47e-02\n",
        "T: 3.11e-03"
       ]
      },
      {
       "output_type": "stream",
       "stream": "stdout",
       "text": [
        " energy: 9.38e-03 best: -2.47e-02\n",
        "T: 3.10e-03"
       ]
      },
      {
       "output_type": "stream",
       "stream": "stdout",
       "text": [
        " energy: 9.73e-03 best: -2.47e-02\n",
        "T: 3.08e-03"
       ]
      },
      {
       "output_type": "stream",
       "stream": "stdout",
       "text": [
        " energy: 1.12e-02 best: -2.47e-02\n",
        "T: 3.07e-03"
       ]
      },
      {
       "output_type": "stream",
       "stream": "stdout",
       "text": [
        " energy: 8.82e-03 best: -2.47e-02\n",
        "T: 3.05e-03"
       ]
      },
      {
       "output_type": "stream",
       "stream": "stdout",
       "text": [
        " energy: 9.25e-03 best: -2.47e-02\n",
        "T: 3.04e-03"
       ]
      },
      {
       "output_type": "stream",
       "stream": "stdout",
       "text": [
        " energy: 6.53e-03 best: -2.47e-02\n",
        "T: 3.02e-03"
       ]
      },
      {
       "output_type": "stream",
       "stream": "stdout",
       "text": [
        " energy: 3.99e-03 best: -2.47e-02\n",
        "T: 3.01e-03"
       ]
      },
      {
       "output_type": "stream",
       "stream": "stdout",
       "text": [
        " energy: 7.83e-03 best: -2.47e-02\n",
        "T: 2.99e-03"
       ]
      },
      {
       "output_type": "stream",
       "stream": "stdout",
       "text": [
        " energy: 9.40e-03 best: -2.47e-02\n",
        "T: 2.98e-03"
       ]
      },
      {
       "output_type": "stream",
       "stream": "stdout",
       "text": [
        " energy: 9.47e-03 best: -2.47e-02\n",
        "T: 2.96e-03"
       ]
      },
      {
       "output_type": "stream",
       "stream": "stdout",
       "text": [
        " energy: 1.00e-02 best: -2.47e-02\n",
        "T: 2.95e-03"
       ]
      },
      {
       "output_type": "stream",
       "stream": "stdout",
       "text": [
        " energy: 8.57e-03 best: -2.47e-02\n",
        "T: 2.93e-03"
       ]
      },
      {
       "output_type": "stream",
       "stream": "stdout",
       "text": [
        " energy: 8.29e-03 best: -2.47e-02\n",
        "T: 2.92e-03"
       ]
      },
      {
       "output_type": "stream",
       "stream": "stdout",
       "text": [
        " energy: 8.06e-03 best: -2.47e-02\n",
        "T: 2.90e-03"
       ]
      },
      {
       "output_type": "stream",
       "stream": "stdout",
       "text": [
        " energy: 6.85e-03 best: -2.47e-02\n",
        "T: 2.89e-03"
       ]
      },
      {
       "output_type": "stream",
       "stream": "stdout",
       "text": [
        " energy: 5.09e-03 best: -2.47e-02\n",
        "T: 2.87e-03"
       ]
      },
      {
       "output_type": "stream",
       "stream": "stdout",
       "text": [
        " energy: 5.19e-03 best: -2.47e-02\n",
        "T: 2.86e-03"
       ]
      },
      {
       "output_type": "stream",
       "stream": "stdout",
       "text": [
        " energy: 6.15e-03 best: -2.47e-02\n",
        "T: 2.84e-03"
       ]
      },
      {
       "output_type": "stream",
       "stream": "stdout",
       "text": [
        " energy: 4.71e-03 best: -2.47e-02\n",
        "T: 2.83e-03"
       ]
      },
      {
       "output_type": "stream",
       "stream": "stdout",
       "text": [
        " energy: 5.94e-03 best: -2.47e-02\n",
        "T: 2.82e-03"
       ]
      },
      {
       "output_type": "stream",
       "stream": "stdout",
       "text": [
        " energy: 5.67e-03 best: -2.47e-02\n",
        "T: 2.80e-03"
       ]
      },
      {
       "output_type": "stream",
       "stream": "stdout",
       "text": [
        " energy: 5.06e-03 best: -2.47e-02\n",
        "T: 2.79e-03"
       ]
      },
      {
       "output_type": "stream",
       "stream": "stdout",
       "text": [
        " energy: 5.21e-03 best: -2.47e-02\n",
        "T: 2.77e-03"
       ]
      },
      {
       "output_type": "stream",
       "stream": "stdout",
       "text": [
        " energy: 3.90e-04 best: -2.47e-02\n",
        "T: 2.76e-03"
       ]
      },
      {
       "output_type": "stream",
       "stream": "stdout",
       "text": [
        " energy: 5.95e-03 best: -2.47e-02\n",
        "T: 2.75e-03"
       ]
      },
      {
       "output_type": "stream",
       "stream": "stdout",
       "text": [
        " energy: 7.13e-03 best: -2.47e-02\n",
        "T: 2.73e-03"
       ]
      },
      {
       "output_type": "stream",
       "stream": "stdout",
       "text": [
        " energy: 3.02e-03 best: -2.47e-02\n",
        "T: 2.72e-03"
       ]
      },
      {
       "output_type": "stream",
       "stream": "stdout",
       "text": [
        " energy: 6.45e-03 best: -2.47e-02\n",
        "T: 2.71e-03"
       ]
      },
      {
       "output_type": "stream",
       "stream": "stdout",
       "text": [
        " energy: 1.88e-03 best: -2.47e-02\n",
        "T: 2.69e-03"
       ]
      },
      {
       "output_type": "stream",
       "stream": "stdout",
       "text": [
        " energy: 1.40e-03 best: -2.47e-02\n",
        "T: 2.68e-03"
       ]
      },
      {
       "output_type": "stream",
       "stream": "stdout",
       "text": [
        " energy: 3.83e-03 best: -2.47e-02\n",
        "T: 2.66e-03"
       ]
      },
      {
       "output_type": "stream",
       "stream": "stdout",
       "text": [
        " energy: 4.05e-03 best: -2.47e-02\n",
        "T: 2.65e-03"
       ]
      },
      {
       "output_type": "stream",
       "stream": "stdout",
       "text": [
        " energy: 3.99e-03 best: -2.47e-02\n",
        "T: 2.64e-03"
       ]
      },
      {
       "output_type": "stream",
       "stream": "stdout",
       "text": [
        " energy: 3.59e-03 best: -2.47e-02\n",
        "T: 2.63e-03"
       ]
      },
      {
       "output_type": "stream",
       "stream": "stdout",
       "text": [
        " energy: 4.53e-03 best: -2.47e-02\n",
        "T: 2.61e-03"
       ]
      },
      {
       "output_type": "stream",
       "stream": "stdout",
       "text": [
        " energy: 4.95e-03 best: -2.47e-02\n",
        "T: 2.60e-03"
       ]
      },
      {
       "output_type": "stream",
       "stream": "stdout",
       "text": [
        " energy: 1.51e-03 best: -2.47e-02\n",
        "T: 2.59e-03"
       ]
      },
      {
       "output_type": "stream",
       "stream": "stdout",
       "text": [
        " energy: 6.58e-03 best: -2.47e-02\n",
        "T: 2.57e-03"
       ]
      },
      {
       "output_type": "stream",
       "stream": "stdout",
       "text": [
        " energy: 9.88e-03 best: -2.47e-02\n",
        "T: 2.56e-03"
       ]
      },
      {
       "output_type": "stream",
       "stream": "stdout",
       "text": [
        " energy: 6.26e-03 best: -2.47e-02\n",
        "T: 2.55e-03"
       ]
      },
      {
       "output_type": "stream",
       "stream": "stdout",
       "text": [
        " energy: 7.92e-03 best: -2.47e-02\n",
        "T: 2.53e-03"
       ]
      },
      {
       "output_type": "stream",
       "stream": "stdout",
       "text": [
        " energy: 1.02e-02 best: -2.47e-02\n",
        "T: 2.52e-03"
       ]
      },
      {
       "output_type": "stream",
       "stream": "stdout",
       "text": [
        " energy: 8.84e-03 best: -2.47e-02\n",
        "T: 2.51e-03"
       ]
      },
      {
       "output_type": "stream",
       "stream": "stdout",
       "text": [
        " energy: 4.02e-03 best: -2.47e-02\n",
        "T: 2.50e-03"
       ]
      },
      {
       "output_type": "stream",
       "stream": "stdout",
       "text": [
        " energy: 5.07e-03 best: -2.47e-02\n",
        "T: 2.48e-03"
       ]
      },
      {
       "output_type": "stream",
       "stream": "stdout",
       "text": [
        " energy: 9.03e-03 best: -2.47e-02\n",
        "T: 2.47e-03"
       ]
      },
      {
       "output_type": "stream",
       "stream": "stdout",
       "text": [
        " energy: 6.07e-03 best: -2.47e-02\n",
        "T: 2.46e-03"
       ]
      },
      {
       "output_type": "stream",
       "stream": "stdout",
       "text": [
        " energy: 1.76e-03 best: -2.47e-02\n",
        "T: 2.45e-03"
       ]
      },
      {
       "output_type": "stream",
       "stream": "stdout",
       "text": [
        " energy: 3.47e-03 best: -2.47e-02\n",
        "T: 2.43e-03"
       ]
      },
      {
       "output_type": "stream",
       "stream": "stdout",
       "text": [
        " energy: 6.13e-03 best: -2.47e-02\n",
        "T: 2.42e-03"
       ]
      },
      {
       "output_type": "stream",
       "stream": "stdout",
       "text": [
        " energy: 3.02e-03 best: -2.47e-02\n",
        "T: 2.41e-03"
       ]
      },
      {
       "output_type": "stream",
       "stream": "stdout",
       "text": [
        " energy: 6.32e-03 best: -2.47e-02\n",
        "T: 2.40e-03"
       ]
      },
      {
       "output_type": "stream",
       "stream": "stdout",
       "text": [
        " energy: 8.89e-03 best: -2.47e-02\n",
        "T: 2.39e-03"
       ]
      },
      {
       "output_type": "stream",
       "stream": "stdout",
       "text": [
        " energy: 4.54e-03 best: -2.47e-02\n",
        "T: 2.37e-03"
       ]
      },
      {
       "output_type": "stream",
       "stream": "stdout",
       "text": [
        " energy: 3.68e-03 best: -2.47e-02\n",
        "T: 2.36e-03"
       ]
      },
      {
       "output_type": "stream",
       "stream": "stdout",
       "text": [
        " energy: 3.71e-03 best: -2.47e-02\n",
        "T: 2.35e-03"
       ]
      },
      {
       "output_type": "stream",
       "stream": "stdout",
       "text": [
        " energy: 6.69e-03 best: -2.47e-02\n",
        "T: 2.34e-03"
       ]
      },
      {
       "output_type": "stream",
       "stream": "stdout",
       "text": [
        " energy: 6.52e-03 best: -2.47e-02\n",
        "T: 2.33e-03"
       ]
      },
      {
       "output_type": "stream",
       "stream": "stdout",
       "text": [
        " energy: 3.84e-03 best: -2.47e-02\n",
        "T: 2.32e-03"
       ]
      },
      {
       "output_type": "stream",
       "stream": "stdout",
       "text": [
        " energy: 2.89e-03 best: -2.47e-02\n",
        "T: 2.30e-03"
       ]
      },
      {
       "output_type": "stream",
       "stream": "stdout",
       "text": [
        " energy: 3.77e-03 best: -2.47e-02\n",
        "T: 2.29e-03"
       ]
      },
      {
       "output_type": "stream",
       "stream": "stdout",
       "text": [
        " energy: 2.25e-03 best: -2.47e-02\n",
        "T: 2.28e-03"
       ]
      },
      {
       "output_type": "stream",
       "stream": "stdout",
       "text": [
        " energy: 5.29e-03 best: -2.47e-02\n",
        "T: 2.27e-03"
       ]
      },
      {
       "output_type": "stream",
       "stream": "stdout",
       "text": [
        " energy: 3.81e-03 best: -2.47e-02\n",
        "T: 2.26e-03"
       ]
      },
      {
       "output_type": "stream",
       "stream": "stdout",
       "text": [
        " energy: 5.77e-03 best: -2.47e-02\n",
        "T: 2.25e-03"
       ]
      },
      {
       "output_type": "stream",
       "stream": "stdout",
       "text": [
        " energy: 1.78e-03 best: -2.47e-02\n",
        "T: 2.24e-03"
       ]
      },
      {
       "output_type": "stream",
       "stream": "stdout",
       "text": [
        " energy: 3.20e-03 best: -2.47e-02\n",
        "T: 2.22e-03"
       ]
      },
      {
       "output_type": "stream",
       "stream": "stdout",
       "text": [
        " energy: 6.00e-03 best: -2.47e-02\n",
        "T: 2.21e-03"
       ]
      },
      {
       "output_type": "stream",
       "stream": "stdout",
       "text": [
        " energy: 4.43e-03 best: -2.47e-02\n",
        "T: 2.20e-03"
       ]
      },
      {
       "output_type": "stream",
       "stream": "stdout",
       "text": [
        " energy: 6.70e-03 best: -2.47e-02\n",
        "T: 2.19e-03"
       ]
      },
      {
       "output_type": "stream",
       "stream": "stdout",
       "text": [
        " energy: 7.47e-03 best: -2.47e-02\n",
        "T: 2.18e-03"
       ]
      },
      {
       "output_type": "stream",
       "stream": "stdout",
       "text": [
        " energy: 7.37e-03 best: -2.47e-02\n",
        "T: 2.17e-03"
       ]
      },
      {
       "output_type": "stream",
       "stream": "stdout",
       "text": [
        " energy: 8.07e-03 best: -2.47e-02\n",
        "T: 2.16e-03"
       ]
      },
      {
       "output_type": "stream",
       "stream": "stdout",
       "text": [
        " energy: 6.89e-03 best: -2.47e-02\n",
        "T: 2.15e-03"
       ]
      },
      {
       "output_type": "stream",
       "stream": "stdout",
       "text": [
        " energy: 6.60e-03 best: -2.47e-02\n",
        "T: 2.14e-03"
       ]
      },
      {
       "output_type": "stream",
       "stream": "stdout",
       "text": [
        " energy: 4.09e-03 best: -2.47e-02\n",
        "T: 2.13e-03"
       ]
      },
      {
       "output_type": "stream",
       "stream": "stdout",
       "text": [
        " energy: 2.49e-03 best: -2.47e-02\n",
        "T: 2.12e-03"
       ]
      },
      {
       "output_type": "stream",
       "stream": "stdout",
       "text": [
        " energy: 8.11e-03 best: -2.47e-02\n",
        "T: 2.11e-03"
       ]
      },
      {
       "output_type": "stream",
       "stream": "stdout",
       "text": [
        " energy: 8.43e-03 best: -2.47e-02\n",
        "T: 2.10e-03"
       ]
      },
      {
       "output_type": "stream",
       "stream": "stdout",
       "text": [
        " energy: 6.56e-03 best: -2.47e-02\n",
        "T: 2.08e-03"
       ]
      },
      {
       "output_type": "stream",
       "stream": "stdout",
       "text": [
        " energy: 1.24e-02 best: -2.47e-02\n",
        "T: 2.07e-03"
       ]
      },
      {
       "output_type": "stream",
       "stream": "stdout",
       "text": [
        " energy: 1.26e-02 best: -2.47e-02\n",
        "T: 2.06e-03"
       ]
      },
      {
       "output_type": "stream",
       "stream": "stdout",
       "text": [
        " energy: 1.13e-02 best: -2.47e-02\n",
        "T: 2.05e-03"
       ]
      },
      {
       "output_type": "stream",
       "stream": "stdout",
       "text": [
        " energy: 8.56e-03 best: -2.47e-02\n",
        "T: 2.04e-03"
       ]
      },
      {
       "output_type": "stream",
       "stream": "stdout",
       "text": [
        " energy: 8.91e-03 best: -2.47e-02\n",
        "T: 2.03e-03"
       ]
      },
      {
       "output_type": "stream",
       "stream": "stdout",
       "text": [
        " energy: 2.81e-03 best: -2.47e-02\n",
        "T: 2.02e-03"
       ]
      },
      {
       "output_type": "stream",
       "stream": "stdout",
       "text": [
        " energy: 4.20e-03 best: -2.47e-02\n",
        "T: 2.01e-03"
       ]
      },
      {
       "output_type": "stream",
       "stream": "stdout",
       "text": [
        " energy: 4.34e-03 best: -2.47e-02\n",
        "T: 2.00e-03"
       ]
      },
      {
       "output_type": "stream",
       "stream": "stdout",
       "text": [
        " energy: 5.83e-03 best: -2.47e-02\n",
        "T: 1.99e-03"
       ]
      },
      {
       "output_type": "stream",
       "stream": "stdout",
       "text": [
        " energy: 3.07e-03 best: -2.47e-02\n",
        "T: 1.98e-03"
       ]
      },
      {
       "output_type": "stream",
       "stream": "stdout",
       "text": [
        " energy: 4.65e-03 best: -2.47e-02\n",
        "T: 1.97e-03"
       ]
      },
      {
       "output_type": "stream",
       "stream": "stdout",
       "text": [
        " energy: 3.90e-03 best: -2.47e-02\n",
        "T: 1.96e-03"
       ]
      },
      {
       "output_type": "stream",
       "stream": "stdout",
       "text": [
        " energy: 4.75e-03 best: -2.47e-02\n",
        "T: 1.95e-03"
       ]
      },
      {
       "output_type": "stream",
       "stream": "stdout",
       "text": [
        " energy: 6.26e-03 best: -2.47e-02\n",
        "T: 1.94e-03"
       ]
      },
      {
       "output_type": "stream",
       "stream": "stdout",
       "text": [
        " energy: 4.89e-03 best: -2.47e-02\n",
        "T: 1.93e-03"
       ]
      },
      {
       "output_type": "stream",
       "stream": "stdout",
       "text": [
        " energy: 4.92e-03 best: -2.47e-02\n",
        "T: 1.92e-03"
       ]
      },
      {
       "output_type": "stream",
       "stream": "stdout",
       "text": [
        " energy: 2.52e-03 best: -2.47e-02\n",
        "T: 1.91e-03"
       ]
      },
      {
       "output_type": "stream",
       "stream": "stdout",
       "text": [
        " energy: 2.18e-03 best: -2.47e-02\n",
        "T: 1.90e-03"
       ]
      },
      {
       "output_type": "stream",
       "stream": "stdout",
       "text": [
        " energy: 2.51e-03 best: -2.47e-02\n",
        "T: 1.90e-03"
       ]
      },
      {
       "output_type": "stream",
       "stream": "stdout",
       "text": [
        " energy: 1.56e-03 best: -2.47e-02\n",
        "T: 1.89e-03"
       ]
      },
      {
       "output_type": "stream",
       "stream": "stdout",
       "text": [
        " energy: 5.29e-03 best: -2.47e-02\n",
        "T: 1.88e-03"
       ]
      },
      {
       "output_type": "stream",
       "stream": "stdout",
       "text": [
        " energy: 6.49e-04 best: -2.47e-02\n",
        "T: 1.87e-03"
       ]
      },
      {
       "output_type": "stream",
       "stream": "stdout",
       "text": [
        " energy: 7.02e-04 best: -2.47e-02\n",
        "T: 1.86e-03"
       ]
      },
      {
       "output_type": "stream",
       "stream": "stdout",
       "text": [
        " energy: 1.43e-03 best: -2.47e-02\n",
        "T: 1.85e-03"
       ]
      },
      {
       "output_type": "stream",
       "stream": "stdout",
       "text": [
        " energy: 6.74e-05 best: -2.47e-02\n",
        "T: 1.84e-03"
       ]
      },
      {
       "output_type": "stream",
       "stream": "stdout",
       "text": [
        " energy: 1.30e-03 best: -2.47e-02\n",
        "T: 1.83e-03"
       ]
      },
      {
       "output_type": "stream",
       "stream": "stdout",
       "text": [
        " energy: 3.76e-04 best: -2.47e-02\n",
        "T: 1.82e-03"
       ]
      },
      {
       "output_type": "stream",
       "stream": "stdout",
       "text": [
        " energy: 1.43e-03 best: -2.47e-02\n",
        "T: 1.81e-03"
       ]
      },
      {
       "output_type": "stream",
       "stream": "stdout",
       "text": [
        " energy: -1.35e-03 best: -2.47e-02\n",
        "T: 1.80e-03"
       ]
      },
      {
       "output_type": "stream",
       "stream": "stdout",
       "text": [
        " energy: 1.74e-04 best: -2.47e-02\n",
        "T: 1.79e-03"
       ]
      },
      {
       "output_type": "stream",
       "stream": "stdout",
       "text": [
        " energy: -4.93e-04 best: -2.47e-02\n",
        "T: 1.78e-03"
       ]
      },
      {
       "output_type": "stream",
       "stream": "stdout",
       "text": [
        " energy: -8.82e-04 best: -2.47e-02\n",
        "T: 1.78e-03"
       ]
      },
      {
       "output_type": "stream",
       "stream": "stdout",
       "text": [
        " energy: -2.71e-04 best: -2.47e-02\n",
        "T: 1.77e-03"
       ]
      },
      {
       "output_type": "stream",
       "stream": "stdout",
       "text": [
        " energy: 4.60e-03 best: -2.47e-02\n",
        "T: 1.76e-03"
       ]
      },
      {
       "output_type": "stream",
       "stream": "stdout",
       "text": [
        " energy: 2.35e-03 best: -2.47e-02\n",
        "T: 1.75e-03"
       ]
      },
      {
       "output_type": "stream",
       "stream": "stdout",
       "text": [
        " energy: 3.26e-03 best: -2.47e-02\n",
        "T: 1.74e-03"
       ]
      },
      {
       "output_type": "stream",
       "stream": "stdout",
       "text": [
        " energy: 3.82e-03 best: -2.47e-02\n",
        "T: 1.73e-03"
       ]
      },
      {
       "output_type": "stream",
       "stream": "stdout",
       "text": [
        " energy: 6.00e-03 best: -2.47e-02\n",
        "T: 1.72e-03"
       ]
      },
      {
       "output_type": "stream",
       "stream": "stdout",
       "text": [
        " energy: 6.14e-03 best: -2.47e-02\n",
        "T: 1.71e-03"
       ]
      },
      {
       "output_type": "stream",
       "stream": "stdout",
       "text": [
        " energy: 6.58e-03 best: -2.47e-02\n",
        "T: 1.71e-03"
       ]
      },
      {
       "output_type": "stream",
       "stream": "stdout",
       "text": [
        " energy: 7.02e-03 best: -2.47e-02\n",
        "T: 1.70e-03"
       ]
      },
      {
       "output_type": "stream",
       "stream": "stdout",
       "text": [
        " energy: 5.00e-03 best: -2.47e-02\n",
        "T: 1.69e-03"
       ]
      },
      {
       "output_type": "stream",
       "stream": "stdout",
       "text": [
        " energy: 4.56e-03 best: -2.47e-02\n",
        "T: 1.68e-03"
       ]
      },
      {
       "output_type": "stream",
       "stream": "stdout",
       "text": [
        " energy: 1.48e-03 best: -2.47e-02\n",
        "T: 1.67e-03"
       ]
      },
      {
       "output_type": "stream",
       "stream": "stdout",
       "text": [
        " energy: 2.58e-03 best: -2.47e-02\n",
        "T: 1.66e-03"
       ]
      },
      {
       "output_type": "stream",
       "stream": "stdout",
       "text": [
        " energy: 5.95e-03 best: -2.47e-02\n",
        "T: 1.66e-03"
       ]
      },
      {
       "output_type": "stream",
       "stream": "stdout",
       "text": [
        " energy: 1.70e-03 best: -2.47e-02\n",
        "T: 1.65e-03"
       ]
      },
      {
       "output_type": "stream",
       "stream": "stdout",
       "text": [
        " energy: 3.42e-03 best: -2.47e-02\n",
        "T: 1.64e-03"
       ]
      },
      {
       "output_type": "stream",
       "stream": "stdout",
       "text": [
        " energy: -1.20e-03 best: -2.47e-02\n",
        "T: 1.63e-03"
       ]
      },
      {
       "output_type": "stream",
       "stream": "stdout",
       "text": [
        " energy: 2.08e-03 best: -2.47e-02\n",
        "T: 1.62e-03"
       ]
      },
      {
       "output_type": "stream",
       "stream": "stdout",
       "text": [
        " energy: 1.10e-03 best: -2.47e-02\n",
        "T: 1.61e-03"
       ]
      },
      {
       "output_type": "stream",
       "stream": "stdout",
       "text": [
        " energy: -2.91e-03 best: -2.47e-02\n",
        "T: 1.61e-03"
       ]
      },
      {
       "output_type": "stream",
       "stream": "stdout",
       "text": [
        " energy: 9.89e-04 best: -2.47e-02\n",
        "T: 1.60e-03"
       ]
      },
      {
       "output_type": "stream",
       "stream": "stdout",
       "text": [
        " energy: -4.44e-03 best: -2.47e-02\n",
        "T: 1.59e-03"
       ]
      },
      {
       "output_type": "stream",
       "stream": "stdout",
       "text": [
        " energy: 3.59e-03 best: -2.47e-02\n",
        "T: 1.58e-03"
       ]
      },
      {
       "output_type": "stream",
       "stream": "stdout",
       "text": [
        " energy: -1.54e-03 best: -2.47e-02\n",
        "T: 1.57e-03"
       ]
      },
      {
       "output_type": "stream",
       "stream": "stdout",
       "text": [
        " energy: 7.89e-05 best: -2.47e-02\n",
        "T: 1.57e-03"
       ]
      },
      {
       "output_type": "stream",
       "stream": "stdout",
       "text": [
        " energy: -2.60e-04 best: -2.47e-02\n",
        "T: 1.56e-03"
       ]
      },
      {
       "output_type": "stream",
       "stream": "stdout",
       "text": [
        " energy: 2.52e-03 best: -2.47e-02\n",
        "T: 1.55e-03"
       ]
      },
      {
       "output_type": "stream",
       "stream": "stdout",
       "text": [
        " energy: 8.70e-04 best: -2.47e-02\n",
        "T: 1.54e-03"
       ]
      },
      {
       "output_type": "stream",
       "stream": "stdout",
       "text": [
        " energy: -2.27e-03 best: -2.47e-02\n",
        "T: 1.54e-03"
       ]
      },
      {
       "output_type": "stream",
       "stream": "stdout",
       "text": [
        " energy: -6.02e-04 best: -2.47e-02\n",
        "T: 1.53e-03"
       ]
      },
      {
       "output_type": "stream",
       "stream": "stdout",
       "text": [
        " energy: 6.17e-04 best: -2.47e-02\n",
        "T: 1.52e-03"
       ]
      },
      {
       "output_type": "stream",
       "stream": "stdout",
       "text": [
        " energy: 2.77e-03 best: -2.47e-02\n",
        "T: 1.51e-03"
       ]
      },
      {
       "output_type": "stream",
       "stream": "stdout",
       "text": [
        " energy: 1.01e-03 best: -2.47e-02\n",
        "T: 1.50e-03"
       ]
      },
      {
       "output_type": "stream",
       "stream": "stdout",
       "text": [
        " energy: -1.04e-03 best: -2.47e-02\n",
        "T: 1.50e-03"
       ]
      },
      {
       "output_type": "stream",
       "stream": "stdout",
       "text": [
        " energy: 2.27e-03 best: -2.47e-02\n",
        "T: 1.49e-03"
       ]
      },
      {
       "output_type": "stream",
       "stream": "stdout",
       "text": [
        " energy: 3.07e-03 best: -2.47e-02\n",
        "T: 1.48e-03"
       ]
      },
      {
       "output_type": "stream",
       "stream": "stdout",
       "text": [
        " energy: 1.50e-03 best: -2.47e-02\n",
        "T: 1.48e-03"
       ]
      },
      {
       "output_type": "stream",
       "stream": "stdout",
       "text": [
        " energy: 1.01e-03 best: -2.47e-02\n",
        "T: 1.47e-03"
       ]
      },
      {
       "output_type": "stream",
       "stream": "stdout",
       "text": [
        " energy: 3.06e-03 best: -2.47e-02\n",
        "T: 1.46e-03"
       ]
      },
      {
       "output_type": "stream",
       "stream": "stdout",
       "text": [
        " energy: 5.38e-03 best: -2.47e-02\n",
        "T: 1.45e-03"
       ]
      },
      {
       "output_type": "stream",
       "stream": "stdout",
       "text": [
        " energy: 4.82e-04 best: -2.47e-02\n",
        "T: 1.45e-03"
       ]
      },
      {
       "output_type": "stream",
       "stream": "stdout",
       "text": [
        " energy: 2.50e-05 best: -2.47e-02\n",
        "T: 1.44e-03"
       ]
      },
      {
       "output_type": "stream",
       "stream": "stdout",
       "text": [
        " energy: 9.43e-04 best: -2.47e-02\n",
        "T: 1.43e-03"
       ]
      },
      {
       "output_type": "stream",
       "stream": "stdout",
       "text": [
        " energy: 7.40e-04 best: -2.47e-02\n",
        "T: 1.42e-03"
       ]
      },
      {
       "output_type": "stream",
       "stream": "stdout",
       "text": [
        " energy: 2.02e-03 best: -2.47e-02\n",
        "T: 1.42e-03"
       ]
      },
      {
       "output_type": "stream",
       "stream": "stdout",
       "text": [
        " energy: -3.71e-03 best: -2.47e-02\n",
        "T: 1.41e-03"
       ]
      },
      {
       "output_type": "stream",
       "stream": "stdout",
       "text": [
        " energy: -5.99e-03 best: -2.47e-02\n",
        "T: 1.40e-03"
       ]
      },
      {
       "output_type": "stream",
       "stream": "stdout",
       "text": [
        " energy: 3.09e-03 best: -2.47e-02\n",
        "T: 1.40e-03"
       ]
      },
      {
       "output_type": "stream",
       "stream": "stdout",
       "text": [
        " energy: 3.83e-03 best: -2.47e-02\n",
        "T: 1.39e-03"
       ]
      },
      {
       "output_type": "stream",
       "stream": "stdout",
       "text": [
        " energy: 2.30e-03 best: -2.47e-02\n",
        "T: 1.38e-03"
       ]
      },
      {
       "output_type": "stream",
       "stream": "stdout",
       "text": [
        " energy: 5.02e-03 best: -2.47e-02\n",
        "T: 1.38e-03"
       ]
      },
      {
       "output_type": "stream",
       "stream": "stdout",
       "text": [
        " energy: 4.01e-03 best: -2.47e-02\n",
        "T: 1.37e-03"
       ]
      },
      {
       "output_type": "stream",
       "stream": "stdout",
       "text": [
        " energy: 4.10e-03 best: -2.47e-02\n",
        "T: 1.36e-03"
       ]
      },
      {
       "output_type": "stream",
       "stream": "stdout",
       "text": [
        " energy: 2.24e-03 best: -2.47e-02\n",
        "T: 1.35e-03"
       ]
      },
      {
       "output_type": "stream",
       "stream": "stdout",
       "text": [
        " energy: -6.26e-04 best: -2.47e-02\n",
        "T: 1.35e-03"
       ]
      },
      {
       "output_type": "stream",
       "stream": "stdout",
       "text": [
        " energy: 2.42e-04 best: -2.47e-02\n",
        "T: 1.34e-03"
       ]
      },
      {
       "output_type": "stream",
       "stream": "stdout",
       "text": [
        " energy: 5.24e-04 best: -2.47e-02\n",
        "T: 1.33e-03"
       ]
      },
      {
       "output_type": "stream",
       "stream": "stdout",
       "text": [
        " energy: -1.18e-02 best: -2.47e-02\n",
        "T: 1.33e-03"
       ]
      },
      {
       "output_type": "stream",
       "stream": "stdout",
       "text": [
        " energy: -6.15e-03 best: -2.47e-02\n",
        "T: 1.32e-03"
       ]
      },
      {
       "output_type": "stream",
       "stream": "stdout",
       "text": [
        " energy: -2.16e-03 best: -2.47e-02\n",
        "T: 1.31e-03"
       ]
      },
      {
       "output_type": "stream",
       "stream": "stdout",
       "text": [
        " energy: 3.62e-03 best: -2.47e-02\n",
        "T: 1.31e-03"
       ]
      },
      {
       "output_type": "stream",
       "stream": "stdout",
       "text": [
        " energy: 1.47e-03 best: -2.47e-02\n",
        "T: 1.30e-03"
       ]
      },
      {
       "output_type": "stream",
       "stream": "stdout",
       "text": [
        " energy: 2.24e-03 best: -2.47e-02\n",
        "T: 1.29e-03"
       ]
      },
      {
       "output_type": "stream",
       "stream": "stdout",
       "text": [
        " energy: 3.97e-04 best: -2.47e-02\n",
        "T: 1.29e-03"
       ]
      },
      {
       "output_type": "stream",
       "stream": "stdout",
       "text": [
        " energy: 1.10e-03 best: -2.47e-02\n",
        "T: 1.28e-03"
       ]
      },
      {
       "output_type": "stream",
       "stream": "stdout",
       "text": [
        " energy: -1.32e-03 best: -2.47e-02\n",
        "T: 1.28e-03"
       ]
      },
      {
       "output_type": "stream",
       "stream": "stdout",
       "text": [
        " energy: 3.72e-03 best: -2.47e-02\n",
        "T: 1.27e-03"
       ]
      },
      {
       "output_type": "stream",
       "stream": "stdout",
       "text": [
        " energy: -3.73e-03 best: -2.47e-02\n",
        "T: 1.26e-03"
       ]
      },
      {
       "output_type": "stream",
       "stream": "stdout",
       "text": [
        " energy: -5.81e-03 best: -2.47e-02\n",
        "T: 1.26e-03"
       ]
      },
      {
       "output_type": "stream",
       "stream": "stdout",
       "text": [
        " energy: -4.25e-03 best: -2.47e-02\n",
        "T: 1.25e-03"
       ]
      },
      {
       "output_type": "stream",
       "stream": "stdout",
       "text": [
        " energy: -5.46e-03 best: -2.47e-02\n",
        "T: 1.24e-03"
       ]
      },
      {
       "output_type": "stream",
       "stream": "stdout",
       "text": [
        " energy: -8.80e-03 best: -2.47e-02\n",
        "T: 1.24e-03"
       ]
      },
      {
       "output_type": "stream",
       "stream": "stdout",
       "text": [
        " energy: -6.99e-03 best: -2.47e-02\n",
        "T: 1.23e-03"
       ]
      },
      {
       "output_type": "stream",
       "stream": "stdout",
       "text": [
        " energy: -7.69e-03 best: -2.47e-02\n",
        "T: 1.23e-03"
       ]
      },
      {
       "output_type": "stream",
       "stream": "stdout",
       "text": [
        " energy: -5.48e-03 best: -2.47e-02\n",
        "T: 1.22e-03"
       ]
      },
      {
       "output_type": "stream",
       "stream": "stdout",
       "text": [
        " energy: -9.36e-03 best: -2.47e-02\n",
        "T: 1.21e-03"
       ]
      },
      {
       "output_type": "stream",
       "stream": "stdout",
       "text": [
        " energy: -4.28e-03 best: -2.47e-02\n",
        "T: 1.21e-03"
       ]
      },
      {
       "output_type": "stream",
       "stream": "stdout",
       "text": [
        " energy: -7.57e-03 best: -2.47e-02\n",
        "T: 1.20e-03"
       ]
      },
      {
       "output_type": "stream",
       "stream": "stdout",
       "text": [
        " energy: -5.19e-03 best: -2.47e-02\n",
        "T: 1.20e-03"
       ]
      },
      {
       "output_type": "stream",
       "stream": "stdout",
       "text": [
        " energy: -5.82e-03 best: -2.47e-02\n",
        "T: 1.19e-03"
       ]
      },
      {
       "output_type": "stream",
       "stream": "stdout",
       "text": [
        " energy: -5.19e-03 best: -2.47e-02\n",
        "T: 1.18e-03"
       ]
      },
      {
       "output_type": "stream",
       "stream": "stdout",
       "text": [
        " energy: -7.53e-03 best: -2.47e-02\n",
        "T: 1.18e-03"
       ]
      },
      {
       "output_type": "stream",
       "stream": "stdout",
       "text": [
        " energy: -5.69e-03 best: -2.47e-02\n",
        "T: 1.17e-03"
       ]
      },
      {
       "output_type": "stream",
       "stream": "stdout",
       "text": [
        " energy: -4.33e-03 best: -2.47e-02\n",
        "T: 1.17e-03"
       ]
      },
      {
       "output_type": "stream",
       "stream": "stdout",
       "text": [
        " energy: 1.86e-03 best: -2.47e-02\n",
        "T: 1.16e-03"
       ]
      },
      {
       "output_type": "stream",
       "stream": "stdout",
       "text": [
        " energy: 2.15e-03 best: -2.47e-02\n",
        "T: 1.15e-03"
       ]
      },
      {
       "output_type": "stream",
       "stream": "stdout",
       "text": [
        " energy: 2.68e-03 best: -2.47e-02\n",
        "T: 1.15e-03"
       ]
      },
      {
       "output_type": "stream",
       "stream": "stdout",
       "text": [
        " energy: -2.89e-03 best: -2.47e-02\n",
        "T: 1.14e-03"
       ]
      },
      {
       "output_type": "stream",
       "stream": "stdout",
       "text": [
        " energy: -4.20e-03 best: -2.47e-02\n",
        "T: 1.14e-03"
       ]
      },
      {
       "output_type": "stream",
       "stream": "stdout",
       "text": [
        " energy: -1.48e-02 best: -2.47e-02\n",
        "T: 1.13e-03"
       ]
      },
      {
       "output_type": "stream",
       "stream": "stdout",
       "text": [
        " energy: -3.74e-02 best: -4.39e-02\n",
        "T: 1.13e-03"
       ]
      },
      {
       "output_type": "stream",
       "stream": "stdout",
       "text": [
        " energy: -3.14e-02 best: -4.39e-02\n",
        "T: 1.12e-03"
       ]
      },
      {
       "output_type": "stream",
       "stream": "stdout",
       "text": [
        " energy: -3.53e-02 best: -4.39e-02\n",
        "T: 1.11e-03"
       ]
      },
      {
       "output_type": "stream",
       "stream": "stdout",
       "text": [
        " energy: -3.51e-02 best: -4.39e-02\n",
        "T: 1.11e-03"
       ]
      },
      {
       "output_type": "stream",
       "stream": "stdout",
       "text": [
        " energy: -1.08e-01 best: -1.09e-01\n",
        "T: 1.10e-03"
       ]
      },
      {
       "output_type": "stream",
       "stream": "stdout",
       "text": [
        " energy: -2.88e-01 best: -3.11e-01\n",
        "T: 1.10e-03"
       ]
      },
      {
       "output_type": "stream",
       "stream": "stdout",
       "text": [
        " energy: -2.78e-01 best: -3.11e-01\n",
        "T: 1.09e-03"
       ]
      },
      {
       "output_type": "stream",
       "stream": "stdout",
       "text": [
        " energy: -3.24e-01 best: -3.43e-01\n",
        "T: 1.09e-03"
       ]
      },
      {
       "output_type": "stream",
       "stream": "stdout",
       "text": [
        " energy: -3.21e-01 best: -3.43e-01\n",
        "T: 1.08e-03"
       ]
      },
      {
       "output_type": "stream",
       "stream": "stdout",
       "text": [
        " energy: -3.26e-01 best: -3.43e-01\n",
        "T: 1.08e-03"
       ]
      },
      {
       "output_type": "stream",
       "stream": "stdout",
       "text": [
        " energy: -3.27e-01 best: -3.43e-01\n",
        "T: 1.07e-03"
       ]
      },
      {
       "output_type": "stream",
       "stream": "stdout",
       "text": [
        " energy: -3.38e-01 best: -3.43e-01\n",
        "T: 1.06e-03"
       ]
      },
      {
       "output_type": "stream",
       "stream": "stdout",
       "text": [
        " energy: -3.22e-01 best: -3.43e-01\n",
        "T: 1.06e-03"
       ]
      },
      {
       "output_type": "stream",
       "stream": "stdout",
       "text": [
        " energy: -3.25e-01 best: -3.43e-01\n",
        "T: 1.05e-03"
       ]
      },
      {
       "output_type": "stream",
       "stream": "stdout",
       "text": [
        " energy: -3.35e-01 best: -3.43e-01\n",
        "T: 1.05e-03"
       ]
      },
      {
       "output_type": "stream",
       "stream": "stdout",
       "text": [
        " energy: -3.19e-01 best: -3.43e-01\n",
        "T: 1.04e-03"
       ]
      },
      {
       "output_type": "stream",
       "stream": "stdout",
       "text": [
        " energy: -3.28e-01 best: -3.44e-01\n",
        "T: 1.04e-03"
       ]
      },
      {
       "output_type": "stream",
       "stream": "stdout",
       "text": [
        " energy: -3.38e-01 best: -3.44e-01\n",
        "T: 1.03e-03"
       ]
      },
      {
       "output_type": "stream",
       "stream": "stdout",
       "text": [
        " energy: -3.05e-01 best: -3.44e-01\n",
        "T: 1.03e-03"
       ]
      },
      {
       "output_type": "stream",
       "stream": "stdout",
       "text": [
        " energy: -3.28e-01 best: -3.44e-01\n",
        "T: 1.02e-03"
       ]
      },
      {
       "output_type": "stream",
       "stream": "stdout",
       "text": [
        " energy: -3.18e-01 best: -3.44e-01\n",
        "T: 1.02e-03"
       ]
      },
      {
       "output_type": "stream",
       "stream": "stdout",
       "text": [
        " energy: -3.43e-01 best: -3.44e-01\n",
        "T: 1.01e-03"
       ]
      },
      {
       "output_type": "stream",
       "stream": "stdout",
       "text": [
        " energy: -3.26e-01 best: -3.44e-01\n",
        "T: 1.01e-03"
       ]
      },
      {
       "output_type": "stream",
       "stream": "stdout",
       "text": [
        " energy: -3.35e-01 best: -3.44e-01\n",
        "T: 1.00e-03"
       ]
      },
      {
       "output_type": "stream",
       "stream": "stdout",
       "text": [
        " energy: -3.22e-01 best: -3.44e-01\n",
        "T: 9.98e-04"
       ]
      },
      {
       "output_type": "stream",
       "stream": "stdout",
       "text": [
        " energy: -3.22e-01 best: -3.44e-01\n",
        "T: 9.93e-04"
       ]
      },
      {
       "output_type": "stream",
       "stream": "stdout",
       "text": [
        " energy: -3.27e-01 best: -3.44e-01\n",
        "T: 9.88e-04"
       ]
      },
      {
       "output_type": "stream",
       "stream": "stdout",
       "text": [
        " energy: -3.25e-01 best: -3.44e-01\n",
        "T: 9.83e-04"
       ]
      },
      {
       "output_type": "stream",
       "stream": "stdout",
       "text": [
        " energy: -3.38e-01 best: -3.44e-01\n",
        "T: 9.78e-04"
       ]
      },
      {
       "output_type": "stream",
       "stream": "stdout",
       "text": [
        " energy: -3.30e-01 best: -3.44e-01\n",
        "T: 9.73e-04"
       ]
      },
      {
       "output_type": "stream",
       "stream": "stdout",
       "text": [
        " energy: -3.42e-01 best: -3.45e-01\n",
        "T: 9.68e-04"
       ]
      },
      {
       "output_type": "stream",
       "stream": "stdout",
       "text": [
        " energy: -3.26e-01 best: -3.46e-01\n",
        "T: 9.63e-04"
       ]
      },
      {
       "output_type": "stream",
       "stream": "stdout",
       "text": [
        " energy: -3.27e-01 best: -3.46e-01\n",
        "T: 9.58e-04"
       ]
      },
      {
       "output_type": "stream",
       "stream": "stdout",
       "text": [
        " energy: -3.30e-01 best: -3.46e-01\n",
        "T: 9.54e-04"
       ]
      },
      {
       "output_type": "stream",
       "stream": "stdout",
       "text": [
        " energy: -3.33e-01 best: -3.46e-01\n",
        "T: 9.49e-04"
       ]
      },
      {
       "output_type": "stream",
       "stream": "stdout",
       "text": [
        " energy: -3.36e-01 best: -3.46e-01\n",
        "T: 9.44e-04"
       ]
      },
      {
       "output_type": "stream",
       "stream": "stdout",
       "text": [
        " energy: -3.28e-01 best: -3.46e-01\n",
        "T: 9.39e-04"
       ]
      },
      {
       "output_type": "stream",
       "stream": "stdout",
       "text": [
        " energy: -3.29e-01 best: -3.46e-01\n",
        "T: 9.35e-04"
       ]
      },
      {
       "output_type": "stream",
       "stream": "stdout",
       "text": [
        " energy: -3.34e-01 best: -3.46e-01\n",
        "T: 9.30e-04"
       ]
      },
      {
       "output_type": "stream",
       "stream": "stdout",
       "text": [
        " energy: -3.20e-01 best: -3.46e-01\n",
        "T: 9.25e-04"
       ]
      },
      {
       "output_type": "stream",
       "stream": "stdout",
       "text": [
        " energy: -3.43e-01 best: -3.46e-01\n",
        "T: 9.21e-04"
       ]
      },
      {
       "output_type": "stream",
       "stream": "stdout",
       "text": [
        " energy: -3.30e-01 best: -3.47e-01\n",
        "T: 9.16e-04"
       ]
      },
      {
       "output_type": "stream",
       "stream": "stdout",
       "text": [
        " energy: -3.31e-01 best: -3.47e-01\n",
        "T: 9.12e-04"
       ]
      },
      {
       "output_type": "stream",
       "stream": "stdout",
       "text": [
        " energy: -3.28e-01 best: -3.47e-01\n",
        "T: 9.07e-04"
       ]
      },
      {
       "output_type": "stream",
       "stream": "stdout",
       "text": [
        " energy: -3.29e-01 best: -3.47e-01\n",
        "T: 9.03e-04"
       ]
      },
      {
       "output_type": "stream",
       "stream": "stdout",
       "text": [
        " energy: -3.27e-01 best: -3.47e-01\n",
        "T: 8.98e-04"
       ]
      },
      {
       "output_type": "stream",
       "stream": "stdout",
       "text": [
        " energy: -3.32e-01 best: -3.47e-01\n",
        "T: 8.94e-04"
       ]
      },
      {
       "output_type": "stream",
       "stream": "stdout",
       "text": [
        " energy: -3.26e-01 best: -3.47e-01\n",
        "T: 8.89e-04"
       ]
      },
      {
       "output_type": "stream",
       "stream": "stdout",
       "text": [
        " energy: -3.34e-01 best: -3.47e-01\n",
        "T: 8.85e-04"
       ]
      },
      {
       "output_type": "stream",
       "stream": "stdout",
       "text": [
        " energy: -3.37e-01 best: -3.47e-01\n",
        "T: 8.80e-04"
       ]
      },
      {
       "output_type": "stream",
       "stream": "stdout",
       "text": [
        " energy: -3.34e-01 best: -3.47e-01\n",
        "T: 8.76e-04"
       ]
      },
      {
       "output_type": "stream",
       "stream": "stdout",
       "text": [
        " energy: -3.21e-01 best: -3.47e-01\n",
        "T: 8.71e-04"
       ]
      },
      {
       "output_type": "stream",
       "stream": "stdout",
       "text": [
        " energy: -3.39e-01 best: -3.47e-01\n",
        "T: 8.67e-04"
       ]
      },
      {
       "output_type": "stream",
       "stream": "stdout",
       "text": [
        " energy: -3.38e-01 best: -3.47e-01\n",
        "T: 8.63e-04"
       ]
      },
      {
       "output_type": "stream",
       "stream": "stdout",
       "text": [
        " energy: -3.40e-01 best: -3.47e-01\n",
        "T: 8.58e-04"
       ]
      },
      {
       "output_type": "stream",
       "stream": "stdout",
       "text": [
        " energy: -3.39e-01 best: -3.47e-01\n",
        "T: 8.54e-04"
       ]
      },
      {
       "output_type": "stream",
       "stream": "stdout",
       "text": [
        " energy: -3.39e-01 best: -3.47e-01\n",
        "T: 8.50e-04"
       ]
      },
      {
       "output_type": "stream",
       "stream": "stdout",
       "text": [
        " energy: -3.23e-01 best: -3.47e-01\n",
        "T: 8.46e-04"
       ]
      },
      {
       "output_type": "stream",
       "stream": "stdout",
       "text": [
        " energy: -3.35e-01 best: -3.47e-01\n",
        "T: 8.41e-04"
       ]
      },
      {
       "output_type": "stream",
       "stream": "stdout",
       "text": [
        " energy: -3.32e-01 best: -3.47e-01\n",
        "T: 8.37e-04"
       ]
      },
      {
       "output_type": "stream",
       "stream": "stdout",
       "text": [
        " energy: -3.38e-01 best: -3.47e-01\n",
        "T: 8.33e-04"
       ]
      },
      {
       "output_type": "stream",
       "stream": "stdout",
       "text": [
        " energy: -3.31e-01 best: -3.47e-01\n",
        "T: 8.29e-04"
       ]
      },
      {
       "output_type": "stream",
       "stream": "stdout",
       "text": [
        " energy: -3.48e-01 best: -3.48e-01\n",
        "T: 8.25e-04"
       ]
      },
      {
       "output_type": "stream",
       "stream": "stdout",
       "text": [
        " energy: -3.24e-01 best: -3.48e-01\n",
        "T: 8.21e-04"
       ]
      },
      {
       "output_type": "stream",
       "stream": "stdout",
       "text": [
        " energy: -3.32e-01 best: -3.48e-01\n",
        "T: 8.16e-04"
       ]
      },
      {
       "output_type": "stream",
       "stream": "stdout",
       "text": [
        " energy: -3.32e-01 best: -3.48e-01\n",
        "T: 8.12e-04"
       ]
      },
      {
       "output_type": "stream",
       "stream": "stdout",
       "text": [
        " energy: -3.29e-01 best: -3.48e-01\n",
        "T: 8.08e-04"
       ]
      },
      {
       "output_type": "stream",
       "stream": "stdout",
       "text": [
        " energy: -3.29e-01 best: -3.48e-01\n",
        "T: 8.04e-04"
       ]
      },
      {
       "output_type": "stream",
       "stream": "stdout",
       "text": [
        " energy: -3.36e-01 best: -3.48e-01\n",
        "T: 8.00e-04"
       ]
      },
      {
       "output_type": "stream",
       "stream": "stdout",
       "text": [
        " energy: -3.28e-01 best: -3.48e-01\n",
        "T: 7.96e-04"
       ]
      },
      {
       "output_type": "stream",
       "stream": "stdout",
       "text": [
        " energy: -3.29e-01 best: -3.48e-01\n",
        "T: 7.92e-04"
       ]
      },
      {
       "output_type": "stream",
       "stream": "stdout",
       "text": [
        " energy: -3.42e-01 best: -3.48e-01\n",
        "T: 7.88e-04"
       ]
      },
      {
       "output_type": "stream",
       "stream": "stdout",
       "text": [
        " energy: -3.34e-01 best: -3.48e-01\n",
        "T: 7.84e-04"
       ]
      },
      {
       "output_type": "stream",
       "stream": "stdout",
       "text": [
        " energy: -3.27e-01 best: -3.48e-01\n",
        "T: 7.80e-04"
       ]
      },
      {
       "output_type": "stream",
       "stream": "stdout",
       "text": [
        " energy: -3.44e-01 best: -3.48e-01\n",
        "T: 7.77e-04"
       ]
      },
      {
       "output_type": "stream",
       "stream": "stdout",
       "text": [
        " energy: -3.19e-01 best: -3.49e-01\n",
        "T: 7.73e-04"
       ]
      },
      {
       "output_type": "stream",
       "stream": "stdout",
       "text": [
        " energy: -3.39e-01 best: -3.49e-01\n",
        "T: 7.69e-04"
       ]
      },
      {
       "output_type": "stream",
       "stream": "stdout",
       "text": [
        " energy: -3.37e-01 best: -3.49e-01\n",
        "T: 7.65e-04"
       ]
      },
      {
       "output_type": "stream",
       "stream": "stdout",
       "text": [
        " energy: -3.37e-01 best: -3.49e-01\n",
        "T: 7.61e-04"
       ]
      },
      {
       "output_type": "stream",
       "stream": "stdout",
       "text": [
        " energy: -3.27e-01 best: -3.49e-01\n",
        "T: 7.57e-04"
       ]
      },
      {
       "output_type": "stream",
       "stream": "stdout",
       "text": [
        " energy: -3.36e-01 best: -3.49e-01\n",
        "T: 7.54e-04"
       ]
      },
      {
       "output_type": "stream",
       "stream": "stdout",
       "text": [
        " energy: -3.45e-01 best: -3.49e-01\n",
        "T: 7.50e-04"
       ]
      },
      {
       "output_type": "stream",
       "stream": "stdout",
       "text": [
        " energy: -3.36e-01 best: -3.49e-01\n",
        "T: 7.46e-04"
       ]
      },
      {
       "output_type": "stream",
       "stream": "stdout",
       "text": [
        " energy: -3.41e-01 best: -3.49e-01\n",
        "T: 7.42e-04"
       ]
      },
      {
       "output_type": "stream",
       "stream": "stdout",
       "text": [
        " energy: -3.37e-01 best: -3.49e-01\n",
        "T: 7.39e-04"
       ]
      },
      {
       "output_type": "stream",
       "stream": "stdout",
       "text": [
        " energy: -3.33e-01 best: -3.49e-01\n",
        "T: 7.35e-04"
       ]
      },
      {
       "output_type": "stream",
       "stream": "stdout",
       "text": [
        " energy: -3.39e-01 best: -3.49e-01\n",
        "T: 7.31e-04"
       ]
      },
      {
       "output_type": "stream",
       "stream": "stdout",
       "text": [
        " energy: -3.42e-01 best: -3.49e-01\n",
        "T: 7.28e-04"
       ]
      },
      {
       "output_type": "stream",
       "stream": "stdout",
       "text": [
        " energy: -3.41e-01 best: -3.49e-01\n",
        "T: 7.24e-04"
       ]
      },
      {
       "output_type": "stream",
       "stream": "stdout",
       "text": [
        " energy: -3.42e-01 best: -3.49e-01\n",
        "T: 7.20e-04"
       ]
      },
      {
       "output_type": "stream",
       "stream": "stdout",
       "text": [
        " energy: -3.37e-01 best: -3.49e-01\n",
        "T: 7.17e-04"
       ]
      },
      {
       "output_type": "stream",
       "stream": "stdout",
       "text": [
        " energy: -3.45e-01 best: -3.49e-01\n",
        "T: 7.13e-04"
       ]
      },
      {
       "output_type": "stream",
       "stream": "stdout",
       "text": [
        " energy: -3.42e-01 best: -3.49e-01\n",
        "T: 7.10e-04"
       ]
      },
      {
       "output_type": "stream",
       "stream": "stdout",
       "text": [
        " energy: -3.44e-01 best: -3.49e-01\n",
        "T: 7.06e-04"
       ]
      },
      {
       "output_type": "stream",
       "stream": "stdout",
       "text": [
        " energy: -3.41e-01 best: -3.49e-01\n",
        "T: 7.02e-04"
       ]
      },
      {
       "output_type": "stream",
       "stream": "stdout",
       "text": [
        " energy: -3.31e-01 best: -3.49e-01\n",
        "T: 6.99e-04"
       ]
      },
      {
       "output_type": "stream",
       "stream": "stdout",
       "text": [
        " energy: -3.21e-01 best: -3.49e-01\n",
        "T: 6.95e-04"
       ]
      },
      {
       "output_type": "stream",
       "stream": "stdout",
       "text": [
        " energy: -3.35e-01 best: -3.51e-01\n",
        "T: 6.92e-04"
       ]
      },
      {
       "output_type": "stream",
       "stream": "stdout",
       "text": [
        " energy: -3.34e-01 best: -3.51e-01\n",
        "T: 6.89e-04"
       ]
      },
      {
       "output_type": "stream",
       "stream": "stdout",
       "text": [
        " energy: -3.43e-01 best: -3.52e-01\n",
        "T: 6.85e-04"
       ]
      },
      {
       "output_type": "stream",
       "stream": "stdout",
       "text": [
        " energy: -3.37e-01 best: -3.52e-01\n",
        "T: 6.82e-04"
       ]
      },
      {
       "output_type": "stream",
       "stream": "stdout",
       "text": [
        " energy: -3.43e-01 best: -3.52e-01\n",
        "T: 6.78e-04"
       ]
      },
      {
       "output_type": "stream",
       "stream": "stdout",
       "text": [
        " energy: -3.42e-01 best: -3.52e-01\n",
        "T: 6.75e-04"
       ]
      },
      {
       "output_type": "stream",
       "stream": "stdout",
       "text": [
        " energy: -3.43e-01 best: -3.52e-01\n",
        "T: 6.71e-04"
       ]
      },
      {
       "output_type": "stream",
       "stream": "stdout",
       "text": [
        " energy: -3.45e-01 best: -3.52e-01\n",
        "T: 6.68e-04"
       ]
      },
      {
       "output_type": "stream",
       "stream": "stdout",
       "text": [
        " energy: -3.43e-01 best: -3.52e-01\n",
        "T: 6.65e-04"
       ]
      },
      {
       "output_type": "stream",
       "stream": "stdout",
       "text": [
        " energy: -3.36e-01 best: -3.52e-01\n",
        "T: 6.61e-04"
       ]
      },
      {
       "output_type": "stream",
       "stream": "stdout",
       "text": [
        " energy: -3.38e-01 best: -3.52e-01\n",
        "T: 6.58e-04"
       ]
      },
      {
       "output_type": "stream",
       "stream": "stdout",
       "text": [
        " energy: -3.41e-01 best: -3.52e-01\n",
        "T: 6.55e-04"
       ]
      },
      {
       "output_type": "stream",
       "stream": "stdout",
       "text": [
        " energy: -3.46e-01 best: -3.52e-01\n",
        "T: 6.52e-04"
       ]
      },
      {
       "output_type": "stream",
       "stream": "stdout",
       "text": [
        " energy: -3.38e-01 best: -3.52e-01\n",
        "T: 6.48e-04"
       ]
      },
      {
       "output_type": "stream",
       "stream": "stdout",
       "text": [
        " energy: -3.36e-01 best: -3.52e-01\n",
        "T: 6.45e-04"
       ]
      },
      {
       "output_type": "stream",
       "stream": "stdout",
       "text": [
        " energy: -3.40e-01 best: -3.52e-01\n",
        "T: 6.42e-04"
       ]
      },
      {
       "output_type": "stream",
       "stream": "stdout",
       "text": [
        " energy: -3.40e-01 best: -3.52e-01\n",
        "T: 6.39e-04"
       ]
      },
      {
       "output_type": "stream",
       "stream": "stdout",
       "text": [
        " energy: -3.42e-01 best: -3.52e-01\n",
        "T: 6.35e-04"
       ]
      },
      {
       "output_type": "stream",
       "stream": "stdout",
       "text": [
        " energy: -3.44e-01 best: -3.52e-01\n",
        "T: 6.32e-04"
       ]
      },
      {
       "output_type": "stream",
       "stream": "stdout",
       "text": [
        " energy: -3.46e-01 best: -3.52e-01\n",
        "T: 6.29e-04"
       ]
      },
      {
       "output_type": "stream",
       "stream": "stdout",
       "text": [
        " energy: -3.41e-01 best: -3.52e-01\n",
        "T: 6.26e-04"
       ]
      },
      {
       "output_type": "stream",
       "stream": "stdout",
       "text": [
        " energy: -3.43e-01 best: -3.52e-01\n",
        "T: 6.23e-04"
       ]
      },
      {
       "output_type": "stream",
       "stream": "stdout",
       "text": [
        " energy: -3.35e-01 best: -3.52e-01\n",
        "T: 6.20e-04"
       ]
      },
      {
       "output_type": "stream",
       "stream": "stdout",
       "text": [
        " energy: -3.45e-01 best: -3.52e-01\n",
        "T: 6.17e-04"
       ]
      },
      {
       "output_type": "stream",
       "stream": "stdout",
       "text": [
        " energy: -3.44e-01 best: -3.52e-01\n",
        "T: 6.14e-04"
       ]
      },
      {
       "output_type": "stream",
       "stream": "stdout",
       "text": [
        " energy: -3.37e-01 best: -3.52e-01\n",
        "T: 6.10e-04"
       ]
      },
      {
       "output_type": "stream",
       "stream": "stdout",
       "text": [
        " energy: -3.45e-01 best: -3.52e-01\n",
        "T: 6.07e-04"
       ]
      },
      {
       "output_type": "stream",
       "stream": "stdout",
       "text": [
        " energy: -3.44e-01 best: -3.52e-01\n",
        "T: 6.04e-04"
       ]
      },
      {
       "output_type": "stream",
       "stream": "stdout",
       "text": [
        " energy: -3.46e-01 best: -3.52e-01\n",
        "T: 6.01e-04"
       ]
      },
      {
       "output_type": "stream",
       "stream": "stdout",
       "text": [
        " energy: -3.46e-01 best: -3.52e-01\n",
        "T: 5.98e-04"
       ]
      },
      {
       "output_type": "stream",
       "stream": "stdout",
       "text": [
        " energy: -3.42e-01 best: -3.52e-01\n",
        "T: 5.95e-04"
       ]
      },
      {
       "output_type": "stream",
       "stream": "stdout",
       "text": [
        " energy: -3.47e-01 best: -3.52e-01\n",
        "T: 5.92e-04"
       ]
      },
      {
       "output_type": "stream",
       "stream": "stdout",
       "text": [
        " energy: -3.44e-01 best: -3.52e-01\n",
        "T: 5.89e-04"
       ]
      },
      {
       "output_type": "stream",
       "stream": "stdout",
       "text": [
        " energy: -3.38e-01 best: -3.52e-01\n",
        "T: 5.86e-04"
       ]
      },
      {
       "output_type": "stream",
       "stream": "stdout",
       "text": [
        " energy: -3.42e-01 best: -3.52e-01\n",
        "T: 5.84e-04"
       ]
      },
      {
       "output_type": "stream",
       "stream": "stdout",
       "text": [
        " energy: -3.48e-01 best: -3.52e-01\n",
        "T: 5.81e-04"
       ]
      },
      {
       "output_type": "stream",
       "stream": "stdout",
       "text": [
        " energy: -3.46e-01 best: -3.52e-01\n",
        "T: 5.78e-04"
       ]
      },
      {
       "output_type": "stream",
       "stream": "stdout",
       "text": [
        " energy: -3.43e-01 best: -3.52e-01\n",
        "T: 5.75e-04"
       ]
      },
      {
       "output_type": "stream",
       "stream": "stdout",
       "text": [
        " energy: -3.49e-01 best: -3.52e-01\n",
        "T: 5.72e-04"
       ]
      },
      {
       "output_type": "stream",
       "stream": "stdout",
       "text": [
        " energy: -3.43e-01 best: -3.52e-01\n",
        "T: 5.69e-04"
       ]
      },
      {
       "output_type": "stream",
       "stream": "stdout",
       "text": [
        " energy: -3.42e-01 best: -3.52e-01\n",
        "T: 5.66e-04"
       ]
      },
      {
       "output_type": "stream",
       "stream": "stdout",
       "text": [
        " energy: -3.47e-01 best: -3.52e-01\n",
        "T: 5.63e-04"
       ]
      },
      {
       "output_type": "stream",
       "stream": "stdout",
       "text": [
        " energy: -3.45e-01 best: -3.52e-01\n",
        "T: 5.61e-04"
       ]
      },
      {
       "output_type": "stream",
       "stream": "stdout",
       "text": [
        " energy: -3.44e-01 best: -3.52e-01\n",
        "T: 5.58e-04"
       ]
      },
      {
       "output_type": "stream",
       "stream": "stdout",
       "text": [
        " energy: -3.45e-01 best: -3.52e-01\n",
        "T: 5.55e-04"
       ]
      },
      {
       "output_type": "stream",
       "stream": "stdout",
       "text": [
        " energy: -3.40e-01 best: -3.52e-01\n",
        "T: 5.52e-04"
       ]
      },
      {
       "output_type": "stream",
       "stream": "stdout",
       "text": [
        " energy: -3.35e-01 best: -3.52e-01\n",
        "T: 5.49e-04"
       ]
      },
      {
       "output_type": "stream",
       "stream": "stdout",
       "text": [
        " energy: -3.36e-01 best: -3.52e-01\n",
        "T: 5.47e-04"
       ]
      },
      {
       "output_type": "stream",
       "stream": "stdout",
       "text": [
        " energy: -3.47e-01 best: -3.52e-01\n",
        "T: 5.44e-04"
       ]
      },
      {
       "output_type": "stream",
       "stream": "stdout",
       "text": [
        " energy: -3.42e-01 best: -3.52e-01\n",
        "T: 5.41e-04"
       ]
      },
      {
       "output_type": "stream",
       "stream": "stdout",
       "text": [
        " energy: -3.46e-01 best: -3.52e-01\n",
        "T: 5.39e-04"
       ]
      },
      {
       "output_type": "stream",
       "stream": "stdout",
       "text": [
        " energy: -3.46e-01 best: -3.52e-01\n",
        "T: 5.36e-04"
       ]
      },
      {
       "output_type": "stream",
       "stream": "stdout",
       "text": [
        " energy: -3.49e-01 best: -3.52e-01\n",
        "T: 5.33e-04"
       ]
      },
      {
       "output_type": "stream",
       "stream": "stdout",
       "text": [
        " energy: -3.41e-01 best: -3.52e-01\n",
        "T: 5.31e-04"
       ]
      },
      {
       "output_type": "stream",
       "stream": "stdout",
       "text": [
        " energy: -3.36e-01 best: -3.52e-01\n",
        "T: 5.28e-04"
       ]
      },
      {
       "output_type": "stream",
       "stream": "stdout",
       "text": [
        " energy: -3.41e-01 best: -3.52e-01\n",
        "T: 5.25e-04"
       ]
      },
      {
       "output_type": "stream",
       "stream": "stdout",
       "text": [
        " energy: -3.47e-01 best: -3.52e-01\n",
        "T: 5.23e-04"
       ]
      },
      {
       "output_type": "stream",
       "stream": "stdout",
       "text": [
        " energy: -3.43e-01 best: -3.52e-01\n",
        "T: 5.20e-04"
       ]
      },
      {
       "output_type": "stream",
       "stream": "stdout",
       "text": [
        " energy: -3.43e-01 best: -3.52e-01\n",
        "T: 5.17e-04"
       ]
      },
      {
       "output_type": "stream",
       "stream": "stdout",
       "text": [
        " energy: -3.44e-01 best: -3.52e-01\n",
        "T: 5.15e-04"
       ]
      },
      {
       "output_type": "stream",
       "stream": "stdout",
       "text": [
        " energy: -3.47e-01 best: -3.52e-01\n",
        "T: 5.12e-04"
       ]
      },
      {
       "output_type": "stream",
       "stream": "stdout",
       "text": [
        " energy: -3.47e-01 best: -3.52e-01\n",
        "T: 5.10e-04"
       ]
      },
      {
       "output_type": "stream",
       "stream": "stdout",
       "text": [
        " energy: -3.44e-01 best: -3.52e-01\n",
        "T: 5.07e-04"
       ]
      },
      {
       "output_type": "stream",
       "stream": "stdout",
       "text": [
        " energy: -3.45e-01 best: -3.52e-01\n",
        "T: 5.05e-04"
       ]
      },
      {
       "output_type": "stream",
       "stream": "stdout",
       "text": [
        " energy: -3.46e-01 best: -3.52e-01\n",
        "T: 5.02e-04"
       ]
      },
      {
       "output_type": "stream",
       "stream": "stdout",
       "text": [
        " energy: -3.49e-01 best: -3.53e-01\n",
        "T: 5.00e-04"
       ]
      },
      {
       "output_type": "stream",
       "stream": "stdout",
       "text": [
        " energy: -3.47e-01 best: -3.53e-01\n",
        "T: 4.97e-04"
       ]
      },
      {
       "output_type": "stream",
       "stream": "stdout",
       "text": [
        " energy: -3.48e-01 best: -3.53e-01\n",
        "T: 4.95e-04"
       ]
      },
      {
       "output_type": "stream",
       "stream": "stdout",
       "text": [
        " energy: -3.44e-01 best: -3.53e-01\n",
        "T: 4.92e-04"
       ]
      },
      {
       "output_type": "stream",
       "stream": "stdout",
       "text": [
        " energy: -3.49e-01 best: -3.53e-01\n",
        "T: 4.90e-04"
       ]
      },
      {
       "output_type": "stream",
       "stream": "stdout",
       "text": [
        " energy: -3.46e-01 best: -3.53e-01\n",
        "T: 4.87e-04"
       ]
      },
      {
       "output_type": "stream",
       "stream": "stdout",
       "text": [
        " energy: -3.47e-01 best: -3.53e-01\n",
        "T: 4.85e-04"
       ]
      },
      {
       "output_type": "stream",
       "stream": "stdout",
       "text": [
        " energy: -3.47e-01 best: -3.53e-01\n",
        "T: 4.82e-04"
       ]
      },
      {
       "output_type": "stream",
       "stream": "stdout",
       "text": [
        " energy: -3.44e-01 best: -3.53e-01\n",
        "T: 4.80e-04"
       ]
      },
      {
       "output_type": "stream",
       "stream": "stdout",
       "text": [
        " energy: -3.49e-01 best: -3.53e-01\n",
        "T: 4.78e-04"
       ]
      },
      {
       "output_type": "stream",
       "stream": "stdout",
       "text": [
        " energy: -3.46e-01 best: -3.53e-01\n",
        "T: 4.75e-04"
       ]
      },
      {
       "output_type": "stream",
       "stream": "stdout",
       "text": [
        " energy: -3.51e-01 best: -3.53e-01\n",
        "T: 4.73e-04"
       ]
      },
      {
       "output_type": "stream",
       "stream": "stdout",
       "text": [
        " energy: -3.46e-01 best: -3.53e-01\n",
        "T: 4.70e-04"
       ]
      },
      {
       "output_type": "stream",
       "stream": "stdout",
       "text": [
        " energy: -3.46e-01 best: -3.53e-01\n",
        "T: 4.68e-04"
       ]
      },
      {
       "output_type": "stream",
       "stream": "stdout",
       "text": [
        " energy: -3.45e-01 best: -3.53e-01\n",
        "T: 4.66e-04"
       ]
      },
      {
       "output_type": "stream",
       "stream": "stdout",
       "text": [
        " energy: -3.48e-01 best: -3.53e-01\n",
        "T: 4.63e-04"
       ]
      },
      {
       "output_type": "stream",
       "stream": "stdout",
       "text": [
        " energy: -3.47e-01 best: -3.53e-01\n",
        "T: 4.61e-04"
       ]
      },
      {
       "output_type": "stream",
       "stream": "stdout",
       "text": [
        " energy: -3.51e-01 best: -3.53e-01\n",
        "T: 4.59e-04"
       ]
      },
      {
       "output_type": "stream",
       "stream": "stdout",
       "text": [
        " energy: -3.49e-01 best: -3.53e-01\n",
        "T: 4.56e-04"
       ]
      },
      {
       "output_type": "stream",
       "stream": "stdout",
       "text": [
        " energy: -3.47e-01 best: -3.53e-01\n",
        "T: 4.54e-04"
       ]
      },
      {
       "output_type": "stream",
       "stream": "stdout",
       "text": [
        " energy: -3.49e-01 best: -3.53e-01\n",
        "T: 4.52e-04"
       ]
      },
      {
       "output_type": "stream",
       "stream": "stdout",
       "text": [
        " energy: -3.42e-01 best: -3.53e-01\n",
        "T: 4.50e-04"
       ]
      },
      {
       "output_type": "stream",
       "stream": "stdout",
       "text": [
        " energy: -3.45e-01 best: -3.53e-01\n",
        "T: 4.47e-04"
       ]
      },
      {
       "output_type": "stream",
       "stream": "stdout",
       "text": [
        " energy: -3.50e-01 best: -3.53e-01\n",
        "T: 4.45e-04"
       ]
      },
      {
       "output_type": "stream",
       "stream": "stdout",
       "text": [
        " energy: -3.48e-01 best: -3.53e-01\n",
        "T: 4.43e-04"
       ]
      },
      {
       "output_type": "stream",
       "stream": "stdout",
       "text": [
        " energy: -3.45e-01 best: -3.53e-01\n",
        "T: 4.41e-04"
       ]
      },
      {
       "output_type": "stream",
       "stream": "stdout",
       "text": [
        " energy: -3.44e-01 best: -3.53e-01\n",
        "T: 4.39e-04"
       ]
      },
      {
       "output_type": "stream",
       "stream": "stdout",
       "text": [
        " energy: -3.48e-01 best: -3.53e-01\n",
        "T: 4.36e-04"
       ]
      },
      {
       "output_type": "stream",
       "stream": "stdout",
       "text": [
        " energy: -3.48e-01 best: -3.53e-01\n",
        "T: 4.34e-04"
       ]
      },
      {
       "output_type": "stream",
       "stream": "stdout",
       "text": [
        " energy: -3.50e-01 best: -3.53e-01\n",
        "T: 4.32e-04"
       ]
      },
      {
       "output_type": "stream",
       "stream": "stdout",
       "text": [
        " energy: -3.48e-01 best: -3.53e-01\n",
        "T: 4.30e-04"
       ]
      },
      {
       "output_type": "stream",
       "stream": "stdout",
       "text": [
        " energy: -3.44e-01 best: -3.53e-01\n",
        "T: 4.28e-04"
       ]
      },
      {
       "output_type": "stream",
       "stream": "stdout",
       "text": [
        " energy: -3.43e-01 best: -3.53e-01\n",
        "T: 4.26e-04"
       ]
      },
      {
       "output_type": "stream",
       "stream": "stdout",
       "text": [
        " energy: -3.46e-01 best: -3.53e-01\n",
        "T: 4.23e-04"
       ]
      },
      {
       "output_type": "stream",
       "stream": "stdout",
       "text": [
        " energy: -3.50e-01 best: -3.53e-01\n",
        "T: 4.21e-04"
       ]
      },
      {
       "output_type": "stream",
       "stream": "stdout",
       "text": [
        " energy: -3.52e-01 best: -3.53e-01\n",
        "T: 4.19e-04"
       ]
      },
      {
       "output_type": "stream",
       "stream": "stdout",
       "text": [
        " energy: -3.48e-01 best: -3.53e-01\n",
        "T: 4.17e-04"
       ]
      },
      {
       "output_type": "stream",
       "stream": "stdout",
       "text": [
        " energy: -3.48e-01 best: -3.53e-01\n",
        "T: 4.15e-04"
       ]
      },
      {
       "output_type": "stream",
       "stream": "stdout",
       "text": [
        " energy: -3.47e-01 best: -3.53e-01\n",
        "T: 4.13e-04"
       ]
      },
      {
       "output_type": "stream",
       "stream": "stdout",
       "text": [
        " energy: -3.51e-01 best: -3.53e-01\n",
        "T: 4.11e-04"
       ]
      },
      {
       "output_type": "stream",
       "stream": "stdout",
       "text": [
        " energy: -3.47e-01 best: -3.53e-01\n",
        "T: 4.09e-04"
       ]
      },
      {
       "output_type": "stream",
       "stream": "stdout",
       "text": [
        " energy: -3.52e-01 best: -3.53e-01\n",
        "T: 4.07e-04"
       ]
      },
      {
       "output_type": "stream",
       "stream": "stdout",
       "text": [
        " energy: -3.48e-01 best: -3.53e-01\n",
        "T: 4.05e-04"
       ]
      },
      {
       "output_type": "stream",
       "stream": "stdout",
       "text": [
        " energy: -3.49e-01 best: -3.53e-01\n",
        "T: 4.03e-04"
       ]
      },
      {
       "output_type": "stream",
       "stream": "stdout",
       "text": [
        " energy: -3.49e-01 best: -3.53e-01\n",
        "T: 4.01e-04"
       ]
      },
      {
       "output_type": "stream",
       "stream": "stdout",
       "text": [
        " energy: -3.51e-01 best: -3.54e-01\n",
        "T: 3.99e-04"
       ]
      },
      {
       "output_type": "stream",
       "stream": "stdout",
       "text": [
        " energy: -3.45e-01 best: -3.54e-01\n",
        "T: 3.97e-04"
       ]
      },
      {
       "output_type": "stream",
       "stream": "stdout",
       "text": [
        " energy: -3.47e-01 best: -3.54e-01\n",
        "T: 3.95e-04"
       ]
      },
      {
       "output_type": "stream",
       "stream": "stdout",
       "text": [
        " energy: -3.50e-01 best: -3.54e-01\n",
        "T: 3.93e-04"
       ]
      },
      {
       "output_type": "stream",
       "stream": "stdout",
       "text": [
        " energy: -3.51e-01 best: -3.54e-01\n",
        "T: 3.91e-04"
       ]
      },
      {
       "output_type": "stream",
       "stream": "stdout",
       "text": [
        " energy: -3.47e-01 best: -3.54e-01\n",
        "T: 3.89e-04"
       ]
      },
      {
       "output_type": "stream",
       "stream": "stdout",
       "text": [
        " energy: -3.48e-01 best: -3.54e-01\n",
        "T: 3.87e-04"
       ]
      },
      {
       "output_type": "stream",
       "stream": "stdout",
       "text": [
        " energy: -3.49e-01 best: -3.54e-01\n",
        "T: 3.85e-04"
       ]
      },
      {
       "output_type": "stream",
       "stream": "stdout",
       "text": [
        " energy: -3.48e-01 best: -3.54e-01\n",
        "T: 3.83e-04"
       ]
      },
      {
       "output_type": "stream",
       "stream": "stdout",
       "text": [
        " energy: -3.50e-01 best: -3.54e-01\n",
        "T: 3.81e-04"
       ]
      },
      {
       "output_type": "stream",
       "stream": "stdout",
       "text": [
        " energy: -3.51e-01 best: -3.54e-01\n",
        "T: 3.79e-04"
       ]
      },
      {
       "output_type": "stream",
       "stream": "stdout",
       "text": [
        " energy: -3.47e-01 best: -3.54e-01\n",
        "T: 3.77e-04"
       ]
      },
      {
       "output_type": "stream",
       "stream": "stdout",
       "text": [
        " energy: -3.51e-01 best: -3.54e-01\n",
        "T: 3.75e-04"
       ]
      },
      {
       "output_type": "stream",
       "stream": "stdout",
       "text": [
        " energy: -3.49e-01 best: -3.54e-01\n",
        "T: 3.74e-04"
       ]
      },
      {
       "output_type": "stream",
       "stream": "stdout",
       "text": [
        " energy: -3.45e-01 best: -3.54e-01\n",
        "T: 3.72e-04"
       ]
      },
      {
       "output_type": "stream",
       "stream": "stdout",
       "text": [
        " energy: -3.50e-01 best: -3.54e-01\n",
        "T: 3.70e-04"
       ]
      },
      {
       "output_type": "stream",
       "stream": "stdout",
       "text": [
        " energy: -3.51e-01 best: -3.54e-01\n",
        "T: 3.68e-04"
       ]
      },
      {
       "output_type": "stream",
       "stream": "stdout",
       "text": [
        " energy: -3.50e-01 best: -3.54e-01\n",
        "T: 3.66e-04"
       ]
      },
      {
       "output_type": "stream",
       "stream": "stdout",
       "text": [
        " energy: -3.48e-01 best: -3.54e-01\n",
        "T: 3.64e-04"
       ]
      },
      {
       "output_type": "stream",
       "stream": "stdout",
       "text": [
        " energy: -3.50e-01 best: -3.54e-01\n",
        "T: 3.62e-04"
       ]
      },
      {
       "output_type": "stream",
       "stream": "stdout",
       "text": [
        " energy: -3.52e-01 best: -3.54e-01\n",
        "T: 3.61e-04"
       ]
      },
      {
       "output_type": "stream",
       "stream": "stdout",
       "text": [
        " energy: -3.48e-01 best: -3.54e-01\n",
        "T: 3.59e-04"
       ]
      },
      {
       "output_type": "stream",
       "stream": "stdout",
       "text": [
        " energy: -3.45e-01 best: -3.54e-01\n",
        "T: 3.57e-04"
       ]
      },
      {
       "output_type": "stream",
       "stream": "stdout",
       "text": [
        " energy: -3.47e-01 best: -3.54e-01\n",
        "T: 3.55e-04"
       ]
      },
      {
       "output_type": "stream",
       "stream": "stdout",
       "text": [
        " energy: -3.48e-01 best: -3.54e-01\n",
        "T: 3.53e-04"
       ]
      },
      {
       "output_type": "stream",
       "stream": "stdout",
       "text": [
        " energy: -3.51e-01 best: -3.54e-01\n",
        "T: 3.52e-04"
       ]
      },
      {
       "output_type": "stream",
       "stream": "stdout",
       "text": [
        " energy: -3.53e-01 best: -3.54e-01\n",
        "T: 3.50e-04"
       ]
      },
      {
       "output_type": "stream",
       "stream": "stdout",
       "text": [
        " energy: -3.47e-01 best: -3.54e-01\n",
        "T: 3.48e-04"
       ]
      },
      {
       "output_type": "stream",
       "stream": "stdout",
       "text": [
        " energy: -3.53e-01 best: -3.54e-01\n",
        "T: 3.46e-04"
       ]
      },
      {
       "output_type": "stream",
       "stream": "stdout",
       "text": [
        " energy: -3.51e-01 best: -3.54e-01\n",
        "T: 3.45e-04"
       ]
      },
      {
       "output_type": "stream",
       "stream": "stdout",
       "text": [
        " energy: -3.53e-01 best: -3.54e-01\n",
        "T: 3.43e-04"
       ]
      },
      {
       "output_type": "stream",
       "stream": "stdout",
       "text": [
        " energy: -3.49e-01 best: -3.54e-01\n",
        "T: 3.41e-04"
       ]
      },
      {
       "output_type": "stream",
       "stream": "stdout",
       "text": [
        " energy: -3.53e-01 best: -3.54e-01\n",
        "T: 3.40e-04"
       ]
      },
      {
       "output_type": "stream",
       "stream": "stdout",
       "text": [
        " energy: -3.49e-01 best: -3.54e-01\n",
        "T: 3.38e-04"
       ]
      },
      {
       "output_type": "stream",
       "stream": "stdout",
       "text": [
        " energy: -3.51e-01 best: -3.54e-01\n",
        "T: 3.36e-04"
       ]
      },
      {
       "output_type": "stream",
       "stream": "stdout",
       "text": [
        " energy: -3.50e-01 best: -3.54e-01\n",
        "T: 3.35e-04"
       ]
      },
      {
       "output_type": "stream",
       "stream": "stdout",
       "text": [
        " energy: -3.52e-01 best: -3.54e-01\n",
        "T: 3.33e-04"
       ]
      },
      {
       "output_type": "stream",
       "stream": "stdout",
       "text": [
        " energy: -3.49e-01 best: -3.54e-01\n",
        "T: 3.31e-04"
       ]
      },
      {
       "output_type": "stream",
       "stream": "stdout",
       "text": [
        " energy: -3.53e-01 best: -3.54e-01\n",
        "T: 3.30e-04"
       ]
      },
      {
       "output_type": "stream",
       "stream": "stdout",
       "text": [
        " energy: -3.50e-01 best: -3.54e-01\n",
        "T: 3.28e-04"
       ]
      },
      {
       "output_type": "stream",
       "stream": "stdout",
       "text": [
        " energy: -3.53e-01 best: -3.54e-01\n",
        "T: 3.26e-04"
       ]
      },
      {
       "output_type": "stream",
       "stream": "stdout",
       "text": [
        " energy: -3.49e-01 best: -3.54e-01\n",
        "T: 3.25e-04"
       ]
      },
      {
       "output_type": "stream",
       "stream": "stdout",
       "text": [
        " energy: -3.51e-01 best: -3.54e-01\n",
        "T: 3.23e-04"
       ]
      },
      {
       "output_type": "stream",
       "stream": "stdout",
       "text": [
        " energy: -3.50e-01 best: -3.54e-01\n",
        "T: 3.21e-04"
       ]
      },
      {
       "output_type": "stream",
       "stream": "stdout",
       "text": [
        " energy: -3.53e-01 best: -3.54e-01\n",
        "T: 3.20e-04"
       ]
      },
      {
       "output_type": "stream",
       "stream": "stdout",
       "text": [
        " energy: -3.51e-01 best: -3.54e-01\n",
        "T: 3.18e-04"
       ]
      },
      {
       "output_type": "stream",
       "stream": "stdout",
       "text": [
        " energy: -3.52e-01 best: -3.54e-01\n",
        "T: 3.17e-04"
       ]
      },
      {
       "output_type": "stream",
       "stream": "stdout",
       "text": [
        " energy: -3.50e-01 best: -3.54e-01\n",
        "T: 3.15e-04"
       ]
      },
      {
       "output_type": "stream",
       "stream": "stdout",
       "text": [
        " energy: -3.52e-01 best: -3.54e-01\n",
        "T: 3.13e-04"
       ]
      },
      {
       "output_type": "stream",
       "stream": "stdout",
       "text": [
        " energy: -3.53e-01 best: -3.54e-01\n",
        "T: 3.12e-04"
       ]
      },
      {
       "output_type": "stream",
       "stream": "stdout",
       "text": [
        " energy: -3.50e-01 best: -3.54e-01\n",
        "T: 3.10e-04"
       ]
      },
      {
       "output_type": "stream",
       "stream": "stdout",
       "text": [
        " energy: -3.49e-01 best: -3.54e-01\n",
        "T: 3.09e-04"
       ]
      },
      {
       "output_type": "stream",
       "stream": "stdout",
       "text": [
        " energy: -3.51e-01 best: -3.54e-01\n",
        "T: 3.07e-04"
       ]
      },
      {
       "output_type": "stream",
       "stream": "stdout",
       "text": [
        " energy: -3.52e-01 best: -3.54e-01\n",
        "T: 3.06e-04"
       ]
      },
      {
       "output_type": "stream",
       "stream": "stdout",
       "text": [
        " energy: -3.52e-01 best: -3.54e-01\n",
        "T: 3.04e-04"
       ]
      },
      {
       "output_type": "stream",
       "stream": "stdout",
       "text": [
        " energy: -3.52e-01 best: -3.54e-01\n",
        "T: 3.03e-04"
       ]
      },
      {
       "output_type": "stream",
       "stream": "stdout",
       "text": [
        " energy: -3.52e-01 best: -3.54e-01\n",
        "T: 3.01e-04"
       ]
      },
      {
       "output_type": "stream",
       "stream": "stdout",
       "text": [
        " energy: -3.53e-01 best: -3.55e-01\n",
        "T: 3.00e-04"
       ]
      },
      {
       "output_type": "stream",
       "stream": "stdout",
       "text": [
        " energy: -3.52e-01 best: -3.55e-01\n",
        "T: 2.98e-04"
       ]
      },
      {
       "output_type": "stream",
       "stream": "stdout",
       "text": [
        " energy: -3.52e-01 best: -3.55e-01\n",
        "T: 2.97e-04"
       ]
      },
      {
       "output_type": "stream",
       "stream": "stdout",
       "text": [
        " energy: -3.51e-01 best: -3.55e-01\n",
        "T: 2.95e-04"
       ]
      },
      {
       "output_type": "stream",
       "stream": "stdout",
       "text": [
        " energy: -3.53e-01 best: -3.55e-01\n",
        "T: 2.94e-04"
       ]
      },
      {
       "output_type": "stream",
       "stream": "stdout",
       "text": [
        " energy: -3.53e-01 best: -3.55e-01\n",
        "T: 2.92e-04"
       ]
      },
      {
       "output_type": "stream",
       "stream": "stdout",
       "text": [
        " energy: -3.55e-01 best: -3.55e-01\n",
        "T: 2.91e-04"
       ]
      },
      {
       "output_type": "stream",
       "stream": "stdout",
       "text": [
        " energy: -3.51e-01 best: -3.55e-01\n",
        "T: 2.89e-04"
       ]
      },
      {
       "output_type": "stream",
       "stream": "stdout",
       "text": [
        " energy: -3.54e-01 best: -3.55e-01\n",
        "T: 2.88e-04"
       ]
      },
      {
       "output_type": "stream",
       "stream": "stdout",
       "text": [
        " energy: -3.49e-01 best: -3.55e-01\n",
        "T: 2.86e-04"
       ]
      },
      {
       "output_type": "stream",
       "stream": "stdout",
       "text": [
        " energy: -3.52e-01 best: -3.55e-01\n",
        "T: 2.85e-04"
       ]
      },
      {
       "output_type": "stream",
       "stream": "stdout",
       "text": [
        " energy: -3.53e-01 best: -3.55e-01\n",
        "T: 2.84e-04"
       ]
      },
      {
       "output_type": "stream",
       "stream": "stdout",
       "text": [
        " energy: -3.52e-01 best: -3.55e-01\n",
        "T: 2.82e-04"
       ]
      },
      {
       "output_type": "stream",
       "stream": "stdout",
       "text": [
        " energy: -3.52e-01 best: -3.55e-01\n",
        "T: 2.81e-04"
       ]
      },
      {
       "output_type": "stream",
       "stream": "stdout",
       "text": [
        " energy: -3.52e-01 best: -3.55e-01\n",
        "T: 2.79e-04"
       ]
      },
      {
       "output_type": "stream",
       "stream": "stdout",
       "text": [
        " energy: -3.51e-01 best: -3.55e-01\n",
        "T: 2.78e-04"
       ]
      },
      {
       "output_type": "stream",
       "stream": "stdout",
       "text": [
        " energy: -3.53e-01 best: -3.55e-01\n",
        "T: 2.77e-04"
       ]
      },
      {
       "output_type": "stream",
       "stream": "stdout",
       "text": [
        " energy: -3.54e-01 best: -3.55e-01\n",
        "T: 2.75e-04"
       ]
      },
      {
       "output_type": "stream",
       "stream": "stdout",
       "text": [
        " energy: -3.54e-01 best: -3.55e-01\n",
        "T: 2.74e-04"
       ]
      },
      {
       "output_type": "stream",
       "stream": "stdout",
       "text": [
        " energy: -3.53e-01 best: -3.55e-01\n",
        "T: 2.72e-04"
       ]
      },
      {
       "output_type": "stream",
       "stream": "stdout",
       "text": [
        " energy: -3.51e-01 best: -3.55e-01\n",
        "T: 2.71e-04"
       ]
      },
      {
       "output_type": "stream",
       "stream": "stdout",
       "text": [
        " energy: -3.52e-01 best: -3.55e-01\n",
        "T: 2.70e-04"
       ]
      },
      {
       "output_type": "stream",
       "stream": "stdout",
       "text": [
        " energy: -3.52e-01 best: -3.55e-01\n",
        "T: 2.68e-04"
       ]
      },
      {
       "output_type": "stream",
       "stream": "stdout",
       "text": [
        " energy: -3.51e-01 best: -3.55e-01\n",
        "T: 2.67e-04"
       ]
      },
      {
       "output_type": "stream",
       "stream": "stdout",
       "text": [
        " energy: -3.53e-01 best: -3.55e-01\n",
        "T: 2.66e-04"
       ]
      },
      {
       "output_type": "stream",
       "stream": "stdout",
       "text": [
        " energy: -3.52e-01 best: -3.55e-01\n",
        "T: 2.64e-04"
       ]
      },
      {
       "output_type": "stream",
       "stream": "stdout",
       "text": [
        " energy: -3.52e-01 best: -3.55e-01\n",
        "T: 2.63e-04"
       ]
      },
      {
       "output_type": "stream",
       "stream": "stdout",
       "text": [
        " energy: -3.54e-01 best: -3.55e-01\n",
        "T: 2.62e-04"
       ]
      },
      {
       "output_type": "stream",
       "stream": "stdout",
       "text": [
        " energy: -3.54e-01 best: -3.55e-01\n",
        "T: 2.60e-04"
       ]
      },
      {
       "output_type": "stream",
       "stream": "stdout",
       "text": [
        " energy: -3.53e-01 best: -3.55e-01\n",
        "T: 2.59e-04"
       ]
      },
      {
       "output_type": "stream",
       "stream": "stdout",
       "text": [
        " energy: -3.53e-01 best: -3.55e-01\n",
        "T: 2.58e-04"
       ]
      },
      {
       "output_type": "stream",
       "stream": "stdout",
       "text": [
        " energy: -3.53e-01 best: -3.55e-01\n",
        "T: 2.56e-04"
       ]
      },
      {
       "output_type": "stream",
       "stream": "stdout",
       "text": [
        " energy: -3.53e-01 best: -3.55e-01\n",
        "T: 2.55e-04"
       ]
      },
      {
       "output_type": "stream",
       "stream": "stdout",
       "text": [
        " energy: -3.52e-01 best: -3.55e-01\n",
        "T: 2.54e-04"
       ]
      },
      {
       "output_type": "stream",
       "stream": "stdout",
       "text": [
        " energy: -3.53e-01 best: -3.55e-01\n",
        "T: 2.53e-04"
       ]
      },
      {
       "output_type": "stream",
       "stream": "stdout",
       "text": [
        " energy: -3.52e-01 best: -3.55e-01\n",
        "T: 2.51e-04"
       ]
      },
      {
       "output_type": "stream",
       "stream": "stdout",
       "text": [
        " energy: -3.54e-01 best: -3.55e-01\n",
        "T: 2.50e-04"
       ]
      },
      {
       "output_type": "stream",
       "stream": "stdout",
       "text": [
        " energy: -3.53e-01 best: -3.55e-01\n",
        "T: 2.49e-04"
       ]
      },
      {
       "output_type": "stream",
       "stream": "stdout",
       "text": [
        " energy: -3.53e-01 best: -3.55e-01\n",
        "T: 2.48e-04"
       ]
      },
      {
       "output_type": "stream",
       "stream": "stdout",
       "text": [
        " energy: -3.54e-01 best: -3.55e-01\n",
        "T: 2.46e-04"
       ]
      },
      {
       "output_type": "stream",
       "stream": "stdout",
       "text": [
        " energy: -3.54e-01 best: -3.55e-01\n",
        "T: 2.45e-04"
       ]
      },
      {
       "output_type": "stream",
       "stream": "stdout",
       "text": [
        " energy: -3.51e-01 best: -3.55e-01\n",
        "T: 2.44e-04"
       ]
      },
      {
       "output_type": "stream",
       "stream": "stdout",
       "text": [
        " energy: -3.52e-01 best: -3.55e-01\n",
        "T: 2.43e-04"
       ]
      },
      {
       "output_type": "stream",
       "stream": "stdout",
       "text": [
        " energy: -3.54e-01 best: -3.55e-01\n",
        "T: 2.42e-04"
       ]
      },
      {
       "output_type": "stream",
       "stream": "stdout",
       "text": [
        " energy: -3.53e-01 best: -3.55e-01\n",
        "T: 2.40e-04"
       ]
      },
      {
       "output_type": "stream",
       "stream": "stdout",
       "text": [
        " energy: -3.54e-01 best: -3.55e-01\n",
        "T: 2.39e-04"
       ]
      },
      {
       "output_type": "stream",
       "stream": "stdout",
       "text": [
        " energy: -3.53e-01 best: -3.55e-01\n",
        "T: 2.38e-04"
       ]
      },
      {
       "output_type": "stream",
       "stream": "stdout",
       "text": [
        " energy: -3.52e-01 best: -3.55e-01\n",
        "T: 2.37e-04"
       ]
      },
      {
       "output_type": "stream",
       "stream": "stdout",
       "text": [
        " energy: -3.53e-01 best: -3.55e-01\n",
        "T: 2.36e-04"
       ]
      },
      {
       "output_type": "stream",
       "stream": "stdout",
       "text": [
        " energy: -3.54e-01 best: -3.55e-01\n",
        "T: 2.34e-04"
       ]
      },
      {
       "output_type": "stream",
       "stream": "stdout",
       "text": [
        " energy: -3.54e-01 best: -3.55e-01\n",
        "T: 2.33e-04"
       ]
      },
      {
       "output_type": "stream",
       "stream": "stdout",
       "text": [
        " energy: -3.53e-01 best: -3.55e-01\n",
        "T: 2.32e-04"
       ]
      },
      {
       "output_type": "stream",
       "stream": "stdout",
       "text": [
        " energy: -3.53e-01 best: -3.55e-01\n",
        "T: 2.31e-04"
       ]
      },
      {
       "output_type": "stream",
       "stream": "stdout",
       "text": [
        " energy: -3.54e-01 best: -3.55e-01\n",
        "T: 2.30e-04"
       ]
      },
      {
       "output_type": "stream",
       "stream": "stdout",
       "text": [
        " energy: -3.52e-01 best: -3.55e-01\n",
        "T: 2.29e-04"
       ]
      },
      {
       "output_type": "stream",
       "stream": "stdout",
       "text": [
        " energy: -3.54e-01 best: -3.55e-01\n",
        "T: 2.27e-04"
       ]
      },
      {
       "output_type": "stream",
       "stream": "stdout",
       "text": [
        " energy: -3.54e-01 best: -3.55e-01\n",
        "T: 2.26e-04"
       ]
      },
      {
       "output_type": "stream",
       "stream": "stdout",
       "text": [
        " energy: -3.54e-01 best: -3.55e-01\n",
        "T: 2.25e-04"
       ]
      },
      {
       "output_type": "stream",
       "stream": "stdout",
       "text": [
        " energy: -3.53e-01 best: -3.55e-01\n",
        "T: 2.24e-04"
       ]
      },
      {
       "output_type": "stream",
       "stream": "stdout",
       "text": [
        " energy: -3.54e-01 best: -3.55e-01\n",
        "T: 2.23e-04"
       ]
      },
      {
       "output_type": "stream",
       "stream": "stdout",
       "text": [
        " energy: -3.54e-01 best: -3.55e-01\n",
        "T: 2.22e-04"
       ]
      },
      {
       "output_type": "stream",
       "stream": "stdout",
       "text": [
        " energy: -3.54e-01 best: -3.55e-01\n",
        "T: 2.21e-04"
       ]
      },
      {
       "output_type": "stream",
       "stream": "stdout",
       "text": [
        " energy: -3.54e-01 best: -3.55e-01\n",
        "T: 2.20e-04"
       ]
      },
      {
       "output_type": "stream",
       "stream": "stdout",
       "text": [
        " energy: -3.54e-01 best: -3.55e-01\n",
        "T: 2.18e-04"
       ]
      },
      {
       "output_type": "stream",
       "stream": "stdout",
       "text": [
        " energy: -3.54e-01 best: -3.55e-01\n",
        "T: 2.17e-04"
       ]
      },
      {
       "output_type": "stream",
       "stream": "stdout",
       "text": [
        " energy: -3.53e-01 best: -3.55e-01\n",
        "T: 2.16e-04"
       ]
      },
      {
       "output_type": "stream",
       "stream": "stdout",
       "text": [
        " energy: -3.54e-01 best: -3.55e-01\n",
        "T: 2.15e-04"
       ]
      },
      {
       "output_type": "stream",
       "stream": "stdout",
       "text": [
        " energy: -3.54e-01 best: -3.55e-01\n",
        "T: 2.14e-04"
       ]
      },
      {
       "output_type": "stream",
       "stream": "stdout",
       "text": [
        " energy: -3.53e-01 best: -3.55e-01\n",
        "T: 2.13e-04"
       ]
      },
      {
       "output_type": "stream",
       "stream": "stdout",
       "text": [
        " energy: -3.53e-01 best: -3.55e-01\n",
        "T: 2.12e-04"
       ]
      },
      {
       "output_type": "stream",
       "stream": "stdout",
       "text": [
        " energy: -3.53e-01 best: -3.55e-01\n",
        "T: 2.11e-04"
       ]
      },
      {
       "output_type": "stream",
       "stream": "stdout",
       "text": [
        " energy: -3.54e-01 best: -3.55e-01\n",
        "T: 2.10e-04"
       ]
      },
      {
       "output_type": "stream",
       "stream": "stdout",
       "text": [
        " energy: -3.54e-01 best: -3.55e-01\n",
        "T: 2.09e-04"
       ]
      },
      {
       "output_type": "stream",
       "stream": "stdout",
       "text": [
        " energy: -3.55e-01 best: -3.55e-01\n",
        "T: 2.08e-04"
       ]
      },
      {
       "output_type": "stream",
       "stream": "stdout",
       "text": [
        " energy: -3.54e-01 best: -3.55e-01\n",
        "T: 2.07e-04"
       ]
      },
      {
       "output_type": "stream",
       "stream": "stdout",
       "text": [
        " energy: -3.54e-01 best: -3.55e-01\n",
        "T: 2.06e-04"
       ]
      },
      {
       "output_type": "stream",
       "stream": "stdout",
       "text": [
        " energy: -3.52e-01 best: -3.55e-01\n",
        "T: 2.05e-04"
       ]
      },
      {
       "output_type": "stream",
       "stream": "stdout",
       "text": [
        " energy: -3.53e-01 best: -3.55e-01\n",
        "T: 2.04e-04"
       ]
      },
      {
       "output_type": "stream",
       "stream": "stdout",
       "text": [
        " energy: -3.53e-01 best: -3.55e-01\n",
        "T: 2.03e-04"
       ]
      },
      {
       "output_type": "stream",
       "stream": "stdout",
       "text": [
        " energy: -3.54e-01 best: -3.55e-01\n",
        "T: 2.02e-04"
       ]
      },
      {
       "output_type": "stream",
       "stream": "stdout",
       "text": [
        " energy: -3.55e-01 best: -3.55e-01\n",
        "T: 2.01e-04"
       ]
      },
      {
       "output_type": "stream",
       "stream": "stdout",
       "text": [
        " energy: -3.53e-01 best: -3.55e-01\n",
        "T: 2.00e-04"
       ]
      },
      {
       "output_type": "stream",
       "stream": "stdout",
       "text": [
        " energy: -3.53e-01 best: -3.55e-01\n",
        "T: 1.99e-04"
       ]
      },
      {
       "output_type": "stream",
       "stream": "stdout",
       "text": [
        " energy: -3.54e-01 best: -3.55e-01\n",
        "T: 1.98e-04"
       ]
      },
      {
       "output_type": "stream",
       "stream": "stdout",
       "text": [
        " energy: -3.54e-01 best: -3.55e-01\n",
        "T: 1.97e-04"
       ]
      },
      {
       "output_type": "stream",
       "stream": "stdout",
       "text": [
        " energy: -3.55e-01 best: -3.55e-01\n",
        "T: 1.96e-04"
       ]
      },
      {
       "output_type": "stream",
       "stream": "stdout",
       "text": [
        " energy: -3.53e-01 best: -3.55e-01\n",
        "T: 1.95e-04"
       ]
      },
      {
       "output_type": "stream",
       "stream": "stdout",
       "text": [
        " energy: -3.52e-01 best: -3.55e-01\n",
        "T: 1.94e-04"
       ]
      },
      {
       "output_type": "stream",
       "stream": "stdout",
       "text": [
        " energy: -3.53e-01 best: -3.55e-01\n",
        "T: 1.93e-04"
       ]
      },
      {
       "output_type": "stream",
       "stream": "stdout",
       "text": [
        " energy: -3.53e-01 best: -3.55e-01\n",
        "T: 1.92e-04"
       ]
      },
      {
       "output_type": "stream",
       "stream": "stdout",
       "text": [
        " energy: -3.54e-01 best: -3.55e-01\n",
        "T: 1.91e-04"
       ]
      },
      {
       "output_type": "stream",
       "stream": "stdout",
       "text": [
        " energy: -3.53e-01 best: -3.55e-01\n",
        "T: 1.90e-04"
       ]
      },
      {
       "output_type": "stream",
       "stream": "stdout",
       "text": [
        " energy: -3.54e-01 best: -3.55e-01\n",
        "T: 1.89e-04"
       ]
      },
      {
       "output_type": "stream",
       "stream": "stdout",
       "text": [
        " energy: -3.54e-01 best: -3.55e-01\n",
        "T: 1.88e-04"
       ]
      },
      {
       "output_type": "stream",
       "stream": "stdout",
       "text": [
        " energy: -3.54e-01 best: -3.55e-01\n",
        "T: 1.87e-04"
       ]
      },
      {
       "output_type": "stream",
       "stream": "stdout",
       "text": [
        " energy: -3.54e-01 best: -3.55e-01\n",
        "T: 1.86e-04"
       ]
      },
      {
       "output_type": "stream",
       "stream": "stdout",
       "text": [
        " energy: -3.54e-01 best: -3.55e-01\n",
        "T: 1.85e-04"
       ]
      },
      {
       "output_type": "stream",
       "stream": "stdout",
       "text": [
        " energy: -3.55e-01 best: -3.55e-01\n",
        "T: 1.84e-04"
       ]
      },
      {
       "output_type": "stream",
       "stream": "stdout",
       "text": [
        " energy: -3.54e-01 best: -3.55e-01\n",
        "T: 1.83e-04"
       ]
      },
      {
       "output_type": "stream",
       "stream": "stdout",
       "text": [
        " energy: -3.53e-01 best: -3.55e-01\n",
        "T: 1.82e-04"
       ]
      },
      {
       "output_type": "stream",
       "stream": "stdout",
       "text": [
        " energy: -3.54e-01 best: -3.55e-01\n",
        "T: 1.81e-04"
       ]
      },
      {
       "output_type": "stream",
       "stream": "stdout",
       "text": [
        " energy: -3.54e-01 best: -3.55e-01\n",
        "T: 1.81e-04"
       ]
      },
      {
       "output_type": "stream",
       "stream": "stdout",
       "text": [
        " energy: -3.55e-01 best: -3.55e-01\n",
        "T: 1.80e-04"
       ]
      },
      {
       "output_type": "stream",
       "stream": "stdout",
       "text": [
        " energy: -3.54e-01 best: -3.55e-01\n",
        "T: 1.79e-04"
       ]
      },
      {
       "output_type": "stream",
       "stream": "stdout",
       "text": [
        " energy: -3.54e-01 best: -3.55e-01\n",
        "T: 1.78e-04"
       ]
      },
      {
       "output_type": "stream",
       "stream": "stdout",
       "text": [
        " energy: -3.54e-01 best: -3.55e-01\n",
        "T: 1.77e-04"
       ]
      },
      {
       "output_type": "stream",
       "stream": "stdout",
       "text": [
        " energy: -3.53e-01 best: -3.55e-01\n",
        "T: 1.76e-04"
       ]
      },
      {
       "output_type": "stream",
       "stream": "stdout",
       "text": [
        " energy: -3.54e-01 best: -3.55e-01\n",
        "T: 1.75e-04"
       ]
      },
      {
       "output_type": "stream",
       "stream": "stdout",
       "text": [
        " energy: -3.54e-01 best: -3.55e-01\n",
        "T: 1.74e-04"
       ]
      },
      {
       "output_type": "stream",
       "stream": "stdout",
       "text": [
        " energy: -3.54e-01 best: -3.55e-01\n",
        "T: 1.73e-04"
       ]
      },
      {
       "output_type": "stream",
       "stream": "stdout",
       "text": [
        " energy: -3.54e-01 best: -3.55e-01\n",
        "T: 1.73e-04"
       ]
      },
      {
       "output_type": "stream",
       "stream": "stdout",
       "text": [
        " energy: -3.55e-01 best: -3.55e-01\n",
        "T: 1.72e-04"
       ]
      },
      {
       "output_type": "stream",
       "stream": "stdout",
       "text": [
        " energy: -3.54e-01 best: -3.55e-01\n",
        "T: 1.71e-04"
       ]
      },
      {
       "output_type": "stream",
       "stream": "stdout",
       "text": [
        " energy: -3.54e-01 best: -3.55e-01\n",
        "T: 1.70e-04"
       ]
      },
      {
       "output_type": "stream",
       "stream": "stdout",
       "text": [
        " energy: -3.53e-01 best: -3.55e-01\n",
        "T: 1.69e-04"
       ]
      },
      {
       "output_type": "stream",
       "stream": "stdout",
       "text": [
        " energy: -3.54e-01 best: -3.55e-01\n",
        "T: 1.68e-04"
       ]
      },
      {
       "output_type": "stream",
       "stream": "stdout",
       "text": [
        " energy: -3.54e-01 best: -3.55e-01\n",
        "T: 1.68e-04"
       ]
      },
      {
       "output_type": "stream",
       "stream": "stdout",
       "text": [
        " energy: -3.55e-01 best: -3.55e-01\n",
        "T: 1.67e-04"
       ]
      },
      {
       "output_type": "stream",
       "stream": "stdout",
       "text": [
        " energy: -3.55e-01 best: -3.55e-01\n",
        "T: 1.66e-04"
       ]
      },
      {
       "output_type": "stream",
       "stream": "stdout",
       "text": [
        " energy: -3.55e-01 best: -3.55e-01\n",
        "T: 1.65e-04"
       ]
      },
      {
       "output_type": "stream",
       "stream": "stdout",
       "text": [
        " energy: -3.55e-01 best: -3.55e-01\n",
        "T: 1.64e-04"
       ]
      },
      {
       "output_type": "stream",
       "stream": "stdout",
       "text": [
        " energy: -3.54e-01 best: -3.55e-01\n",
        "T: 1.63e-04"
       ]
      },
      {
       "output_type": "stream",
       "stream": "stdout",
       "text": [
        " energy: -3.54e-01 best: -3.55e-01\n",
        "T: 1.63e-04"
       ]
      },
      {
       "output_type": "stream",
       "stream": "stdout",
       "text": [
        " energy: -3.54e-01 best: -3.55e-01\n",
        "T: 1.62e-04"
       ]
      },
      {
       "output_type": "stream",
       "stream": "stdout",
       "text": [
        " energy: -3.54e-01 best: -3.55e-01\n",
        "T: 1.61e-04"
       ]
      },
      {
       "output_type": "stream",
       "stream": "stdout",
       "text": [
        " energy: -3.54e-01 best: -3.55e-01\n",
        "T: 1.60e-04"
       ]
      },
      {
       "output_type": "stream",
       "stream": "stdout",
       "text": [
        " energy: -3.54e-01 best: -3.55e-01\n",
        "T: 1.59e-04"
       ]
      },
      {
       "output_type": "stream",
       "stream": "stdout",
       "text": [
        " energy: -3.54e-01 best: -3.55e-01\n",
        "T: 1.59e-04"
       ]
      },
      {
       "output_type": "stream",
       "stream": "stdout",
       "text": [
        " energy: -3.55e-01 best: -3.55e-01\n",
        "T: 1.58e-04"
       ]
      },
      {
       "output_type": "stream",
       "stream": "stdout",
       "text": [
        " energy: -3.54e-01 best: -3.55e-01\n",
        "T: 1.57e-04"
       ]
      },
      {
       "output_type": "stream",
       "stream": "stdout",
       "text": [
        " energy: -3.54e-01 best: -3.55e-01\n",
        "T: 1.56e-04"
       ]
      },
      {
       "output_type": "stream",
       "stream": "stdout",
       "text": [
        " energy: -3.55e-01 best: -3.55e-01\n",
        "T: 1.55e-04"
       ]
      },
      {
       "output_type": "stream",
       "stream": "stdout",
       "text": [
        " energy: -3.55e-01 best: -3.55e-01\n",
        "T: 1.55e-04"
       ]
      },
      {
       "output_type": "stream",
       "stream": "stdout",
       "text": [
        " energy: -3.53e-01 best: -3.55e-01\n",
        "T: 1.54e-04"
       ]
      },
      {
       "output_type": "stream",
       "stream": "stdout",
       "text": [
        " energy: -3.54e-01 best: -3.55e-01\n",
        "T: 1.53e-04"
       ]
      },
      {
       "output_type": "stream",
       "stream": "stdout",
       "text": [
        " energy: -3.54e-01 best: -3.55e-01\n",
        "T: 1.52e-04"
       ]
      },
      {
       "output_type": "stream",
       "stream": "stdout",
       "text": [
        " energy: -3.55e-01 best: -3.55e-01\n",
        "T: 1.52e-04"
       ]
      },
      {
       "output_type": "stream",
       "stream": "stdout",
       "text": [
        " energy: -3.54e-01 best: -3.55e-01\n",
        "T: 1.51e-04"
       ]
      },
      {
       "output_type": "stream",
       "stream": "stdout",
       "text": [
        " energy: -3.55e-01 best: -3.55e-01\n",
        "T: 1.50e-04"
       ]
      },
      {
       "output_type": "stream",
       "stream": "stdout",
       "text": [
        " energy: -3.55e-01 best: -3.55e-01\n",
        "T: 1.49e-04"
       ]
      },
      {
       "output_type": "stream",
       "stream": "stdout",
       "text": [
        " energy: -3.55e-01 best: -3.55e-01\n",
        "T: 1.49e-04"
       ]
      },
      {
       "output_type": "stream",
       "stream": "stdout",
       "text": [
        " energy: -3.55e-01 best: -3.55e-01\n",
        "T: 1.48e-04"
       ]
      },
      {
       "output_type": "stream",
       "stream": "stdout",
       "text": [
        " energy: -3.55e-01 best: -3.55e-01\n",
        "T: 1.47e-04"
       ]
      },
      {
       "output_type": "stream",
       "stream": "stdout",
       "text": [
        " energy: -3.54e-01 best: -3.55e-01\n",
        "T: 1.46e-04"
       ]
      },
      {
       "output_type": "stream",
       "stream": "stdout",
       "text": [
        " energy: -3.55e-01 best: -3.55e-01\n",
        "T: 1.46e-04"
       ]
      },
      {
       "output_type": "stream",
       "stream": "stdout",
       "text": [
        " energy: -3.54e-01 best: -3.55e-01\n",
        "T: 1.45e-04"
       ]
      },
      {
       "output_type": "stream",
       "stream": "stdout",
       "text": [
        " energy: -3.55e-01 best: -3.55e-01\n",
        "T: 1.44e-04"
       ]
      },
      {
       "output_type": "stream",
       "stream": "stdout",
       "text": [
        " energy: -3.55e-01 best: -3.55e-01\n",
        "T: 1.43e-04"
       ]
      },
      {
       "output_type": "stream",
       "stream": "stdout",
       "text": [
        " energy: -3.55e-01 best: -3.55e-01\n",
        "T: 1.43e-04"
       ]
      },
      {
       "output_type": "stream",
       "stream": "stdout",
       "text": [
        " energy: -3.55e-01 best: -3.55e-01\n",
        "T: 1.42e-04"
       ]
      },
      {
       "output_type": "stream",
       "stream": "stdout",
       "text": [
        " energy: -3.55e-01 best: -3.55e-01\n",
        "T: 1.41e-04"
       ]
      },
      {
       "output_type": "stream",
       "stream": "stdout",
       "text": [
        " energy: -3.54e-01 best: -3.55e-01\n",
        "T: 1.41e-04"
       ]
      },
      {
       "output_type": "stream",
       "stream": "stdout",
       "text": [
        " energy: -3.54e-01 best: -3.55e-01\n",
        "T: 1.40e-04"
       ]
      },
      {
       "output_type": "stream",
       "stream": "stdout",
       "text": [
        " energy: -3.54e-01 best: -3.55e-01\n",
        "T: 1.39e-04"
       ]
      },
      {
       "output_type": "stream",
       "stream": "stdout",
       "text": [
        " energy: -3.54e-01 best: -3.55e-01\n",
        "T: 1.38e-04"
       ]
      },
      {
       "output_type": "stream",
       "stream": "stdout",
       "text": [
        " energy: -3.55e-01 best: -3.55e-01\n",
        "T: 1.38e-04"
       ]
      },
      {
       "output_type": "stream",
       "stream": "stdout",
       "text": [
        " energy: -3.55e-01 best: -3.55e-01\n",
        "T: 1.37e-04"
       ]
      },
      {
       "output_type": "stream",
       "stream": "stdout",
       "text": [
        " energy: -3.55e-01 best: -3.55e-01\n",
        "T: 1.36e-04"
       ]
      },
      {
       "output_type": "stream",
       "stream": "stdout",
       "text": [
        " energy: -3.55e-01 best: -3.55e-01\n",
        "T: 1.36e-04"
       ]
      },
      {
       "output_type": "stream",
       "stream": "stdout",
       "text": [
        " energy: -3.54e-01 best: -3.55e-01\n",
        "T: 1.35e-04"
       ]
      },
      {
       "output_type": "stream",
       "stream": "stdout",
       "text": [
        " energy: -3.53e-01 best: -3.55e-01\n",
        "T: 1.34e-04"
       ]
      },
      {
       "output_type": "stream",
       "stream": "stdout",
       "text": [
        " energy: -3.55e-01 best: -3.55e-01\n",
        "T: 1.34e-04"
       ]
      },
      {
       "output_type": "stream",
       "stream": "stdout",
       "text": [
        " energy: -3.55e-01 best: -3.55e-01\n",
        "T: 1.33e-04"
       ]
      },
      {
       "output_type": "stream",
       "stream": "stdout",
       "text": [
        " energy: -3.55e-01 best: -3.55e-01\n",
        "T: 1.32e-04"
       ]
      },
      {
       "output_type": "stream",
       "stream": "stdout",
       "text": [
        " energy: -3.55e-01 best: -3.55e-01\n",
        "T: 1.32e-04"
       ]
      },
      {
       "output_type": "stream",
       "stream": "stdout",
       "text": [
        " energy: -3.54e-01 best: -3.55e-01\n",
        "T: 1.31e-04"
       ]
      },
      {
       "output_type": "stream",
       "stream": "stdout",
       "text": [
        " energy: -3.55e-01 best: -3.55e-01\n",
        "T: 1.30e-04"
       ]
      },
      {
       "output_type": "stream",
       "stream": "stdout",
       "text": [
        " energy: -3.55e-01 best: -3.55e-01\n",
        "T: 1.30e-04"
       ]
      },
      {
       "output_type": "stream",
       "stream": "stdout",
       "text": [
        " energy: -3.54e-01 best: -3.55e-01\n",
        "T: 1.29e-04"
       ]
      },
      {
       "output_type": "stream",
       "stream": "stdout",
       "text": [
        " energy: -3.55e-01 best: -3.55e-01\n",
        "T: 1.28e-04"
       ]
      },
      {
       "output_type": "stream",
       "stream": "stdout",
       "text": [
        " energy: -3.54e-01 best: -3.55e-01\n",
        "T: 1.28e-04"
       ]
      },
      {
       "output_type": "stream",
       "stream": "stdout",
       "text": [
        " energy: -3.55e-01 best: -3.55e-01\n",
        "T: 1.27e-04"
       ]
      },
      {
       "output_type": "stream",
       "stream": "stdout",
       "text": [
        " energy: -3.55e-01 best: -3.55e-01\n",
        "T: 1.27e-04"
       ]
      },
      {
       "output_type": "stream",
       "stream": "stdout",
       "text": [
        " energy: -3.54e-01 best: -3.55e-01\n",
        "T: 1.26e-04"
       ]
      },
      {
       "output_type": "stream",
       "stream": "stdout",
       "text": [
        " energy: -3.54e-01 best: -3.55e-01\n",
        "T: 1.25e-04"
       ]
      },
      {
       "output_type": "stream",
       "stream": "stdout",
       "text": [
        " energy: -3.54e-01 best: -3.55e-01\n",
        "T: 1.25e-04"
       ]
      },
      {
       "output_type": "stream",
       "stream": "stdout",
       "text": [
        " energy: -3.54e-01 best: -3.55e-01\n",
        "T: 1.24e-04"
       ]
      },
      {
       "output_type": "stream",
       "stream": "stdout",
       "text": [
        " energy: -3.55e-01 best: -3.55e-01\n",
        "T: 1.23e-04"
       ]
      },
      {
       "output_type": "stream",
       "stream": "stdout",
       "text": [
        " energy: -3.54e-01 best: -3.55e-01\n",
        "T: 1.23e-04"
       ]
      },
      {
       "output_type": "stream",
       "stream": "stdout",
       "text": [
        " energy: -3.55e-01 best: -3.55e-01\n",
        "T: 1.22e-04"
       ]
      },
      {
       "output_type": "stream",
       "stream": "stdout",
       "text": [
        " energy: -3.54e-01 best: -3.55e-01\n",
        "T: 1.22e-04"
       ]
      },
      {
       "output_type": "stream",
       "stream": "stdout",
       "text": [
        " energy: -3.54e-01 best: -3.55e-01\n",
        "T: 1.21e-04"
       ]
      },
      {
       "output_type": "stream",
       "stream": "stdout",
       "text": [
        " energy: -3.55e-01 best: -3.55e-01\n",
        "T: 1.20e-04"
       ]
      },
      {
       "output_type": "stream",
       "stream": "stdout",
       "text": [
        " energy: -3.55e-01 best: -3.55e-01\n",
        "T: 1.20e-04"
       ]
      },
      {
       "output_type": "stream",
       "stream": "stdout",
       "text": [
        " energy: -3.54e-01 best: -3.55e-01\n",
        "T: 1.19e-04"
       ]
      },
      {
       "output_type": "stream",
       "stream": "stdout",
       "text": [
        " energy: -3.54e-01 best: -3.55e-01\n",
        "T: 1.19e-04"
       ]
      },
      {
       "output_type": "stream",
       "stream": "stdout",
       "text": [
        " energy: -3.54e-01 best: -3.55e-01\n",
        "T: 1.18e-04"
       ]
      },
      {
       "output_type": "stream",
       "stream": "stdout",
       "text": [
        " energy: -3.55e-01 best: -3.55e-01\n",
        "T: 1.17e-04"
       ]
      },
      {
       "output_type": "stream",
       "stream": "stdout",
       "text": [
        " energy: -3.55e-01 best: -3.55e-01\n",
        "T: 1.17e-04"
       ]
      },
      {
       "output_type": "stream",
       "stream": "stdout",
       "text": [
        " energy: -3.54e-01 best: -3.55e-01\n",
        "T: 1.16e-04"
       ]
      },
      {
       "output_type": "stream",
       "stream": "stdout",
       "text": [
        " energy: -3.55e-01 best: -3.55e-01\n",
        "T: 1.16e-04"
       ]
      },
      {
       "output_type": "stream",
       "stream": "stdout",
       "text": [
        " energy: -3.55e-01 best: -3.55e-01\n",
        "T: 1.15e-04"
       ]
      },
      {
       "output_type": "stream",
       "stream": "stdout",
       "text": [
        " energy: -3.55e-01 best: -3.55e-01\n",
        "T: 1.14e-04"
       ]
      },
      {
       "output_type": "stream",
       "stream": "stdout",
       "text": [
        " energy: -3.55e-01 best: -3.55e-01\n",
        "T: 1.14e-04"
       ]
      },
      {
       "output_type": "stream",
       "stream": "stdout",
       "text": [
        " energy: -3.55e-01 best: -3.55e-01\n",
        "T: 1.13e-04"
       ]
      },
      {
       "output_type": "stream",
       "stream": "stdout",
       "text": [
        " energy: -3.54e-01 best: -3.55e-01\n",
        "T: 1.13e-04"
       ]
      },
      {
       "output_type": "stream",
       "stream": "stdout",
       "text": [
        " energy: -3.55e-01 best: -3.55e-01\n",
        "T: 1.12e-04"
       ]
      },
      {
       "output_type": "stream",
       "stream": "stdout",
       "text": [
        " energy: -3.55e-01 best: -3.55e-01\n",
        "T: 1.12e-04"
       ]
      },
      {
       "output_type": "stream",
       "stream": "stdout",
       "text": [
        " energy: -3.54e-01 best: -3.55e-01\n",
        "T: 1.11e-04"
       ]
      },
      {
       "output_type": "stream",
       "stream": "stdout",
       "text": [
        " energy: -3.54e-01 best: -3.55e-01\n",
        "T: 1.10e-04"
       ]
      },
      {
       "output_type": "stream",
       "stream": "stdout",
       "text": [
        " energy: -3.54e-01 best: -3.55e-01\n",
        "T: 1.10e-04"
       ]
      },
      {
       "output_type": "stream",
       "stream": "stdout",
       "text": [
        " energy: -3.54e-01 best: -3.55e-01\n",
        "T: 1.09e-04"
       ]
      },
      {
       "output_type": "stream",
       "stream": "stdout",
       "text": [
        " energy: -3.54e-01 best: -3.55e-01\n",
        "T: 1.09e-04"
       ]
      },
      {
       "output_type": "stream",
       "stream": "stdout",
       "text": [
        " energy: -3.55e-01 best: -3.55e-01\n",
        "T: 1.08e-04"
       ]
      },
      {
       "output_type": "stream",
       "stream": "stdout",
       "text": [
        " energy: -3.55e-01 best: -3.55e-01\n",
        "T: 1.08e-04"
       ]
      },
      {
       "output_type": "stream",
       "stream": "stdout",
       "text": [
        " energy: -3.55e-01 best: -3.55e-01\n",
        "T: 1.07e-04"
       ]
      },
      {
       "output_type": "stream",
       "stream": "stdout",
       "text": [
        " energy: -3.55e-01 best: -3.55e-01\n",
        "T: 1.07e-04"
       ]
      },
      {
       "output_type": "stream",
       "stream": "stdout",
       "text": [
        " energy: -3.55e-01 best: -3.55e-01\n",
        "T: 1.06e-04"
       ]
      },
      {
       "output_type": "stream",
       "stream": "stdout",
       "text": [
        " energy: -3.55e-01 best: -3.55e-01\n",
        "T: 1.06e-04"
       ]
      },
      {
       "output_type": "stream",
       "stream": "stdout",
       "text": [
        " energy: -3.55e-01 best: -3.55e-01\n",
        "T: 1.05e-04"
       ]
      },
      {
       "output_type": "stream",
       "stream": "stdout",
       "text": [
        " energy: -3.54e-01 best: -3.55e-01\n",
        "T: 1.05e-04"
       ]
      },
      {
       "output_type": "stream",
       "stream": "stdout",
       "text": [
        " energy: -3.55e-01 best: -3.55e-01\n",
        "T: 1.04e-04"
       ]
      },
      {
       "output_type": "stream",
       "stream": "stdout",
       "text": [
        " energy: -3.55e-01 best: -3.55e-01\n",
        "T: 1.04e-04"
       ]
      },
      {
       "output_type": "stream",
       "stream": "stdout",
       "text": [
        " energy: -3.55e-01 best: -3.55e-01\n",
        "T: 1.03e-04"
       ]
      },
      {
       "output_type": "stream",
       "stream": "stdout",
       "text": [
        " energy: -3.55e-01 best: -3.55e-01\n",
        "T: 1.02e-04"
       ]
      },
      {
       "output_type": "stream",
       "stream": "stdout",
       "text": [
        " energy: -3.55e-01 best: -3.55e-01\n",
        "T: 1.02e-04"
       ]
      },
      {
       "output_type": "stream",
       "stream": "stdout",
       "text": [
        " energy: -3.55e-01 best: -3.55e-01\n",
        "T: 1.01e-04"
       ]
      },
      {
       "output_type": "stream",
       "stream": "stdout",
       "text": [
        " energy: -3.54e-01 best: -3.55e-01\n",
        "T: 1.01e-04"
       ]
      },
      {
       "output_type": "stream",
       "stream": "stdout",
       "text": [
        " energy: -3.54e-01 best: -3.55e-01\n",
        "T: 1.00e-04"
       ]
      },
      {
       "output_type": "stream",
       "stream": "stdout",
       "text": [
        " energy: -3.54e-01 best: -3.55e-01\n",
        "T: 1.00e-04"
       ]
      },
      {
       "output_type": "stream",
       "stream": "stdout",
       "text": [
        " energy: -3.55e-01 best: -3.55e-01\n",
        "T: 9.95e-05"
       ]
      },
      {
       "output_type": "stream",
       "stream": "stdout",
       "text": [
        " energy: -3.55e-01 best: -3.55e-01\n",
        "T: 9.90e-05"
       ]
      },
      {
       "output_type": "stream",
       "stream": "stdout",
       "text": [
        " energy: -3.55e-01 best: -3.55e-01\n",
        "T: 9.85e-05"
       ]
      },
      {
       "output_type": "stream",
       "stream": "stdout",
       "text": [
        " energy: -3.55e-01 best: -3.55e-01\n",
        "T: 9.80e-05"
       ]
      },
      {
       "output_type": "stream",
       "stream": "stdout",
       "text": [
        " energy: -3.55e-01 best: -3.55e-01\n",
        "T: 9.75e-05"
       ]
      },
      {
       "output_type": "stream",
       "stream": "stdout",
       "text": [
        " energy: -3.55e-01 best: -3.55e-01\n",
        "T: 9.70e-05"
       ]
      },
      {
       "output_type": "stream",
       "stream": "stdout",
       "text": [
        " energy: -3.55e-01 best: -3.55e-01\n",
        "T: 9.65e-05"
       ]
      },
      {
       "output_type": "stream",
       "stream": "stdout",
       "text": [
        " energy: -3.55e-01 best: -3.55e-01\n",
        "T: 9.60e-05"
       ]
      },
      {
       "output_type": "stream",
       "stream": "stdout",
       "text": [
        " energy: -3.55e-01 best: -3.55e-01\n",
        "T: 9.55e-05"
       ]
      },
      {
       "output_type": "stream",
       "stream": "stdout",
       "text": [
        " energy: -3.55e-01 best: -3.55e-01\n",
        "T: 9.51e-05"
       ]
      },
      {
       "output_type": "stream",
       "stream": "stdout",
       "text": [
        " energy: -3.55e-01 best: -3.55e-01\n",
        "T: 9.46e-05"
       ]
      },
      {
       "output_type": "stream",
       "stream": "stdout",
       "text": [
        " energy: -3.55e-01 best: -3.55e-01\n",
        "T: 9.41e-05"
       ]
      },
      {
       "output_type": "stream",
       "stream": "stdout",
       "text": [
        " energy: -3.55e-01 best: -3.55e-01\n",
        "T: 9.36e-05"
       ]
      },
      {
       "output_type": "stream",
       "stream": "stdout",
       "text": [
        " energy: -3.55e-01 best: -3.55e-01\n",
        "T: 9.32e-05"
       ]
      },
      {
       "output_type": "stream",
       "stream": "stdout",
       "text": [
        " energy: -3.55e-01 best: -3.55e-01\n",
        "T: 9.27e-05"
       ]
      },
      {
       "output_type": "stream",
       "stream": "stdout",
       "text": [
        " energy: -3.55e-01 best: -3.55e-01\n",
        "T: 9.22e-05"
       ]
      },
      {
       "output_type": "stream",
       "stream": "stdout",
       "text": [
        " energy: -3.55e-01 best: -3.55e-01\n",
        "T: 9.18e-05"
       ]
      },
      {
       "output_type": "stream",
       "stream": "stdout",
       "text": [
        " energy: -3.54e-01 best: -3.55e-01\n",
        "T: 9.13e-05"
       ]
      },
      {
       "output_type": "stream",
       "stream": "stdout",
       "text": [
        " energy: -3.55e-01 best: -3.55e-01\n",
        "T: 9.09e-05"
       ]
      },
      {
       "output_type": "stream",
       "stream": "stdout",
       "text": [
        " energy: -3.55e-01 best: -3.55e-01\n",
        "T: 9.04e-05"
       ]
      },
      {
       "output_type": "stream",
       "stream": "stdout",
       "text": [
        " energy: -3.55e-01 best: -3.55e-01\n",
        "T: 9.00e-05"
       ]
      },
      {
       "output_type": "stream",
       "stream": "stdout",
       "text": [
        " energy: -3.55e-01 best: -3.55e-01\n",
        "T: 8.95e-05"
       ]
      },
      {
       "output_type": "stream",
       "stream": "stdout",
       "text": [
        " energy: -3.55e-01 best: -3.55e-01\n",
        "T: 8.91e-05"
       ]
      },
      {
       "output_type": "stream",
       "stream": "stdout",
       "text": [
        " energy: -3.55e-01 best: -3.55e-01\n",
        "T: 8.86e-05"
       ]
      },
      {
       "output_type": "stream",
       "stream": "stdout",
       "text": [
        " energy: -3.55e-01 best: -3.55e-01\n",
        "T: 8.82e-05"
       ]
      },
      {
       "output_type": "stream",
       "stream": "stdout",
       "text": [
        " energy: -3.55e-01 best: -3.55e-01\n",
        "T: 8.77e-05"
       ]
      },
      {
       "output_type": "stream",
       "stream": "stdout",
       "text": [
        " energy: -3.54e-01 best: -3.55e-01\n",
        "T: 8.73e-05"
       ]
      },
      {
       "output_type": "stream",
       "stream": "stdout",
       "text": [
        " energy: -3.54e-01 best: -3.55e-01\n",
        "T: 8.69e-05"
       ]
      },
      {
       "output_type": "stream",
       "stream": "stdout",
       "text": [
        " energy: -3.54e-01 best: -3.55e-01\n",
        "T: 8.64e-05"
       ]
      },
      {
       "output_type": "stream",
       "stream": "stdout",
       "text": [
        " energy: -3.55e-01 best: -3.55e-01\n",
        "T: 8.60e-05"
       ]
      },
      {
       "output_type": "stream",
       "stream": "stdout",
       "text": [
        " energy: -3.55e-01 best: -3.55e-01\n",
        "T: 8.56e-05"
       ]
      },
      {
       "output_type": "stream",
       "stream": "stdout",
       "text": [
        " energy: -3.55e-01 best: -3.55e-01\n",
        "T: 8.51e-05"
       ]
      },
      {
       "output_type": "stream",
       "stream": "stdout",
       "text": [
        " energy: -3.55e-01 best: -3.55e-01\n",
        "T: 8.47e-05"
       ]
      },
      {
       "output_type": "stream",
       "stream": "stdout",
       "text": [
        " energy: -3.55e-01 best: -3.55e-01\n",
        "T: 8.43e-05"
       ]
      },
      {
       "output_type": "stream",
       "stream": "stdout",
       "text": [
        " energy: -3.55e-01 best: -3.55e-01\n",
        "T: 8.39e-05"
       ]
      },
      {
       "output_type": "stream",
       "stream": "stdout",
       "text": [
        " energy: -3.55e-01 best: -3.55e-01\n",
        "T: 8.34e-05"
       ]
      },
      {
       "output_type": "stream",
       "stream": "stdout",
       "text": [
        " energy: -3.55e-01 best: -3.55e-01\n",
        "T: 8.30e-05"
       ]
      },
      {
       "output_type": "stream",
       "stream": "stdout",
       "text": [
        " energy: -3.55e-01 best: -3.55e-01\n",
        "T: 8.26e-05"
       ]
      },
      {
       "output_type": "stream",
       "stream": "stdout",
       "text": [
        " energy: -3.55e-01 best: -3.55e-01\n",
        "T: 8.22e-05"
       ]
      },
      {
       "output_type": "stream",
       "stream": "stdout",
       "text": [
        " energy: -3.55e-01 best: -3.55e-01\n",
        "T: 8.18e-05"
       ]
      },
      {
       "output_type": "stream",
       "stream": "stdout",
       "text": [
        " energy: -3.55e-01 best: -3.55e-01\n",
        "T: 8.14e-05"
       ]
      },
      {
       "output_type": "stream",
       "stream": "stdout",
       "text": [
        " energy: -3.55e-01 best: -3.55e-01\n",
        "T: 8.10e-05"
       ]
      },
      {
       "output_type": "stream",
       "stream": "stdout",
       "text": [
        " energy: -3.55e-01 best: -3.55e-01\n",
        "T: 8.06e-05"
       ]
      },
      {
       "output_type": "stream",
       "stream": "stdout",
       "text": [
        " energy: -3.55e-01 best: -3.55e-01\n",
        "T: 8.02e-05"
       ]
      },
      {
       "output_type": "stream",
       "stream": "stdout",
       "text": [
        " energy: -3.55e-01 best: -3.55e-01\n",
        "T: 7.98e-05"
       ]
      },
      {
       "output_type": "stream",
       "stream": "stdout",
       "text": [
        " energy: -3.55e-01 best: -3.55e-01\n",
        "T: 7.94e-05"
       ]
      },
      {
       "output_type": "stream",
       "stream": "stdout",
       "text": [
        " energy: -3.55e-01 best: -3.55e-01\n",
        "T: 7.90e-05"
       ]
      },
      {
       "output_type": "stream",
       "stream": "stdout",
       "text": [
        " energy: -3.55e-01 best: -3.55e-01\n",
        "T: 7.86e-05"
       ]
      },
      {
       "output_type": "stream",
       "stream": "stdout",
       "text": [
        " energy: -3.55e-01 best: -3.55e-01\n",
        "T: 7.82e-05"
       ]
      },
      {
       "output_type": "stream",
       "stream": "stdout",
       "text": [
        " energy: -3.55e-01 best: -3.55e-01\n",
        "T: 7.78e-05"
       ]
      },
      {
       "output_type": "stream",
       "stream": "stdout",
       "text": [
        " energy: -3.55e-01 best: -3.55e-01\n",
        "T: 7.74e-05"
       ]
      },
      {
       "output_type": "stream",
       "stream": "stdout",
       "text": [
        " energy: -3.55e-01 best: -3.55e-01\n",
        "T: 7.70e-05"
       ]
      },
      {
       "output_type": "stream",
       "stream": "stdout",
       "text": [
        " energy: -3.54e-01 best: -3.55e-01\n",
        "T: 7.66e-05"
       ]
      },
      {
       "output_type": "stream",
       "stream": "stdout",
       "text": [
        " energy: -3.54e-01 best: -3.55e-01\n",
        "T: 7.63e-05"
       ]
      },
      {
       "output_type": "stream",
       "stream": "stdout",
       "text": [
        " energy: -3.54e-01 best: -3.55e-01\n",
        "T: 7.59e-05"
       ]
      },
      {
       "output_type": "stream",
       "stream": "stdout",
       "text": [
        " energy: -3.54e-01 best: -3.55e-01\n",
        "T: 7.55e-05"
       ]
      },
      {
       "output_type": "stream",
       "stream": "stdout",
       "text": [
        " energy: -3.55e-01 best: -3.55e-01\n",
        "T: 7.51e-05"
       ]
      },
      {
       "output_type": "stream",
       "stream": "stdout",
       "text": [
        " energy: -3.55e-01 best: -3.55e-01\n",
        "T: 7.47e-05"
       ]
      },
      {
       "output_type": "stream",
       "stream": "stdout",
       "text": [
        " energy: -3.55e-01 best: -3.55e-01\n",
        "T: 7.44e-05"
       ]
      },
      {
       "output_type": "stream",
       "stream": "stdout",
       "text": [
        " energy: -3.55e-01 best: -3.55e-01\n",
        "T: 7.40e-05"
       ]
      },
      {
       "output_type": "stream",
       "stream": "stdout",
       "text": [
        " energy: -3.55e-01 best: -3.55e-01\n",
        "T: 7.36e-05"
       ]
      },
      {
       "output_type": "stream",
       "stream": "stdout",
       "text": [
        " energy: -3.55e-01 best: -3.55e-01\n",
        "T: 7.33e-05"
       ]
      },
      {
       "output_type": "stream",
       "stream": "stdout",
       "text": [
        " energy: -3.55e-01 best: -3.55e-01\n",
        "T: 7.29e-05"
       ]
      },
      {
       "output_type": "stream",
       "stream": "stdout",
       "text": [
        " energy: -3.54e-01 best: -3.55e-01\n",
        "T: 7.25e-05"
       ]
      },
      {
       "output_type": "stream",
       "stream": "stdout",
       "text": [
        " energy: -3.55e-01 best: -3.55e-01\n",
        "T: 7.22e-05"
       ]
      },
      {
       "output_type": "stream",
       "stream": "stdout",
       "text": [
        " energy: -3.55e-01 best: -3.55e-01\n",
        "T: 7.18e-05"
       ]
      },
      {
       "output_type": "stream",
       "stream": "stdout",
       "text": [
        " energy: -3.55e-01 best: -3.55e-01\n",
        "T: 7.14e-05"
       ]
      },
      {
       "output_type": "stream",
       "stream": "stdout",
       "text": [
        " energy: -3.55e-01 best: -3.55e-01\n",
        "T: 7.11e-05"
       ]
      },
      {
       "output_type": "stream",
       "stream": "stdout",
       "text": [
        " energy: -3.55e-01 best: -3.55e-01\n",
        "T: 7.07e-05"
       ]
      },
      {
       "output_type": "stream",
       "stream": "stdout",
       "text": [
        " energy: -3.55e-01 best: -3.55e-01\n",
        "T: 7.04e-05"
       ]
      },
      {
       "output_type": "stream",
       "stream": "stdout",
       "text": [
        " energy: -3.55e-01 best: -3.55e-01\n",
        "T: 7.00e-05"
       ]
      },
      {
       "output_type": "stream",
       "stream": "stdout",
       "text": [
        " energy: -3.55e-01 best: -3.55e-01\n",
        "T: 6.97e-05"
       ]
      },
      {
       "output_type": "stream",
       "stream": "stdout",
       "text": [
        " energy: -3.55e-01 best: -3.55e-01\n",
        "T: 6.93e-05"
       ]
      },
      {
       "output_type": "stream",
       "stream": "stdout",
       "text": [
        " energy: -3.55e-01 best: -3.55e-01\n",
        "T: 6.90e-05"
       ]
      },
      {
       "output_type": "stream",
       "stream": "stdout",
       "text": [
        " energy: -3.55e-01 best: -3.55e-01\n",
        "T: 6.86e-05"
       ]
      },
      {
       "output_type": "stream",
       "stream": "stdout",
       "text": [
        " energy: -3.55e-01 best: -3.55e-01\n",
        "T: 6.83e-05"
       ]
      },
      {
       "output_type": "stream",
       "stream": "stdout",
       "text": [
        " energy: -3.55e-01 best: -3.55e-01\n",
        "T: 6.79e-05"
       ]
      },
      {
       "output_type": "stream",
       "stream": "stdout",
       "text": [
        " energy: -3.54e-01 best: -3.55e-01\n",
        "T: 6.76e-05"
       ]
      },
      {
       "output_type": "stream",
       "stream": "stdout",
       "text": [
        " energy: -3.55e-01 best: -3.55e-01\n",
        "T: 6.73e-05"
       ]
      },
      {
       "output_type": "stream",
       "stream": "stdout",
       "text": [
        " energy: -3.55e-01 best: -3.55e-01\n",
        "T: 6.69e-05"
       ]
      },
      {
       "output_type": "stream",
       "stream": "stdout",
       "text": [
        " energy: -3.55e-01 best: -3.55e-01\n",
        "T: 6.66e-05"
       ]
      },
      {
       "output_type": "stream",
       "stream": "stdout",
       "text": [
        " energy: -3.55e-01 best: -3.55e-01\n",
        "T: 6.63e-05"
       ]
      },
      {
       "output_type": "stream",
       "stream": "stdout",
       "text": [
        " energy: -3.55e-01 best: -3.55e-01\n",
        "T: 6.59e-05"
       ]
      },
      {
       "output_type": "stream",
       "stream": "stdout",
       "text": [
        " energy: -3.55e-01 best: -3.55e-01\n",
        "T: 6.56e-05"
       ]
      },
      {
       "output_type": "stream",
       "stream": "stdout",
       "text": [
        " energy: -3.55e-01 best: -3.55e-01\n",
        "T: 6.53e-05"
       ]
      },
      {
       "output_type": "stream",
       "stream": "stdout",
       "text": [
        " energy: -3.55e-01 best: -3.55e-01\n",
        "T: 6.50e-05"
       ]
      },
      {
       "output_type": "stream",
       "stream": "stdout",
       "text": [
        " energy: -3.55e-01 best: -3.55e-01\n",
        "T: 6.46e-05"
       ]
      },
      {
       "output_type": "stream",
       "stream": "stdout",
       "text": [
        " energy: -3.55e-01 best: -3.55e-01\n",
        "T: 6.43e-05"
       ]
      },
      {
       "output_type": "stream",
       "stream": "stdout",
       "text": [
        " energy: -3.55e-01 best: -3.55e-01\n",
        "T: 6.40e-05"
       ]
      },
      {
       "output_type": "stream",
       "stream": "stdout",
       "text": [
        " energy: -3.55e-01 best: -3.55e-01\n",
        "T: 6.37e-05"
       ]
      },
      {
       "output_type": "stream",
       "stream": "stdout",
       "text": [
        " energy: -3.55e-01 best: -3.55e-01\n",
        "T: 6.33e-05"
       ]
      },
      {
       "output_type": "stream",
       "stream": "stdout",
       "text": [
        " energy: -3.55e-01 best: -3.55e-01\n",
        "T: 6.30e-05"
       ]
      },
      {
       "output_type": "stream",
       "stream": "stdout",
       "text": [
        " energy: -3.55e-01 best: -3.55e-01\n",
        "T: 6.27e-05"
       ]
      },
      {
       "output_type": "stream",
       "stream": "stdout",
       "text": [
        " energy: -3.54e-01 best: -3.55e-01\n",
        "T: 6.24e-05"
       ]
      },
      {
       "output_type": "stream",
       "stream": "stdout",
       "text": [
        " energy: -3.55e-01 best: -3.55e-01\n",
        "T: 6.21e-05"
       ]
      },
      {
       "output_type": "stream",
       "stream": "stdout",
       "text": [
        " energy: -3.55e-01 best: -3.55e-01\n",
        "T: 6.18e-05"
       ]
      },
      {
       "output_type": "stream",
       "stream": "stdout",
       "text": [
        " energy: -3.55e-01 best: -3.55e-01\n",
        "T: 6.15e-05"
       ]
      },
      {
       "output_type": "stream",
       "stream": "stdout",
       "text": [
        " energy: -3.55e-01 best: -3.55e-01\n",
        "T: 6.12e-05"
       ]
      },
      {
       "output_type": "stream",
       "stream": "stdout",
       "text": [
        " energy: -3.55e-01 best: -3.55e-01\n",
        "T: 6.09e-05"
       ]
      },
      {
       "output_type": "stream",
       "stream": "stdout",
       "text": [
        " energy: -3.55e-01 best: -3.55e-01\n",
        "T: 6.05e-05"
       ]
      },
      {
       "output_type": "stream",
       "stream": "stdout",
       "text": [
        " energy: -3.54e-01 best: -3.55e-01\n",
        "T: 6.02e-05"
       ]
      },
      {
       "output_type": "stream",
       "stream": "stdout",
       "text": [
        " energy: -3.55e-01 best: -3.55e-01\n",
        "T: 5.99e-05"
       ]
      },
      {
       "output_type": "stream",
       "stream": "stdout",
       "text": [
        " energy: -3.55e-01 best: -3.55e-01\n",
        "T: 5.96e-05"
       ]
      },
      {
       "output_type": "stream",
       "stream": "stdout",
       "text": [
        " energy: -3.55e-01 best: -3.55e-01\n",
        "T: 5.93e-05"
       ]
      },
      {
       "output_type": "stream",
       "stream": "stdout",
       "text": [
        " energy: -3.55e-01 best: -3.55e-01\n",
        "T: 5.90e-05"
       ]
      },
      {
       "output_type": "stream",
       "stream": "stdout",
       "text": [
        " energy: -3.55e-01 best: -3.55e-01\n",
        "T: 5.88e-05"
       ]
      },
      {
       "output_type": "stream",
       "stream": "stdout",
       "text": [
        " energy: -3.55e-01 best: -3.55e-01\n",
        "T: 5.85e-05"
       ]
      },
      {
       "output_type": "stream",
       "stream": "stdout",
       "text": [
        " energy: -3.55e-01 best: -3.55e-01\n",
        "T: 5.82e-05"
       ]
      },
      {
       "output_type": "stream",
       "stream": "stdout",
       "text": [
        " energy: -3.55e-01 best: -3.55e-01\n",
        "T: 5.79e-05"
       ]
      },
      {
       "output_type": "stream",
       "stream": "stdout",
       "text": [
        " energy: -3.55e-01 best: -3.55e-01\n",
        "T: 5.76e-05"
       ]
      },
      {
       "output_type": "stream",
       "stream": "stdout",
       "text": [
        " energy: -3.55e-01 best: -3.55e-01\n",
        "T: 5.73e-05"
       ]
      },
      {
       "output_type": "stream",
       "stream": "stdout",
       "text": [
        " energy: -3.55e-01 best: -3.55e-01\n",
        "T: 5.70e-05"
       ]
      },
      {
       "output_type": "stream",
       "stream": "stdout",
       "text": [
        " energy: -3.55e-01 best: -3.55e-01\n",
        "T: 5.67e-05"
       ]
      },
      {
       "output_type": "stream",
       "stream": "stdout",
       "text": [
        " energy: -3.55e-01 best: -3.55e-01\n",
        "T: 5.64e-05"
       ]
      },
      {
       "output_type": "stream",
       "stream": "stdout",
       "text": [
        " energy: -3.55e-01 best: -3.55e-01\n",
        "T: 5.62e-05"
       ]
      },
      {
       "output_type": "stream",
       "stream": "stdout",
       "text": [
        " energy: -3.55e-01 best: -3.55e-01\n",
        "T: 5.59e-05"
       ]
      },
      {
       "output_type": "stream",
       "stream": "stdout",
       "text": [
        " energy: -3.55e-01 best: -3.55e-01\n",
        "T: 5.56e-05"
       ]
      },
      {
       "output_type": "stream",
       "stream": "stdout",
       "text": [
        " energy: -3.55e-01 best: -3.55e-01\n",
        "T: 5.53e-05"
       ]
      },
      {
       "output_type": "stream",
       "stream": "stdout",
       "text": [
        " energy: -3.55e-01 best: -3.55e-01\n",
        "T: 5.50e-05"
       ]
      },
      {
       "output_type": "stream",
       "stream": "stdout",
       "text": [
        " energy: -3.55e-01 best: -3.55e-01\n",
        "T: 5.48e-05"
       ]
      },
      {
       "output_type": "stream",
       "stream": "stdout",
       "text": [
        " energy: -3.55e-01 best: -3.55e-01\n",
        "T: 5.45e-05"
       ]
      },
      {
       "output_type": "stream",
       "stream": "stdout",
       "text": [
        " energy: -3.55e-01 best: -3.55e-01\n",
        "T: 5.42e-05"
       ]
      },
      {
       "output_type": "stream",
       "stream": "stdout",
       "text": [
        " energy: -3.55e-01 best: -3.55e-01\n",
        "T: 5.40e-05"
       ]
      },
      {
       "output_type": "stream",
       "stream": "stdout",
       "text": [
        " energy: -3.55e-01 best: -3.55e-01\n",
        "T: 5.37e-05"
       ]
      },
      {
       "output_type": "stream",
       "stream": "stdout",
       "text": [
        " energy: -3.55e-01 best: -3.55e-01\n",
        "T: 5.34e-05"
       ]
      },
      {
       "output_type": "stream",
       "stream": "stdout",
       "text": [
        " energy: -3.55e-01 best: -3.55e-01\n",
        "T: 5.32e-05"
       ]
      },
      {
       "output_type": "stream",
       "stream": "stdout",
       "text": [
        " energy: -3.55e-01 best: -3.55e-01\n",
        "T: 5.29e-05"
       ]
      },
      {
       "output_type": "stream",
       "stream": "stdout",
       "text": [
        " energy: -3.55e-01 best: -3.55e-01\n",
        "T: 5.26e-05"
       ]
      },
      {
       "output_type": "stream",
       "stream": "stdout",
       "text": [
        " energy: -3.55e-01 best: -3.55e-01\n",
        "T: 5.24e-05"
       ]
      },
      {
       "output_type": "stream",
       "stream": "stdout",
       "text": [
        " energy: -3.55e-01 best: -3.55e-01\n",
        "T: 5.21e-05"
       ]
      },
      {
       "output_type": "stream",
       "stream": "stdout",
       "text": [
        " energy: -3.55e-01 best: -3.55e-01\n",
        "T: 5.18e-05"
       ]
      },
      {
       "output_type": "stream",
       "stream": "stdout",
       "text": [
        " energy: -3.55e-01 best: -3.55e-01\n",
        "T: 5.16e-05"
       ]
      },
      {
       "output_type": "stream",
       "stream": "stdout",
       "text": [
        " energy: -3.55e-01 best: -3.55e-01\n",
        "T: 5.13e-05"
       ]
      },
      {
       "output_type": "stream",
       "stream": "stdout",
       "text": [
        " energy: -3.55e-01 best: -3.55e-01\n",
        "T: 5.11e-05"
       ]
      },
      {
       "output_type": "stream",
       "stream": "stdout",
       "text": [
        " energy: -3.55e-01 best: -3.55e-01\n",
        "T: 5.08e-05"
       ]
      },
      {
       "output_type": "stream",
       "stream": "stdout",
       "text": [
        " energy: -3.55e-01 best: -3.55e-01\n",
        "T: 5.06e-05"
       ]
      },
      {
       "output_type": "stream",
       "stream": "stdout",
       "text": [
        " energy: -3.55e-01 best: -3.55e-01\n",
        "T: 5.03e-05"
       ]
      },
      {
       "output_type": "stream",
       "stream": "stdout",
       "text": [
        " energy: -3.55e-01 best: -3.55e-01\n",
        "T: 5.00e-05"
       ]
      },
      {
       "output_type": "stream",
       "stream": "stdout",
       "text": [
        " energy: -3.55e-01 best: -3.55e-01\n",
        "T: 4.98e-05"
       ]
      },
      {
       "output_type": "stream",
       "stream": "stdout",
       "text": [
        " energy: -3.55e-01 best: -3.55e-01\n",
        "T: 4.95e-05"
       ]
      },
      {
       "output_type": "stream",
       "stream": "stdout",
       "text": [
        " energy: -3.55e-01 best: -3.55e-01\n",
        "T: 4.93e-05"
       ]
      },
      {
       "output_type": "stream",
       "stream": "stdout",
       "text": [
        " energy: -3.55e-01 best: -3.55e-01\n",
        "T: 4.91e-05"
       ]
      },
      {
       "output_type": "stream",
       "stream": "stdout",
       "text": [
        " energy: -3.55e-01 best: -3.55e-01\n",
        "T: 4.88e-05"
       ]
      },
      {
       "output_type": "stream",
       "stream": "stdout",
       "text": [
        " energy: -3.55e-01 best: -3.55e-01\n",
        "T: 4.86e-05"
       ]
      },
      {
       "output_type": "stream",
       "stream": "stdout",
       "text": [
        " energy: -3.55e-01 best: -3.55e-01\n",
        "T: 4.83e-05"
       ]
      },
      {
       "output_type": "stream",
       "stream": "stdout",
       "text": [
        " energy: -3.55e-01 best: -3.55e-01\n",
        "T: 4.81e-05"
       ]
      },
      {
       "output_type": "stream",
       "stream": "stdout",
       "text": [
        " energy: -3.55e-01 best: -3.55e-01\n",
        "T: 4.78e-05"
       ]
      },
      {
       "output_type": "stream",
       "stream": "stdout",
       "text": [
        " energy: -3.55e-01 best: -3.55e-01\n",
        "T: 4.76e-05"
       ]
      },
      {
       "output_type": "stream",
       "stream": "stdout",
       "text": [
        " energy: -3.55e-01 best: -3.55e-01\n",
        "T: 4.74e-05"
       ]
      },
      {
       "output_type": "stream",
       "stream": "stdout",
       "text": [
        " energy: -3.55e-01 best: -3.55e-01\n",
        "T: 4.71e-05"
       ]
      },
      {
       "output_type": "stream",
       "stream": "stdout",
       "text": [
        " energy: -3.55e-01 best: -3.55e-01\n",
        "T: 4.69e-05"
       ]
      },
      {
       "output_type": "stream",
       "stream": "stdout",
       "text": [
        " energy: -3.55e-01 best: -3.55e-01\n",
        "T: 4.67e-05"
       ]
      },
      {
       "output_type": "stream",
       "stream": "stdout",
       "text": [
        " energy: -3.55e-01 best: -3.55e-01\n",
        "T: 4.64e-05"
       ]
      },
      {
       "output_type": "stream",
       "stream": "stdout",
       "text": [
        " energy: -3.55e-01 best: -3.55e-01\n",
        "T: 4.62e-05"
       ]
      },
      {
       "output_type": "stream",
       "stream": "stdout",
       "text": [
        " energy: -3.55e-01 best: -3.55e-01\n",
        "T: 4.60e-05"
       ]
      },
      {
       "output_type": "stream",
       "stream": "stdout",
       "text": [
        " energy: -3.55e-01 best: -3.55e-01\n",
        "T: 4.57e-05"
       ]
      },
      {
       "output_type": "stream",
       "stream": "stdout",
       "text": [
        " energy: -3.55e-01 best: -3.55e-01\n",
        "T: 4.55e-05"
       ]
      },
      {
       "output_type": "stream",
       "stream": "stdout",
       "text": [
        " energy: -3.55e-01 best: -3.55e-01\n",
        "T: 4.53e-05"
       ]
      },
      {
       "output_type": "stream",
       "stream": "stdout",
       "text": [
        " energy: -3.55e-01 best: -3.55e-01\n",
        "T: 4.50e-05"
       ]
      },
      {
       "output_type": "stream",
       "stream": "stdout",
       "text": [
        " energy: -3.55e-01 best: -3.55e-01\n",
        "T: 4.48e-05"
       ]
      },
      {
       "output_type": "stream",
       "stream": "stdout",
       "text": [
        " energy: -3.55e-01 best: -3.55e-01\n",
        "T: 4.46e-05"
       ]
      },
      {
       "output_type": "stream",
       "stream": "stdout",
       "text": [
        " energy: -3.55e-01 best: -3.55e-01\n",
        "T: 4.44e-05"
       ]
      },
      {
       "output_type": "stream",
       "stream": "stdout",
       "text": [
        " energy: -3.55e-01 best: -3.55e-01\n",
        "T: 4.42e-05"
       ]
      },
      {
       "output_type": "stream",
       "stream": "stdout",
       "text": [
        " energy: -3.55e-01 best: -3.55e-01\n",
        "T: 4.39e-05"
       ]
      },
      {
       "output_type": "stream",
       "stream": "stdout",
       "text": [
        " energy: -3.55e-01 best: -3.55e-01\n",
        "T: 4.37e-05"
       ]
      },
      {
       "output_type": "stream",
       "stream": "stdout",
       "text": [
        " energy: -3.55e-01 best: -3.55e-01\n",
        "T: 4.35e-05"
       ]
      },
      {
       "output_type": "stream",
       "stream": "stdout",
       "text": [
        " energy: -3.55e-01 best: -3.55e-01\n",
        "T: 4.33e-05"
       ]
      },
      {
       "output_type": "stream",
       "stream": "stdout",
       "text": [
        " energy: -3.55e-01 best: -3.55e-01\n",
        "T: 4.31e-05"
       ]
      },
      {
       "output_type": "stream",
       "stream": "stdout",
       "text": [
        " energy: -3.55e-01 best: -3.55e-01\n",
        "T: 4.28e-05"
       ]
      },
      {
       "output_type": "stream",
       "stream": "stdout",
       "text": [
        " energy: -3.55e-01 best: -3.55e-01\n",
        "T: 4.26e-05"
       ]
      },
      {
       "output_type": "stream",
       "stream": "stdout",
       "text": [
        " energy: -3.55e-01 best: -3.55e-01\n",
        "T: 4.24e-05"
       ]
      },
      {
       "output_type": "stream",
       "stream": "stdout",
       "text": [
        " energy: -3.55e-01 best: -3.55e-01\n",
        "T: 4.22e-05"
       ]
      },
      {
       "output_type": "stream",
       "stream": "stdout",
       "text": [
        " energy: -3.55e-01 best: -3.55e-01\n",
        "T: 4.20e-05"
       ]
      },
      {
       "output_type": "stream",
       "stream": "stdout",
       "text": [
        " energy: -3.55e-01 best: -3.55e-01\n",
        "T: 4.18e-05"
       ]
      },
      {
       "output_type": "stream",
       "stream": "stdout",
       "text": [
        " energy: -3.55e-01 best: -3.55e-01\n",
        "T: 4.16e-05"
       ]
      },
      {
       "output_type": "stream",
       "stream": "stdout",
       "text": [
        " energy: -3.55e-01 best: -3.55e-01\n",
        "T: 4.14e-05"
       ]
      },
      {
       "output_type": "stream",
       "stream": "stdout",
       "text": [
        " energy: -3.55e-01 best: -3.55e-01\n",
        "T: 4.12e-05"
       ]
      },
      {
       "output_type": "stream",
       "stream": "stdout",
       "text": [
        " energy: -3.55e-01 best: -3.55e-01\n",
        "T: 4.10e-05"
       ]
      },
      {
       "output_type": "stream",
       "stream": "stdout",
       "text": [
        " energy: -3.55e-01 best: -3.55e-01\n",
        "T: 4.07e-05"
       ]
      },
      {
       "output_type": "stream",
       "stream": "stdout",
       "text": [
        " energy: -3.55e-01 best: -3.55e-01\n",
        "T: 4.05e-05"
       ]
      },
      {
       "output_type": "stream",
       "stream": "stdout",
       "text": [
        " energy: -3.55e-01 best: -3.55e-01\n",
        "T: 4.03e-05"
       ]
      },
      {
       "output_type": "stream",
       "stream": "stdout",
       "text": [
        " energy: -3.55e-01 best: -3.55e-01\n",
        "T: 4.01e-05"
       ]
      },
      {
       "output_type": "stream",
       "stream": "stdout",
       "text": [
        " energy: -3.55e-01 best: -3.55e-01\n",
        "T: 3.99e-05"
       ]
      },
      {
       "output_type": "stream",
       "stream": "stdout",
       "text": [
        " energy: -3.55e-01 best: -3.55e-01\n",
        "T: 3.97e-05"
       ]
      },
      {
       "output_type": "stream",
       "stream": "stdout",
       "text": [
        " energy: -3.55e-01 best: -3.55e-01\n",
        "T: 3.95e-05"
       ]
      },
      {
       "output_type": "stream",
       "stream": "stdout",
       "text": [
        " energy: -3.55e-01 best: -3.55e-01\n",
        "T: 3.93e-05"
       ]
      },
      {
       "output_type": "stream",
       "stream": "stdout",
       "text": [
        " energy: -3.55e-01 best: -3.55e-01\n",
        "T: 3.91e-05"
       ]
      },
      {
       "output_type": "stream",
       "stream": "stdout",
       "text": [
        " energy: -3.55e-01 best: -3.55e-01\n",
        "T: 3.90e-05"
       ]
      },
      {
       "output_type": "stream",
       "stream": "stdout",
       "text": [
        " energy: -3.55e-01 best: -3.55e-01\n",
        "T: 3.88e-05"
       ]
      },
      {
       "output_type": "stream",
       "stream": "stdout",
       "text": [
        " energy: -3.55e-01 best: -3.55e-01\n",
        "T: 3.86e-05"
       ]
      },
      {
       "output_type": "stream",
       "stream": "stdout",
       "text": [
        " energy: -3.55e-01 best: -3.55e-01\n",
        "T: 3.84e-05"
       ]
      },
      {
       "output_type": "stream",
       "stream": "stdout",
       "text": [
        " energy: -3.55e-01 best: -3.55e-01\n",
        "T: 3.82e-05"
       ]
      },
      {
       "output_type": "stream",
       "stream": "stdout",
       "text": [
        " energy: -3.55e-01 best: -3.55e-01\n",
        "T: 3.80e-05"
       ]
      },
      {
       "output_type": "stream",
       "stream": "stdout",
       "text": [
        " energy: -3.55e-01 best: -3.55e-01\n",
        "T: 3.78e-05"
       ]
      },
      {
       "output_type": "stream",
       "stream": "stdout",
       "text": [
        " energy: -3.55e-01 best: -3.55e-01\n",
        "T: 3.76e-05"
       ]
      },
      {
       "output_type": "stream",
       "stream": "stdout",
       "text": [
        " energy: -3.55e-01 best: -3.55e-01\n",
        "T: 3.74e-05"
       ]
      },
      {
       "output_type": "stream",
       "stream": "stdout",
       "text": [
        " energy: -3.55e-01 best: -3.55e-01\n",
        "T: 3.72e-05"
       ]
      },
      {
       "output_type": "stream",
       "stream": "stdout",
       "text": [
        " energy: -3.55e-01 best: -3.55e-01\n",
        "T: 3.70e-05"
       ]
      },
      {
       "output_type": "stream",
       "stream": "stdout",
       "text": [
        " energy: -3.55e-01 best: -3.55e-01\n",
        "T: 3.69e-05"
       ]
      },
      {
       "output_type": "stream",
       "stream": "stdout",
       "text": [
        " energy: -3.55e-01 best: -3.55e-01\n",
        "T: 3.67e-05"
       ]
      },
      {
       "output_type": "stream",
       "stream": "stdout",
       "text": [
        " energy: -3.55e-01 best: -3.55e-01\n",
        "T: 3.65e-05"
       ]
      },
      {
       "output_type": "stream",
       "stream": "stdout",
       "text": [
        " energy: -3.55e-01 best: -3.55e-01\n",
        "T: 3.63e-05"
       ]
      },
      {
       "output_type": "stream",
       "stream": "stdout",
       "text": [
        " energy: -3.55e-01 best: -3.55e-01\n",
        "T: 3.61e-05"
       ]
      },
      {
       "output_type": "stream",
       "stream": "stdout",
       "text": [
        " energy: -3.55e-01 best: -3.55e-01\n",
        "T: 3.60e-05"
       ]
      },
      {
       "output_type": "stream",
       "stream": "stdout",
       "text": [
        " energy: -3.55e-01 best: -3.55e-01\n",
        "T: 3.58e-05"
       ]
      },
      {
       "output_type": "stream",
       "stream": "stdout",
       "text": [
        " energy: -3.55e-01 best: -3.55e-01\n",
        "T: 3.56e-05"
       ]
      },
      {
       "output_type": "stream",
       "stream": "stdout",
       "text": [
        " energy: -3.55e-01 best: -3.55e-01\n",
        "T: 3.54e-05"
       ]
      },
      {
       "output_type": "stream",
       "stream": "stdout",
       "text": [
        " energy: -3.55e-01 best: -3.55e-01\n",
        "T: 3.52e-05"
       ]
      },
      {
       "output_type": "stream",
       "stream": "stdout",
       "text": [
        " energy: -3.55e-01 best: -3.55e-01\n",
        "T: 3.51e-05"
       ]
      },
      {
       "output_type": "stream",
       "stream": "stdout",
       "text": [
        " energy: -3.55e-01 best: -3.55e-01\n",
        "T: 3.49e-05"
       ]
      },
      {
       "output_type": "stream",
       "stream": "stdout",
       "text": [
        " energy: -3.55e-01 best: -3.55e-01\n",
        "T: 3.47e-05"
       ]
      },
      {
       "output_type": "stream",
       "stream": "stdout",
       "text": [
        " energy: -3.55e-01 best: -3.55e-01\n",
        "T: 3.45e-05"
       ]
      },
      {
       "output_type": "stream",
       "stream": "stdout",
       "text": [
        " energy: -3.55e-01 best: -3.55e-01\n",
        "T: 3.44e-05"
       ]
      },
      {
       "output_type": "stream",
       "stream": "stdout",
       "text": [
        " energy: -3.55e-01 best: -3.55e-01\n",
        "T: 3.42e-05"
       ]
      },
      {
       "output_type": "stream",
       "stream": "stdout",
       "text": [
        " energy: -3.55e-01 best: -3.55e-01\n",
        "T: 3.40e-05"
       ]
      },
      {
       "output_type": "stream",
       "stream": "stdout",
       "text": [
        " energy: -3.55e-01 best: -3.55e-01\n",
        "T: 3.39e-05"
       ]
      },
      {
       "output_type": "stream",
       "stream": "stdout",
       "text": [
        " energy: -3.55e-01 best: -3.55e-01\n",
        "T: 3.37e-05"
       ]
      },
      {
       "output_type": "stream",
       "stream": "stdout",
       "text": [
        " energy: -3.55e-01 best: -3.55e-01\n",
        "T: 3.35e-05"
       ]
      },
      {
       "output_type": "stream",
       "stream": "stdout",
       "text": [
        " energy: -3.55e-01 best: -3.55e-01\n",
        "T: 3.33e-05"
       ]
      },
      {
       "output_type": "stream",
       "stream": "stdout",
       "text": [
        " energy: -3.55e-01 best: -3.55e-01\n",
        "T: 3.32e-05"
       ]
      },
      {
       "output_type": "stream",
       "stream": "stdout",
       "text": [
        " energy: -3.55e-01 best: -3.55e-01\n",
        "T: 3.30e-05"
       ]
      },
      {
       "output_type": "stream",
       "stream": "stdout",
       "text": [
        " energy: -3.55e-01 best: -3.55e-01\n",
        "T: 3.28e-05"
       ]
      },
      {
       "output_type": "stream",
       "stream": "stdout",
       "text": [
        " energy: -3.55e-01 best: -3.55e-01\n",
        "T: 3.27e-05"
       ]
      },
      {
       "output_type": "stream",
       "stream": "stdout",
       "text": [
        " energy: -3.55e-01 best: -3.55e-01\n",
        "T: 3.25e-05"
       ]
      },
      {
       "output_type": "stream",
       "stream": "stdout",
       "text": [
        " energy: -3.55e-01 best: -3.55e-01\n",
        "T: 3.24e-05"
       ]
      },
      {
       "output_type": "stream",
       "stream": "stdout",
       "text": [
        " energy: -3.55e-01 best: -3.55e-01\n",
        "T: 3.22e-05"
       ]
      },
      {
       "output_type": "stream",
       "stream": "stdout",
       "text": [
        " energy: -3.55e-01 best: -3.55e-01\n",
        "T: 3.20e-05"
       ]
      },
      {
       "output_type": "stream",
       "stream": "stdout",
       "text": [
        " energy: -3.55e-01 best: -3.55e-01\n",
        "T: 3.19e-05"
       ]
      },
      {
       "output_type": "stream",
       "stream": "stdout",
       "text": [
        " energy: -3.55e-01 best: -3.55e-01\n",
        "T: 3.17e-05"
       ]
      },
      {
       "output_type": "stream",
       "stream": "stdout",
       "text": [
        " energy: -3.55e-01 best: -3.55e-01\n",
        "T: 3.16e-05"
       ]
      },
      {
       "output_type": "stream",
       "stream": "stdout",
       "text": [
        " energy: -3.55e-01 best: -3.55e-01\n",
        "T: 3.14e-05"
       ]
      },
      {
       "output_type": "stream",
       "stream": "stdout",
       "text": [
        " energy: -3.55e-01 best: -3.55e-01\n",
        "T: 3.12e-05"
       ]
      },
      {
       "output_type": "stream",
       "stream": "stdout",
       "text": [
        " energy: -3.55e-01 best: -3.55e-01\n",
        "T: 3.11e-05"
       ]
      },
      {
       "output_type": "stream",
       "stream": "stdout",
       "text": [
        " energy: -3.55e-01 best: -3.55e-01\n",
        "T: 3.09e-05"
       ]
      },
      {
       "output_type": "stream",
       "stream": "stdout",
       "text": [
        " energy: -3.55e-01 best: -3.55e-01\n",
        "T: 3.08e-05"
       ]
      },
      {
       "output_type": "stream",
       "stream": "stdout",
       "text": [
        " energy: -3.55e-01 best: -3.55e-01\n",
        "T: 3.06e-05"
       ]
      },
      {
       "output_type": "stream",
       "stream": "stdout",
       "text": [
        " energy: -3.55e-01 best: -3.55e-01\n",
        "T: 3.05e-05"
       ]
      },
      {
       "output_type": "stream",
       "stream": "stdout",
       "text": [
        " energy: -3.55e-01 best: -3.55e-01\n",
        "T: 3.03e-05"
       ]
      },
      {
       "output_type": "stream",
       "stream": "stdout",
       "text": [
        " energy: -3.55e-01 best: -3.55e-01\n",
        "T: 3.02e-05"
       ]
      },
      {
       "output_type": "stream",
       "stream": "stdout",
       "text": [
        " energy: -3.55e-01 best: -3.55e-01\n",
        "T: 3.00e-05"
       ]
      },
      {
       "output_type": "stream",
       "stream": "stdout",
       "text": [
        " energy: -3.55e-01 best: -3.55e-01\n",
        "T: 2.99e-05"
       ]
      },
      {
       "output_type": "stream",
       "stream": "stdout",
       "text": [
        " energy: -3.55e-01 best: -3.55e-01\n",
        "T: 2.97e-05"
       ]
      },
      {
       "output_type": "stream",
       "stream": "stdout",
       "text": [
        " energy: -3.55e-01 best: -3.55e-01\n",
        "T: 2.96e-05"
       ]
      },
      {
       "output_type": "stream",
       "stream": "stdout",
       "text": [
        " energy: -3.55e-01 best: -3.55e-01\n",
        "T: 2.94e-05"
       ]
      },
      {
       "output_type": "stream",
       "stream": "stdout",
       "text": [
        " energy: -3.55e-01 best: -3.55e-01\n",
        "T: 2.93e-05"
       ]
      },
      {
       "output_type": "stream",
       "stream": "stdout",
       "text": [
        " energy: -3.55e-01 best: -3.55e-01\n",
        "T: 2.91e-05"
       ]
      },
      {
       "output_type": "stream",
       "stream": "stdout",
       "text": [
        " energy: -3.55e-01 best: -3.55e-01\n",
        "T: 2.90e-05"
       ]
      },
      {
       "output_type": "stream",
       "stream": "stdout",
       "text": [
        " energy: -3.55e-01 best: -3.55e-01\n",
        "T: 2.88e-05"
       ]
      },
      {
       "output_type": "stream",
       "stream": "stdout",
       "text": [
        " energy: -3.55e-01 best: -3.55e-01\n",
        "T: 2.87e-05"
       ]
      },
      {
       "output_type": "stream",
       "stream": "stdout",
       "text": [
        " energy: -3.55e-01 best: -3.55e-01\n",
        "T: 2.85e-05"
       ]
      },
      {
       "output_type": "stream",
       "stream": "stdout",
       "text": [
        " energy: -3.55e-01 best: -3.55e-01\n",
        "T: 2.84e-05"
       ]
      },
      {
       "output_type": "stream",
       "stream": "stdout",
       "text": [
        " energy: -3.55e-01 best: -3.55e-01\n",
        "T: 2.83e-05"
       ]
      },
      {
       "output_type": "stream",
       "stream": "stdout",
       "text": [
        " energy: -3.55e-01 best: -3.55e-01\n",
        "T: 2.81e-05"
       ]
      },
      {
       "output_type": "stream",
       "stream": "stdout",
       "text": [
        " energy: -3.55e-01 best: -3.55e-01\n",
        "T: 2.80e-05"
       ]
      },
      {
       "output_type": "stream",
       "stream": "stdout",
       "text": [
        " energy: -3.55e-01 best: -3.55e-01\n",
        "T: 2.78e-05"
       ]
      },
      {
       "output_type": "stream",
       "stream": "stdout",
       "text": [
        " energy: -3.55e-01 best: -3.55e-01\n",
        "T: 2.77e-05"
       ]
      },
      {
       "output_type": "stream",
       "stream": "stdout",
       "text": [
        " energy: -3.55e-01 best: -3.55e-01\n",
        "T: 2.76e-05"
       ]
      },
      {
       "output_type": "stream",
       "stream": "stdout",
       "text": [
        " energy: -3.55e-01 best: -3.55e-01\n",
        "T: 2.74e-05"
       ]
      },
      {
       "output_type": "stream",
       "stream": "stdout",
       "text": [
        " energy: -3.55e-01 best: -3.55e-01\n",
        "T: 2.73e-05"
       ]
      },
      {
       "output_type": "stream",
       "stream": "stdout",
       "text": [
        " energy: -3.55e-01 best: -3.55e-01\n",
        "T: 2.72e-05"
       ]
      },
      {
       "output_type": "stream",
       "stream": "stdout",
       "text": [
        " energy: -3.55e-01 best: -3.55e-01\n",
        "T: 2.70e-05"
       ]
      },
      {
       "output_type": "stream",
       "stream": "stdout",
       "text": [
        " energy: -3.55e-01 best: -3.55e-01\n",
        "T: 2.69e-05"
       ]
      },
      {
       "output_type": "stream",
       "stream": "stdout",
       "text": [
        " energy: -3.55e-01 best: -3.55e-01\n",
        "T: 2.67e-05"
       ]
      },
      {
       "output_type": "stream",
       "stream": "stdout",
       "text": [
        " energy: -3.55e-01 best: -3.55e-01\n",
        "T: 2.66e-05"
       ]
      },
      {
       "output_type": "stream",
       "stream": "stdout",
       "text": [
        " energy: -3.55e-01 best: -3.55e-01\n",
        "T: 2.65e-05"
       ]
      },
      {
       "output_type": "stream",
       "stream": "stdout",
       "text": [
        " energy: -3.55e-01 best: -3.55e-01\n",
        "T: 2.63e-05"
       ]
      },
      {
       "output_type": "stream",
       "stream": "stdout",
       "text": [
        " energy: -3.55e-01 best: -3.55e-01\n",
        "T: 2.62e-05"
       ]
      },
      {
       "output_type": "stream",
       "stream": "stdout",
       "text": [
        " energy: -3.55e-01 best: -3.55e-01\n",
        "T: 2.61e-05"
       ]
      },
      {
       "output_type": "stream",
       "stream": "stdout",
       "text": [
        " energy: -3.55e-01 best: -3.55e-01\n",
        "T: 2.60e-05"
       ]
      },
      {
       "output_type": "stream",
       "stream": "stdout",
       "text": [
        " energy: -3.55e-01 best: -3.55e-01\n",
        "T: 2.58e-05"
       ]
      },
      {
       "output_type": "stream",
       "stream": "stdout",
       "text": [
        " energy: -3.55e-01 best: -3.55e-01\n",
        "T: 2.57e-05"
       ]
      },
      {
       "output_type": "stream",
       "stream": "stdout",
       "text": [
        " energy: -3.55e-01 best: -3.55e-01\n",
        "T: 2.56e-05"
       ]
      },
      {
       "output_type": "stream",
       "stream": "stdout",
       "text": [
        " energy: -3.55e-01 best: -3.55e-01\n",
        "T: 2.54e-05"
       ]
      },
      {
       "output_type": "stream",
       "stream": "stdout",
       "text": [
        " energy: -3.55e-01 best: -3.55e-01\n",
        "T: 2.53e-05"
       ]
      },
      {
       "output_type": "stream",
       "stream": "stdout",
       "text": [
        " energy: -3.55e-01 best: -3.55e-01\n",
        "T: 2.52e-05"
       ]
      },
      {
       "output_type": "stream",
       "stream": "stdout",
       "text": [
        " energy: -3.55e-01 best: -3.55e-01\n",
        "T: 2.51e-05"
       ]
      },
      {
       "output_type": "stream",
       "stream": "stdout",
       "text": [
        " energy: -3.55e-01 best: -3.55e-01\n",
        "T: 2.49e-05"
       ]
      },
      {
       "output_type": "stream",
       "stream": "stdout",
       "text": [
        " energy: -3.55e-01 best: -3.55e-01\n",
        "T: 2.48e-05"
       ]
      },
      {
       "output_type": "stream",
       "stream": "stdout",
       "text": [
        " energy: -3.55e-01 best: -3.55e-01\n",
        "T: 2.47e-05"
       ]
      },
      {
       "output_type": "stream",
       "stream": "stdout",
       "text": [
        " energy: -3.55e-01 best: -3.55e-01\n",
        "T: 2.46e-05"
       ]
      },
      {
       "output_type": "stream",
       "stream": "stdout",
       "text": [
        " energy: -3.55e-01 best: -3.55e-01\n",
        "T: 2.44e-05"
       ]
      },
      {
       "output_type": "stream",
       "stream": "stdout",
       "text": [
        " energy: -3.55e-01 best: -3.55e-01\n",
        "T: 2.43e-05"
       ]
      },
      {
       "output_type": "stream",
       "stream": "stdout",
       "text": [
        " energy: -3.55e-01 best: -3.55e-01\n",
        "T: 2.42e-05"
       ]
      },
      {
       "output_type": "stream",
       "stream": "stdout",
       "text": [
        " energy: -3.55e-01 best: -3.55e-01\n",
        "T: 2.41e-05"
       ]
      },
      {
       "output_type": "stream",
       "stream": "stdout",
       "text": [
        " energy: -3.55e-01 best: -3.55e-01\n",
        "T: 2.40e-05"
       ]
      },
      {
       "output_type": "stream",
       "stream": "stdout",
       "text": [
        " energy: -3.55e-01 best: -3.55e-01\n",
        "T: 2.38e-05"
       ]
      },
      {
       "output_type": "stream",
       "stream": "stdout",
       "text": [
        " energy: -3.55e-01 best: -3.55e-01\n",
        "T: 2.37e-05"
       ]
      },
      {
       "output_type": "stream",
       "stream": "stdout",
       "text": [
        " energy: -3.55e-01 best: -3.55e-01\n",
        "T: 2.36e-05"
       ]
      },
      {
       "output_type": "stream",
       "stream": "stdout",
       "text": [
        " energy: -3.55e-01 best: -3.55e-01\n",
        "T: 2.35e-05"
       ]
      },
      {
       "output_type": "stream",
       "stream": "stdout",
       "text": [
        " energy: -3.55e-01 best: -3.55e-01\n",
        "T: 2.34e-05"
       ]
      },
      {
       "output_type": "stream",
       "stream": "stdout",
       "text": [
        " energy: -3.55e-01 best: -3.55e-01\n",
        "T: 2.32e-05"
       ]
      },
      {
       "output_type": "stream",
       "stream": "stdout",
       "text": [
        " energy: -3.55e-01 best: -3.55e-01\n",
        "T: 2.31e-05"
       ]
      },
      {
       "output_type": "stream",
       "stream": "stdout",
       "text": [
        " energy: -3.55e-01 best: -3.55e-01\n",
        "T: 2.30e-05"
       ]
      },
      {
       "output_type": "stream",
       "stream": "stdout",
       "text": [
        " energy: -3.55e-01 best: -3.55e-01\n",
        "T: 2.29e-05"
       ]
      },
      {
       "output_type": "stream",
       "stream": "stdout",
       "text": [
        " energy: -3.55e-01 best: -3.55e-01\n",
        "T: 2.28e-05"
       ]
      },
      {
       "output_type": "stream",
       "stream": "stdout",
       "text": [
        " energy: -3.55e-01 best: -3.55e-01\n",
        "T: 2.27e-05"
       ]
      },
      {
       "output_type": "stream",
       "stream": "stdout",
       "text": [
        " energy: -3.55e-01 best: -3.55e-01\n",
        "T: 2.26e-05"
       ]
      },
      {
       "output_type": "stream",
       "stream": "stdout",
       "text": [
        " energy: -3.55e-01 best: -3.55e-01\n",
        "T: 2.24e-05"
       ]
      },
      {
       "output_type": "stream",
       "stream": "stdout",
       "text": [
        " energy: -3.55e-01 best: -3.55e-01\n",
        "T: 2.23e-05"
       ]
      },
      {
       "output_type": "stream",
       "stream": "stdout",
       "text": [
        " energy: -3.55e-01 best: -3.55e-01\n",
        "T: 2.22e-05"
       ]
      },
      {
       "output_type": "stream",
       "stream": "stdout",
       "text": [
        " energy: -3.55e-01 best: -3.55e-01\n",
        "T: 2.21e-05"
       ]
      },
      {
       "output_type": "stream",
       "stream": "stdout",
       "text": [
        " energy: -3.55e-01 best: -3.55e-01\n",
        "T: 2.20e-05"
       ]
      },
      {
       "output_type": "stream",
       "stream": "stdout",
       "text": [
        " energy: -3.55e-01 best: -3.55e-01\n",
        "T: 2.19e-05"
       ]
      },
      {
       "output_type": "stream",
       "stream": "stdout",
       "text": [
        " energy: -3.55e-01 best: -3.55e-01\n",
        "T: 2.18e-05"
       ]
      },
      {
       "output_type": "stream",
       "stream": "stdout",
       "text": [
        " energy: -3.55e-01 best: -3.55e-01\n",
        "T: 2.17e-05"
       ]
      },
      {
       "output_type": "stream",
       "stream": "stdout",
       "text": [
        " energy: -3.55e-01 best: -3.55e-01\n",
        "T: 2.16e-05"
       ]
      },
      {
       "output_type": "stream",
       "stream": "stdout",
       "text": [
        " energy: -3.55e-01 best: -3.55e-01\n",
        "T: 2.15e-05"
       ]
      },
      {
       "output_type": "stream",
       "stream": "stdout",
       "text": [
        " energy: -3.55e-01 best: -3.55e-01\n",
        "T: 2.13e-05"
       ]
      },
      {
       "output_type": "stream",
       "stream": "stdout",
       "text": [
        " energy: -3.55e-01 best: -3.55e-01\n",
        "T: 2.12e-05"
       ]
      },
      {
       "output_type": "stream",
       "stream": "stdout",
       "text": [
        " energy: -3.55e-01 best: -3.55e-01\n",
        "T: 2.11e-05"
       ]
      },
      {
       "output_type": "stream",
       "stream": "stdout",
       "text": [
        " energy: -3.55e-01 best: -3.55e-01\n",
        "T: 2.10e-05"
       ]
      },
      {
       "output_type": "stream",
       "stream": "stdout",
       "text": [
        " energy: -3.55e-01 best: -3.55e-01\n",
        "T: 2.09e-05"
       ]
      },
      {
       "output_type": "stream",
       "stream": "stdout",
       "text": [
        " energy: -3.55e-01 best: -3.55e-01\n",
        "T: 2.08e-05"
       ]
      },
      {
       "output_type": "stream",
       "stream": "stdout",
       "text": [
        " energy: -3.55e-01 best: -3.55e-01\n",
        "T: 2.07e-05"
       ]
      },
      {
       "output_type": "stream",
       "stream": "stdout",
       "text": [
        " energy: -3.55e-01 best: -3.55e-01\n",
        "T: 2.06e-05"
       ]
      },
      {
       "output_type": "stream",
       "stream": "stdout",
       "text": [
        " energy: -3.55e-01 best: -3.55e-01\n",
        "T: 2.05e-05"
       ]
      },
      {
       "output_type": "stream",
       "stream": "stdout",
       "text": [
        " energy: -3.55e-01 best: -3.55e-01\n",
        "T: 2.04e-05"
       ]
      },
      {
       "output_type": "stream",
       "stream": "stdout",
       "text": [
        " energy: -3.55e-01 best: -3.55e-01\n",
        "T: 2.03e-05"
       ]
      },
      {
       "output_type": "stream",
       "stream": "stdout",
       "text": [
        " energy: -3.55e-01 best: -3.55e-01\n",
        "T: 2.02e-05"
       ]
      },
      {
       "output_type": "stream",
       "stream": "stdout",
       "text": [
        " energy: -3.55e-01 best: -3.55e-01\n",
        "T: 2.01e-05"
       ]
      },
      {
       "output_type": "stream",
       "stream": "stdout",
       "text": [
        " energy: -3.55e-01 best: -3.55e-01\n",
        "T: 2.00e-05"
       ]
      },
      {
       "output_type": "stream",
       "stream": "stdout",
       "text": [
        " energy: -3.55e-01 best: -3.55e-01\n",
        "T: 1.99e-05"
       ]
      },
      {
       "output_type": "stream",
       "stream": "stdout",
       "text": [
        " energy: -3.55e-01 best: -3.55e-01\n",
        "T: 1.98e-05"
       ]
      },
      {
       "output_type": "stream",
       "stream": "stdout",
       "text": [
        " energy: -3.55e-01 best: -3.55e-01\n",
        "T: 1.97e-05"
       ]
      },
      {
       "output_type": "stream",
       "stream": "stdout",
       "text": [
        " energy: -3.55e-01 best: -3.55e-01\n",
        "T: 1.96e-05"
       ]
      },
      {
       "output_type": "stream",
       "stream": "stdout",
       "text": [
        " energy: -3.55e-01 best: -3.55e-01\n",
        "T: 1.95e-05"
       ]
      },
      {
       "output_type": "stream",
       "stream": "stdout",
       "text": [
        " energy: -3.55e-01 best: -3.55e-01\n",
        "T: 1.94e-05"
       ]
      },
      {
       "output_type": "stream",
       "stream": "stdout",
       "text": [
        " energy: -3.55e-01 best: -3.55e-01\n",
        "T: 1.93e-05"
       ]
      },
      {
       "output_type": "stream",
       "stream": "stdout",
       "text": [
        " energy: -3.55e-01 best: -3.55e-01\n",
        "T: 1.92e-05"
       ]
      },
      {
       "output_type": "stream",
       "stream": "stdout",
       "text": [
        " energy: -3.55e-01 best: -3.55e-01\n",
        "T: 1.91e-05"
       ]
      },
      {
       "output_type": "stream",
       "stream": "stdout",
       "text": [
        " energy: -3.55e-01 best: -3.55e-01\n",
        "T: 1.90e-05"
       ]
      },
      {
       "output_type": "stream",
       "stream": "stdout",
       "text": [
        " energy: -3.55e-01 best: -3.55e-01\n",
        "T: 1.89e-05"
       ]
      },
      {
       "output_type": "stream",
       "stream": "stdout",
       "text": [
        " energy: -3.55e-01 best: -3.55e-01\n",
        "T: 1.88e-05"
       ]
      },
      {
       "output_type": "stream",
       "stream": "stdout",
       "text": [
        " energy: -3.55e-01 best: -3.55e-01\n",
        "T: 1.87e-05"
       ]
      },
      {
       "output_type": "stream",
       "stream": "stdout",
       "text": [
        " energy: -3.55e-01 best: -3.55e-01\n",
        "T: 1.86e-05"
       ]
      },
      {
       "output_type": "stream",
       "stream": "stdout",
       "text": [
        " energy: -3.55e-01 best: -3.55e-01\n",
        "T: 1.86e-05"
       ]
      },
      {
       "output_type": "stream",
       "stream": "stdout",
       "text": [
        " energy: -3.55e-01 best: -3.55e-01\n",
        "T: 1.85e-05"
       ]
      },
      {
       "output_type": "stream",
       "stream": "stdout",
       "text": [
        " energy: -3.55e-01 best: -3.55e-01\n",
        "T: 1.84e-05"
       ]
      },
      {
       "output_type": "stream",
       "stream": "stdout",
       "text": [
        " energy: -3.55e-01 best: -3.55e-01\n",
        "T: 1.83e-05"
       ]
      },
      {
       "output_type": "stream",
       "stream": "stdout",
       "text": [
        " energy: -3.55e-01 best: -3.55e-01\n",
        "T: 1.82e-05"
       ]
      },
      {
       "output_type": "stream",
       "stream": "stdout",
       "text": [
        " energy: -3.55e-01 best: -3.55e-01\n",
        "T: 1.81e-05"
       ]
      },
      {
       "output_type": "stream",
       "stream": "stdout",
       "text": [
        " energy: -3.55e-01 best: -3.55e-01\n",
        "T: 1.80e-05"
       ]
      },
      {
       "output_type": "stream",
       "stream": "stdout",
       "text": [
        " energy: -3.55e-01 best: -3.55e-01\n",
        "T: 1.79e-05"
       ]
      },
      {
       "output_type": "stream",
       "stream": "stdout",
       "text": [
        " energy: -3.55e-01 best: -3.55e-01\n",
        "T: 1.78e-05"
       ]
      },
      {
       "output_type": "stream",
       "stream": "stdout",
       "text": [
        " energy: -3.55e-01 best: -3.55e-01\n",
        "T: 1.77e-05"
       ]
      },
      {
       "output_type": "stream",
       "stream": "stdout",
       "text": [
        " energy: -3.55e-01 best: -3.55e-01\n",
        "T: 1.76e-05"
       ]
      },
      {
       "output_type": "stream",
       "stream": "stdout",
       "text": [
        " energy: -3.55e-01 best: -3.55e-01\n",
        "T: 1.76e-05"
       ]
      },
      {
       "output_type": "stream",
       "stream": "stdout",
       "text": [
        " energy: -3.55e-01 best: -3.55e-01\n",
        "T: 1.75e-05"
       ]
      },
      {
       "output_type": "stream",
       "stream": "stdout",
       "text": [
        " energy: -3.55e-01 best: -3.55e-01\n",
        "T: 1.74e-05"
       ]
      },
      {
       "output_type": "stream",
       "stream": "stdout",
       "text": [
        " energy: -3.55e-01 best: -3.55e-01\n",
        "T: 1.73e-05"
       ]
      },
      {
       "output_type": "stream",
       "stream": "stdout",
       "text": [
        " energy: -3.55e-01 best: -3.55e-01\n",
        "T: 1.72e-05"
       ]
      },
      {
       "output_type": "stream",
       "stream": "stdout",
       "text": [
        " energy: -3.55e-01 best: -3.55e-01\n",
        "T: 1.71e-05"
       ]
      },
      {
       "output_type": "stream",
       "stream": "stdout",
       "text": [
        " energy: -3.55e-01 best: -3.55e-01\n",
        "T: 1.70e-05"
       ]
      },
      {
       "output_type": "stream",
       "stream": "stdout",
       "text": [
        " energy: -3.55e-01 best: -3.55e-01\n",
        "T: 1.69e-05"
       ]
      },
      {
       "output_type": "stream",
       "stream": "stdout",
       "text": [
        " energy: -3.55e-01 best: -3.55e-01\n",
        "T: 1.69e-05"
       ]
      },
      {
       "output_type": "stream",
       "stream": "stdout",
       "text": [
        " energy: -3.55e-01 best: -3.55e-01\n",
        "T: 1.68e-05"
       ]
      },
      {
       "output_type": "stream",
       "stream": "stdout",
       "text": [
        " energy: -3.55e-01 best: -3.55e-01\n",
        "T: 1.67e-05"
       ]
      },
      {
       "output_type": "stream",
       "stream": "stdout",
       "text": [
        " energy: -3.55e-01 best: -3.55e-01\n",
        "T: 1.66e-05"
       ]
      },
      {
       "output_type": "stream",
       "stream": "stdout",
       "text": [
        " energy: -3.55e-01 best: -3.55e-01\n",
        "T: 1.65e-05"
       ]
      },
      {
       "output_type": "stream",
       "stream": "stdout",
       "text": [
        " energy: -3.55e-01 best: -3.55e-01\n",
        "T: 1.64e-05"
       ]
      },
      {
       "output_type": "stream",
       "stream": "stdout",
       "text": [
        " energy: -3.55e-01 best: -3.55e-01\n",
        "T: 1.64e-05"
       ]
      },
      {
       "output_type": "stream",
       "stream": "stdout",
       "text": [
        " energy: -3.55e-01 best: -3.55e-01\n",
        "T: 1.63e-05"
       ]
      },
      {
       "output_type": "stream",
       "stream": "stdout",
       "text": [
        " energy: -3.55e-01 best: -3.55e-01\n",
        "T: 1.62e-05"
       ]
      },
      {
       "output_type": "stream",
       "stream": "stdout",
       "text": [
        " energy: -3.55e-01 best: -3.55e-01\n",
        "T: 1.61e-05"
       ]
      },
      {
       "output_type": "stream",
       "stream": "stdout",
       "text": [
        " energy: -3.55e-01 best: -3.55e-01\n",
        "T: 1.60e-05"
       ]
      },
      {
       "output_type": "stream",
       "stream": "stdout",
       "text": [
        " energy: -3.55e-01 best: -3.55e-01\n",
        "T: 1.60e-05"
       ]
      },
      {
       "output_type": "stream",
       "stream": "stdout",
       "text": [
        " energy: -3.55e-01 best: -3.55e-01\n",
        "T: 1.59e-05"
       ]
      },
      {
       "output_type": "stream",
       "stream": "stdout",
       "text": [
        " energy: -3.55e-01 best: -3.55e-01\n",
        "T: 1.58e-05"
       ]
      },
      {
       "output_type": "stream",
       "stream": "stdout",
       "text": [
        " energy: -3.55e-01 best: -3.55e-01\n",
        "T: 1.57e-05"
       ]
      },
      {
       "output_type": "stream",
       "stream": "stdout",
       "text": [
        " energy: -3.55e-01 best: -3.55e-01\n",
        "T: 1.56e-05"
       ]
      },
      {
       "output_type": "stream",
       "stream": "stdout",
       "text": [
        " energy: -3.55e-01 best: -3.55e-01\n",
        "T: 1.56e-05"
       ]
      },
      {
       "output_type": "stream",
       "stream": "stdout",
       "text": [
        " energy: -3.55e-01 best: -3.55e-01\n",
        "T: 1.55e-05"
       ]
      },
      {
       "output_type": "stream",
       "stream": "stdout",
       "text": [
        " energy: -3.55e-01 best: -3.55e-01\n",
        "T: 1.54e-05"
       ]
      },
      {
       "output_type": "stream",
       "stream": "stdout",
       "text": [
        " energy: -3.55e-01 best: -3.55e-01\n",
        "T: 1.53e-05"
       ]
      },
      {
       "output_type": "stream",
       "stream": "stdout",
       "text": [
        " energy: -3.55e-01 best: -3.55e-01\n",
        "T: 1.53e-05"
       ]
      },
      {
       "output_type": "stream",
       "stream": "stdout",
       "text": [
        " energy: -3.55e-01 best: -3.55e-01\n",
        "T: 1.52e-05"
       ]
      },
      {
       "output_type": "stream",
       "stream": "stdout",
       "text": [
        " energy: -3.55e-01 best: -3.55e-01\n",
        "T: 1.51e-05"
       ]
      },
      {
       "output_type": "stream",
       "stream": "stdout",
       "text": [
        " energy: -3.55e-01 best: -3.55e-01\n",
        "T: 1.50e-05"
       ]
      },
      {
       "output_type": "stream",
       "stream": "stdout",
       "text": [
        " energy: -3.55e-01 best: -3.55e-01\n",
        "T: 1.50e-05"
       ]
      },
      {
       "output_type": "stream",
       "stream": "stdout",
       "text": [
        " energy: -3.55e-01 best: -3.55e-01\n",
        "T: 1.49e-05"
       ]
      },
      {
       "output_type": "stream",
       "stream": "stdout",
       "text": [
        " energy: -3.55e-01 best: -3.55e-01\n",
        "T: 1.48e-05"
       ]
      },
      {
       "output_type": "stream",
       "stream": "stdout",
       "text": [
        " energy: -3.55e-01 best: -3.55e-01\n",
        "T: 1.47e-05"
       ]
      },
      {
       "output_type": "stream",
       "stream": "stdout",
       "text": [
        " energy: -3.55e-01 best: -3.55e-01\n",
        "T: 1.47e-05"
       ]
      },
      {
       "output_type": "stream",
       "stream": "stdout",
       "text": [
        " energy: -3.55e-01 best: -3.55e-01\n",
        "T: 1.46e-05"
       ]
      },
      {
       "output_type": "stream",
       "stream": "stdout",
       "text": [
        " energy: -3.55e-01 best: -3.55e-01\n",
        "T: 1.45e-05"
       ]
      },
      {
       "output_type": "stream",
       "stream": "stdout",
       "text": [
        " energy: -3.55e-01 best: -3.55e-01\n",
        "T: 1.44e-05"
       ]
      },
      {
       "output_type": "stream",
       "stream": "stdout",
       "text": [
        " energy: -3.55e-01 best: -3.55e-01\n",
        "T: 1.44e-05"
       ]
      },
      {
       "output_type": "stream",
       "stream": "stdout",
       "text": [
        " energy: -3.55e-01 best: -3.55e-01\n",
        "T: 1.43e-05"
       ]
      },
      {
       "output_type": "stream",
       "stream": "stdout",
       "text": [
        " energy: -3.55e-01 best: -3.55e-01\n",
        "T: 1.42e-05"
       ]
      },
      {
       "output_type": "stream",
       "stream": "stdout",
       "text": [
        " energy: -3.55e-01 best: -3.55e-01\n",
        "T: 1.42e-05"
       ]
      },
      {
       "output_type": "stream",
       "stream": "stdout",
       "text": [
        " energy: -3.55e-01 best: -3.55e-01\n",
        "T: 1.41e-05"
       ]
      },
      {
       "output_type": "stream",
       "stream": "stdout",
       "text": [
        " energy: -3.55e-01 best: -3.55e-01\n",
        "T: 1.40e-05"
       ]
      },
      {
       "output_type": "stream",
       "stream": "stdout",
       "text": [
        " energy: -3.55e-01 best: -3.55e-01\n",
        "T: 1.39e-05"
       ]
      },
      {
       "output_type": "stream",
       "stream": "stdout",
       "text": [
        " energy: -3.55e-01 best: -3.55e-01\n",
        "T: 1.39e-05"
       ]
      },
      {
       "output_type": "stream",
       "stream": "stdout",
       "text": [
        " energy: -3.55e-01 best: -3.55e-01\n",
        "T: 1.38e-05"
       ]
      },
      {
       "output_type": "stream",
       "stream": "stdout",
       "text": [
        " energy: -3.55e-01 best: -3.55e-01\n",
        "T: 1.37e-05"
       ]
      },
      {
       "output_type": "stream",
       "stream": "stdout",
       "text": [
        " energy: -3.55e-01 best: -3.55e-01\n",
        "T: 1.37e-05"
       ]
      },
      {
       "output_type": "stream",
       "stream": "stdout",
       "text": [
        " energy: -3.55e-01 best: -3.55e-01\n",
        "T: 1.36e-05"
       ]
      },
      {
       "output_type": "stream",
       "stream": "stdout",
       "text": [
        " energy: -3.55e-01 best: -3.55e-01\n",
        "T: 1.35e-05"
       ]
      },
      {
       "output_type": "stream",
       "stream": "stdout",
       "text": [
        " energy: -3.55e-01 best: -3.55e-01\n",
        "T: 1.35e-05"
       ]
      },
      {
       "output_type": "stream",
       "stream": "stdout",
       "text": [
        " energy: -3.55e-01 best: -3.55e-01\n",
        "T: 1.34e-05"
       ]
      },
      {
       "output_type": "stream",
       "stream": "stdout",
       "text": [
        " energy: -3.55e-01 best: -3.55e-01\n",
        "T: 1.33e-05"
       ]
      },
      {
       "output_type": "stream",
       "stream": "stdout",
       "text": [
        " energy: -3.55e-01 best: -3.55e-01\n",
        "T: 1.33e-05"
       ]
      },
      {
       "output_type": "stream",
       "stream": "stdout",
       "text": [
        " energy: -3.55e-01 best: -3.55e-01\n",
        "T: 1.32e-05"
       ]
      },
      {
       "output_type": "stream",
       "stream": "stdout",
       "text": [
        " energy: -3.55e-01 best: -3.55e-01\n",
        "T: 1.31e-05"
       ]
      },
      {
       "output_type": "stream",
       "stream": "stdout",
       "text": [
        " energy: -3.55e-01 best: -3.55e-01\n",
        "T: 1.31e-05"
       ]
      },
      {
       "output_type": "stream",
       "stream": "stdout",
       "text": [
        " energy: -3.55e-01 best: -3.55e-01\n",
        "T: 1.30e-05"
       ]
      },
      {
       "output_type": "stream",
       "stream": "stdout",
       "text": [
        " energy: -3.55e-01 best: -3.55e-01\n",
        "T: 1.29e-05"
       ]
      },
      {
       "output_type": "stream",
       "stream": "stdout",
       "text": [
        " energy: -3.55e-01 best: -3.55e-01\n",
        "T: 1.29e-05"
       ]
      },
      {
       "output_type": "stream",
       "stream": "stdout",
       "text": [
        " energy: -3.55e-01 best: -3.55e-01\n",
        "T: 1.28e-05"
       ]
      },
      {
       "output_type": "stream",
       "stream": "stdout",
       "text": [
        " energy: -3.55e-01 best: -3.55e-01\n",
        "T: 1.27e-05"
       ]
      },
      {
       "output_type": "stream",
       "stream": "stdout",
       "text": [
        " energy: -3.55e-01 best: -3.55e-01\n",
        "T: 1.27e-05"
       ]
      },
      {
       "output_type": "stream",
       "stream": "stdout",
       "text": [
        " energy: -3.55e-01 best: -3.55e-01\n",
        "T: 1.26e-05"
       ]
      },
      {
       "output_type": "stream",
       "stream": "stdout",
       "text": [
        " energy: -3.55e-01 best: -3.55e-01\n",
        "T: 1.25e-05"
       ]
      },
      {
       "output_type": "stream",
       "stream": "stdout",
       "text": [
        " energy: -3.55e-01 best: -3.55e-01\n",
        "T: 1.25e-05"
       ]
      },
      {
       "output_type": "stream",
       "stream": "stdout",
       "text": [
        " energy: -3.55e-01 best: -3.55e-01\n",
        "T: 1.24e-05"
       ]
      },
      {
       "output_type": "stream",
       "stream": "stdout",
       "text": [
        " energy: -3.55e-01 best: -3.55e-01\n",
        "T: 1.24e-05"
       ]
      },
      {
       "output_type": "stream",
       "stream": "stdout",
       "text": [
        " energy: -3.55e-01 best: -3.55e-01\n",
        "T: 1.23e-05"
       ]
      },
      {
       "output_type": "stream",
       "stream": "stdout",
       "text": [
        " energy: -3.55e-01 best: -3.55e-01\n",
        "T: 1.22e-05"
       ]
      },
      {
       "output_type": "stream",
       "stream": "stdout",
       "text": [
        " energy: -3.55e-01 best: -3.55e-01\n",
        "T: 1.22e-05"
       ]
      },
      {
       "output_type": "stream",
       "stream": "stdout",
       "text": [
        " energy: -3.55e-01 best: -3.55e-01\n",
        "T: 1.21e-05"
       ]
      },
      {
       "output_type": "stream",
       "stream": "stdout",
       "text": [
        " energy: -3.55e-01 best: -3.55e-01\n",
        "T: 1.21e-05"
       ]
      },
      {
       "output_type": "stream",
       "stream": "stdout",
       "text": [
        " energy: -3.55e-01 best: -3.55e-01\n",
        "T: 1.20e-05"
       ]
      },
      {
       "output_type": "stream",
       "stream": "stdout",
       "text": [
        " energy: -3.55e-01 best: -3.55e-01\n",
        "T: 1.19e-05"
       ]
      },
      {
       "output_type": "stream",
       "stream": "stdout",
       "text": [
        " energy: -3.55e-01 best: -3.55e-01\n",
        "T: 1.19e-05"
       ]
      },
      {
       "output_type": "stream",
       "stream": "stdout",
       "text": [
        " energy: -3.55e-01 best: -3.55e-01\n",
        "T: 1.18e-05"
       ]
      },
      {
       "output_type": "stream",
       "stream": "stdout",
       "text": [
        " energy: -3.55e-01 best: -3.55e-01\n",
        "T: 1.18e-05"
       ]
      },
      {
       "output_type": "stream",
       "stream": "stdout",
       "text": [
        " energy: -3.55e-01 best: -3.55e-01\n",
        "T: 1.17e-05"
       ]
      },
      {
       "output_type": "stream",
       "stream": "stdout",
       "text": [
        " energy: -3.55e-01 best: -3.55e-01\n",
        "T: 1.16e-05"
       ]
      },
      {
       "output_type": "stream",
       "stream": "stdout",
       "text": [
        " energy: -3.55e-01 best: -3.55e-01\n",
        "T: 1.16e-05"
       ]
      },
      {
       "output_type": "stream",
       "stream": "stdout",
       "text": [
        " energy: -3.55e-01 best: -3.55e-01\n",
        "T: 1.15e-05"
       ]
      },
      {
       "output_type": "stream",
       "stream": "stdout",
       "text": [
        " energy: -3.55e-01 best: -3.55e-01\n",
        "T: 1.15e-05"
       ]
      },
      {
       "output_type": "stream",
       "stream": "stdout",
       "text": [
        " energy: -3.55e-01 best: -3.55e-01\n",
        "T: 1.14e-05"
       ]
      },
      {
       "output_type": "stream",
       "stream": "stdout",
       "text": [
        " energy: -3.55e-01 best: -3.55e-01\n",
        "T: 1.14e-05"
       ]
      },
      {
       "output_type": "stream",
       "stream": "stdout",
       "text": [
        " energy: -3.55e-01 best: -3.55e-01\n",
        "T: 1.13e-05"
       ]
      },
      {
       "output_type": "stream",
       "stream": "stdout",
       "text": [
        " energy: -3.55e-01 best: -3.55e-01\n",
        "T: 1.12e-05"
       ]
      },
      {
       "output_type": "stream",
       "stream": "stdout",
       "text": [
        " energy: -3.55e-01 best: -3.55e-01\n",
        "T: 1.12e-05"
       ]
      },
      {
       "output_type": "stream",
       "stream": "stdout",
       "text": [
        " energy: -3.55e-01 best: -3.55e-01\n",
        "T: 1.11e-05"
       ]
      },
      {
       "output_type": "stream",
       "stream": "stdout",
       "text": [
        " energy: -3.55e-01 best: -3.55e-01\n",
        "T: 1.11e-05"
       ]
      },
      {
       "output_type": "stream",
       "stream": "stdout",
       "text": [
        " energy: -3.55e-01 best: -3.55e-01\n",
        "T: 1.10e-05"
       ]
      },
      {
       "output_type": "stream",
       "stream": "stdout",
       "text": [
        " energy: -3.55e-01 best: -3.55e-01\n",
        "T: 1.10e-05"
       ]
      },
      {
       "output_type": "stream",
       "stream": "stdout",
       "text": [
        " energy: -3.55e-01 best: -3.55e-01\n",
        "T: 1.09e-05"
       ]
      },
      {
       "output_type": "stream",
       "stream": "stdout",
       "text": [
        " energy: -3.55e-01 best: -3.55e-01\n",
        "T: 1.08e-05"
       ]
      },
      {
       "output_type": "stream",
       "stream": "stdout",
       "text": [
        " energy: -3.55e-01 best: -3.55e-01\n",
        "T: 1.08e-05"
       ]
      },
      {
       "output_type": "stream",
       "stream": "stdout",
       "text": [
        " energy: -3.55e-01 best: -3.55e-01\n",
        "T: 1.07e-05"
       ]
      },
      {
       "output_type": "stream",
       "stream": "stdout",
       "text": [
        " energy: -3.55e-01 best: -3.55e-01\n",
        "T: 1.07e-05"
       ]
      },
      {
       "output_type": "stream",
       "stream": "stdout",
       "text": [
        " energy: -3.55e-01 best: -3.55e-01\n",
        "T: 1.06e-05"
       ]
      },
      {
       "output_type": "stream",
       "stream": "stdout",
       "text": [
        " energy: -3.55e-01 best: -3.55e-01\n",
        "T: 1.06e-05"
       ]
      },
      {
       "output_type": "stream",
       "stream": "stdout",
       "text": [
        " energy: -3.55e-01 best: -3.55e-01\n",
        "T: 1.05e-05"
       ]
      },
      {
       "output_type": "stream",
       "stream": "stdout",
       "text": [
        " energy: -3.55e-01 best: -3.55e-01\n",
        "T: 1.05e-05"
       ]
      },
      {
       "output_type": "stream",
       "stream": "stdout",
       "text": [
        " energy: -3.55e-01 best: -3.55e-01\n",
        "T: 1.04e-05"
       ]
      },
      {
       "output_type": "stream",
       "stream": "stdout",
       "text": [
        " energy: -3.55e-01 best: -3.55e-01\n",
        "T: 1.04e-05"
       ]
      },
      {
       "output_type": "stream",
       "stream": "stdout",
       "text": [
        " energy: -3.55e-01 best: -3.55e-01\n",
        "T: 1.03e-05"
       ]
      },
      {
       "output_type": "stream",
       "stream": "stdout",
       "text": [
        " energy: -3.55e-01 best: -3.55e-01\n",
        "T: 1.03e-05"
       ]
      },
      {
       "output_type": "stream",
       "stream": "stdout",
       "text": [
        " energy: -3.55e-01 best: -3.55e-01\n",
        "T: 1.02e-05"
       ]
      },
      {
       "output_type": "stream",
       "stream": "stdout",
       "text": [
        " energy: -3.55e-01 best: -3.55e-01\n",
        "T: 1.02e-05"
       ]
      },
      {
       "output_type": "stream",
       "stream": "stdout",
       "text": [
        " energy: -3.55e-01 best: -3.55e-01\n",
        "T: 1.01e-05"
       ]
      },
      {
       "output_type": "stream",
       "stream": "stdout",
       "text": [
        " energy: -3.55e-01 best: -3.55e-01\n",
        "T: 1.01e-05"
       ]
      },
      {
       "output_type": "stream",
       "stream": "stdout",
       "text": [
        " energy: -3.55e-01 best: -3.55e-01\n",
        "T: 1.00e-05"
       ]
      },
      {
       "output_type": "stream",
       "stream": "stdout",
       "text": [
        " energy: -3.55e-01 best: -3.55e-01\n",
        "0.354678340763\n",
        "0.354678340763\n",
        "0.354678340763\n",
        "{0: set([1, 2, 4, 5, 7, 8, 11, 14, 19, 20, 21, 22, 24, 25, 29, 37, 38, 40, 41, 42, 43, 44, 48, 49, 57, 58, 63, 64, 65, 66, 70, 72, 74, 78, 80, 84, 87, 91, 94, 95, 96, 98, 103, 104, 106, 107, 108, 112, 118, 120, 124, 125, 129, 131, 132, 133, 134, 138, 140, 142, 144, 145, 147, 149, 150, 151, 152, 155, 156, 158, 160, 164, 165, 175, 176, 177, 178, 184, 187, 189, 190, 191, 193, 196, 198, 199, 200, 201, 203, 205, 206, 207, 211, 215, 216, 221, 226, 227, 229, 234, 240, 243, 244, 245, 247, 248, 252, 258, 259, 261, 264, 265]), 1: set([0, 3, 6, 9, 10, 12, 13, 15, 16, 17, 18, 23, 26, 27, 28, 30, 31, 32, 33, 34, 35, 36, 39, 45, 46, 47, 50, 51, 52, 53, 54, 55, 56, 59, 60, 61, 62, 67, 68, 69, 71, 73, 75, 76, 77, 79, 81, 82, 83, 85, 86, 88, 89, 90, 92, 93, 97, 99, 100, 101, 102, 105, 109, 110, 111, 113, 114, 115, 116, 117, 119, 121, 122, 123, 126, 127, 128, 130, 135, 136, 137, 139, 141, 143, 146, 148, 153, 154, 157, 159, 161, 162, 163, 166, 167, 168, 169, 170, 171, 172, 173, 174, 179, 180, 181, 182, 183, 185, 186, 188, 192, 194, 195, 197, 202, 204, 208, 209, 210, 212, 213, 214, 217, 218, 219, 220, 222, 223, 224, 225, 228, 230, 231, 232, 233, 235, 236, 237, 238, 239, 241, 242, 246, 249, 250, 251, 253, 254, 255, 256, 257, 260, 262, 263])}\n",
        "6.38378239159e-15"
       ]
      },
      {
       "output_type": "stream",
       "stream": "stdout",
       "text": [
        "\n"
       ]
      }
     ],
     "prompt_number": 20
    },
    {
     "cell_type": "code",
     "collapsed": false,
     "input": [
      "p1_sim=[0, 3, 6, 9, 10, 12, 13, 15, 16, 18, 23, 26, 27, 28, 30, 31, 32, 33, 34, 35, 36, 39, 45, 46, 47, 49, 50, 51, 52, 53, 54, 55, 56, 59, 60, 61, 62, 67, 68, 69, 71, 73, 75, 76, 77, 79, 81, 82, 83, 85, 86, 88, 89, 90, 92, 93, 97, 99, 100, 101, 102, 105, 109, 110, 111, 113, 114, 115, 116, 117, 119, 121, 122, 123, 126, 127, 128, 130, 135, 136, 137, 139, 141, 143, 146, 148, 153, 154, 157, 159, 161, 162, 163, 166, 167, 168, 169, 170, 171, 172, 173, 174, 179, 180, 181, 182, 183, 185, 186, 188, 192, 194, 195, 197, 202, 204, 208, 209, 210, 212, 213, 214, 217, 218, 219, 220, 222, 223, 224, 225, 228, 230, 231, 232, 233, 235, 236, 237, 238, 239, 241, 242, 246, 249, 250, 251, 253, 254, 255, 256, 257, 260, 262, 263]\n",
      "p2_sim=[1, 2, 4, 5, 7, 8, 11, 14, 19, 20, 21, 22, 24, 25, 29, 37, 38, 40, 41, 42, 43, 44, 48, 49, 57, 58, 63, 64, 65, 66, 70, 72, 74, 78, 80, 84, 87, 91, 94, 95, 96, 98, 103, 104, 106, 107, 108, 112, 118, 120, 124, 125, 129, 131, 132, 133, 134, 138, 140, 142, 144, 145, 147, 149, 150, 151, 152, 155, 156, 158, 160, 164, 165, 175, 176, 177, 178, 184, 187, 189, 190, 191, 193, 196, 198, 199, 200, 201, 203, 205, 206, 207, 211, 215, 216, 221, 226, 227, 229, 234, 240, 243, 244, 245, 247, 248, 252, 258, 259, 261, 264, 265]"
     ],
     "language": "python",
     "metadata": {},
     "outputs": [],
     "prompt_number": 10
    },
    {
     "cell_type": "code",
     "collapsed": false,
     "input": [
      "ms_frame['region'].ix[p1_sim][61:80]=='FRONTAL'"
     ],
     "language": "python",
     "metadata": {},
     "outputs": [
      {
       "output_type": "pyout",
       "prompt_number": 95,
       "text": [
        "ST2        False\n",
        "PFop       False\n",
        "V4t        False\n",
        "V4v        False\n",
        "M9          True\n",
        "DLc        False\n",
        "belt_sm     True\n",
        "MG         False\n",
        "STPg       False\n",
        "8B          True\n",
        "31         False\n",
        "30         False\n",
        "MSTp       False\n",
        "SMAc        True\n",
        "DI#1       False\n",
        "PF#1       False\n",
        "MSTd       False\n",
        "TEm        False\n",
        "47/12       True\n",
        "Name: region"
       ]
      }
     ],
     "prompt_number": 95
    },
    {
     "cell_type": "code",
     "collapsed": false,
     "input": [
      "pfc_labels=['14r', '10o', '24c', '10m', 'Gu', '12l', '12m', '12o', '12r', '13M', 'M2-FL', 'M2-HL', '13L', '24b', '6Vb', '6Va', '13a', 'PrCO', '11m', '11l', '4c','24d', '46v', '46vr', '46d', '24a', '46f', 'PS', '47/12', 'M9', '44', '8Ad', '46dr', '9/46v', 'D9', 'F2', 'L9', 'SMAr', 'F4', 'F5', 'F6', 'F7', '8B', 'SMAc', 'ProM#2', '45A', '45B', '9/46d','10d', 'OFap', '32', '10v', '14O']\n",
      "pfc_low=whole_low.subgraph(pfc_labels)\n",
      "pfc_undirected=pfc_low.to_undirected(pfc_low)"
     ],
     "language": "python",
     "metadata": {},
     "outputs": [],
     "prompt_number": 11
    },
    {
     "cell_type": "code",
     "collapsed": false,
     "input": [
      "num_pfc=Series(pfc_undirected.nodes())\n",
      "pfc_relabel_dict=dict()\n",
      "for  ival in range(len(num_pfc)):\n",
      "    pfc_relabel_dict[num_pfc.values[ival]]=num_pfc.index[ival]\n"
     ],
     "language": "python",
     "metadata": {},
     "outputs": [],
     "prompt_number": 12
    },
    {
     "cell_type": "code",
     "collapsed": false,
     "input": [
      "G2=nx.relabel_nodes(pfc_undirected, pfc_relabel_dict)"
     ],
     "language": "python",
     "metadata": {},
     "outputs": [],
     "prompt_number": 13
    },
    {
     "cell_type": "code",
     "collapsed": false,
     "input": [
      "P2=md.newman_partition(G2)\n",
      "P2.modularity()"
     ],
     "language": "python",
     "metadata": {},
     "outputs": [
      {
       "output_type": "pyout",
       "prompt_number": 14,
       "text": [
        "0.3035889498486754"
       ]
      }
     ],
     "prompt_number": 14
    },
    {
     "cell_type": "code",
     "collapsed": false,
     "input": [
      "p5=[1, 2, 3, 4, 6, 7, 8, 9, 10, 11, 19, 21, 23, 24, 25, 26, 27, 28, 30, 31, 32, 33, 42, 44, 46]\n",
      "p6=[0, 5, 12, 13, 14, 15, 16, 17, 18, 20, 22, 29, 34, 35, 36, 37, 38, 39, 40, 41, 43, 45, 47, 48, 49, 50, 51, 52]"
     ],
     "language": "python",
     "metadata": {},
     "outputs": [],
     "prompt_number": 15
    },
    {
     "cell_type": "code",
     "collapsed": false,
     "input": [
      "p5_labels=[]\n",
      "p6_labels=[]\n",
      "for x in p5:\n",
      "    p5_labels.append(num_pfc[x])\n",
      "for x in p6:\n",
      "    p6_labels.append(num_pfc[x])"
     ],
     "language": "python",
     "metadata": {},
     "outputs": [],
     "prompt_number": 16
    },
    {
     "cell_type": "code",
     "collapsed": false,
     "input": [
      "print p5_labels\n",
      "print p6_labels"
     ],
     "language": "python",
     "metadata": {},
     "outputs": [
      {
       "output_type": "stream",
       "stream": "stdout",
       "text": [
        "['14r', '10o', '24c', '10m', '12l', '12m', '10d', '12o', '12r', '13M', '24b', '14O', '6Vb', '6Va', '13a', 'PrCO', '11m', '11l', 'Gu', '10v', 'OFap', 'M2-FL', '32', '13L', 'M2-HL']\n",
        "['24d', '46v', '46d', '46f', '8Ad', 'PS', '47/12', 'M9', '44', '46dr', '9/46v', 'D9', 'L9', 'SMAr', 'F2', 'F4', 'F5', 'F6', 'F7', '8B', '46vr', 'SMAc', 'ProM#2', '24a', '45A', '45B', '9/46d', '4c']\n"
       ]
      }
     ],
     "prompt_number": 17
    },
    {
     "cell_type": "code",
     "collapsed": false,
     "input": [
      "G2.edges(p5)\n",
      "G3=G2.subgraph(p5)\n",
      "P3=md.newman_partition(G3)\n",
      "#P3_sim=md.simulated_annealing(G3)\n",
      "#G3.degree()"
     ],
     "language": "python",
     "metadata": {},
     "outputs": [
      {
       "ename": "IndexError",
       "evalue": "index (32) out of range (0<=index<24) in dimension 1",
       "output_type": "pyerr",
       "traceback": [
        "\u001b[1;31m---------------------------------------------------------------------------\u001b[0m\n\u001b[1;31mIndexError\u001b[0m                                Traceback (most recent call last)",
        "\u001b[1;32m<ipython-input-18-b4e1b7f81a7a>\u001b[0m in \u001b[0;36m<module>\u001b[1;34m()\u001b[0m\n\u001b[0;32m      1\u001b[0m \u001b[0mG2\u001b[0m\u001b[1;33m.\u001b[0m\u001b[0medges\u001b[0m\u001b[1;33m(\u001b[0m\u001b[0mp5\u001b[0m\u001b[1;33m)\u001b[0m\u001b[1;33m\u001b[0m\u001b[0m\n\u001b[0;32m      2\u001b[0m \u001b[0mG3\u001b[0m\u001b[1;33m=\u001b[0m\u001b[0mG2\u001b[0m\u001b[1;33m.\u001b[0m\u001b[0msubgraph\u001b[0m\u001b[1;33m(\u001b[0m\u001b[0mp5\u001b[0m\u001b[1;33m)\u001b[0m\u001b[1;33m\u001b[0m\u001b[0m\n\u001b[1;32m----> 3\u001b[1;33m \u001b[0mP3\u001b[0m\u001b[1;33m=\u001b[0m\u001b[0mmd\u001b[0m\u001b[1;33m.\u001b[0m\u001b[0mnewman_partition\u001b[0m\u001b[1;33m(\u001b[0m\u001b[0mG3\u001b[0m\u001b[1;33m)\u001b[0m\u001b[1;33m\u001b[0m\u001b[0m\n\u001b[0m\u001b[0;32m      4\u001b[0m \u001b[1;31m#P3_sim=md.simulated_annealing(G3)\u001b[0m\u001b[1;33m\u001b[0m\u001b[1;33m\u001b[0m\u001b[0m\n\u001b[0;32m      5\u001b[0m \u001b[1;31m#G3.degree()\u001b[0m\u001b[1;33m\u001b[0m\u001b[1;33m\u001b[0m\u001b[0m\n",
        "\u001b[1;32mc:\\Python27\\lib\\site-packages\\brainx\\modularity.pyc\u001b[0m in \u001b[0;36mnewman_partition\u001b[1;34m(g, max_div)\u001b[0m\n\u001b[0;32m   1394\u001b[0m         \u001b[0mindex\u001b[0m\u001b[1;33m[\u001b[0m\u001b[0mk\u001b[0m\u001b[1;33m]\u001b[0m \u001b[1;33m=\u001b[0m \u001b[0mset\u001b[0m\u001b[1;33m(\u001b[0m\u001b[0mnodes\u001b[0m\u001b[1;33m)\u001b[0m\u001b[1;33m\u001b[0m\u001b[0m\n\u001b[0;32m   1395\u001b[0m \u001b[1;33m\u001b[0m\u001b[0m\n\u001b[1;32m-> 1396\u001b[1;33m     \u001b[1;32mreturn\u001b[0m \u001b[0mGraphPartition\u001b[0m\u001b[1;33m(\u001b[0m\u001b[0mg\u001b[0m\u001b[1;33m,\u001b[0m \u001b[0mindex\u001b[0m\u001b[1;33m)\u001b[0m\u001b[1;33m\u001b[0m\u001b[0m\n\u001b[0m\u001b[0;32m   1397\u001b[0m \u001b[1;33m\u001b[0m\u001b[0m\n\u001b[0;32m   1398\u001b[0m \u001b[1;33m\u001b[0m\u001b[0m\n",
        "\u001b[1;32mc:\\Python27\\lib\\site-packages\\brainx\\modularity.pyc\u001b[0m in \u001b[0;36m__init__\u001b[1;34m(self, graph, index)\u001b[0m\n\u001b[0;32m     79\u001b[0m \u001b[1;33m\u001b[0m\u001b[0m\n\u001b[0;32m     80\u001b[0m         \u001b[1;31m# Now, build the edge information used in modularity computations\u001b[0m\u001b[1;33m\u001b[0m\u001b[1;33m\u001b[0m\u001b[0m\n\u001b[1;32m---> 81\u001b[1;33m         \u001b[0mself\u001b[0m\u001b[1;33m.\u001b[0m\u001b[0mmod_e\u001b[0m\u001b[1;33m,\u001b[0m \u001b[0mself\u001b[0m\u001b[1;33m.\u001b[0m\u001b[0mmod_a\u001b[0m \u001b[1;33m=\u001b[0m \u001b[0mself\u001b[0m\u001b[1;33m.\u001b[0m\u001b[0m_edge_info\u001b[0m\u001b[1;33m(\u001b[0m\u001b[1;33m)\u001b[0m\u001b[1;33m\u001b[0m\u001b[0m\n\u001b[0m\u001b[0;32m     82\u001b[0m \u001b[1;33m\u001b[0m\u001b[0m\n\u001b[0;32m     83\u001b[0m \u001b[1;33m\u001b[0m\u001b[0m\n",
        "\u001b[1;32mc:\\Python27\\lib\\site-packages\\brainx\\modularity.pyc\u001b[0m in \u001b[0;36m_edge_info\u001b[1;34m(self, mod_e, mod_a, index)\u001b[0m\n\u001b[0;32m    113\u001b[0m             \u001b[1;31m#looks like a set when we read it in ipython\u001b[0m\u001b[1;33m\u001b[0m\u001b[1;33m\u001b[0m\u001b[0m\n\u001b[0;32m    114\u001b[0m             \u001b[0mmat_within\u001b[0m  \u001b[1;33m=\u001b[0m \u001b[0mmat\u001b[0m\u001b[1;33m[\u001b[0m\u001b[0mmodnodes\u001b[0m\u001b[1;33m,\u001b[0m\u001b[1;33m:\u001b[0m\u001b[1;33m]\u001b[0m\u001b[1;33m[\u001b[0m\u001b[1;33m:\u001b[0m\u001b[1;33m,\u001b[0m\u001b[0mmodnodes\u001b[0m\u001b[1;33m]\u001b[0m\u001b[1;33m\u001b[0m\u001b[0m\n\u001b[1;32m--> 115\u001b[1;33m             \u001b[0mmat_between\u001b[0m \u001b[1;33m=\u001b[0m \u001b[0mmat\u001b[0m\u001b[1;33m[\u001b[0m\u001b[0mmodnodes\u001b[0m\u001b[1;33m,\u001b[0m\u001b[1;33m:\u001b[0m\u001b[1;33m]\u001b[0m\u001b[1;33m[\u001b[0m\u001b[1;33m:\u001b[0m\u001b[1;33m,\u001b[0m\u001b[0mbtwnnodes\u001b[0m\u001b[1;33m]\u001b[0m\u001b[1;33m\u001b[0m\u001b[0m\n\u001b[0m\u001b[0;32m    116\u001b[0m             \u001b[0mperc_within\u001b[0m \u001b[1;33m=\u001b[0m \u001b[0mmat_within\u001b[0m\u001b[1;33m.\u001b[0m\u001b[0msum\u001b[0m\u001b[1;33m(\u001b[0m\u001b[1;33m)\u001b[0m \u001b[1;33m*\u001b[0m \u001b[0mnorm_factor\u001b[0m\u001b[1;33m\u001b[0m\u001b[0m\n\u001b[0;32m    117\u001b[0m             \u001b[0mperc_btwn\u001b[0m   \u001b[1;33m=\u001b[0m \u001b[0mmat_between\u001b[0m\u001b[1;33m.\u001b[0m\u001b[0msum\u001b[0m\u001b[1;33m(\u001b[0m\u001b[1;33m)\u001b[0m \u001b[1;33m*\u001b[0m \u001b[0mnorm_factor\u001b[0m\u001b[1;33m\u001b[0m\u001b[0m\n",
        "\u001b[1;32mc:\\Python27\\lib\\site-packages\\numpy\\matrixlib\\defmatrix.pyc\u001b[0m in \u001b[0;36m__getitem__\u001b[1;34m(self, index)\u001b[0m\n\u001b[0;32m    303\u001b[0m \u001b[1;33m\u001b[0m\u001b[0m\n\u001b[0;32m    304\u001b[0m         \u001b[1;32mtry\u001b[0m\u001b[1;33m:\u001b[0m\u001b[1;33m\u001b[0m\u001b[0m\n\u001b[1;32m--> 305\u001b[1;33m             \u001b[0mout\u001b[0m \u001b[1;33m=\u001b[0m \u001b[0mN\u001b[0m\u001b[1;33m.\u001b[0m\u001b[0mndarray\u001b[0m\u001b[1;33m.\u001b[0m\u001b[0m__getitem__\u001b[0m\u001b[1;33m(\u001b[0m\u001b[0mself\u001b[0m\u001b[1;33m,\u001b[0m \u001b[0mindex\u001b[0m\u001b[1;33m)\u001b[0m\u001b[1;33m\u001b[0m\u001b[0m\n\u001b[0m\u001b[0;32m    306\u001b[0m         \u001b[1;32mfinally\u001b[0m\u001b[1;33m:\u001b[0m\u001b[1;33m\u001b[0m\u001b[0m\n\u001b[0;32m    307\u001b[0m             \u001b[0mself\u001b[0m\u001b[1;33m.\u001b[0m\u001b[0m_getitem\u001b[0m \u001b[1;33m=\u001b[0m \u001b[0mFalse\u001b[0m\u001b[1;33m\u001b[0m\u001b[0m\n",
        "\u001b[1;31mIndexError\u001b[0m: index (32) out of range (0<=index<24) in dimension 1"
       ]
      }
     ],
     "prompt_number": 18
    },
    {
     "cell_type": "code",
     "collapsed": false,
     "input": [
      "P4=md.newman_partition(G4)\n",
      "P4.modularity()"
     ],
     "language": "python",
     "metadata": {},
     "outputs": [
      {
       "output_type": "pyout",
       "prompt_number": 36,
       "text": [
        "0.20207047524892299"
       ]
      }
     ],
     "prompt_number": 36
    },
    {
     "cell_type": "code",
     "collapsed": false,
     "input": [
      "G4_deg_dict=G4.degree()\n",
      "G4_deg_dict.keys()\n",
      "#G4_series=Series(G4_deg_dict)"
     ],
     "language": "python",
     "metadata": {},
     "outputs": [
      {
       "output_type": "pyout",
       "prompt_number": 69,
       "text": [
        "[0,\n",
        " 1,\n",
        " 2,\n",
        " 3,\n",
        " 4,\n",
        " 5,\n",
        " 6,\n",
        " 7,\n",
        " 8,\n",
        " 9,\n",
        " 10,\n",
        " 11,\n",
        " 12,\n",
        " 13,\n",
        " 14,\n",
        " 15,\n",
        " 16,\n",
        " 17,\n",
        " 18,\n",
        " 19,\n",
        " 20,\n",
        " 21,\n",
        " 22,\n",
        " 23,\n",
        " 24,\n",
        " 25,\n",
        " 26,\n",
        " 27,\n",
        " 28,\n",
        " 29,\n",
        " 30,\n",
        " 31,\n",
        " 32,\n",
        " 33,\n",
        " 34,\n",
        " 35,\n",
        " 36,\n",
        " 37,\n",
        " 38,\n",
        " 39,\n",
        " 40,\n",
        " 41,\n",
        " 42,\n",
        " 43,\n",
        " 44,\n",
        " 45,\n",
        " 46,\n",
        " 47,\n",
        " 48,\n",
        " 49,\n",
        " 50,\n",
        " 51,\n",
        " 52,\n",
        " 53,\n",
        " 54,\n",
        " 55,\n",
        " 56,\n",
        " 57,\n",
        " 58,\n",
        " 59,\n",
        " 60,\n",
        " 61,\n",
        " 62,\n",
        " 63,\n",
        " 64,\n",
        " 65,\n",
        " 66,\n",
        " 67,\n",
        " 68,\n",
        " 69,\n",
        " 70,\n",
        " 71,\n",
        " 72,\n",
        " 73,\n",
        " 74,\n",
        " 75,\n",
        " 76,\n",
        " 77,\n",
        " 78,\n",
        " 79,\n",
        " 80,\n",
        " 81,\n",
        " 82,\n",
        " 83,\n",
        " 84,\n",
        " 85,\n",
        " 86,\n",
        " 87,\n",
        " 88,\n",
        " 89,\n",
        " 90]"
       ]
      }
     ],
     "prompt_number": 69
    },
    {
     "cell_type": "code",
     "collapsed": false,
     "input": [
      "G4_series"
     ],
     "language": "python",
     "metadata": {},
     "outputs": [
      {
       "output_type": "pyout",
       "prompt_number": 67,
       "text": [
        "0     23\n",
        "1      9\n",
        "2     28\n",
        "3     18\n",
        "4      1\n",
        "5     24\n",
        "6     10\n",
        "7     14\n",
        "8      1\n",
        "9      9\n",
        "10     7\n",
        "11    22\n",
        "12     9\n",
        "13    37\n",
        "14    16\n",
        "15    19\n",
        "16    11\n",
        "17     8\n",
        "18     6\n",
        "19    14\n",
        "20    13\n",
        "21    19\n",
        "22    10\n",
        "23     1\n",
        "24    12\n",
        "25    11\n",
        "26    17\n",
        "27     0\n",
        "28     1\n",
        "29     3\n",
        "30    10\n",
        "31    13\n",
        "32     9\n",
        "33     2\n",
        "34    32\n",
        "35    45\n",
        "36    12\n",
        "37    32\n",
        "38    10\n",
        "39     6\n",
        "40    17\n",
        "41    16\n",
        "42     2\n",
        "43     9\n",
        "44    15\n",
        "45    10\n",
        "46     6\n",
        "47     7\n",
        "48    11\n",
        "49     5\n",
        "50    11\n",
        "51     8\n",
        "52    17\n",
        "53     8\n",
        "54     0\n",
        "55    14\n",
        "56    18\n",
        "57     3\n",
        "58    38\n",
        "59    30\n",
        "60    26\n",
        "61    32\n",
        "62    17\n",
        "63     3\n",
        "64    19\n",
        "65     0\n",
        "66     8\n",
        "67     4\n",
        "68     6\n",
        "69     1\n",
        "70     1\n",
        "71    12\n",
        "72    21\n",
        "73     5\n",
        "74    23\n",
        "75     9\n",
        "76    16\n",
        "77     8\n",
        "78    11\n",
        "79    21\n",
        "80    29\n",
        "81    23\n",
        "82     1\n",
        "83     0\n",
        "84    11\n",
        "85    21\n",
        "86     5\n",
        "87     8\n",
        "88    16\n",
        "89    37\n",
        "90     7\n",
        "Length: 91"
       ]
      }
     ],
     "prompt_number": 67
    },
    {
     "cell_type": "code",
     "collapsed": false,
     "input": [
      "pickle.dump( G3, open( \"G3.pck\", \"wb\" ) )"
     ],
     "language": "python",
     "metadata": {},
     "outputs": [],
     "prompt_number": 461
    },
    {
     "cell_type": "code",
     "collapsed": false,
     "input": [
      "corn=pickle.load(open(\"G3.pck\", \"rb\"))"
     ],
     "language": "python",
     "metadata": {},
     "outputs": [],
     "prompt_number": 462
    },
    {
     "cell_type": "code",
     "collapsed": false,
     "input": [
      "corn"
     ],
     "language": "python",
     "metadata": {},
     "outputs": [
      {
       "output_type": "pyout",
       "prompt_number": 463,
       "text": [
        "<networkx.classes.graph.Graph at 0x7afcef0>"
       ]
      }
     ],
     "prompt_number": 463
    },
    {
     "cell_type": "code",
     "collapsed": false,
     "input": [
      "foo=md.newman_partition(corn)"
     ],
     "language": "python",
     "metadata": {},
     "outputs": [
      {
       "ename": "IndexError",
       "evalue": "index (32) out of range (0<=index<24) in dimension 1",
       "output_type": "pyerr",
       "traceback": [
        "\u001b[1;31m---------------------------------------------------------------------------\u001b[0m\n\u001b[1;31mIndexError\u001b[0m                                Traceback (most recent call last)",
        "\u001b[1;32m<ipython-input-465-4e55d70b243a>\u001b[0m in \u001b[0;36m<module>\u001b[1;34m()\u001b[0m\n\u001b[1;32m----> 1\u001b[1;33m \u001b[0mfoo\u001b[0m\u001b[1;33m=\u001b[0m\u001b[0mmd\u001b[0m\u001b[1;33m.\u001b[0m\u001b[0mnewman_partition\u001b[0m\u001b[1;33m(\u001b[0m\u001b[0mcorn\u001b[0m\u001b[1;33m)\u001b[0m\u001b[1;33m\u001b[0m\u001b[0m\n\u001b[0m",
        "\u001b[1;32mc:\\Python27\\lib\\site-packages\\brainx\\modularity.pyc\u001b[0m in \u001b[0;36mnewman_partition\u001b[1;34m(g, max_div)\u001b[0m\n\u001b[0;32m   1394\u001b[0m         \u001b[0mindex\u001b[0m\u001b[1;33m[\u001b[0m\u001b[0mk\u001b[0m\u001b[1;33m]\u001b[0m \u001b[1;33m=\u001b[0m \u001b[0mset\u001b[0m\u001b[1;33m(\u001b[0m\u001b[0mnodes\u001b[0m\u001b[1;33m)\u001b[0m\u001b[1;33m\u001b[0m\u001b[0m\n\u001b[0;32m   1395\u001b[0m \u001b[1;33m\u001b[0m\u001b[0m\n\u001b[1;32m-> 1396\u001b[1;33m     \u001b[1;32mreturn\u001b[0m \u001b[0mGraphPartition\u001b[0m\u001b[1;33m(\u001b[0m\u001b[0mg\u001b[0m\u001b[1;33m,\u001b[0m \u001b[0mindex\u001b[0m\u001b[1;33m)\u001b[0m\u001b[1;33m\u001b[0m\u001b[0m\n\u001b[0m\u001b[0;32m   1397\u001b[0m \u001b[1;33m\u001b[0m\u001b[0m\n\u001b[0;32m   1398\u001b[0m \u001b[1;33m\u001b[0m\u001b[0m\n",
        "\u001b[1;32mc:\\Python27\\lib\\site-packages\\brainx\\modularity.pyc\u001b[0m in \u001b[0;36m__init__\u001b[1;34m(self, graph, index)\u001b[0m\n\u001b[0;32m     79\u001b[0m \u001b[1;33m\u001b[0m\u001b[0m\n\u001b[0;32m     80\u001b[0m         \u001b[1;31m# Now, build the edge information used in modularity computations\u001b[0m\u001b[1;33m\u001b[0m\u001b[1;33m\u001b[0m\u001b[0m\n\u001b[1;32m---> 81\u001b[1;33m         \u001b[0mself\u001b[0m\u001b[1;33m.\u001b[0m\u001b[0mmod_e\u001b[0m\u001b[1;33m,\u001b[0m \u001b[0mself\u001b[0m\u001b[1;33m.\u001b[0m\u001b[0mmod_a\u001b[0m \u001b[1;33m=\u001b[0m \u001b[0mself\u001b[0m\u001b[1;33m.\u001b[0m\u001b[0m_edge_info\u001b[0m\u001b[1;33m(\u001b[0m\u001b[1;33m)\u001b[0m\u001b[1;33m\u001b[0m\u001b[0m\n\u001b[0m\u001b[0;32m     82\u001b[0m \u001b[1;33m\u001b[0m\u001b[0m\n\u001b[0;32m     83\u001b[0m \u001b[1;33m\u001b[0m\u001b[0m\n",
        "\u001b[1;32mc:\\Python27\\lib\\site-packages\\brainx\\modularity.pyc\u001b[0m in \u001b[0;36m_edge_info\u001b[1;34m(self, mod_e, mod_a, index)\u001b[0m\n\u001b[0;32m    113\u001b[0m             \u001b[1;31m#looks like a set when we read it in ipython\u001b[0m\u001b[1;33m\u001b[0m\u001b[1;33m\u001b[0m\u001b[0m\n\u001b[0;32m    114\u001b[0m             \u001b[0mmat_within\u001b[0m  \u001b[1;33m=\u001b[0m \u001b[0mmat\u001b[0m\u001b[1;33m[\u001b[0m\u001b[0mmodnodes\u001b[0m\u001b[1;33m,\u001b[0m\u001b[1;33m:\u001b[0m\u001b[1;33m]\u001b[0m\u001b[1;33m[\u001b[0m\u001b[1;33m:\u001b[0m\u001b[1;33m,\u001b[0m\u001b[0mmodnodes\u001b[0m\u001b[1;33m]\u001b[0m\u001b[1;33m\u001b[0m\u001b[0m\n\u001b[1;32m--> 115\u001b[1;33m             \u001b[0mmat_between\u001b[0m \u001b[1;33m=\u001b[0m \u001b[0mmat\u001b[0m\u001b[1;33m[\u001b[0m\u001b[0mmodnodes\u001b[0m\u001b[1;33m,\u001b[0m\u001b[1;33m:\u001b[0m\u001b[1;33m]\u001b[0m\u001b[1;33m[\u001b[0m\u001b[1;33m:\u001b[0m\u001b[1;33m,\u001b[0m\u001b[0mbtwnnodes\u001b[0m\u001b[1;33m]\u001b[0m\u001b[1;33m\u001b[0m\u001b[0m\n\u001b[0m\u001b[0;32m    116\u001b[0m             \u001b[0mperc_within\u001b[0m \u001b[1;33m=\u001b[0m \u001b[0mmat_within\u001b[0m\u001b[1;33m.\u001b[0m\u001b[0msum\u001b[0m\u001b[1;33m(\u001b[0m\u001b[1;33m)\u001b[0m \u001b[1;33m*\u001b[0m \u001b[0mnorm_factor\u001b[0m\u001b[1;33m\u001b[0m\u001b[0m\n\u001b[0;32m    117\u001b[0m             \u001b[0mperc_btwn\u001b[0m   \u001b[1;33m=\u001b[0m \u001b[0mmat_between\u001b[0m\u001b[1;33m.\u001b[0m\u001b[0msum\u001b[0m\u001b[1;33m(\u001b[0m\u001b[1;33m)\u001b[0m \u001b[1;33m*\u001b[0m \u001b[0mnorm_factor\u001b[0m\u001b[1;33m\u001b[0m\u001b[0m\n",
        "\u001b[1;32mc:\\Python27\\lib\\site-packages\\numpy\\matrixlib\\defmatrix.pyc\u001b[0m in \u001b[0;36m__getitem__\u001b[1;34m(self, index)\u001b[0m\n\u001b[0;32m    303\u001b[0m \u001b[1;33m\u001b[0m\u001b[0m\n\u001b[0;32m    304\u001b[0m         \u001b[1;32mtry\u001b[0m\u001b[1;33m:\u001b[0m\u001b[1;33m\u001b[0m\u001b[0m\n\u001b[1;32m--> 305\u001b[1;33m             \u001b[0mout\u001b[0m \u001b[1;33m=\u001b[0m \u001b[0mN\u001b[0m\u001b[1;33m.\u001b[0m\u001b[0mndarray\u001b[0m\u001b[1;33m.\u001b[0m\u001b[0m__getitem__\u001b[0m\u001b[1;33m(\u001b[0m\u001b[0mself\u001b[0m\u001b[1;33m,\u001b[0m \u001b[0mindex\u001b[0m\u001b[1;33m)\u001b[0m\u001b[1;33m\u001b[0m\u001b[0m\n\u001b[0m\u001b[0;32m    306\u001b[0m         \u001b[1;32mfinally\u001b[0m\u001b[1;33m:\u001b[0m\u001b[1;33m\u001b[0m\u001b[0m\n\u001b[0;32m    307\u001b[0m             \u001b[0mself\u001b[0m\u001b[1;33m.\u001b[0m\u001b[0m_getitem\u001b[0m \u001b[1;33m=\u001b[0m \u001b[0mFalse\u001b[0m\u001b[1;33m\u001b[0m\u001b[0m\n",
        "\u001b[1;31mIndexError\u001b[0m: index (32) out of range (0<=index<24) in dimension 1"
       ]
      }
     ],
     "prompt_number": 465
    },
    {
     "cell_type": "code",
     "collapsed": false,
     "input": [],
     "language": "python",
     "metadata": {},
     "outputs": []
    }
   ],
   "metadata": {}
  }
 ]
}