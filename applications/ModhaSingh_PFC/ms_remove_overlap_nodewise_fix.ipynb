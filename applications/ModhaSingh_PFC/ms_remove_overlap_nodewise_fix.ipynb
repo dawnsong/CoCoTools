{
 "metadata": {
  "name": "ms_remove_overlap_nodewise_fix"
 },
 "nbformat": 3,
 "nbformat_minor": 0,
 "worksheets": [
  {
   "cells": [
    {
     "cell_type": "markdown",
     "metadata": {},
     "source": [
      "#This notebook is for additional analysis in which one node at a time is removed and modularity is computed"
     ]
    },
    {
     "cell_type": "code",
     "collapsed": false,
     "input": [
      "import pickle\n",
      "import networkx as nx\n",
      "import pandas as pd\n",
      "import matplotlib.pyplot as plt\n",
      "import matplotlib.cm as cm\n",
      "import matplotlib as mpl \n",
      "import csv\n",
      "import json\n",
      "import brainx.modularity as mod"
     ],
     "language": "python",
     "metadata": {},
     "outputs": [
      {
       "output_type": "stream",
       "stream": "stderr",
       "text": [
        "c:\\Python27\\lib\\site-packages\\brainx\\__init__.py:30: UserWarning: Monkeypatching NetworkX's Watts-Strogatz routine\n",
        "  warnings.warn(\"Monkeypatching NetworkX's Watts-Strogatz routine\")\n"
       ]
      }
     ],
     "prompt_number": 1
    },
    {
     "cell_type": "code",
     "collapsed": false,
     "input": [
      "#Loading graph the original way\n",
      "filestub=('C:\\\\Users\\\\Robert\\\\gitrepos\\\\cocomac-tools-rsblume\\\\applications\\\\ModhaSingh_PFC\\\\modha\\lowest_full_g.pck')\n",
      "whole_low=pickle.load(open(filestub, \"rb\"))\n",
      "#making graphs binary/undirected\n",
      "whole_low=whole_low.to_undirected()\n",
      "\n",
      "\n",
      "labels_list=['pfc_labels', 'mod_dlpfc_labels', 'mod_vlpfc_labels', 'mod_mpfc_labels', 'lit_dlpfc_labels', 'lit_vlpfc_labels', 'mod_lateral_labels', 'mod_rostral_labels', 'mod_premotor_labels']\n",
      "labels={x : list(csv.reader(open(x + '.csv')))[0] for x in labels_list}\n",
      "\n",
      "pfc_graph=whole_low.subgraph(labels['pfc_labels'])"
     ],
     "language": "python",
     "metadata": {},
     "outputs": [],
     "prompt_number": 2
    },
    {
     "cell_type": "code",
     "collapsed": false,
     "input": [
      "print labels['pfc_labels']"
     ],
     "language": "python",
     "metadata": {},
     "outputs": [
      {
       "output_type": "stream",
       "stream": "stdout",
       "text": [
        "['14r', '10o', '24c', '10m', 'Gu', '12l', '12m', '12o', '12r', '13M', 'M2-FL', 'M2-HL', '13L', '24b', '6Vb', '6Va', '13a', 'PrCO', '11m', '11l', '4c', '24d', '46v', '46vr', '46d', '24a', '46f', 'PS', '47/12', 'M9', '44', '8Ad', '46dr', '9/46v', 'D9', 'F2', 'L9', 'SMAr', 'F4', 'F5', 'F6', 'F7', '8B', 'SMAc', 'ProM#2', '45A', '45B', '9/46d', '10d', 'OFap', '32', '10v', '14O']\n"
       ]
      }
     ],
     "prompt_number": 18
    },
    {
     "cell_type": "code",
     "collapsed": false,
     "input": [
      "infile = open(\"pfc_remove_first_part.pck\",'rb')\n",
      "pfc_remove_first_part_dict = pickle.load(infile)\n",
      "\n",
      "infile = open(\"pfc_remove_first_mod.pck\",'rb')\n",
      "pfc_remove_first_mod_dict = pickle.load(infile)\n",
      "\n",
      "\n",
      "pfc_remove_first_graph_dict={}\n",
      "#remove_first_part_dict={}\n",
      "#remove_first_mod_dict={}"
     ],
     "language": "python",
     "metadata": {},
     "outputs": [],
     "prompt_number": 4
    },
    {
     "cell_type": "code",
     "collapsed": false,
     "input": [
      "size(pfc_remove_first_part_dict.keys())"
     ],
     "language": "python",
     "metadata": {},
     "outputs": [
      {
       "output_type": "pyout",
       "prompt_number": 17,
       "text": [
        "44"
       ]
      }
     ],
     "prompt_number": 17
    },
    {
     "cell_type": "code",
     "collapsed": false,
     "input": [
      "pfc_remove_first_part_dict.keys()"
     ],
     "language": "python",
     "metadata": {},
     "outputs": [
      {
       "output_type": "pyout",
       "prompt_number": 6,
       "text": [
        "['24d',\n",
        " '24a',\n",
        " '10o',\n",
        " '47/12',\n",
        " '10m',\n",
        " '46v',\n",
        " '12l',\n",
        " '12m',\n",
        " '12o',\n",
        " '12r',\n",
        " '13M',\n",
        " '46d',\n",
        " '14r',\n",
        " '46f',\n",
        " '8Ad',\n",
        " 'PS',\n",
        " '24c',\n",
        " 'M9',\n",
        " '44',\n",
        " '24b',\n",
        " '46dr',\n",
        " '6Vb',\n",
        " '6Va',\n",
        " '13a',\n",
        " 'PrCO',\n",
        " '11m',\n",
        " '11l',\n",
        " 'F2',\n",
        " 'L9',\n",
        " 'SMAr',\n",
        " 'Gu',\n",
        " 'F4',\n",
        " 'F5',\n",
        " 'F6',\n",
        " 'F7',\n",
        " '8B',\n",
        " '9/46v',\n",
        " '46vr',\n",
        " '13L',\n",
        " 'M2-HL',\n",
        " 'D9',\n",
        " '4c']"
       ]
      }
     ],
     "prompt_number": 6
    },
    {
     "cell_type": "markdown",
     "metadata": {},
     "source": [
      "##First build graphs for each removed node"
     ]
    },
    {
     "cell_type": "code",
     "collapsed": false,
     "input": [
      "#remove_first_part_dict={}\n",
      "for x in range(0,size(labels['pfc_labels'])):\n",
      "    pfc_graph_remove=pfc_graph.copy()\n",
      "    remove_node=labels['pfc_labels'][x]\n",
      "    pfc_graph_remove.remove_node(remove_node)\n",
      "    pfc_remove_first_graph_dict[remove_node]=pfc_graph_remove\n",
      "    \n"
     ],
     "language": "python",
     "metadata": {},
     "outputs": [],
     "prompt_number": 10
    },
    {
     "cell_type": "code",
     "collapsed": false,
     "input": [
      "size(pfc_remove_first_part_dict.keys())"
     ],
     "language": "python",
     "metadata": {},
     "outputs": [
      {
       "output_type": "pyout",
       "prompt_number": 20,
       "text": [
        "44"
       ]
      }
     ],
     "prompt_number": 20
    },
    {
     "cell_type": "code",
     "collapsed": false,
     "input": [
      "remove_node=labels['pfc_labels'][10]\n",
      "pfc_remove_first_part=mod.simulated_annealing(pfc_remove_first_graph_dict[remove_node])\n",
      "pfc_remove_first_part_dict[remove_node]=pfc_remove_first_part[0].index_as_node_names()\n",
      "pfc_remove_first_mod_dict[remove_node]=pfc_remove_first_part[0].modularity()\n",
      "out_part = open('pfc_remove_first_part.pck', 'wb')\n",
      "pickle.dump(pfc_remove_first_part_dict, out_part)\n",
      "out_part.close()\n",
      "out_mod = open('pfc_remove_first_mod.pck', 'wb')\n",
      "pickle.dump(pfc_remove_first_mod_dict, out_mod)\n",
      "out_mod.close()"
     ],
     "language": "python",
     "metadata": {},
     "outputs": [],
	 "prompt_number": 21
    }, 
  }
 ]
}