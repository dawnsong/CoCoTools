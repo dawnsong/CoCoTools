{
 "metadata": {
  "name": "ms_posterior"
 },
 "nbformat": 3,
 "nbformat_minor": 0,
 "worksheets": [
  {
   "cells": [
    {
     "cell_type": "code",
     "collapsed": false,
     "input": [
      "import pickle\n",
      "import networkx as nx\n",
      "import pandas as pd\n",
      "import matplotlib.pyplot as pl\n",
      "import csv"
     ],
     "language": "python",
     "metadata": {},
     "outputs": [],
     "prompt_number": 1
    },
    {
     "cell_type": "markdown",
     "metadata": {},
     "source": [
      "#Functions"
     ]
    },
    {
     "cell_type": "code",
     "collapsed": false,
     "input": [
      "def edges_between_modules(G,labels_dict, labels1, labels2):\n",
      "    \"\"\"Creates a NX Graph with the edges between two modules.\n",
      "\n",
      "\n",
      "    Parameters\n",
      "    ----------\n",
      "    G: undirected NX Graph\n",
      "    labels_dict : a dict with keys as module names and values as region labels\n",
      "    labels1: the module name/key of the first module you want to examine in labels_dict\n",
      "    labels2: the module name/key of the second module you want to examine in labels_dict\n",
      "\n",
      "    Returns\n",
      "    -------\n",
      "    graphbw1and2 : a NX Graph with edges = edges between module 1 and 2\n",
      "    \"\"\"\n",
      "    labels1_g=nx.Graph()\n",
      "    labels1_g.add_edges_from(G.edges(labels_dict[labels1]))\n",
      "    labels1and2=labels_dict[labels1] + labels_dict[labels2]\n",
      "    graphbw1and2=labels1_g.subgraph(labels1and2)\n",
      "    [graphbw1and2.remove_edge(x[0], x[1]) for x in graphbw1and2.edges() if (x[0] in labels_dict[labels1]) & (x[1] in labels_dict[labels1])]\n",
      "    return graphbw1and2"
     ],
     "language": "python",
     "metadata": {},
     "outputs": [],
     "prompt_number": 2
    },
    {
     "cell_type": "code",
     "collapsed": false,
     "input": [
      "def degrees_between_modules(labels_dict, graphbw1and2, labels2):\n",
      "    \"\"\" Computes the degree for each node of module2 within the between module graph. \n",
      "        That is, it counts the number of edges between module 1 and 2 for each node of module 2 present in the graph\n",
      "\n",
      "    Parameters\n",
      "    ----------\n",
      "    labels_dict: a dict with keys as module names and values as region labels\n",
      "    graphbw1and2: NX Graph with the edges between two modules\n",
      "    labels2: he module name/key of the second module you want to examine in labels_dict\n",
      "\n",
      "    Returns\n",
      "    ---------\n",
      "    degree_bw_mods: a list of degrees for each node of module 2 present in the between module graph\n",
      "    \"\"\"\n",
      "    degree_bw_mod=[graphbw1and2.degree(x) for x in labels_dict[labels2]]\n",
      "    \n",
      "    #Now replace empty values with 0\n",
      "    for i,x in enumerate(degree_bw_mod):\n",
      "        if not x:\n",
      "            degree_bw_mod[i]=0\n",
      "    return degree_bw_mod"
     ],
     "language": "python",
     "metadata": {},
     "outputs": [],
     "prompt_number": 3
    },
    {
     "cell_type": "markdown",
     "metadata": {},
     "source": [
      "#Loading Data and making Labels Dict"
     ]
    },
    {
     "cell_type": "code",
     "collapsed": false,
     "input": [
      "#Loading graphs\n",
      "filestub=('C:\\\\Users\\\\Robert\\\\cocomac\\\\cocomac-tools-rsblume\\\\applications\\\\ModhaSingh_PFC\\\\modha\\lowest_full_g.pck')\n",
      "whole_low=pickle.load(open(filestub, \"rb\"))"
     ],
     "language": "python",
     "metadata": {},
     "outputs": [],
     "prompt_number": 4
    },
    {
     "cell_type": "code",
     "collapsed": false,
     "input": [
      "#loading partition labels and doing some basic calcs\n",
      "labels_list=['pfc_labels', 'mod_dlpfc_labels', 'mod_vlpfc_labels', 'mod_mpfc_labels']\n",
      "labels={x : list(csv.reader(open(x + '.csv')))[0] for x in labels_list}\n",
      "nlabels={x : len(labels[x]) for x in labels_list}"
     ],
     "language": "python",
     "metadata": {},
     "outputs": [],
     "prompt_number": 5
    },
    {
     "cell_type": "code",
     "collapsed": false,
     "input": [
      "#Loading category lists from Modha & Singh Supplment\n",
      "filestub=('C:\\\\Users\\\\Robert\\\\cocomac\\\\cocomac-tools-rsblume\\\\applications\\\\ModhaSingh_PFC\\ms_supplement_nodes_table_cleaned.csv')\n",
      "cat_frame=pd.io.parsers.read_csv(filestub, index_col=1)\n",
      "\n",
      "#Build category labels dict\n",
      "#These labels are for posterior regions and pre-assigned/ a priori by Modha & Singh\n",
      "categories_list=list(cat_frame.category.unique())\n",
      "categories={x : list(cat_frame.ix[cat_frame['category'] == x].index) for x in categories_list} #all regions ordered by category\n",
      "\n"
     ],
     "language": "python",
     "metadata": {},
     "outputs": [],
     "prompt_number": 6
    },
    {
     "cell_type": "code",
     "collapsed": false,
     "input": [
      "#Combining all the Dicts to form a master Labels Dict\n",
      "all_labels = dict(labels.items() + categories.items())"
     ],
     "language": "python",
     "metadata": {},
     "outputs": [],
     "prompt_number": 7
    },
    {
     "cell_type": "markdown",
     "metadata": {},
     "source": [
      "#Start working with Data"
     ]
    },
    {
     "cell_type": "code",
     "collapsed": false,
     "input": [
      "#making graphs binary/undirected\n",
      "whole_low=whole_low.to_undirected()"
     ],
     "language": "python",
     "metadata": {},
     "outputs": [],
     "prompt_number": 8
    },
    {
     "cell_type": "code",
     "collapsed": false,
     "input": [
      "print all_labels.keys()"
     ],
     "language": "python",
     "metadata": {},
     "outputs": [
      {
       "output_type": "stream",
       "stream": "stdout",
       "text": [
        "['ACC', 'Rostral PFC', 'Diencephalon', 'mod_mpfc_labels', 'Superior Temporal Sulcus', 'Occipital', 'Retrosplenial Cortex', 'Mid Brain', 'Insula', 'Superior Temporal', 'Thalamus', 'Post PFC', 'mod_dlpfc_labels', 'Hippocampus', 'Caudal Medial Parietal', 'Posterior Cingulate', 'pfc_labels', 'Auditory Cortex', 'IntraParietal', 'Dorsal Parietal', 'PosterioVentral Parietal', 'Basal Ganglia', 'Amygdala', 'Mid PFC', 'Striatum', 'Cingulate', 'Olfactory', 'Primary motor', 'Parahippocampal', 'Parietal', 'Hypothalamus', 'Supplementary motor', 'Orbital PFC', 'Ventral Temporal', 'Premotor/motor/PFC', 'Temporal', 'Inferotemporal', 'PFC', 'Claustrum', 'Somatosensory 2', 'Cortex', 'Somatosensory', 'Area 32', 'PFC FD', 'Brain', 'Frontal Lobe', 'Ventromedial Frontal', 'mod_vlpfc_labels', 'Visual Cortex', 'Belt']\n"
       ]
      }
     ],
     "prompt_number": 50
    },
    {
     "cell_type": "code",
     "collapsed": false,
     "input": [
      "mod_dl_degrees={}\n",
      "mod_dl_all_degrees={}\n",
      "for x in all_labels.keys():\n",
      "    mod_dl_comparison_graph=edges_between_modules(whole_low, all_labels, 'mod_dlpfc_labels', x)\n",
      "    mod_dl_degrees[x]=degrees_between_modules(all_labels, mod_dl_comparison_graph, x)\n",
      "    mod_dl_all_degrees[x]=sum(mod_dl_degrees[x])"
     ],
     "language": "python",
     "metadata": {},
     "outputs": [],
     "prompt_number": 23
    },
    {
     "cell_type": "code",
     "collapsed": false,
     "input": [
      "mod_vl_degrees={}\n",
      "mod_vl_all_degrees={}\n",
      "for x in all_labels.keys():\n",
      "    mod_vl_comparison_graph=edges_between_modules(whole_low, all_labels, 'mod_vlpfc_labels', x)\n",
      "    mod_vl_degrees[x]=degrees_between_modules(all_labels, mod_vl_comparison_graph, x)\n",
      "    mod_vl_all_degrees[x]=sum(mod_vl_degrees[x])"
     ],
     "language": "python",
     "metadata": {},
     "outputs": [],
     "prompt_number": 22
    },
    {
     "cell_type": "code",
     "collapsed": false,
     "input": [
      "category='ACC'\n",
      "mod_dl_all_degrees[category]/float(nlabels['mod_dlpfc_labels']),mod_vl_all_degrees[category]/float(nlabels['mod_vlpfc_labels'])"
     ],
     "language": "python",
     "metadata": {},
     "outputs": [
      {
       "output_type": "pyout",
       "prompt_number": 47,
       "text": [
        "(0.33333333333333331, 0.25)"
       ]
      }
     ],
     "prompt_number": 47
    },
    {
     "cell_type": "code",
     "collapsed": false,
     "input": [
      "mod_dl_degrees['Caudal Medial Parietal']"
     ],
     "language": "python",
     "metadata": {},
     "outputs": [
      {
       "output_type": "pyout",
       "prompt_number": 64,
       "text": [
        "[1, 0, 3, 4, 2]"
       ]
      }
     ],
     "prompt_number": 64
    },
    {
     "cell_type": "code",
     "collapsed": false,
     "input": [
      "mod_dl_all_degrees['Caudal Medial Parietal']"
     ],
     "language": "python",
     "metadata": {},
     "outputs": [
      {
       "output_type": "pyout",
       "prompt_number": 65,
       "text": [
        "10"
       ]
      }
     ],
     "prompt_number": 65
    },
    {
     "cell_type": "code",
     "collapsed": false,
     "input": [
      "selected_cats=['ACC', 'Superior Temporal Sulcus', 'Occipital', 'Retrosplenial Cortex', 'Insula', 'Superior Temporal', 'Hippocampus', 'Caudal Medial Parietal', 'Posterior Cingulate', 'Auditory Cortex', 'IntraParietal', 'Dorsal Parietal', 'PosterioVentral Parietal', 'Basal Ganglia', 'Amygdala', 'Striatum', 'Cingulate', 'Primary motor', 'Parahippocampal', 'Parietal', 'Supplementary motor', 'Ventral Temporal', 'Premotor/motor/PFC', 'Temporal', 'Inferotemporal', 'Somatosensory 2', 'Somatosensory', 'Area 32']\n",
      "\n",
      "#these numbers are not quite right because they double count each edge\n",
      "dl_vl_posterior_degree_compare={x : ((mod_dl_all_degrees[x]/2)/float(nlabels['mod_dlpfc_labels']),(mod_vl_all_degrees[x]/2)/float(nlabels['mod_vlpfc_labels'])) for x in selected_cats}\n",
      "#I want to plot these results\n"
     ],
     "language": "python",
     "metadata": {},
     "outputs": [],
     "prompt_number": 95
    },
    {
     "cell_type": "markdown",
     "metadata": {},
     "source": [
      "#Comparison between DL and VL with posterior regions"
     ]
    },
    {
     "cell_type": "code",
     "collapsed": false,
     "input": [
      "dl_vl_posterior_degree_compare"
     ],
     "language": "python",
     "metadata": {},
     "outputs": [
      {
       "output_type": "pyout",
       "prompt_number": 96,
       "text": [
        "{'ACC': (0.16666666666666666, 0.125),\n",
        " 'Amygdala': (0.083333333333333329, 0.0),\n",
        " 'Area 32': (0.25, 0.125),\n",
        " 'Auditory Cortex': (0.5, 0.0),\n",
        " 'Basal Ganglia': (0.0, 0.0),\n",
        " 'Caudal Medial Parietal': (0.41666666666666669, 0.375),\n",
        " 'Cingulate': (0.0, 0.0),\n",
        " 'Dorsal Parietal': (0.0, 0.0),\n",
        " 'Hippocampus': (0.0, 0.0),\n",
        " 'Inferotemporal': (0.16666666666666666, 0.375),\n",
        " 'Insula': (0.083333333333333329, 0.125),\n",
        " 'IntraParietal': (0.16666666666666666, 0.25),\n",
        " 'Occipital': (0.0, 0.0),\n",
        " 'Parahippocampal': (0.083333333333333329, 0.125),\n",
        " 'Parietal': (0.0, 0.0),\n",
        " 'PosterioVentral Parietal': (0.16666666666666666, 0.375),\n",
        " 'Posterior Cingulate': (0.0, 0.125),\n",
        " 'Premotor/motor/PFC': (0.58333333333333337, 0.5),\n",
        " 'Primary motor': (0.0, 0.0),\n",
        " 'Retrosplenial Cortex': (0.083333333333333329, 0.125),\n",
        " 'Somatosensory': (0.0, 0.125),\n",
        " 'Somatosensory 2': (0.0, 0.0),\n",
        " 'Striatum': (0.0, 0.0),\n",
        " 'Superior Temporal': (0.58333333333333337, 0.125),\n",
        " 'Superior Temporal Sulcus': (0.25, 0.25),\n",
        " 'Supplementary motor': (0.083333333333333329, 0.0),\n",
        " 'Temporal': (0.0, 0.0),\n",
        " 'Ventral Temporal': (0.0, 0.0)}"
       ]
      }
     ],
     "prompt_number": 96
    },
    {
     "cell_type": "code",
     "collapsed": false,
     "input": [
      "cat='Inferotemporal'\n",
      "mod_dl_IT_graph=edges_between_modules(whole_low, all_labels, 'mod_dlpfc_labels', cat)\n",
      "mod_vl_IT_graph=edges_between_modules(whole_low, all_labels, 'mod_vlpfc_labels', cat)\n",
      "\n",
      "cat='Superior Temporal'\n",
      "mod_dl_ST_graph=edges_between_modules(whole_low, all_labels, 'mod_dlpfc_labels', cat)\n",
      "mod_vl_ST_graph=edges_between_modules(whole_low, all_labels, 'mod_vlpfc_labels', cat)\n"
     ],
     "language": "python",
     "metadata": {},
     "outputs": [],
     "prompt_number": 97
    },
    {
     "cell_type": "code",
     "collapsed": false,
     "input": [
      "nx.draw(mod_dl_IT_graph)"
     ],
     "language": "python",
     "metadata": {},
     "outputs": [
      {
       "output_type": "display_data",
       "png": "[encoded data removed]"
      }
     ],
     "prompt_number": 77
    },
    {
     "cell_type": "code",
     "collapsed": false,
     "input": [
      "nx.draw(mod_vl_IT_graph)"
     ],
     "language": "python",
     "metadata": {},
     "outputs": [
      {
       "output_type": "display_data",
       "png": "[encoded data removed]"
      }
     ],
     "prompt_number": 78
    },
    {
     "cell_type": "code",
     "collapsed": false,
     "input": [
      "nx.draw(mod_dl_ST_graph)"
     ],
     "language": "python",
     "metadata": {},
     "outputs": [
      {
       "output_type": "display_data",
       "png": "[encoded data removed]"
      }
     ],
     "prompt_number": 98
    },
    {
     "cell_type": "code",
     "collapsed": false,
     "input": [
      "nx.draw(mod_vl_ST_graph)"
     ],
     "language": "python",
     "metadata": {},
     "outputs": [
      {
       "output_type": "display_data",
       "png": "[encoded data removed]"
      }
     ],
     "prompt_number": 99
    },
    {
     "cell_type": "code",
     "collapsed": false,
     "input": [
      "#Not sure if I need this but it cleans the cat_frame\n",
      "clean_cat_frame=cat_frame\n",
      "droplist=[]\n",
      "\n",
      "for i,x in enumerate(clean_cat_frame.index):\n",
      "    if clean_cat_frame.index[i] not in nodelist:\n",
      "        droplist.append(x)\n",
      "\n",
      "clean_cat_frame.drop(droplist)"
     ],
     "language": "python",
     "metadata": {},
     "outputs": []
    },
    {
     "cell_type": "code",
     "collapsed": false,
     "input": [
      "filestub='C:\\\\Users\\\\Robert\\\\cocomac\\\\cocomac-tools-rsblume\\\\applications\\\\ModhaSingh_PFC\\\\nodelist.csv'\n",
      "csvfile = open(filestub, 'wb')\n",
      "wr = csv.writer(csvfile)\n",
      "wr.writerow(nodelist)\n",
      "    "
     ],
     "language": "python",
     "metadata": {},
     "outputs": [],
     "prompt_number": 263
    },
    {
     "cell_type": "code",
     "collapsed": false,
     "input": [
      "categories=list(cat_frame.category.unique())\n",
      "\n",
      "for x in categories:\n",
      "    cat_regions=[]\n",
      "    for y in nodelist:\n",
      "        if cat_frame.category.ix[y]==x:\n",
      "            cat_regions.append(y)\n",
      "            \n",
      "    filestub=['C:\\\\Users\\\\Robert\\\\cocomac\\\\cocomac-tools-rsblume\\\\applications\\\\ModhaSingh_PFC\\\\' + x +'.csv']\n",
      "    csvfile = open(filestub, 'wb')\n",
      "    wr = csv.writer(csvfile)\n",
      "    wr.writerow(catregions)\n",
      "    "
     ],
     "language": "python",
     "metadata": {},
     "outputs": [
      {
       "ename": "ValueError",
       "evalue": "The truth value of an array with more than one element is ambiguous. Use a.any() or a.all()",
       "output_type": "pyerr",
       "traceback": [
        "\u001b[1;31m---------------------------------------------------------------------------\u001b[0m\n\u001b[1;31mValueError\u001b[0m                                Traceback (most recent call last)",
        "\u001b[1;32m<ipython-input-275-47a268e9a841>\u001b[0m in \u001b[0;36m<module>\u001b[1;34m()\u001b[0m\n\u001b[0;32m      3\u001b[0m \u001b[1;32mfor\u001b[0m \u001b[0mx\u001b[0m \u001b[1;32min\u001b[0m \u001b[0mcategories\u001b[0m\u001b[1;33m:\u001b[0m\u001b[1;33m\u001b[0m\u001b[0m\n\u001b[0;32m      4\u001b[0m     \u001b[1;32mfor\u001b[0m \u001b[0my\u001b[0m \u001b[1;32min\u001b[0m \u001b[0mnodelist\u001b[0m\u001b[1;33m:\u001b[0m\u001b[1;33m\u001b[0m\u001b[0m\n\u001b[1;32m----> 5\u001b[1;33m         \u001b[1;32mif\u001b[0m \u001b[0mcat_frame\u001b[0m\u001b[1;33m.\u001b[0m\u001b[0mcategory\u001b[0m\u001b[1;33m.\u001b[0m\u001b[0mix\u001b[0m\u001b[1;33m[\u001b[0m\u001b[0my\u001b[0m\u001b[1;33m]\u001b[0m\u001b[1;33m==\u001b[0m\u001b[0mx\u001b[0m\u001b[1;33m:\u001b[0m\u001b[1;33m\u001b[0m\u001b[0m\n\u001b[0m\u001b[0;32m      6\u001b[0m             \u001b[0mcat_regions\u001b[0m\u001b[1;33m.\u001b[0m\u001b[0mappend\u001b[0m\u001b[1;33m(\u001b[0m\u001b[0my\u001b[0m\u001b[1;33m)\u001b[0m\u001b[1;33m\u001b[0m\u001b[0m\n\u001b[0;32m      7\u001b[0m \u001b[1;33m\u001b[0m\u001b[0m\n",
        "\u001b[1;31mValueError\u001b[0m: The truth value of an array with more than one element is ambiguous. Use a.any() or a.all()"
       ]
      }
     ],
     "prompt_number": 275
    },
    {
     "cell_type": "code",
     "collapsed": false,
     "input": [
      "#Given a list of nodes or graph and a data frame with node labels + category assignment\n",
      "#write out nodes in separate lists in .csv files, \n",
      "#1 .csv per category assignment\n",
      "\n",
      "if cat_frame.category.ix['46']==x\n",
      "#cat_frame.category.values=='Thalamus'\n",
      "        \n",
      "\n",
      "#for x in nodelist:\n",
      "    \n",
      "\n",
      "\n",
      "\n",
      "#[foo.ix[x, 'category'] for x in foo.index[x] if foo.ix[x] not in nodelist]\n",
      "#for x in foo.index:\n",
      "#    foo[x]\n",
      "#foo.ix['Br','category']\n",
      "\n",
      "\n",
      "\n",
      "\n",
      "        \n",
      "      \n",
      "        \n",
      "\n",
      "    "
     ],
     "language": "python",
     "metadata": {},
     "outputs": [
      {
       "output_type": "pyout",
       "prompt_number": 233,
       "text": [
        "'Mid PFC'"
       ]
      }
     ],
     "prompt_number": 233
    },
    {
     "cell_type": "code",
     "collapsed": false,
     "input": [],
     "language": "python",
     "metadata": {},
     "outputs": []
    },
    {
     "cell_type": "code",
     "collapsed": false,
     "input": [
      "#creates a graph with all edges between the two modules (in this case dl and vl)\n",
      "\n",
      "mod_dl_g=nx.Graph()\n",
      "mod_dl_g.add_edges_from(whole_low.edges(labels['mod_dlpfc_labels']))\n",
      "\n",
      "mod_dl_vl_labels= labels['mod_dlpfc_labels'] + labels['mod_vlpfc_labels']\n",
      "mod_dl_vl_g=mod_dl_g.subgraph(mod_dl_vl_labels)\n",
      "[mod_dl_vl_g.remove_edge(x[0], x[1]) for x in mod_dl_vl_g.edges() if (x[0] in labels['mod_dlpfc_labels']) & (x[1] in labels['mod_dlpfc_labels']) ]\n",
      "mod_dl_vl_g.edges()\n"
     ],
     "language": "python",
     "metadata": {},
     "outputs": [
      {
       "output_type": "pyout",
       "prompt_number": 14,
       "text": [
        "[('SMAr', 'PS'),\n",
        " ('SMAr', '46v'),\n",
        " ('SMAr', '46vr'),\n",
        " ('SMAr', 'SMAc'),\n",
        " ('SMAr', '46dr'),\n",
        " ('SMAr', '46d'),\n",
        " ('46f', 'PS'),\n",
        " ('47/12', '8B'),\n",
        " ('PS', '8B'),\n",
        " ('PS', '46v'),\n",
        " ('PS', '46vr'),\n",
        " ('PS', '46dr'),\n",
        " ('PS', '46d'),\n",
        " ('8B', 'M9'),\n",
        " ('8B', '46v'),\n",
        " ('8B', 'D9'),\n",
        " ('8B', '46d'),\n",
        " ('8B', '45B'),\n",
        " ('8B', '9/46d'),\n",
        " ('8B', '8Ad'),\n",
        " ('8B', 'L9'),\n",
        " ('M9', '46d'),\n",
        " ('M9', '46v'),\n",
        " ('M9', 'D9'),\n",
        " ('46v', 'D9'),\n",
        " ('46v', 'ProM#2'),\n",
        " ('46v', '46d'),\n",
        " ('46v', 'L9'),\n",
        " ('D9', '46d')]"
       ]
      }
     ],
     "prompt_number": 14
    },
    {
     "cell_type": "code",
     "collapsed": false,
     "input": [
      "\n",
      "    "
     ],
     "language": "python",
     "metadata": {},
     "outputs": [],
     "prompt_number": 15
    },
    {
     "cell_type": "code",
     "collapsed": false,
     "input": [
      "foo=edges_between_modules(labels,'mod_dlpfc_labels', 'mod_vlpfc_labels')\n",
      "foo.edges()"
     ],
     "language": "python",
     "metadata": {},
     "outputs": [
      {
       "output_type": "pyout",
       "prompt_number": 16,
       "text": [
        "[('47/12', '8B'),\n",
        " ('8B', '45B'),\n",
        " ('8B', '9/46d'),\n",
        " ('8B', '8Ad'),\n",
        " ('46v', 'ProM#2')]"
       ]
      }
     ],
     "prompt_number": 16
    },
    {
     "cell_type": "code",
     "collapsed": false,
     "input": [
      "mod_dl_vl_g.edges()"
     ],
     "language": "python",
     "metadata": {},
     "outputs": [
      {
       "output_type": "pyout",
       "prompt_number": 9,
       "text": [
        "[('47/12', '8B'),\n",
        " ('8B', '45B'),\n",
        " ('8B', '9/46d'),\n",
        " ('8B', '8Ad'),\n",
        " ('46v', 'ProM#2')]"
       ]
      }
     ],
     "prompt_number": 9
    },
    {
     "cell_type": "code",
     "collapsed": false,
     "input": [
      "[mod_dl_vl_g.edges(x) for x in mod_dl_vl_g.edges() if (x[0] in labels['mod_dlpfc_labels']) & (x[1] in labels['mod_dlpfc_labels']) ]\n",
      "\n",
      "#(x[0] in labels['mod_dlpfc_labels']) & (x[1] in labels['mod_dlpfc_labels'])\n",
      "#(mod_dl_vl_g.edges()[0][0] in labels['mod_dlpfc_labels']) & (mod_dl_vl_g.edges()[0][1] in labels['mod_dlpfc_labels'])"
     ],
     "language": "python",
     "metadata": {},
     "outputs": [
      {
       "output_type": "pyout",
       "prompt_number": 246,
       "text": [
        "[[('SMAr', 'PS'),\n",
        "  ('SMAr', '46v'),\n",
        "  ('SMAr', '46vr'),\n",
        "  ('SMAr', 'SMAc'),\n",
        "  ('SMAr', '46dr'),\n",
        "  ('SMAr', '46d'),\n",
        "  ('PS', '8B'),\n",
        "  ('PS', '46v'),\n",
        "  ('PS', '46vr'),\n",
        "  ('PS', '46dr'),\n",
        "  ('PS', '46d'),\n",
        "  ('PS', '46f')],\n",
        " [('SMAr', 'PS'),\n",
        "  ('SMAr', '46v'),\n",
        "  ('SMAr', '46vr'),\n",
        "  ('SMAr', 'SMAc'),\n",
        "  ('SMAr', '46dr'),\n",
        "  ('SMAr', '46d'),\n",
        "  ('46v', 'PS'),\n",
        "  ('46v', '8B'),\n",
        "  ('46v', 'D9'),\n",
        "  ('46v', 'ProM#2'),\n",
        "  ('46v', '46d'),\n",
        "  ('46v', 'M9'),\n",
        "  ('46v', 'L9')],\n",
        " [('SMAr', 'PS'),\n",
        "  ('SMAr', '46v'),\n",
        "  ('SMAr', '46vr'),\n",
        "  ('SMAr', 'SMAc'),\n",
        "  ('SMAr', '46dr'),\n",
        "  ('SMAr', '46d'),\n",
        "  ('46vr', 'PS')],\n",
        " [('SMAr', 'PS'),\n",
        "  ('SMAr', '46v'),\n",
        "  ('SMAr', '46vr'),\n",
        "  ('SMAr', 'SMAc'),\n",
        "  ('SMAr', '46dr'),\n",
        "  ('SMAr', '46d')],\n",
        " [('SMAr', 'PS'),\n",
        "  ('SMAr', '46v'),\n",
        "  ('SMAr', '46vr'),\n",
        "  ('SMAr', 'SMAc'),\n",
        "  ('SMAr', '46dr'),\n",
        "  ('SMAr', '46d'),\n",
        "  ('46dr', 'PS')],\n",
        " [('SMAr', 'PS'),\n",
        "  ('SMAr', '46v'),\n",
        "  ('SMAr', '46vr'),\n",
        "  ('SMAr', 'SMAc'),\n",
        "  ('SMAr', '46dr'),\n",
        "  ('SMAr', '46d'),\n",
        "  ('46d', 'PS'),\n",
        "  ('46d', '8B'),\n",
        "  ('46d', '46v'),\n",
        "  ('46d', 'D9'),\n",
        "  ('46d', 'M9')],\n",
        " [('46f', 'PS'),\n",
        "  ('PS', 'SMAr'),\n",
        "  ('PS', '8B'),\n",
        "  ('PS', '46v'),\n",
        "  ('PS', '46vr'),\n",
        "  ('PS', '46dr'),\n",
        "  ('PS', '46d')],\n",
        " [('PS', 'SMAr'),\n",
        "  ('PS', '8B'),\n",
        "  ('PS', '46v'),\n",
        "  ('PS', '46vr'),\n",
        "  ('PS', '46dr'),\n",
        "  ('PS', '46d'),\n",
        "  ('PS', '46f'),\n",
        "  ('8B', '47/12'),\n",
        "  ('8B', 'M9'),\n",
        "  ('8B', '46v'),\n",
        "  ('8B', 'D9'),\n",
        "  ('8B', '46d'),\n",
        "  ('8B', '45B'),\n",
        "  ('8B', '9/46d'),\n",
        "  ('8B', '8Ad'),\n",
        "  ('8B', 'L9')],\n",
        " [('PS', 'SMAr'),\n",
        "  ('PS', '8B'),\n",
        "  ('PS', '46v'),\n",
        "  ('PS', '46vr'),\n",
        "  ('PS', '46dr'),\n",
        "  ('PS', '46d'),\n",
        "  ('PS', '46f'),\n",
        "  ('46v', 'SMAr'),\n",
        "  ('46v', '8B'),\n",
        "  ('46v', 'D9'),\n",
        "  ('46v', 'ProM#2'),\n",
        "  ('46v', '46d'),\n",
        "  ('46v', 'M9'),\n",
        "  ('46v', 'L9')],\n",
        " [('PS', 'SMAr'),\n",
        "  ('PS', '8B'),\n",
        "  ('PS', '46v'),\n",
        "  ('PS', '46vr'),\n",
        "  ('PS', '46dr'),\n",
        "  ('PS', '46d'),\n",
        "  ('PS', '46f'),\n",
        "  ('46vr', 'SMAr')],\n",
        " [('PS', 'SMAr'),\n",
        "  ('PS', '8B'),\n",
        "  ('PS', '46v'),\n",
        "  ('PS', '46vr'),\n",
        "  ('PS', '46dr'),\n",
        "  ('PS', '46d'),\n",
        "  ('PS', '46f'),\n",
        "  ('46dr', 'SMAr')],\n",
        " [('PS', 'SMAr'),\n",
        "  ('PS', '8B'),\n",
        "  ('PS', '46v'),\n",
        "  ('PS', '46vr'),\n",
        "  ('PS', '46dr'),\n",
        "  ('PS', '46d'),\n",
        "  ('PS', '46f'),\n",
        "  ('46d', 'SMAr'),\n",
        "  ('46d', '8B'),\n",
        "  ('46d', '46v'),\n",
        "  ('46d', 'D9'),\n",
        "  ('46d', 'M9')],\n",
        " [('8B', 'PS'),\n",
        "  ('8B', '47/12'),\n",
        "  ('8B', 'M9'),\n",
        "  ('8B', '46v'),\n",
        "  ('8B', 'D9'),\n",
        "  ('8B', '46d'),\n",
        "  ('8B', '45B'),\n",
        "  ('8B', '9/46d'),\n",
        "  ('8B', '8Ad'),\n",
        "  ('8B', 'L9'),\n",
        "  ('M9', '46d'),\n",
        "  ('M9', '46v'),\n",
        "  ('M9', 'D9')],\n",
        " [('8B', 'PS'),\n",
        "  ('8B', '47/12'),\n",
        "  ('8B', 'M9'),\n",
        "  ('8B', '46v'),\n",
        "  ('8B', 'D9'),\n",
        "  ('8B', '46d'),\n",
        "  ('8B', '45B'),\n",
        "  ('8B', '9/46d'),\n",
        "  ('8B', '8Ad'),\n",
        "  ('8B', 'L9'),\n",
        "  ('46v', 'PS'),\n",
        "  ('46v', 'SMAr'),\n",
        "  ('46v', 'D9'),\n",
        "  ('46v', 'ProM#2'),\n",
        "  ('46v', '46d'),\n",
        "  ('46v', 'M9'),\n",
        "  ('46v', 'L9')],\n",
        " [('8B', 'PS'),\n",
        "  ('8B', '47/12'),\n",
        "  ('8B', 'M9'),\n",
        "  ('8B', '46v'),\n",
        "  ('8B', 'D9'),\n",
        "  ('8B', '46d'),\n",
        "  ('8B', '45B'),\n",
        "  ('8B', '9/46d'),\n",
        "  ('8B', '8Ad'),\n",
        "  ('8B', 'L9'),\n",
        "  ('D9', '46d'),\n",
        "  ('D9', '46v'),\n",
        "  ('D9', 'M9')],\n",
        " [('8B', 'PS'),\n",
        "  ('8B', '47/12'),\n",
        "  ('8B', 'M9'),\n",
        "  ('8B', '46v'),\n",
        "  ('8B', 'D9'),\n",
        "  ('8B', '46d'),\n",
        "  ('8B', '45B'),\n",
        "  ('8B', '9/46d'),\n",
        "  ('8B', '8Ad'),\n",
        "  ('8B', 'L9'),\n",
        "  ('46d', 'PS'),\n",
        "  ('46d', 'SMAr'),\n",
        "  ('46d', '46v'),\n",
        "  ('46d', 'D9'),\n",
        "  ('46d', 'M9')],\n",
        " [('8B', 'PS'),\n",
        "  ('8B', '47/12'),\n",
        "  ('8B', 'M9'),\n",
        "  ('8B', '46v'),\n",
        "  ('8B', 'D9'),\n",
        "  ('8B', '46d'),\n",
        "  ('8B', '45B'),\n",
        "  ('8B', '9/46d'),\n",
        "  ('8B', '8Ad'),\n",
        "  ('8B', 'L9'),\n",
        "  ('L9', '46v')],\n",
        " [('M9', '8B'),\n",
        "  ('M9', '46d'),\n",
        "  ('M9', '46v'),\n",
        "  ('M9', 'D9'),\n",
        "  ('46d', 'PS'),\n",
        "  ('46d', 'SMAr'),\n",
        "  ('46d', '8B'),\n",
        "  ('46d', '46v'),\n",
        "  ('46d', 'D9')],\n",
        " [('M9', '8B'),\n",
        "  ('M9', '46d'),\n",
        "  ('M9', '46v'),\n",
        "  ('M9', 'D9'),\n",
        "  ('46v', 'PS'),\n",
        "  ('46v', 'SMAr'),\n",
        "  ('46v', '8B'),\n",
        "  ('46v', 'D9'),\n",
        "  ('46v', 'ProM#2'),\n",
        "  ('46v', '46d'),\n",
        "  ('46v', 'L9')],\n",
        " [('M9', '8B'),\n",
        "  ('M9', '46d'),\n",
        "  ('M9', '46v'),\n",
        "  ('M9', 'D9'),\n",
        "  ('D9', '8B'),\n",
        "  ('D9', '46d'),\n",
        "  ('D9', '46v')],\n",
        " [('46v', 'PS'),\n",
        "  ('46v', 'SMAr'),\n",
        "  ('46v', '8B'),\n",
        "  ('46v', 'D9'),\n",
        "  ('46v', 'ProM#2'),\n",
        "  ('46v', '46d'),\n",
        "  ('46v', 'M9'),\n",
        "  ('46v', 'L9'),\n",
        "  ('D9', '8B'),\n",
        "  ('D9', '46d'),\n",
        "  ('D9', 'M9')],\n",
        " [('46v', 'PS'),\n",
        "  ('46v', 'SMAr'),\n",
        "  ('46v', '8B'),\n",
        "  ('46v', 'D9'),\n",
        "  ('46v', 'ProM#2'),\n",
        "  ('46v', '46d'),\n",
        "  ('46v', 'M9'),\n",
        "  ('46v', 'L9'),\n",
        "  ('46d', 'PS'),\n",
        "  ('46d', 'SMAr'),\n",
        "  ('46d', '8B'),\n",
        "  ('46d', 'D9'),\n",
        "  ('46d', 'M9')],\n",
        " [('46v', 'PS'),\n",
        "  ('46v', 'SMAr'),\n",
        "  ('46v', '8B'),\n",
        "  ('46v', 'D9'),\n",
        "  ('46v', 'ProM#2'),\n",
        "  ('46v', '46d'),\n",
        "  ('46v', 'M9'),\n",
        "  ('46v', 'L9'),\n",
        "  ('L9', '8B')],\n",
        " [('D9', '8B'),\n",
        "  ('D9', '46d'),\n",
        "  ('D9', '46v'),\n",
        "  ('D9', 'M9'),\n",
        "  ('46d', 'PS'),\n",
        "  ('46d', 'SMAr'),\n",
        "  ('46d', '8B'),\n",
        "  ('46d', '46v'),\n",
        "  ('46d', 'M9')]]"
       ]
      }
     ],
     "prompt_number": 246
    },
    {
     "cell_type": "code",
     "collapsed": false,
     "input": [
      "[x for x in mod_dl_vl_g.edges()]"
     ],
     "language": "python",
     "metadata": {},
     "outputs": [
      {
       "output_type": "pyout",
       "prompt_number": 242,
       "text": [
        "[('SMAr', 'PS'),\n",
        " ('SMAr', '46v'),\n",
        " ('SMAr', '46vr'),\n",
        " ('SMAr', 'SMAc'),\n",
        " ('SMAr', '46dr'),\n",
        " ('SMAr', '46d'),\n",
        " ('46f', 'PS'),\n",
        " ('47/12', '8B'),\n",
        " ('PS', '8B'),\n",
        " ('PS', '46v'),\n",
        " ('PS', '46vr'),\n",
        " ('PS', '46dr'),\n",
        " ('PS', '46d'),\n",
        " ('8B', 'M9'),\n",
        " ('8B', '46v'),\n",
        " ('8B', 'D9'),\n",
        " ('8B', '46d'),\n",
        " ('8B', '45B'),\n",
        " ('8B', '9/46d'),\n",
        " ('8B', '8Ad'),\n",
        " ('8B', 'L9'),\n",
        " ('M9', '46d'),\n",
        " ('M9', '46v'),\n",
        " ('M9', 'D9'),\n",
        " ('46v', 'D9'),\n",
        " ('46v', 'ProM#2'),\n",
        " ('46v', '46d'),\n",
        " ('46v', 'L9'),\n",
        " ('D9', '46d')]"
       ]
      }
     ],
     "prompt_number": 242
    },
    {
     "cell_type": "code",
     "collapsed": false,
     "input": [
      "[mod_dl_vl_g.edge[edge] for edge in mod_dl_vl_g.edges_iter() if (mod_dl_vl_g.edges[0][0] in labels['mod_dlpfc_labels']) & (mod_dl_vl_g.edges()[0][1] in labels['mod_dlpfc_labels']) ]"
     ],
     "language": "python",
     "metadata": {},
     "outputs": [
      {
       "output_type": "pyout",
       "prompt_number": 226,
       "text": [
        "[<bound method Graph.edges of <networkx.classes.graph.Graph object at 0x05B28550>>,\n",
        " <bound method Graph.edges of <networkx.classes.graph.Graph object at 0x05B28550>>,\n",
        " <bound method Graph.edges of <networkx.classes.graph.Graph object at 0x05B28550>>,\n",
        " <bound method Graph.edges of <networkx.classes.graph.Graph object at 0x05B28550>>,\n",
        " <bound method Graph.edges of <networkx.classes.graph.Graph object at 0x05B28550>>,\n",
        " <bound method Graph.edges of <networkx.classes.graph.Graph object at 0x05B28550>>,\n",
        " <bound method Graph.edges of <networkx.classes.graph.Graph object at 0x05B28550>>,\n",
        " <bound method Graph.edges of <networkx.classes.graph.Graph object at 0x05B28550>>,\n",
        " <bound method Graph.edges of <networkx.classes.graph.Graph object at 0x05B28550>>,\n",
        " <bound method Graph.edges of <networkx.classes.graph.Graph object at 0x05B28550>>,\n",
        " <bound method Graph.edges of <networkx.classes.graph.Graph object at 0x05B28550>>,\n",
        " <bound method Graph.edges of <networkx.classes.graph.Graph object at 0x05B28550>>,\n",
        " <bound method Graph.edges of <networkx.classes.graph.Graph object at 0x05B28550>>,\n",
        " <bound method Graph.edges of <networkx.classes.graph.Graph object at 0x05B28550>>,\n",
        " <bound method Graph.edges of <networkx.classes.graph.Graph object at 0x05B28550>>,\n",
        " <bound method Graph.edges of <networkx.classes.graph.Graph object at 0x05B28550>>,\n",
        " <bound method Graph.edges of <networkx.classes.graph.Graph object at 0x05B28550>>,\n",
        " <bound method Graph.edges of <networkx.classes.graph.Graph object at 0x05B28550>>,\n",
        " <bound method Graph.edges of <networkx.classes.graph.Graph object at 0x05B28550>>,\n",
        " <bound method Graph.edges of <networkx.classes.graph.Graph object at 0x05B28550>>,\n",
        " <bound method Graph.edges of <networkx.classes.graph.Graph object at 0x05B28550>>,\n",
        " <bound method Graph.edges of <networkx.classes.graph.Graph object at 0x05B28550>>,\n",
        " <bound method Graph.edges of <networkx.classes.graph.Graph object at 0x05B28550>>,\n",
        " <bound method Graph.edges of <networkx.classes.graph.Graph object at 0x05B28550>>,\n",
        " <bound method Graph.edges of <networkx.classes.graph.Graph object at 0x05B28550>>,\n",
        " <bound method Graph.edges of <networkx.classes.graph.Graph object at 0x05B28550>>,\n",
        " <bound method Graph.edges of <networkx.classes.graph.Graph object at 0x05B28550>>,\n",
        " <bound method Graph.edges of <networkx.classes.graph.Graph object at 0x05B28550>>,\n",
        " <bound method Graph.edges of <networkx.classes.graph.Graph object at 0x05B28550>>]"
       ]
      }
     ],
     "prompt_number": 226
    },
    {
     "cell_type": "code",
     "collapsed": false,
     "input": [
      "mod_dl_vl_g.edge()"
     ],
     "language": "python",
     "metadata": {},
     "outputs": [
      {
       "ename": "TypeError",
       "evalue": "'dict' object is not callable",
       "output_type": "pyerr",
       "traceback": [
        "\u001b[1;31m---------------------------------------------------------------------------\u001b[0m\n\u001b[1;31mTypeError\u001b[0m                                 Traceback (most recent call last)",
        "\u001b[1;32m<ipython-input-221-bd8a8b5bb842>\u001b[0m in \u001b[0;36m<module>\u001b[1;34m()\u001b[0m\n\u001b[1;32m----> 1\u001b[1;33m \u001b[0mmod_dl_vl_g\u001b[0m\u001b[1;33m.\u001b[0m\u001b[0medge\u001b[0m\u001b[1;33m(\u001b[0m\u001b[1;33m)\u001b[0m\u001b[1;33m\u001b[0m\u001b[0m\n\u001b[0m",
        "\u001b[1;31mTypeError\u001b[0m: 'dict' object is not callable"
       ]
      }
     ],
     "prompt_number": 221
    },
    {
     "cell_type": "code",
     "collapsed": false,
     "input": [],
     "language": "python",
     "metadata": {},
     "outputs": []
    },
    {
     "cell_type": "code",
     "collapsed": false,
     "input": [],
     "language": "python",
     "metadata": {},
     "outputs": []
    },
    {
     "cell_type": "code",
     "collapsed": false,
     "input": [],
     "language": "python",
     "metadata": {},
     "outputs": []
    }
   ],
   "metadata": {}
  }
 ]
}