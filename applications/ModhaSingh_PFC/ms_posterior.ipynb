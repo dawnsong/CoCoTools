{
 "metadata": {
  "name": "ms_posterior"
 },
 "nbformat": 3,
 "nbformat_minor": 0,
 "worksheets": [
  {
   "cells": [
    {
     "cell_type": "markdown",
     "metadata": {},
     "source": [
      "\n",
      "#Blumenfeld, Bliss, Van der Wert, Perez, D'Esposito, 2013 SfN Poster"
     ]
    },
    {
     "cell_type": "markdown",
     "metadata": {},
     "source": [
      "this little ipynb does most of the analyses for the poster"
     ]
    },
    {
     "cell_type": "markdown",
     "metadata": {},
     "source": [
      "We use a single graph, Modha & Singh, 2011  --> An anatomical brain graph from the macaque. 240+ individual tracer studies went into compiling this data"
     ]
    },
    {
     "cell_type": "markdown",
     "metadata": {},
     "source": [
      "most of what I am doing here is taking pre-established modules from the frontal cortex and seeing how these moduled connect to posterior regions"
     ]
    },
    {
     "cell_type": "markdown",
     "metadata": {},
     "source": [
      "I also do a bit of tinkering with the spectral method, and toward the middle I have it set up to run another/re-do simulated annealing just for giggles"
     ]
    },
    {
     "cell_type": "code",
     "collapsed": false,
     "input": [
      "import pickle\n",
      "import networkx as nx\n",
      "import pandas as pd\n",
      "import matplotlib.pyplot as plt\n",
      "import matplotlib.cm as cm\n",
      "import matplotlib as mpl \n",
      "import csv\n",
      "import brainx.modularity as mod"
     ],
     "language": "python",
     "metadata": {},
     "outputs": [],
     "prompt_number": 147
    },
    {
     "cell_type": "markdown",
     "metadata": {},
     "source": [
      "#Functions"
     ]
    },
    {
     "cell_type": "code",
     "collapsed": false,
     "input": [
      "def edges_between_modules(G,labels_dict, labels1, labels2):\n",
      "    \"\"\"Creates a NX Graph with the edges between two modules. \n",
      "        This function requires a particular file structure that is good for what I do\n",
      "\n",
      "\n",
      "    Parameters\n",
      "    ----------\n",
      "    G: undirected NX Graph\n",
      "    labels_dict : a dict with keys as module names and values as region labels\n",
      "    labels1: the module name/key of the first module you want to examine in labels_dict\n",
      "    labels2: the module name/key of the second module you want to examine in labels_dict\n",
      "\n",
      "    Returns\n",
      "    -------\n",
      "    graphbw1and2 : a NX Graph with edges = edges between module 1 and 2\n",
      "    \"\"\"\n",
      "    labels1_g=nx.Graph()\n",
      "    labels1_g.add_edges_from(G.edges(labels_dict[labels1]))\n",
      "    labels1and2=labels_dict[labels1] + labels_dict[labels2]\n",
      "    graphbw1and2=labels1_g.subgraph(labels1and2)\n",
      "    [graphbw1and2.remove_edge(x[0], x[1]) for x in graphbw1and2.edges() if (x[0] in labels_dict[labels1]) & (x[1] in labels_dict[labels1])]\n",
      "    return graphbw1and2"
     ],
     "language": "python",
     "metadata": {},
     "outputs": [],
     "prompt_number": 2
    },
    {
     "cell_type": "code",
     "collapsed": false,
     "input": [
      "def degrees_between_modules(labels_dict, graphbw1and2, labels2):\n",
      "    \"\"\" Computes the degree for each node of module2 within the between module graph. \n",
      "        That is, it counts the number of edges between module 1 and 2 for each node of module 2 present in the graph\n",
      "\n",
      "    Parameters\n",
      "    ----------\n",
      "    labels_dict: a dict with keys as module names and values as region labels\n",
      "    graphbw1and2: NX Graph with the edges between two modules\n",
      "    labels2: he module name/key of the second module you want to examine in labels_dict\n",
      "\n",
      "    Returns\n",
      "    ---------\n",
      "    degree_bw_mods: a list of degrees for each node of module 2 present in the between module graph\n",
      "    \"\"\"\n",
      "    degree_bw_mod=[graphbw1and2.degree(x) for x in labels_dict[labels2]]\n",
      "    \n",
      "    #Now replace empty values with 0\n",
      "    for i,x in enumerate(degree_bw_mod):\n",
      "        if not x:\n",
      "            degree_bw_mod[i]=0\n",
      "    return degree_bw_mod"
     ],
     "language": "python",
     "metadata": {},
     "outputs": [],
     "prompt_number": 3
    },
    {
     "cell_type": "code",
     "collapsed": false,
     "input": [
      "def norm_degrees_by_nodes(all_degrees_dict,labels1,labels2):\n",
      "    \"\"\" divides the degree between module 1 and module 2 with the number of nodes in module 1.\n",
      "\n",
      "\n",
      "    Parameters\n",
      "    -----------\n",
      "    all_degrees_dict : dict containing the sum of degrees between module1 and module 2\n",
      "    labels1 : the name of the module 1\n",
      "    labels2 : the name of the module 2, this is used to key into the all_degrees_dict\n",
      "    \n",
      "    Returns\n",
      "    ----------\n",
      "    norm_degrees_by_nodes: degrees/nnodes of module1\"\"\" \n",
      "    norm_degrees=(all_degrees_dict[labels2]/2)/float(nlabels[labels1])\n",
      "    return norm_degrees"
     ],
     "language": "python",
     "metadata": {},
     "outputs": [],
     "prompt_number": 4
    },
    {
     "cell_type": "code",
     "collapsed": false,
     "input": [
      "def make_brainx_graph(g, flip_relabel_dict=True):\n",
      "    \"\"\"given a networkx graph with strings as nodes, this function creates a \n",
      "    \"brainx-style\" nx graph: with ints as node labels\n",
      "    This function is  similar to nx.convert_node_labels_to_integers, but here we output a relabel_dict whereas\n",
      "    the nx functions stores the original label as a node attribute in new g\n",
      "    \n",
      "\n",
      "    Parameters\n",
      "    -----------\n",
      "    g : networkx graph\n",
      "        networkx graph with strings as node labels\n",
      "    flip_relabel_dict: bool (optional, default=True) :\n",
      "        will by default flip the label_dict to make the relabel dict --> so keys are ints and string labels are values\n",
      "\n",
      "    Returns\n",
      "    -----------\n",
      "    relabel_dict :   brainx style node labels as keys and orginal node labels as values (if flip_relabel_dict=True)\n",
      "    brainx_g : brainx style graph with ints as node labels\"\"\"\n",
      "    label_dict={xnode : xindex for xindex,xnode in enumerate(g.nodes())}\n",
      "    brainx_g=nx.relabel_nodes(g, label_dict)\n",
      "    if flip_relabel_dict:\n",
      "        relabel_dict=dict(zip(label_dict.values(), label_dict.keys()))\n",
      "    else: \n",
      "        relabel_dict=label_dict    \n",
      "    return brainx_g, relabel_dict"
     ],
     "language": "python",
     "metadata": {},
     "outputs": [],
     "prompt_number": 5
    },
    {
     "cell_type": "code",
     "collapsed": false,
     "input": [
      "def show_and_compare_normed_degrees(norm_degrees_by_nodes1,norm_degrees_by_nodes2):\n",
      "    \"\"\"I have not finished this yet\"\"\"\n",
      "\n",
      "    show_normed_degrees=(norm_degrees_by_nodes1, norm_degrees_by_nodes2)\n",
      "    compare_normed_degrees=(norm_degrees_by_nodes1- norm_degrees_by_nodes2)\n",
      "    return show_normed_degrees, compare_normed_degrees"
     ],
     "language": "python",
     "metadata": {},
     "outputs": [],
     "prompt_number": 6
    },
    {
     "cell_type": "markdown",
     "metadata": {},
     "source": [
      "#Loading Data and making Labels Dict"
     ]
    },
    {
     "cell_type": "code",
     "collapsed": false,
     "input": [
      "#Loading graphs: UPDATE PATH \n",
      "filestub=('C:\\\\Users\\\\Robert\\\\cocomac\\\\cocomac-tools-rsblume\\\\applications\\\\ModhaSingh_PFC\\\\modha\\lowest_full_g.pck')\n",
      "whole_low=pickle.load(open(filestub, \"rb\"))"
     ],
     "language": "python",
     "metadata": {},
     "outputs": [],
     "prompt_number": 7
    },
    {
     "cell_type": "code",
     "collapsed": false,
     "input": [
      "#loading partition labels and doing some basic calcs\n",
      "labels_list=['pfc_labels', 'mod_dlpfc_labels', 'mod_vlpfc_labels', 'mod_mpfc_labels', 'lit_dlpfc_labels', 'lit_vlpfc_labels', 'mod_lateral_labels', 'mod_rostral_labels', 'mod_premotor_labels']\n",
      "labels={x : list(csv.reader(open(x + '.csv')))[0] for x in labels_list}\n",
      "nlabels={x : len(labels[x]) for x in labels_list}"
     ],
     "language": "python",
     "metadata": {},
     "outputs": [],
     "prompt_number": 93
    },
    {
     "cell_type": "code",
     "collapsed": false,
     "input": [
      "#Loading category lists from Modha & Singh Supplment: UPDATE PATH\n",
      "filestub=('C:\\\\Users\\\\Robert\\\\cocomac\\\\cocomac-tools-rsblume\\\\applications\\\\ModhaSingh_PFC\\ms_supplement_nodes_table_cleaned.csv')\n",
      "cat_frame=pd.io.parsers.read_csv(filestub, index_col=1)\n",
      "\n",
      "#Build category labels dict\n",
      "#These labels are for posterior regions and pre-assigned/ a priori by Modha & Singh\n",
      "categories_list=list(cat_frame.category.unique())\n",
      "categories={x : list(cat_frame.ix[cat_frame['category'] == x].index) for x in categories_list} #all regions ordered by category\n",
      "\n"
     ],
     "language": "python",
     "metadata": {},
     "outputs": [],
     "prompt_number": 90
    },
    {
     "cell_type": "code",
     "collapsed": false,
     "input": [
      "#Combining all the Dicts to form a master Labels Dict\n",
      "all_labels = dict(labels.items() + categories.items())"
     ],
     "language": "python",
     "metadata": {},
     "outputs": [],
     "prompt_number": 91
    },
    {
     "cell_type": "markdown",
     "metadata": {},
     "source": [
      "#Start working with Data"
     ]
    },
    {
     "cell_type": "markdown",
     "metadata": {},
     "source": [
      "make binary/undirected because this is how modularity is computed"
     ]
    },
    {
     "cell_type": "code",
     "collapsed": false,
     "input": [
      "#making graphs binary/undirected\n",
      "whole_low=whole_low.to_undirected()"
     ],
     "language": "python",
     "metadata": {},
     "outputs": [],
     "prompt_number": 11
    },
    {
     "cell_type": "code",
     "collapsed": false,
     "input": [
      "#making pfc_subgraph for later\n",
      "pfc_graph=whole_low.subgraph(labels['pfc_labels'])"
     ],
     "language": "python",
     "metadata": {},
     "outputs": [],
     "prompt_number": 12
    },
    {
     "cell_type": "code",
     "collapsed": false,
     "input": [
      "print all_labels.keys()"
     ],
     "language": "python",
     "metadata": {},
     "outputs": [
      {
       "output_type": "stream",
       "stream": "stdout",
       "text": [
        "['ACC', 'Rostral PFC', 'Diencephalon', 'mod_mpfc_labels', 'Superior Temporal Sulcus', 'Occipital', 'lit_dlpfc_labels', 'Mid Brain', 'Insula', 'Caudal Medial Parietal', 'Thalamus', 'Post PFC', 'mod_dlpfc_labels', 'Hippocampus', 'Brain', 'Superior Temporal', 'Visual Cortex', 'pfc_labels', 'Auditory Cortex', 'IntraParietal', 'Dorsal Parietal', 'PosterioVentral Parietal', 'Basal Ganglia', 'Amygdala', 'Mid PFC', 'Striatum', 'Cingulate', 'Olfactory', 'Primary motor', 'Parahippocampal', 'Parietal', 'Retrosplenial Cortex', 'Hypothalamus', 'Supplementary motor', 'Orbital PFC', 'Ventral Temporal', 'Premotor/motor/PFC', 'Temporal', 'Inferotemporal', 'PFC', 'Claustrum', 'Somatosensory 2', 'Cortex', 'Somatosensory', 'Area 32', 'PFC FD', 'lit_vlpfc_labels', 'Frontal Lobe', 'Ventromedial Frontal', 'mod_vlpfc_labels', 'Posterior Cingulate', 'Belt']\n"
       ]
      }
     ],
     "prompt_number": 13
    },
    {
     "cell_type": "markdown",
     "metadata": {},
     "source": [
      "This is the breakdown for all the labels from the Modha and Singh paper, resulting labels from our modularity analyses of frontal cortex and the established labels for a priori lateral frontal modules, also note that the original modularity analysis was not performed on this notebook  "
     ]
    },
    {
     "cell_type": "markdown",
     "metadata": {},
     "source": [
      "the **\"mod\"** prefix indicates a module that resulted from simulated annealing based modularity analysis/community detection"
     ]
    },
    {
     "cell_type": "markdown",
     "metadata": {},
     "source": [
      "the **\"lit\"** prefix indicates the \"real\" modules as defined by anatomists"
     ]
    },
    {
     "cell_type": "code",
     "collapsed": false,
     "input": [
      "mod_dl_degrees={}\n",
      "mod_dl_all_degrees={}\n",
      "for x in all_labels.keys():\n",
      "    mod_dl_comparison_graph=edges_between_modules(whole_low, all_labels, 'mod_dlpfc_labels', x)\n",
      "    mod_dl_degrees[x]=degrees_between_modules(all_labels, mod_dl_comparison_graph, x)\n",
      "    mod_dl_all_degrees[x]=sum(mod_dl_degrees[x])"
     ],
     "language": "python",
     "metadata": {},
     "outputs": []
    },
    {
     "cell_type": "code",
     "collapsed": false,
     "input": [
      "mod_vl_degrees={}\n",
      "mod_vl_all_degrees={}\n",
      "for x in all_labels.keys():\n",
      "    mod_vl_comparison_graph=edges_between_modules(whole_low, all_labels, 'mod_vlpfc_labels', x)\n",
      "    mod_vl_degrees[x]=degrees_between_modules(all_labels, mod_vl_comparison_graph, x)\n",
      "    mod_vl_all_degrees[x]=sum(mod_vl_degrees[x])"
     ],
     "language": "python",
     "metadata": {},
     "outputs": [],
     "prompt_number": 15
    },
    {
     "cell_type": "code",
     "collapsed": false,
     "input": [
      "lit_dl_degrees={}\n",
      "lit_dl_all_degrees={}\n",
      "for x in all_labels.keys():\n",
      "    lit_dl_comparison_graph=edges_between_modules(whole_low, all_labels, 'lit_dlpfc_labels', x)\n",
      "    lit_dl_degrees[x]=degrees_between_modules(all_labels, lit_dl_comparison_graph, x)\n",
      "    lit_dl_all_degrees[x]=sum(lit_dl_degrees[x])"
     ],
     "language": "python",
     "metadata": {},
     "outputs": [],
     "prompt_number": 16
    },
    {
     "cell_type": "code",
     "collapsed": false,
     "input": [
      "lit_vl_degrees={}\n",
      "lit_vl_all_degrees={}\n",
      "for x in all_labels.keys():\n",
      "    lit_vl_comparison_graph=edges_between_modules(whole_low, all_labels, 'lit_vlpfc_labels', x)\n",
      "    lit_vl_degrees[x]=degrees_between_modules(all_labels, lit_vl_comparison_graph, x)\n",
      "    lit_vl_all_degrees[x]=sum(lit_vl_degrees[x])"
     ],
     "language": "python",
     "metadata": {},
     "outputs": [],
     "prompt_number": 17
    },
    {
     "cell_type": "code",
     "collapsed": false,
     "input": [
      "category='ACC'\n",
      "mod_dl_all_degrees[category]/float(nlabels['mod_dlpfc_labels']),mod_vl_all_degrees[category]/float(nlabels['mod_vlpfc_labels'])"
     ],
     "language": "python",
     "metadata": {},
     "outputs": [
      {
       "output_type": "pyout",
       "prompt_number": 18,
       "text": [
        "(0.33333333333333331, 0.25)"
       ]
      }
     ],
     "prompt_number": 18
    },
    {
     "cell_type": "code",
     "collapsed": false,
     "input": [
      "mod_dl_degrees['Caudal Medial Parietal']"
     ],
     "language": "python",
     "metadata": {},
     "outputs": [
      {
       "output_type": "pyout",
       "prompt_number": 19,
       "text": [
        "[1, 0, 3, 4, 2]"
       ]
      }
     ],
     "prompt_number": 19
    },
    {
     "cell_type": "code",
     "collapsed": false,
     "input": [
      "mod_dl_all_degrees['Caudal Medial Parietal']"
     ],
     "language": "python",
     "metadata": {},
     "outputs": [
      {
       "output_type": "pyout",
       "prompt_number": 20,
       "text": [
        "10"
       ]
      }
     ],
     "prompt_number": 20
    },
    {
     "cell_type": "code",
     "collapsed": false,
     "input": [
      "all_parietal=['IntraParietal', 'Dorsal Parietal', 'PosterioVentral Parietal', 'Parietal']"
     ],
     "language": "python",
     "metadata": {},
     "outputs": [],
     "prompt_number": 21
    },
    {
     "cell_type": "code",
     "collapsed": false,
     "input": [
      "whole_low['PGop']"
     ],
     "language": "python",
     "metadata": {},
     "outputs": [
      {
       "output_type": "pyout",
       "prompt_number": 24,
       "text": [
        "{'23c': {},\n",
        " '31': {},\n",
        " '8Ad': {},\n",
        " 'F5': {},\n",
        " 'MIP': {},\n",
        " 'PECg': {},\n",
        " 'PEc#1': {},\n",
        " 'PEm': {}}"
       ]
      }
     ],
     "prompt_number": 24
    },
    {
     "cell_type": "code",
     "collapsed": false,
     "input": [
      "all_labels['Superior Temporal']"
     ],
     "language": "python",
     "metadata": {},
     "outputs": [
      {
       "output_type": "pyout",
       "prompt_number": 23,
       "text": [
        "['STG', 'STP#2', 'TA', 'Ts', 'ST3', 'ST2', 'ST1', 'Tpt']"
       ]
      }
     ],
     "prompt_number": 23
    },
    {
     "cell_type": "code",
     "collapsed": false,
     "input": [
      "selected_cats=['ACC', 'Superior Temporal Sulcus', 'Retrosplenial Cortex', 'Insula', 'Superior Temporal', 'Caudal Medial Parietal', 'Posterior Cingulate', 'Auditory Cortex', 'IntraParietal', 'PosterioVentral Parietal', 'Amygdala', 'Parahippocampal', 'Supplementary motor', 'Premotor/motor/PFC', 'Inferotemporal', 'Somatosensory', 'Area 32']"
     ],
     "language": "python",
     "metadata": {},
     "outputs": [],
     "prompt_number": 284
    },
    {
     "cell_type": "code",
     "collapsed": false,
     "input": [
      "dl_vl_posterior_degree_show={x: (norm_degrees_by_nodes(mod_dl_all_degrees, 'mod_dlpfc_labels', x), norm_degrees_by_nodes(mod_vl_all_degrees, 'mod_vlpfc_labels', x)) for x in selected_cats}\n",
      "dl_vl_posterior_degree_compare={x: (norm_degrees_by_nodes(mod_dl_all_degrees, 'mod_dlpfc_labels', x) - norm_degrees_by_nodes(mod_vl_all_degrees, 'mod_vlpfc_labels', x)) for x in selected_cats}\n",
      "\n",
      "lit_dl_vl_posterior_degree_show={x: (norm_degrees_by_nodes(lit_dl_all_degrees, 'lit_dlpfc_labels', x), norm_degrees_by_nodes(lit_vl_all_degrees, 'lit_vlpfc_labels', x)) for x in selected_cats}\n",
      "lit_dl_vl_posterior_degree_compare={x: (norm_degrees_by_nodes(lit_dl_all_degrees, 'lit_dlpfc_labels', x) - norm_degrees_by_nodes(lit_vl_all_degrees, 'lit_vlpfc_labels', x)) for x in selected_cats}\n",
      "\n",
      "mod_lit_dl_posterior_degree_show={x: (norm_degrees_by_nodes(mod_dl_all_degrees, 'mod_dlpfc_labels', x), norm_degrees_by_nodes(lit_dl_all_degrees, 'lit_dlpfc_labels', x)) for x in selected_cats}\n",
      "mod_lit_dl_posterior_degree_compare={x: (norm_degrees_by_nodes(mod_dl_all_degrees, 'mod_dlpfc_labels', x) - norm_degrees_by_nodes(lit_dl_all_degrees, 'lit_dlpfc_labels', x)) for x in selected_cats}\n",
      "\n",
      "mod_lit_vl_posterior_degree_show={x: (norm_degrees_by_nodes(mod_vl_all_degrees, 'mod_vlpfc_labels', x), norm_degrees_by_nodes(lit_vl_all_degrees, 'lit_vlpfc_labels', x)) for x in selected_cats}\n",
      "mod_lit_vl_posterior_degree_compare={x: (norm_degrees_by_nodes(mod_vl_all_degrees, 'mod_vlpfc_labels', x) - norm_degrees_by_nodes(lit_vl_all_degrees, 'lit_vlpfc_labels', x)) for x in selected_cats}\n",
      "\n"
     ],
     "language": "python",
     "metadata": {},
     "outputs": [],
     "prompt_number": 285
    },
    {
     "cell_type": "markdown",
     "metadata": {},
     "source": [
      "#Compare found vs. real partitions --> Confusion Matrices"
     ]
    },
    {
     "cell_type": "markdown",
     "metadata": {},
     "source": [
      "first we need to convert our dicts with lists as values and strings as keys to\n",
      "dicts with sets as values and ints as keys"
     ]
    },
    {
     "cell_type": "code",
     "collapsed": false,
     "input": [
      "found=['mod_dlpfc_labels', 'mod_vlpfc_labels']\n",
      "real=['lit_dlpfc_labels', 'lit_vlpfc_labels']"
     ],
     "language": "python",
     "metadata": {},
     "outputs": [],
     "prompt_number": 27
    },
    {
     "cell_type": "code",
     "collapsed": false,
     "input": [
      "found_dict={x : set(labels[y])for x,y in enumerate(found)}\n",
      "real_dict={x : set(labels[y])for x,y in enumerate(real)}"
     ],
     "language": "python",
     "metadata": {},
     "outputs": [],
     "prompt_number": 28
    },
    {
     "cell_type": "code",
     "collapsed": false,
     "input": [
      "confuse=mod.confusion_matrix(found_dict, real_dict)\n",
      "confuse"
     ],
     "language": "python",
     "metadata": {},
     "outputs": [
      {
       "output_type": "pyout",
       "prompt_number": 29,
       "text": [
        "array([[ 10.,   2.],\n",
        "       [  2.,   6.]])"
       ]
      }
     ],
     "prompt_number": 29
    },
    {
     "cell_type": "code",
     "collapsed": false,
     "input": [
      "plt.imshow(confuse, interpolation='nearest', cmap = 'Greys')"
     ],
     "language": "python",
     "metadata": {},
     "outputs": [
      {
       "output_type": "pyout",
       "prompt_number": 30,
       "text": [
        "<matplotlib.image.AxesImage at 0x5c42230>"
       ]
      },
      {
       "output_type": "display_data",
       "png": "[encoded data removed]"
      }
     ],
     "prompt_number": 30
    },
    {
     "cell_type": "code",
     "collapsed": false,
     "input": [
      "mod.mutual_information(real_dict,found_dict)"
     ],
     "language": "python",
     "metadata": {},
     "outputs": [
      {
       "output_type": "pyout",
       "prompt_number": 31,
       "text": [
        "0.26409777505314136"
       ]
      }
     ],
     "prompt_number": 31
    },
    {
     "cell_type": "markdown",
     "metadata": {},
     "source": [
      "#Make Adjacency Matrices"
     ]
    },
    {
     "cell_type": "code",
     "collapsed": false,
     "input": [
      "#matplotlib defaults for me\n",
      "mpl.rc('xtick', labelsize=5) \n",
      "mpl.rc('ytick', labelsize=5) \n",
      "step=1"
     ],
     "language": "python",
     "metadata": {},
     "outputs": [],
     "prompt_number": 148
    },
    {
     "cell_type": "code",
     "collapsed": false,
     "input": [
      "labels.keys()"
     ],
     "language": "python",
     "metadata": {},
     "outputs": [
      {
       "output_type": "pyout",
       "prompt_number": 94,
       "text": [
        "['mod_dlpfc_labels',\n",
        " 'mod_rostral_labels',\n",
        " 'mod_mpfc_labels',\n",
        " 'pfc_labels',\n",
        " 'lit_vlpfc_labels',\n",
        " 'lit_dlpfc_labels',\n",
        " 'mod_lateral_labels',\n",
        " 'mod_premotor_labels',\n",
        " 'mod_vlpfc_labels']"
       ]
      }
     ],
     "prompt_number": 94
    },
    {
     "cell_type": "code",
     "collapsed": false,
     "input": [
      "lateral_nodelist= labels['mod_vlpfc_labels']+labels['mod_dlpfc_labels']+labels['mod_mpfc_labels']\n",
      "frontal_nodelist=labels['mod_premotor_labels'] + lateral_nodelist + labels['mod_rostral_labels']"
     ],
     "language": "python",
     "metadata": {},
     "outputs": [],
     "prompt_number": 128
    },
    {
     "cell_type": "code",
     "collapsed": false,
     "input": [
      "frontal_adj=nx.adjacency_matrix(pfc_graph, frontal_nodelist)\n",
      "\n",
      "ax1=imshow(frontal_adj, interpolation ='nearest', cmap = 'Greys')\n",
      "ax1.axes.set_xticklabels(frontal_nodelist, rotation =90)\n",
      "ax1.axes.set_yticklabels(frontal_nodelist)\n",
      "ax1.axes.set_xticks(range(0,len(frontal_nodelist)*step,step ))\n",
      "ax1.axes.set_yticks(range(0,len(frontal_nodelist)*step,step))\n",
      "\n",
      "savefig('frontal_adj.pdf',  dpi=800, format='pdf')\n"
     ],
     "language": "python",
     "metadata": {},
     "outputs": [
      {
       "output_type": "display_data",
       "png": "[encoded data removed]"
      }
     ],
     "prompt_number": 151
    },
    {
     "cell_type": "code",
     "collapsed": false,
     "input": [
      "lateral_graph=pfc_graph.subgraph(labels['mod_lateral_labels'])\n",
      "lateral_adj=nx.adjacency_matrix(lateral_graph, lateral_nodelist)\n",
      "imshow(lateral_adj, interpolation ='nearest', cmap = 'Greys')\n",
      "\n",
      "ax1=imshow(lateral_adj, interpolation ='nearest', cmap = 'Greys')\n",
      "ax1.axes.set_xticklabels(lateral_nodelist, rotation =90, size =8)\n",
      "ax1.axes.set_yticklabels(lateral_nodelist, size =8)\n",
      "ax1.axes.set_xticks(range(0,len(lateral_nodelist)*step,step ))\n",
      "ax1.axes.set_yticks(range(0,len(lateral_nodelist)*step,step))\n",
      "\n",
      "savefig('prefrontal_adj.pdf',  dpi=800, format='pdf')\n"
     ],
     "language": "python",
     "metadata": {},
     "outputs": [
      {
       "output_type": "display_data",
       "png": "[encoded data removed]"
      }
     ],
     "prompt_number": 154
    },
    {
     "cell_type": "code",
     "collapsed": false,
     "input": [
      "lateral_nodelist"
     ],
     "language": "python",
     "metadata": {},
     "outputs": [
      {
       "output_type": "pyout",
       "prompt_number": 126,
       "text": [
        "['24d',\n",
        " 'F7',\n",
        " '24a',\n",
        " 'F2',\n",
        " 'F5',\n",
        " 'F6',\n",
        " 'F4',\n",
        " '44',\n",
        " '9/46d',\n",
        " '8Ad',\n",
        " '45A',\n",
        " '47/12',\n",
        " '45B',\n",
        " '9/46v',\n",
        " 'ProM#2',\n",
        " '46f',\n",
        " '46vr',\n",
        " 'SMAc',\n",
        " 'L9',\n",
        " 'D9',\n",
        " '46v',\n",
        " 'SMAr',\n",
        " '8B',\n",
        " 'M9',\n",
        " '46d',\n",
        " '46dr',\n",
        " 'PS']"
       ]
      }
     ],
     "prompt_number": 126
    },
    {
     "cell_type": "markdown",
     "metadata": {},
     "source": [
      "#Try spectral"
     ]
    },
    {
     "cell_type": "markdown",
     "metadata": {},
     "source": [
      "convert to brainx style graph and try Newman spectral method"
     ]
    },
    {
     "cell_type": "code",
     "collapsed": false,
     "input": [
      "#pfc_relabel_dict, pfc_bx_g= make_brainx_graph(pfc_graph)\n",
      "pfc_bx_g,pfc_relabel_dict=make_brainx_graph(pfc_graph)"
     ],
     "language": "python",
     "metadata": {},
     "outputs": [],
     "prompt_number": 155
    },
    {
     "cell_type": "code",
     "collapsed": false,
     "input": [
      "pfc_spectral=mod.newman_partition(pfc_bx_g)"
     ],
     "language": "python",
     "metadata": {},
     "outputs": [],
     "prompt_number": 156
    },
    {
     "cell_type": "code",
     "collapsed": false,
     "input": [
      "pfc_spectral.modularity()"
     ],
     "language": "python",
     "metadata": {},
     "outputs": [
      {
       "output_type": "pyout",
       "prompt_number": 157,
       "text": [
        "0.31905308107958713"
       ]
      }
     ],
     "prompt_number": 157
    },
    {
     "cell_type": "code",
     "collapsed": false,
     "input": [
      "len(pfc_spectral.index.keys())"
     ],
     "language": "python",
     "metadata": {},
     "outputs": [
      {
       "output_type": "pyout",
       "prompt_number": 277,
       "text": [
        "6"
       ]
      }
     ],
     "prompt_number": 277
    },
    {
     "cell_type": "code",
     "collapsed": false,
     "input": [
      "pfc_spectral.index.keys"
     ],
     "language": "python",
     "metadata": {},
     "outputs": [
      {
       "output_type": "pyout",
       "prompt_number": 283,
       "text": [
        "<function keys>"
       ]
      }
     ],
     "prompt_number": 283
    },
    {
     "cell_type": "code",
     "collapsed": false,
     "input": [
      "#Eek I killed this line of code that creates a reconverts back the int grpah to make it readable \n",
      "pfc_spectral_test1={x : list(pfc_spectral[y]) for y in pfc_spectral.index.keysx] "
     ],
     "language": "python",
     "metadata": {},
     "outputs": []
    },
    {
     "cell_type": "code",
     "collapsed": false,
     "input": [
      "spectral_nodelist=[]\n",
      "#spectral_nodelist=[spectral_nodelist + list(pfc_spectral_test[x]) for x in range(len(pfc_spectral_test.keys()))]\n",
      "spectral_nodelist=list(pfc_spectral_test[0])+list(pfc_spectral_test[1])+list(pfc_spectral_test[2])+list(pfc_spectral_test[3])+list(pfc_spectral_test[4])+list(pfc_spectral_test[5])\n"
     ],
     "language": "python",
     "metadata": {},
     "outputs": [],
     "prompt_number": 261
    },
    {
     "cell_type": "code",
     "collapsed": false,
     "input": [
      "\n",
      "spectral_graph=pfc_graph\n",
      "spectral_adj=nx.adjacency_matrix(spectral_graph, spectral_nodelist)\n",
      "#imshow(spectral_adj, interpolation ='nearest', cmap = 'Greys')\n",
      "\n",
      "ax1=imshow(spectral_adj, interpolation ='nearest', cmap = 'Greys')\n",
      "ax1.axes.set_xticklabels(spectral_nodelist, rotation =90)\n",
      "ax1.axes.set_yticklabels(spectral_nodelist)\n",
      "ax1.axes.set_xticks(range(0,len(spectral_nodelist)*step,step ))\n",
      "ax1.axes.set_yticks(range(0,len(spectral_nodelist)*step,step))\n",
      "\n",
      "savefig('spectral_adj.pdf',  dpi=800, format='pdf')"
     ],
     "language": "python",
     "metadata": {},
     "outputs": [
      {
       "output_type": "display_data",
       "png": "[encoded data removed]"
      }
     ],
     "prompt_number": 264
    },
    {
     "cell_type": "code",
     "collapsed": false,
     "input": [
      "pfc_spectral_test"
     ],
     "language": "python",
     "metadata": {},
     "outputs": [
      {
       "output_type": "pyout",
       "prompt_number": 161,
       "text": [
        "{0: set(['13a',\n",
        "      '14r',\n",
        "      '10o',\n",
        "      '10m',\n",
        "      '11m',\n",
        "      '11l',\n",
        "      'Gu',\n",
        "      '24b',\n",
        "      '12l',\n",
        "      '12m',\n",
        "      '13M',\n",
        "      '12o',\n",
        "      '12r',\n",
        "      'PrCO',\n",
        "      '13L',\n",
        "      '6Vb',\n",
        "      '6Va']),\n",
        " 1: set(['OFap', '32', '10v', '10d', '14O']),\n",
        " 2: set(['M2-FL', 'M2-HL', '24c']),\n",
        " 3: set(['4c']),\n",
        " 4: set(['SMAr',\n",
        "      'PS',\n",
        "      '46v',\n",
        "      '46vr',\n",
        "      'SMAc',\n",
        "      'D9',\n",
        "      '46dr',\n",
        "      '46d',\n",
        "      '46f',\n",
        "      'M9',\n",
        "      'L9']),\n",
        " 5: set(['24d',\n",
        "      'F2',\n",
        "      'F4',\n",
        "      'F5',\n",
        "      'F6',\n",
        "      'F7',\n",
        "      '8B',\n",
        "      '9/46v',\n",
        "      '44',\n",
        "      'ProM#2',\n",
        "      '47/12',\n",
        "      '45A',\n",
        "      '24a',\n",
        "      '45B',\n",
        "      '9/46d',\n",
        "      '8Ad'])}"
       ]
      }
     ],
     "prompt_number": 161
    },
    {
     "cell_type": "code",
     "collapsed": false,
     "input": [
      "filestub=('C:\\\\Users\\\\Robert\\\\cocomac\\\\cocomac-tools-rsblume\\\\applications\\\\Yeterian_hybrid-map-explore\\\\yeterian_pfc2.pck')\n",
      "hybrid_pfc=pickle.load(open(filestub, \"rb\"))\n",
      "filestub=('C:\\\\Users\\\\Robert\\\\cocomac\\\\cocomac-tools-rsblume\\\\applications\\\\Yeterian_hybrid-map-explore\\\\yeterian_pfc3.pck')\n",
      "hybrid_pfc2=pickle.load(open(filestub, \"rb\"))\n"
     ],
     "language": "python",
     "metadata": {},
     "outputs": [],
     "prompt_number": 265
    },
    {
     "cell_type": "code",
     "collapsed": false,
     "input": [
      "hybrid_g, hybrid_relabel_dict=make_brainx_graph(hybrid_pfc2)\n",
      "hybrid_partition=mod.newman_partition(hybrid_g)\n",
      "hybrid_partition.modularity()\n"
     ],
     "language": "python",
     "metadata": {},
     "outputs": [
      {
       "output_type": "pyout",
       "prompt_number": 273,
       "text": [
        "0.25"
       ]
      }
     ],
     "prompt_number": 273
    },
    {
     "cell_type": "markdown",
     "metadata": {},
     "source": [
      "#Retry Simulated annealing"
     ]
    },
    {
     "cell_type": "code",
     "collapsed": false,
     "input": [
      "pfc_simaneal=mod.simulated_annealing(pfc_bx_g)"
     ],
     "language": "python",
     "metadata": {},
     "outputs": [
      {
       "output_type": "stream",
       "stream": "stdout",
       "text": [
        "T: 5.00e+01 energy: 3.00e-02 best: 0.00e+00\n",
        "T: 4.98e+01"
       ]
      },
      {
       "output_type": "stream",
       "stream": "stdout",
       "text": [
        " energy: 2.33e-02 best: 0.00e+00\n",
        "T: 4.95e+01"
       ]
      },
      {
       "output_type": "stream",
       "stream": "stdout",
       "text": [
        " energy: 2.82e-02 best: 0.00e+00\n",
        "T: 4.93e+01"
       ]
      },
      {
       "output_type": "stream",
       "stream": "stdout",
       "text": [
        " energy: 3.94e-02 best: 0.00e+00\n",
        "T: 4.90e+01"
       ]
      },
      {
       "output_type": "stream",
       "stream": "stdout",
       "text": [
        " energy: 3.64e-02 best: 0.00e+00\n",
        "T: 4.88e+01"
       ]
      },
      {
       "output_type": "stream",
       "stream": "stdout",
       "text": [
        " energy: 3.89e-02 best: 0.00e+00\n",
        "T: 4.85e+01"
       ]
      },
      {
       "output_type": "stream",
       "stream": "stdout",
       "text": [
        " energy: 1.55e-02 best: 0.00e+00\n",
        "T: 4.83e+01"
       ]
      },
      {
       "output_type": "stream",
       "stream": "stdout",
       "text": [
        " energy: 2.22e-02 best: 0.00e+00\n",
        "T: 4.80e+01"
       ]
      },
      {
       "output_type": "stream",
       "stream": "stdout",
       "text": [
        " energy: 2.74e-02 best: 0.00e+00\n",
        "T: 4.78e+01"
       ]
      },
      {
       "output_type": "stream",
       "stream": "stdout",
       "text": [
        " energy: 2.35e-02 best: 0.00e+00\n",
        "T: 4.76e+01"
       ]
      },
      {
       "output_type": "stream",
       "stream": "stdout",
       "text": [
        " energy: 3.59e-02 best: 0.00e+00\n",
        "T: 4.73e+01"
       ]
      },
      {
       "output_type": "stream",
       "stream": "stdout",
       "text": [
        " energy: 3.58e-02 best: 0.00e+00\n",
        "T: 4.71e+01"
       ]
      },
      {
       "output_type": "stream",
       "stream": "stdout",
       "text": [
        " energy: 2.31e-02 best: 0.00e+00\n",
        "T: 4.68e+01"
       ]
      },
      {
       "output_type": "stream",
       "stream": "stdout",
       "text": [
        " energy: 2.78e-02 best: 0.00e+00\n",
        "T: 4.66e+01"
       ]
      },
      {
       "output_type": "stream",
       "stream": "stdout",
       "text": [
        " energy: 3.13e-02 best: 0.00e+00\n",
        "T: 4.64e+01"
       ]
      },
      {
       "output_type": "stream",
       "stream": "stdout",
       "text": [
        " energy: 3.45e-02 best: 0.00e+00\n",
        "T: 4.61e+01"
       ]
      },
      {
       "output_type": "stream",
       "stream": "stdout",
       "text": [
        " energy: 2.77e-02 best: 0.00e+00\n",
        "T: 4.59e+01"
       ]
      },
      {
       "output_type": "stream",
       "stream": "stdout",
       "text": [
        " energy: 2.08e-02 best: 0.00e+00\n",
        "T: 4.57e+01"
       ]
      },
      {
       "output_type": "stream",
       "stream": "stdout",
       "text": [
        " energy: 1.64e-02 best: 0.00e+00\n",
        "T: 4.55e+01"
       ]
      },
      {
       "output_type": "stream",
       "stream": "stdout",
       "text": [
        " energy: 3.67e-02 best: 0.00e+00\n",
        "T: 4.52e+01"
       ]
      },
      {
       "output_type": "stream",
       "stream": "stdout",
       "text": [
        " energy: 4.31e-02 best: 0.00e+00\n",
        "T: 4.50e+01"
       ]
      },
      {
       "output_type": "stream",
       "stream": "stdout",
       "text": [
        " energy: 4.06e-02 best: 0.00e+00\n",
        "T: 4.48e+01"
       ]
      },
      {
       "output_type": "stream",
       "stream": "stdout",
       "text": [
        " energy: 1.23e-02 best: 0.00e+00\n",
        "T: 4.46e+01"
       ]
      },
      {
       "output_type": "stream",
       "stream": "stdout",
       "text": [
        " energy: 2.76e-02 best: 0.00e+00\n",
        "T: 4.43e+01"
       ]
      },
      {
       "output_type": "stream",
       "stream": "stdout",
       "text": [
        " energy: 2.97e-02 best: 0.00e+00\n",
        "T: 4.41e+01"
       ]
      },
      {
       "output_type": "stream",
       "stream": "stdout",
       "text": [
        " energy: 1.49e-02 best: -1.11e-03\n",
        "T: 4.39e+01"
       ]
      },
      {
       "output_type": "stream",
       "stream": "stdout",
       "text": [
        " energy: 2.57e-02 best: -1.11e-03\n",
        "T: 4.37e+01"
       ]
      },
      {
       "output_type": "stream",
       "stream": "stdout",
       "text": [
        " energy: 2.43e-02 best: -1.11e-03\n",
        "T: 4.35e+01"
       ]
      },
      {
       "output_type": "stream",
       "stream": "stdout",
       "text": [
        " energy: 2.86e-02 best: -1.11e-03\n",
        "T: 4.32e+01"
       ]
      },
      {
       "output_type": "stream",
       "stream": "stdout",
       "text": [
        " energy: 2.70e-02 best: -1.11e-03\n",
        "T: 4.30e+01"
       ]
      },
      {
       "output_type": "stream",
       "stream": "stdout",
       "text": [
        " energy: 2.60e-02 best: -1.11e-03\n",
        "T: 4.28e+01"
       ]
      },
      {
       "output_type": "stream",
       "stream": "stdout",
       "text": [
        " energy: 3.57e-02 best: -1.11e-03\n",
        "T: 4.26e+01"
       ]
      },
      {
       "output_type": "stream",
       "stream": "stdout",
       "text": [
        " energy: 2.54e-02 best: -1.11e-03\n",
        "T: 4.24e+01"
       ]
      },
      {
       "output_type": "stream",
       "stream": "stdout",
       "text": [
        " energy: 2.55e-02 best: -1.11e-03\n",
        "T: 4.22e+01"
       ]
      },
      {
       "output_type": "stream",
       "stream": "stdout",
       "text": [
        " energy: 3.24e-02 best: -1.11e-03\n",
        "T: 4.20e+01"
       ]
      },
      {
       "output_type": "stream",
       "stream": "stdout",
       "text": [
        " energy: 2.40e-02 best: -1.11e-03\n",
        "T: 4.17e+01"
       ]
      },
      {
       "output_type": "stream",
       "stream": "stdout",
       "text": [
        " energy: 2.26e-02 best: -1.11e-03\n",
        "T: 4.15e+01"
       ]
      },
      {
       "output_type": "stream",
       "stream": "stdout",
       "text": [
        " energy: 2.90e-02 best: -1.11e-03\n",
        "T: 4.13e+01"
       ]
      },
      {
       "output_type": "stream",
       "stream": "stdout",
       "text": [
        " energy: 2.08e-02 best: -1.11e-03\n",
        "T: 4.11e+01"
       ]
      },
      {
       "output_type": "stream",
       "stream": "stdout",
       "text": [
        " energy: 2.24e-02 best: -1.11e-03\n",
        "T: 4.09e+01"
       ]
      },
      {
       "output_type": "stream",
       "stream": "stdout",
       "text": [
        " energy: 1.39e-02 best: -1.11e-03\n",
        "T: 4.07e+01"
       ]
      },
      {
       "output_type": "stream",
       "stream": "stdout",
       "text": [
        " energy: 2.60e-02 best: -1.11e-03\n",
        "T: 4.05e+01"
       ]
      },
      {
       "output_type": "stream",
       "stream": "stdout",
       "text": [
        " energy: 1.75e-02 best: -1.11e-03\n",
        "T: 4.03e+01"
       ]
      },
      {
       "output_type": "stream",
       "stream": "stdout",
       "text": [
        " energy: 2.51e-02 best: -1.11e-03\n",
        "T: 4.01e+01"
       ]
      },
      {
       "output_type": "stream",
       "stream": "stdout",
       "text": [
        " energy: 3.15e-02 best: -1.11e-03\n",
        "T: 3.99e+01"
       ]
      },
      {
       "output_type": "stream",
       "stream": "stdout",
       "text": [
        " energy: 2.56e-02 best: -1.11e-03\n",
        "T: 3.97e+01"
       ]
      },
      {
       "output_type": "stream",
       "stream": "stdout",
       "text": [
        " energy: 3.70e-02 best: -1.11e-03\n",
        "T: 3.95e+01"
       ]
      },
      {
       "output_type": "stream",
       "stream": "stdout",
       "text": [
        " energy: 3.67e-02 best: -1.11e-03\n",
        "T: 3.93e+01"
       ]
      },
      {
       "output_type": "stream",
       "stream": "stdout",
       "text": [
        " energy: 2.85e-02 best: -1.11e-03\n",
        "T: 3.91e+01"
       ]
      },
      {
       "output_type": "stream",
       "stream": "stdout",
       "text": [
        " energy: 2.00e-02 best: -1.11e-03\n",
        "T: 3.89e+01"
       ]
      },
      {
       "output_type": "stream",
       "stream": "stdout",
       "text": [
        " energy: 2.62e-02 best: -1.11e-03\n",
        "T: 3.87e+01"
       ]
      },
      {
       "output_type": "stream",
       "stream": "stdout",
       "text": [
        " energy: 3.21e-02 best: -1.11e-03\n",
        "T: 3.85e+01"
       ]
      },
      {
       "output_type": "stream",
       "stream": "stdout",
       "text": [
        " energy: 1.83e-02 best: -1.11e-03\n",
        "T: 3.83e+01"
       ]
      },
      {
       "output_type": "stream",
       "stream": "stdout",
       "text": [
        " energy: 2.35e-02 best: -1.11e-03\n",
        "T: 3.81e+01"
       ]
      },
      {
       "output_type": "stream",
       "stream": "stdout",
       "text": [
        " energy: 3.72e-02 best: -1.11e-03\n",
        "T: 3.80e+01"
       ]
      },
      {
       "output_type": "stream",
       "stream": "stdout",
       "text": [
        " energy: 2.58e-02 best: -1.11e-03\n",
        "T: 3.78e+01"
       ]
      },
      {
       "output_type": "stream",
       "stream": "stdout",
       "text": [
        " energy: 1.17e-02 best: -1.11e-03\n",
        "T: 3.76e+01"
       ]
      },
      {
       "output_type": "stream",
       "stream": "stdout",
       "text": [
        " energy: 2.97e-02 best: -1.11e-03\n",
        "T: 3.74e+01"
       ]
      },
      {
       "output_type": "stream",
       "stream": "stdout",
       "text": [
        " energy: 2.98e-02 best: -1.11e-03\n",
        "T: 3.72e+01"
       ]
      },
      {
       "output_type": "stream",
       "stream": "stdout",
       "text": [
        " energy: 2.19e-02 best: -1.11e-03\n",
        "T: 3.70e+01"
       ]
      },
      {
       "output_type": "stream",
       "stream": "stdout",
       "text": [
        " energy: 3.03e-02 best: -1.11e-03\n",
        "T: 3.68e+01"
       ]
      },
      {
       "output_type": "stream",
       "stream": "stdout",
       "text": [
        " energy: 3.01e-02 best: -1.11e-03\n",
        "T: 3.66e+01"
       ]
      },
      {
       "output_type": "stream",
       "stream": "stdout",
       "text": [
        " energy: 3.24e-02 best: -1.11e-03\n",
        "T: 3.65e+01"
       ]
      },
      {
       "output_type": "stream",
       "stream": "stdout",
       "text": [
        " energy: 2.92e-02 best: -1.11e-03\n",
        "T: 3.63e+01"
       ]
      },
      {
       "output_type": "stream",
       "stream": "stdout",
       "text": [
        " energy: 3.16e-02 best: -1.11e-03\n",
        "T: 3.61e+01"
       ]
      },
      {
       "output_type": "stream",
       "stream": "stdout",
       "text": [
        " energy: 1.35e-02 best: -1.11e-03\n",
        "T: 3.59e+01"
       ]
      },
      {
       "output_type": "stream",
       "stream": "stdout",
       "text": [
        " energy: 1.87e-02 best: -1.11e-03\n",
        "T: 3.57e+01"
       ]
      },
      {
       "output_type": "stream",
       "stream": "stdout",
       "text": [
        " energy: 2.75e-02 best: -1.11e-03\n",
        "T: 3.56e+01"
       ]
      },
      {
       "output_type": "stream",
       "stream": "stdout",
       "text": [
        " energy: 3.24e-02 best: -1.11e-03\n",
        "T: 3.54e+01"
       ]
      },
      {
       "output_type": "stream",
       "stream": "stdout",
       "text": [
        " energy: 1.84e-02 best: -1.11e-03\n",
        "T: 3.52e+01"
       ]
      },
      {
       "output_type": "stream",
       "stream": "stdout",
       "text": [
        " energy: 2.38e-02 best: -1.11e-03\n",
        "T: 3.50e+01"
       ]
      },
      {
       "output_type": "stream",
       "stream": "stdout",
       "text": [
        " energy: 3.05e-02 best: -1.11e-03\n",
        "T: 3.49e+01"
       ]
      },
      {
       "output_type": "stream",
       "stream": "stdout",
       "text": [
        " energy: 3.31e-02 best: -1.11e-03\n",
        "T: 3.47e+01"
       ]
      },
      {
       "output_type": "stream",
       "stream": "stdout",
       "text": [
        " energy: 2.39e-02 best: -1.11e-03\n",
        "T: 3.45e+01"
       ]
      },
      {
       "output_type": "stream",
       "stream": "stdout",
       "text": [
        " energy: 3.06e-02 best: -1.11e-03\n",
        "T: 3.43e+01"
       ]
      },
      {
       "output_type": "stream",
       "stream": "stdout",
       "text": [
        " energy: 2.92e-02 best: -1.11e-03\n",
        "T: 3.42e+01"
       ]
      },
      {
       "output_type": "stream",
       "stream": "stdout",
       "text": [
        " energy: 3.11e-02 best: -1.11e-03\n",
        "T: 3.40e+01"
       ]
      },
      {
       "output_type": "stream",
       "stream": "stdout",
       "text": [
        " energy: 2.35e-02 best: -1.11e-03\n",
        "T: 3.38e+01"
       ]
      },
      {
       "output_type": "stream",
       "stream": "stdout",
       "text": [
        " energy: 2.97e-02 best: -1.11e-03\n",
        "T: 3.37e+01"
       ]
      },
      {
       "output_type": "stream",
       "stream": "stdout",
       "text": [
        " energy: 2.63e-02 best: -1.11e-03\n",
        "T: 3.35e+01"
       ]
      },
      {
       "output_type": "stream",
       "stream": "stdout",
       "text": [
        " energy: 2.72e-02 best: -1.11e-03\n",
        "T: 3.33e+01"
       ]
      },
      {
       "output_type": "stream",
       "stream": "stdout",
       "text": [
        " energy: 2.18e-02 best: -1.11e-03\n",
        "T: 3.31e+01"
       ]
      },
      {
       "output_type": "stream",
       "stream": "stdout",
       "text": [
        " energy: 2.80e-02 best: -1.11e-03\n",
        "T: 3.30e+01"
       ]
      },
      {
       "output_type": "stream",
       "stream": "stdout",
       "text": [
        " energy: 3.02e-02 best: -1.11e-03\n",
        "T: 3.28e+01"
       ]
      },
      {
       "output_type": "stream",
       "stream": "stdout",
       "text": [
        " energy: 2.47e-02 best: -1.11e-03\n",
        "T: 3.27e+01"
       ]
      },
      {
       "output_type": "stream",
       "stream": "stdout",
       "text": [
        " energy: 2.04e-02 best: -1.11e-03\n",
        "T: 3.25e+01"
       ]
      },
      {
       "output_type": "stream",
       "stream": "stdout",
       "text": [
        " energy: 4.09e-02 best: -1.11e-03\n",
        "T: 3.23e+01"
       ]
      },
      {
       "output_type": "stream",
       "stream": "stdout",
       "text": [
        " energy: 2.81e-02 best: -1.11e-03\n",
        "T: 3.22e+01"
       ]
      },
      {
       "output_type": "stream",
       "stream": "stdout",
       "text": [
        " energy: 2.90e-02 best: -1.11e-03\n",
        "T: 3.20e+01"
       ]
      },
      {
       "output_type": "stream",
       "stream": "stdout",
       "text": [
        " energy: 3.37e-02 best: -1.11e-03\n",
        "T: 3.18e+01"
       ]
      },
      {
       "output_type": "stream",
       "stream": "stdout",
       "text": [
        " energy: 3.17e-02 best: -1.11e-03\n",
        "T: 3.17e+01"
       ]
      },
      {
       "output_type": "stream",
       "stream": "stdout",
       "text": [
        " energy: 4.26e-02 best: -1.11e-03\n",
        "T: 3.15e+01"
       ]
      },
      {
       "output_type": "stream",
       "stream": "stdout",
       "text": [
        " energy: 6.29e-03 best: -1.11e-03\n",
        "T: 3.14e+01"
       ]
      },
      {
       "output_type": "stream",
       "stream": "stdout",
       "text": [
        " energy: 6.44e-03 best: -1.11e-03\n",
        "T: 3.12e+01"
       ]
      },
      {
       "output_type": "stream",
       "stream": "stdout",
       "text": [
        " energy: 2.44e-02 best: -1.11e-03\n",
        "T: 3.11e+01"
       ]
      },
      {
       "output_type": "stream",
       "stream": "stdout",
       "text": [
        " energy: 2.49e-02 best: -1.11e-03\n",
        "T: 3.09e+01"
       ]
      },
      {
       "output_type": "stream",
       "stream": "stdout",
       "text": [
        " energy: 2.74e-02 best: -1.11e-03\n",
        "T: 3.07e+01"
       ]
      },
      {
       "output_type": "stream",
       "stream": "stdout",
       "text": [
        " energy: 2.20e-02 best: -1.11e-03\n",
        "T: 3.06e+01"
       ]
      },
      {
       "output_type": "stream",
       "stream": "stdout",
       "text": [
        " energy: 3.27e-02 best: -1.11e-03\n",
        "T: 3.04e+01"
       ]
      },
      {
       "output_type": "stream",
       "stream": "stdout",
       "text": [
        " energy: 2.33e-02 best: -1.11e-03\n",
        "T: 3.03e+01"
       ]
      },
      {
       "output_type": "stream",
       "stream": "stdout",
       "text": [
        " energy: 2.84e-02 best: -1.11e-03\n",
        "T: 3.01e+01"
       ]
      },
      {
       "output_type": "stream",
       "stream": "stdout",
       "text": [
        " energy: 1.66e-02 best: -2.36e-03\n",
        "T: 3.00e+01"
       ]
      },
      {
       "output_type": "stream",
       "stream": "stdout",
       "text": [
        " energy: 2.91e-02 best: -2.36e-03\n",
        "T: 2.98e+01"
       ]
      },
      {
       "output_type": "stream",
       "stream": "stdout",
       "text": [
        " energy: 2.73e-02 best: -2.36e-03\n",
        "T: 2.97e+01"
       ]
      },
      {
       "output_type": "stream",
       "stream": "stdout",
       "text": [
        " energy: 6.74e-03 best: -2.36e-03\n",
        "T: 2.95e+01"
       ]
      },
      {
       "output_type": "stream",
       "stream": "stdout",
       "text": [
        " energy: 2.76e-02 best: -2.36e-03\n",
        "T: 2.94e+01"
       ]
      },
      {
       "output_type": "stream",
       "stream": "stdout",
       "text": [
        " energy: 1.42e-02 best: -2.36e-03\n",
        "T: 2.92e+01"
       ]
      },
      {
       "output_type": "stream",
       "stream": "stdout",
       "text": [
        " energy: 2.85e-02 best: -2.36e-03\n",
        "T: 2.91e+01"
       ]
      },
      {
       "output_type": "stream",
       "stream": "stdout",
       "text": [
        " energy: 2.92e-02 best: -2.36e-03\n",
        "T: 2.90e+01"
       ]
      },
      {
       "output_type": "stream",
       "stream": "stdout",
       "text": [
        " energy: 1.63e-02 best: -2.36e-03\n",
        "T: 2.88e+01"
       ]
      },
      {
       "output_type": "stream",
       "stream": "stdout",
       "text": [
        " energy: 1.09e-02 best: -2.36e-03\n",
        "T: 2.87e+01"
       ]
      },
      {
       "output_type": "stream",
       "stream": "stdout",
       "text": [
        " energy: 2.89e-02 best: -2.36e-03\n",
        "T: 2.85e+01"
       ]
      },
      {
       "output_type": "stream",
       "stream": "stdout",
       "text": [
        " energy: 3.24e-02 best: -2.36e-03\n",
        "T: 2.84e+01"
       ]
      },
      {
       "output_type": "stream",
       "stream": "stdout",
       "text": [
        " energy: 2.93e-02 best: -2.36e-03\n",
        "T: 2.82e+01"
       ]
      },
      {
       "output_type": "stream",
       "stream": "stdout",
       "text": [
        " energy: 2.94e-02 best: -2.36e-03\n",
        "T: 2.81e+01"
       ]
      },
      {
       "output_type": "stream",
       "stream": "stdout",
       "text": [
        " energy: 2.88e-02 best: -2.36e-03\n",
        "T: 2.80e+01"
       ]
      },
      {
       "output_type": "stream",
       "stream": "stdout",
       "text": [
        " energy: 2.59e-02 best: -2.36e-03\n",
        "T: 2.78e+01"
       ]
      },
      {
       "output_type": "stream",
       "stream": "stdout",
       "text": [
        " energy: 2.99e-02 best: -2.36e-03\n",
        "T: 2.77e+01"
       ]
      },
      {
       "output_type": "stream",
       "stream": "stdout",
       "text": [
        " energy: 3.04e-02 best: -2.36e-03\n",
        "T: 2.75e+01"
       ]
      },
      {
       "output_type": "stream",
       "stream": "stdout",
       "text": [
        " energy: 1.62e-02 best: -2.36e-03\n",
        "T: 2.74e+01"
       ]
      },
      {
       "output_type": "stream",
       "stream": "stdout",
       "text": [
        " energy: 2.46e-02 best: -2.36e-03\n",
        "T: 2.73e+01"
       ]
      },
      {
       "output_type": "stream",
       "stream": "stdout",
       "text": [
        " energy: 1.75e-02 best: -2.36e-03\n",
        "T: 2.71e+01"
       ]
      },
      {
       "output_type": "stream",
       "stream": "stdout",
       "text": [
        " energy: 3.31e-02 best: -2.36e-03\n",
        "T: 2.70e+01"
       ]
      },
      {
       "output_type": "stream",
       "stream": "stdout",
       "text": [
        " energy: 1.38e-02 best: -2.36e-03\n",
        "T: 2.69e+01"
       ]
      },
      {
       "output_type": "stream",
       "stream": "stdout",
       "text": [
        " energy: 1.62e-02 best: -2.36e-03\n",
        "T: 2.67e+01"
       ]
      },
      {
       "output_type": "stream",
       "stream": "stdout",
       "text": [
        " energy: 1.99e-02 best: -2.36e-03\n",
        "T: 2.66e+01"
       ]
      },
      {
       "output_type": "stream",
       "stream": "stdout",
       "text": [
        " energy: 1.26e-02 best: -5.26e-03\n",
        "T: 2.65e+01"
       ]
      },
      {
       "output_type": "stream",
       "stream": "stdout",
       "text": [
        " energy: 2.39e-02 best: -5.26e-03\n",
        "T: 2.63e+01"
       ]
      },
      {
       "output_type": "stream",
       "stream": "stdout",
       "text": [
        " energy: 4.05e-02 best: -5.26e-03\n",
        "T: 2.62e+01"
       ]
      },
      {
       "output_type": "stream",
       "stream": "stdout",
       "text": [
        " energy: 3.71e-02 best: -5.26e-03\n",
        "T: 2.61e+01"
       ]
      },
      {
       "output_type": "stream",
       "stream": "stdout",
       "text": [
        " energy: 3.86e-02 best: -5.26e-03\n",
        "T: 2.59e+01"
       ]
      },
      {
       "output_type": "stream",
       "stream": "stdout",
       "text": [
        " energy: 2.81e-02 best: -5.26e-03\n",
        "T: 2.58e+01"
       ]
      },
      {
       "output_type": "stream",
       "stream": "stdout",
       "text": [
        " energy: 8.54e-03 best: -5.26e-03\n",
        "T: 2.57e+01"
       ]
      },
      {
       "output_type": "stream",
       "stream": "stdout",
       "text": [
        " energy: 3.99e-02 best: -5.26e-03\n",
        "T: 2.55e+01"
       ]
      },
      {
       "output_type": "stream",
       "stream": "stdout",
       "text": [
        " energy: 2.69e-02 best: -5.26e-03\n",
        "T: 2.54e+01"
       ]
      },
      {
       "output_type": "stream",
       "stream": "stdout",
       "text": [
        " energy: 2.49e-02 best: -5.26e-03\n",
        "T: 2.53e+01"
       ]
      },
      {
       "output_type": "stream",
       "stream": "stdout",
       "text": [
        " energy: 3.51e-02 best: -5.26e-03\n",
        "T: 2.52e+01"
       ]
      },
      {
       "output_type": "stream",
       "stream": "stdout",
       "text": [
        " energy: 1.95e-02 best: -5.26e-03\n",
        "T: 2.50e+01"
       ]
      },
      {
       "output_type": "stream",
       "stream": "stdout",
       "text": [
        " energy: 2.21e-02 best: -5.26e-03\n",
        "T: 2.49e+01"
       ]
      },
      {
       "output_type": "stream",
       "stream": "stdout",
       "text": [
        " energy: 2.97e-02 best: -5.26e-03\n",
        "T: 2.48e+01"
       ]
      },
      {
       "output_type": "stream",
       "stream": "stdout",
       "text": [
        " energy: 1.96e-02 best: -5.26e-03\n",
        "T: 2.47e+01"
       ]
      },
      {
       "output_type": "stream",
       "stream": "stdout",
       "text": [
        " energy: 1.72e-02 best: -5.26e-03\n",
        "T: 2.45e+01"
       ]
      },
      {
       "output_type": "stream",
       "stream": "stdout",
       "text": [
        " energy: 2.46e-02 best: -5.26e-03\n",
        "T: 2.44e+01"
       ]
      },
      {
       "output_type": "stream",
       "stream": "stdout",
       "text": [
        " energy: 3.07e-02 best: -5.26e-03\n",
        "T: 2.43e+01"
       ]
      },
      {
       "output_type": "stream",
       "stream": "stdout",
       "text": [
        " energy: 2.82e-02 best: -5.26e-03\n",
        "T: 2.42e+01"
       ]
      },
      {
       "output_type": "stream",
       "stream": "stdout",
       "text": [
        " energy: 3.09e-02 best: -5.26e-03\n",
        "T: 2.41e+01"
       ]
      },
      {
       "output_type": "stream",
       "stream": "stdout",
       "text": [
        " energy: 3.32e-02 best: -5.26e-03\n",
        "T: 2.39e+01"
       ]
      },
      {
       "output_type": "stream",
       "stream": "stdout",
       "text": [
        " energy: 3.02e-02 best: -5.26e-03\n",
        "T: 2.38e+01"
       ]
      },
      {
       "output_type": "stream",
       "stream": "stdout",
       "text": [
        " energy: 2.48e-02 best: -5.26e-03\n",
        "T: 2.37e+01"
       ]
      },
      {
       "output_type": "stream",
       "stream": "stdout",
       "text": [
        " energy: 3.45e-02 best: -5.26e-03\n",
        "T: 2.36e+01"
       ]
      },
      {
       "output_type": "stream",
       "stream": "stdout",
       "text": [
        " energy: 1.65e-02 best: -5.26e-03\n",
        "T: 2.35e+01"
       ]
      },
      {
       "output_type": "stream",
       "stream": "stdout",
       "text": [
        " energy: 3.00e-02 best: -5.26e-03\n",
        "T: 2.33e+01"
       ]
      },
      {
       "output_type": "stream",
       "stream": "stdout",
       "text": [
        " energy: 2.86e-02 best: -5.26e-03\n",
        "T: 2.32e+01"
       ]
      },
      {
       "output_type": "stream",
       "stream": "stdout",
       "text": [
        " energy: 3.10e-02 best: -5.26e-03\n",
        "T: 2.31e+01"
       ]
      },
      {
       "output_type": "stream",
       "stream": "stdout",
       "text": [
        " energy: 2.67e-02 best: -5.26e-03\n",
        "T: 2.30e+01"
       ]
      },
      {
       "output_type": "stream",
       "stream": "stdout",
       "text": [
        " energy: 2.87e-02 best: -5.26e-03\n",
        "T: 2.29e+01"
       ]
      },
      {
       "output_type": "stream",
       "stream": "stdout",
       "text": [
        " energy: 2.83e-02 best: -5.26e-03\n",
        "T: 2.28e+01"
       ]
      },
      {
       "output_type": "stream",
       "stream": "stdout",
       "text": [
        " energy: 3.08e-02 best: -5.26e-03\n",
        "T: 2.26e+01"
       ]
      },
      {
       "output_type": "stream",
       "stream": "stdout",
       "text": [
        " energy: 2.24e-02 best: -5.26e-03\n",
        "T: 2.25e+01"
       ]
      },
      {
       "output_type": "stream",
       "stream": "stdout",
       "text": [
        " energy: 2.53e-02 best: -5.26e-03\n",
        "T: 2.24e+01"
       ]
      },
      {
       "output_type": "stream",
       "stream": "stdout",
       "text": [
        " energy: 2.62e-02 best: -5.26e-03\n",
        "T: 2.23e+01"
       ]
      },
      {
       "output_type": "stream",
       "stream": "stdout",
       "text": [
        " energy: 2.75e-02 best: -5.26e-03\n",
        "T: 2.22e+01"
       ]
      },
      {
       "output_type": "stream",
       "stream": "stdout",
       "text": [
        " energy: 2.71e-02 best: -5.26e-03\n",
        "T: 2.21e+01"
       ]
      },
      {
       "output_type": "stream",
       "stream": "stdout",
       "text": [
        " energy: 2.69e-02 best: -5.26e-03\n",
        "T: 2.20e+01"
       ]
      },
      {
       "output_type": "stream",
       "stream": "stdout",
       "text": [
        " energy: 2.17e-02 best: -5.26e-03\n",
        "T: 2.19e+01"
       ]
      },
      {
       "output_type": "stream",
       "stream": "stdout",
       "text": [
        " energy: 2.82e-02 best: -5.26e-03\n",
        "T: 2.18e+01"
       ]
      },
      {
       "output_type": "stream",
       "stream": "stdout",
       "text": [
        " energy: 2.73e-02 best: -5.26e-03\n",
        "T: 2.16e+01"
       ]
      },
      {
       "output_type": "stream",
       "stream": "stdout",
       "text": [
        " energy: 2.86e-02 best: -5.26e-03\n",
        "T: 2.15e+01"
       ]
      },
      {
       "output_type": "stream",
       "stream": "stdout",
       "text": [
        " energy: 2.55e-02 best: -5.26e-03\n",
        "T: 2.14e+01"
       ]
      },
      {
       "output_type": "stream",
       "stream": "stdout",
       "text": [
        " energy: 2.84e-02 best: -5.26e-03\n",
        "T: 2.13e+01"
       ]
      },
      {
       "output_type": "stream",
       "stream": "stdout",
       "text": [
        " energy: 2.60e-02 best: -5.26e-03\n",
        "T: 2.12e+01"
       ]
      },
      {
       "output_type": "stream",
       "stream": "stdout",
       "text": [
        " energy: 2.09e-02 best: -5.26e-03\n",
        "T: 2.11e+01"
       ]
      },
      {
       "output_type": "stream",
       "stream": "stdout",
       "text": [
        " energy: 2.70e-02 best: -5.26e-03\n",
        "T: 2.10e+01"
       ]
      },
      {
       "output_type": "stream",
       "stream": "stdout",
       "text": [
        " energy: 2.65e-02 best: -5.26e-03\n",
        "T: 2.09e+01"
       ]
      },
      {
       "output_type": "stream",
       "stream": "stdout",
       "text": [
        " energy: 2.94e-02 best: -5.26e-03\n",
        "T: 2.08e+01"
       ]
      },
      {
       "output_type": "stream",
       "stream": "stdout",
       "text": [
        " energy: 2.89e-02 best: -5.26e-03\n",
        "T: 2.07e+01"
       ]
      },
      {
       "output_type": "stream",
       "stream": "stdout",
       "text": [
        " energy: 2.33e-02 best: -5.26e-03\n",
        "T: 2.06e+01"
       ]
      },
      {
       "output_type": "stream",
       "stream": "stdout",
       "text": [
        " energy: 3.21e-02 best: -5.26e-03\n",
        "T: 2.05e+01"
       ]
      },
      {
       "output_type": "stream",
       "stream": "stdout",
       "text": [
        " energy: 2.97e-02 best: -5.26e-03\n",
        "T: 2.04e+01"
       ]
      },
      {
       "output_type": "stream",
       "stream": "stdout",
       "text": [
        " energy: 2.38e-02 best: -5.26e-03\n",
        "T: 2.03e+01"
       ]
      },
      {
       "output_type": "stream",
       "stream": "stdout",
       "text": [
        " energy: 3.15e-02 best: -5.26e-03\n",
        "T: 2.02e+01"
       ]
      },
      {
       "output_type": "stream",
       "stream": "stdout",
       "text": [
        " energy: 2.76e-02 best: -5.26e-03\n",
        "T: 2.01e+01"
       ]
      },
      {
       "output_type": "stream",
       "stream": "stdout",
       "text": [
        " energy: 3.09e-02 best: -5.26e-03\n",
        "T: 2.00e+01"
       ]
      },
      {
       "output_type": "stream",
       "stream": "stdout",
       "text": [
        " energy: 2.32e-02 best: -5.26e-03\n",
        "T: 1.99e+01"
       ]
      },
      {
       "output_type": "stream",
       "stream": "stdout",
       "text": [
        " energy: 3.35e-02 best: -5.26e-03\n",
        "T: 1.98e+01"
       ]
      },
      {
       "output_type": "stream",
       "stream": "stdout",
       "text": [
        " energy: 3.33e-02 best: -5.26e-03\n",
        "T: 1.97e+01"
       ]
      },
      {
       "output_type": "stream",
       "stream": "stdout",
       "text": [
        " energy: 3.04e-02 best: -5.26e-03\n",
        "T: 1.96e+01"
       ]
      },
      {
       "output_type": "stream",
       "stream": "stdout",
       "text": [
        " energy: 1.92e-02 best: -5.26e-03\n",
        "T: 1.95e+01"
       ]
      },
      {
       "output_type": "stream",
       "stream": "stdout",
       "text": [
        " energy: 2.49e-02 best: -5.26e-03\n",
        "T: 1.94e+01"
       ]
      },
      {
       "output_type": "stream",
       "stream": "stdout",
       "text": [
        " energy: 7.86e-03 best: -5.26e-03\n",
        "T: 1.93e+01"
       ]
      },
      {
       "output_type": "stream",
       "stream": "stdout",
       "text": [
        " energy: 3.38e-02 best: -5.26e-03\n",
        "T: 1.92e+01"
       ]
      },
      {
       "output_type": "stream",
       "stream": "stdout",
       "text": [
        " energy: 2.26e-02 best: -5.26e-03\n",
        "T: 1.91e+01"
       ]
      },
      {
       "output_type": "stream",
       "stream": "stdout",
       "text": [
        " energy: 2.83e-02 best: -5.26e-03\n",
        "T: 1.90e+01"
       ]
      },
      {
       "output_type": "stream",
       "stream": "stdout",
       "text": [
        " energy: 1.75e-02 best: -5.26e-03\n",
        "T: 1.89e+01"
       ]
      },
      {
       "output_type": "stream",
       "stream": "stdout",
       "text": [
        " energy: 3.94e-02 best: -5.26e-03\n",
        "T: 1.88e+01"
       ]
      },
      {
       "output_type": "stream",
       "stream": "stdout",
       "text": [
        " energy: 3.27e-02 best: -5.26e-03\n",
        "T: 1.87e+01"
       ]
      },
      {
       "output_type": "stream",
       "stream": "stdout",
       "text": [
        " energy: 2.61e-02 best: -5.26e-03\n",
        "T: 1.86e+01"
       ]
      },
      {
       "output_type": "stream",
       "stream": "stdout",
       "text": [
        " energy: 1.66e-02 best: -5.26e-03\n",
        "T: 1.85e+01"
       ]
      },
      {
       "output_type": "stream",
       "stream": "stdout",
       "text": [
        " energy: 3.17e-02 best: -5.26e-03\n",
        "T: 1.84e+01"
       ]
      },
      {
       "output_type": "stream",
       "stream": "stdout",
       "text": [
        " energy: 2.52e-02 best: -5.26e-03\n",
        "T: 1.83e+01"
       ]
      },
      {
       "output_type": "stream",
       "stream": "stdout",
       "text": [
        " energy: 1.53e-02 best: -5.26e-03\n",
        "T: 1.83e+01"
       ]
      },
      {
       "output_type": "stream",
       "stream": "stdout",
       "text": [
        " energy: 2.93e-02 best: -5.26e-03\n",
        "T: 1.82e+01"
       ]
      },
      {
       "output_type": "stream",
       "stream": "stdout",
       "text": [
        " energy: 2.03e-02 best: -5.26e-03\n",
        "T: 1.81e+01"
       ]
      },
      {
       "output_type": "stream",
       "stream": "stdout",
       "text": [
        " energy: 2.19e-02 best: -5.26e-03\n",
        "T: 1.80e+01"
       ]
      },
      {
       "output_type": "stream",
       "stream": "stdout",
       "text": [
        " energy: 3.53e-02 best: -5.26e-03\n",
        "T: 1.79e+01"
       ]
      },
      {
       "output_type": "stream",
       "stream": "stdout",
       "text": [
        " energy: 3.02e-02 best: -5.26e-03\n",
        "T: 1.78e+01"
       ]
      },
      {
       "output_type": "stream",
       "stream": "stdout",
       "text": [
        " energy: 3.09e-02 best: -5.26e-03\n",
        "T: 1.77e+01"
       ]
      },
      {
       "output_type": "stream",
       "stream": "stdout",
       "text": [
        " energy: 3.91e-02 best: -5.26e-03\n",
        "T: 1.76e+01"
       ]
      },
      {
       "output_type": "stream",
       "stream": "stdout",
       "text": [
        " energy: 2.74e-02 best: -5.26e-03\n",
        "T: 1.75e+01"
       ]
      },
      {
       "output_type": "stream",
       "stream": "stdout",
       "text": [
        " energy: 8.11e-03 best: -5.26e-03\n",
        "T: 1.75e+01"
       ]
      },
      {
       "output_type": "stream",
       "stream": "stdout",
       "text": [
        " energy: 1.38e-02 best: -1.25e-02\n",
        "T: 1.74e+01"
       ]
      },
      {
       "output_type": "stream",
       "stream": "stdout",
       "text": [
        " energy: 2.15e-02 best: -1.25e-02\n",
        "T: 1.73e+01"
       ]
      },
      {
       "output_type": "stream",
       "stream": "stdout",
       "text": [
        " energy: 1.29e-02 best: -1.25e-02\n",
        "T: 1.72e+01"
       ]
      },
      {
       "output_type": "stream",
       "stream": "stdout",
       "text": [
        " energy: 3.87e-02 best: -1.25e-02\n",
        "T: 1.71e+01"
       ]
      },
      {
       "output_type": "stream",
       "stream": "stdout",
       "text": [
        " energy: -3.92e-03 best: -1.25e-02\n",
        "T: 1.70e+01"
       ]
      },
      {
       "output_type": "stream",
       "stream": "stdout",
       "text": [
        " energy: 3.34e-02 best: -1.25e-02\n",
        "T: 1.69e+01"
       ]
      },
      {
       "output_type": "stream",
       "stream": "stdout",
       "text": [
        " energy: 2.90e-02 best: -1.25e-02\n",
        "T: 1.68e+01"
       ]
      },
      {
       "output_type": "stream",
       "stream": "stdout",
       "text": [
        " energy: 3.23e-02 best: -1.25e-02\n",
        "T: 1.68e+01"
       ]
      },
      {
       "output_type": "stream",
       "stream": "stdout",
       "text": [
        " energy: 2.96e-03 best: -1.25e-02\n",
        "T: 1.67e+01"
       ]
      },
      {
       "output_type": "stream",
       "stream": "stdout",
       "text": [
        " energy: 7.83e-03 best: -1.25e-02\n",
        "T: 1.66e+01"
       ]
      },
      {
       "output_type": "stream",
       "stream": "stdout",
       "text": [
        " energy: 3.64e-02 best: -1.25e-02\n",
        "T: 1.65e+01"
       ]
      },
      {
       "output_type": "stream",
       "stream": "stdout",
       "text": [
        " energy: 6.42e-02 best: -1.25e-02\n",
        "T: 1.64e+01"
       ]
      },
      {
       "output_type": "stream",
       "stream": "stdout",
       "text": [
        " energy: 2.50e-02 best: -1.25e-02\n",
        "T: 1.63e+01"
       ]
      },
      {
       "output_type": "stream",
       "stream": "stdout",
       "text": [
        " energy: 1.84e-02 best: -1.25e-02\n",
        "T: 1.63e+01"
       ]
      },
      {
       "output_type": "stream",
       "stream": "stdout",
       "text": [
        " energy: 2.94e-02 best: -1.25e-02\n",
        "T: 1.62e+01"
       ]
      },
      {
       "output_type": "stream",
       "stream": "stdout",
       "text": [
        " energy: 1.29e-02 best: -1.25e-02\n",
        "T: 1.61e+01"
       ]
      },
      {
       "output_type": "stream",
       "stream": "stdout",
       "text": [
        " energy: -3.25e-03 best: -1.34e-02\n",
        "T: 1.60e+01"
       ]
      },
      {
       "output_type": "stream",
       "stream": "stdout",
       "text": [
        " energy: -2.59e-02 best: -2.59e-02\n",
        "T: 1.59e+01"
       ]
      },
      {
       "output_type": "stream",
       "stream": "stdout",
       "text": [
        " energy: 1.66e-02 best: -2.59e-02\n",
        "T: 1.59e+01"
       ]
      },
      {
       "output_type": "stream",
       "stream": "stdout",
       "text": [
        " energy: 5.17e-03 best: -2.59e-02\n",
        "T: 1.58e+01"
       ]
      },
      {
       "output_type": "stream",
       "stream": "stdout",
       "text": [
        " energy: 1.98e-02 best: -2.59e-02\n",
        "T: 1.57e+01"
       ]
      },
      {
       "output_type": "stream",
       "stream": "stdout",
       "text": [
        " energy: 1.87e-02 best: -2.59e-02\n",
        "T: 1.56e+01"
       ]
      },
      {
       "output_type": "stream",
       "stream": "stdout",
       "text": [
        " energy: 2.03e-02 best: -2.59e-02\n",
        "T: 1.56e+01"
       ]
      },
      {
       "output_type": "stream",
       "stream": "stdout",
       "text": [
        " energy: 1.75e-02 best: -2.59e-02\n",
        "T: 1.55e+01"
       ]
      },
      {
       "output_type": "stream",
       "stream": "stdout",
       "text": [
        " energy: 3.55e-02 best: -2.59e-02\n",
        "T: 1.54e+01"
       ]
      },
      {
       "output_type": "stream",
       "stream": "stdout",
       "text": [
        " energy: 3.68e-02 best: -2.59e-02\n",
        "T: 1.53e+01"
       ]
      },
      {
       "output_type": "stream",
       "stream": "stdout",
       "text": [
        " energy: 2.69e-02 best: -2.59e-02\n",
        "T: 1.52e+01"
       ]
      },
      {
       "output_type": "stream",
       "stream": "stdout",
       "text": [
        " energy: 2.15e-02 best: -2.59e-02\n",
        "T: 1.52e+01"
       ]
      },
      {
       "output_type": "stream",
       "stream": "stdout",
       "text": [
        " energy: 3.95e-02 best: -2.59e-02\n",
        "T: 1.51e+01"
       ]
      },
      {
       "output_type": "stream",
       "stream": "stdout",
       "text": [
        " energy: 3.46e-02 best: -2.59e-02\n",
        "T: 1.50e+01"
       ]
      },
      {
       "output_type": "stream",
       "stream": "stdout",
       "text": [
        " energy: 2.55e-02 best: -2.59e-02\n",
        "T: 1.49e+01"
       ]
      },
      {
       "output_type": "stream",
       "stream": "stdout",
       "text": [
        " energy: 8.42e-03 best: -2.59e-02\n",
        "T: 1.49e+01"
       ]
      },
      {
       "output_type": "stream",
       "stream": "stdout",
       "text": [
        " energy: 2.05e-02 best: -2.59e-02\n",
        "T: 1.48e+01"
       ]
      },
      {
       "output_type": "stream",
       "stream": "stdout",
       "text": [
        " energy: 2.53e-02 best: -2.59e-02\n",
        "T: 1.47e+01"
       ]
      },
      {
       "output_type": "stream",
       "stream": "stdout",
       "text": [
        " energy: 3.52e-02 best: -2.59e-02\n",
        "T: 1.46e+01"
       ]
      },
      {
       "output_type": "stream",
       "stream": "stdout",
       "text": [
        " energy: 2.69e-02 best: -2.59e-02\n",
        "T: 1.46e+01"
       ]
      },
      {
       "output_type": "stream",
       "stream": "stdout",
       "text": [
        " energy: 2.91e-02 best: -2.59e-02\n",
        "T: 1.45e+01"
       ]
      },
      {
       "output_type": "stream",
       "stream": "stdout",
       "text": [
        " energy: 2.13e-02 best: -2.59e-02\n",
        "T: 1.44e+01"
       ]
      },
      {
       "output_type": "stream",
       "stream": "stdout",
       "text": [
        " energy: 1.17e-04 best: -2.59e-02\n",
        "T: 1.44e+01"
       ]
      },
      {
       "output_type": "stream",
       "stream": "stdout",
       "text": [
        " energy: 4.15e-02 best: -2.59e-02\n",
        "T: 1.43e+01"
       ]
      },
      {
       "output_type": "stream",
       "stream": "stdout",
       "text": [
        " energy: -5.60e-03 best: -2.59e-02\n",
        "T: 1.42e+01"
       ]
      },
      {
       "output_type": "stream",
       "stream": "stdout",
       "text": [
        " energy: 1.88e-02 best: -2.59e-02\n",
        "T: 1.41e+01"
       ]
      },
      {
       "output_type": "stream",
       "stream": "stdout",
       "text": [
        " energy: 2.98e-02 best: -2.59e-02\n",
        "T: 1.41e+01"
       ]
      },
      {
       "output_type": "stream",
       "stream": "stdout",
       "text": [
        " energy: 2.33e-02 best: -2.59e-02\n",
        "T: 1.40e+01"
       ]
      },
      {
       "output_type": "stream",
       "stream": "stdout",
       "text": [
        " energy: 4.22e-02 best: -2.59e-02\n",
        "T: 1.39e+01"
       ]
      },
      {
       "output_type": "stream",
       "stream": "stdout",
       "text": [
        " energy: 4.17e-02 best: -2.59e-02\n",
        "T: 1.39e+01"
       ]
      },
      {
       "output_type": "stream",
       "stream": "stdout",
       "text": [
        " energy: 1.11e-02 best: -2.59e-02\n",
        "T: 1.38e+01"
       ]
      },
      {
       "output_type": "stream",
       "stream": "stdout",
       "text": [
        " energy: 1.42e-02 best: -2.59e-02\n",
        "T: 1.37e+01"
       ]
      },
      {
       "output_type": "stream",
       "stream": "stdout",
       "text": [
        " energy: 2.46e-02 best: -2.59e-02\n",
        "T: 1.37e+01"
       ]
      },
      {
       "output_type": "stream",
       "stream": "stdout",
       "text": [
        " energy: 3.19e-02 best: -2.59e-02\n",
        "T: 1.36e+01"
       ]
      },
      {
       "output_type": "stream",
       "stream": "stdout",
       "text": [
        " energy: 2.44e-02 best: -2.59e-02\n",
        "T: 1.35e+01"
       ]
      },
      {
       "output_type": "stream",
       "stream": "stdout",
       "text": [
        " energy: 2.69e-02 best: -2.59e-02\n",
        "T: 1.34e+01"
       ]
      },
      {
       "output_type": "stream",
       "stream": "stdout",
       "text": [
        " energy: 3.28e-02 best: -2.59e-02\n",
        "T: 1.34e+01"
       ]
      },
      {
       "output_type": "stream",
       "stream": "stdout",
       "text": [
        " energy: 2.08e-02 best: -2.59e-02\n",
        "T: 1.33e+01"
       ]
      },
      {
       "output_type": "stream",
       "stream": "stdout",
       "text": [
        " energy: 3.34e-02 best: -2.59e-02\n",
        "T: 1.32e+01"
       ]
      },
      {
       "output_type": "stream",
       "stream": "stdout",
       "text": [
        " energy: 2.39e-02 best: -2.59e-02\n",
        "T: 1.32e+01"
       ]
      },
      {
       "output_type": "stream",
       "stream": "stdout",
       "text": [
        " energy: 2.46e-02 best: -2.59e-02\n",
        "T: 1.31e+01"
       ]
      },
      {
       "output_type": "stream",
       "stream": "stdout",
       "text": [
        " energy: 3.68e-02 best: -2.59e-02\n",
        "T: 1.30e+01"
       ]
      },
      {
       "output_type": "stream",
       "stream": "stdout",
       "text": [
        " energy: 1.93e-02 best: -2.59e-02\n",
        "T: 1.30e+01"
       ]
      },
      {
       "output_type": "stream",
       "stream": "stdout",
       "text": [
        " energy: 2.83e-02 best: -2.59e-02\n",
        "T: 1.29e+01"
       ]
      },
      {
       "output_type": "stream",
       "stream": "stdout",
       "text": [
        " energy: -7.26e-03 best: -2.59e-02\n",
        "T: 1.29e+01"
       ]
      },
      {
       "output_type": "stream",
       "stream": "stdout",
       "text": [
        " energy: 3.65e-02 best: -2.59e-02\n",
        "T: 1.28e+01"
       ]
      },
      {
       "output_type": "stream",
       "stream": "stdout",
       "text": [
        " energy: 1.06e-02 best: -2.59e-02\n",
        "T: 1.27e+01"
       ]
      },
      {
       "output_type": "stream",
       "stream": "stdout",
       "text": [
        " energy: 2.38e-02 best: -2.59e-02\n",
        "T: 1.27e+01"
       ]
      },
      {
       "output_type": "stream",
       "stream": "stdout",
       "text": [
        " energy: 1.46e-02 best: -2.59e-02\n",
        "T: 1.26e+01"
       ]
      },
      {
       "output_type": "stream",
       "stream": "stdout",
       "text": [
        " energy: 2.20e-02 best: -2.61e-02\n",
        "T: 1.25e+01"
       ]
      },
      {
       "output_type": "stream",
       "stream": "stdout",
       "text": [
        " energy: 3.50e-02 best: -2.61e-02\n",
        "T: 1.25e+01"
       ]
      },
      {
       "output_type": "stream",
       "stream": "stdout",
       "text": [
        " energy: 1.93e-02 best: -2.61e-02\n",
        "T: 1.24e+01"
       ]
      },
      {
       "output_type": "stream",
       "stream": "stdout",
       "text": [
        " energy: 2.73e-02 best: -2.61e-02\n",
        "T: 1.23e+01"
       ]
      },
      {
       "output_type": "stream",
       "stream": "stdout",
       "text": [
        " energy: 1.13e-02 best: -2.61e-02\n",
        "T: 1.23e+01"
       ]
      },
      {
       "output_type": "stream",
       "stream": "stdout",
       "text": [
        " energy: 2.01e-02 best: -2.61e-02\n",
        "T: 1.22e+01"
       ]
      },
      {
       "output_type": "stream",
       "stream": "stdout",
       "text": [
        " energy: 2.45e-02 best: -3.21e-02\n",
        "T: 1.22e+01"
       ]
      },
      {
       "output_type": "stream",
       "stream": "stdout",
       "text": [
        " energy: 2.99e-02 best: -4.39e-02\n",
        "T: 1.21e+01"
       ]
      },
      {
       "output_type": "stream",
       "stream": "stdout",
       "text": [
        " energy: 3.19e-03 best: -4.39e-02\n",
        "T: 1.20e+01"
       ]
      },
      {
       "output_type": "stream",
       "stream": "stdout",
       "text": [
        " energy: 3.39e-04 best: -4.39e-02\n",
        "T: 1.20e+01"
       ]
      },
      {
       "output_type": "stream",
       "stream": "stdout",
       "text": [
        " energy: 3.32e-02 best: -4.39e-02\n",
        "T: 1.19e+01"
       ]
      },
      {
       "output_type": "stream",
       "stream": "stdout",
       "text": [
        " energy: 1.76e-02 best: -4.39e-02\n",
        "T: 1.19e+01"
       ]
      },
      {
       "output_type": "stream",
       "stream": "stdout",
       "text": [
        " energy: 2.72e-02 best: -4.39e-02\n",
        "T: 1.18e+01"
       ]
      },
      {
       "output_type": "stream",
       "stream": "stdout",
       "text": [
        " energy: 3.29e-02 best: -4.39e-02\n",
        "T: 1.17e+01"
       ]
      },
      {
       "output_type": "stream",
       "stream": "stdout",
       "text": [
        " energy: 3.98e-02 best: -4.39e-02\n",
        "T: 1.17e+01"
       ]
      },
      {
       "output_type": "stream",
       "stream": "stdout",
       "text": [
        " energy: 2.06e-02 best: -4.39e-02\n",
        "T: 1.16e+01"
       ]
      },
      {
       "output_type": "stream",
       "stream": "stdout",
       "text": [
        " energy: 3.18e-02 best: -4.39e-02\n",
        "T: 1.16e+01"
       ]
      },
      {
       "output_type": "stream",
       "stream": "stdout",
       "text": [
        " energy: 2.02e-02 best: -4.39e-02\n",
        "T: 1.15e+01"
       ]
      },
      {
       "output_type": "stream",
       "stream": "stdout",
       "text": [
        " energy: 3.06e-02 best: -4.39e-02\n",
        "T: 1.15e+01"
       ]
      },
      {
       "output_type": "stream",
       "stream": "stdout",
       "text": [
        " energy: 3.23e-02 best: -4.39e-02\n",
        "T: 1.14e+01"
       ]
      },
      {
       "output_type": "stream",
       "stream": "stdout",
       "text": [
        " energy: 2.66e-02 best: -4.39e-02\n",
        "T: 1.13e+01"
       ]
      },
      {
       "output_type": "stream",
       "stream": "stdout",
       "text": [
        " energy: 1.84e-02 best: -4.39e-02\n",
        "T: 1.13e+01"
       ]
      },
      {
       "output_type": "stream",
       "stream": "stdout",
       "text": [
        " energy: 2.65e-02 best: -4.39e-02\n",
        "T: 1.12e+01"
       ]
      },
      {
       "output_type": "stream",
       "stream": "stdout",
       "text": [
        " energy: 2.89e-02 best: -4.39e-02\n",
        "T: 1.12e+01"
       ]
      },
      {
       "output_type": "stream",
       "stream": "stdout",
       "text": [
        " energy: 2.47e-02 best: -4.39e-02\n",
        "T: 1.11e+01"
       ]
      },
      {
       "output_type": "stream",
       "stream": "stdout",
       "text": [
        " energy: 2.39e-02 best: -4.39e-02\n",
        "T: 1.11e+01"
       ]
      },
      {
       "output_type": "stream",
       "stream": "stdout",
       "text": [
        " energy: 2.89e-02 best: -4.39e-02\n",
        "T: 1.10e+01"
       ]
      },
      {
       "output_type": "stream",
       "stream": "stdout",
       "text": [
        " energy: 2.36e-02 best: -4.39e-02\n",
        "T: 1.09e+01"
       ]
      },
      {
       "output_type": "stream",
       "stream": "stdout",
       "text": [
        " energy: 2.92e-02 best: -4.39e-02\n",
        "T: 1.09e+01"
       ]
      },
      {
       "output_type": "stream",
       "stream": "stdout",
       "text": [
        " energy: 3.67e-02 best: -4.39e-02\n",
        "T: 1.08e+01"
       ]
      },
      {
       "output_type": "stream",
       "stream": "stdout",
       "text": [
        " energy: 2.36e-02 best: -4.39e-02\n",
        "T: 1.08e+01"
       ]
      },
      {
       "output_type": "stream",
       "stream": "stdout",
       "text": [
        " energy: 2.58e-02 best: -4.39e-02\n",
        "T: 1.07e+01"
       ]
      },
      {
       "output_type": "stream",
       "stream": "stdout",
       "text": [
        " energy: 2.36e-02 best: -4.39e-02\n",
        "T: 1.07e+01"
       ]
      },
      {
       "output_type": "stream",
       "stream": "stdout",
       "text": [
        " energy: 2.20e-02 best: -4.39e-02\n",
        "T: 1.06e+01"
       ]
      },
      {
       "output_type": "stream",
       "stream": "stdout",
       "text": [
        " energy: 3.76e-02 best: -4.39e-02\n",
        "T: 1.06e+01"
       ]
      },
      {
       "output_type": "stream",
       "stream": "stdout",
       "text": [
        " energy: 5.31e-02 best: -4.39e-02\n",
        "T: 1.05e+01"
       ]
      },
      {
       "output_type": "stream",
       "stream": "stdout",
       "text": [
        " energy: 9.66e-03 best: -4.39e-02\n",
        "T: 1.05e+01"
       ]
      },
      {
       "output_type": "stream",
       "stream": "stdout",
       "text": [
        " energy: 3.34e-02 best: -4.39e-02\n",
        "T: 1.04e+01"
       ]
      },
      {
       "output_type": "stream",
       "stream": "stdout",
       "text": [
        " energy: 2.49e-02 best: -4.39e-02\n",
        "T: 1.04e+01"
       ]
      },
      {
       "output_type": "stream",
       "stream": "stdout",
       "text": [
        " energy: 1.90e-02 best: -4.39e-02\n",
        "T: 1.03e+01"
       ]
      },
      {
       "output_type": "stream",
       "stream": "stdout",
       "text": [
        " energy: 3.08e-02 best: -4.39e-02\n",
        "T: 1.03e+01"
       ]
      },
      {
       "output_type": "stream",
       "stream": "stdout",
       "text": [
        " energy: -2.29e-02 best: -4.39e-02\n",
        "T: 1.02e+01"
       ]
      },
      {
       "output_type": "stream",
       "stream": "stdout",
       "text": [
        " energy: 3.94e-02 best: -4.39e-02\n",
        "T: 1.02e+01"
       ]
      },
      {
       "output_type": "stream",
       "stream": "stdout",
       "text": [
        " energy: 2.49e-03 best: -4.39e-02\n",
        "T: 1.01e+01"
       ]
      },
      {
       "output_type": "stream",
       "stream": "stdout",
       "text": [
        " energy: 1.08e-02 best: -4.39e-02\n",
        "T: 1.01e+01"
       ]
      },
      {
       "output_type": "stream",
       "stream": "stdout",
       "text": [
        " energy: 5.78e-02 best: -4.39e-02\n",
        "T: 1.00e+01"
       ]
      },
      {
       "output_type": "stream",
       "stream": "stdout",
       "text": [
        " energy: 3.15e-02 best: -4.39e-02\n",
        "T: 9.95e+00"
       ]
      },
      {
       "output_type": "stream",
       "stream": "stdout",
       "text": [
        " energy: 2.15e-02 best: -4.39e-02\n",
        "T: 9.90e+00"
       ]
      },
      {
       "output_type": "stream",
       "stream": "stdout",
       "text": [
        " energy: 1.71e-02 best: -4.39e-02\n",
        "T: 9.85e+00"
       ]
      },
      {
       "output_type": "stream",
       "stream": "stdout",
       "text": [
        " energy: 2.15e-02 best: -4.39e-02\n",
        "T: 9.81e+00"
       ]
      },
      {
       "output_type": "stream",
       "stream": "stdout",
       "text": [
        " energy: 3.35e-02 best: -4.39e-02\n",
        "T: 9.76e+00"
       ]
      },
      {
       "output_type": "stream",
       "stream": "stdout",
       "text": [
        " energy: -1.25e-03 best: -4.39e-02\n",
        "T: 9.71e+00"
       ]
      },
      {
       "output_type": "stream",
       "stream": "stdout",
       "text": [
        " energy: 3.46e-02 best: -4.39e-02\n",
        "T: 9.66e+00"
       ]
      },
      {
       "output_type": "stream",
       "stream": "stdout",
       "text": [
        " energy: 4.11e-02 best: -4.39e-02\n",
        "T: 9.61e+00"
       ]
      },
      {
       "output_type": "stream",
       "stream": "stdout",
       "text": [
        " energy: 8.14e-03 best: -4.39e-02\n",
        "T: 9.56e+00"
       ]
      },
      {
       "output_type": "stream",
       "stream": "stdout",
       "text": [
        " energy: 1.79e-03 best: -4.39e-02\n",
        "T: 9.52e+00"
       ]
      },
      {
       "output_type": "stream",
       "stream": "stdout",
       "text": [
        " energy: 1.52e-02 best: -4.39e-02\n",
        "T: 9.47e+00"
       ]
      },
      {
       "output_type": "stream",
       "stream": "stdout",
       "text": [
        " energy: 1.10e-02 best: -4.39e-02\n",
        "T: 9.42e+00"
       ]
      },
      {
       "output_type": "stream",
       "stream": "stdout",
       "text": [
        " energy: 2.22e-02 best: -4.39e-02\n",
        "T: 9.37e+00"
       ]
      },
      {
       "output_type": "stream",
       "stream": "stdout",
       "text": [
        " energy: 2.56e-02 best: -4.39e-02\n",
        "T: 9.33e+00"
       ]
      },
      {
       "output_type": "stream",
       "stream": "stdout",
       "text": [
        " energy: 2.08e-02 best: -4.39e-02\n",
        "T: 9.28e+00"
       ]
      },
      {
       "output_type": "stream",
       "stream": "stdout",
       "text": [
        " energy: 2.12e-02 best: -4.39e-02\n",
        "T: 9.23e+00"
       ]
      },
      {
       "output_type": "stream",
       "stream": "stdout",
       "text": [
        " energy: 2.91e-02 best: -4.39e-02\n",
        "T: 9.19e+00"
       ]
      },
      {
       "output_type": "stream",
       "stream": "stdout",
       "text": [
        " energy: 2.69e-02 best: -4.39e-02\n",
        "T: 9.14e+00"
       ]
      },
      {
       "output_type": "stream",
       "stream": "stdout",
       "text": [
        " energy: 3.06e-02 best: -4.39e-02\n",
        "T: 9.10e+00"
       ]
      },
      {
       "output_type": "stream",
       "stream": "stdout",
       "text": [
        " energy: 2.38e-02 best: -4.39e-02\n",
        "T: 9.05e+00"
       ]
      },
      {
       "output_type": "stream",
       "stream": "stdout",
       "text": [
        " energy: 2.52e-02 best: -4.39e-02\n",
        "T: 9.00e+00"
       ]
      },
      {
       "output_type": "stream",
       "stream": "stdout",
       "text": [
        " energy: 2.01e-02 best: -4.39e-02\n",
        "T: 8.96e+00"
       ]
      },
      {
       "output_type": "stream",
       "stream": "stdout",
       "text": [
        " energy: 3.46e-02 best: -4.39e-02\n",
        "T: 8.91e+00"
       ]
      },
      {
       "output_type": "stream",
       "stream": "stdout",
       "text": [
        " energy: 2.34e-02 best: -4.39e-02\n",
        "T: 8.87e+00"
       ]
      },
      {
       "output_type": "stream",
       "stream": "stdout",
       "text": [
        " energy: 2.71e-02 best: -4.39e-02\n",
        "T: 8.83e+00"
       ]
      },
      {
       "output_type": "stream",
       "stream": "stdout",
       "text": [
        " energy: 1.97e-02 best: -4.39e-02\n",
        "T: 8.78e+00"
       ]
      },
      {
       "output_type": "stream",
       "stream": "stdout",
       "text": [
        " energy: 2.10e-02 best: -4.39e-02\n",
        "T: 8.74e+00"
       ]
      },
      {
       "output_type": "stream",
       "stream": "stdout",
       "text": [
        " energy: 2.46e-02 best: -4.39e-02\n",
        "T: 8.69e+00"
       ]
      },
      {
       "output_type": "stream",
       "stream": "stdout",
       "text": [
        " energy: 2.96e-02 best: -4.39e-02\n",
        "T: 8.65e+00"
       ]
      },
      {
       "output_type": "stream",
       "stream": "stdout",
       "text": [
        " energy: 4.02e-02 best: -4.39e-02\n",
        "T: 8.61e+00"
       ]
      },
      {
       "output_type": "stream",
       "stream": "stdout",
       "text": [
        " energy: 2.39e-02 best: -4.39e-02\n",
        "T: 8.56e+00"
       ]
      },
      {
       "output_type": "stream",
       "stream": "stdout",
       "text": [
        " energy: 1.29e-02 best: -4.39e-02\n",
        "T: 8.52e+00"
       ]
      },
      {
       "output_type": "stream",
       "stream": "stdout",
       "text": [
        " energy: 2.97e-02 best: -4.39e-02\n",
        "T: 8.48e+00"
       ]
      },
      {
       "output_type": "stream",
       "stream": "stdout",
       "text": [
        " energy: 3.02e-02 best: -4.39e-02\n",
        "T: 8.44e+00"
       ]
      },
      {
       "output_type": "stream",
       "stream": "stdout",
       "text": [
        " energy: 2.82e-02 best: -4.39e-02\n",
        "T: 8.39e+00"
       ]
      },
      {
       "output_type": "stream",
       "stream": "stdout",
       "text": [
        " energy: 2.89e-02 best: -4.39e-02\n",
        "T: 8.35e+00"
       ]
      },
      {
       "output_type": "stream",
       "stream": "stdout",
       "text": [
        " energy: 2.62e-02 best: -4.39e-02\n",
        "T: 8.31e+00"
       ]
      },
      {
       "output_type": "stream",
       "stream": "stdout",
       "text": [
        " energy: 2.49e-02 best: -4.39e-02\n",
        "T: 8.27e+00"
       ]
      },
      {
       "output_type": "stream",
       "stream": "stdout",
       "text": [
        " energy: 2.76e-02 best: -4.39e-02\n",
        "T: 8.23e+00"
       ]
      },
      {
       "output_type": "stream",
       "stream": "stdout",
       "text": [
        " energy: 3.51e-02 best: -4.39e-02\n",
        "T: 8.19e+00"
       ]
      },
      {
       "output_type": "stream",
       "stream": "stdout",
       "text": [
        " energy: 3.01e-02 best: -4.39e-02\n",
        "T: 8.15e+00"
       ]
      },
      {
       "output_type": "stream",
       "stream": "stdout",
       "text": [
        " energy: 3.90e-02 best: -4.39e-02\n",
        "T: 8.10e+00"
       ]
      },
      {
       "output_type": "stream",
       "stream": "stdout",
       "text": [
        " energy: 2.67e-02 best: -4.39e-02\n",
        "T: 8.06e+00"
       ]
      },
      {
       "output_type": "stream",
       "stream": "stdout",
       "text": [
        " energy: 2.83e-02 best: -4.39e-02\n",
        "T: 8.02e+00"
       ]
      },
      {
       "output_type": "stream",
       "stream": "stdout",
       "text": [
        " energy: 3.01e-02 best: -4.39e-02\n",
        "T: 7.98e+00"
       ]
      },
      {
       "output_type": "stream",
       "stream": "stdout",
       "text": [
        " energy: 3.17e-02 best: -4.39e-02\n",
        "T: 7.94e+00"
       ]
      },
      {
       "output_type": "stream",
       "stream": "stdout",
       "text": [
        " energy: 1.75e-02 best: -4.39e-02\n",
        "T: 7.90e+00"
       ]
      },
      {
       "output_type": "stream",
       "stream": "stdout",
       "text": [
        " energy: 3.93e-02 best: -4.39e-02\n",
        "T: 7.86e+00"
       ]
      },
      {
       "output_type": "stream",
       "stream": "stdout",
       "text": [
        " energy: 2.21e-02 best: -4.39e-02\n",
        "T: 7.83e+00"
       ]
      },
      {
       "output_type": "stream",
       "stream": "stdout",
       "text": [
        " energy: 2.56e-02 best: -4.39e-02\n",
        "T: 7.79e+00"
       ]
      },
      {
       "output_type": "stream",
       "stream": "stdout",
       "text": [
        " energy: 2.03e-02 best: -4.39e-02\n",
        "T: 7.75e+00"
       ]
      },
      {
       "output_type": "stream",
       "stream": "stdout",
       "text": [
        " energy: 2.59e-02 best: -4.39e-02\n",
        "T: 7.71e+00"
       ]
      },
      {
       "output_type": "stream",
       "stream": "stdout",
       "text": [
        " energy: 3.48e-02 best: -4.39e-02\n",
        "T: 7.67e+00"
       ]
      },
      {
       "output_type": "stream",
       "stream": "stdout",
       "text": [
        " energy: 2.27e-02 best: -4.39e-02\n",
        "T: 7.63e+00"
       ]
      },
      {
       "output_type": "stream",
       "stream": "stdout",
       "text": [
        " energy: 3.29e-02 best: -4.39e-02\n",
        "T: 7.59e+00"
       ]
      },
      {
       "output_type": "stream",
       "stream": "stdout",
       "text": [
        " energy: 2.13e-02 best: -4.39e-02\n",
        "T: 7.56e+00"
       ]
      },
      {
       "output_type": "stream",
       "stream": "stdout",
       "text": [
        " energy: 3.38e-02 best: -4.39e-02\n",
        "T: 7.52e+00"
       ]
      },
      {
       "output_type": "stream",
       "stream": "stdout",
       "text": [
        " energy: 2.62e-02 best: -4.39e-02\n",
        "T: 7.48e+00"
       ]
      },
      {
       "output_type": "stream",
       "stream": "stdout",
       "text": [
        " energy: 2.57e-02 best: -4.39e-02\n",
        "T: 7.44e+00"
       ]
      },
      {
       "output_type": "stream",
       "stream": "stdout",
       "text": [
        " energy: 2.76e-02 best: -4.39e-02\n",
        "T: 7.41e+00"
       ]
      },
      {
       "output_type": "stream",
       "stream": "stdout",
       "text": [
        " energy: 3.78e-02 best: -4.39e-02\n",
        "T: 7.37e+00"
       ]
      },
      {
       "output_type": "stream",
       "stream": "stdout",
       "text": [
        " energy: 2.99e-02 best: -4.39e-02\n",
        "T: 7.33e+00"
       ]
      },
      {
       "output_type": "stream",
       "stream": "stdout",
       "text": [
        " energy: 3.27e-02 best: -4.39e-02\n",
        "T: 7.30e+00"
       ]
      },
      {
       "output_type": "stream",
       "stream": "stdout",
       "text": [
        " energy: 3.40e-02 best: -4.39e-02\n",
        "T: 7.26e+00"
       ]
      },
      {
       "output_type": "stream",
       "stream": "stdout",
       "text": [
        " energy: 2.08e-02 best: -4.39e-02\n",
        "T: 7.22e+00"
       ]
      },
      {
       "output_type": "stream",
       "stream": "stdout",
       "text": [
        " energy: 2.52e-02 best: -4.39e-02\n",
        "T: 7.19e+00"
       ]
      },
      {
       "output_type": "stream",
       "stream": "stdout",
       "text": [
        " energy: 2.64e-02 best: -4.39e-02\n",
        "T: 7.15e+00"
       ]
      },
      {
       "output_type": "stream",
       "stream": "stdout",
       "text": [
        " energy: 3.67e-02 best: -4.39e-02\n",
        "T: 7.11e+00"
       ]
      },
      {
       "output_type": "stream",
       "stream": "stdout",
       "text": [
        " energy: 2.90e-02 best: -4.39e-02\n",
        "T: 7.08e+00"
       ]
      },
      {
       "output_type": "stream",
       "stream": "stdout",
       "text": [
        " energy: 2.60e-02 best: -4.39e-02\n",
        "T: 7.04e+00"
       ]
      },
      {
       "output_type": "stream",
       "stream": "stdout",
       "text": [
        " energy: 2.14e-02 best: -4.39e-02\n",
        "T: 7.01e+00"
       ]
      },
      {
       "output_type": "stream",
       "stream": "stdout",
       "text": [
        " energy: 3.44e-02 best: -4.39e-02\n",
        "T: 6.97e+00"
       ]
      },
      {
       "output_type": "stream",
       "stream": "stdout",
       "text": [
        " energy: 2.94e-02 best: -4.39e-02\n",
        "T: 6.94e+00"
       ]
      },
      {
       "output_type": "stream",
       "stream": "stdout",
       "text": [
        " energy: 2.67e-02 best: -4.39e-02\n",
        "T: 6.90e+00"
       ]
      },
      {
       "output_type": "stream",
       "stream": "stdout",
       "text": [
        " energy: 2.36e-02 best: -4.39e-02\n",
        "T: 6.87e+00"
       ]
      },
      {
       "output_type": "stream",
       "stream": "stdout",
       "text": [
        " energy: 2.08e-02 best: -4.39e-02\n",
        "T: 6.83e+00"
       ]
      },
      {
       "output_type": "stream",
       "stream": "stdout",
       "text": [
        " energy: 2.79e-02 best: -4.39e-02\n",
        "T: 6.80e+00"
       ]
      },
      {
       "output_type": "stream",
       "stream": "stdout",
       "text": [
        " energy: 2.43e-02 best: -4.39e-02\n",
        "T: 6.77e+00"
       ]
      },
      {
       "output_type": "stream",
       "stream": "stdout",
       "text": [
        " energy: 2.05e-02 best: -4.39e-02\n",
        "T: 6.73e+00"
       ]
      },
      {
       "output_type": "stream",
       "stream": "stdout",
       "text": [
        " energy: 3.33e-02 best: -4.39e-02\n",
        "T: 6.70e+00"
       ]
      },
      {
       "output_type": "stream",
       "stream": "stdout",
       "text": [
        " energy: 3.79e-02 best: -4.39e-02\n",
        "T: 6.67e+00"
       ]
      },
      {
       "output_type": "stream",
       "stream": "stdout",
       "text": [
        " energy: 3.07e-02 best: -4.39e-02\n",
        "T: 6.63e+00"
       ]
      },
      {
       "output_type": "stream",
       "stream": "stdout",
       "text": [
        " energy: 1.51e-02 best: -4.39e-02\n",
        "T: 6.60e+00"
       ]
      },
      {
       "output_type": "stream",
       "stream": "stdout",
       "text": [
        " energy: 1.68e-02 best: -4.39e-02\n",
        "T: 6.57e+00"
       ]
      },
      {
       "output_type": "stream",
       "stream": "stdout",
       "text": [
        " energy: 3.19e-02 best: -4.39e-02\n",
        "T: 6.53e+00"
       ]
      },
      {
       "output_type": "stream",
       "stream": "stdout",
       "text": [
        " energy: 1.79e-02 best: -4.39e-02\n",
        "T: 6.50e+00"
       ]
      },
      {
       "output_type": "stream",
       "stream": "stdout",
       "text": [
        " energy: 2.52e-02 best: -4.39e-02\n",
        "T: 6.47e+00"
       ]
      },
      {
       "output_type": "stream",
       "stream": "stdout",
       "text": [
        " energy: 2.07e-02 best: -4.39e-02\n",
        "T: 6.44e+00"
       ]
      },
      {
       "output_type": "stream",
       "stream": "stdout",
       "text": [
        " energy: 2.41e-02 best: -4.39e-02\n",
        "T: 6.40e+00"
       ]
      },
      {
       "output_type": "stream",
       "stream": "stdout",
       "text": [
        " energy: 8.84e-03 best: -4.39e-02\n",
        "T: 6.37e+00"
       ]
      },
      {
       "output_type": "stream",
       "stream": "stdout",
       "text": [
        " energy: 3.24e-02 best: -4.39e-02\n",
        "T: 6.34e+00"
       ]
      },
      {
       "output_type": "stream",
       "stream": "stdout",
       "text": [
        " energy: 1.40e-02 best: -4.39e-02\n",
        "T: 6.31e+00"
       ]
      },
      {
       "output_type": "stream",
       "stream": "stdout",
       "text": [
        " energy: 3.27e-02 best: -4.39e-02\n",
        "T: 6.28e+00"
       ]
      },
      {
       "output_type": "stream",
       "stream": "stdout",
       "text": [
        " energy: 2.53e-02 best: -4.39e-02\n",
        "T: 6.25e+00"
       ]
      },
      {
       "output_type": "stream",
       "stream": "stdout",
       "text": [
        " energy: 3.37e-02 best: -4.39e-02\n",
        "T: 6.21e+00"
       ]
      },
      {
       "output_type": "stream",
       "stream": "stdout",
       "text": [
        " energy: 2.48e-02 best: -4.39e-02\n",
        "T: 6.18e+00"
       ]
      },
      {
       "output_type": "stream",
       "stream": "stdout",
       "text": [
        " energy: 2.09e-02 best: -4.39e-02\n",
        "T: 6.15e+00"
       ]
      },
      {
       "output_type": "stream",
       "stream": "stdout",
       "text": [
        " energy: 1.87e-02 best: -4.39e-02\n",
        "T: 6.12e+00"
       ]
      },
      {
       "output_type": "stream",
       "stream": "stdout",
       "text": [
        " energy: 4.16e-02 best: -4.39e-02\n",
        "T: 6.09e+00"
       ]
      },
      {
       "output_type": "stream",
       "stream": "stdout",
       "text": [
        " energy: 3.36e-02 best: -4.39e-02\n",
        "T: 6.06e+00"
       ]
      },
      {
       "output_type": "stream",
       "stream": "stdout",
       "text": [
        " energy: 2.53e-02 best: -4.39e-02\n",
        "T: 6.03e+00"
       ]
      },
      {
       "output_type": "stream",
       "stream": "stdout",
       "text": [
        " energy: -1.35e-02 best: -4.39e-02\n",
        "T: 6.00e+00"
       ]
      },
      {
       "output_type": "stream",
       "stream": "stdout",
       "text": [
        " energy: 7.34e-03 best: -4.39e-02\n",
        "T: 5.97e+00"
       ]
      },
      {
       "output_type": "stream",
       "stream": "stdout",
       "text": [
        " energy: 2.73e-02 best: -4.39e-02\n",
        "T: 5.94e+00"
       ]
      },
      {
       "output_type": "stream",
       "stream": "stdout",
       "text": [
        " energy: 2.33e-02 best: -4.39e-02\n",
        "T: 5.91e+00"
       ]
      },
      {
       "output_type": "stream",
       "stream": "stdout",
       "text": [
        " energy: 2.64e-02 best: -4.39e-02\n",
        "T: 5.88e+00"
       ]
      },
      {
       "output_type": "stream",
       "stream": "stdout",
       "text": [
        " energy: 3.23e-02 best: -4.39e-02\n",
        "T: 5.85e+00"
       ]
      },
      {
       "output_type": "stream",
       "stream": "stdout",
       "text": [
        " energy: 2.20e-02 best: -4.39e-02\n",
        "T: 5.82e+00"
       ]
      },
      {
       "output_type": "stream",
       "stream": "stdout",
       "text": [
        " energy: 2.71e-02 best: -4.39e-02\n",
        "T: 5.79e+00"
       ]
      },
      {
       "output_type": "stream",
       "stream": "stdout",
       "text": [
        " energy: 2.74e-02 best: -4.39e-02\n",
        "T: 5.76e+00"
       ]
      },
      {
       "output_type": "stream",
       "stream": "stdout",
       "text": [
        " energy: 2.03e-02 best: -4.39e-02\n",
        "T: 5.74e+00"
       ]
      },
      {
       "output_type": "stream",
       "stream": "stdout",
       "text": [
        " energy: 2.99e-02 best: -4.39e-02\n",
        "T: 5.71e+00"
       ]
      },
      {
       "output_type": "stream",
       "stream": "stdout",
       "text": [
        " energy: 1.48e-02 best: -4.39e-02\n",
        "T: 5.68e+00"
       ]
      },
      {
       "output_type": "stream",
       "stream": "stdout",
       "text": [
        " energy: 1.86e-02 best: -4.39e-02\n",
        "T: 5.65e+00"
       ]
      },
      {
       "output_type": "stream",
       "stream": "stdout",
       "text": [
        " energy: 2.07e-02 best: -4.39e-02\n",
        "T: 5.62e+00"
       ]
      },
      {
       "output_type": "stream",
       "stream": "stdout",
       "text": [
        " energy: 3.55e-02 best: -4.39e-02\n",
        "T: 5.59e+00"
       ]
      },
      {
       "output_type": "stream",
       "stream": "stdout",
       "text": [
        " energy: 2.12e-02 best: -4.39e-02\n",
        "T: 5.57e+00"
       ]
      },
      {
       "output_type": "stream",
       "stream": "stdout",
       "text": [
        " energy: 2.35e-02 best: -4.39e-02\n",
        "T: 5.54e+00"
       ]
      },
      {
       "output_type": "stream",
       "stream": "stdout",
       "text": [
        " energy: 2.26e-02 best: -4.39e-02\n",
        "T: 5.51e+00"
       ]
      },
      {
       "output_type": "stream",
       "stream": "stdout",
       "text": [
        " energy: 3.23e-02 best: -4.39e-02\n",
        "T: 5.48e+00"
       ]
      },
      {
       "output_type": "stream",
       "stream": "stdout",
       "text": [
        " energy: 2.41e-02 best: -4.39e-02\n",
        "T: 5.45e+00"
       ]
      },
      {
       "output_type": "stream",
       "stream": "stdout",
       "text": [
        " energy: 2.16e-02 best: -4.39e-02\n",
        "T: 5.43e+00"
       ]
      },
      {
       "output_type": "stream",
       "stream": "stdout",
       "text": [
        " energy: 2.49e-02 best: -4.39e-02\n",
        "T: 5.40e+00"
       ]
      },
      {
       "output_type": "stream",
       "stream": "stdout",
       "text": [
        " energy: 2.65e-02 best: -4.39e-02\n",
        "T: 5.37e+00"
       ]
      },
      {
       "output_type": "stream",
       "stream": "stdout",
       "text": [
        " energy: 3.10e-02 best: -4.39e-02\n",
        "T: 5.35e+00"
       ]
      },
      {
       "output_type": "stream",
       "stream": "stdout",
       "text": [
        " energy: 2.33e-02 best: -4.39e-02\n",
        "T: 5.32e+00"
       ]
      },
      {
       "output_type": "stream",
       "stream": "stdout",
       "text": [
        " energy: 1.70e-02 best: -4.39e-02\n",
        "T: 5.29e+00"
       ]
      },
      {
       "output_type": "stream",
       "stream": "stdout",
       "text": [
        " energy: 1.46e-02 best: -4.39e-02\n",
        "T: 5.27e+00"
       ]
      },
      {
       "output_type": "stream",
       "stream": "stdout",
       "text": [
        " energy: 2.04e-02 best: -4.39e-02\n",
        "T: 5.24e+00"
       ]
      },
      {
       "output_type": "stream",
       "stream": "stdout",
       "text": [
        " energy: 2.68e-02 best: -4.39e-02\n",
        "T: 5.21e+00"
       ]
      },
      {
       "output_type": "stream",
       "stream": "stdout",
       "text": [
        " energy: 3.50e-02 best: -4.39e-02\n",
        "T: 5.19e+00"
       ]
      },
      {
       "output_type": "stream",
       "stream": "stdout",
       "text": [
        " energy: 3.38e-02 best: -4.39e-02\n",
        "T: 5.16e+00"
       ]
      },
      {
       "output_type": "stream",
       "stream": "stdout",
       "text": [
        " energy: 2.43e-02 best: -4.39e-02\n",
        "T: 5.14e+00"
       ]
      },
      {
       "output_type": "stream",
       "stream": "stdout",
       "text": [
        " energy: 1.90e-02 best: -4.39e-02\n",
        "T: 5.11e+00"
       ]
      },
      {
       "output_type": "stream",
       "stream": "stdout",
       "text": [
        " energy: 2.08e-02 best: -4.39e-02\n",
        "T: 5.09e+00"
       ]
      },
      {
       "output_type": "stream",
       "stream": "stdout",
       "text": [
        " energy: 1.89e-02 best: -4.39e-02\n",
        "T: 5.06e+00"
       ]
      },
      {
       "output_type": "stream",
       "stream": "stdout",
       "text": [
        " energy: 2.69e-02 best: -4.39e-02\n",
        "T: 5.03e+00"
       ]
      },
      {
       "output_type": "stream",
       "stream": "stdout",
       "text": [
        " energy: 3.83e-02 best: -4.39e-02\n",
        "T: 5.01e+00"
       ]
      },
      {
       "output_type": "stream",
       "stream": "stdout",
       "text": [
        " energy: 1.79e-02 best: -4.39e-02\n",
        "T: 4.98e+00"
       ]
      },
      {
       "output_type": "stream",
       "stream": "stdout",
       "text": [
        " energy: 3.67e-02 best: -4.39e-02\n",
        "T: 4.96e+00"
       ]
      },
      {
       "output_type": "stream",
       "stream": "stdout",
       "text": [
        " energy: 3.22e-02 best: -4.39e-02\n",
        "T: 4.93e+00"
       ]
      },
      {
       "output_type": "stream",
       "stream": "stdout",
       "text": [
        " energy: 2.81e-02 best: -4.39e-02\n",
        "T: 4.91e+00"
       ]
      },
      {
       "output_type": "stream",
       "stream": "stdout",
       "text": [
        " energy: 2.44e-02 best: -4.39e-02\n",
        "T: 4.89e+00"
       ]
      },
      {
       "output_type": "stream",
       "stream": "stdout",
       "text": [
        " energy: 1.26e-02 best: -4.39e-02\n",
        "T: 4.86e+00"
       ]
      },
      {
       "output_type": "stream",
       "stream": "stdout",
       "text": [
        " energy: 2.67e-02 best: -4.39e-02\n",
        "T: 4.84e+00"
       ]
      },
      {
       "output_type": "stream",
       "stream": "stdout",
       "text": [
        " energy: 2.57e-02 best: -4.39e-02\n",
        "T: 4.81e+00"
       ]
      },
      {
       "output_type": "stream",
       "stream": "stdout",
       "text": [
        " energy: 1.69e-02 best: -4.39e-02\n",
        "T: 4.79e+00"
       ]
      },
      {
       "output_type": "stream",
       "stream": "stdout",
       "text": [
        " energy: 2.72e-02 best: -4.39e-02\n",
        "T: 4.76e+00"
       ]
      },
      {
       "output_type": "stream",
       "stream": "stdout",
       "text": [
        " energy: 1.72e-02 best: -4.39e-02\n",
        "T: 4.74e+00"
       ]
      },
      {
       "output_type": "stream",
       "stream": "stdout",
       "text": [
        " energy: 3.04e-02 best: -4.39e-02\n",
        "T: 4.72e+00"
       ]
      },
      {
       "output_type": "stream",
       "stream": "stdout",
       "text": [
        " energy: 6.65e-03 best: -4.39e-02\n",
        "T: 4.69e+00"
       ]
      },
      {
       "output_type": "stream",
       "stream": "stdout",
       "text": [
        " energy: 1.69e-02 best: -4.39e-02\n",
        "T: 4.67e+00"
       ]
      },
      {
       "output_type": "stream",
       "stream": "stdout",
       "text": [
        " energy: 2.63e-02 best: -4.39e-02\n",
        "T: 4.65e+00"
       ]
      },
      {
       "output_type": "stream",
       "stream": "stdout",
       "text": [
        " energy: 1.92e-02 best: -4.39e-02\n",
        "T: 4.62e+00"
       ]
      },
      {
       "output_type": "stream",
       "stream": "stdout",
       "text": [
        " energy: 3.46e-02 best: -4.39e-02\n",
        "T: 4.60e+00"
       ]
      },
      {
       "output_type": "stream",
       "stream": "stdout",
       "text": [
        " energy: 2.65e-02 best: -4.39e-02\n",
        "T: 4.58e+00"
       ]
      },
      {
       "output_type": "stream",
       "stream": "stdout",
       "text": [
        " energy: 3.23e-02 best: -4.39e-02\n",
        "T: 4.55e+00"
       ]
      },
      {
       "output_type": "stream",
       "stream": "stdout",
       "text": [
        " energy: 3.43e-02 best: -4.39e-02\n",
        "T: 4.53e+00"
       ]
      },
      {
       "output_type": "stream",
       "stream": "stdout",
       "text": [
        " energy: 1.38e-02 best: -4.39e-02\n",
        "T: 4.51e+00"
       ]
      },
      {
       "output_type": "stream",
       "stream": "stdout",
       "text": [
        " energy: 2.22e-02 best: -4.39e-02\n",
        "T: 4.49e+00"
       ]
      },
      {
       "output_type": "stream",
       "stream": "stdout",
       "text": [
        " energy: 2.96e-02 best: -4.39e-02\n",
        "T: 4.46e+00"
       ]
      },
      {
       "output_type": "stream",
       "stream": "stdout",
       "text": [
        " energy: 1.99e-02 best: -4.39e-02\n",
        "T: 4.44e+00"
       ]
      },
      {
       "output_type": "stream",
       "stream": "stdout",
       "text": [
        " energy: 1.54e-02 best: -4.39e-02\n",
        "T: 4.42e+00"
       ]
      },
      {
       "output_type": "stream",
       "stream": "stdout",
       "text": [
        " energy: 3.31e-02 best: -4.39e-02\n",
        "T: 4.40e+00"
       ]
      },
      {
       "output_type": "stream",
       "stream": "stdout",
       "text": [
        " energy: 3.08e-02 best: -4.39e-02\n",
        "T: 4.38e+00"
       ]
      },
      {
       "output_type": "stream",
       "stream": "stdout",
       "text": [
        " energy: 3.26e-02 best: -4.39e-02\n",
        "T: 4.35e+00"
       ]
      },
      {
       "output_type": "stream",
       "stream": "stdout",
       "text": [
        " energy: 2.09e-02 best: -4.39e-02\n",
        "T: 4.33e+00"
       ]
      },
      {
       "output_type": "stream",
       "stream": "stdout",
       "text": [
        " energy: 2.91e-02 best: -4.39e-02\n",
        "T: 4.31e+00"
       ]
      },
      {
       "output_type": "stream",
       "stream": "stdout",
       "text": [
        " energy: 2.67e-02 best: -4.39e-02\n",
        "T: 4.29e+00"
       ]
      },
      {
       "output_type": "stream",
       "stream": "stdout",
       "text": [
        " energy: 3.40e-02 best: -4.39e-02\n",
        "T: 4.27e+00"
       ]
      },
      {
       "output_type": "stream",
       "stream": "stdout",
       "text": [
        " energy: 3.08e-02 best: -4.39e-02\n",
        "T: 4.25e+00"
       ]
      },
      {
       "output_type": "stream",
       "stream": "stdout",
       "text": [
        " energy: 2.36e-02 best: -4.39e-02\n",
        "T: 4.22e+00"
       ]
      },
      {
       "output_type": "stream",
       "stream": "stdout",
       "text": [
        " energy: 6.94e-03 best: -4.39e-02\n",
        "T: 4.20e+00"
       ]
      },
      {
       "output_type": "stream",
       "stream": "stdout",
       "text": [
        " energy: 2.17e-02 best: -4.39e-02\n",
        "T: 4.18e+00"
       ]
      },
      {
       "output_type": "stream",
       "stream": "stdout",
       "text": [
        " energy: 2.48e-02 best: -4.39e-02\n",
        "T: 4.16e+00"
       ]
      },
      {
       "output_type": "stream",
       "stream": "stdout",
       "text": [
        " energy: 1.51e-02 best: -4.39e-02\n",
        "T: 4.14e+00"
       ]
      },
      {
       "output_type": "stream",
       "stream": "stdout",
       "text": [
        " energy: 2.76e-02 best: -4.39e-02\n",
        "T: 4.12e+00"
       ]
      },
      {
       "output_type": "stream",
       "stream": "stdout",
       "text": [
        " energy: 2.79e-02 best: -4.39e-02\n",
        "T: 4.10e+00"
       ]
      },
      {
       "output_type": "stream",
       "stream": "stdout",
       "text": [
        " energy: 2.38e-02 best: -4.39e-02\n",
        "T: 4.08e+00"
       ]
      },
      {
       "output_type": "stream",
       "stream": "stdout",
       "text": [
        " energy: 3.27e-02 best: -4.39e-02\n",
        "T: 4.06e+00"
       ]
      },
      {
       "output_type": "stream",
       "stream": "stdout",
       "text": [
        " energy: 2.54e-02 best: -4.39e-02\n",
        "T: 4.04e+00"
       ]
      },
      {
       "output_type": "stream",
       "stream": "stdout",
       "text": [
        " energy: 2.52e-02 best: -4.39e-02\n",
        "T: 4.02e+00"
       ]
      },
      {
       "output_type": "stream",
       "stream": "stdout",
       "text": [
        " energy: 3.09e-02 best: -4.39e-02\n",
        "T: 4.00e+00"
       ]
      },
      {
       "output_type": "stream",
       "stream": "stdout",
       "text": [
        " energy: 2.18e-02 best: -4.39e-02\n",
        "T: 3.98e+00"
       ]
      },
      {
       "output_type": "stream",
       "stream": "stdout",
       "text": [
        " energy: 2.19e-02 best: -4.39e-02\n",
        "T: 3.96e+00"
       ]
      },
      {
       "output_type": "stream",
       "stream": "stdout",
       "text": [
        " energy: 3.91e-02 best: -4.39e-02\n",
        "T: 3.94e+00"
       ]
      },
      {
       "output_type": "stream",
       "stream": "stdout",
       "text": [
        " energy: 2.75e-02 best: -4.39e-02\n",
        "T: 3.92e+00"
       ]
      },
      {
       "output_type": "stream",
       "stream": "stdout",
       "text": [
        " energy: 1.76e-02 best: -4.39e-02\n",
        "T: 3.90e+00"
       ]
      },
      {
       "output_type": "stream",
       "stream": "stdout",
       "text": [
        " energy: 2.14e-02 best: -4.39e-02\n",
        "T: 3.88e+00"
       ]
      },
      {
       "output_type": "stream",
       "stream": "stdout",
       "text": [
        " energy: 2.56e-02 best: -4.39e-02\n",
        "T: 3.86e+00"
       ]
      },
      {
       "output_type": "stream",
       "stream": "stdout",
       "text": [
        " energy: 1.68e-02 best: -4.39e-02\n",
        "T: 3.84e+00"
       ]
      },
      {
       "output_type": "stream",
       "stream": "stdout",
       "text": [
        " energy: 2.71e-02 best: -4.39e-02\n",
        "T: 3.82e+00"
       ]
      },
      {
       "output_type": "stream",
       "stream": "stdout",
       "text": [
        " energy: 2.34e-02 best: -4.39e-02\n",
        "T: 3.80e+00"
       ]
      },
      {
       "output_type": "stream",
       "stream": "stdout",
       "text": [
        " energy: 3.50e-02 best: -4.39e-02\n",
        "T: 3.78e+00"
       ]
      },
      {
       "output_type": "stream",
       "stream": "stdout",
       "text": [
        " energy: 2.63e-02 best: -4.39e-02\n",
        "T: 3.76e+00"
       ]
      },
      {
       "output_type": "stream",
       "stream": "stdout",
       "text": [
        " energy: 2.91e-02 best: -4.39e-02\n",
        "T: 3.75e+00"
       ]
      },
      {
       "output_type": "stream",
       "stream": "stdout",
       "text": [
        " energy: 2.92e-02 best: -4.39e-02\n",
        "T: 3.73e+00"
       ]
      },
      {
       "output_type": "stream",
       "stream": "stdout",
       "text": [
        " energy: 2.80e-02 best: -4.39e-02\n",
        "T: 3.71e+00"
       ]
      },
      {
       "output_type": "stream",
       "stream": "stdout",
       "text": [
        " energy: 3.09e-02 best: -4.39e-02\n",
        "T: 3.69e+00"
       ]
      },
      {
       "output_type": "stream",
       "stream": "stdout",
       "text": [
        " energy: 2.34e-02 best: -4.39e-02\n",
        "T: 3.67e+00"
       ]
      },
      {
       "output_type": "stream",
       "stream": "stdout",
       "text": [
        " energy: 2.44e-02 best: -4.39e-02\n",
        "T: 3.65e+00"
       ]
      },
      {
       "output_type": "stream",
       "stream": "stdout",
       "text": [
        " energy: 2.30e-02 best: -4.39e-02\n",
        "T: 3.63e+00"
       ]
      },
      {
       "output_type": "stream",
       "stream": "stdout",
       "text": [
        " energy: 2.58e-02 best: -4.39e-02\n",
        "T: 3.62e+00"
       ]
      },
      {
       "output_type": "stream",
       "stream": "stdout",
       "text": [
        " energy: 2.89e-02 best: -4.39e-02\n",
        "T: 3.60e+00"
       ]
      },
      {
       "output_type": "stream",
       "stream": "stdout",
       "text": [
        " energy: 2.91e-02 best: -4.39e-02\n",
        "T: 3.58e+00"
       ]
      },
      {
       "output_type": "stream",
       "stream": "stdout",
       "text": [
        " energy: 3.05e-02 best: -4.39e-02\n",
        "T: 3.56e+00"
       ]
      },
      {
       "output_type": "stream",
       "stream": "stdout",
       "text": [
        " energy: 3.11e-02 best: -4.39e-02\n",
        "T: 3.54e+00"
       ]
      },
      {
       "ename": "KeyboardInterrupt",
       "evalue": "",
       "output_type": "pyerr",
       "traceback": [
        "\u001b[1;31m---------------------------------------------------------------------------\u001b[0m\n\u001b[1;31mKeyboardInterrupt\u001b[0m                         Traceback (most recent call last)",
        "\u001b[1;32m<ipython-input-79-7898e35225f3>\u001b[0m in \u001b[0;36m<module>\u001b[1;34m()\u001b[0m\n\u001b[1;32m----> 1\u001b[1;33m \u001b[0mmod\u001b[0m\u001b[1;33m.\u001b[0m\u001b[0msimulated_annealing\u001b[0m\u001b[1;33m(\u001b[0m\u001b[0mpfc_bx_g\u001b[0m\u001b[1;33m)\u001b[0m\u001b[1;33m\u001b[0m\u001b[0m\n\u001b[0m",
        "\u001b[1;32mc:\\Python27\\lib\\site-packages\\brainx\\modularity.py\u001b[0m in \u001b[0;36msimulated_annealing\u001b[1;34m(g, p0, temperature, temp_scaling, tmin, bad_accept_mod_ratio_max, bad_accept_nod_ratio_max, accept_mod_ratio_min, accept_nod_ratio_min, extra_info, debug)\u001b[0m\n\u001b[0;32m   1170\u001b[0m \u001b[1;33m\u001b[0m\u001b[0m\n\u001b[0;32m   1171\u001b[0m                 \u001b[1;31m# Assess energy change of a new partition\u001b[0m\u001b[1;33m\u001b[0m\u001b[1;33m\u001b[0m\u001b[0m\n\u001b[1;32m-> 1172\u001b[1;33m                 \u001b[0mcalc_dict\u001b[0m\u001b[1;33m,\u001b[0m\u001b[0me_new\u001b[0m\u001b[1;33m,\u001b[0m\u001b[0ma_new\u001b[0m\u001b[1;33m,\u001b[0m\u001b[0mdelta_energy\u001b[0m\u001b[1;33m,\u001b[0m\u001b[0mp1\u001b[0m\u001b[1;33m,\u001b[0m\u001b[0mp2\u001b[0m\u001b[1;33m,\u001b[0m\u001b[0mp3\u001b[0m \u001b[1;33m=\u001b[0m \u001b[0mgraph_partition\u001b[0m\u001b[1;33m.\u001b[0m\u001b[0mrandom_node\u001b[0m\u001b[1;33m(\u001b[0m\u001b[1;33m)\u001b[0m\u001b[1;33m\u001b[0m\u001b[0m\n\u001b[0m\u001b[0;32m   1173\u001b[0m                 \u001b[1;32mif\u001b[0m \u001b[0mdelta_energy\u001b[0m \u001b[1;33m>\u001b[0m \u001b[1;36m0\u001b[0m\u001b[1;33m:\u001b[0m\u001b[1;33m\u001b[0m\u001b[0m\n\u001b[0;32m   1174\u001b[0m                     \u001b[0mcount_bad_nod\u001b[0m \u001b[1;33m+=\u001b[0m \u001b[1;36m1\u001b[0m\u001b[1;33m\u001b[0m\u001b[0m\n",
        "\u001b[1;32mc:\\Python27\\lib\\site-packages\\brainx\\modularity.py\u001b[0m in \u001b[0;36mrandom_node\u001b[1;34m(self)\u001b[0m\n\u001b[0;32m    608\u001b[0m         \u001b[0mn\u001b[0m \u001b[1;33m=\u001b[0m \u001b[0mrand_perm\u001b[0m\u001b[1;33m[\u001b[0m\u001b[1;36m0\u001b[0m\u001b[1;33m]\u001b[0m\u001b[1;33m\u001b[0m\u001b[0m\n\u001b[0;32m    609\u001b[0m \u001b[1;33m\u001b[0m\u001b[0m\n\u001b[1;32m--> 610\u001b[1;33m         \u001b[1;32mreturn\u001b[0m \u001b[0mself\u001b[0m\u001b[1;33m.\u001b[0m\u001b[0mcompute_node_update\u001b[0m\u001b[1;33m(\u001b[0m\u001b[0mn\u001b[0m\u001b[1;33m,\u001b[0m\u001b[0mm1\u001b[0m\u001b[1;33m,\u001b[0m\u001b[0mm2\u001b[0m\u001b[1;33m)\u001b[0m\u001b[1;33m\u001b[0m\u001b[0m\n\u001b[0m\u001b[0;32m    611\u001b[0m \u001b[1;33m\u001b[0m\u001b[0m\n\u001b[0;32m    612\u001b[0m     \u001b[1;32mdef\u001b[0m \u001b[0mstore_best\u001b[0m\u001b[1;33m(\u001b[0m\u001b[0mself\u001b[0m\u001b[1;33m)\u001b[0m\u001b[1;33m:\u001b[0m\u001b[1;33m\u001b[0m\u001b[0m\n",
        "\u001b[1;32mc:\\Python27\\lib\\site-packages\\brainx\\modularity.py\u001b[0m in \u001b[0;36mcompute_node_update\u001b[1;34m(self, n, m1, m2)\u001b[0m\n\u001b[0;32m    437\u001b[0m         \u001b[1;31m# The values that change: _edge_info with arguments will update the e,\u001b[0m\u001b[1;33m\u001b[0m\u001b[1;33m\u001b[0m\u001b[0m\n\u001b[0;32m    438\u001b[0m         \u001b[1;31m# a vectors only for the modules in index\u001b[0m\u001b[1;33m\u001b[0m\u001b[1;33m\u001b[0m\u001b[0m\n\u001b[1;32m--> 439\u001b[1;33m         \u001b[0me1\u001b[0m\u001b[1;33m,\u001b[0m \u001b[0ma1\u001b[0m \u001b[1;33m=\u001b[0m \u001b[0mself\u001b[0m\u001b[1;33m.\u001b[0m\u001b[0m_edge_info\u001b[0m\u001b[1;33m(\u001b[0m\u001b[0me1\u001b[0m\u001b[1;33m,\u001b[0m \u001b[0ma1\u001b[0m\u001b[1;33m,\u001b[0m \u001b[0mnode_moved_mods\u001b[0m\u001b[1;33m)\u001b[0m\u001b[1;33m\u001b[0m\u001b[0m\n\u001b[0m\u001b[0;32m    440\u001b[0m \u001b[1;33m\u001b[0m\u001b[0m\n\u001b[0;32m    441\u001b[0m         \u001b[1;31m#Compute the change in modularity\u001b[0m\u001b[1;33m\u001b[0m\u001b[1;33m\u001b[0m\u001b[0m\n",
        "\u001b[1;32mc:\\Python27\\lib\\site-packages\\brainx\\modularity.py\u001b[0m in \u001b[0;36m_edge_info\u001b[1;34m(self, mod_e, mod_a, index)\u001b[0m\n\u001b[0;32m    154\u001b[0m             \u001b[0mmod_e\u001b[0m\u001b[1;33m[\u001b[0m\u001b[0mm\u001b[0m\u001b[1;33m]\u001b[0m \u001b[1;33m=\u001b[0m \u001b[0mperc_within\u001b[0m \u001b[1;31m#all of the E's\u001b[0m\u001b[1;33m\u001b[0m\u001b[0m\n\u001b[0;32m    155\u001b[0m             \u001b[0mmod_a\u001b[0m\u001b[1;33m[\u001b[0m\u001b[0mm\u001b[0m\u001b[1;33m]\u001b[0m \u001b[1;33m=\u001b[0m \u001b[0mperc_btwn\u001b[0m\u001b[1;33m+\u001b[0m\u001b[0mperc_within\u001b[0m \u001b[1;31m#all of the A's\u001b[0m\u001b[1;33m\u001b[0m\u001b[0m\n\u001b[1;32m--> 156\u001b[1;33m             \u001b[1;32mif\u001b[0m \u001b[0mnp\u001b[0m\u001b[1;33m.\u001b[0m\u001b[0misnan\u001b[0m\u001b[1;33m(\u001b[0m\u001b[0mmod_e\u001b[0m\u001b[1;33m[\u001b[0m\u001b[0mm\u001b[0m\u001b[1;33m]\u001b[0m\u001b[1;33m)\u001b[0m \u001b[1;32mor\u001b[0m \u001b[0mnp\u001b[0m\u001b[1;33m.\u001b[0m\u001b[0misnan\u001b[0m\u001b[1;33m(\u001b[0m\u001b[0mmod_a\u001b[0m\u001b[1;33m[\u001b[0m\u001b[0mm\u001b[0m\u001b[1;33m]\u001b[0m\u001b[1;33m)\u001b[0m\u001b[1;33m:\u001b[0m\u001b[1;33m\u001b[0m\u001b[0m\n\u001b[0m\u001b[0;32m    157\u001b[0m                 \u001b[1;32mraise\u001b[0m \u001b[0mArithmeticError\u001b[0m\u001b[1;33m(\u001b[0m\u001b[1;34m'NAN found: mod_e=%s, mod_a=%s'\u001b[0m\u001b[1;33m%\u001b[0m\u001b[1;33m(\u001b[0m\u001b[0mmod_e\u001b[0m\u001b[1;33m[\u001b[0m\u001b[0mm\u001b[0m\u001b[1;33m]\u001b[0m\u001b[1;33m,\u001b[0m \u001b[0mmod_a\u001b[0m\u001b[1;33m[\u001b[0m\u001b[0mm\u001b[0m\u001b[1;33m]\u001b[0m\u001b[1;33m)\u001b[0m\u001b[1;33m)\u001b[0m\u001b[1;33m\u001b[0m\u001b[0m\n\u001b[0;32m    158\u001b[0m \u001b[1;33m\u001b[0m\u001b[0m\n",
        "\u001b[1;31mKeyboardInterrupt\u001b[0m: "
       ]
      },
      {
       "output_type": "stream",
       "stream": "stdout",
       "text": [
        " energy: 2.68e-02 best: -4.39e-02\n"
       ]
      }
     ],
     "prompt_number": 79
    },
    {
     "cell_type": "markdown",
     "metadata": {},
     "source": [
      "#Comparison between DL and VL with posterior regions"
     ]
    },
    {
     "cell_type": "code",
     "collapsed": false,
     "input": [
      "fig=plt.figure(); ax =fig.add_subplot(1,1,1)\n",
      "ax.imshow(lit_dl_vl_posterior_degree_show.values(), interpolation ='nearest') #cmap=cm.Greys_r)\n",
      "yticks=ax.set_yticks(range(0,len(lit_dl_vl_posterior_degree_show.keys())))\n",
      "plot_labels=ax.set_yticklabels(lit_dl_vl_posterior_degree_show.keys(), size =8)\n",
      "\n",
      "savefig('lit_posterior_show.pdf',  dpi=800, format='pdf')\n",
      "\n",
      "\n"
     ],
     "language": "python",
     "metadata": {},
     "outputs": [
      {
       "output_type": "display_data",
       "png": "[encoded data removed]"
      }
     ],
     "prompt_number": 291
    },
    {
     "cell_type": "code",
     "collapsed": false,
     "input": [
      "fig=plt.figure(); ax =fig.add_subplot(1,1,1)\n",
      "ax.imshow(dl_vl_posterior_degree_show.values(), interpolation ='nearest') #cmap=cm.Greys_r)\n",
      "ax.set_yticks(range(0,len(dl_vl_posterior_degree_show.keys())))\n",
      "ax.set_yticklabels(dl_vl_posterior_degree_show.keys(), size =8)\n",
      "savefig('mod_posterior_show.pdf',  dpi=800, format='pdf')"
     ],
     "language": "python",
     "metadata": {},
     "outputs": [
      {
       "output_type": "display_data",
       "png": "[encoded data removed]"
      }
     ],
     "prompt_number": 308
    },
    {
     "cell_type": "code",
     "collapsed": false,
     "input": [
      "fig=plt.figure(); ax =fig.add_subplot(1,1,1)\n",
      "ax.imshow(transpose([dl_vl_posterior_degree_compare.values(),lit_dl_vl_posterior_degree_compare.values()]), interpolation = 'nearest')\n",
      "ax.set_yticks(range(0,len(lit_dl_vl_posterior_degree_show.keys())))\n",
      "plot_labels=ax.set_yticklabels(lit_dl_vl_posterior_degree_show.keys(), size =8)\n",
      "\n",
      "savefig('dl-vl_mod_lit_posterior_show.pdf',  dpi=800, format='pdf')\n"
     ],
     "language": "python",
     "metadata": {},
     "outputs": [
      {
       "output_type": "display_data",
       "png": "[encoded data removed]"
      }
     ],
     "prompt_number": 319
    },
    {
     "cell_type": "code",
     "collapsed": false,
     "input": [
      "imshow(transpose([mod_lit_dl_posterior_degree_compare.values(),mod_lit_vl_posterior_degree_compare.values()]), interpolation = 'nearest')"
     ],
     "language": "python",
     "metadata": {},
     "outputs": [
      {
       "output_type": "pyout",
       "prompt_number": 315,
       "text": [
        "<matplotlib.image.AxesImage at 0xa1aa6d0>"
       ]
      },
      {
       "output_type": "display_data",
       "png": "[encoded data removed]"
      }
     ],
     "prompt_number": 315
    },
    {
     "cell_type": "code",
     "collapsed": false,
     "input": [
      "lit_dl_vl_posterior_degree_show"
     ],
     "language": "python",
     "metadata": {},
     "outputs": [
      {
       "output_type": "pyout",
       "prompt_number": 105,
       "text": [
        "{'ACC': (0.16666666666666666, 0.125),\n",
        " 'Amygdala': (0.0, 0.125),\n",
        " 'Area 32': (0.25, 0.125),\n",
        " 'Auditory Cortex': (0.41666666666666669, 0.125),\n",
        " 'Basal Ganglia': (0.0, 0.0),\n",
        " 'Caudal Medial Parietal': (0.58333333333333337, 0.125),\n",
        " 'Cingulate': (0.0, 0.0),\n",
        " 'Dorsal Parietal': (0.0, 0.0),\n",
        " 'Hippocampus': (0.0, 0.0),\n",
        " 'Inferotemporal': (0.0, 0.75),\n",
        " 'Insula': (0.083333333333333329, 0.125),\n",
        " 'IntraParietal': (0.16666666666666666, 0.25),\n",
        " 'Occipital': (0.0, 0.0),\n",
        " 'Parahippocampal': (0.16666666666666666, 0.0),\n",
        " 'Parietal': (0.0, 0.0),\n",
        " 'PosterioVentral Parietal': (0.25, 0.25),\n",
        " 'Posterior Cingulate': (0.083333333333333329, 0.0),\n",
        " 'Premotor/motor/PFC': (0.5, 0.625),\n",
        " 'Primary motor': (0.0, 0.0),\n",
        " 'Retrosplenial Cortex': (0.25, 0.0),\n",
        " 'Somatosensory': (0.0, 0.125),\n",
        " 'Somatosensory 2': (0.0, 0.0),\n",
        " 'Striatum': (0.0, 0.0),\n",
        " 'Superior Temporal': (0.66666666666666663, 0.0),\n",
        " 'Superior Temporal Sulcus': (0.083333333333333329, 0.5),\n",
        " 'Supplementary motor': (0.083333333333333329, 0.125),\n",
        " 'Temporal': (0.0, 0.0),\n",
        " 'Ventral Temporal': (0.0, 0.0)}"
       ]
      }
     ],
     "prompt_number": 105
    },
    {
     "cell_type": "code",
     "collapsed": false,
     "input": [
      "dl_vl_posterior_degree_compare"
     ],
     "language": "python",
     "metadata": {},
     "outputs": [
      {
       "output_type": "pyout",
       "prompt_number": 52,
       "text": [
        "{'ACC': 0.041666666666666657,\n",
        " 'Amygdala': 0.083333333333333329,\n",
        " 'Area 32': 0.125,\n",
        " 'Auditory Cortex': 0.5,\n",
        " 'Basal Ganglia': 0.0,\n",
        " 'Caudal Medial Parietal': 0.041666666666666685,\n",
        " 'Cingulate': 0.0,\n",
        " 'Dorsal Parietal': 0.0,\n",
        " 'Hippocampus': 0.0,\n",
        " 'Inferotemporal': -0.20833333333333334,\n",
        " 'Insula': -0.041666666666666671,\n",
        " 'IntraParietal': -0.083333333333333343,\n",
        " 'Occipital': 0.0,\n",
        " 'Parahippocampal': -0.041666666666666671,\n",
        " 'Parietal': 0.0,\n",
        " 'PosterioVentral Parietal': -0.20833333333333334,\n",
        " 'Posterior Cingulate': -0.125,\n",
        " 'Premotor/motor/PFC': 0.08333333333333337,\n",
        " 'Primary motor': 0.0,\n",
        " 'Retrosplenial Cortex': -0.041666666666666671,\n",
        " 'Somatosensory': -0.125,\n",
        " 'Somatosensory 2': 0.0,\n",
        " 'Striatum': 0.0,\n",
        " 'Superior Temporal': 0.45833333333333337,\n",
        " 'Superior Temporal Sulcus': 0.0,\n",
        " 'Supplementary motor': 0.083333333333333329,\n",
        " 'Temporal': 0.0,\n",
        " 'Ventral Temporal': 0.0}"
       ]
      }
     ],
     "prompt_number": 52
    },
    {
     "cell_type": "code",
     "collapsed": false,
     "input": [
      "selected_parietal=['Caudal Medial Parietal', 'IntraParietal', 'Dorsal Parietal', 'PosterioVentral Parietal']\n",
      "parietal_nodes"
     ],
     "language": "python",
     "metadata": {},
     "outputs": [],
     "prompt_number": 56
    },
    {
     "cell_type": "code",
     "collapsed": false,
     "input": [
      "a=(squeeze(mod_lit_dl_posterior_degree_compare.values()), squeeze(mod_lit_vl_posterior_degree_compare.values()))\n",
      "imshow(transpose(a), interpolation ='nearest', cmap=cm.Greys_r)\n",
      "plt.colorbar()"
     ],
     "language": "python",
     "metadata": {},
     "outputs": [
      {
       "output_type": "pyout",
       "prompt_number": 32,
       "text": [
        "<matplotlib.colorbar.Colorbar instance at 0x069A4238>"
       ]
      },
      {
       "output_type": "display_data",
       "png": "[encoded data removed]"
      }
     ],
     "prompt_number": 32
    },
    {
     "cell_type": "code",
     "collapsed": false,
     "input": [
      "lit_dl_vl_posterior_degree_compare"
     ],
     "language": "python",
     "metadata": {},
     "outputs": [
      {
       "output_type": "pyout",
       "prompt_number": 28,
       "text": [
        "{'ACC': 0.041666666666666657,\n",
        " 'Amygdala': -0.125,\n",
        " 'Area 32': 0.125,\n",
        " 'Auditory Cortex': 0.29166666666666669,\n",
        " 'Basal Ganglia': 0.0,\n",
        " 'Caudal Medial Parietal': 0.45833333333333337,\n",
        " 'Cingulate': 0.0,\n",
        " 'Dorsal Parietal': 0.0,\n",
        " 'Hippocampus': 0.0,\n",
        " 'Inferotemporal': -0.75,\n",
        " 'Insula': -0.041666666666666671,\n",
        " 'IntraParietal': -0.083333333333333343,\n",
        " 'Occipital': 0.0,\n",
        " 'Parahippocampal': 0.16666666666666666,\n",
        " 'Parietal': 0.0,\n",
        " 'PosterioVentral Parietal': 0.0,\n",
        " 'Posterior Cingulate': 0.083333333333333329,\n",
        " 'Premotor/motor/PFC': -0.125,\n",
        " 'Primary motor': 0.0,\n",
        " 'Retrosplenial Cortex': 0.25,\n",
        " 'Somatosensory': -0.125,\n",
        " 'Somatosensory 2': 0.0,\n",
        " 'Striatum': 0.0,\n",
        " 'Superior Temporal': 0.66666666666666663,\n",
        " 'Superior Temporal Sulcus': -0.41666666666666669,\n",
        " 'Supplementary motor': -0.041666666666666671,\n",
        " 'Temporal': 0.0,\n",
        " 'Ventral Temporal': 0.0}"
       ]
      }
     ],
     "prompt_number": 28
    },
    {
     "cell_type": "code",
     "collapsed": false,
     "input": [
      "range(0,len(lit_dl_vl_posterior_degree_show.keys()))"
     ],
     "language": "python",
     "metadata": {},
     "outputs": [
      {
       "output_type": "pyout",
       "prompt_number": 98,
       "text": [
        "[0,\n",
        " 1,\n",
        " 2,\n",
        " 3,\n",
        " 4,\n",
        " 5,\n",
        " 6,\n",
        " 7,\n",
        " 8,\n",
        " 9,\n",
        " 10,\n",
        " 11,\n",
        " 12,\n",
        " 13,\n",
        " 14,\n",
        " 15,\n",
        " 16,\n",
        " 17,\n",
        " 18,\n",
        " 19,\n",
        " 20,\n",
        " 21,\n",
        " 22,\n",
        " 23,\n",
        " 24,\n",
        " 25,\n",
        " 26,\n",
        " 27]"
       ]
      }
     ],
     "prompt_number": 98
    },
    {
     "cell_type": "code",
     "collapsed": false,
     "input": [
      "mod_lit_dl_posterior_degree_compare"
     ],
     "language": "python",
     "metadata": {},
     "outputs": [
      {
       "output_type": "pyout",
       "prompt_number": 29,
       "text": [
        "{'ACC': (0.16666666666666666, 0.16666666666666666),\n",
        " 'Amygdala': (0.083333333333333329, 0.0),\n",
        " 'Area 32': (0.25, 0.25),\n",
        " 'Auditory Cortex': (0.5, 0.41666666666666669),\n",
        " 'Basal Ganglia': (0.0, 0.0),\n",
        " 'Caudal Medial Parietal': (0.41666666666666669, 0.58333333333333337),\n",
        " 'Cingulate': (0.0, 0.0),\n",
        " 'Dorsal Parietal': (0.0, 0.0),\n",
        " 'Hippocampus': (0.0, 0.0),\n",
        " 'Inferotemporal': (0.16666666666666666, 0.0),\n",
        " 'Insula': (0.083333333333333329, 0.083333333333333329),\n",
        " 'IntraParietal': (0.16666666666666666, 0.16666666666666666),\n",
        " 'Occipital': (0.0, 0.0),\n",
        " 'Parahippocampal': (0.083333333333333329, 0.16666666666666666),\n",
        " 'Parietal': (0.0, 0.0),\n",
        " 'PosterioVentral Parietal': (0.16666666666666666, 0.25),\n",
        " 'Posterior Cingulate': (0.0, 0.083333333333333329),\n",
        " 'Premotor/motor/PFC': (0.58333333333333337, 0.5),\n",
        " 'Primary motor': (0.0, 0.0),\n",
        " 'Retrosplenial Cortex': (0.083333333333333329, 0.25),\n",
        " 'Somatosensory': (0.0, 0.0),\n",
        " 'Somatosensory 2': (0.0, 0.0),\n",
        " 'Striatum': (0.0, 0.0),\n",
        " 'Superior Temporal': (0.58333333333333337, 0.66666666666666663),\n",
        " 'Superior Temporal Sulcus': (0.25, 0.083333333333333329),\n",
        " 'Supplementary motor': (0.083333333333333329, 0.083333333333333329),\n",
        " 'Temporal': (0.0, 0.0),\n",
        " 'Ventral Temporal': (0.0, 0.0)}"
       ]
      }
     ],
     "prompt_number": 29
    },
    {
     "cell_type": "code",
     "collapsed": false,
     "input": [
      "mod_lit_vl_posterior_degree_compare"
     ],
     "language": "python",
     "metadata": {},
     "outputs": [
      {
       "output_type": "pyout",
       "prompt_number": 30,
       "text": [
        "{'ACC': (0.125, 0.125),\n",
        " 'Amygdala': (0.0, 0.125),\n",
        " 'Area 32': (0.125, 0.125),\n",
        " 'Auditory Cortex': (0.0, 0.125),\n",
        " 'Basal Ganglia': (0.0, 0.0),\n",
        " 'Caudal Medial Parietal': (0.375, 0.125),\n",
        " 'Cingulate': (0.0, 0.0),\n",
        " 'Dorsal Parietal': (0.0, 0.0),\n",
        " 'Hippocampus': (0.0, 0.0),\n",
        " 'Inferotemporal': (0.375, 0.75),\n",
        " 'Insula': (0.125, 0.125),\n",
        " 'IntraParietal': (0.25, 0.25),\n",
        " 'Occipital': (0.0, 0.0),\n",
        " 'Parahippocampal': (0.125, 0.0),\n",
        " 'Parietal': (0.0, 0.0),\n",
        " 'PosterioVentral Parietal': (0.375, 0.25),\n",
        " 'Posterior Cingulate': (0.125, 0.0),\n",
        " 'Premotor/motor/PFC': (0.5, 0.625),\n",
        " 'Primary motor': (0.0, 0.0),\n",
        " 'Retrosplenial Cortex': (0.125, 0.0),\n",
        " 'Somatosensory': (0.125, 0.125),\n",
        " 'Somatosensory 2': (0.0, 0.0),\n",
        " 'Striatum': (0.0, 0.0),\n",
        " 'Superior Temporal': (0.125, 0.0),\n",
        " 'Superior Temporal Sulcus': (0.25, 0.5),\n",
        " 'Supplementary motor': (0.0, 0.125),\n",
        " 'Temporal': (0.0, 0.0),\n",
        " 'Ventral Temporal': (0.0, 0.0)}"
       ]
      }
     ],
     "prompt_number": 30
    },
    {
     "cell_type": "markdown",
     "metadata": {},
     "source": [
      "#Code needed for pre-bug fixed Newman Partition (Deprecated)"
     ]
    },
    {
     "cell_type": "code",
     "collapsed": false,
     "input": [
      "pfc_spectral_p0=list(pfc_spectral.index[0])\n",
      "pfc_spectral_p1=list(pfc_spectral.index[1])\n",
      "\n",
      "p0_orig_labels=[]\n",
      "[p0_orig_labels.append(pfc_relabel_dict[x]) for x in pfc_spectral_p0]\n",
      "\n",
      "p1_orig_labels=[]\n",
      "[p1_orig_labels.append(pfc_relabel_dict[x]) for x in pfc_spectral_p1]\n",
      "\n",
      "\n",
      "p0_g=pfc_graph.subgraph(p0_orig_labels)\n",
      "p0_bx_g, p0_relabel_dict=make_brainx_graph(p0_g)\n",
      "p0_spectral=mod.newman_partition(p0_bx_g)\n",
      "\n",
      "p1_g=pfc_graph.subgraph(p1_orig_labels)\n",
      "p1_bx_g, p1_relabel_dict=make_brainx_graph(p1_g)\n",
      "p1_spectral=mod.newman_partition(p1_bx_g)"
     ],
     "language": "python",
     "metadata": {},
     "outputs": []
    },
    {
     "cell_type": "code",
     "collapsed": false,
     "input": [
      "p1_0_list=list(p1_spectral.index[0])\n",
      "p1_1_list=list(p1_spectral.index[1])\n",
      "p1_0_orig_labels=[]\n",
      "p1_1_orig_labels=[]\n",
      "[p1_0_orig_labels.append(p1_relabel_dict[x]) for x in p1_0_list]\n",
      "[p1_1_orig_labels.append(p1_relabel_dict[x]) for x in p1_1_list]"
     ],
     "language": "python",
     "metadata": {},
     "outputs": []
    },
    {
     "cell_type": "code",
     "collapsed": false,
     "input": [
      "\n",
      "plt.imshow(mod_lit_vl_posterior_degree_compare.values())\n",
      "plt.imshow(mod_dl_vl_posterior_degree_compare.values())\n",
      "#(mod_lit_vl_posterior_degree_compare['ACC']\n",
      "\n"
     ],
     "language": "python",
     "metadata": {},
     "outputs": [
      {
       "ename": "NameError",
       "evalue": "name 'mod_dl_vl_posterior_degree_compare' is not defined",
       "output_type": "pyerr",
       "traceback": [
        "\u001b[1;31m---------------------------------------------------------------------------\u001b[0m\n\u001b[1;31mNameError\u001b[0m                                 Traceback (most recent call last)",
        "\u001b[1;32m<ipython-input-107-600ab32fa6a2>\u001b[0m in \u001b[0;36m<module>\u001b[1;34m()\u001b[0m\n\u001b[0;32m      1\u001b[0m \u001b[1;33m\u001b[0m\u001b[0m\n\u001b[0;32m      2\u001b[0m \u001b[0mplt\u001b[0m\u001b[1;33m.\u001b[0m\u001b[0mimshow\u001b[0m\u001b[1;33m(\u001b[0m\u001b[0mmod_lit_vl_posterior_degree_compare\u001b[0m\u001b[1;33m.\u001b[0m\u001b[0mvalues\u001b[0m\u001b[1;33m(\u001b[0m\u001b[1;33m)\u001b[0m\u001b[1;33m)\u001b[0m\u001b[1;33m\u001b[0m\u001b[0m\n\u001b[1;32m----> 3\u001b[1;33m \u001b[0mplt\u001b[0m\u001b[1;33m.\u001b[0m\u001b[0mimshow\u001b[0m\u001b[1;33m(\u001b[0m\u001b[0mmod_dl_vl_posterior_degree_compare\u001b[0m\u001b[1;33m.\u001b[0m\u001b[0mvalues\u001b[0m\u001b[1;33m(\u001b[0m\u001b[1;33m)\u001b[0m\u001b[1;33m)\u001b[0m\u001b[1;33m\u001b[0m\u001b[0m\n\u001b[0m\u001b[0;32m      4\u001b[0m \u001b[1;31m#(mod_lit_vl_posterior_degree_compare['ACC']\u001b[0m\u001b[1;33m\u001b[0m\u001b[1;33m\u001b[0m\u001b[0m\n\u001b[0;32m      5\u001b[0m \u001b[1;33m\u001b[0m\u001b[0m\n",
        "\u001b[1;31mNameError\u001b[0m: name 'mod_dl_vl_posterior_degree_compare' is not defined"
       ]
      },
      {
       "output_type": "display_data",
       "png": "[encoded data removed]"
      }
     ],
     "prompt_number": 107
    },
    {
     "cell_type": "code",
     "collapsed": false,
     "input": [
      "whole_low['8Ac']"
     ],
     "language": "python",
     "metadata": {},
     "outputs": [
      {
       "output_type": "pyout",
       "prompt_number": 330,
       "text": [
        "{'MSTd': {}}"
       ]
      }
     ],
     "prompt_number": 330
    },
    {
     "cell_type": "code",
     "collapsed": false,
     "input": [
      "foo=(0,1)\n",
      "poo=(2,3)\n",
      "\n",
      "test=numpy.array(foo)\n",
      "mest=vstack((foo,poo))\n",
      "mest"
     ],
     "language": "python",
     "metadata": {},
     "outputs": [
      {
       "output_type": "pyout",
       "prompt_number": 99,
       "text": [
        "array([[0, 1],\n",
        "       [2, 3]])"
       ]
      }
     ],
     "prompt_number": 99
    },
    {
     "cell_type": "code",
     "collapsed": false,
     "input": [
      "cat='Inferotemporal'\n",
      "mod_dl_IT_graph=edges_between_modules(whole_low, all_labels, 'mod_dlpfc_labels', cat)\n",
      "mod_vl_IT_graph=edges_between_modules(whole_low, all_labels, 'mod_vlpfc_labels', cat)\n",
      "\n",
      "cat='Superior Temporal'\n",
      "mod_dl_ST_graph=edges_between_modules(whole_low, all_labels, 'mod_dlpfc_labels', cat)\n",
      "mod_vl_ST_graph=edges_between_modules(whole_low, all_labels, 'mod_vlpfc_labels', cat)\n"
     ],
     "language": "python",
     "metadata": {},
     "outputs": [],
     "prompt_number": 97
    },
    {
     "cell_type": "code",
     "collapsed": false,
     "input": [
      "nx.draw(mod_dl_IT_graph)"
     ],
     "language": "python",
     "metadata": {},
     "outputs": [
      {
       "output_type": "display_data",
       "png": "[encoded data removed]"
      }
     ],
     "prompt_number": 77
    },
    {
     "cell_type": "code",
     "collapsed": false,
     "input": [
      "nx.draw(mod_vl_IT_graph)"
     ],
     "language": "python",
     "metadata": {},
     "outputs": [
      {
       "output_type": "display_data",
       "png": "[encoded data removed]"
      }
     ],
     "prompt_number": 78
    },
    {
     "cell_type": "code",
     "collapsed": false,
     "input": [
      "nx.draw(mod_dl_ST_graph)"
     ],
     "language": "python",
     "metadata": {},
     "outputs": [
      {
       "output_type": "display_data",
       "png": "[encoded data removed]"
      }
     ],
     "prompt_number": 98
    },
    {
     "cell_type": "code",
     "collapsed": false,
     "input": [
      "nx.draw(mod_vl_ST_graph)"
     ],
     "language": "python",
     "metadata": {},
     "outputs": [
      {
       "output_type": "display_data",
       "png": "[encoded data removed]"
      }
     ],
     "prompt_number": 99
    },
    {
     "cell_type": "code",
     "collapsed": false,
     "input": [
      "#Not sure if I need this but it cleans the cat_frame\n",
      "clean_cat_frame=cat_frame\n",
      "droplist=[]\n",
      "\n",
      "for i,x in enumerate(clean_cat_frame.index):\n",
      "    if clean_cat_frame.index[i] not in nodelist:\n",
      "        droplist.append(x)\n",
      "\n",
      "clean_cat_frame.drop(droplist)"
     ],
     "language": "python",
     "metadata": {},
     "outputs": []
    },
    {
     "cell_type": "code",
     "collapsed": false,
     "input": [
      "filestub='C:\\\\Users\\\\Robert\\\\cocomac\\\\cocomac-tools-rsblume\\\\applications\\\\ModhaSingh_PFC\\\\nodelist.csv'\n",
      "csvfile = open(filestub, 'wb')\n",
      "wr = csv.writer(csvfile)\n",
      "wr.writerow(nodelist)\n",
      "    "
     ],
     "language": "python",
     "metadata": {},
     "outputs": [],
     "prompt_number": 263
    },
    {
     "cell_type": "code",
     "collapsed": false,
     "input": [
      "categories=list(cat_frame.category.unique())\n",
      "\n",
      "for x in categories:\n",
      "    cat_regions=[]\n",
      "    for y in nodelist:\n",
      "        if cat_frame.category.ix[y]==x:\n",
      "            cat_regions.append(y)\n",
      "            \n",
      "    filestub=['C:\\\\Users\\\\Robert\\\\cocomac\\\\cocomac-tools-rsblume\\\\applications\\\\ModhaSingh_PFC\\\\' + x +'.csv']\n",
      "    csvfile = open(filestub, 'wb')\n",
      "    wr = csv.writer(csvfile)\n",
      "    wr.writerow(catregions)\n",
      "    "
     ],
     "language": "python",
     "metadata": {},
     "outputs": [
      {
       "ename": "ValueError",
       "evalue": "The truth value of an array with more than one element is ambiguous. Use a.any() or a.all()",
       "output_type": "pyerr",
       "traceback": [
        "\u001b[1;31m---------------------------------------------------------------------------\u001b[0m\n\u001b[1;31mValueError\u001b[0m                                Traceback (most recent call last)",
        "\u001b[1;32m<ipython-input-275-47a268e9a841>\u001b[0m in \u001b[0;36m<module>\u001b[1;34m()\u001b[0m\n\u001b[0;32m      3\u001b[0m \u001b[1;32mfor\u001b[0m \u001b[0mx\u001b[0m \u001b[1;32min\u001b[0m \u001b[0mcategories\u001b[0m\u001b[1;33m:\u001b[0m\u001b[1;33m\u001b[0m\u001b[0m\n\u001b[0;32m      4\u001b[0m     \u001b[1;32mfor\u001b[0m \u001b[0my\u001b[0m \u001b[1;32min\u001b[0m \u001b[0mnodelist\u001b[0m\u001b[1;33m:\u001b[0m\u001b[1;33m\u001b[0m\u001b[0m\n\u001b[1;32m----> 5\u001b[1;33m         \u001b[1;32mif\u001b[0m \u001b[0mcat_frame\u001b[0m\u001b[1;33m.\u001b[0m\u001b[0mcategory\u001b[0m\u001b[1;33m.\u001b[0m\u001b[0mix\u001b[0m\u001b[1;33m[\u001b[0m\u001b[0my\u001b[0m\u001b[1;33m]\u001b[0m\u001b[1;33m==\u001b[0m\u001b[0mx\u001b[0m\u001b[1;33m:\u001b[0m\u001b[1;33m\u001b[0m\u001b[0m\n\u001b[0m\u001b[0;32m      6\u001b[0m             \u001b[0mcat_regions\u001b[0m\u001b[1;33m.\u001b[0m\u001b[0mappend\u001b[0m\u001b[1;33m(\u001b[0m\u001b[0my\u001b[0m\u001b[1;33m)\u001b[0m\u001b[1;33m\u001b[0m\u001b[0m\n\u001b[0;32m      7\u001b[0m \u001b[1;33m\u001b[0m\u001b[0m\n",
        "\u001b[1;31mValueError\u001b[0m: The truth value of an array with more than one element is ambiguous. Use a.any() or a.all()"
       ]
      }
     ],
     "prompt_number": 275
    },
    {
     "cell_type": "code",
     "collapsed": false,
     "input": [
      "#Given a list of nodes or graph and a data frame with node labels + category assignment\n",
      "#write out nodes in separate lists in .csv files, \n",
      "#1 .csv per category assignment\n",
      "\n",
      "if cat_frame.category.ix['46']==x\n",
      "#cat_frame.category.values=='Thalamus'\n",
      "        \n",
      "\n",
      "#for x in nodelist:\n",
      "    \n",
      "\n",
      "\n",
      "\n",
      "#[foo.ix[x, 'category'] for x in foo.index[x] if foo.ix[x] not in nodelist]\n",
      "#for x in foo.index:\n",
      "#    foo[x]\n",
      "#foo.ix['Br','category']\n",
      "\n",
      "\n",
      "\n",
      "\n",
      "        \n",
      "      \n",
      "        \n",
      "\n",
      "    "
     ],
     "language": "python",
     "metadata": {},
     "outputs": [
      {
       "output_type": "pyout",
       "prompt_number": 233,
       "text": [
        "'Mid PFC'"
       ]
      }
     ],
     "prompt_number": 233
    },
    {
     "cell_type": "code",
     "collapsed": false,
     "input": [],
     "language": "python",
     "metadata": {},
     "outputs": []
    },
    {
     "cell_type": "code",
     "collapsed": false,
     "input": [
      "#creates a graph with all edges between the two modules (in this case dl and vl)\n",
      "\n",
      "mod_dl_g=nx.Graph()\n",
      "mod_dl_g.add_edges_from(whole_low.edges(labels['mod_dlpfc_labels']))\n",
      "\n",
      "mod_dl_vl_labels= labels['mod_dlpfc_labels'] + labels['mod_vlpfc_labels']\n",
      "mod_dl_vl_g=mod_dl_g.subgraph(mod_dl_vl_labels)\n",
      "[mod_dl_vl_g.remove_edge(x[0], x[1]) for x in mod_dl_vl_g.edges() if (x[0] in labels['mod_dlpfc_labels']) & (x[1] in labels['mod_dlpfc_labels']) ]\n",
      "mod_dl_vl_g.edges()\n"
     ],
     "language": "python",
     "metadata": {},
     "outputs": [
      {
       "output_type": "pyout",
       "prompt_number": 14,
       "text": [
        "[('SMAr', 'PS'),\n",
        " ('SMAr', '46v'),\n",
        " ('SMAr', '46vr'),\n",
        " ('SMAr', 'SMAc'),\n",
        " ('SMAr', '46dr'),\n",
        " ('SMAr', '46d'),\n",
        " ('46f', 'PS'),\n",
        " ('47/12', '8B'),\n",
        " ('PS', '8B'),\n",
        " ('PS', '46v'),\n",
        " ('PS', '46vr'),\n",
        " ('PS', '46dr'),\n",
        " ('PS', '46d'),\n",
        " ('8B', 'M9'),\n",
        " ('8B', '46v'),\n",
        " ('8B', 'D9'),\n",
        " ('8B', '46d'),\n",
        " ('8B', '45B'),\n",
        " ('8B', '9/46d'),\n",
        " ('8B', '8Ad'),\n",
        " ('8B', 'L9'),\n",
        " ('M9', '46d'),\n",
        " ('M9', '46v'),\n",
        " ('M9', 'D9'),\n",
        " ('46v', 'D9'),\n",
        " ('46v', 'ProM#2'),\n",
        " ('46v', '46d'),\n",
        " ('46v', 'L9'),\n",
        " ('D9', '46d')]"
       ]
      }
     ],
     "prompt_number": 14
    },
    {
     "cell_type": "code",
     "collapsed": false,
     "input": [
      "\n",
      "    "
     ],
     "language": "python",
     "metadata": {},
     "outputs": [],
     "prompt_number": 15
    },
    {
     "cell_type": "code",
     "collapsed": false,
     "input": [
      "foo=edges_between_modules(labels,'mod_dlpfc_labels', 'mod_vlpfc_labels')\n",
      "foo.edges()"
     ],
     "language": "python",
     "metadata": {},
     "outputs": [
      {
       "output_type": "pyout",
       "prompt_number": 16,
       "text": [
        "[('47/12', '8B'),\n",
        " ('8B', '45B'),\n",
        " ('8B', '9/46d'),\n",
        " ('8B', '8Ad'),\n",
        " ('46v', 'ProM#2')]"
       ]
      }
     ],
     "prompt_number": 16
    },
    {
     "cell_type": "code",
     "collapsed": false,
     "input": [
      "mod_dl_vl_g.edges()"
     ],
     "language": "python",
     "metadata": {},
     "outputs": [
      {
       "output_type": "pyout",
       "prompt_number": 9,
       "text": [
        "[('47/12', '8B'),\n",
        " ('8B', '45B'),\n",
        " ('8B', '9/46d'),\n",
        " ('8B', '8Ad'),\n",
        " ('46v', 'ProM#2')]"
       ]
      }
     ],
     "prompt_number": 9
    },
    {
     "cell_type": "code",
     "collapsed": false,
     "input": [
      "[mod_dl_vl_g.edges(x) for x in mod_dl_vl_g.edges() if (x[0] in labels['mod_dlpfc_labels']) & (x[1] in labels['mod_dlpfc_labels']) ]\n",
      "\n",
      "#(x[0] in labels['mod_dlpfc_labels']) & (x[1] in labels['mod_dlpfc_labels'])\n",
      "#(mod_dl_vl_g.edges()[0][0] in labels['mod_dlpfc_labels']) & (mod_dl_vl_g.edges()[0][1] in labels['mod_dlpfc_labels'])"
     ],
     "language": "python",
     "metadata": {},
     "outputs": [
      {
       "output_type": "pyout",
       "prompt_number": 246,
       "text": [
        "[[('SMAr', 'PS'),\n",
        "  ('SMAr', '46v'),\n",
        "  ('SMAr', '46vr'),\n",
        "  ('SMAr', 'SMAc'),\n",
        "  ('SMAr', '46dr'),\n",
        "  ('SMAr', '46d'),\n",
        "  ('PS', '8B'),\n",
        "  ('PS', '46v'),\n",
        "  ('PS', '46vr'),\n",
        "  ('PS', '46dr'),\n",
        "  ('PS', '46d'),\n",
        "  ('PS', '46f')],\n",
        " [('SMAr', 'PS'),\n",
        "  ('SMAr', '46v'),\n",
        "  ('SMAr', '46vr'),\n",
        "  ('SMAr', 'SMAc'),\n",
        "  ('SMAr', '46dr'),\n",
        "  ('SMAr', '46d'),\n",
        "  ('46v', 'PS'),\n",
        "  ('46v', '8B'),\n",
        "  ('46v', 'D9'),\n",
        "  ('46v', 'ProM#2'),\n",
        "  ('46v', '46d'),\n",
        "  ('46v', 'M9'),\n",
        "  ('46v', 'L9')],\n",
        " [('SMAr', 'PS'),\n",
        "  ('SMAr', '46v'),\n",
        "  ('SMAr', '46vr'),\n",
        "  ('SMAr', 'SMAc'),\n",
        "  ('SMAr', '46dr'),\n",
        "  ('SMAr', '46d'),\n",
        "  ('46vr', 'PS')],\n",
        " [('SMAr', 'PS'),\n",
        "  ('SMAr', '46v'),\n",
        "  ('SMAr', '46vr'),\n",
        "  ('SMAr', 'SMAc'),\n",
        "  ('SMAr', '46dr'),\n",
        "  ('SMAr', '46d')],\n",
        " [('SMAr', 'PS'),\n",
        "  ('SMAr', '46v'),\n",
        "  ('SMAr', '46vr'),\n",
        "  ('SMAr', 'SMAc'),\n",
        "  ('SMAr', '46dr'),\n",
        "  ('SMAr', '46d'),\n",
        "  ('46dr', 'PS')],\n",
        " [('SMAr', 'PS'),\n",
        "  ('SMAr', '46v'),\n",
        "  ('SMAr', '46vr'),\n",
        "  ('SMAr', 'SMAc'),\n",
        "  ('SMAr', '46dr'),\n",
        "  ('SMAr', '46d'),\n",
        "  ('46d', 'PS'),\n",
        "  ('46d', '8B'),\n",
        "  ('46d', '46v'),\n",
        "  ('46d', 'D9'),\n",
        "  ('46d', 'M9')],\n",
        " [('46f', 'PS'),\n",
        "  ('PS', 'SMAr'),\n",
        "  ('PS', '8B'),\n",
        "  ('PS', '46v'),\n",
        "  ('PS', '46vr'),\n",
        "  ('PS', '46dr'),\n",
        "  ('PS', '46d')],\n",
        " [('PS', 'SMAr'),\n",
        "  ('PS', '8B'),\n",
        "  ('PS', '46v'),\n",
        "  ('PS', '46vr'),\n",
        "  ('PS', '46dr'),\n",
        "  ('PS', '46d'),\n",
        "  ('PS', '46f'),\n",
        "  ('8B', '47/12'),\n",
        "  ('8B', 'M9'),\n",
        "  ('8B', '46v'),\n",
        "  ('8B', 'D9'),\n",
        "  ('8B', '46d'),\n",
        "  ('8B', '45B'),\n",
        "  ('8B', '9/46d'),\n",
        "  ('8B', '8Ad'),\n",
        "  ('8B', 'L9')],\n",
        " [('PS', 'SMAr'),\n",
        "  ('PS', '8B'),\n",
        "  ('PS', '46v'),\n",
        "  ('PS', '46vr'),\n",
        "  ('PS', '46dr'),\n",
        "  ('PS', '46d'),\n",
        "  ('PS', '46f'),\n",
        "  ('46v', 'SMAr'),\n",
        "  ('46v', '8B'),\n",
        "  ('46v', 'D9'),\n",
        "  ('46v', 'ProM#2'),\n",
        "  ('46v', '46d'),\n",
        "  ('46v', 'M9'),\n",
        "  ('46v', 'L9')],\n",
        " [('PS', 'SMAr'),\n",
        "  ('PS', '8B'),\n",
        "  ('PS', '46v'),\n",
        "  ('PS', '46vr'),\n",
        "  ('PS', '46dr'),\n",
        "  ('PS', '46d'),\n",
        "  ('PS', '46f'),\n",
        "  ('46vr', 'SMAr')],\n",
        " [('PS', 'SMAr'),\n",
        "  ('PS', '8B'),\n",
        "  ('PS', '46v'),\n",
        "  ('PS', '46vr'),\n",
        "  ('PS', '46dr'),\n",
        "  ('PS', '46d'),\n",
        "  ('PS', '46f'),\n",
        "  ('46dr', 'SMAr')],\n",
        " [('PS', 'SMAr'),\n",
        "  ('PS', '8B'),\n",
        "  ('PS', '46v'),\n",
        "  ('PS', '46vr'),\n",
        "  ('PS', '46dr'),\n",
        "  ('PS', '46d'),\n",
        "  ('PS', '46f'),\n",
        "  ('46d', 'SMAr'),\n",
        "  ('46d', '8B'),\n",
        "  ('46d', '46v'),\n",
        "  ('46d', 'D9'),\n",
        "  ('46d', 'M9')],\n",
        " [('8B', 'PS'),\n",
        "  ('8B', '47/12'),\n",
        "  ('8B', 'M9'),\n",
        "  ('8B', '46v'),\n",
        "  ('8B', 'D9'),\n",
        "  ('8B', '46d'),\n",
        "  ('8B', '45B'),\n",
        "  ('8B', '9/46d'),\n",
        "  ('8B', '8Ad'),\n",
        "  ('8B', 'L9'),\n",
        "  ('M9', '46d'),\n",
        "  ('M9', '46v'),\n",
        "  ('M9', 'D9')],\n",
        " [('8B', 'PS'),\n",
        "  ('8B', '47/12'),\n",
        "  ('8B', 'M9'),\n",
        "  ('8B', '46v'),\n",
        "  ('8B', 'D9'),\n",
        "  ('8B', '46d'),\n",
        "  ('8B', '45B'),\n",
        "  ('8B', '9/46d'),\n",
        "  ('8B', '8Ad'),\n",
        "  ('8B', 'L9'),\n",
        "  ('46v', 'PS'),\n",
        "  ('46v', 'SMAr'),\n",
        "  ('46v', 'D9'),\n",
        "  ('46v', 'ProM#2'),\n",
        "  ('46v', '46d'),\n",
        "  ('46v', 'M9'),\n",
        "  ('46v', 'L9')],\n",
        " [('8B', 'PS'),\n",
        "  ('8B', '47/12'),\n",
        "  ('8B', 'M9'),\n",
        "  ('8B', '46v'),\n",
        "  ('8B', 'D9'),\n",
        "  ('8B', '46d'),\n",
        "  ('8B', '45B'),\n",
        "  ('8B', '9/46d'),\n",
        "  ('8B', '8Ad'),\n",
        "  ('8B', 'L9'),\n",
        "  ('D9', '46d'),\n",
        "  ('D9', '46v'),\n",
        "  ('D9', 'M9')],\n",
        " [('8B', 'PS'),\n",
        "  ('8B', '47/12'),\n",
        "  ('8B', 'M9'),\n",
        "  ('8B', '46v'),\n",
        "  ('8B', 'D9'),\n",
        "  ('8B', '46d'),\n",
        "  ('8B', '45B'),\n",
        "  ('8B', '9/46d'),\n",
        "  ('8B', '8Ad'),\n",
        "  ('8B', 'L9'),\n",
        "  ('46d', 'PS'),\n",
        "  ('46d', 'SMAr'),\n",
        "  ('46d', '46v'),\n",
        "  ('46d', 'D9'),\n",
        "  ('46d', 'M9')],\n",
        " [('8B', 'PS'),\n",
        "  ('8B', '47/12'),\n",
        "  ('8B', 'M9'),\n",
        "  ('8B', '46v'),\n",
        "  ('8B', 'D9'),\n",
        "  ('8B', '46d'),\n",
        "  ('8B', '45B'),\n",
        "  ('8B', '9/46d'),\n",
        "  ('8B', '8Ad'),\n",
        "  ('8B', 'L9'),\n",
        "  ('L9', '46v')],\n",
        " [('M9', '8B'),\n",
        "  ('M9', '46d'),\n",
        "  ('M9', '46v'),\n",
        "  ('M9', 'D9'),\n",
        "  ('46d', 'PS'),\n",
        "  ('46d', 'SMAr'),\n",
        "  ('46d', '8B'),\n",
        "  ('46d', '46v'),\n",
        "  ('46d', 'D9')],\n",
        " [('M9', '8B'),\n",
        "  ('M9', '46d'),\n",
        "  ('M9', '46v'),\n",
        "  ('M9', 'D9'),\n",
        "  ('46v', 'PS'),\n",
        "  ('46v', 'SMAr'),\n",
        "  ('46v', '8B'),\n",
        "  ('46v', 'D9'),\n",
        "  ('46v', 'ProM#2'),\n",
        "  ('46v', '46d'),\n",
        "  ('46v', 'L9')],\n",
        " [('M9', '8B'),\n",
        "  ('M9', '46d'),\n",
        "  ('M9', '46v'),\n",
        "  ('M9', 'D9'),\n",
        "  ('D9', '8B'),\n",
        "  ('D9', '46d'),\n",
        "  ('D9', '46v')],\n",
        " [('46v', 'PS'),\n",
        "  ('46v', 'SMAr'),\n",
        "  ('46v', '8B'),\n",
        "  ('46v', 'D9'),\n",
        "  ('46v', 'ProM#2'),\n",
        "  ('46v', '46d'),\n",
        "  ('46v', 'M9'),\n",
        "  ('46v', 'L9'),\n",
        "  ('D9', '8B'),\n",
        "  ('D9', '46d'),\n",
        "  ('D9', 'M9')],\n",
        " [('46v', 'PS'),\n",
        "  ('46v', 'SMAr'),\n",
        "  ('46v', '8B'),\n",
        "  ('46v', 'D9'),\n",
        "  ('46v', 'ProM#2'),\n",
        "  ('46v', '46d'),\n",
        "  ('46v', 'M9'),\n",
        "  ('46v', 'L9'),\n",
        "  ('46d', 'PS'),\n",
        "  ('46d', 'SMAr'),\n",
        "  ('46d', '8B'),\n",
        "  ('46d', 'D9'),\n",
        "  ('46d', 'M9')],\n",
        " [('46v', 'PS'),\n",
        "  ('46v', 'SMAr'),\n",
        "  ('46v', '8B'),\n",
        "  ('46v', 'D9'),\n",
        "  ('46v', 'ProM#2'),\n",
        "  ('46v', '46d'),\n",
        "  ('46v', 'M9'),\n",
        "  ('46v', 'L9'),\n",
        "  ('L9', '8B')],\n",
        " [('D9', '8B'),\n",
        "  ('D9', '46d'),\n",
        "  ('D9', '46v'),\n",
        "  ('D9', 'M9'),\n",
        "  ('46d', 'PS'),\n",
        "  ('46d', 'SMAr'),\n",
        "  ('46d', '8B'),\n",
        "  ('46d', '46v'),\n",
        "  ('46d', 'M9')]]"
       ]
      }
     ],
     "prompt_number": 246
    },
    {
     "cell_type": "code",
     "collapsed": false,
     "input": [
      "[x for x in mod_dl_vl_g.edges()]"
     ],
     "language": "python",
     "metadata": {},
     "outputs": [
      {
       "output_type": "pyout",
       "prompt_number": 242,
       "text": [
        "[('SMAr', 'PS'),\n",
        " ('SMAr', '46v'),\n",
        " ('SMAr', '46vr'),\n",
        " ('SMAr', 'SMAc'),\n",
        " ('SMAr', '46dr'),\n",
        " ('SMAr', '46d'),\n",
        " ('46f', 'PS'),\n",
        " ('47/12', '8B'),\n",
        " ('PS', '8B'),\n",
        " ('PS', '46v'),\n",
        " ('PS', '46vr'),\n",
        " ('PS', '46dr'),\n",
        " ('PS', '46d'),\n",
        " ('8B', 'M9'),\n",
        " ('8B', '46v'),\n",
        " ('8B', 'D9'),\n",
        " ('8B', '46d'),\n",
        " ('8B', '45B'),\n",
        " ('8B', '9/46d'),\n",
        " ('8B', '8Ad'),\n",
        " ('8B', 'L9'),\n",
        " ('M9', '46d'),\n",
        " ('M9', '46v'),\n",
        " ('M9', 'D9'),\n",
        " ('46v', 'D9'),\n",
        " ('46v', 'ProM#2'),\n",
        " ('46v', '46d'),\n",
        " ('46v', 'L9'),\n",
        " ('D9', '46d')]"
       ]
      }
     ],
     "prompt_number": 242
    },
    {
     "cell_type": "code",
     "collapsed": false,
     "input": [
      "[mod_dl_vl_g.edge[edge] for edge in mod_dl_vl_g.edges_iter() if (mod_dl_vl_g.edges[0][0] in labels['mod_dlpfc_labels']) & (mod_dl_vl_g.edges()[0][1] in labels['mod_dlpfc_labels']) ]"
     ],
     "language": "python",
     "metadata": {},
     "outputs": [
      {
       "output_type": "pyout",
       "prompt_number": 226,
       "text": [
        "[<bound method Graph.edges of <networkx.classes.graph.Graph object at 0x05B28550>>,\n",
        " <bound method Graph.edges of <networkx.classes.graph.Graph object at 0x05B28550>>,\n",
        " <bound method Graph.edges of <networkx.classes.graph.Graph object at 0x05B28550>>,\n",
        " <bound method Graph.edges of <networkx.classes.graph.Graph object at 0x05B28550>>,\n",
        " <bound method Graph.edges of <networkx.classes.graph.Graph object at 0x05B28550>>,\n",
        " <bound method Graph.edges of <networkx.classes.graph.Graph object at 0x05B28550>>,\n",
        " <bound method Graph.edges of <networkx.classes.graph.Graph object at 0x05B28550>>,\n",
        " <bound method Graph.edges of <networkx.classes.graph.Graph object at 0x05B28550>>,\n",
        " <bound method Graph.edges of <networkx.classes.graph.Graph object at 0x05B28550>>,\n",
        " <bound method Graph.edges of <networkx.classes.graph.Graph object at 0x05B28550>>,\n",
        " <bound method Graph.edges of <networkx.classes.graph.Graph object at 0x05B28550>>,\n",
        " <bound method Graph.edges of <networkx.classes.graph.Graph object at 0x05B28550>>,\n",
        " <bound method Graph.edges of <networkx.classes.graph.Graph object at 0x05B28550>>,\n",
        " <bound method Graph.edges of <networkx.classes.graph.Graph object at 0x05B28550>>,\n",
        " <bound method Graph.edges of <networkx.classes.graph.Graph object at 0x05B28550>>,\n",
        " <bound method Graph.edges of <networkx.classes.graph.Graph object at 0x05B28550>>,\n",
        " <bound method Graph.edges of <networkx.classes.graph.Graph object at 0x05B28550>>,\n",
        " <bound method Graph.edges of <networkx.classes.graph.Graph object at 0x05B28550>>,\n",
        " <bound method Graph.edges of <networkx.classes.graph.Graph object at 0x05B28550>>,\n",
        " <bound method Graph.edges of <networkx.classes.graph.Graph object at 0x05B28550>>,\n",
        " <bound method Graph.edges of <networkx.classes.graph.Graph object at 0x05B28550>>,\n",
        " <bound method Graph.edges of <networkx.classes.graph.Graph object at 0x05B28550>>,\n",
        " <bound method Graph.edges of <networkx.classes.graph.Graph object at 0x05B28550>>,\n",
        " <bound method Graph.edges of <networkx.classes.graph.Graph object at 0x05B28550>>,\n",
        " <bound method Graph.edges of <networkx.classes.graph.Graph object at 0x05B28550>>,\n",
        " <bound method Graph.edges of <networkx.classes.graph.Graph object at 0x05B28550>>,\n",
        " <bound method Graph.edges of <networkx.classes.graph.Graph object at 0x05B28550>>,\n",
        " <bound method Graph.edges of <networkx.classes.graph.Graph object at 0x05B28550>>,\n",
        " <bound method Graph.edges of <networkx.classes.graph.Graph object at 0x05B28550>>]"
       ]
      }
     ],
     "prompt_number": 226
    },
    {
     "cell_type": "code",
     "collapsed": false,
     "input": [
      "mod_dl_vl_g.edge()"
     ],
     "language": "python",
     "metadata": {},
     "outputs": [
      {
       "ename": "TypeError",
       "evalue": "'dict' object is not callable",
       "output_type": "pyerr",
       "traceback": [
        "\u001b[1;31m---------------------------------------------------------------------------\u001b[0m\n\u001b[1;31mTypeError\u001b[0m                                 Traceback (most recent call last)",
        "\u001b[1;32m<ipython-input-221-bd8a8b5bb842>\u001b[0m in \u001b[0;36m<module>\u001b[1;34m()\u001b[0m\n\u001b[1;32m----> 1\u001b[1;33m \u001b[0mmod_dl_vl_g\u001b[0m\u001b[1;33m.\u001b[0m\u001b[0medge\u001b[0m\u001b[1;33m(\u001b[0m\u001b[1;33m)\u001b[0m\u001b[1;33m\u001b[0m\u001b[0m\n\u001b[0m",
        "\u001b[1;31mTypeError\u001b[0m: 'dict' object is not callable"
       ]
      }
     ],
     "prompt_number": 221
    },
    {
     "cell_type": "code",
     "collapsed": false,
     "input": [
      "pfc_labels=['14r', '10o', '24c', '10m', 'Gu', '12l', '12m', '12o', '12r', '13M', 'M2-FL', 'M2-HL', '13L', '24b', '6Vb', '6Va', '13a', 'PrCO', '11m', '11l', '4c','24d', '46v', '46vr', '46d', '24a', '46f', 'PS', '47/12', 'M9', '44', '8Ad', '46dr', '9/46v', 'D9', 'F2', 'L9', 'SMAr', 'F4', 'F5', 'F6', 'F7', '8B', 'SMAc', 'ProM#2', '45A', '45B', '9/46d','10d', 'OFap', '32', '10v', '14O']\n",
      "pfc_low=whole_low.subgraph(pfc_labels)\n",
      "pfc_undirected=pfc_low.to_undirected()"
     ],
     "language": "python",
     "metadata": {},
     "outputs": [],
     "prompt_number": 136
    },
    {
     "cell_type": "code",
     "collapsed": false,
     "input": [
      "mod.newman_partition(pfc_undirected)"
     ],
     "language": "python",
     "metadata": {},
     "outputs": [
      {
       "ename": "ValueError",
       "evalue": "invalid literal for long() with base 10: '24d'",
       "output_type": "pyerr",
       "traceback": [
        "\u001b[1;31m---------------------------------------------------------------------------\u001b[0m\n\u001b[1;31mValueError\u001b[0m                                Traceback (most recent call last)",
        "\u001b[1;32m<ipython-input-137-583db26a4a48>\u001b[0m in \u001b[0;36m<module>\u001b[1;34m()\u001b[0m\n\u001b[1;32m----> 1\u001b[1;33m \u001b[0mmod\u001b[0m\u001b[1;33m.\u001b[0m\u001b[0mnewman_partition\u001b[0m\u001b[1;33m(\u001b[0m\u001b[0mpfc_undirected\u001b[0m\u001b[1;33m)\u001b[0m\u001b[1;33m\u001b[0m\u001b[0m\n\u001b[0m",
        "\u001b[1;32mc:\\Python27\\lib\\site-packages\\brainx\\modularity.pyc\u001b[0m in \u001b[0;36mnewman_partition\u001b[1;34m(g, max_div)\u001b[0m\n\u001b[0;32m   1394\u001b[0m         \u001b[0mindex\u001b[0m\u001b[1;33m[\u001b[0m\u001b[0mk\u001b[0m\u001b[1;33m]\u001b[0m \u001b[1;33m=\u001b[0m \u001b[0mset\u001b[0m\u001b[1;33m(\u001b[0m\u001b[0mnodes\u001b[0m\u001b[1;33m)\u001b[0m\u001b[1;33m\u001b[0m\u001b[0m\n\u001b[0;32m   1395\u001b[0m \u001b[1;33m\u001b[0m\u001b[0m\n\u001b[1;32m-> 1396\u001b[1;33m     \u001b[1;32mreturn\u001b[0m \u001b[0mGraphPartition\u001b[0m\u001b[1;33m(\u001b[0m\u001b[0mg\u001b[0m\u001b[1;33m,\u001b[0m \u001b[0mindex\u001b[0m\u001b[1;33m)\u001b[0m\u001b[1;33m\u001b[0m\u001b[0m\n\u001b[0m\u001b[0;32m   1397\u001b[0m \u001b[1;33m\u001b[0m\u001b[0m\n\u001b[0;32m   1398\u001b[0m \u001b[1;33m\u001b[0m\u001b[0m\n",
        "\u001b[1;32mc:\\Python27\\lib\\site-packages\\brainx\\modularity.pyc\u001b[0m in \u001b[0;36m__init__\u001b[1;34m(self, graph, index)\u001b[0m\n\u001b[0;32m     79\u001b[0m \u001b[1;33m\u001b[0m\u001b[0m\n\u001b[0;32m     80\u001b[0m         \u001b[1;31m# Now, build the edge information used in modularity computations\u001b[0m\u001b[1;33m\u001b[0m\u001b[1;33m\u001b[0m\u001b[0m\n\u001b[1;32m---> 81\u001b[1;33m         \u001b[0mself\u001b[0m\u001b[1;33m.\u001b[0m\u001b[0mmod_e\u001b[0m\u001b[1;33m,\u001b[0m \u001b[0mself\u001b[0m\u001b[1;33m.\u001b[0m\u001b[0mmod_a\u001b[0m \u001b[1;33m=\u001b[0m \u001b[0mself\u001b[0m\u001b[1;33m.\u001b[0m\u001b[0m_edge_info\u001b[0m\u001b[1;33m(\u001b[0m\u001b[1;33m)\u001b[0m\u001b[1;33m\u001b[0m\u001b[0m\n\u001b[0m\u001b[0;32m     82\u001b[0m \u001b[1;33m\u001b[0m\u001b[0m\n\u001b[0;32m     83\u001b[0m \u001b[1;33m\u001b[0m\u001b[0m\n",
        "\u001b[1;32mc:\\Python27\\lib\\site-packages\\brainx\\modularity.pyc\u001b[0m in \u001b[0;36m_edge_info\u001b[1;34m(self, mod_e, mod_a, index)\u001b[0m\n\u001b[0;32m    113\u001b[0m             \u001b[1;31m#looks like a set when we read it in ipython\u001b[0m\u001b[1;33m\u001b[0m\u001b[1;33m\u001b[0m\u001b[0m\n\u001b[0;32m    114\u001b[0m             \u001b[0mmat_within\u001b[0m  \u001b[1;33m=\u001b[0m \u001b[0mmat\u001b[0m\u001b[1;33m[\u001b[0m\u001b[0mmodnodes\u001b[0m\u001b[1;33m,\u001b[0m\u001b[1;33m:\u001b[0m\u001b[1;33m]\u001b[0m\u001b[1;33m[\u001b[0m\u001b[1;33m:\u001b[0m\u001b[1;33m,\u001b[0m\u001b[0mmodnodes\u001b[0m\u001b[1;33m]\u001b[0m\u001b[1;33m\u001b[0m\u001b[0m\n\u001b[1;32m--> 115\u001b[1;33m             \u001b[0mmat_between\u001b[0m \u001b[1;33m=\u001b[0m \u001b[0mmat\u001b[0m\u001b[1;33m[\u001b[0m\u001b[0mmodnodes\u001b[0m\u001b[1;33m,\u001b[0m\u001b[1;33m:\u001b[0m\u001b[1;33m]\u001b[0m\u001b[1;33m[\u001b[0m\u001b[1;33m:\u001b[0m\u001b[1;33m,\u001b[0m\u001b[0mbtwnnodes\u001b[0m\u001b[1;33m]\u001b[0m\u001b[1;33m\u001b[0m\u001b[0m\n\u001b[0m\u001b[0;32m    116\u001b[0m             \u001b[0mperc_within\u001b[0m \u001b[1;33m=\u001b[0m \u001b[0mmat_within\u001b[0m\u001b[1;33m.\u001b[0m\u001b[0msum\u001b[0m\u001b[1;33m(\u001b[0m\u001b[1;33m)\u001b[0m \u001b[1;33m*\u001b[0m \u001b[0mnorm_factor\u001b[0m\u001b[1;33m\u001b[0m\u001b[0m\n\u001b[0;32m    117\u001b[0m             \u001b[0mperc_btwn\u001b[0m   \u001b[1;33m=\u001b[0m \u001b[0mmat_between\u001b[0m\u001b[1;33m.\u001b[0m\u001b[0msum\u001b[0m\u001b[1;33m(\u001b[0m\u001b[1;33m)\u001b[0m \u001b[1;33m*\u001b[0m \u001b[0mnorm_factor\u001b[0m\u001b[1;33m\u001b[0m\u001b[0m\n",
        "\u001b[1;32mc:\\Python27\\lib\\site-packages\\numpy\\matrixlib\\defmatrix.pyc\u001b[0m in \u001b[0;36m__getitem__\u001b[1;34m(self, index)\u001b[0m\n\u001b[0;32m    303\u001b[0m \u001b[1;33m\u001b[0m\u001b[0m\n\u001b[0;32m    304\u001b[0m         \u001b[1;32mtry\u001b[0m\u001b[1;33m:\u001b[0m\u001b[1;33m\u001b[0m\u001b[0m\n\u001b[1;32m--> 305\u001b[1;33m             \u001b[0mout\u001b[0m \u001b[1;33m=\u001b[0m \u001b[0mN\u001b[0m\u001b[1;33m.\u001b[0m\u001b[0mndarray\u001b[0m\u001b[1;33m.\u001b[0m\u001b[0m__getitem__\u001b[0m\u001b[1;33m(\u001b[0m\u001b[0mself\u001b[0m\u001b[1;33m,\u001b[0m \u001b[0mindex\u001b[0m\u001b[1;33m)\u001b[0m\u001b[1;33m\u001b[0m\u001b[0m\n\u001b[0m\u001b[0;32m    306\u001b[0m         \u001b[1;32mfinally\u001b[0m\u001b[1;33m:\u001b[0m\u001b[1;33m\u001b[0m\u001b[0m\n\u001b[0;32m    307\u001b[0m             \u001b[0mself\u001b[0m\u001b[1;33m.\u001b[0m\u001b[0m_getitem\u001b[0m \u001b[1;33m=\u001b[0m \u001b[0mFalse\u001b[0m\u001b[1;33m\u001b[0m\u001b[0m\n",
        "\u001b[1;31mValueError\u001b[0m: invalid literal for long() with base 10: '24d'"
       ]
      }
     ],
     "prompt_number": 137
    },
    {
     "cell_type": "code",
     "collapsed": false,
     "input": [],
     "language": "python",
     "metadata": {},
     "outputs": []
    }
   ],
   "metadata": {}
  }
 ]
}