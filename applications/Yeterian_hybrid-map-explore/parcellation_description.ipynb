{
 "metadata": {
  "name": "parcellation_description"
 },
 "nbformat": 3,
 "nbformat_minor": 0,
 "worksheets": [
  {
   "cells": [
    {
     "cell_type": "code",
     "collapsed": false,
     "input": [
      "import cocotools as coco\n",
      "import networkx as nx\n",
      "import pickle\n",
      "import numpy as np\n",
      "import matplotlib.pyplot as plt"
     ],
     "language": "python",
     "metadata": {},
     "outputs": [],
     "prompt_number": 1
    },
    {
     "cell_type": "code",
     "collapsed": false,
     "input": [
      "mapname= 'hybrid_betterph_endg_ort.pck'\n",
      "path=\"C:\\\\Users\\\\Robert\\\\cocomac\\\\cocomac-tools-results\\\\hybrid-map-explore\\\\\"\n",
      "file_stub= path+\"\\\\\"+mapname\n",
      "endg_file=open(file_stub,'rb')\n",
      "endg=pickle.load(endg_file)"
     ],
     "language": "python",
     "metadata": {},
     "outputs": [],
     "prompt_number": 2
    },
    {
     "cell_type": "code",
     "collapsed": false,
     "input": [
      "endg.number_of_edges()"
     ],
     "language": "python",
     "metadata": {},
     "outputs": [
      {
       "output_type": "pyout",
       "prompt_number": 3,
       "text": [
        "792"
       ]
      }
     ],
     "prompt_number": 3
    },
    {
     "cell_type": "code",
     "collapsed": false,
     "input": [
      "endg.number_of_nodes()"
     ],
     "language": "python",
     "metadata": {},
     "outputs": [
      {
       "output_type": "pyout",
       "prompt_number": 4,
       "text": [
        "91"
       ]
      }
     ],
     "prompt_number": 4
    },
    {
     "cell_type": "code",
     "collapsed": false,
     "input": [
      "nx.density(endg)"
     ],
     "language": "python",
     "metadata": {},
     "outputs": [
      {
       "output_type": "pyout",
       "prompt_number": 5,
       "text": [
        "0.0967032967032967"
       ]
      }
     ],
     "prompt_number": 5
    },
    {
     "cell_type": "code",
     "collapsed": false,
     "input": [
      "#a=sort(endg.nodes())\n",
      "a"
     ],
     "language": "python",
     "metadata": {},
     "outputs": [
      {
       "output_type": "pyout",
       "prompt_number": 10,
       "text": [
        "array(['10', '11', '13', '14', '23A', '23B', '23C', '24A', '24B', '24C',\n",
        "       '25', '29', '30', '31', '32', '35', '3A', '44', '45A', '45B', '46',\n",
        "       '47/12', '5', '6DC', '6DR', '6VA', '6VB', '7A', '7B', '8A', '8AD',\n",
        "       '8AV', '8B', '9', '9/46D', '9/46V', 'AI', 'AII', 'ER', 'FST', 'G',\n",
        "       'IA-P', 'ID', 'INS', 'IPA', 'MII', 'MST', 'MT', 'OPT', 'PAAC',\n",
        "       'PAALT', 'PAAR', 'PAI', 'PE', 'PEA', 'PEC', 'PECI', 'PF', 'PFG',\n",
        "       'PFOP', 'PG', 'PGA', 'PGM', 'PGOP', 'POA', 'PRO', 'PROA', 'PROM',\n",
        "       'RI', 'RL', 'SI', 'SII', 'TAA', 'TE1', 'TE2', 'TE3', 'TEA', 'TEM',\n",
        "       'TF', 'TH', 'TL', 'TPO', 'TPT', 'TS1', 'TS2', 'TS3', 'V1', 'V2',\n",
        "       'V3', 'V4', 'VS'], \n",
        "      dtype='|S5')"
       ]
      }
     ],
     "prompt_number": 10
    },
    {
     "cell_type": "code",
     "collapsed": false,
     "input": [
      "#remove overlap and problem nodes\n",
      "removals=['8AD', '8AV','PFOP', '7A', '7B','VS', 'IA-P']\n",
      "#it_removals= ['TFO', 'THO', 'TL', 'TLC', 'TLO', 'TLR', '35', 'TH', '28I', '28L', '28M', '28S'] \n",
      "endg.remove_nodes_from(removals)\n",
      "#endg.remove_nodes_from(it_removals)"
     ],
     "language": "python",
     "metadata": {},
     "outputs": [],
     "prompt_number": 6
    },
    {
     "cell_type": "code",
     "collapsed": false,
     "input": [
      "nx.write_edgelist(endg, 'yeterian_hybrid.csv')\n",
      "yeterian_pfc2=endg.subgraph(['9/46V', '9/46D', '9', '8B', '8A', '6VB', '47/12', '6VA', '6DR', '6DC', '11', '10', '45A', '45B', '44', '46', 'PROM', '32', '14','25'])\n",
      "yeterian_pfc3=endg.subgraph(['9/46V', '9/46D', '9', '8B', '8A', '6VB', '47/12', '10', '45A', '45B', '44', '46', '32', '14','25'])\n",
      "yeterian_ms_mods=endg.subgraph(['9/46V', '9/46D', '9', '8B', '8A', '6VB', '47/12', '6VA', '6DR', '6DC', '11', '10', '45A', '45B', '44', '46', '24A','14','13','24B','24C', 'PROM', 'MII','32'])\n",
      "nx.write_edgelist(yeterian_pfc2, 'yeterian_pfc3.csv')"
     ],
     "language": "python",
     "metadata": {},
     "outputs": [],
     "prompt_number": 15
    },
    {
     "cell_type": "code",
     "collapsed": false,
     "input": [
      "with open('yeterian_pfc3.pck', 'wb') as f:\n",
      "    pickle.dump(yeterian_pfc3, f, pickle.HIGHEST_PROTOCOL)"
     ],
     "language": "python",
     "metadata": {},
     "outputs": [],
     "prompt_number": 16
    },
    {
     "cell_type": "code",
     "collapsed": false,
     "input": [
      "yeterian_pfc_adj=nx.to_numpy_matrix(yeterian_pfc)\n",
      "plt.imshow(yeterian_pfc_adj, interpolation='nearest', cmap='Greys')"
     ],
     "language": "python",
     "metadata": {},
     "outputs": [
      {
       "output_type": "pyout",
       "prompt_number": 18,
       "text": [
        "<matplotlib.image.AxesImage at 0x577aa50>"
       ]
      },
      {
       "output_type": "display_data",
       "png": "[encoded data removed]"
      }
     ],
     "prompt_number": 18
    },
    {
     "cell_type": "code",
     "collapsed": false,
     "input": [
      "plt.imshow("
     ],
     "language": "python",
     "metadata": {},
     "outputs": [
      {
       "output_type": "pyout",
       "prompt_number": 13,
       "text": [
        "{'10': {'11': {},\n",
        "  '13': {},\n",
        "  '14': {},\n",
        "  '23C': {},\n",
        "  '24A': {},\n",
        "  '24C': {},\n",
        "  '31': {},\n",
        "  '46': {},\n",
        "  '47/12': {},\n",
        "  '8A': {},\n",
        "  '9': {},\n",
        "  '9/46D': {},\n",
        "  'INS': {},\n",
        "  'PAALT': {},\n",
        "  'PRO': {},\n",
        "  'TL': {},\n",
        "  'TS1': {},\n",
        "  'TS2': {}},\n",
        " '11': {'10': {},\n",
        "  '13': {},\n",
        "  '14': {},\n",
        "  '23C': {},\n",
        "  '24A': {},\n",
        "  '24C': {},\n",
        "  '31': {},\n",
        "  '46': {},\n",
        "  '47/12': {},\n",
        "  '9': {},\n",
        "  '9/46D': {},\n",
        "  '9/46V': {},\n",
        "  'ER': {},\n",
        "  'INS': {},\n",
        "  'PAALT': {},\n",
        "  'POA': {},\n",
        "  'PRO': {},\n",
        "  'TH': {},\n",
        "  'TL': {}},\n",
        " '13': {'10': {},\n",
        "  '11': {},\n",
        "  '14': {},\n",
        "  '23B': {},\n",
        "  '23C': {},\n",
        "  '24C': {},\n",
        "  '31': {},\n",
        "  '35': {},\n",
        "  '47/12': {},\n",
        "  '9': {},\n",
        "  '9/46D': {},\n",
        "  '9/46V': {},\n",
        "  'ER': {},\n",
        "  'INS': {},\n",
        "  'PRO': {},\n",
        "  'PROM': {},\n",
        "  'TE2': {},\n",
        "  'TS1': {},\n",
        "  'TS2': {}},\n",
        " '14': {'10': {},\n",
        "  '11': {},\n",
        "  '13': {},\n",
        "  '23B': {},\n",
        "  '23C': {},\n",
        "  '24A': {},\n",
        "  '24C': {},\n",
        "  '35': {},\n",
        "  '46': {},\n",
        "  '6VA': {},\n",
        "  '9': {},\n",
        "  '9/46D': {},\n",
        "  'ER': {},\n",
        "  'INS': {},\n",
        "  'PRO': {},\n",
        "  'TF': {},\n",
        "  'TH': {},\n",
        "  'TL': {},\n",
        "  'TPO': {},\n",
        "  'TS1': {},\n",
        "  'TS2': {}},\n",
        " '23A': {'10': {}, '11': {}, '14': {}, '23B': {}, '31': {}, '8A': {}, '9': {}},\n",
        " '23B': {'10': {},\n",
        "  '11': {},\n",
        "  '14': {},\n",
        "  '31': {},\n",
        "  '8A': {},\n",
        "  '9': {},\n",
        "  'PECI': {}},\n",
        " '23C': {'23B': {},\n",
        "  '24C': {},\n",
        "  '31': {},\n",
        "  '6DR': {},\n",
        "  '8A': {},\n",
        "  'MII': {},\n",
        "  'PGM': {}},\n",
        " '24A': {'10': {},\n",
        "  '11': {},\n",
        "  '14': {},\n",
        "  '23B': {},\n",
        "  '31': {},\n",
        "  '6DR': {},\n",
        "  '8A': {},\n",
        "  '9': {},\n",
        "  'INS': {}},\n",
        " '24B': {'14': {}, '23B': {}, '6DR': {}, '8A': {}, '9': {}, 'PECI': {}},\n",
        " '24C': {'14': {}, '24A': {}, '24B': {}, '6DR': {}, '9': {}, 'MII': {}},\n",
        " '25': {},\n",
        " '29': {'10': {},\n",
        "  '11': {},\n",
        "  '13': {},\n",
        "  '14': {},\n",
        "  '23C': {},\n",
        "  '31': {},\n",
        "  '46': {},\n",
        "  '9': {},\n",
        "  '9/46D': {},\n",
        "  'TF': {}},\n",
        " '30': {'11': {},\n",
        "  '23C': {},\n",
        "  '31': {},\n",
        "  '46': {},\n",
        "  '9': {},\n",
        "  '9/46D': {},\n",
        "  'TF': {},\n",
        "  'TH': {}},\n",
        " '31': {'23C': {}, '46': {}, '8A': {}, '9': {}, 'MII': {}, 'PECI': {}},\n",
        " '32': {'47/12': {}},\n",
        " '35': {'10': {},\n",
        "  '11': {},\n",
        "  '13': {},\n",
        "  '14': {},\n",
        "  '9': {},\n",
        "  'ER': {},\n",
        "  'ID': {},\n",
        "  'INS': {},\n",
        "  'TE1': {},\n",
        "  'TE2': {},\n",
        "  'TF': {},\n",
        "  'TL': {}},\n",
        " '3A': {'23C': {}, '5': {}, '8A': {}, 'PECI': {}, 'SI': {}, 'SII': {}},\n",
        " '44': {'47/12': {}, '9/46V': {}, 'PECI': {}, 'PROM': {}, 'SII': {}},\n",
        " '45A': {'47/12': {}, '8A': {}, '9/46D': {}},\n",
        " '45B': {'10': {},\n",
        "  '11': {},\n",
        "  '13': {},\n",
        "  '14': {},\n",
        "  '24C': {},\n",
        "  '46': {},\n",
        "  '47/12': {},\n",
        "  '6DR': {},\n",
        "  '8A': {},\n",
        "  '9': {},\n",
        "  '9/46V': {},\n",
        "  'INS': {},\n",
        "  'MII': {},\n",
        "  'PAAC': {},\n",
        "  'PAALT': {},\n",
        "  'PGM': {},\n",
        "  'POA': {},\n",
        "  'TE2': {},\n",
        "  'TF': {}},\n",
        " '46': {'23C': {},\n",
        "  '31': {},\n",
        "  '47/12': {},\n",
        "  '8A': {},\n",
        "  '9': {},\n",
        "  '9/46D': {},\n",
        "  'PECI': {}},\n",
        " '47/12': {'46': {}, '8A': {}, '9': {}, '9/46D': {}, '9/46V': {}},\n",
        " '5': {'23C': {},\n",
        "  '8A': {},\n",
        "  'PEA': {},\n",
        "  'PEC': {},\n",
        "  'PECI': {},\n",
        "  'PGM': {},\n",
        "  'SI': {}},\n",
        " '6DC': {'23C': {},\n",
        "  '24C': {},\n",
        "  '31': {},\n",
        "  '6DR': {},\n",
        "  'MII': {},\n",
        "  'PECI': {},\n",
        "  'PGM': {}},\n",
        " '6DR': {'13': {},\n",
        "  '14': {},\n",
        "  '23C': {},\n",
        "  '24C': {},\n",
        "  '31': {},\n",
        "  '6DC': {},\n",
        "  '8A': {},\n",
        "  '9': {},\n",
        "  '9/46D': {},\n",
        "  'MII': {},\n",
        "  'PECI': {},\n",
        "  'PGM': {}},\n",
        " '6VA': {'10': {},\n",
        "  '11': {},\n",
        "  '13': {},\n",
        "  '14': {},\n",
        "  '24C': {},\n",
        "  'INS': {},\n",
        "  'MII': {}},\n",
        " '6VB': {'11': {}, '13': {}, '14': {}, '24C': {}, 'INS': {}, 'MII': {}},\n",
        " '8A': {'10': {},\n",
        "  '11': {},\n",
        "  '14': {},\n",
        "  '23A': {},\n",
        "  '23B': {},\n",
        "  '23C': {},\n",
        "  '24A': {},\n",
        "  '24B': {},\n",
        "  '24C': {},\n",
        "  '31': {},\n",
        "  '45B': {},\n",
        "  '46': {},\n",
        "  '6DR': {},\n",
        "  '9': {},\n",
        "  '9/46D': {},\n",
        "  'MII': {},\n",
        "  'PAAC': {},\n",
        "  'PECI': {},\n",
        "  'POA': {},\n",
        "  'TAA': {},\n",
        "  'TPO': {},\n",
        "  'TS2': {}},\n",
        " '8B': {'23C': {},\n",
        "  '24C': {},\n",
        "  '31': {},\n",
        "  '6DR': {},\n",
        "  'MII': {},\n",
        "  'PECI': {},\n",
        "  'PGM': {}},\n",
        " '9': {'10': {},\n",
        "  '11': {},\n",
        "  '14': {},\n",
        "  '23A': {},\n",
        "  '23B': {},\n",
        "  '23C': {},\n",
        "  '24A': {},\n",
        "  '24B': {},\n",
        "  '24C': {},\n",
        "  '25': {},\n",
        "  '29': {},\n",
        "  '30': {},\n",
        "  '31': {},\n",
        "  '32': {},\n",
        "  '45B': {},\n",
        "  '46': {},\n",
        "  '47/12': {},\n",
        "  '6DR': {},\n",
        "  '8A': {},\n",
        "  '9/46D': {},\n",
        "  'MII': {},\n",
        "  'PECI': {},\n",
        "  'PGM': {},\n",
        "  'TF': {},\n",
        "  'TPO': {},\n",
        "  'TS2': {}},\n",
        " '9/46D': {'29': {},\n",
        "  '30': {},\n",
        "  '31': {},\n",
        "  '46': {},\n",
        "  '8A': {},\n",
        "  '8B': {},\n",
        "  '9': {}},\n",
        " '9/46V': {'47/12': {}, '8A': {}},\n",
        " 'AI': {},\n",
        " 'AII': {'9': {}, 'PAALT': {}, 'PAAR': {}, 'TPT': {}, 'TS3': {}},\n",
        " 'ER': {'11': {}, '14': {}, 'INS': {}, 'TE1': {}, 'TF': {}, 'TH': {}},\n",
        " 'FST': {'MT': {}, 'POA': {}, 'TE2': {}, 'TF': {}},\n",
        " 'G': {'PROM': {}, 'SII': {}},\n",
        " 'ID': {'10': {},\n",
        "  '11': {},\n",
        "  '14': {},\n",
        "  '23C': {},\n",
        "  '35': {},\n",
        "  '9': {},\n",
        "  'INS': {},\n",
        "  'PECI': {},\n",
        "  'SII': {},\n",
        "  'TF': {},\n",
        "  'TL': {}},\n",
        " 'INS': {'10': {},\n",
        "  '11': {},\n",
        "  '13': {},\n",
        "  '14': {},\n",
        "  '23C': {},\n",
        "  '24A': {},\n",
        "  '35': {},\n",
        "  '45B': {},\n",
        "  '5': {},\n",
        "  '6DR': {},\n",
        "  '6VB': {},\n",
        "  'AI': {},\n",
        "  'AII': {},\n",
        "  'ER': {},\n",
        "  'PAAC': {},\n",
        "  'PAI': {},\n",
        "  'PECI': {},\n",
        "  'PF': {},\n",
        "  'PGM': {},\n",
        "  'POA': {},\n",
        "  'PRO': {},\n",
        "  'PROA': {},\n",
        "  'PROM': {},\n",
        "  'RI': {},\n",
        "  'SI': {},\n",
        "  'SII': {},\n",
        "  'TF': {},\n",
        "  'TH': {},\n",
        "  'TL': {}},\n",
        " 'IPA': {'11': {},\n",
        "  '8A': {},\n",
        "  'PF': {},\n",
        "  'PG': {},\n",
        "  'TE2': {},\n",
        "  'TF': {},\n",
        "  'TS2': {},\n",
        "  'V1': {}},\n",
        " 'MII': {'23C': {},\n",
        "  '24C': {},\n",
        "  '31': {},\n",
        "  '6DC': {},\n",
        "  '6DR': {},\n",
        "  '6VA': {},\n",
        "  '6VB': {},\n",
        "  '8A': {},\n",
        "  '8B': {},\n",
        "  '9': {},\n",
        "  'OPT': {},\n",
        "  'PEA': {},\n",
        "  'PEC': {},\n",
        "  'PECI': {},\n",
        "  'PGM': {},\n",
        "  'POA': {},\n",
        "  'SI': {},\n",
        "  'SII': {}},\n",
        " 'MST': {'23C': {}, '31': {}, '8A': {}, 'PECI': {}},\n",
        " 'MT': {'8A': {},\n",
        "  'MII': {},\n",
        "  'POA': {},\n",
        "  'TE2': {},\n",
        "  'V1': {},\n",
        "  'V2': {},\n",
        "  'V3': {},\n",
        "  'V4': {}},\n",
        " 'OPT': {'23B': {},\n",
        "  '23C': {},\n",
        "  '31': {},\n",
        "  '46': {},\n",
        "  '8A': {},\n",
        "  '8B': {},\n",
        "  '9': {},\n",
        "  'FST': {},\n",
        "  'MII': {},\n",
        "  'TAA': {}},\n",
        " 'PAAC': {'23C': {},\n",
        "  '31': {},\n",
        "  '45B': {},\n",
        "  '8A': {},\n",
        "  'PAALT': {},\n",
        "  'PECI': {},\n",
        "  'TPT': {},\n",
        "  'TS3': {}},\n",
        " 'PAALT': {'10': {},\n",
        "  '11': {},\n",
        "  '45B': {},\n",
        "  '8A': {},\n",
        "  'AII': {},\n",
        "  'PAAC': {},\n",
        "  'PAAR': {},\n",
        "  'TAA': {},\n",
        "  'TS2': {},\n",
        "  'TS3': {}},\n",
        " 'PAAR': {'14': {},\n",
        "  'AII': {},\n",
        "  'INS': {},\n",
        "  'PAALT': {},\n",
        "  'PRO': {},\n",
        "  'TAA': {},\n",
        "  'TS2': {},\n",
        "  'TS3': {}},\n",
        " 'PAI': {'14': {},\n",
        "  '9': {},\n",
        "  'PAALT': {},\n",
        "  'PRO': {},\n",
        "  'TAA': {},\n",
        "  'TS2': {},\n",
        "  'TS3': {}},\n",
        " 'PE': {},\n",
        " 'PEA': {'23C': {},\n",
        "  '31': {},\n",
        "  '8A': {},\n",
        "  'MII': {},\n",
        "  'MT': {},\n",
        "  'PEC': {},\n",
        "  'PECI': {},\n",
        "  'PGOP': {},\n",
        "  'POA': {},\n",
        "  'SI': {},\n",
        "  'SII': {}},\n",
        " 'PEC': {'23C': {},\n",
        "  '31': {},\n",
        "  '5': {},\n",
        "  '6DR': {},\n",
        "  'MII': {},\n",
        "  'PEA': {},\n",
        "  'PECI': {},\n",
        "  'PG': {},\n",
        "  'PGM': {},\n",
        "  'PGOP': {},\n",
        "  'SI': {}},\n",
        " 'PECI': {'23C': {}, '31': {}, 'MII': {}, 'SI': {}},\n",
        " 'PF': {'9/46V': {}, 'G': {}, 'PFG': {}, 'POA': {}, 'SI': {}, 'SII': {}},\n",
        " 'PFG': {'23C': {}, '6DR': {}, '9/46V': {}, 'PECI': {}},\n",
        " 'PG': {'11': {},\n",
        "  '23C': {},\n",
        "  '31': {},\n",
        "  '6DR': {},\n",
        "  '8A': {},\n",
        "  '9': {},\n",
        "  '9/46D': {},\n",
        "  'PECI': {},\n",
        "  'PGA': {},\n",
        "  'PGM': {},\n",
        "  'POA': {},\n",
        "  'TPO': {}},\n",
        " 'PGA': {'11': {},\n",
        "  '8A': {},\n",
        "  'OPT': {},\n",
        "  'PAALT': {},\n",
        "  'PG': {},\n",
        "  'PRO': {},\n",
        "  'TF': {},\n",
        "  'TPT': {},\n",
        "  'TS1': {},\n",
        "  'TS2': {},\n",
        "  'TS3': {},\n",
        "  'V1': {}},\n",
        " 'PGM': {'23C': {},\n",
        "  '24A': {},\n",
        "  '24B': {},\n",
        "  '24C': {},\n",
        "  '31': {},\n",
        "  '45B': {},\n",
        "  '46': {},\n",
        "  '5': {},\n",
        "  '6DC': {},\n",
        "  '6DR': {},\n",
        "  '8B': {},\n",
        "  '9': {},\n",
        "  '9/46D': {},\n",
        "  'INS': {},\n",
        "  'MII': {},\n",
        "  'PEC': {},\n",
        "  'PECI': {},\n",
        "  'PG': {},\n",
        "  'POA': {},\n",
        "  'TF': {},\n",
        "  'TPT': {},\n",
        "  'V2': {}},\n",
        " 'PGOP': {'23C': {}, '31': {}, '8A': {}, 'PECI': {}, 'SI': {}, 'SII': {}},\n",
        " 'POA': {'11': {},\n",
        "  '45B': {},\n",
        "  '8A': {},\n",
        "  '9': {},\n",
        "  '9/46V': {},\n",
        "  'FST': {},\n",
        "  'INS': {},\n",
        "  'IPA': {},\n",
        "  'MII': {},\n",
        "  'MT': {},\n",
        "  'PEA': {},\n",
        "  'PG': {},\n",
        "  'PGM': {},\n",
        "  'SI': {},\n",
        "  'SII': {},\n",
        "  'TF': {},\n",
        "  'TPO': {},\n",
        "  'V2': {},\n",
        "  'V3': {},\n",
        "  'V4': {}},\n",
        " 'PRO': {'10': {},\n",
        "  '11': {},\n",
        "  '13': {},\n",
        "  '14': {},\n",
        "  '24A': {},\n",
        "  '24B': {},\n",
        "  '24C': {},\n",
        "  '9': {},\n",
        "  'INS': {},\n",
        "  'PAALT': {},\n",
        "  'PG': {},\n",
        "  'TE2': {},\n",
        "  'TF': {},\n",
        "  'TL': {},\n",
        "  'TS1': {}},\n",
        " 'PROA': {'TAA': {}},\n",
        " 'PROM': {'SII': {}},\n",
        " 'RI': {'5': {},\n",
        "  '8A': {},\n",
        "  'INS': {},\n",
        "  'PAALT': {},\n",
        "  'PF': {},\n",
        "  'SII': {},\n",
        "  'TS3': {}},\n",
        " 'RL': {'PAALT': {}},\n",
        " 'SI': {'10': {},\n",
        "  '13': {},\n",
        "  '23C': {},\n",
        "  '31': {},\n",
        "  '3A': {},\n",
        "  '5': {},\n",
        "  '8A': {},\n",
        "  'INS': {},\n",
        "  'MII': {},\n",
        "  'PECI': {},\n",
        "  'PROM': {},\n",
        "  'SII': {}},\n",
        " 'SII': {'11': {},\n",
        "  '23C': {},\n",
        "  '3A': {},\n",
        "  '5': {},\n",
        "  'ID': {},\n",
        "  'INS': {},\n",
        "  'PECI': {},\n",
        "  'PF': {},\n",
        "  'PROM': {},\n",
        "  'RI': {},\n",
        "  'SI': {},\n",
        "  'TF': {}},\n",
        " 'TAA': {'46': {},\n",
        "  '8A': {},\n",
        "  'FST': {},\n",
        "  'PAALT': {},\n",
        "  'PRO': {},\n",
        "  'TF': {},\n",
        "  'TPT': {},\n",
        "  'TS1': {},\n",
        "  'TS2': {},\n",
        "  'TS3': {}},\n",
        " 'TE1': {'10': {},\n",
        "  '11': {},\n",
        "  '35': {},\n",
        "  '47/12': {},\n",
        "  '8A': {},\n",
        "  'ER': {},\n",
        "  'FST': {},\n",
        "  'IPA': {},\n",
        "  'TE2': {},\n",
        "  'TEA': {},\n",
        "  'TEM': {},\n",
        "  'TF': {},\n",
        "  'TH': {},\n",
        "  'TL': {}},\n",
        " 'TE2': {'10': {},\n",
        "  '11': {},\n",
        "  '13': {},\n",
        "  '35': {},\n",
        "  '45B': {},\n",
        "  '47/12': {},\n",
        "  'ER': {},\n",
        "  'FST': {},\n",
        "  'TE1': {},\n",
        "  'TEM': {},\n",
        "  'TF': {},\n",
        "  'TH': {},\n",
        "  'TL': {}},\n",
        " 'TE3': {'8A': {}, 'FST': {}},\n",
        " 'TEA': {'10': {},\n",
        "  '11': {},\n",
        "  '47/12': {},\n",
        "  '8A': {},\n",
        "  'PF': {},\n",
        "  'PG': {},\n",
        "  'TE1': {},\n",
        "  'TE2': {},\n",
        "  'TE3': {},\n",
        "  'TF': {}},\n",
        " 'TEM': {'PRO': {}, 'TE2': {}, 'V1': {}, 'V2': {}},\n",
        " 'TF': {'11': {},\n",
        "  '14': {},\n",
        "  '23B': {},\n",
        "  '35': {},\n",
        "  '9': {},\n",
        "  'ER': {},\n",
        "  'PGM': {},\n",
        "  'POA': {},\n",
        "  'PRO': {},\n",
        "  'TE1': {},\n",
        "  'TE2': {},\n",
        "  'TH': {},\n",
        "  'TL': {},\n",
        "  'V1': {},\n",
        "  'V2': {},\n",
        "  'V3': {},\n",
        "  'V4': {}},\n",
        " 'TH': {'11': {},\n",
        "  '14': {},\n",
        "  '23A': {},\n",
        "  '23B': {},\n",
        "  '23C': {},\n",
        "  '24A': {},\n",
        "  '24B': {},\n",
        "  '24C': {},\n",
        "  '31': {},\n",
        "  '9': {},\n",
        "  '9/46D': {},\n",
        "  'INS': {},\n",
        "  'PRO': {},\n",
        "  'TE1': {},\n",
        "  'TE2': {},\n",
        "  'TF': {},\n",
        "  'TPT': {},\n",
        "  'V1': {},\n",
        "  'V4': {}},\n",
        " 'TL': {'10': {},\n",
        "  '11': {},\n",
        "  '13': {},\n",
        "  '14': {},\n",
        "  '23C': {},\n",
        "  '31': {},\n",
        "  'ER': {},\n",
        "  'ID': {},\n",
        "  'INS': {},\n",
        "  'PRO': {},\n",
        "  'TE1': {},\n",
        "  'TE2': {}},\n",
        " 'TPO': {'11': {},\n",
        "  '23B': {},\n",
        "  '23C': {},\n",
        "  '31': {},\n",
        "  '46': {},\n",
        "  '8A': {},\n",
        "  '9': {},\n",
        "  '9/46D': {},\n",
        "  'OPT': {},\n",
        "  'PAALT': {},\n",
        "  'PECI': {},\n",
        "  'PF': {},\n",
        "  'PG': {},\n",
        "  'PGM': {},\n",
        "  'PRO': {},\n",
        "  'TF': {},\n",
        "  'TPT': {},\n",
        "  'TS1': {},\n",
        "  'TS2': {},\n",
        "  'TS3': {}},\n",
        " 'TPT': {'23C': {},\n",
        "  '31': {},\n",
        "  '46': {},\n",
        "  '8A': {},\n",
        "  'MII': {},\n",
        "  'OPT': {},\n",
        "  'PAALT': {},\n",
        "  'PECI': {},\n",
        "  'TAA': {},\n",
        "  'TS3': {}},\n",
        " 'TS1': {'46': {}, 'TAA': {}, 'TS2': {}},\n",
        " 'TS2': {'10': {},\n",
        "  '14': {},\n",
        "  '46': {},\n",
        "  '9': {},\n",
        "  '9/46D': {},\n",
        "  'PAALT': {},\n",
        "  'PAAR': {},\n",
        "  'PRO': {},\n",
        "  'TAA': {},\n",
        "  'TS1': {},\n",
        "  'TS3': {}},\n",
        " 'TS3': {'14': {},\n",
        "  '46': {},\n",
        "  '8A': {},\n",
        "  '9': {},\n",
        "  'PAALT': {},\n",
        "  'PRO': {},\n",
        "  'TAA': {},\n",
        "  'TS2': {}},\n",
        " 'V1': {'MT': {}, 'V2': {}, 'V3': {}, 'V4': {}},\n",
        " 'V2': {'10': {},\n",
        "  '6DR': {},\n",
        "  '8A': {},\n",
        "  'FST': {},\n",
        "  'IPA': {},\n",
        "  'MT': {},\n",
        "  'PG': {},\n",
        "  'PGM': {},\n",
        "  'POA': {},\n",
        "  'TE2': {},\n",
        "  'TEA': {},\n",
        "  'TF': {},\n",
        "  'V1': {},\n",
        "  'V3': {},\n",
        "  'V4': {}},\n",
        " 'V3': {'23C': {},\n",
        "  '31': {},\n",
        "  'MT': {},\n",
        "  'POA': {},\n",
        "  'TF': {},\n",
        "  'V1': {},\n",
        "  'V2': {},\n",
        "  'V4': {}},\n",
        " 'V4': {'8A': {},\n",
        "  'FST': {},\n",
        "  'MT': {},\n",
        "  'POA': {},\n",
        "  'TF': {},\n",
        "  'TH': {},\n",
        "  'V1': {},\n",
        "  'V2': {},\n",
        "  'V3': {}}}"
       ]
      }
     ],
     "prompt_number": 13
    },
    {
     "cell_type": "code",
     "collapsed": false,
     "input": [
      "endg.degree()"
     ],
     "language": "python",
     "metadata": {},
     "outputs": [
      {
       "output_type": "pyout",
       "prompt_number": 7,
       "text": [
        "{'10': 41,\n",
        " '11': 50,\n",
        " '13': 33,\n",
        " '14': 48,\n",
        " '23A': 10,\n",
        " '23B': 19,\n",
        " '23C': 42,\n",
        " '24A': 19,\n",
        " '24B': 12,\n",
        " '24C': 23,\n",
        " '25': 1,\n",
        " '29': 12,\n",
        " '30': 10,\n",
        " '31': 38,\n",
        " '32': 2,\n",
        " '35': 19,\n",
        " '3A': 8,\n",
        " '44': 5,\n",
        " '45A': 3,\n",
        " '45B': 27,\n",
        " '46': 26,\n",
        " '47/12': 18,\n",
        " '5': 14,\n",
        " '6DC': 10,\n",
        " '6DR': 28,\n",
        " '6VA': 9,\n",
        " '6VB': 8,\n",
        " '8A': 62,\n",
        " '8B': 11,\n",
        " '9': 59,\n",
        " '9/46D': 24,\n",
        " '9/46V': 10,\n",
        " 'AI': 1,\n",
        " 'AII': 8,\n",
        " 'ER': 15,\n",
        " 'FST': 12,\n",
        " 'G': 3,\n",
        " 'ID': 14,\n",
        " 'INS': 49,\n",
        " 'IPA': 11,\n",
        " 'MII': 38,\n",
        " 'MST': 4,\n",
        " 'MT': 15,\n",
        " 'OPT': 14,\n",
        " 'PAAC': 12,\n",
        " 'PAALT': 26,\n",
        " 'PAAR': 11,\n",
        " 'PAI': 8,\n",
        " 'PE': 0,\n",
        " 'PEA': 15,\n",
        " 'PEC': 15,\n",
        " 'PECI': 31,\n",
        " 'PF': 12,\n",
        " 'PFG': 5,\n",
        " 'PG': 21,\n",
        " 'PGA': 13,\n",
        " 'PGM': 37,\n",
        " 'PGOP': 8,\n",
        " 'POA': 35,\n",
        " 'PRO': 31,\n",
        " 'PROA': 2,\n",
        " 'PROM': 7,\n",
        " 'RI': 9,\n",
        " 'RL': 1,\n",
        " 'SI': 23,\n",
        " 'SII': 25,\n",
        " 'TAA': 20,\n",
        " 'TE1': 21,\n",
        " 'TE2': 27,\n",
        " 'TE3': 3,\n",
        " 'TEA': 12,\n",
        " 'TEM': 6,\n",
        " 'TF': 42,\n",
        " 'TH': 28,\n",
        " 'TL': 22,\n",
        " 'TPO': 25,\n",
        " 'TPT': 17,\n",
        " 'TS1': 11,\n",
        " 'TS2': 25,\n",
        " 'TS3': 19,\n",
        " 'V1': 13,\n",
        " 'V2': 23,\n",
        " 'V3': 14,\n",
        " 'V4': 16}"
       ]
      }
     ],
     "prompt_number": 7
    },
    {
     "cell_type": "code",
     "collapsed": false,
     "input": [
      "degrees=endg.degree().values\n",
      "#degrees=degrees().sort()"
     ],
     "language": "python",
     "metadata": {},
     "outputs": [],
     "prompt_number": 8
    },
    {
     "cell_type": "code",
     "collapsed": false,
     "input": [
      "a=degrees()\n",
      "a.sort()\n",
      "hist(a, bins=20)"
     ],
     "language": "python",
     "metadata": {},
     "outputs": [
      {
       "output_type": "pyout",
       "prompt_number": 13,
       "text": [
        "(array([ 9,  4,  8, 14, 10,  3,  7,  5,  7,  2,  3,  2,  2,  3,  0,  2,  1,\n",
        "        0,  0,  2]),\n",
        " array([  0. ,   3.1,   6.2,   9.3,  12.4,  15.5,  18.6,  21.7,  24.8,\n",
        "        27.9,  31. ,  34.1,  37.2,  40.3,  43.4,  46.5,  49.6,  52.7,\n",
        "        55.8,  58.9,  62. ]),\n",
        " <a list of 20 Patch objects>)"
       ]
      },
      {
       "output_type": "display_data",
       "png": "[encoded data removed]"
      }
     ],
     "prompt_number": 13
    },
    {
     "cell_type": "markdown",
     "metadata": {},
     "source": [
      "#Small worldness"
     ]
    },
    {
     "cell_type": "code",
     "collapsed": false,
     "input": [
      "clust=coco.directed_clustering(endg);\n",
      "cpl=coco.directed_char_path_length(endg);\n",
      "[r_clust, r_cpl]=coco.random_stats(endg,10);\n",
      "[l_clust, l_cpl]=coco.lattice_stats(endg,10);"
     ],
     "language": "python",
     "metadata": {},
     "outputs": [
      {
       "output_type": "stream",
       "stream": "stderr",
       "text": [
        "C:\\Python27\\lib\\site-packages\\cocotools\\stats.py:196: RuntimeWarning: invalid value encountered in true_divide\n",
        "  L = np.nan_to_num(n_path_array / n_path_array)\n",
        "C:\\Python27\\lib\\site-packages\\cocotools\\stats.py:210: RuntimeWarning: invalid value encountered in true_divide\n",
        "  L = np.nan_to_num(n_path_array / n_path_array) * D_zeros\n"
       ]
      }
     ],
     "prompt_number": 14
    },
    {
     "cell_type": "code",
     "collapsed": false,
     "input": [
      "(clust/r_clust)/(cpl/r_cpl)>1"
     ],
     "language": "python",
     "metadata": {},
     "outputs": [
      {
       "output_type": "pyout",
       "prompt_number": 15,
       "text": [
        "array([ True,  True,  True,  True,  True,  True,  True,  True,  True,  True], dtype=bool)"
       ]
      }
     ],
     "prompt_number": 15
    },
    {
     "cell_type": "code",
     "collapsed": false,
     "input": [
      "mean((clust/r_clust)/(cpl/r_cpl))"
     ],
     "language": "python",
     "metadata": {},
     "outputs": [
      {
       "output_type": "pyout",
       "prompt_number": 16,
       "text": [
        "1.4917433298623772"
       ]
      }
     ],
     "prompt_number": 16
    },
    {
     "cell_type": "code",
     "collapsed": false,
     "input": [
      "#sporns zwi\n",
      "scaled_clust=[]\n",
      "scaled_cpl=[]\n",
      "for ival in range(len(l_clust)):\n",
      "    scaled_clust.append((clust-r_clust[ival])/(l_clust[ival]-r_clust[ival]))\n",
      "    scaled_cpl.append((cpl-r_cpl[ival])/(l_cpl[ival]-r_cpl[ival]))\n",
      "    \n",
      "print mean(scaled_clust), mean(scaled_cpl)"
     ],
     "language": "python",
     "metadata": {},
     "outputs": [
      {
       "output_type": "stream",
       "stream": "stdout",
       "text": [
        "0.416968879569 0.494334683564\n"
       ]
      }
     ],
     "prompt_number": 17
    },
    {
     "cell_type": "code",
     "collapsed": false,
     "input": [
      "0<scaled_clust>1 & 0<scaled_cpl>1"
     ],
     "language": "python",
     "metadata": {},
     "outputs": [
      {
       "output_type": "pyout",
       "prompt_number": 18,
       "text": [
        "True"
       ]
      }
     ],
     "prompt_number": 18
    },
    {
     "cell_type": "code",
     "collapsed": false,
     "input": [
      "#Watts Strogatz\n",
      "((clust-r_clust)/r_clust) > ((cpl-r_cpl)/r_cpl)"
     ],
     "language": "python",
     "metadata": {},
     "outputs": [
      {
       "output_type": "pyout",
       "prompt_number": 19,
       "text": [
        "array([ True,  True,  True,  True,  True,  True,  True,  True,  True,  True], dtype=bool)"
       ]
      }
     ],
     "prompt_number": 19
    },
    {
     "cell_type": "code",
     "collapsed": false,
     "input": [
      "endg.degree()"
     ],
     "language": "python",
     "metadata": {},
     "outputs": [
      {
       "output_type": "pyout",
       "prompt_number": 203,
       "text": [
        "{'10': 38,\n",
        " '11': 43,\n",
        " '13': 30,\n",
        " '14': 40,\n",
        " '23A': 9,\n",
        " '23B': 17,\n",
        " '23C': 40,\n",
        " '24A': 18,\n",
        " '24B': 11,\n",
        " '24C': 22,\n",
        " '25': 1,\n",
        " '28I': 0,\n",
        " '28L': 0,\n",
        " '28M': 2,\n",
        " '28S': 1,\n",
        " '29': 11,\n",
        " '30': 8,\n",
        " '31': 36,\n",
        " '32': 2,\n",
        " '35': 0,\n",
        " '3A': 8,\n",
        " '44': 5,\n",
        " '45A': 3,\n",
        " '45B': 26,\n",
        " '46': 26,\n",
        " '47/12': 18,\n",
        " '5': 14,\n",
        " '6DC': 10,\n",
        " '6DR': 28,\n",
        " '6VA': 9,\n",
        " '6VB': 8,\n",
        " '8A': 62,\n",
        " '8B': 11,\n",
        " '9': 55,\n",
        " '9/46D': 23,\n",
        " '9/46V': 10,\n",
        " 'AI': 1,\n",
        " 'AII': 8,\n",
        " 'FST': 12,\n",
        " 'G': 3,\n",
        " 'IA-P': 0,\n",
        " 'ID': 9,\n",
        " 'INS': 42,\n",
        " 'IPA': 11,\n",
        " 'MII': 38,\n",
        " 'MST': 4,\n",
        " 'MT': 15,\n",
        " 'OPT': 14,\n",
        " 'PAAC': 12,\n",
        " 'PAALT': 26,\n",
        " 'PAAR': 11,\n",
        " 'PAI': 8,\n",
        " 'PE': 0,\n",
        " 'PEA': 15,\n",
        " 'PEC': 15,\n",
        " 'PECI': 31,\n",
        " 'PF': 12,\n",
        " 'PFG': 5,\n",
        " 'PG': 21,\n",
        " 'PGA': 13,\n",
        " 'PGM': 35,\n",
        " 'PGOP': 8,\n",
        " 'POA': 33,\n",
        " 'PR1': 6,\n",
        " 'PRO': 28,\n",
        " 'PROA': 2,\n",
        " 'PROM': 7,\n",
        " 'RI': 9,\n",
        " 'RL': 1,\n",
        " 'SI': 23,\n",
        " 'SII': 24,\n",
        " 'TAA': 20,\n",
        " 'TE1': 11,\n",
        " 'TE2': 18,\n",
        " 'TE3': 3,\n",
        " 'TEA': 12,\n",
        " 'TEM': 6,\n",
        " 'TF': 8,\n",
        " 'TFO': 0,\n",
        " 'TH': 0,\n",
        " 'THO': 0,\n",
        " 'TL': 0,\n",
        " 'TLC': 0,\n",
        " 'TLO': 0,\n",
        " 'TLR': 0,\n",
        " 'TPO': 25,\n",
        " 'TPT': 16,\n",
        " 'TS1': 11,\n",
        " 'TS2': 25,\n",
        " 'TS3': 19,\n",
        " 'V1': 11,\n",
        " 'V2': 22,\n",
        " 'V3': 12,\n",
        " 'V4': 12,\n",
        " 'VS': 0}"
       ]
      }
     ],
     "prompt_number": 203
    },
    {
     "cell_type": "code",
     "collapsed": false,
     "input": [
      "a=endg.nodes()\n",
      "a.sort()\n",
      "a"
     ],
     "language": "python",
     "metadata": {},
     "outputs": [
      {
       "output_type": "pyout",
       "prompt_number": 257,
       "text": [
        "['10',\n",
        " '11',\n",
        " '13',\n",
        " '14',\n",
        " '23A',\n",
        " '23B',\n",
        " '23C',\n",
        " '24A',\n",
        " '24B',\n",
        " '24C',\n",
        " '25',\n",
        " '28S',\n",
        " '29',\n",
        " '30',\n",
        " '31',\n",
        " '32',\n",
        " '3A',\n",
        " '44',\n",
        " '45A',\n",
        " '45B',\n",
        " '46',\n",
        " '47/12',\n",
        " '5',\n",
        " '6DC',\n",
        " '6DR',\n",
        " '6VA',\n",
        " '6VB',\n",
        " '8A',\n",
        " '8B',\n",
        " '9',\n",
        " '9/46D',\n",
        " '9/46V',\n",
        " 'AI',\n",
        " 'AII',\n",
        " 'FST',\n",
        " 'G',\n",
        " 'ID',\n",
        " 'INS',\n",
        " 'IPA',\n",
        " 'MII',\n",
        " 'MST',\n",
        " 'MT',\n",
        " 'OPT',\n",
        " 'PAAC',\n",
        " 'PAALT',\n",
        " 'PAAR',\n",
        " 'PAI',\n",
        " 'PE',\n",
        " 'PEA',\n",
        " 'PEC',\n",
        " 'PECI',\n",
        " 'PF',\n",
        " 'PFG',\n",
        " 'PG',\n",
        " 'PGA',\n",
        " 'PGM',\n",
        " 'PGOP',\n",
        " 'POA',\n",
        " 'PR1',\n",
        " 'PRO',\n",
        " 'PROA',\n",
        " 'PROM',\n",
        " 'RI',\n",
        " 'RL',\n",
        " 'SI',\n",
        " 'SII',\n",
        " 'TAA',\n",
        " 'TE1',\n",
        " 'TE2',\n",
        " 'TE3',\n",
        " 'TEA',\n",
        " 'TEM',\n",
        " 'TF',\n",
        " 'TPO',\n",
        " 'TPT',\n",
        " 'TS1',\n",
        " 'TS2',\n",
        " 'TS3',\n",
        " 'V1',\n",
        " 'V2',\n",
        " 'V3',\n",
        " 'V4']"
       ]
      }
     ],
     "prompt_number": 257
    },
    {
     "cell_type": "markdown",
     "metadata": {},
     "source": [
      "#Modha and Singh top ten"
     ]
    },
    {
     "cell_type": "code",
     "collapsed": false,
     "input": [
      "in_degree = coco.get_top_ten(endg.in_degree())\n",
      "out_degree = coco.get_top_ten(endg.out_degree())\n",
      "\n",
      "in_closeness = coco.get_top_ten(coco.directed_closeness(endg), 'smaller')\n",
      "out_closeness = coco.get_top_ten(coco.directed_closeness(endg, 'out'), 'smaller')\n",
      "\n",
      "betweenness = coco.get_top_ten(nx.betweenness_centrality(endg))\n",
      "pagerank = coco.get_top_ten(nx.pagerank(endg))\n",
      "\n",
      "hubs_dict, authorities_dict = nx.hits(endg)\n",
      "hubs = coco.get_top_ten(hubs_dict)\n",
      "authorities = coco.get_top_ten(authorities_dict)"
     ],
     "language": "python",
     "metadata": {},
     "outputs": [],
     "prompt_number": 20
    },
    {
     "cell_type": "code",
     "collapsed": false,
     "input": [
      "#old\n",
      "print in_degree"
     ],
     "language": "python",
     "metadata": {},
     "outputs": [
      {
       "output_type": "stream",
       "stream": "stdout",
       "text": [
        "['8A', '23C', '9', '31', '11', ['PECI', '14'], 'TF', '10', ['MII', 'INS'], '46']\n"
       ]
      }
     ],
     "prompt_number": 21
    },
    {
     "cell_type": "code",
     "collapsed": false,
     "input": [
      "print in_degree"
     ],
     "language": "python",
     "metadata": {},
     "outputs": [
      {
       "output_type": "stream",
       "stream": "stdout",
       "text": [
        "['8A', '23C', ['9', '31'], 'PECI', '11', '14', '10', 'MII', '46', 'INS']\n"
       ]
      }
     ],
     "prompt_number": 237
    },
    {
     "cell_type": "code",
     "collapsed": false,
     "input": [
      "#old\n",
      "print authorities"
     ],
     "language": "python",
     "metadata": {},
     "outputs": [
      {
       "output_type": "stream",
       "stream": "stdout",
       "text": [
        "['23C', '8A', '9', '31', '11', 'PECI', '14', '10', '46', '24C']\n"
       ]
      }
     ],
     "prompt_number": 238
    },
    {
     "cell_type": "code",
     "collapsed": false,
     "input": [
      "print authorities"
     ],
     "language": "python",
     "metadata": {},
     "outputs": [
      {
       "output_type": "stream",
       "stream": "stdout",
       "text": [
        "['23C', '9', '11', '31', '8A', '14', '10', 'TF', 'PECI', 'INS']\n"
       ]
      }
     ],
     "prompt_number": 22
    },
    {
     "cell_type": "code",
     "collapsed": false,
     "input": [
      "#old\n",
      "print out_degree"
     ],
     "language": "python",
     "metadata": {},
     "outputs": [
      {
       "output_type": "stream",
       "stream": "stdout",
       "text": [
        "[['9', 'INS'], '8A', 'PGM', 'TPO', 'POA', ['MII', '13', '45B'], ['10', '14', '11'], 'V2', 'PRO', ['PGA', '6DR', 'PG', 'SI']]\n"
       ]
      }
     ],
     "prompt_number": 239
    },
    {
     "cell_type": "code",
     "collapsed": false,
     "input": [
      "print out_degree"
     ],
     "language": "python",
     "metadata": {},
     "outputs": [
      {
       "output_type": "stream",
       "stream": "stdout",
       "text": [
        "['INS', '9', ['8A', 'PGM'], '14', ['POA', 'TPO'], ['TH', '13', '11', '45B'], ['MII', '10'], 'TF', ['V2', 'PRO'], 'TE1']\n"
       ]
      }
     ],
     "prompt_number": 23
    },
    {
     "cell_type": "code",
     "collapsed": false,
     "input": [
      "#old\n",
      "print out_closeness"
     ],
     "language": "python",
     "metadata": {},
     "outputs": [
      {
       "output_type": "stream",
       "stream": "stdout",
       "text": [
        "[['MII', 'PGA', 'PAAC', '8A', 'POA', '47/12', '6VB', 'PGOP', '6DR', '6DC', 'FST', 'TF', 'PECI', 'PAI', '3A', '5', 'SII', '6VA', 'PEC', '25', 'TE3', '24A', 'TEM', '24C', '24B', '46', 'TEA', 'PRO', 'PGM', 'AI', '29', 'PEA', 'V1', 'V2', 'V3', 'V4', 'TAA', 'PE', '9', 'PF', 'RI', 'PG', 'OPT', '44', 'MST', 'G', 'TPO', '9/46V', 'AII', 'TE2', '23A', 'RL', 'TPT', 'PR1', '23C', 'TE1', '28S', '9/46D', 'ID', 'PAAR', '10', '13', 'IPA', '14', 'PFG', '8B', '32', '31', '30', 'SI', '23B', 'INS', 'MT', 'PROM', '11', '45A', '45B', 'PAALT', 'TS2', 'TS3', 'PROA', 'TS1']]\n"
       ]
      }
     ],
     "prompt_number": 240
    },
    {
     "cell_type": "code",
     "collapsed": false,
     "input": [
      "print out_closeness"
     ],
     "language": "python",
     "metadata": {},
     "outputs": [
      {
       "output_type": "stream",
       "stream": "stdout",
       "text": [
        "[['MII', 'PGA', '8A', 'POA', '47/12', 'MT', 'PGOP', 'V2', '6DC', 'FST', '23B', 'TF', 'PECI', 'PAI', '3A', '5', 'SII', '6VA', 'PEC', '25', 'TE3', '24A', 'TEM', '24C', '24B', '46', 'TEA', 'PRO', 'PGM', 'AI', '29', '6VB', 'V1', 'TL', 'V3', 'V4', 'TAA', 'TH', 'PE', '9', 'PF', 'RI', 'PG', 'OPT', '44', 'MST', 'G', '6DR', 'TPO', '9/46V', 'AII', '23A', 'RL', 'TPT', 'PEA', '23C', 'TE1', 'TE2', '9/46D', 'ID', 'ER', 'PAAR', '10', '13', 'IPA', '14', 'PFG', '8B', '32', '31', '30', 'SI', '35', 'INS', 'PAAC', 'PROM', '11', '45A', '45B', 'PAALT', 'TS2', 'TS3', 'PROA', 'TS1']]\n"
       ]
      }
     ],
     "prompt_number": 24
    },
    {
     "cell_type": "code",
     "collapsed": false,
     "input": [
      "#old\n",
      "print hubs"
     ],
     "language": "python",
     "metadata": {},
     "outputs": [
      {
       "output_type": "stream",
       "stream": "stdout",
       "text": [
        "['9', '8A', '10', 'TPO', 'PGM', '45B', '11', '13', '14', 'INS']\n"
       ]
      }
     ],
     "prompt_number": 159
    },
    {
     "cell_type": "code",
     "collapsed": false,
     "input": [
      "print hubs"
     ],
     "language": "python",
     "metadata": {},
     "outputs": [
      {
       "output_type": "stream",
       "stream": "stdout",
       "text": [
        "['9', '8A', '10', 'TPO', '14', '45B', 'INS', '11', '13', 'PGM']\n"
       ]
      }
     ],
     "prompt_number": 25
    },
    {
     "cell_type": "code",
     "collapsed": false,
     "input": [
      "#old\n",
      "print betweenness"
     ],
     "language": "python",
     "metadata": {},
     "outputs": [
      {
       "output_type": "stream",
       "stream": "stdout",
       "text": [
        "['8A', 'INS', 'POA', '9', 'MII', 'PGM', 'SII', '11', 'V2', '14']\n"
       ]
      }
     ],
     "prompt_number": 242
    },
    {
     "cell_type": "code",
     "collapsed": false,
     "input": [
      "print betweenness"
     ],
     "language": "python",
     "metadata": {},
     "outputs": [
      {
       "output_type": "stream",
       "stream": "stdout",
       "text": [
        "['8A', 'INS', '9', 'POA', 'MII', 'TF', 'PGM', 'SII', '14', '11']\n"
       ]
      }
     ],
     "prompt_number": 26
    },
    {
     "cell_type": "code",
     "collapsed": false,
     "input": [
      "print pagerank"
     ],
     "language": "python",
     "metadata": {},
     "outputs": [
      {
       "output_type": "stream",
       "stream": "stdout",
       "text": [
        "['8A', '9', '31', '23C', 'MII', 'PECI', '46', '14', '6DR', '24C']\n"
       ]
      }
     ],
     "prompt_number": 243
    },
    {
     "cell_type": "code",
     "collapsed": false,
     "input": [
      "print pagerank"
     ],
     "language": "python",
     "metadata": {},
     "outputs": [
      {
       "output_type": "stream",
       "stream": "stdout",
       "text": [
        "['8A', '9', '31', '23C', 'MII', 'PECI', '46', '14', '11', '6DR']\n"
       ]
      }
     ],
     "prompt_number": 27
    },
    {
     "cell_type": "code",
     "collapsed": false,
     "input": [
      "endg['V1'],endg['V2'], endg['V3'], endg['V4']"
     ],
     "language": "python",
     "metadata": {},
     "outputs": [
      {
       "output_type": "pyout",
       "prompt_number": 28,
       "text": [
        "({'MT': {}, 'V2': {}, 'V3': {}, 'V4': {}},\n",
        " {'10': {},\n",
        "  '6DR': {},\n",
        "  '8A': {},\n",
        "  'FST': {},\n",
        "  'IPA': {},\n",
        "  'MT': {},\n",
        "  'PG': {},\n",
        "  'PGM': {},\n",
        "  'POA': {},\n",
        "  'TE2': {},\n",
        "  'TEA': {},\n",
        "  'TF': {},\n",
        "  'V1': {},\n",
        "  'V3': {},\n",
        "  'V4': {}},\n",
        " {'23C': {},\n",
        "  '31': {},\n",
        "  'MT': {},\n",
        "  'POA': {},\n",
        "  'TF': {},\n",
        "  'V1': {},\n",
        "  'V2': {},\n",
        "  'V4': {}},\n",
        " {'8A': {},\n",
        "  'FST': {},\n",
        "  'MT': {},\n",
        "  'POA': {},\n",
        "  'TF': {},\n",
        "  'TH': {},\n",
        "  'V1': {},\n",
        "  'V2': {},\n",
        "  'V3': {}})"
       ]
      }
     ],
     "prompt_number": 28
    },
    {
     "cell_type": "code",
     "collapsed": false,
     "input": [
      "endg.predecessors('46')"
     ],
     "language": "python",
     "metadata": {},
     "outputs": [
      {
       "output_type": "pyout",
       "prompt_number": 29,
       "text": [
        "['OPT',\n",
        " '11',\n",
        " '30',\n",
        " '14',\n",
        " '47/12',\n",
        " '10',\n",
        " 'TPO',\n",
        " '31',\n",
        " '8A',\n",
        " '29',\n",
        " 'TPT',\n",
        " 'TAA',\n",
        " '9',\n",
        " '45B',\n",
        " '9/46D',\n",
        " 'TS2',\n",
        " 'TS3',\n",
        " 'PGM',\n",
        " 'TS1']"
       ]
      }
     ],
     "prompt_number": 29
    },
    {
     "cell_type": "code",
     "collapsed": false,
     "input": [
      "endg.successors('46')"
     ],
     "language": "python",
     "metadata": {},
     "outputs": [
      {
       "output_type": "pyout",
       "prompt_number": 30,
       "text": [
        "['47/12', '31', '8A', '23C', '9', 'PECI', '9/46D']"
       ]
      }
     ],
     "prompt_number": 30
    },
    {
     "cell_type": "code",
     "collapsed": false,
     "input": [
      "print endg.successors('9')"
     ],
     "language": "python",
     "metadata": {},
     "outputs": [
      {
       "output_type": "stream",
       "stream": "stdout",
       "text": [
        "['MII', '30', '47/12', 'PECI', '25', '24A', '24C', '24B', '46', 'PGM', '29', 'TF', 'TPO', '9/46D', '11', '10', '6DR', '14', '32', '31', '8A', '23A', '23B', '23C', '45B', 'TS2']\n"
       ]
      }
     ],
     "prompt_number": 31
    },
    {
     "cell_type": "code",
     "collapsed": false,
     "input": [
      "print endg.successors('9/46D')"
     ],
     "language": "python",
     "metadata": {},
     "outputs": [
      {
       "output_type": "stream",
       "stream": "stdout",
       "text": [
        "['8A', '46', '31', '30', '29', '8B', '9']\n"
       ]
      }
     ],
     "prompt_number": 32
    },
    {
     "cell_type": "code",
     "collapsed": false,
     "input": [
      "print endg.successors('10')"
     ],
     "language": "python",
     "metadata": {},
     "outputs": [
      {
       "output_type": "stream",
       "stream": "stdout",
       "text": [
        "['11', '13', '9/46D', '24A', '47/12', '24C', '46', 'PRO', '8A', 'INS', 'PAALT', 'TL', '9', '23C', 'TS2', '31', 'TS1', '14']\n"
       ]
      }
     ],
     "prompt_number": 33
    },
    {
     "cell_type": "code",
     "collapsed": false,
     "input": [
      "print endg.successors('44')"
     ],
     "language": "python",
     "metadata": {},
     "outputs": [
      {
       "output_type": "stream",
       "stream": "stdout",
       "text": [
        "['PECI', 'SII', 'PROM', '47/12', '9/46V']\n"
       ]
      }
     ],
     "prompt_number": 34
    },
    {
     "cell_type": "code",
     "collapsed": false,
     "input": [
      "print endg.successors('45A')"
     ],
     "language": "python",
     "metadata": {},
     "outputs": [
      {
       "output_type": "stream",
       "stream": "stdout",
       "text": [
        "['9/46D', '47/12', '8A']\n"
       ]
      }
     ],
     "prompt_number": 35
    },
    {
     "cell_type": "code",
     "collapsed": false,
     "input": [
      "print endg.successors('45B')"
     ],
     "language": "python",
     "metadata": {},
     "outputs": [
      {
       "output_type": "stream",
       "stream": "stdout",
       "text": [
        "['MII', '11', '13', '6DR', '47/12', '24C', '10', '46', '9/46V', 'POA', 'PGM', '8A', 'INS', 'TF', '9', 'TE2', 'PAALT', 'PAAC', '14']\n"
       ]
      }
     ],
     "prompt_number": 36
    },
    {
     "cell_type": "code",
     "collapsed": false,
     "input": [
      "print endg.successors('47/12')"
     ],
     "language": "python",
     "metadata": {},
     "outputs": [
      {
       "output_type": "stream",
       "stream": "stdout",
       "text": [
        "['46', '9/46V', '9/46D', '9', '8A']\n"
       ]
      }
     ],
     "prompt_number": 37
    },
    {
     "cell_type": "code",
     "collapsed": false,
     "input": [
      "a=endg.nodes()"
     ],
     "language": "python",
     "metadata": {},
     "outputs": [],
     "prompt_number": 172
    },
    {
     "cell_type": "code",
     "collapsed": false,
     "input": [
      "a.sort()"
     ],
     "language": "python",
     "metadata": {},
     "outputs": [],
     "prompt_number": 173
    },
    {
     "cell_type": "code",
     "collapsed": false,
     "input": [
      "a"
     ],
     "language": "python",
     "metadata": {},
     "outputs": [
      {
       "output_type": "pyout",
       "prompt_number": 254,
       "text": [
        "[0,\n",
        " 0,\n",
        " 0,\n",
        " 0,\n",
        " 0,\n",
        " 0,\n",
        " 0,\n",
        " 1,\n",
        " 1,\n",
        " 1,\n",
        " 1,\n",
        " 2,\n",
        " 2,\n",
        " 2,\n",
        " 3,\n",
        " 3,\n",
        " 3,\n",
        " 4,\n",
        " 5,\n",
        " 5,\n",
        " 6,\n",
        " 6,\n",
        " 7,\n",
        " 8,\n",
        " 8,\n",
        " 8,\n",
        " 8,\n",
        " 8,\n",
        " 8,\n",
        " 8,\n",
        " 9,\n",
        " 9,\n",
        " 9,\n",
        " 9,\n",
        " 10,\n",
        " 10,\n",
        " 11,\n",
        " 11,\n",
        " 11,\n",
        " 11,\n",
        " 11,\n",
        " 11,\n",
        " 11,\n",
        " 11,\n",
        " 12,\n",
        " 12,\n",
        " 12,\n",
        " 12,\n",
        " 12,\n",
        " 12,\n",
        " 13,\n",
        " 14,\n",
        " 14,\n",
        " 15,\n",
        " 15,\n",
        " 15,\n",
        " 16,\n",
        " 17,\n",
        " 18,\n",
        " 18,\n",
        " 18,\n",
        " 19,\n",
        " 20,\n",
        " 21,\n",
        " 22,\n",
        " 22,\n",
        " 23,\n",
        " 23,\n",
        " 24,\n",
        " 25,\n",
        " 25,\n",
        " 26,\n",
        " 26,\n",
        " 26,\n",
        " 28,\n",
        " 28,\n",
        " 30,\n",
        " 31,\n",
        " 33,\n",
        " 35,\n",
        " 36,\n",
        " 38,\n",
        " 38,\n",
        " 40,\n",
        " 40,\n",
        " 42,\n",
        " 43,\n",
        " 55,\n",
        " 62]"
       ]
      }
     ],
     "prompt_number": 254
    },
    {
     "cell_type": "code",
     "collapsed": false,
     "input": [
      "endg.edge['PRO']"
     ],
     "language": "python",
     "metadata": {},
     "outputs": [
      {
       "output_type": "pyout",
       "prompt_number": 38,
       "text": [
        "{'10': {},\n",
        " '11': {},\n",
        " '13': {},\n",
        " '14': {},\n",
        " '24A': {},\n",
        " '24B': {},\n",
        " '24C': {},\n",
        " '9': {},\n",
        " 'INS': {},\n",
        " 'PAALT': {},\n",
        " 'PG': {},\n",
        " 'TE2': {},\n",
        " 'TF': {},\n",
        " 'TL': {},\n",
        " 'TS1': {}}"
       ]
      }
     ],
     "prompt_number": 38
    },
    {
     "cell_type": "code",
     "collapsed": false,
     "input": [
      "endg.predecessors('AII')"
     ],
     "language": "python",
     "metadata": {},
     "outputs": [
      {
       "output_type": "pyout",
       "prompt_number": 39,
       "text": [
        "['PAAR', 'INS', 'PAALT']"
       ]
      }
     ],
     "prompt_number": 39
    },
    {
     "cell_type": "code",
     "collapsed": false,
     "input": [
      "endg['PE']"
     ],
     "language": "python",
     "metadata": {},
     "outputs": [
      {
       "output_type": "pyout",
       "prompt_number": 40,
       "text": [
        "{}"
       ]
      }
     ],
     "prompt_number": 40
    },
    {
     "cell_type": "code",
     "collapsed": false,
     "input": [
      "coco.pajek.write_pajek(endg, 'endg.net') "
     ],
     "language": "python",
     "metadata": {},
     "outputs": [],
     "prompt_number": 41
    },
    {
     "cell_type": "code",
     "collapsed": false,
     "input": [
      "pwd"
     ],
     "language": "python",
     "metadata": {},
     "outputs": [
      {
       "output_type": "pyout",
       "prompt_number": 263,
       "text": [
        "u'c:\\\\Users\\\\Robert\\\\cocomac\\\\cocomac-tools-results\\\\hybrid-map-explore'"
       ]
      }
     ],
     "prompt_number": 263
    },
    {
     "cell_type": "code",
     "collapsed": false,
     "input": [],
     "language": "python",
     "metadata": {},
     "outputs": []
    }
   ],
   "metadata": {}
  }
 ]
}