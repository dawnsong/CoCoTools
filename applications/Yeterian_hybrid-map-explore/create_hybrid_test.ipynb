{
 "metadata": {
  "name": "create_hybrid_test"
 },
 "nbformat": 3,
 "nbformat_minor": 0,
 "worksheets": [
  {
   "cells": [
    {
     "cell_type": "code",
     "collapsed": false,
     "input": [
      "import cocotools as coco\n",
      "import pickle\n",
      "import networkx as nx"
     ],
     "language": "python",
     "metadata": {},
     "outputs": [],
     "prompt_number": 1
    },
    {
     "cell_type": "markdown",
     "metadata": {},
     "source": [
      "#Query"
     ]
    },
    {
     "cell_type": "code",
     "collapsed": false,
     "input": [
      "map_bunch, map_failures = coco.multi_map_ebunch('Mapping', coco.MAPPING_NON_TIMEOUTS)\n",
      "con_bunch, con_failures = coco.multi_map_ebunch('Connectivity', coco.CONNECTIVITY_NON_TIMEOUTS)"
     ],
     "language": "python",
     "metadata": {},
     "outputs": [],
     "prompt_number": 2
    },
    {
     "cell_type": "code",
     "collapsed": false,
     "input": [
      "mbunch2, mfailures2 = coco.query_maps_by_area('Mapping', coco.MAPPING_TIMEOUTS) # Note I'm querying the timeouts here and below.\n",
      "cbunch2, cfailures2 = coco.query_maps_by_area('Connectivity',coco.CONNECTIVITY_TIMEOUTS)"
     ],
     "language": "python",
     "metadata": {},
     "outputs": [],
     "prompt_number": 3
    },
    {
     "cell_type": "code",
     "collapsed": false,
     "input": [
      "mapg = coco.MapGraph()\n",
      "mapg.add_edges_from(map_bunch + mbunch2) # Adding two lists together appends the items in the second to the first.\n",
      "\n",
      "cong = coco.ConGraph()\n",
      "cong.add_edges_from(con_bunch + cbunch2)"
     ],
     "language": "python",
     "metadata": {},
     "outputs": [],
     "prompt_number": 4
    },
    {
     "cell_type": "markdown",
     "metadata": {},
     "source": [
      "#Add Hybrid Edges"
     ]
    },
    {
     "cell_type": "code",
     "collapsed": false,
     "input": [
      "#See Hybrid map explore for method\n",
      "hybrid_edges = [('PP94-47/12(O)','HYBRID13-47/12(O)',  {'RC': 'I', 'PDC' : 2}),\n",
      "\t\t\t\t\t( 'PP94-9/46D', 'HYBRID13-9/46D',  {'RC': 'I', 'PDC' : 2}),\n",
      "\t\t\t\t\t( 'PP94-9/46V', 'HYBRID13-9/46V',  {'RC': 'I', 'PDC' : 2}),\n",
      "\t\t\t\t\t( 'PP94-14', 'HYBRID13-14',  {'RC': 'I', 'PDC' : 2}),\n",
      "\t\t\t\t\t( 'PP94-10', 'HYBRID13-10',  {'RC': 'I', 'PDC' : 2}),\n",
      "\t\t\t\t\t( 'PP94-11', 'HYBRID13-11',  {'RC': 'I', 'PDC' : 2}),\n",
      "\t\t\t\t\t( 'PP94-13', 'HYBRID13-13',  {'RC': 'I', 'PDC' : 2}),\n",
      "\t\t\t\t\t( 'PP94-46', 'HYBRID13-46',  {'RC': 'I', 'PDC' : 2}),\n",
      "\t\t\t\t\t( 'PP94-45B', 'HYBRID13-45B',  {'RC': 'I', 'PDC' : 2}),\n",
      "\t\t\t\t\t( 'PP94-45A', 'HYBRID13-45A',  {'RC': 'I', 'PDC' : 2}),\n",
      "\t\t\t\t\t( 'PP94-47/12(L)', 'HYBRID13-47/12(L)',  {'RC': 'I', 'PDC' : 2}),\n",
      "\t\t\t\t\t( 'PP94-47/12', 'HYBRID13-47/12',  {'RC': 'I', 'PDC' : 2}),\n",
      "\t\t\t\t\t( 'PP94-8AD', 'HYBRID13-8AD',  {'RC': 'I', 'PDC' : 2}),\n",
      "\t\t\t\t\t( 'PP94-8AV', 'HYBRID13-8AV',  {'RC': 'I', 'PDC' : 2}),\n",
      "\t\t\t\t\t( 'PP94-8', 'HYBRID13-8',  {'RC': 'I', 'PDC' : 2}),\n",
      "\t\t\t\t\t( 'PP94-9', 'HYBRID13-9',  {'RC': 'I', 'PDC' : 2}),\n",
      "\t\t\t\t\t( 'PP94-45', 'HYBRID13-45',  {'RC': 'I', 'PDC' : 2}),\n",
      "\t\t\t\t\t( 'PP94-44', 'HYBRID13-44',  {'RC': 'I', 'PDC' : 2}),\n",
      "\t\t\t\t\t( 'PP94-9/46', 'HYBRID13-9/46',  {'RC': 'I', 'PDC' : 2}),\n",
      "\t\t\t\t\t( 'PP94-8B', 'HYBRID13-8B',  {'RC': 'I', 'PDC' : 2}),\n",
      "\t\t\t\t\t( 'PP94-8A', 'HYBRID13-8A',  {'RC': 'I', 'PDC' : 2}),\n",
      "\t\t\t\t\t( 'PP94-32', 'HYBRID13-32',  {'RC': 'I', 'PDC' : 2}),\n",
      "\t\t\t\t\t( 'PP94-G', 'HYBRID13-G',  {'RC': 'I', 'PDC' : 2}),\n",
      "\t\t\t\t\t( 'BP87-MII', 'HYBRID13-MII',  {'RC': 'I', 'PDC' : 2}),\n",
      "\t\t\t\t\t( 'BP87-6DR', 'HYBRID13-6DR',  {'RC': 'I', 'PDC' : 2}),\n",
      "\t\t\t\t\t( 'BP87-6DC', 'HYBRID13-6DC',  {'RC': 'I', 'PDC' : 2}),\n",
      "\t\t\t\t\t( 'BP87-6VB', 'HYBRID13-6VB',  {'RC': 'I', 'PDC' : 2}),\n",
      "\t\t\t\t\t( 'BP87-6VA', 'HYBRID13-6VA',  {'RC': 'I', 'PDC' : 2}),\n",
      "\t\t\t\t\t( 'BP87-PROM', 'HYBRID13-PROM',  {'RC': 'I', 'PDC' : 2}),\n",
      "\t\t\t\t\t( 'VPR87-23', 'HYBRID13-23',  {'RC': 'I', 'PDC' : 2}),\n",
      "\t\t\t\t\t( 'VPR87-24', 'HYBRID13-24',  {'RC': 'I', 'PDC' : 2}),\n",
      "\t\t\t\t\t( 'VPR87-23C', 'HYBRID13-23C',  {'RC': 'I', 'PDC' : 2}),\n",
      "\t\t\t\t\t( 'VPR87-23A', 'HYBRID13-23A',  {'RC': 'I', 'PDC' : 2}),\n",
      "\t\t\t\t\t( 'VPR87-23B', 'HYBRID13-23B',  {'RC': 'I', 'PDC' : 2}),\n",
      "\t\t\t\t\t( 'VPR87-31', 'HYBRID13-31',  {'RC': 'I', 'PDC' : 2}),\n",
      "\t\t\t\t\t( 'VPR87-30', 'HYBRID13-30',  {'RC': 'I', 'PDC' : 2}),\n",
      "\t\t\t\t\t( 'VPR87-29A', 'HYBRID13-29A',  {'RC': 'I', 'PDC' : 2}),\n",
      "\t\t\t\t\t( 'VPR87-29B', 'HYBRID13-29B',  {'RC': 'I', 'PDC' : 2}),\n",
      "\t\t\t\t\t( 'VPR87-29C', 'HYBRID13-29C',  {'RC': 'I', 'PDC' : 2}),\n",
      "\t\t\t\t\t( 'VPR87-29D', 'HYBRID13-29D',  {'RC': 'I', 'PDC' : 2}),\n",
      "\t\t\t\t\t( 'VPR87-24B', 'HYBRID13-24B',  {'RC': 'I', 'PDC' : 2}),\n",
      "\t\t\t\t\t( 'VPR87-24C', 'HYBRID13-24C',  {'RC': 'I', 'PDC' : 2}),\n",
      "\t\t\t\t\t( 'VPR87-24A', 'HYBRID13-24A',  {'RC': 'I', 'PDC' : 2}),\n",
      "\t\t\t\t\t( 'VPR87-29', 'HYBRID13-29',  {'RC': 'I', 'PDC' : 2}),\n",
      "\t\t\t\t\t( 'PP94-25', 'HYBRID13-25',  {'RC': 'I', 'PDC' : 2}),\n",
      "\t\t\t\t\t( 'PP94-24', 'HYBRID13-24',  {'RC': 'I', 'PDC' : 2}),\n",
      "\t\t\t\t\t( 'JB76A-ID', 'HYBRID13-ID',  {'RC': 'I', 'PDC' : 2}),\n",
      "\t\t\t\t\t( 'JB76A-SII', 'HYBRID13-SII',  {'RC': 'I', 'PDC' : 2}),\n",
      "\t\t\t\t\t( 'JB76A-RL', 'HYBRID13-RL',  {'RC': 'I', 'PDC' : 2}),\n",
      "\t\t\t\t\t( 'JB76A-AI', 'HYBRID13-AI',  {'RC': 'I', 'PDC' : 2}),\n",
      "\t\t\t\t\t( 'JB76A-SI', 'HYBRID13-SI',  {'RC': 'I', 'PDC' : 2}),\n",
      "\t\t\t\t\t( 'JB76A-RI', 'HYBRID13-RI',  {'RC': 'I', 'PDC' : 2}),\n",
      "\t\t\t\t\t( 'JB76A-3A', 'HYBRID13-3A',  {'RC': 'I', 'PDC' : 2}),\n",
      "\t\t\t\t\t( 'JB76A-3B', 'HYBRID13-3B',  {'RC': 'I', 'PDC' : 2}),\n",
      "\t\t\t\t\t( 'KCTEC95-VS', 'HYBRID13-VS',  {'RC': 'I', 'PDC' : 2}),\n",
      "\t\t\t\t\t( 'KCTEC95-SI', 'HYBRID13-SI',  {'RC': 'I', 'PDC' : 2}),\n",
      "\t\t\t\t\t( 'KCTEC95-SII', 'HYBRID13-SII',  {'RC': 'I', 'PDC' : 2}),\n",
      "\t\t\t\t\t( 'MM82A-SI', 'HYBRID13-SI',  {'RC': 'I', 'PDC' : 2}),\n",
      "\t\t\t\t\t( 'MM82B-SI', 'HYBRID13-SI',  {'RC': 'I', 'PDC' : 2}),\n",
      "\t\t\t\t\t( 'MM82C-SI', 'HYBRID13-SI',  {'RC': 'I', 'PDC' : 2}),\n",
      "\t\t\t\t\t( 'MM82A-SII', 'HYBRID13-SII',  {'RC': 'I', 'PDC' : 2}),\n",
      "\t\t\t\t\t( 'MM82B-SII', 'HYBRID13-SII',  {'RC': 'I', 'PDC' : 2}),\n",
      "\t\t\t\t\t( 'MM82C-SII', 'HYBRID13-SII',  {'RC': 'I', 'PDC' : 2}),\n",
      "\t\t\t\t\t( 'MM82A-IG', 'HYBRID13-IG',  {'RC': 'I', 'PDC' : 2}),\n",
      "\t\t\t\t\t( 'MM82A-INS', 'HYBRID13-INS',  {'RC': 'I', 'PDC' : 2}),\n",
      "\t\t\t\t\t( 'MM82A-AI', 'HYBRID13-AI',  {'RC': 'I', 'PDC' : 2}),\n",
      "\t\t\t\t\t( 'MM82B-AI', 'HYBRID13-AI',  {'RC': 'I', 'PDC' : 2}),\n",
      "\t\t\t\t\t( 'MM82C-AI', 'HYBRID13-AI',  {'RC': 'I', 'PDC' : 2}),\n",
      "\t\t\t\t\t( 'MM82A-AII', 'HYBRID13-AII',  {'RC': 'I', 'PDC' : 2}),\n",
      "\t\t\t\t\t( 'MM82B-AII', 'HYBRID13-AII',  {'RC': 'I', 'PDC' : 2}),\n",
      "\t\t\t\t\t( 'MM82C-AII', 'HYBRID13-AII',  {'RC': 'I', 'PDC' : 2}),\n",
      "\t\t\t\t\t( 'MM82A-G', 'HYBRID13-G',  {'RC': 'I', 'PDC' : 2}),\n",
      "\t\t\t\t\t( 'KCTEC95-7B', 'HYBRID13-7B',  {'RC': 'I', 'PDC' : 2}),\n",
      "\t\t\t\t\t( 'KCTEC95-7A', 'HYBRID13-7A',  {'RC': 'I', 'PDC' : 2}),\n",
      "\t\t\t\t\t( 'JB76A-5', 'HYBRID13-5',  {'RC': 'I', 'PDC' : 2}),\n",
      "\t\t\t\t\t( 'KCTEC95-5', 'HYBRID13-5',  {'RC': 'I', 'PDC' : 2}),\n",
      "\t\t\t\t\t( 'PS82-PFOP', 'HYBRID13-PFOP',  {'RC': 'I', 'PDC' : 2}),\n",
      "\t\t\t\t\t( 'PS82-PEA', 'HYBRID13-PEA',  {'RC': 'I', 'PDC' : 2}),\n",
      "\t\t\t\t\t( 'PS82-PEC', 'HYBRID13-PEC',  {'RC': 'I', 'PDC' : 2}),\n",
      "\t\t\t\t\t( 'PS82-PGOP', 'HYBRID13-PGOP',  {'RC': 'I', 'PDC' : 2}),\n",
      "\t\t\t\t\t( 'PS82-PFG', 'HYBRID13-PFG',  {'RC': 'I', 'PDC' : 2}),\n",
      "\t\t\t\t\t( 'PS82-PE', 'HYBRID13-PE',  {'RC': 'I', 'PDC' : 2}),\n",
      "\t\t\t\t\t( 'PS82-PF', 'HYBRID13-PF',  {'RC': 'I', 'PDC' : 2}),\n",
      "\t\t\t\t\t( 'PS82-POA', 'HYBRID13-POA',  {'RC': 'I', 'PDC' : 2}),\n",
      "\t\t\t\t\t( 'PS82-PGM', 'HYBRID13-PGM',  {'RC': 'I', 'PDC' : 2}),\n",
      "\t\t\t\t\t( 'PS82-OPT', 'HYBRID13-OPT',  {'RC': 'I', 'PDC' : 2}),\n",
      "\t\t\t\t\t( 'PS82-PECI', 'HYBRID13-PECI',  {'RC': 'I', 'PDC' : 2}),\n",
      "\t\t\t\t\t( 'SP78-PG', 'HYBRID13-PG',  {'RC': 'I', 'PDC' : 2}),\n",
      "\t\t\t\t\t( 'SP78-TS1', 'HYBRID13-TS1',  {'RC': 'I', 'PDC' : 2}),\n",
      "\t\t\t\t\t( 'SP78-TS2', 'HYBRID13-TS2',  {'RC': 'I', 'PDC' : 2}),\n",
      "\t\t\t\t\t( 'SP78-TS3', 'HYBRID13-TS3',  {'RC': 'I', 'PDC' : 2}),\n",
      "\t\t\t\t\t( 'SP78-PAALT', 'HYBRID13-PAALT',  {'RC': 'I', 'PDC' : 2}),\n",
      "\t\t\t\t\t( 'SP78-TPT', 'HYBRID13-TPT',  {'RC': 'I', 'PDC' : 2}),\n",
      "\t\t\t\t\t( 'SP78-TAA', 'HYBRID13-TAA',  {'RC': 'I', 'PDC' : 2}),\n",
      "\t\t\t\t\t( 'SP78-TPO', 'HYBRID13-TPO',  {'RC': 'I', 'PDC' : 2}),\n",
      "\t\t\t\t\t( 'SP78-TEA', 'HYBRID13-TEA',  {'RC': 'I', 'PDC' : 2}),\n",
      "\t\t\t\t\t( 'SP78-TEM', 'HYBRID13-TEM',  {'RC': 'I', 'PDC' : 2}),\n",
      "\t\t\t\t\t( 'SP78-IPA', 'HYBRID13-IPA',  {'RC': 'I', 'PDC' : 2}),\n",
      "\t\t\t\t\t( 'SP78-PGA', 'HYBRID13-PGA',  {'RC': 'I', 'PDC' : 2}),\n",
      "\t\t\t\t\t( 'SP78-PRO', 'HYBRID13-PRO',  {'RC': 'I', 'PDC' : 2}),\n",
      "\t\t\t\t\t( 'UD86B-MST', 'HYBRID13-MST',  {'RC': 'I', 'PDC' : 2}),\n",
      "\t\t\t\t\t( 'UD86B-FST', 'HYBRID13-FST',  {'RC': 'I', 'PDC' : 2}),\n",
      "\t\t\t\t\t( 'UD86A-MST', 'HYBRID13-MST',  {'RC': 'I', 'PDC' : 2}),\n",
      "\t\t\t\t\t( 'UD86A-FST', 'HYBRID13-FST',  {'RC': 'I', 'PDC' : 2}),\n",
      "\t\t\t\t\t( 'PS73-TS3', 'HYBRID13-TS3',  {'RC': 'I', 'PDC' : 2}),\n",
      "\t\t\t\t\t( 'PS73-TS2', 'HYBRID13-TS2',  {'RC': 'I', 'PDC' : 2}),\n",
      "\t\t\t\t\t( 'PS73-TS1', 'HYBRID13-TS1',  {'RC': 'I', 'PDC' : 2}),\n",
      "\t\t\t\t\t( 'PS73-PRO', 'HYBRID13-PRO',  {'RC': 'I', 'PDC' : 2}),\n",
      "\t\t\t\t\t( 'PS73-PAALT', 'HYBRID13-PAALT',  {'RC': 'I', 'PDC' : 2}),\n",
      "\t\t\t\t\t( 'PS73-TPT', 'HYBRID13-TPT',  {'RC': 'I', 'PDC' : 2}),\n",
      "\t\t\t\t\t( 'PS73-PAAC', 'HYBRID13-PAAC',  {'RC': 'I', 'PDC' : 2}),\n",
      "\t\t\t\t\t( 'PS73-PAAR', 'HYBRID13-PAAR',  {'RC': 'I', 'PDC' : 2}),\n",
      "\t\t\t\t\t( 'PS73-PAI', 'HYBRID13-PAI',  {'RC': 'I', 'PDC' : 2}),\n",
      "\t\t\t\t\t( 'PS73-PROA', 'HYBRID13-PROA',  {'RC': 'I', 'PDC' : 2}),\n",
      "\t\t\t\t\t( 'FV91-V1', 'HYBRID13-V1',  {'RC': 'I', 'PDC' : 2}),\n",
      "\t\t\t\t\t( 'FV91-V2', 'HYBRID13-V2',  {'RC': 'I', 'PDC' : 2}),\n",
      "\t\t\t\t\t( 'FV91-V3', 'HYBRID13-V3',  {'RC': 'I', 'PDC' : 2}),\n",
      "\t\t\t\t\t( 'FV91-V4', 'HYBRID13-V4',  {'RC': 'I', 'PDC' : 2}),\n",
      "\t\t\t\t\t( 'PS82-1', 'HYBRID13-1',  {'RC': 'I', 'PDC' : 2}),\n",
      "\t\t\t\t\t( 'PS82-2', 'HYBRID13-2',  {'RC': 'I', 'PDC' : 2}),\n",
      "\t\t\t\t\t( 'SP78-TE1', 'HYBRID13-TE1', {'RC': 'I', 'PDC' : 2}),\n",
      "\t\t\t\t\t( 'SP78-TE2', 'HYBRID13-TE2', {'RC': 'I', 'PDC' : 2}),\n",
      "\t\t\t\t\t( 'SP78-TE3', 'HYBRID13-TE3', {'RC': 'I', 'PDC' : 2}),\n",
      "\t\t\t\t\t( 'UD86A-MT', 'HYBRID13-MT', {'RC': 'I', 'PDC' : 2}),\n",
      "\t\t\t\t\t( 'UD86B-MT', 'HYBRID13-MT', {'RC': 'I', 'PDC' : 2}),\n",
      "                    ( 'BB47-TF', 'HYBRID13-TF', {'RC': 'I', 'PDC' : 2}),\n",
      "                    ( 'BB47-TH', 'HYBRID13-TH', {'RC': 'I', 'PDC' : 2}),\n",
      "                    ( 'PHT00-35', 'HYBRID13-35', {'RC': 'I', 'PDC' : 2}),\n",
      "                    ( 'PHT00-TL','HYBRID13-TL', {'RC': 'I', 'PDC' : 2}),\n",
      "                    ( 'LV00A-ER', 'HYBRID13-ER', {'RC': 'I', 'PDC' : 2}),\n",
      "\t\t\t\t\t#I relations added because intra-map relations introduce new nodes\n",
      "\t\t\t\t\t( 'MM82A-OFO', 'HYBRID13-OFO', {'RC': 'I', 'PDC' : 2}),\n",
      "\t\t\t\t\t( 'UD86A-MT*', 'HYBRID13-MT*', {'RC': 'I', 'PDC' : 2}),\n",
      "\t\t\t\t\t( 'JB76A-1', 'HYBRID13-1', {'RC': 'I', 'PDC' : 2}),\n",
      "\t\t\t\t\t( 'JB76A-2', 'HYBRID13-2', {'RC': 'I', 'PDC' : 2}),\n",
      "\t\t\t\t\t( 'MM82A-2', 'HYBRID13-2', {'RC': 'I', 'PDC' : 2}),\n",
      " \t\t\t\t\t( 'MM82A-1', 'HYBRID13-1', {'RC': 'I', 'PDC' : 2}),\n",
      " \t\t\t\t\t( 'MM82A-IDG', 'HYBRID13-IDG', {'RC': 'I', 'PDC' : 2}),\t\t\t\t\n",
      " \t\t\t\t\t( 'FV91-V4V', 'HYBRID13-V4V', {'RC': 'I', 'PDC' : 2}),\n",
      " \t\t\t\t\t( 'FV91-V2D', 'HYBRID13-V2D', {'RC': 'I', 'PDC' : 2}),\n",
      " \t\t\t\t\t( 'MM82A-STP', 'HYBRID13-STP', {'RC': 'I', 'PDC' : 2}),\n",
      " \t\t\t\t\t( 'MM82A-IA-P', 'HYBRID13-IA-P', {'RC': 'I', 'PDC' : 2}),\n",
      "\t\t\t\t\t#Intra-map relations\n",
      "\t\t\t\t\t( 'HYBRID13-1', 'HYBRID13-SI', {'PDC': 0, 'RC': 'S', 'TP': []}),\n",
      "\t\t\t\t\t( 'HYBRID13-2', 'HYBRID13-SI', {'PDC': 0, 'RC': 'S', 'TP': []}),\n",
      "\t\t\t\t\t( 'HYBRID13-23', 'HYBRID13-23A', {'PDC': 2, 'RC': 'L', 'TP': []}),\n",
      "\t\t\t\t\t( 'HYBRID13-23', 'HYBRID13-23B', {'PDC': 2, 'RC': 'L', 'TP': []}),\n",
      "\t\t\t\t\t( 'HYBRID13-23', 'HYBRID13-23C', {'PDC': 2, 'RC': 'L', 'TP': []}),\n",
      "\t\t\t\t\t( 'HYBRID13-23A', 'HYBRID13-23', {'PDC': 2, 'RC': 'S', 'TP': []}),\n",
      "\t\t\t\t\t( 'HYBRID13-23B', 'HYBRID13-23', {'PDC': 2, 'RC': 'S', 'TP': []}),\n",
      "\t\t\t\t\t( 'HYBRID13-23C', 'HYBRID13-23', {'PDC': 2, 'RC': 'S', 'TP': []}),\n",
      "\t\t\t\t\t( 'HYBRID13-24', 'HYBRID13-24A', {'PDC': 2, 'RC': 'L', 'TP': []}),\n",
      "\t\t\t\t\t( 'HYBRID13-24', 'HYBRID13-24B', {'PDC': 2, 'RC': 'L', 'TP': []}),\n",
      "\t\t\t\t\t( 'HYBRID13-24', 'HYBRID13-24C', {'PDC': 2, 'RC': 'L', 'TP': []}),\n",
      "\t\t\t\t\t( 'HYBRID13-24A', 'HYBRID13-24', {'PDC': 2, 'RC': 'S', 'TP': []}),\n",
      "\t\t\t\t\t( 'HYBRID13-24B', 'HYBRID13-24', {'PDC': 2, 'RC': 'S', 'TP': []}),\n",
      "\t\t\t\t\t( 'HYBRID13-24C', 'HYBRID13-24', {'PDC': 2, 'RC': 'S', 'TP': []}),\t\t\t\t\t\n",
      "\t\t\t\t\t( 'HYBRID13-29', 'HYBRID13-29A', {'PDC': 2, 'RC': 'L', 'TP': []}),\n",
      "\t\t\t\t\t( 'HYBRID13-29', 'HYBRID13-29B', {'PDC': 2, 'RC': 'L', 'TP': []}),\n",
      "\t\t\t\t\t( 'HYBRID13-29', 'HYBRID13-29C', {'PDC': 2, 'RC': 'L', 'TP': []}),\n",
      "\t\t\t\t\t( 'HYBRID13-29', 'HYBRID13-29D', {'PDC': 2, 'RC': 'L', 'TP': []}),\n",
      "\t\t\t\t\t( 'HYBRID13-29A', 'HYBRID13-29', {'PDC': 2, 'RC': 'S', 'TP': []}),\n",
      "\t\t\t\t\t( 'HYBRID13-29B', 'HYBRID13-29', {'PDC': 2, 'RC': 'S', 'TP': []}),\n",
      "\t\t\t\t\t( 'HYBRID13-29C', 'HYBRID13-29', {'PDC': 2, 'RC': 'S', 'TP': []}),\n",
      "\t\t\t\t\t( 'HYBRID13-29D', 'HYBRID13-29', {'PDC': 2, 'RC': 'S', 'TP': []}),\n",
      "\t\t\t\t\t( 'HYBRID13-3B', 'HYBRID13-SI', {'PDC': 2, 'RC': 'S', 'TP': []}),\n",
      "\t\t\t\t\t( 'HYBRID13-45', 'HYBRID13-45A', {'PDC': 2, 'RC': 'L', 'TP': []}),\n",
      "\t\t\t\t\t( 'HYBRID13-45','HYBRID13-45B', {'PDC': 2, 'RC': 'L', 'TP': []}),\n",
      "\t\t\t\t\t( 'HYBRID13-45A', 'HYBRID13-45', {'PDC': 2, 'RC': 'S', 'TP': []}),\n",
      "\t\t\t\t\t( 'HYBRID13-45B', 'HYBRID13-45', {'PDC': 2, 'RC': 'S', 'TP': []}),\n",
      "\t\t\t\t\t( 'HYBRID13-47/12', 'HYBRID13-47/12(L)', {'PDC': 2, 'RC': 'L', 'TP': []}),\n",
      "\t\t\t\t\t( 'HYBRID13-47/12', 'HYBRID13-47/12(O)', {'PDC': 2, 'RC': 'L', 'TP': []}),\n",
      "\t\t\t\t\t( 'HYBRID13-47/12(L)', 'HYBRID13-47/12', {'PDC': 2, 'RC': 'S', 'TP': []}),\n",
      "\t\t\t\t\t( 'HYBRID13-47/12(O)', 'HYBRID13-47/12', {'PDC': 2, 'RC': 'S', 'TP': []}),\n",
      "\t\t\t\t\t( 'HYBRID13-8', 'HYBRID13-8A', {'PDC': 2, 'RC': 'L', 'TP': []}),\n",
      "\t\t\t\t\t( 'HYBRID13-8', 'HYBRID13-8B', {'PDC': 2, 'RC': 'L', 'TP': []}),\n",
      "\t\t\t\t\t( 'HYBRID13-8A', 'HYBRID13-8', {'PDC': 2, 'RC': 'S', 'TP': []}),\n",
      "\t\t\t\t\t( 'HYBRID13-8A', 'HYBRID13-8AD', {'PDC': 2, 'RC': 'L', 'TP': []}),\n",
      "\t\t\t\t\t( 'HYBRID13-8A', 'HYBRID13-8AV', {'PDC': 2, 'RC': 'L', 'TP': []}),\n",
      "\t\t\t\t\t( 'HYBRID13-8AD', 'HYBRID13-8A', {'PDC': 2, 'RC': 'S', 'TP': []}),\n",
      "\t\t\t\t\t( 'HYBRID13-8AV', 'HYBRID13-8A', {'PDC': 2, 'RC': 'S', 'TP': []}),\n",
      "\t\t\t\t\t( 'HYBRID13-8B', 'HYBRID13-8', {'PDC': 2, 'RC': 'S', 'TP': []}),\n",
      "\t\t\t\t\t( 'HYBRID13-9/46', 'HYBRID13-9/46D', {'PDC': 2, 'RC': 'L', 'TP': []}),\n",
      "\t\t\t\t\t( 'HYBRID13-9/46', 'HYBRID13-9/46V', {'PDC': 2, 'RC': 'L', 'TP': []}),\n",
      "\t\t\t\t\t( 'HYBRID13-9/46D', 'HYBRID13-9/46', {'PDC': 2, 'RC': 'S', 'TP': []}),\n",
      "\t\t\t\t\t( 'HYBRID13-9/46V', 'HYBRID13-9/46', {'PDC': 2, 'RC': 'S', 'TP': []}),\n",
      "\t\t\t\t\t( 'HYBRID13-AI', 'HYBRID13-STP', {'PDC': 2, 'RC': 'S', 'TP': []}),\n",
      "\t\t\t\t\t( 'HYBRID13-AII', 'HYBRID13-STP', {'PDC': 2, 'RC': 'S', 'TP': []}),\n",
      "\t\t\t\t\t( 'HYBRID13-G', 'HYBRID13-OFO', {'PDC': 2, 'RC': 'I', 'TP': []}),\n",
      "\t\t\t\t\t( 'HYBRID13-IA', 'HYBRID13-INS', {'PDC': 2, 'RC': 'S', 'TP': []}),\n",
      "\t\t\t\t\t( 'HYBRID13-IDG', 'HYBRID13-INS', {'PDC': 2, 'RC': 'S', 'TP': []}),\n",
      "\t\t\t\t\t( 'HYBRID13-IG', 'HYBRID13-INS', {'PDC': 2, 'RC': 'S', 'TP': []}),\n",
      "\t\t\t\t\t( 'HYBRID13-INS', 'HYBRID13-IA', {'PDC': 2, 'RC': 'L', 'TP': []}),\n",
      "\t\t\t\t\t( 'HYBRID13-INS', 'HYBRID13-IDG', {'PDC': 2, 'RC': 'L', 'TP': []}),\n",
      "\t\t\t\t\t( 'HYBRID13-INS', 'HYBRID13-IG', {'PDC': 2, 'RC': 'L', 'TP': []}),\n",
      "\t\t\t\t\t( 'HYBRID13-MT', 'HYBRID13-MT*', {'PDC': 2, 'RC': 'I', 'TP': []}),\n",
      "\t\t\t\t\t( 'HYBRID13-MT*', 'HYBRID13-MT', {'PDC': 2, 'RC': 'I', 'TP': []}),\n",
      "\t\t\t\t\t( 'HYBRID13-OFO', 'HYBRID13-G', {'PDC': 2, 'RC': 'I', 'TP': []}),\n",
      "\t\t\t\t\t( 'HYBRID13-SI', 'HYBRID13-1', {'PDC': 0, 'RC': 'L', 'TP': []}),\n",
      "\t\t\t\t\t( 'HYBRID13-SI', 'HYBRID13-2', {'PDC': 0, 'RC': 'L', 'TP': []}),\n",
      "\t\t\t\t\t( 'HYBRID13-SI', 'HYBRID13-3B', {'PDC': 2, 'RC': 'L', 'TP': []}),\n",
      "\t\t\t\t\t( 'HYBRID13-STP', 'HYBRID13-AI', {'PDC': 2, 'RC': 'L', 'TP': []}),\n",
      "\t\t\t\t\t( 'HYBRID13-STP', 'HYBRID13-AII', {'PDC': 2, 'RC': 'L', 'TP': []}),\n",
      "\t\t\t\t\t( 'HYBRID13-V2', 'HYBRID13-V2D', {'PDC': 14, 'RC': 'L', 'TP': []}),\n",
      "\t\t\t\t\t( 'HYBRID13-V2D', 'HYBRID13-V2', {'PDC': 14, 'RC': 'S', 'TP': []}),\n",
      "\t\t\t\t\t( 'HYBRID13-V4', 'HYBRID13-V4V', {'PDC': 14, 'RC': 'L', 'TP': []}),\n",
      "\t\t\t\t\t( 'HYBRID13-V4V', 'HYBRID13-V4', {'PDC': 14, 'RC': 'S', 'TP': []})]"
     ],
     "language": "python",
     "metadata": {},
     "outputs": [],
     "prompt_number": 18
    },
    {
     "cell_type": "code",
     "collapsed": false,
     "input": [
      "#creating new mapgraph and adding hybrid edges + attributes\n",
      "hybrid_mapg=mapg\n",
      "for source, target, attr in hybrid_edges:\n",
      "                hybrid_mapg.add_edge(source, target, rc=attr['RC'], pdc=attr['PDC'])"
     ],
     "language": "python",
     "metadata": {},
     "outputs": [],
     "prompt_number": 19
    },
    {
     "cell_type": "code",
     "collapsed": false,
     "input": [
      "source, target"
     ],
     "language": "python",
     "metadata": {},
     "outputs": [
      {
       "output_type": "pyout",
       "prompt_number": 20,
       "text": [
        "('HYBRID13-V4V', 'HYBRID13-V4')"
       ]
      }
     ],
     "prompt_number": 20
    },
    {
     "cell_type": "code",
     "collapsed": false,
     "input": [
      "hybrid_cong=cong"
     ],
     "language": "python",
     "metadata": {},
     "outputs": [],
     "prompt_number": 22
    },
    {
     "cell_type": "markdown",
     "metadata": {},
     "source": [
      "#Add to CoCoMac Mapping and Connectivity Sources"
     ]
    },
    {
     "cell_type": "code",
     "collapsed": false,
     "input": [
      "coco.MAPPING_SOURCES.append('HYBRID13')"
     ],
     "language": "python",
     "metadata": {},
     "outputs": [],
     "prompt_number": 23
    },
    {
     "cell_type": "code",
     "collapsed": false,
     "input": [
      "coco.CONNECTIVITY_SOURCES.append('HYBRID13')"
     ],
     "language": "python",
     "metadata": {},
     "outputs": [],
     "prompt_number": 24
    },
    {
     "cell_type": "code",
     "collapsed": false,
     "input": [
      "with open('hybrid13_betterph_mapg_pre-preproc.pck', 'wb') as f:\n",
      "    pickle.dump(hybrid_mapg, f, pickle.HIGHEST_PROTOCOL)\n",
      "    \n",
      "with open('hybrid13_betterph_cong_pre-preproc.pck', 'wb') as f:\n",
      "    pickle.dump(hybrid_cong, f, pickle.HIGHEST_PROTOCOL)    "
     ],
     "language": "python",
     "metadata": {},
     "outputs": [],
     "prompt_number": 25
    },
    {
     "cell_type": "markdown",
     "metadata": {},
     "source": [
      "\n",
      "#Clean Data"
     ]
    },
    {
     "cell_type": "code",
     "collapsed": false,
     "input": [
      "hybrid_mapg.clean_data()"
     ],
     "language": "python",
     "metadata": {},
     "outputs": [],
     "prompt_number": 26
    },
    {
     "cell_type": "markdown",
     "metadata": {},
     "source": [
      "#Keep one level of resolution"
     ]
    },
    {
     "cell_type": "code",
     "collapsed": false,
     "input": [
      "hybrid_cong = hybrid_mapg.keep_only_one_level_of_resolution(hybrid_cong, 'HYBRID13')"
     ],
     "language": "python",
     "metadata": {},
     "outputs": [],
     "prompt_number": 27
    },
    {
     "cell_type": "code",
     "collapsed": false,
     "input": [
      "reduced_hybrid_mapg=nx.DiGraph()\n",
      "for source, target in hybrid_mapg.edges_iter():\n",
      "    if source.split('-')[0]=='HYBRID13' or target.split('-')[0]=='HYBRID13':\n",
      "        reduced_hybrid_mapg.add_edge(source, target)"
     ],
     "language": "python",
     "metadata": {},
     "outputs": [],
     "prompt_number": 28
    },
    {
     "cell_type": "code",
     "collapsed": false,
     "input": [
      "a=reduced_hybrid_mapg.nodes()\n",
      "a.sort()\n",
      "a"
     ],
     "language": "python",
     "metadata": {},
     "outputs": [
      {
       "output_type": "pyout",
       "prompt_number": 29,
       "text": [
        "['BB47-TF',\n",
        " 'BB47-TH',\n",
        " 'BP87-6DC',\n",
        " 'BP87-6DR',\n",
        " 'BP87-6VA',\n",
        " 'BP87-6VB',\n",
        " 'BP87-MII',\n",
        " 'BP87-PROM',\n",
        " 'FV91-V1',\n",
        " 'FV91-V2',\n",
        " 'FV91-V3',\n",
        " 'FV91-V4',\n",
        " 'HYBRID13-10',\n",
        " 'HYBRID13-11',\n",
        " 'HYBRID13-13',\n",
        " 'HYBRID13-14',\n",
        " 'HYBRID13-23A',\n",
        " 'HYBRID13-23B',\n",
        " 'HYBRID13-23C',\n",
        " 'HYBRID13-24A',\n",
        " 'HYBRID13-24B',\n",
        " 'HYBRID13-24C',\n",
        " 'HYBRID13-25',\n",
        " 'HYBRID13-29',\n",
        " 'HYBRID13-30',\n",
        " 'HYBRID13-31',\n",
        " 'HYBRID13-32',\n",
        " 'HYBRID13-35',\n",
        " 'HYBRID13-3A',\n",
        " 'HYBRID13-44',\n",
        " 'HYBRID13-45A',\n",
        " 'HYBRID13-45B',\n",
        " 'HYBRID13-46',\n",
        " 'HYBRID13-47/12',\n",
        " 'HYBRID13-5',\n",
        " 'HYBRID13-6DC',\n",
        " 'HYBRID13-6DR',\n",
        " 'HYBRID13-6VA',\n",
        " 'HYBRID13-6VB',\n",
        " 'HYBRID13-7A',\n",
        " 'HYBRID13-7B',\n",
        " 'HYBRID13-8A',\n",
        " 'HYBRID13-8AD',\n",
        " 'HYBRID13-8AV',\n",
        " 'HYBRID13-8B',\n",
        " 'HYBRID13-9',\n",
        " 'HYBRID13-9/46D',\n",
        " 'HYBRID13-9/46V',\n",
        " 'HYBRID13-AI',\n",
        " 'HYBRID13-AII',\n",
        " 'HYBRID13-ER',\n",
        " 'HYBRID13-FST',\n",
        " 'HYBRID13-G',\n",
        " 'HYBRID13-IA-P',\n",
        " 'HYBRID13-ID',\n",
        " 'HYBRID13-INS',\n",
        " 'HYBRID13-IPA',\n",
        " 'HYBRID13-MII',\n",
        " 'HYBRID13-MST',\n",
        " 'HYBRID13-MT',\n",
        " 'HYBRID13-OPT',\n",
        " 'HYBRID13-PAAC',\n",
        " 'HYBRID13-PAALT',\n",
        " 'HYBRID13-PAAR',\n",
        " 'HYBRID13-PAI',\n",
        " 'HYBRID13-PE',\n",
        " 'HYBRID13-PEA',\n",
        " 'HYBRID13-PEC',\n",
        " 'HYBRID13-PECI',\n",
        " 'HYBRID13-PF',\n",
        " 'HYBRID13-PFG',\n",
        " 'HYBRID13-PFOP',\n",
        " 'HYBRID13-PG',\n",
        " 'HYBRID13-PGA',\n",
        " 'HYBRID13-PGM',\n",
        " 'HYBRID13-PGOP',\n",
        " 'HYBRID13-POA',\n",
        " 'HYBRID13-PRO',\n",
        " 'HYBRID13-PROA',\n",
        " 'HYBRID13-PROM',\n",
        " 'HYBRID13-RI',\n",
        " 'HYBRID13-RL',\n",
        " 'HYBRID13-SI',\n",
        " 'HYBRID13-SII',\n",
        " 'HYBRID13-TAA',\n",
        " 'HYBRID13-TE1',\n",
        " 'HYBRID13-TE2',\n",
        " 'HYBRID13-TE3',\n",
        " 'HYBRID13-TEA',\n",
        " 'HYBRID13-TEM',\n",
        " 'HYBRID13-TF',\n",
        " 'HYBRID13-TH',\n",
        " 'HYBRID13-TL',\n",
        " 'HYBRID13-TPO',\n",
        " 'HYBRID13-TPT',\n",
        " 'HYBRID13-TS1',\n",
        " 'HYBRID13-TS2',\n",
        " 'HYBRID13-TS3',\n",
        " 'HYBRID13-V1',\n",
        " 'HYBRID13-V2',\n",
        " 'HYBRID13-V3',\n",
        " 'HYBRID13-V4',\n",
        " 'HYBRID13-VS',\n",
        " 'JB76A-1',\n",
        " 'JB76A-2',\n",
        " 'JB76A-3A',\n",
        " 'JB76A-3B',\n",
        " 'JB76A-5',\n",
        " 'JB76A-AI',\n",
        " 'JB76A-ID',\n",
        " 'JB76A-RI',\n",
        " 'JB76A-RL',\n",
        " 'JB76A-SII',\n",
        " 'KCTEC95-5',\n",
        " 'KCTEC95-7A',\n",
        " 'KCTEC95-7B',\n",
        " 'KCTEC95-SI',\n",
        " 'KCTEC95-SII',\n",
        " 'KCTEC95-VS',\n",
        " 'LV00A-ER',\n",
        " 'MM82A-AI',\n",
        " 'MM82A-AII',\n",
        " 'MM82A-G',\n",
        " 'MM82A-INS',\n",
        " 'MM82A-SI',\n",
        " 'MM82A-SII',\n",
        " 'MM82B-AI',\n",
        " 'MM82B-AII',\n",
        " 'MM82B-SI',\n",
        " 'MM82B-SII',\n",
        " 'MM82C-AI',\n",
        " 'MM82C-AII',\n",
        " 'MM82C-SI',\n",
        " 'MM82C-SII',\n",
        " 'PHT00-35',\n",
        " 'PHT00-36',\n",
        " 'PP94-10',\n",
        " 'PP94-11',\n",
        " 'PP94-13',\n",
        " 'PP94-14',\n",
        " 'PP94-24',\n",
        " 'PP94-25',\n",
        " 'PP94-32',\n",
        " 'PP94-44',\n",
        " 'PP94-45A',\n",
        " 'PP94-45B',\n",
        " 'PP94-46',\n",
        " 'PP94-47/12',\n",
        " 'PP94-8A',\n",
        " 'PP94-8B',\n",
        " 'PP94-9',\n",
        " 'PP94-9/46D',\n",
        " 'PP94-9/46V',\n",
        " 'PP94-G',\n",
        " 'PS73-PAAC',\n",
        " 'PS73-PAALT',\n",
        " 'PS73-PAAR',\n",
        " 'PS73-PAI',\n",
        " 'PS73-PRO',\n",
        " 'PS73-PROA',\n",
        " 'PS73-TPT',\n",
        " 'PS73-TS1',\n",
        " 'PS73-TS2',\n",
        " 'PS73-TS3',\n",
        " 'PS82-1',\n",
        " 'PS82-2',\n",
        " 'PS82-OPT',\n",
        " 'PS82-PE',\n",
        " 'PS82-PEA',\n",
        " 'PS82-PEC',\n",
        " 'PS82-PECI',\n",
        " 'PS82-PF',\n",
        " 'PS82-PFG',\n",
        " 'PS82-PFOP',\n",
        " 'PS82-PGM',\n",
        " 'PS82-PGOP',\n",
        " 'PS82-POA',\n",
        " 'SP78-IPA',\n",
        " 'SP78-PAALT',\n",
        " 'SP78-PG',\n",
        " 'SP78-PGA',\n",
        " 'SP78-PRO',\n",
        " 'SP78-TAA',\n",
        " 'SP78-TE1',\n",
        " 'SP78-TE2',\n",
        " 'SP78-TE3',\n",
        " 'SP78-TEA',\n",
        " 'SP78-TEM',\n",
        " 'SP78-TPO',\n",
        " 'SP78-TPT',\n",
        " 'SP78-TS1',\n",
        " 'SP78-TS2',\n",
        " 'SP78-TS3',\n",
        " 'UD86A-FST',\n",
        " 'UD86A-MST',\n",
        " 'UD86A-MT*',\n",
        " 'UD86B-FST',\n",
        " 'UD86B-MST',\n",
        " 'UD86B-MT',\n",
        " 'VPR87-23A',\n",
        " 'VPR87-23B',\n",
        " 'VPR87-23C',\n",
        " 'VPR87-24A',\n",
        " 'VPR87-24B',\n",
        " 'VPR87-24C',\n",
        " 'VPR87-29',\n",
        " 'VPR87-30',\n",
        " 'VPR87-31']"
       ]
      }
     ],
     "prompt_number": 29
    },
    {
     "cell_type": "markdown",
     "metadata": {},
     "source": [
      "#And now time to Deduce"
     ]
    },
    {
     "cell_type": "code",
     "collapsed": false,
     "input": [
      "hybrid_mapg.deduce_edges()"
     ],
     "language": "python",
     "metadata": {},
     "outputs": [],
     "prompt_number": 30
    },
    {
     "cell_type": "code",
     "collapsed": false,
     "input": [
      "with open('hybrid_post_deduce_mapg.pck', 'wb') as f:\n",
      "    pickle.dump(mapg, f, pickle.HIGHEST_PROTOCOL)\n",
      "\n",
      "    \n",
      "with open('hybrid_post_deduce_cong.pck', 'wb') as f:\n",
      "    pickle.dump(cong, f, pickle.HIGHEST_PROTOCOL)"
     ],
     "language": "python",
     "metadata": {},
     "outputs": [],
     "prompt_number": 31
    },
    {
     "cell_type": "code",
     "collapsed": false,
     "input": [
      "endg = coco.EndGraph()\n",
      "endg_mort= coco.EndGraph()"
     ],
     "language": "python",
     "metadata": {},
     "outputs": [],
     "prompt_number": 32
    },
    {
     "cell_type": "code",
     "collapsed": false,
     "input": [
      "endg.add_translated_edges(hybrid_mapg, hybrid_cong, 'HYBRID13', 'original')\n",
      "endg_mort.add_translated_edges(hybrid_mapg, hybrid_cong, 'HYBRID13', 'modified')"
     ],
     "language": "python",
     "metadata": {},
     "outputs": [],
     "prompt_number": 33
    },
    {
     "cell_type": "code",
     "collapsed": false,
     "input": [
      "endg=coco.strip_absent_and_unknown_edges(endg)\n",
      "endg_mort=coco.strip_absent_and_unknown_edges(endg_mort)"
     ],
     "language": "python",
     "metadata": {},
     "outputs": [],
     "prompt_number": 34
    },
    {
     "cell_type": "code",
     "collapsed": false,
     "input": [
      "with open('hybrid_betterph_endg_ort.pck', 'wb') as f:\n",
      "    pickle.dump(endg, f, pickle.HIGHEST_PROTOCOL)\n",
      "    \n",
      "    \n",
      "with open('hybrid__betterph_endg_mort.pck', 'wb') as f:\n",
      "    pickle.dump(endg_mort, f, pickle.HIGHEST_PROTOCOL)"
     ],
     "language": "python",
     "metadata": {},
     "outputs": [],
     "prompt_number": 35
    },
    {
     "cell_type": "code",
     "collapsed": false,
     "input": [
      "endg.number_of_edges()"
     ],
     "language": "python",
     "metadata": {},
     "outputs": [
      {
       "output_type": "pyout",
       "prompt_number": 36,
       "text": [
        "792"
       ]
      }
     ],
     "prompt_number": 36
    },
    {
     "cell_type": "code",
     "collapsed": false,
     "input": [
      "endg.number_of_nodes()"
     ],
     "language": "python",
     "metadata": {},
     "outputs": [
      {
       "output_type": "pyout",
       "prompt_number": 37,
       "text": [
        "91"
       ]
      }
     ],
     "prompt_number": 37
    },
    {
     "cell_type": "code",
     "collapsed": false,
     "input": [
      "nx.density(endg)*100"
     ],
     "language": "python",
     "metadata": {},
     "outputs": [
      {
       "output_type": "pyout",
       "prompt_number": 38,
       "text": [
        "9.670329670329672"
       ]
      }
     ],
     "prompt_number": 38
    },
    {
     "cell_type": "code",
     "collapsed": false,
     "input": [
      "endg.edge['7A']"
     ],
     "language": "python",
     "metadata": {},
     "outputs": [
      {
       "output_type": "pyout",
       "prompt_number": 36,
       "text": [
        "{'MII': {}}"
       ]
      }
     ],
     "prompt_number": 36
    },
    {
     "cell_type": "code",
     "collapsed": false,
     "input": [
      "endg.edge['PFG']"
     ],
     "language": "python",
     "metadata": {},
     "outputs": [
      {
       "output_type": "pyout",
       "prompt_number": 41,
       "text": [
        "{'23C': {}, '6DR': {}, '9/46V': {}, 'PECI': {}}"
       ]
      }
     ],
     "prompt_number": 41
    },
    {
     "cell_type": "code",
     "collapsed": false,
     "input": [
      "endg.edge['TH']"
     ],
     "language": "python",
     "metadata": {},
     "outputs": [
      {
       "output_type": "pyout",
       "prompt_number": 49,
       "text": [
        "{'11': {},\n",
        " '14': {},\n",
        " '23A': {},\n",
        " '23B': {},\n",
        " '23C': {},\n",
        " '24A': {},\n",
        " '24B': {},\n",
        " '24C': {},\n",
        " '31': {},\n",
        " '9': {},\n",
        " '9/46D': {},\n",
        " 'INS': {},\n",
        " 'PRO': {},\n",
        " 'TE1': {},\n",
        " 'TE2': {},\n",
        " 'TF': {},\n",
        " 'TPT': {},\n",
        " 'V1': {},\n",
        " 'V4': {}}"
       ]
      }
     ],
     "prompt_number": 49
    },
    {
     "cell_type": "code",
     "collapsed": false,
     "input": [
      "|a=endg.nodes()\n",
      "a.sort()"
     ],
     "language": "python",
     "metadata": {},
     "outputs": [],
     "prompt_number": 40
    },
    {
     "cell_type": "code",
     "collapsed": false,
     "input": [
      "a"
     ],
     "language": "python",
     "metadata": {},
     "outputs": [
      {
       "output_type": "pyout",
       "prompt_number": 41,
       "text": [
        "['10',\n",
        " '11',\n",
        " '13',\n",
        " '14',\n",
        " '23A',\n",
        " '23B',\n",
        " '23C',\n",
        " '24A',\n",
        " '24B',\n",
        " '24C',\n",
        " '25',\n",
        " '29',\n",
        " '30',\n",
        " '31',\n",
        " '32',\n",
        " '35',\n",
        " '3A',\n",
        " '44',\n",
        " '45A',\n",
        " '45B',\n",
        " '46',\n",
        " '47/12',\n",
        " '5',\n",
        " '6DC',\n",
        " '6DR',\n",
        " '6VA',\n",
        " '6VB',\n",
        " '7A',\n",
        " '7B',\n",
        " '8A',\n",
        " '8AD',\n",
        " '8AV',\n",
        " '8B',\n",
        " '9',\n",
        " '9/46D',\n",
        " '9/46V',\n",
        " 'AI',\n",
        " 'AII',\n",
        " 'ER',\n",
        " 'FST',\n",
        " 'G',\n",
        " 'IA-P',\n",
        " 'ID',\n",
        " 'INS',\n",
        " 'IPA',\n",
        " 'MII',\n",
        " 'MST',\n",
        " 'MT',\n",
        " 'OPT',\n",
        " 'PAAC',\n",
        " 'PAALT',\n",
        " 'PAAR',\n",
        " 'PAI',\n",
        " 'PE',\n",
        " 'PEA',\n",
        " 'PEC',\n",
        " 'PECI',\n",
        " 'PF',\n",
        " 'PFG',\n",
        " 'PFOP',\n",
        " 'PG',\n",
        " 'PGA',\n",
        " 'PGM',\n",
        " 'PGOP',\n",
        " 'POA',\n",
        " 'PRO',\n",
        " 'PROA',\n",
        " 'PROM',\n",
        " 'RI',\n",
        " 'RL',\n",
        " 'SI',\n",
        " 'SII',\n",
        " 'TAA',\n",
        " 'TE1',\n",
        " 'TE2',\n",
        " 'TE3',\n",
        " 'TEA',\n",
        " 'TEM',\n",
        " 'TF',\n",
        " 'TH',\n",
        " 'TL',\n",
        " 'TPO',\n",
        " 'TPT',\n",
        " 'TS1',\n",
        " 'TS2',\n",
        " 'TS3',\n",
        " 'V1',\n",
        " 'V2',\n",
        " 'V3',\n",
        " 'V4',\n",
        " 'VS']"
       ]
      }
     ],
     "prompt_number": 41
    },
    {
     "cell_type": "code",
     "collapsed": false,
     "input": [
      "hybrid_mapg['HYBRID13-TH']"
     ],
     "language": "python",
     "metadata": {},
     "outputs": [
      {
       "output_type": "pyout",
       "prompt_number": 46,
       "text": [
        "{'A86-TH': {'PDC': 15, 'RC': 'S', 'TP': ['BR98-TH', 'BB47-TH']},\n",
        " 'AP84-TH': {'PDC': 12, 'RC': 'S', 'TP': ['BR98-TH', 'BB47-TH']},\n",
        " 'B05-20': {'PDC': 15, 'RC': 'S', 'TP': ['BR98-TH', 'BB47-TH']},\n",
        " 'BB47-TH': {'PDC': 12, 'RC': 'S', 'TP': ['BR98-TH']},\n",
        " 'BGDR99-TH': {'PDC': 15,\n",
        "  'RC': 'S',\n",
        "  'TP': ['BR98-TH', 'BB47-TH', 'IAC87A-TH']},\n",
        " 'BP92-TH': {'PDC': 15, 'RC': 'I', 'TP': ['BR98-TH']},\n",
        " 'CCTCR00-TH': {'PDC': 12, 'RC': 'S', 'TP': ['BR98-TH', 'BB47-TH']},\n",
        " 'DBDU93-TH': {'PDC': 12, 'RC': 'S', 'TP': ['BR98-TH', 'BB47-TH']},\n",
        " 'FV91-TH': {'PDC': 12, 'RC': 'S', 'TP': ['BR98-TH', 'BB47-TH']},\n",
        " 'GM-PHC': {'PDC': 16, 'RC': 'S', 'TP': ['BR98-TH', 'BB47-TH', 'R00-PHC']},\n",
        " 'GSS84-TH': {'PDC': 12, 'RC': 'S', 'TP': ['BR98-TH', 'BB47-TH']},\n",
        " 'IAC87A-TH': {'PDC': 12, 'RC': 'S', 'TP': ['BR98-TH', 'BB47-TH']},\n",
        " 'IY88-TH': {'PDC': 12, 'RC': 'S', 'TP': ['BR98-TH', 'BB47-TH']},\n",
        " 'IYSS87-TH': {'PDC': 12, 'RC': 'S', 'TP': ['BR98-TH', 'BB47-TH']},\n",
        " 'LV00A-TH': {'PDC': 12, 'RC': 'S', 'TP': ['BR98-TH', 'BB47-TH']},\n",
        " 'MBMM93-TH': {'PDC': 12, 'RC': 'S', 'TP': ['BR98-TH', 'BB47-TH']},\n",
        " 'MMLW83-TH': {'PDC': 15, 'RC': 'S', 'TP': ['BR98-TH', 'BB47-TH']},\n",
        " 'PG91B-TH': {'PDC': 12, 'RC': 'S', 'TP': ['BR98-TH', 'BB47-TH', 'V82-TH']},\n",
        " 'PHT00-TH': {'PDC': 15, 'RC': 'S', 'TP': ['BR98-TH', 'BB47-TH']},\n",
        " 'PP99-TH': {'PDC': 15, 'RC': 'S', 'TP': ['BR98-TH', 'BB47-TH']},\n",
        " 'R00-PHC': {'PDC': 15, 'RC': 'S', 'TP': ['BR98-TH', 'BB47-TH']},\n",
        " 'RAP87-TH': {'PDC': 15, 'RC': 'S', 'TP': ['BR98-TH', 'BB47-TH', 'AP84-TH']},\n",
        " 'SA00-TH': {'PDC': 12, 'RC': 'S', 'TP': ['BR98-TH', 'BB47-TH', 'IAC87A-TH']},\n",
        " 'SA94A-TH': {'PDC': 15, 'RC': 'S', 'TP': ['BR98-TH', 'BB47-TH']},\n",
        " 'SA94B-TH': {'PDC': 12, 'RC': 'S', 'TP': ['BR98-TH', 'BB47-TH', 'IAC87A-TH']},\n",
        " 'SRV88-TH': {'PDC': 15, 'RC': 'S', 'TP': ['BR98-TH', 'BB47-TH']},\n",
        " 'SSA96-TH': {'PDC': 12, 'RC': 'S', 'TP': ['BR98-TH', 'BB47-TH', 'IAC87A-TH']},\n",
        " 'TBVD88-TH': {'PDC': 12, 'RC': 'S', 'TP': ['BR98-TH', 'BB47-TH']},\n",
        " 'V82-TH': {'PDC': 12, 'RC': 'S', 'TP': ['BR98-TH', 'BB47-TH']},\n",
        " 'VP87-TH': {'PDC': 12, 'RC': 'S', 'TP': ['BR98-TH', 'BB47-TH']},\n",
        " 'Y00-TH': {'PDC': 12, 'RC': 'S', 'TP': ['BR98-TH', 'BB47-TH']},\n",
        " 'YP88-TH': {'PDC': 12, 'RC': 'S', 'TP': ['BR98-TH', 'BB47-TH']},\n",
        " 'YTHI90-TH': {'PDC': 15, 'RC': 'S', 'TP': ['BR98-TH', 'BB47-TH']},\n",
        " 'ZSCR93-TH': {'PDC': 15, 'RC': 'S', 'TP': ['BR98-TH', 'BB47-TH']}}"
       ]
      }
     ],
     "prompt_number": 46
    },
    {
     "cell_type": "code",
     "collapsed": false,
     "input": [
      "hybrid_mapg['LV00A-TH']"
     ],
     "language": "python",
     "metadata": {},
     "outputs": [
      {
       "output_type": "pyout",
       "prompt_number": 60,
       "text": [
        "{'A86-TH': {'PDC': 15, 'RC': 'I', 'TP': ['BB47-TH']},\n",
        " 'AIC87-EC': {'PDC': 12, 'RC': 'L', 'TP': ['BB47-TH']},\n",
        " 'AIC87-ECL': {'PDC': 12, 'RC': 'L', 'TP': ['BB47-TH']},\n",
        " 'AIC87-EI': {'PDC': 12, 'RC': 'L', 'TP': ['BB47-TH']},\n",
        " 'AIC87-ELC': {'PDC': 12, 'RC': 'L', 'TP': ['BB47-TH']},\n",
        " 'AIC87-ELR': {'PDC': 12, 'RC': 'L', 'TP': ['BB47-TH']},\n",
        " 'AIC87-EO': {'PDC': 12, 'RC': 'L', 'TP': ['BB47-TH']},\n",
        " 'B05-20': {'PDC': 15, 'RC': 'S', 'TP': ['BB47-TH']},\n",
        " 'BB47-TH': {'PDC': 12, 'RC': 'I', 'TP': []},\n",
        " 'BGDR99-TH': {'PDC': 15, 'RC': 'I', 'TP': ['BB47-TH', 'IAC87A-TH']},\n",
        " 'BP92-TH': {'PDC': 15, 'RC': 'L', 'TP': ['BB47-TH', 'BR98-TH']},\n",
        " 'BR98-TH': {'PDC': 12, 'RC': 'L', 'TP': ['BB47-TH']},\n",
        " 'BR98-TLC': {'PDC': 12, 'RC': 'O', 'TP': ['BB47-TH']},\n",
        " 'BR98-TLO': {'PDC': 12, 'RC': 'O', 'TP': ['BB47-TH']},\n",
        " 'BR98-TLR': {'PDC': 12, 'RC': 'O', 'TP': ['BB47-TH']},\n",
        " 'DBDU93-TH': {'PDC': 12, 'RC': 'I', 'TP': ['BB47-TH']},\n",
        " 'FV91-TH': {'PDC': 12, 'RC': 'I', 'TP': ['BB47-TH']},\n",
        " 'GM-PHC': {'PDC': 16, 'RC': 'S', 'TP': ['BB47-TH', 'R00-PHC']},\n",
        " 'GSS84-TH': {'PDC': 12, 'RC': 'I', 'TP': ['BB47-TH']},\n",
        " 'HYBRID13-TH': {'PDC': 12, 'RC': 'L', 'TP': ['BB47-TH', 'BR98-TH']},\n",
        " 'HYBRID13-THO': {'PDC': 12, 'RC': 'L', 'TP': ['BB47-TH', 'BR98-TH']},\n",
        " 'HYBRID13-TLC': {'PDC': 12, 'RC': 'O', 'TP': ['BB47-TH', 'BR98-TLC']},\n",
        " 'HYBRID13-TLO': {'PDC': 12, 'RC': 'O', 'TP': ['BB47-TH', 'BR98-TLO']},\n",
        " 'HYBRID13-TLR': {'PDC': 12, 'RC': 'O', 'TP': ['BB47-TH', 'BR98-TLR']},\n",
        " 'IAC87A-TH': {'PDC': 12, 'RC': 'I', 'TP': ['BB47-TH']},\n",
        " 'MMLW83-TH': {'PDC': 15, 'RC': 'I', 'TP': ['BB47-TH']},\n",
        " 'PHT00-TH': {'PDC': 15, 'RC': 'I', 'TP': ['BB47-TH']},\n",
        " 'PP99-TH': {'PDC': 15, 'RC': 'I', 'TP': ['BB47-TH']},\n",
        " 'PSB88-TLO': {'PDC': 12, 'RC': 'O', 'TP': ['BB47-TH', 'BR98-TLO']},\n",
        " 'R00-PHC': {'PDC': 15, 'RC': 'S', 'TP': ['BB47-TH']},\n",
        " 'RAP87-TH': {'PDC': 15, 'RC': 'I', 'TP': ['BB47-TH', 'AP84-TH']},\n",
        " 'SA00-TH': {'PDC': 12, 'RC': 'I', 'TP': ['BB47-TH', 'IAC87A-TH']},\n",
        " 'SA90-TH': {'PDC': 12, 'RC': 'L', 'TP': ['BB47-TH', 'IAC87A-TH']},\n",
        " 'SA94A-EC': {'PDC': 12, 'RC': 'L', 'TP': ['BB47-TH', 'AIC87-EC']},\n",
        " 'SA94A-ECL': {'PDC': 12, 'RC': 'L', 'TP': ['BB47-TH', 'AIC87-ECL']},\n",
        " 'SA94A-EI': {'PDC': 12, 'RC': 'L', 'TP': ['BB47-TH', 'AIC87-EI']},\n",
        " 'SA94A-EO': {'PDC': 12, 'RC': 'L', 'TP': ['BB47-TH', 'AIC87-EO']},\n",
        " 'SA94B-TH': {'PDC': 12, 'RC': 'I', 'TP': ['BB47-TH', 'IAC87A-TH']},\n",
        " 'SRV88-TH': {'PDC': 15, 'RC': 'I', 'TP': ['BB47-TH']},\n",
        " 'SSA96-TH': {'PDC': 12, 'RC': 'I', 'TP': ['BB47-TH', 'IAC87A-TH']},\n",
        " 'TBVD88-TH': {'PDC': 12, 'RC': 'I', 'TP': ['BB47-TH']},\n",
        " 'V82-TH': {'PDC': 12, 'RC': 'I', 'TP': ['BB47-TH']},\n",
        " 'WUB91-TH': {'PDC': 12, 'RC': 'L', 'TP': ['BB47-TH']},\n",
        " 'WVA89-EC': {'PDC': 12, 'RC': 'L', 'TP': ['BB47-TH', 'AIC87-EC']},\n",
        " 'WVA89-ECL': {'PDC': 12, 'RC': 'L', 'TP': ['BB47-TH', 'AIC87-ECL']},\n",
        " 'WVA89-EI': {'PDC': 12, 'RC': 'L', 'TP': ['BB47-TH', 'AIC87-EI']},\n",
        " 'WVA89-EO': {'PDC': 12, 'RC': 'L', 'TP': ['BB47-TH', 'AIC87-EO']},\n",
        " 'YTHI90-TH': {'PDC': 15, 'RC': 'I', 'TP': ['BB47-TH']},\n",
        " 'ZSCR93-TH': {'PDC': 15, 'RC': 'I', 'TP': ['BB47-TH']}}"
       ]
      }
     ],
     "prompt_number": 60
    },
    {
     "cell_type": "code",
     "collapsed": false,
     "input": [],
     "language": "python",
     "metadata": {},
     "outputs": []
    }
   ],
   "metadata": {}
  }
 ]
}