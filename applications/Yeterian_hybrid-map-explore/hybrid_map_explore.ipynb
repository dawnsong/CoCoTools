{
 "metadata": {
  "name": "hybrid_map_explore"
 },
 "nbformat": 3,
 "nbformat_minor": 0,
 "worksheets": [
  {
   "cells": [
    {
     "cell_type": "markdown",
     "metadata": {},
     "source": [
      "#Hybrid Map Exploration"
     ]
    },
    {
     "cell_type": "markdown",
     "metadata": {},
     "source": [
      "grab, analyze and explore mapping spaces to build hybrid mapping scheme based on Yeterian and Petrides Brain paper\n",
      "\n",
      "1. build a list of the nodes from each of the maps mentioned in YPP11\n",
      "2. We need to remove overlapping regions, so we could just follow exactly the logic of YPP11 and remove by hand or for regions that have mapping relationships we can use metrics to decide\n",
      "3. When we have selected all the nodes we want then we create a list with the edges + attr to make our HYBRID-13 \"I\" with these regions\n",
      "4. also include all the intra-regional but need to rename them to HYBRID-13"
     ]
    },
    {
     "cell_type": "markdown",
     "metadata": {},
     "source": [
      "by hand procedure\n",
      "\n",
      "1. study Fig1 search papers for regions in figure\n",
      "2. For regions in cocomac but not in figure, search the text for mention on the region, if mentioned, include for now"
     ]
    },
    {
     "cell_type": "code",
     "collapsed": false,
     "input": [
      "import cocotools as coco\n",
      "import networkx as nx\n",
      "import pickle"
     ],
     "language": "python",
     "metadata": {},
     "outputs": [],
     "prompt_number": 103
    },
    {
     "cell_type": "code",
     "collapsed": false,
     "input": [
      "graph_path= 'C:\\\\Users\\\\Robert\\\\cocomac\\\\cocomac-tools-results\\\\graphs\\\\revision_graphs'\n",
      "cong_stub = 'post_query_cong.pck'\n",
      "mapg_stub ='post_query_mapg.pck'\n",
      "\n",
      "cong_path = graph_path +\"\\\\\"+ cong_stub\n",
      "mapg_path = graph_path +\"\\\\\"+ mapg_stub\n",
      "\n",
      "cong_path_open=open(cong_path,'rb')\n",
      "cong=pickle.load(cong_path_open)\n",
      "\n",
      "mapg_path_open=open(mapg_path,'rb')\n",
      "mapg=pickle.load(mapg_path_open)"
     ],
     "language": "python",
     "metadata": {},
     "outputs": [],
     "prompt_number": 104
    },
    {
     "cell_type": "code",
     "collapsed": false,
     "input": [
      "graph_path= 'C:\\\\Users\\\\Robert\\\\cocomac\\\\cocomac-tools-results\\\\graphs\\\\revision_graphs'\n",
      "cong_stub = 'pht00_post_deduce_cong.pck'\n",
      "mapg_stub = 'pht00_post_deduce_mapg.pck'\n",
      "\n",
      "d_cong_path = graph_path +\"\\\\\"+ cong_stub\n",
      "d_mapg_path = graph_path +\"\\\\\"+ mapg_stub\n",
      "\n",
      "d_cong_path_open=open(d_cong_path,'rb')\n",
      "d_cong=pickle.load(d_cong_path_open)\n",
      "\n",
      "d_mapg_path_open=open(d_mapg_path,'rb')\n",
      "d_mapg=pickle.load(d_mapg_path_open)"
     ],
     "language": "python",
     "metadata": {},
     "outputs": [],
     "prompt_number": 105
    },
    {
     "cell_type": "code",
     "collapsed": false,
     "input": [
      "#EASY:\n",
      "#PP84: PFC, PS82: Parietal, BP87: Premotor, VPR87: Cingulate\n",
      "#MEDIUM: \n",
      "#(SP78, UD86A, UD86B): Inferotemporal and STS, (PS73): supratemporal plane (KK90 missing)\n",
      "#HARD:\n",
      "# insular, parietotemporal opercular and frontotemporal opercular: (JB76a, KCTECT95 --> somatosensory lateral sulcus,  MM82--> just insula, KK90 (missing))\n",
      "# Missing: Parahipp: Bhlatt, 2003 and various regions: KK90\n",
      "studies =['PP94', 'PS82', 'BP87', 'VPR87', 'SP78', 'UD86A', 'UD86B', 'PS73', 'JB76A', 'MM82A','MM82B', 'MM82C', 'KCTEC95', 'BP98']"
     ],
     "language": "python",
     "metadata": {},
     "outputs": [],
     "prompt_number": 106
    },
    {
     "cell_type": "markdown",
     "metadata": {},
     "source": [
      "#PFC regions(PP94)"
     ]
    },
    {
     "cell_type": "code",
     "collapsed": false,
     "input": [
      "PFC_nodes=['PP94-47/12(O)', 'PP94-9/46D', 'PP94-9/46V', 'PP94-14', 'PP94-10', 'PP94-11', 'PP94-13', 'PP94-46', 'PP94-45B', 'PP94-45A', 'PP94-47/12(L)', 'PP94-47/12', 'PP94-8AD', 'PP94-8AV','PP94-8', 'PP94-9', 'PP94-45', 'PP94-44', 'PP94-9/46', 'PP94-8B', 'PP94-8A', 'PP94-32', 'PP94-G']"
     ],
     "language": "python",
     "metadata": {},
     "outputs": [],
     "prompt_number": 107
    },
    {
     "cell_type": "markdown",
     "metadata": {},
     "source": [
      "#Premotor regions (BP87)"
     ]
    },
    {
     "cell_type": "code",
     "collapsed": false,
     "input": [
      "PMC_nodes=['BP87-MII', 'BP87-6DR', 'BP87-6DC', 'BP87-6VB', 'BP87-6VA', 'BP87-PROM']"
     ],
     "language": "python",
     "metadata": {},
     "outputs": [],
     "prompt_number": 108
    },
    {
     "cell_type": "markdown",
     "metadata": {},
     "source": [
      "#Parietal (PS82 and some SP78)"
     ]
    },
    {
     "cell_type": "code",
     "collapsed": false,
     "input": [
      "#need PG region\n",
      "parietal_nodes= ['PS82-PFOP', 'PS82-PEA', 'PS82-PEC', 'PS82-PGOP','PS82-PFG','PS82-PE', 'PS82-PF', 'PS82-POA', 'PS82-PGM', 'PS82-OPT', 'PS82-PECI', 'SP78-PG']\n",
      "parietal_maybes= ['PS82-1', 'PS82-2', 'PS82-3','PS82-OA', 'PS82-23', 'PS82-PG']"
     ],
     "language": "python",
     "metadata": {},
     "outputs": [],
     "prompt_number": 109
    },
    {
     "cell_type": "markdown",
     "metadata": {},
     "source": [
      "#Cingulate (VPR87 and some PP94)"
     ]
    },
    {
     "cell_type": "code",
     "collapsed": false,
     "input": [
      "cingulate_nodes= ['VPR87-23', 'VPR87-24', 'VPR87-23C', 'VPR87-23A', 'VPR87-23B', 'VPR87-31', 'VPR87-30', 'VPR87-29A', 'VPR87-29B', 'VPR87-29C', 'VPR87-29D','VPR87-24B', 'VPR87-24C', 'VPR87-24A', 'VPR87-29', 'PP94-25', 'PP94-24']\n",
      "cingulate_removes=['VPR87-32', 'VPR87-25' ]\n",
      "cingulate_maybes= ['VPR87-6','VPR87-4']"
     ],
     "language": "python",
     "metadata": {},
     "outputs": [],
     "prompt_number": 110
    },
    {
     "cell_type": "markdown",
     "metadata": {},
     "source": [
      "#STS (SP78, UD86A, UD86B)"
     ]
    },
    {
     "cell_type": "code",
     "collapsed": false,
     "input": [
      "#STS: missing area MST, FST\n",
      "sts_nodes=['SP78-TS1', 'SP78-TS2', 'SP78-TS3', 'SP78-PAALT', 'SP78-TPT', 'SP78-TAA', 'SP78-TPO', 'SP78-TEA', 'SP78-TEM',  'SP78-IPA', 'SP78-PGA', 'SP78-PRO', 'UD86B-MST', 'UD86B-FST', 'UD86A-MST', 'UD86A-FST','PS73-TS3', 'PS73-TS2', 'PS73-TS1', 'PS73-PRO', 'PS73-PAALT', 'PS73-TPT']\n",
      "sts_maybes= ['UD86A-MT*', 'UD86A-MTP', 'UD86A-MT', 'UD86B-MTP']"
     ],
     "language": "python",
     "metadata": {},
     "outputs": [],
     "prompt_number": 111
    },
    {
     "cell_type": "markdown",
     "metadata": {},
     "source": [
      "#Inferotemporal (SP78, UD86A, UD86B)"
     ]
    },
    {
     "cell_type": "code",
     "collapsed": false,
     "input": [
      "it_nodes= ['SP78-TE1', 'SP78-TE2', 'SP78-TE3', 'UD86A-MT', 'UD86B-MT',]\n",
      "it_maybes= ['SP78-TH', 'SP78-TF']\n"
     ],
     "language": "python",
     "metadata": {},
     "outputs": [],
     "prompt_number": 112
    },
    {
     "cell_type": "markdown",
     "metadata": {},
     "source": [
      "#Supratemporal plane not included in above(PS73)"
     ]
    },
    {
     "cell_type": "code",
     "collapsed": false,
     "input": [
      "stp_nodes=['PS73-PAAC', 'PS73-PAAR', 'PS73-PAI', 'PS73-PROA']\n",
      "stp_maybes=['PS73-KALT','PS73-KAM', 'PS73-PROS','PS73-REIT']\n",
      "\n"
     ],
     "language": "python",
     "metadata": {},
     "outputs": [],
     "prompt_number": 113
    },
    {
     "cell_type": "markdown",
     "metadata": {},
     "source": [
      "#insular, parietotemporal opercular and frontotemporal opercular (JB76a, KCTEC95, MM82)"
     ]
    },
    {
     "cell_type": "markdown",
     "metadata": {},
     "source": [
      "JB76a, KCTECT95 --> somatosensory lateral sulcus,  MM82--> just insula, KK90 (missing))"
     ]
    },
    {
     "cell_type": "code",
     "collapsed": false,
     "input": [
      "insula_soma_lateral_nodes=['JB76A-ID', 'JB76A-SII', 'JB76A-RL', 'JB76A-AI', 'JB76A-SI', 'JB76A-RI', 'JB76A-3A', 'JB76A-3B', 'KCTEC95-VS', 'KCTEC95-SI', 'KCTEC95-SII', 'MM82A-SI', 'MM82B-SI', 'MM82C-SI', 'MM82A-SII', 'MM82B-SII', 'MM82C-SII',  'MM82A-IG', 'MM82A-INS', 'MM82A-AI', 'MM82B-AI', 'MM82C-AI', 'MM82A-AII', 'MM82B-AII', 'MM82C-AII', 'MM82A-G', 'KCTEC95-7B', 'KCTEC95-7A', 'JB76A-5', 'KCTEC95-5']\n",
      "insula_soma_lateral_nodes_removed= ['JB76A-PI', 'JB76A-7', 'JB76A-IA', 'JB76A-J', 'JB76A-IG', 'KCTEC95-PV', 'JB76A-G', 'JB76A-7B', 'JB76A-7A']"
     ],
     "language": "python",
     "metadata": {},
     "outputs": [],
     "prompt_number": 114
    },
    {
     "cell_type": "markdown",
     "metadata": {},
     "source": [
      "#Parahippocampal regions (BR98)"
     ]
    },
    {
     "cell_type": "code",
     "collapsed": false,
     "input": [
      "# BR98 returns no con edges\n",
      "# BB47-TF is I with a host of others but it does not have area TL, which YP paper has, so lets go with BR98, \n",
      "#parahipp_nodes=['BR98-TH', 'BR98-TL', 'BR98-TF', 'BR98-28', 'BR98-35']\n",
      "parahipp_nodes=['BB47-TF', 'BB47-TH', 'PHT00-35', 'PHT00-TL', 'LV00A-ER']"
     ],
     "language": "python",
     "metadata": {},
     "outputs": [],
     "prompt_number": 119
    },
    {
     "cell_type": "markdown",
     "metadata": {},
     "source": [
      "#Occipital regions (FV91 not, PHT00)"
     ]
    },
    {
     "cell_type": "code",
     "collapsed": false,
     "input": [
      "occipital_nodes=['FV91-V1', 'FV91-V2', 'FV91-V3', 'FV91-V4']"
     ],
     "language": "python",
     "metadata": {},
     "outputs": [],
     "prompt_number": 116
    },
    {
     "cell_type": "markdown",
     "metadata": {},
     "source": [
      "#Motor regions ?"
     ]
    },
    {
     "cell_type": "code",
     "collapsed": false,
     "input": [
      "motor_nodes= ['PS82-1', 'PS82-2'] #before checking the deduced map list, there are not very many integrated areas 1 and 2, B05 is for sure too L."
     ],
     "language": "python",
     "metadata": {},
     "outputs": [],
     "prompt_number": 117
    },
    {
     "cell_type": "markdown",
     "metadata": {},
     "source": [
      "#Combine all nodes"
     ]
    },
    {
     "cell_type": "code",
     "collapsed": false,
     "input": [
      "piecemeal_nodelist= PFC_nodes+PMC_nodes+cingulate_nodes+insula_soma_lateral_nodes+parietal_nodes+sts_nodes+stp_nodes+occipital_nodes+motor_nodes+it_nodes+parahipp_nodes"
     ],
     "language": "python",
     "metadata": {},
     "outputs": [],
     "prompt_number": 120
    },
    {
     "cell_type": "markdown",
     "metadata": {},
     "source": [
      "#Prep for hybrid list"
     ]
    },
    {
     "cell_type": "code",
     "collapsed": false,
     "input": [
      "hybrid_list=[]\n",
      "for x in piecemeal_nodelist:\n",
      "    hybrid_list.append(\"HYBRID13-\" + x.split('-')[1])"
     ],
     "language": "python",
     "metadata": {},
     "outputs": [],
     "prompt_number": 121
    },
    {
     "cell_type": "markdown",
     "metadata": {},
     "source": [
      "#Add intra-map connections"
     ]
    },
    {
     "cell_type": "code",
     "collapsed": false,
     "input": [
      "intramap_mapgraph=coco.MapGraph()\n",
      "h_intramap_mapgraph=coco.MapGraph()\n",
      "for x,y in mapg.edges_iter():\n",
      "    if x in piecemeal_nodelist and x.split('-')[0]==y.split('-')[0]:\n",
      "        intramap_mapgraph.add_edge(x,y,mapg.edge[x][y]['RC'],mapg.edge[x][y]['PDC'])\n",
      "        h_intramap_mapgraph.add_edge('HYBRID13-'+x.split('-')[1], 'HYBRID13-'+y.split('-')[1],mapg.edge[x][y]['RC'],mapg.edge[x][y]['PDC'])\n"
     ],
     "language": "python",
     "metadata": {},
     "outputs": [],
     "prompt_number": 122
    },
    {
     "cell_type": "code",
     "collapsed": false,
     "input": [
      "h_intramap_mapgraph.edge"
     ],
     "language": "python",
     "metadata": {},
     "outputs": [
      {
       "output_type": "pyout",
       "prompt_number": 123,
       "text": [
        "{'HYBRID13-1': {'HYBRID13-SI': {'PDC': 0, 'RC': 'S', 'TP': []}},\n",
        " 'HYBRID13-2': {'HYBRID13-SI': {'PDC': 0, 'RC': 'S', 'TP': []}},\n",
        " 'HYBRID13-23': {'HYBRID13-23A': {'PDC': 2, 'RC': 'L', 'TP': []},\n",
        "  'HYBRID13-23B': {'PDC': 2, 'RC': 'L', 'TP': []},\n",
        "  'HYBRID13-23C': {'PDC': 2, 'RC': 'L', 'TP': []}},\n",
        " 'HYBRID13-23A': {'HYBRID13-23': {'PDC': 2, 'RC': 'S', 'TP': []}},\n",
        " 'HYBRID13-23B': {'HYBRID13-23': {'PDC': 2, 'RC': 'S', 'TP': []}},\n",
        " 'HYBRID13-23C': {'HYBRID13-23': {'PDC': 2, 'RC': 'S', 'TP': []}},\n",
        " 'HYBRID13-24': {'HYBRID13-24A': {'PDC': 2, 'RC': 'L', 'TP': []},\n",
        "  'HYBRID13-24B': {'PDC': 2, 'RC': 'L', 'TP': []},\n",
        "  'HYBRID13-24C': {'PDC': 2, 'RC': 'L', 'TP': []}},\n",
        " 'HYBRID13-24A': {'HYBRID13-24': {'PDC': 2, 'RC': 'S', 'TP': []}},\n",
        " 'HYBRID13-24B': {'HYBRID13-24': {'PDC': 2, 'RC': 'S', 'TP': []}},\n",
        " 'HYBRID13-24C': {'HYBRID13-24': {'PDC': 2, 'RC': 'S', 'TP': []}},\n",
        " 'HYBRID13-29': {'HYBRID13-29A': {'PDC': 2, 'RC': 'L', 'TP': []},\n",
        "  'HYBRID13-29B': {'PDC': 2, 'RC': 'L', 'TP': []},\n",
        "  'HYBRID13-29C': {'PDC': 2, 'RC': 'L', 'TP': []},\n",
        "  'HYBRID13-29D': {'PDC': 2, 'RC': 'L', 'TP': []}},\n",
        " 'HYBRID13-29A': {'HYBRID13-29': {'PDC': 2, 'RC': 'S', 'TP': []}},\n",
        " 'HYBRID13-29B': {'HYBRID13-29': {'PDC': 2, 'RC': 'S', 'TP': []}},\n",
        " 'HYBRID13-29C': {'HYBRID13-29': {'PDC': 2, 'RC': 'S', 'TP': []}},\n",
        " 'HYBRID13-29D': {'HYBRID13-29': {'PDC': 2, 'RC': 'S', 'TP': []}},\n",
        " 'HYBRID13-3B': {'HYBRID13-SI': {'PDC': 2, 'RC': 'S', 'TP': []}},\n",
        " 'HYBRID13-45': {'HYBRID13-45A': {'PDC': 2, 'RC': 'L', 'TP': []},\n",
        "  'HYBRID13-45B': {'PDC': 2, 'RC': 'L', 'TP': []}},\n",
        " 'HYBRID13-45A': {'HYBRID13-45': {'PDC': 2, 'RC': 'S', 'TP': []}},\n",
        " 'HYBRID13-45B': {'HYBRID13-45': {'PDC': 2, 'RC': 'S', 'TP': []}},\n",
        " 'HYBRID13-47/12': {'HYBRID13-47/12(L)': {'PDC': 2, 'RC': 'L', 'TP': []},\n",
        "  'HYBRID13-47/12(O)': {'PDC': 2, 'RC': 'L', 'TP': []}},\n",
        " 'HYBRID13-47/12(L)': {'HYBRID13-47/12': {'PDC': 2, 'RC': 'S', 'TP': []}},\n",
        " 'HYBRID13-47/12(O)': {'HYBRID13-47/12': {'PDC': 2, 'RC': 'S', 'TP': []}},\n",
        " 'HYBRID13-8': {'HYBRID13-8A': {'PDC': 2, 'RC': 'L', 'TP': []},\n",
        "  'HYBRID13-8B': {'PDC': 2, 'RC': 'L', 'TP': []}},\n",
        " 'HYBRID13-8A': {'HYBRID13-8': {'PDC': 2, 'RC': 'S', 'TP': []},\n",
        "  'HYBRID13-8AD': {'PDC': 2, 'RC': 'L', 'TP': []},\n",
        "  'HYBRID13-8AV': {'PDC': 2, 'RC': 'L', 'TP': []}},\n",
        " 'HYBRID13-8AD': {'HYBRID13-8A': {'PDC': 2, 'RC': 'S', 'TP': []}},\n",
        " 'HYBRID13-8AV': {'HYBRID13-8A': {'PDC': 2, 'RC': 'S', 'TP': []}},\n",
        " 'HYBRID13-8B': {'HYBRID13-8': {'PDC': 2, 'RC': 'S', 'TP': []}},\n",
        " 'HYBRID13-9/46': {'HYBRID13-9/46D': {'PDC': 2, 'RC': 'L', 'TP': []},\n",
        "  'HYBRID13-9/46V': {'PDC': 2, 'RC': 'L', 'TP': []}},\n",
        " 'HYBRID13-9/46D': {'HYBRID13-9/46': {'PDC': 2, 'RC': 'S', 'TP': []}},\n",
        " 'HYBRID13-9/46V': {'HYBRID13-9/46': {'PDC': 2, 'RC': 'S', 'TP': []}},\n",
        " 'HYBRID13-AI': {'HYBRID13-STP': {'PDC': 2, 'RC': 'S', 'TP': []}},\n",
        " 'HYBRID13-AII': {'HYBRID13-STP': {'PDC': 2, 'RC': 'S', 'TP': []}},\n",
        " 'HYBRID13-G': {'HYBRID13-OFO': {'PDC': 2, 'RC': 'I', 'TP': []}},\n",
        " 'HYBRID13-IA': {'HYBRID13-INS': {'PDC': 2, 'RC': 'S', 'TP': []}},\n",
        " 'HYBRID13-IDG': {'HYBRID13-INS': {'PDC': 2, 'RC': 'S', 'TP': []}},\n",
        " 'HYBRID13-IG': {'HYBRID13-INS': {'PDC': 2, 'RC': 'S', 'TP': []}},\n",
        " 'HYBRID13-INS': {'HYBRID13-IA': {'PDC': 2, 'RC': 'L', 'TP': []},\n",
        "  'HYBRID13-IDG': {'PDC': 2, 'RC': 'L', 'TP': []},\n",
        "  'HYBRID13-IG': {'PDC': 2, 'RC': 'L', 'TP': []}},\n",
        " 'HYBRID13-MT': {'HYBRID13-MT*': {'PDC': 2, 'RC': 'I', 'TP': []}},\n",
        " 'HYBRID13-MT*': {'HYBRID13-MT': {'PDC': 2, 'RC': 'I', 'TP': []}},\n",
        " 'HYBRID13-OFO': {'HYBRID13-G': {'PDC': 2, 'RC': 'I', 'TP': []}},\n",
        " 'HYBRID13-SI': {'HYBRID13-1': {'PDC': 0, 'RC': 'L', 'TP': []},\n",
        "  'HYBRID13-2': {'PDC': 0, 'RC': 'L', 'TP': []},\n",
        "  'HYBRID13-3B': {'PDC': 2, 'RC': 'L', 'TP': []}},\n",
        " 'HYBRID13-STP': {'HYBRID13-AI': {'PDC': 2, 'RC': 'L', 'TP': []},\n",
        "  'HYBRID13-AII': {'PDC': 2, 'RC': 'L', 'TP': []}},\n",
        " 'HYBRID13-V2': {'HYBRID13-V2D': {'PDC': 14, 'RC': 'L', 'TP': []}},\n",
        " 'HYBRID13-V2D': {'HYBRID13-V2': {'PDC': 14, 'RC': 'S', 'TP': []}},\n",
        " 'HYBRID13-V4': {'HYBRID13-V4V': {'PDC': 14, 'RC': 'L', 'TP': []}},\n",
        " 'HYBRID13-V4V': {'HYBRID13-V4': {'PDC': 14, 'RC': 'S', 'TP': []}}}"
       ]
      }
     ],
     "prompt_number": 123
    },
    {
     "cell_type": "code",
     "collapsed": false,
     "input": [
      "from_intramap_nodes=[]\n",
      "hybrid_from_intramap_nodes=[]\n",
      "for x in intramap_mapgraph.nodes_iter():\n",
      "    if x not in piecemeal_nodelist:\n",
      "        from_intramap_nodes.append(x)\n",
      "        hybrid_from_intramap_nodes.append('HYBRID13-'+x.split('-')[1])\n",
      "    "
     ],
     "language": "python",
     "metadata": {},
     "outputs": [],
     "prompt_number": 124
    },
    {
     "cell_type": "code",
     "collapsed": false,
     "input": [
      "from_intramap_nodes"
     ],
     "language": "python",
     "metadata": {},
     "outputs": [
      {
       "output_type": "pyout",
       "prompt_number": 125,
       "text": [
        "['MM82A-OFO',\n",
        " 'UD86A-MT*',\n",
        " 'JB76A-1',\n",
        " 'JB76A-2',\n",
        " 'MM82A-2',\n",
        " 'MM82A-1',\n",
        " 'MM82A-IDG',\n",
        " 'FV91-V4V',\n",
        " 'FV91-V2D',\n",
        " 'MM82A-STP',\n",
        " 'MM82A-IA-P']"
       ]
      }
     ],
     "prompt_number": 125
    },
    {
     "cell_type": "markdown",
     "metadata": {},
     "source": [
      "#Testing Hybrid edges "
     ]
    },
    {
     "cell_type": "code",
     "collapsed": false,
     "input": [
      "hybrid_edges = [('PP94-47/12(O)','HYBRID13-47/12(O)',  {'RC': 'I', 'PDC' : 2}),\n",
      "\t\t\t\t\t( 'PP94-9/46D', 'HYBRID13-9/46D',  {'RC': 'I', 'PDC' : 2}),\n",
      "\t\t\t\t\t( 'PP94-9/46V', 'HYBRID13-9/46V',  {'RC': 'I', 'PDC' : 2}),\n",
      "\t\t\t\t\t( 'PP94-14', 'HYBRID13-14',  {'RC': 'I', 'PDC' : 2}),\n",
      "\t\t\t\t\t( 'PP94-10', 'HYBRID13-10',  {'RC': 'I', 'PDC' : 2}),\n",
      "\t\t\t\t\t( 'PP94-11', 'HYBRID13-11',  {'RC': 'I', 'PDC' : 2}),\n",
      "\t\t\t\t\t( 'PP94-13', 'HYBRID13-13',  {'RC': 'I', 'PDC' : 2}),\n",
      "\t\t\t\t\t( 'PP94-46', 'HYBRID13-46',  {'RC': 'I', 'PDC' : 2}),\n",
      "\t\t\t\t\t( 'PP94-45B', 'HYBRID13-45B',  {'RC': 'I', 'PDC' : 2}),\n",
      "\t\t\t\t\t( 'PP94-45A', 'HYBRID13-45A',  {'RC': 'I', 'PDC' : 2}),\n",
      "\t\t\t\t\t( 'PP94-47/12(L)', 'HYBRID13-47/12(L)',  {'RC': 'I', 'PDC' : 2}),\n",
      "\t\t\t\t\t( 'PP94-47/12', 'HYBRID13-47/12',  {'RC': 'I', 'PDC' : 2}),\n",
      "\t\t\t\t\t( 'PP94-8AD', 'HYBRID13-8AD',  {'RC': 'I', 'PDC' : 2}),\n",
      "\t\t\t\t\t( 'PP94-8AV', 'HYBRID13-8AV',  {'RC': 'I', 'PDC' : 2}),\n",
      "\t\t\t\t\t( 'PP94-8', 'HYBRID13-8',  {'RC': 'I', 'PDC' : 2}),\n",
      "\t\t\t\t\t( 'PP94-9', 'HYBRID13-9',  {'RC': 'I', 'PDC' : 2}),\n",
      "\t\t\t\t\t( 'PP94-45', 'HYBRID13-45',  {'RC': 'I', 'PDC' : 2}),\n",
      "\t\t\t\t\t( 'PP94-44', 'HYBRID13-44',  {'RC': 'I', 'PDC' : 2}),\n",
      "\t\t\t\t\t( 'PP94-9/46', 'HYBRID13-9/46',  {'RC': 'I', 'PDC' : 2}),\n",
      "\t\t\t\t\t( 'PP94-8B', 'HYBRID13-8B',  {'RC': 'I', 'PDC' : 2}),\n",
      "\t\t\t\t\t( 'PP94-8A', 'HYBRID13-8A',  {'RC': 'I', 'PDC' : 2}),\n",
      "\t\t\t\t\t( 'PP94-32', 'HYBRID13-32',  {'RC': 'I', 'PDC' : 2}),\n",
      "\t\t\t\t\t( 'PP94-G', 'HYBRID13-G',  {'RC': 'I', 'PDC' : 2}),\n",
      "\t\t\t\t\t( 'BP87-MII', 'HYBRID13-MII',  {'RC': 'I', 'PDC' : 2}),\n",
      "\t\t\t\t\t( 'BP87-6DR', 'HYBRID13-6DR',  {'RC': 'I', 'PDC' : 2}),\n",
      "\t\t\t\t\t( 'BP87-6DC', 'HYBRID13-6DC',  {'RC': 'I', 'PDC' : 2}),\n",
      "\t\t\t\t\t( 'BP87-6VB', 'HYBRID13-6VB',  {'RC': 'I', 'PDC' : 2}),\n",
      "\t\t\t\t\t( 'BP87-6VA', 'HYBRID13-6VA',  {'RC': 'I', 'PDC' : 2}),\n",
      "\t\t\t\t\t( 'BP87-PROM', 'HYBRID13-PROM',  {'RC': 'I', 'PDC' : 2}),\n",
      "\t\t\t\t\t( 'VPR87-23', 'HYBRID13-23',  {'RC': 'I', 'PDC' : 2}),\n",
      "\t\t\t\t\t( 'VPR87-24', 'HYBRID13-24',  {'RC': 'I', 'PDC' : 2}),\n",
      "\t\t\t\t\t( 'VPR87-23C', 'HYBRID13-23C',  {'RC': 'I', 'PDC' : 2}),\n",
      "\t\t\t\t\t( 'VPR87-23A', 'HYBRID13-23A',  {'RC': 'I', 'PDC' : 2}),\n",
      "\t\t\t\t\t( 'VPR87-23B', 'HYBRID13-23B',  {'RC': 'I', 'PDC' : 2}),\n",
      "\t\t\t\t\t( 'VPR87-31', 'HYBRID13-31',  {'RC': 'I', 'PDC' : 2}),\n",
      "\t\t\t\t\t( 'VPR87-30', 'HYBRID13-30',  {'RC': 'I', 'PDC' : 2}),\n",
      "\t\t\t\t\t( 'VPR87-29A', 'HYBRID13-29A',  {'RC': 'I', 'PDC' : 2}),\n",
      "\t\t\t\t\t( 'VPR87-29B', 'HYBRID13-29B',  {'RC': 'I', 'PDC' : 2}),\n",
      "\t\t\t\t\t( 'VPR87-29C', 'HYBRID13-29C',  {'RC': 'I', 'PDC' : 2}),\n",
      "\t\t\t\t\t( 'VPR87-29D', 'HYBRID13-29D',  {'RC': 'I', 'PDC' : 2}),\n",
      "\t\t\t\t\t( 'VPR87-24B', 'HYBRID13-24B',  {'RC': 'I', 'PDC' : 2}),\n",
      "\t\t\t\t\t( 'VPR87-24C', 'HYBRID13-24C',  {'RC': 'I', 'PDC' : 2}),\n",
      "\t\t\t\t\t( 'VPR87-24A', 'HYBRID13-24A',  {'RC': 'I', 'PDC' : 2}),\n",
      "\t\t\t\t\t( 'VPR87-29', 'HYBRID13-29',  {'RC': 'I', 'PDC' : 2}),\n",
      "\t\t\t\t\t( 'PP94-25', 'HYBRID13-25',  {'RC': 'I', 'PDC' : 2}),\n",
      "\t\t\t\t\t( 'PP94-24', 'HYBRID13-24',  {'RC': 'I', 'PDC' : 2}),\n",
      "\t\t\t\t\t( 'JB76A-ID', 'HYBRID13-ID',  {'RC': 'I', 'PDC' : 2}),\n",
      "\t\t\t\t\t( 'JB76A-SII', 'HYBRID13-SII',  {'RC': 'I', 'PDC' : 2}),\n",
      "\t\t\t\t\t( 'JB76A-RL', 'HYBRID13-RL',  {'RC': 'I', 'PDC' : 2}),\n",
      "\t\t\t\t\t( 'JB76A-AI', 'HYBRID13-AI',  {'RC': 'I', 'PDC' : 2}),\n",
      "\t\t\t\t\t( 'JB76A-SI', 'HYBRID13-SI',  {'RC': 'I', 'PDC' : 2}),\n",
      "\t\t\t\t\t( 'JB76A-RI', 'HYBRID13-RI',  {'RC': 'I', 'PDC' : 2}),\n",
      "\t\t\t\t\t( 'JB76A-3A', 'HYBRID13-3A',  {'RC': 'I', 'PDC' : 2}),\n",
      "\t\t\t\t\t( 'JB76A-3B', 'HYBRID13-3B',  {'RC': 'I', 'PDC' : 2}),\n",
      "\t\t\t\t\t( 'KCTEC95-VS', 'HYBRID13-VS',  {'RC': 'I', 'PDC' : 2}),\n",
      "\t\t\t\t\t( 'KCTEC95-SI', 'HYBRID13-SI',  {'RC': 'I', 'PDC' : 2}),\n",
      "\t\t\t\t\t( 'KCTEC95-SII', 'HYBRID13-SII',  {'RC': 'I', 'PDC' : 2}),\n",
      "\t\t\t\t\t( 'MM82A-SI', 'HYBRID13-SI',  {'RC': 'I', 'PDC' : 2}),\n",
      "\t\t\t\t\t( 'MM82B-SI', 'HYBRID13-SI',  {'RC': 'I', 'PDC' : 2}),\n",
      "\t\t\t\t\t( 'MM82C-SI', 'HYBRID13-SI',  {'RC': 'I', 'PDC' : 2}),\n",
      "\t\t\t\t\t( 'MM82A-SII', 'HYBRID13-SII',  {'RC': 'I', 'PDC' : 2}),\n",
      "\t\t\t\t\t( 'MM82B-SII', 'HYBRID13-SII',  {'RC': 'I', 'PDC' : 2}),\n",
      "\t\t\t\t\t( 'MM82C-SII', 'HYBRID13-SII',  {'RC': 'I', 'PDC' : 2}),\n",
      "\t\t\t\t\t( 'MM82A-IG', 'HYBRID13-IG',  {'RC': 'I', 'PDC' : 2}),\n",
      "\t\t\t\t\t( 'MM82A-INS', 'HYBRID13-INS',  {'RC': 'I', 'PDC' : 2}),\n",
      "\t\t\t\t\t( 'MM82A-AI', 'HYBRID13-AI',  {'RC': 'I', 'PDC' : 2}),\n",
      "\t\t\t\t\t( 'MM82B-AI', 'HYBRID13-AI',  {'RC': 'I', 'PDC' : 2}),\n",
      "\t\t\t\t\t( 'MM82C-AI', 'HYBRID13-AI',  {'RC': 'I', 'PDC' : 2}),\n",
      "\t\t\t\t\t( 'MM82A-AII', 'HYBRID13-AII',  {'RC': 'I', 'PDC' : 2}),\n",
      "\t\t\t\t\t( 'MM82B-AII', 'HYBRID13-AII',  {'RC': 'I', 'PDC' : 2}),\n",
      "\t\t\t\t\t( 'MM82C-AII', 'HYBRID13-AII',  {'RC': 'I', 'PDC' : 2}),\n",
      "\t\t\t\t\t( 'MM82A-G', 'HYBRID13-G',  {'RC': 'I', 'PDC' : 2}),\n",
      "\t\t\t\t\t( 'KCTEC95-7B', 'HYBRID13-7B',  {'RC': 'I', 'PDC' : 2}),\n",
      "\t\t\t\t\t( 'KCTEC95-7A', 'HYBRID13-7A',  {'RC': 'I', 'PDC' : 2}),\n",
      "\t\t\t\t\t( 'JB76A-5', 'HYBRID13-5',  {'RC': 'I', 'PDC' : 2}),\n",
      "\t\t\t\t\t( 'KCTEC95-5', 'HYBRID13-5',  {'RC': 'I', 'PDC' : 2}),\n",
      "\t\t\t\t\t( 'PS82-PFOP', 'HYBRID13-PFOP',  {'RC': 'I', 'PDC' : 2}),\n",
      "\t\t\t\t\t( 'PS82-PEA', 'HYBRID13-PEA',  {'RC': 'I', 'PDC' : 2}),\n",
      "\t\t\t\t\t( 'PS82-PEC', 'HYBRID13-PEC',  {'RC': 'I', 'PDC' : 2}),\n",
      "\t\t\t\t\t( 'PS82-PGOP', 'HYBRID13-PGOP',  {'RC': 'I', 'PDC' : 2}),\n",
      "\t\t\t\t\t( 'PS82-PFG', 'HYBRID13-PFG',  {'RC': 'I', 'PDC' : 2}),\n",
      "\t\t\t\t\t( 'PS82-PE', 'HYBRID13-PE',  {'RC': 'I', 'PDC' : 2}),\n",
      "\t\t\t\t\t( 'PS82-PF', 'HYBRID13-PF',  {'RC': 'I', 'PDC' : 2}),\n",
      "\t\t\t\t\t( 'PS82-POA', 'HYBRID13-POA',  {'RC': 'I', 'PDC' : 2}),\n",
      "\t\t\t\t\t( 'PS82-PGM', 'HYBRID13-PGM',  {'RC': 'I', 'PDC' : 2}),\n",
      "\t\t\t\t\t( 'PS82-OPT', 'HYBRID13-OPT',  {'RC': 'I', 'PDC' : 2}),\n",
      "\t\t\t\t\t( 'PS82-PECI', 'HYBRID13-PECI',  {'RC': 'I', 'PDC' : 2}),\n",
      "\t\t\t\t\t( 'SP78-PG', 'HYBRID13-PG',  {'RC': 'I', 'PDC' : 2}),\n",
      "\t\t\t\t\t( 'SP78-TS1', 'HYBRID13-TS1',  {'RC': 'I', 'PDC' : 2}),\n",
      "\t\t\t\t\t( 'SP78-TS2', 'HYBRID13-TS2',  {'RC': 'I', 'PDC' : 2}),\n",
      "\t\t\t\t\t( 'SP78-TS3', 'HYBRID13-TS3',  {'RC': 'I', 'PDC' : 2}),\n",
      "\t\t\t\t\t( 'SP78-PAALT', 'HYBRID13-PAALT',  {'RC': 'I', 'PDC' : 2}),\n",
      "\t\t\t\t\t( 'SP78-TPT', 'HYBRID13-TPT',  {'RC': 'I', 'PDC' : 2}),\n",
      "\t\t\t\t\t( 'SP78-TAA', 'HYBRID13-TAA',  {'RC': 'I', 'PDC' : 2}),\n",
      "\t\t\t\t\t( 'SP78-TPO', 'HYBRID13-TPO',  {'RC': 'I', 'PDC' : 2}),\n",
      "\t\t\t\t\t( 'SP78-TEA', 'HYBRID13-TEA',  {'RC': 'I', 'PDC' : 2}),\n",
      "\t\t\t\t\t( 'SP78-TEM', 'HYBRID13-TEM',  {'RC': 'I', 'PDC' : 2}),\n",
      "\t\t\t\t\t( 'SP78-IPA', 'HYBRID13-IPA',  {'RC': 'I', 'PDC' : 2}),\n",
      "\t\t\t\t\t( 'SP78-PGA', 'HYBRID13-PGA',  {'RC': 'I', 'PDC' : 2}),\n",
      "\t\t\t\t\t( 'SP78-PRO', 'HYBRID13-PRO',  {'RC': 'I', 'PDC' : 2}),\n",
      "\t\t\t\t\t( 'UD86B-MST', 'HYBRID13-MST',  {'RC': 'I', 'PDC' : 2}),\n",
      "\t\t\t\t\t( 'UD86B-FST', 'HYBRID13-FST',  {'RC': 'I', 'PDC' : 2}),\n",
      "\t\t\t\t\t( 'UD86A-MST', 'HYBRID13-MST',  {'RC': 'I', 'PDC' : 2}),\n",
      "\t\t\t\t\t( 'UD86A-FST', 'HYBRID13-FST',  {'RC': 'I', 'PDC' : 2}),\n",
      "\t\t\t\t\t( 'PS73-TS3', 'HYBRID13-TS3',  {'RC': 'I', 'PDC' : 2}),\n",
      "\t\t\t\t\t( 'PS73-TS2', 'HYBRID13-TS2',  {'RC': 'I', 'PDC' : 2}),\n",
      "\t\t\t\t\t( 'PS73-TS1', 'HYBRID13-TS1',  {'RC': 'I', 'PDC' : 2}),\n",
      "\t\t\t\t\t( 'PS73-PRO', 'HYBRID13-PRO',  {'RC': 'I', 'PDC' : 2}),\n",
      "\t\t\t\t\t( 'PS73-PAALT', 'HYBRID13-PAALT',  {'RC': 'I', 'PDC' : 2}),\n",
      "\t\t\t\t\t( 'PS73-TPT', 'HYBRID13-TPT',  {'RC': 'I', 'PDC' : 2}),\n",
      "\t\t\t\t\t( 'PS73-PAAC', 'HYBRID13-PAAC',  {'RC': 'I', 'PDC' : 2}),\n",
      "\t\t\t\t\t( 'PS73-PAAR', 'HYBRID13-PAAR',  {'RC': 'I', 'PDC' : 2}),\n",
      "\t\t\t\t\t( 'PS73-PAI', 'HYBRID13-PAI',  {'RC': 'I', 'PDC' : 2}),\n",
      "\t\t\t\t\t( 'PS73-PROA', 'HYBRID13-PROA',  {'RC': 'I', 'PDC' : 2}),\n",
      "\t\t\t\t\t( 'FV91-V1', 'HYBRID13-V1',  {'RC': 'I', 'PDC' : 2}),\n",
      "\t\t\t\t\t( 'FV91-V2', 'HYBRID13-V2',  {'RC': 'I', 'PDC' : 2}),\n",
      "\t\t\t\t\t( 'FV91-V3', 'HYBRID13-V3',  {'RC': 'I', 'PDC' : 2}),\n",
      "\t\t\t\t\t( 'FV91-V4', 'HYBRID13-V4',  {'RC': 'I', 'PDC' : 2}),\n",
      "\t\t\t\t\t( 'PS82-1', 'HYBRID13-1',  {'RC': 'I', 'PDC' : 2}),\n",
      "\t\t\t\t\t( 'PS82-2', 'HYBRID13-2',  {'RC': 'I', 'PDC' : 2}),\n",
      "\t\t\t\t\t( 'SP78-TE1', 'HYBRID13-TE1', {'RC': 'I', 'PDC' : 2}),\n",
      "\t\t\t\t\t( 'SP78-TE2', 'HYBRID13-TE2', {'RC': 'I', 'PDC' : 2}),\n",
      "\t\t\t\t\t( 'SP78-TE3', 'HYBRID13-TE3', {'RC': 'I', 'PDC' : 2}),\n",
      "\t\t\t\t\t( 'UD86A-MT', 'HYBRID13-MT', {'RC': 'I', 'PDC' : 2}),\n",
      "\t\t\t\t\t( 'UD86B-MT', 'HYBRID13-MT', {'RC': 'I', 'PDC' : 2}),\n",
      "                    ( 'BB47-TF', 'HYBRID13-TF', {'RC': 'I', 'PDC' : 2}),\n",
      "                    ( 'BB47-TH', 'HYBRID13-TH', {'RC': 'I', 'PDC' : 2}),\n",
      "                    ( 'PHT00-35', 'HYBRID13-35', {'RC': 'I', 'PDC' : 2}),\n",
      "                    ( 'PHT00-TL','HYBRID13-TL', {'RC': 'I', 'PDC' : 2}),\n",
      "                    ( 'LV00A-ER', 'HYBRID13-ER', {'RC': 'I', 'PDC' : 2}),\n",
      "\t\t\t\t\t#I relations added because intra-map relations introduce new nodes\n",
      "\t\t\t\t\t( 'MM82A-OFO', 'HYBRID13-OFO', {'RC': 'I', 'PDC' : 2}),\n",
      "\t\t\t\t\t( 'UD86A-MT*', 'HYBRID13-MT*', {'RC': 'I', 'PDC' : 2}),\n",
      "\t\t\t\t\t( 'JB76A-1', 'HYBRID13-1', {'RC': 'I', 'PDC' : 2}),\n",
      "\t\t\t\t\t( 'JB76A-2', 'HYBRID13-2', {'RC': 'I', 'PDC' : 2}),\n",
      "\t\t\t\t\t( 'MM82A-2', 'HYBRID13-2', {'RC': 'I', 'PDC' : 2}),\n",
      " \t\t\t\t\t( 'MM82A-1', 'HYBRID13-1', {'RC': 'I', 'PDC' : 2}),\n",
      " \t\t\t\t\t( 'MM82A-IDG' 'HYBRID13-IDG', {'RC': 'I', 'PDC' : 2}),\t\t\t\t\n",
      " \t\t\t\t\t( 'FV91-V4V', 'HYBRID13-V4V', {'RC': 'I', 'PDC' : 2}),\n",
      " \t\t\t\t\t( 'FV91-V2D', 'HYBRID13-V2D', {'RC': 'I', 'PDC' : 2}),\n",
      " \t\t\t\t\t( 'MM82A-STP', 'HYBRID13-STP', {'RC': 'I', 'PDC' : 2}),\n",
      " \t\t\t\t\t( 'MM82A-IA-P', 'HYBRID13-IA-P', {'RC': 'I', 'PDC' : 2}),\n",
      "\t\t\t\t\t#Intra-map relations\n",
      "\t\t\t\t\t( 'HYBRID13-1', 'HYBRID13-SI', {'PDC': 0, 'RC': 'S', 'TP': []}),\n",
      "\t\t\t\t\t( 'HYBRID13-2', 'HYBRID13-SI', {'PDC': 0, 'RC': 'S', 'TP': []}),\n",
      "\t\t\t\t\t( 'HYBRID13-23', 'HYBRID13-23A', {'PDC': 2, 'RC': 'L', 'TP': []}),\n",
      "\t\t\t\t\t( 'HYBRID13-23', 'HYBRID13-23B', {'PDC': 2, 'RC': 'L', 'TP': []}),\n",
      "\t\t\t\t\t( 'HYBRID13-23', 'HYBRID13-23C', {'PDC': 2, 'RC': 'L', 'TP': []}),\n",
      "\t\t\t\t\t( 'HYBRID13-23A', 'HYBRID13-23', {'PDC': 2, 'RC': 'S', 'TP': []}),\n",
      "\t\t\t\t\t( 'HYBRID13-23B', 'HYBRID13-23', {'PDC': 2, 'RC': 'S', 'TP': []}),\n",
      "\t\t\t\t\t( 'HYBRID13-23C', 'HYBRID13-23', {'PDC': 2, 'RC': 'S', 'TP': []}),\n",
      "\t\t\t\t\t( 'HYBRID13-24', 'HYBRID13-24A', {'PDC': 2, 'RC': 'L', 'TP': []}),\n",
      "\t\t\t\t\t( 'HYBRID13-24', 'HYBRID13-24B', {'PDC': 2, 'RC': 'L', 'TP': []}),\n",
      "\t\t\t\t\t( 'HYBRID13-24', 'HYBRID13-24C', {'PDC': 2, 'RC': 'L', 'TP': []}),\n",
      "\t\t\t\t\t( 'HYBRID13-24A', 'HYBRID13-24', {'PDC': 2, 'RC': 'S', 'TP': []}),\n",
      "\t\t\t\t\t( 'HYBRID13-24B', 'HYBRID13-24', {'PDC': 2, 'RC': 'S', 'TP': []}),\n",
      "\t\t\t\t\t( 'HYBRID13-24C', 'HYBRID13-24', {'PDC': 2, 'RC': 'S', 'TP': []}),\t\t\t\t\t\n",
      "\t\t\t\t\t( 'HYBRID13-29', 'HYBRID13-29A', {'PDC': 2, 'RC': 'L', 'TP': []}),\n",
      "\t\t\t\t\t( 'HYBRID13-29', 'HYBRID13-29B', {'PDC': 2, 'RC': 'L', 'TP': []}),\n",
      "\t\t\t\t\t( 'HYBRID13-29', 'HYBRID13-29C', {'PDC': 2, 'RC': 'L', 'TP': []}),\n",
      "\t\t\t\t\t( 'HYBRID13-29', 'HYBRID13-29D', {'PDC': 2, 'RC': 'L', 'TP': []}),\n",
      "\t\t\t\t\t( 'HYBRID13-29A', 'HYBRID13-29', {'PDC': 2, 'RC': 'S', 'TP': []}),\n",
      "\t\t\t\t\t( 'HYBRID13-29B', 'HYBRID13-29', {'PDC': 2, 'RC': 'S', 'TP': []}),\n",
      "\t\t\t\t\t( 'HYBRID13-29C', 'HYBRID13-29', {'PDC': 2, 'RC': 'S', 'TP': []}),\n",
      "\t\t\t\t\t( 'HYBRID13-29D', 'HYBRID13-29', {'PDC': 2, 'RC': 'S', 'TP': []}),\n",
      "\t\t\t\t\t( 'HYBRID13-3B', 'HYBRID13-SI', {'PDC': 2, 'RC': 'S', 'TP': []}),\n",
      "\t\t\t\t\t( 'HYBRID13-45', 'HYBRID13-45A', {'PDC': 2, 'RC': 'L', 'TP': []}),\n",
      "\t\t\t\t\t( 'HYBRID13-45','HYBRID13-45B', {'PDC': 2, 'RC': 'L', 'TP': []}),\n",
      "\t\t\t\t\t( 'HYBRID13-45A', 'HYBRID13-45', {'PDC': 2, 'RC': 'S', 'TP': []}),\n",
      "\t\t\t\t\t( 'HYBRID13-45B', 'HYBRID13-45', {'PDC': 2, 'RC': 'S', 'TP': []}),\n",
      "\t\t\t\t\t( 'HYBRID13-47/12', 'HYBRID13-47/12(L)', {'PDC': 2, 'RC': 'L', 'TP': []}),\n",
      "\t\t\t\t\t( 'HYBRID13-47/12', 'HYBRID13-47/12(O)', {'PDC': 2, 'RC': 'L', 'TP': []}),\n",
      "\t\t\t\t\t( 'HYBRID13-47/12(L)', 'HYBRID13-47/12', {'PDC': 2, 'RC': 'S', 'TP': []}),\n",
      "\t\t\t\t\t( 'HYBRID13-47/12(O)', 'HYBRID13-47/12', {'PDC': 2, 'RC': 'S', 'TP': []}),\n",
      "\t\t\t\t\t( 'HYBRID13-8', 'HYBRID13-8A', {'PDC': 2, 'RC': 'L', 'TP': []}),\n",
      "\t\t\t\t\t( 'HYBRID13-8', 'HYBRID13-8B', {'PDC': 2, 'RC': 'L', 'TP': []}),\n",
      "\t\t\t\t\t( 'HYBRID13-8A', 'HYBRID13-8', {'PDC': 2, 'RC': 'S', 'TP': []}),\n",
      "\t\t\t\t\t( 'HYBRID13-8A', 'HYBRID13-8AD', {'PDC': 2, 'RC': 'L', 'TP': []}),\n",
      "\t\t\t\t\t( 'HYBRID13-8A', 'HYBRID13-8AV', {'PDC': 2, 'RC': 'L', 'TP': []}),\n",
      "\t\t\t\t\t( 'HYBRID13-8AD', 'HYBRID13-8A', {'PDC': 2, 'RC': 'S', 'TP': []}),\n",
      "\t\t\t\t\t( 'HYBRID13-8AV', 'HYBRID13-8A', {'PDC': 2, 'RC': 'S', 'TP': []}),\n",
      "\t\t\t\t\t( 'HYBRID13-8B', 'HYBRID13-8', {'PDC': 2, 'RC': 'S', 'TP': []}),\n",
      "\t\t\t\t\t( 'HYBRID13-9/46', 'HYBRID13-9/46D', {'PDC': 2, 'RC': 'L', 'TP': []}),\n",
      "\t\t\t\t\t( 'HYBRID13-9/46', 'HYBRID13-9/46V', {'PDC': 2, 'RC': 'L', 'TP': []}),\n",
      "\t\t\t\t\t( 'HYBRID13-9/46D', 'HYBRID13-9/46', {'PDC': 2, 'RC': 'S', 'TP': []}),\n",
      "\t\t\t\t\t( 'HYBRID13-9/46V', 'HYBRID13-9/46', {'PDC': 2, 'RC': 'S', 'TP': []}),\n",
      "\t\t\t\t\t( 'HYBRID13-AI', 'HYBRID13-STP', {'PDC': 2, 'RC': 'S', 'TP': []}),\n",
      "\t\t\t\t\t( 'HYBRID13-AII', 'HYBRID13-STP', {'PDC': 2, 'RC': 'S', 'TP': []}),\n",
      "\t\t\t\t\t( 'HYBRID13-G', 'HYBRID13-OFO', {'PDC': 2, 'RC': 'I', 'TP': []}),\n",
      "\t\t\t\t\t( 'HYBRID13-IA', 'HYBRID13-INS', {'PDC': 2, 'RC': 'S', 'TP': []}),\n",
      "\t\t\t\t\t( 'HYBRID13-IDG', 'HYBRID13-INS', {'PDC': 2, 'RC': 'S', 'TP': []}),\n",
      "\t\t\t\t\t( 'HYBRID13-IG', 'HYBRID13-INS', {'PDC': 2, 'RC': 'S', 'TP': []}),\n",
      "\t\t\t\t\t( 'HYBRID13-INS', 'HYBRID13-IA', {'PDC': 2, 'RC': 'L', 'TP': []}),\n",
      "\t\t\t\t\t( 'HYBRID13-INS', 'HYBRID13-IDG', {'PDC': 2, 'RC': 'L', 'TP': []}),\n",
      "\t\t\t\t\t( 'HYBRID13-INS', 'HYBRID13-IG', {'PDC': 2, 'RC': 'L', 'TP': []}),\n",
      "\t\t\t\t\t( 'HYBRID13-MT', 'HYBRID13-MT*', {'PDC': 2, 'RC': 'I', 'TP': []}),\n",
      "\t\t\t\t\t( 'HYBRID13-MT*', 'HYBRID13-MT', {'PDC': 2, 'RC': 'I', 'TP': []}),\n",
      "\t\t\t\t\t( 'HYBRID13-OFO', 'HYBRID13-G', {'PDC': 2, 'RC': 'I', 'TP': []}),\n",
      "\t\t\t\t\t( 'HYBRID13-SI', 'HYBRID13-1', {'PDC': 0, 'RC': 'L', 'TP': []}),\n",
      "\t\t\t\t\t( 'HYBRID13-SI', 'HYBRID13-2', {'PDC': 0, 'RC': 'L', 'TP': []}),\n",
      "\t\t\t\t\t( 'HYBRID13-SI', 'HYBRID13-3B', {'PDC': 2, 'RC': 'L', 'TP': []}),\n",
      "\t\t\t\t\t( 'HYBRID13-STP', 'HYBRID13-AI', {'PDC': 2, 'RC': 'L', 'TP': []}),\n",
      "\t\t\t\t\t( 'HYBRID13-STP', 'HYBRID13-AII', {'PDC': 2, 'RC': 'L', 'TP': []}),\n",
      "\t\t\t\t\t( 'HYBRID13-V2', 'HYBRID13-V2D', {'PDC': 14, 'RC': 'L', 'TP': []}),\n",
      "\t\t\t\t\t( 'HYBRID13-V2D', 'HYBRID13-V2', {'PDC': 14, 'RC': 'S', 'TP': []}),\n",
      "\t\t\t\t\t( 'HYBRID13-V4', 'HYBRID13-V4V', {'PDC': 14, 'RC': 'L', 'TP': []}),\n",
      "\t\t\t\t\t( 'HYBRID13-V4V', 'HYBRID13-V4', {'PDC': 14, 'RC': 'S', 'TP': []})]"
     ],
     "language": "python",
     "metadata": {},
     "outputs": [],
     "prompt_number": 126
    },
    {
     "cell_type": "code",
     "collapsed": false,
     "input": [
      "test=coco.MapGraph()\n",
      "for source, target, attr in hybrid_edges:\n",
      "                test.add_edge(source, target, rc=attr['RC'], pdc=attr['PDC'])"
     ],
     "language": "python",
     "metadata": {},
     "outputs": [],
     "prompt_number": 159
    },
    {
     "cell_type": "code",
     "collapsed": false,
     "input": [
      "d_mapg.number_of_edges()"
     ],
     "language": "python",
     "metadata": {},
     "outputs": [
      {
       "output_type": "pyout",
       "prompt_number": 161,
       "text": [
        "157360"
       ]
      }
     ],
     "prompt_number": 161
    },
    {
     "cell_type": "code",
     "collapsed": false,
     "input": [
      "hybrid_all=d_mapg\n",
      "for source, target, attr in hybrid_edges:\n",
      "                hybrid_all.add_edge(source, target, rc=attr['RC'], pdc=attr['PDC'])"
     ],
     "language": "python",
     "metadata": {},
     "outputs": [],
     "prompt_number": 162
    },
    {
     "cell_type": "code",
     "collapsed": false,
     "input": [
      "hybrid_all.number_of_edges()"
     ],
     "language": "python",
     "metadata": {},
     "outputs": [
      {
       "output_type": "pyout",
       "prompt_number": 164,
       "text": [
        "157664"
       ]
      }
     ],
     "prompt_number": 164
    },
    {
     "cell_type": "markdown",
     "metadata": {},
     "source": [
      "#Rework parahipp temp regions"
     ]
    },
    {
     "cell_type": "code",
     "collapsed": false,
     "input": [
      "it_names= ['TF', 'TH', 'TL', '35', '28']\n",
      "#bb47 =TF, TH \n",
      "new_parahipp=['BB47-TF', 'BB47-TH', 'PHT00-35', 'PHT00-TL', 'LV00A-ER']\n",
      "\n",
      "#'LV00A-ER' for 28P\n",
      "#'PHT00-35' for 35\n",
      "#'PHT00-TL' for TL\n",
      "#no TL ==36\n",
      "\n",
      "#28\n",
      "\n",
      "it_test=[]\n",
      "bb47_regions=[]\n",
      "\n",
      "for x in mapg.nodes_iter():\n",
      "    if x.split('-')[0]=='BB47':\n",
      "        bb47_regions.append(x)\n",
      "\n",
      "\n",
      "for x in mapg.nodes_iter():\n",
      "    if x.split('-')[1]==it_names[2]:\n",
      "        it_test.append(x)\n",
      "\n",
      "#mapg['BB47-35']\n",
      "#mapg['BB47-TH']\n",
      "\n",
      "#cong['LV00A-TF']\n",
      "\n",
      "\n",
      "        \n",
      "#for y in it_test:\n",
      "#    for z in d_mapg[y]:\n",
      "#        if d_mapg[y][z]['RC']=='I': \n",
      "\n",
      "   "
     ],
     "language": "python",
     "metadata": {},
     "outputs": [],
     "prompt_number": 98
    },
    {
     "cell_type": "code",
     "collapsed": false,
     "input": [
      "it_test"
     ],
     "language": "python",
     "metadata": {},
     "outputs": [
      {
       "output_type": "pyout",
       "prompt_number": 99,
       "text": [
        "['BP92-TL', 'PHT00-TL', 'PSB88-TL', 'BR98-TL']"
       ]
      }
     ],
     "prompt_number": 99
    },
    {
     "cell_type": "code",
     "collapsed": false,
     "input": [
      "mapg['PHT00-TL']"
     ],
     "language": "python",
     "metadata": {},
     "outputs": [
      {
       "output_type": "pyout",
       "prompt_number": 101,
       "text": [
        "{'AIC87-36': {'PDC': 15, 'RC': 'I', 'TP': []}}"
       ]
      }
     ],
     "prompt_number": 101
    },
    {
     "cell_type": "code",
     "collapsed": false,
     "input": [
      "d_cong['B09-28']"
     ],
     "language": "python",
     "metadata": {},
     "outputs": [
      {
       "output_type": "pyout",
       "prompt_number": 85,
       "text": [
        "{'ASM94-24': {'Connection': 'Present',\n",
        "  'Degree': 'X',\n",
        "  'EC_Source': 'P',\n",
        "  'EC_Target': 'X',\n",
        "  'PDC_Density': 18,\n",
        "  'PDC_EC_Source': 1,\n",
        "  'PDC_EC_Target': 18,\n",
        "  'PDC_Site_Source': 0,\n",
        "  'PDC_Site_Target': 1},\n",
        " 'MMM87-POC': {'Connection': 'Present',\n",
        "  'Degree': '3',\n",
        "  'EC_Source': 'X',\n",
        "  'EC_Target': 'X',\n",
        "  'PDC_Density': 5,\n",
        "  'PDC_EC_Source': 18,\n",
        "  'PDC_EC_Target': 18,\n",
        "  'PDC_Site_Source': 1,\n",
        "  'PDC_Site_Target': 0},\n",
        " 'MMM87-TPA-P': {'Connection': 'Present',\n",
        "  'Degree': 'X',\n",
        "  'EC_Source': 'X',\n",
        "  'EC_Target': 'X',\n",
        "  'PDC_Density': 18,\n",
        "  'PDC_EC_Source': 18,\n",
        "  'PDC_EC_Target': 18,\n",
        "  'PDC_Site_Source': 1,\n",
        "  'PDC_Site_Target': 0},\n",
        " 'MMM87-TPDG': {'Connection': 'Present',\n",
        "  'Degree': 'X',\n",
        "  'EC_Source': 'X',\n",
        "  'EC_Target': 'X',\n",
        "  'PDC_Density': 18,\n",
        "  'PDC_EC_Source': 18,\n",
        "  'PDC_EC_Target': 18,\n",
        "  'PDC_Site_Source': 1,\n",
        "  'PDC_Site_Target': 0},\n",
        " 'MMM87-TPG': {'Connection': 'Present',\n",
        "  'Degree': '3',\n",
        "  'EC_Source': 'X',\n",
        "  'EC_Target': 'X',\n",
        "  'PDC_Density': 5,\n",
        "  'PDC_EC_Source': 18,\n",
        "  'PDC_EC_Target': 18,\n",
        "  'PDC_Site_Source': 1,\n",
        "  'PDC_Site_Target': 0}}"
       ]
      }
     ],
     "prompt_number": 85
    },
    {
     "cell_type": "markdown",
     "metadata": {},
     "source": [
      "#Test script"
     ]
    },
    {
     "cell_type": "code",
     "collapsed": false,
     "input": [
      "test_mapg=d_mapg"
     ],
     "language": "python",
     "metadata": {},
     "outputs": [],
     "prompt_number": 177
    },
    {
     "cell_type": "markdown",
     "metadata": {},
     "source": [
      "#Overlap Tests"
     ]
    },
    {
     "cell_type": "code",
     "collapsed": false,
     "input": [
      "piecemeal_nodelist"
     ],
     "language": "python",
     "metadata": {},
     "outputs": [
      {
       "output_type": "pyout",
       "prompt_number": 217,
       "text": [
        "['PP94-47/12(O)',\n",
        " 'PP94-9/46D',\n",
        " 'PP94-9/46V',\n",
        " 'PP94-14',\n",
        " 'PP94-10',\n",
        " 'PP94-11',\n",
        " 'PP94-13',\n",
        " 'PP94-46',\n",
        " 'PP94-45B',\n",
        " 'PP94-45A',\n",
        " 'PP94-47/12(L)',\n",
        " 'PP94-47/12',\n",
        " 'PP94-8AD',\n",
        " 'PP94-8AV',\n",
        " 'PP94-8',\n",
        " 'PP94-9',\n",
        " 'PP94-45',\n",
        " 'PP94-44',\n",
        " 'PP94-9/46',\n",
        " 'PP94-8B',\n",
        " 'PP94-8A',\n",
        " 'PP94-32',\n",
        " 'PP94-G',\n",
        " 'BP87-MII',\n",
        " 'BP87-6DR',\n",
        " 'BP87-6DC',\n",
        " 'BP87-6VB',\n",
        " 'BP87-6VA',\n",
        " 'BP87-PROM',\n",
        " 'VPR87-23',\n",
        " 'VPR87-24',\n",
        " 'VPR87-23C',\n",
        " 'VPR87-23A',\n",
        " 'VPR87-23B',\n",
        " 'VPR87-31',\n",
        " 'VPR87-30',\n",
        " 'VPR87-29A',\n",
        " 'VPR87-29B',\n",
        " 'VPR87-29C',\n",
        " 'VPR87-29D',\n",
        " 'VPR87-24B',\n",
        " 'VPR87-24C',\n",
        " 'VPR87-24A',\n",
        " 'VPR87-29',\n",
        " 'PP94-25',\n",
        " 'PP94-24',\n",
        " 'JB76A-ID',\n",
        " 'JB76A-SII',\n",
        " 'JB76A-RL',\n",
        " 'JB76A-AI',\n",
        " 'JB76A-SI',\n",
        " 'JB76A-RI',\n",
        " 'JB76A-3A',\n",
        " 'JB76A-3B',\n",
        " 'KCTEC95-VS',\n",
        " 'KCTEC95-SI',\n",
        " 'KCTEC95-SII',\n",
        " 'MM82A-SI',\n",
        " 'MM82B-SI',\n",
        " 'MM82C-SI',\n",
        " 'MM82A-SII',\n",
        " 'MM82B-SII',\n",
        " 'MM82C-SII',\n",
        " 'MM82A-IG',\n",
        " 'MM82A-INS',\n",
        " 'MM82A-AI',\n",
        " 'MM82B-AI',\n",
        " 'MM82C-AI',\n",
        " 'MM82A-AII',\n",
        " 'MM82B-AII',\n",
        " 'MM82C-AII',\n",
        " 'MM82A-G',\n",
        " 'KCTEC95-7B',\n",
        " 'KCTEC95-7A',\n",
        " 'JB76A-5',\n",
        " 'KCTEC95-5',\n",
        " 'PS82-PFOP',\n",
        " 'PS82-PEA',\n",
        " 'PS82-PEC',\n",
        " 'PS82-PGOP',\n",
        " 'PS82-PFG',\n",
        " 'PS82-PE',\n",
        " 'PS82-PF',\n",
        " 'PS82-POA',\n",
        " 'PS82-PGM',\n",
        " 'PS82-OPT',\n",
        " 'PS82-PECI',\n",
        " 'SP78-PG',\n",
        " 'SP78-TS1',\n",
        " 'SP78-TS2',\n",
        " 'SP78-TS3',\n",
        " 'SP78-PAALT',\n",
        " 'SP78-TPT',\n",
        " 'SP78-TAA',\n",
        " 'SP78-TPO',\n",
        " 'SP78-TEA',\n",
        " 'SP78-TEM',\n",
        " 'SP78-IPA',\n",
        " 'SP78-PGA',\n",
        " 'SP78-PRO',\n",
        " 'UD86B-MST',\n",
        " 'UD86B-FST',\n",
        " 'UD86A-MST',\n",
        " 'UD86A-FST',\n",
        " 'PS73-TS3',\n",
        " 'PS73-TS2',\n",
        " 'PS73-TS1',\n",
        " 'PS73-PRO',\n",
        " 'PS73-PAALT',\n",
        " 'PS73-TPT',\n",
        " 'PS73-PAAC',\n",
        " 'PS73-PAAR',\n",
        " 'PS73-PAI',\n",
        " 'PS73-PROA',\n",
        " 'FV91-V1',\n",
        " 'FV91-V2',\n",
        " 'FV91-V3',\n",
        " 'FV91-V4',\n",
        " 'PS82-1',\n",
        " 'PS82-2',\n",
        " 'SP78-TE1',\n",
        " 'SP78-TE2',\n",
        " 'SP78-TE3',\n",
        " 'UD86A-MT',\n",
        " 'UD86B-MT',\n",
        " 'BR98-TH',\n",
        " 'BR98-TL',\n",
        " 'BR98-TF',\n",
        " 'BR98-28',\n",
        " 'BR98-35']"
       ]
      }
     ],
     "prompt_number": 217
    },
    {
     "cell_type": "code",
     "collapsed": false,
     "input": [
      "mapg_studies=[]\n",
      "for x in mapg.nodes():\n",
      "    mapg_study=x.split('-')[0]\n",
      "    if mapg_study not in mapg_studies:\n",
      "        mapg_studies.append(mapg_study)\n",
      "        \n",
      "        \n",
      "cong_studies=[]\n",
      "for x in cong.nodes():\n",
      "    cong_study=x.split('-')[0]\n",
      "    if cong_study not in cong_studies:\n",
      "        cong_studies.append(cong_study)"
     ],
     "language": "python",
     "metadata": {},
     "outputs": [],
     "prompt_number": 303
    },
    {
     "cell_type": "code",
     "collapsed": false,
     "input": [
      "#Grab all nodes from all the studies\n",
      "all_studies_nodelist=[]\n",
      "for study in studies:\n",
      "    for x in mapg.nodes():\n",
      "        if x.split('-')[0]==study:\n",
      "            all_studies_nodelist.append(x)\n",
      "       "
     ],
     "language": "python",
     "metadata": {},
     "outputs": [],
     "prompt_number": 5
    },
    {
     "cell_type": "code",
     "collapsed": false,
     "input": [
      "#find overlapping regions\n",
      "overlap_mapgraph=coco.MapGraph()\n",
      "for x,y in mapg.edges_iter():\n",
      "    if x in all_studies_nodelist and y in all_studies_nodelist and x.split('-')[0]!=y.split('-')[0]:\n",
      "        overlap_mapgraph.add_edge(x,y,mapg.edge[x][y]['RC'],mapg.edge[x][y]['PDC'])\n",
      "            "
     ],
     "language": "python",
     "metadata": {},
     "outputs": [],
     "prompt_number": 6
    },
    {
     "cell_type": "markdown",
     "metadata": {},
     "source": [
      "There are too many overlapping regions to deal with all at once so lets go major region by region and resolve overlap piecemeal"
     ]
    },
    {
     "cell_type": "code",
     "collapsed": false,
     "input": [
      "#piecemeal overlap tester\n",
      "piecemeal_mapgraph=coco.MapGraph()\n",
      "piecemeal_nodelist= PFC_nodes+PMC_nodes+cingulate_nodes+insula_soma_lateral_nodes+parietal_nodes+sts_nodes+stp_nodes+occipital_nodes+motor_nodes+it_nodes+parahipp_nodes\n",
      "for x,y in mapg.edges_iter():\n",
      "    if x in piecemeal_nodelist and y in piecemeal_nodelist and x.split('-')[0]!=y.split('-')[0] and mapg.edge[x][y]['RC']!='I':\n",
      "        piecemeal_mapgraph.add_edge(x,y,mapg.edge[x][y]['RC'],mapg.edge[x][y]['PDC'])\n"
     ],
     "language": "python",
     "metadata": {},
     "outputs": [],
     "prompt_number": 220
    },
    {
     "cell_type": "code",
     "collapsed": false,
     "input": [
      "piecemeal_mapgraph.edge"
     ],
     "language": "python",
     "metadata": {},
     "outputs": [
      {
       "output_type": "pyout",
       "prompt_number": 221,
       "text": [
        "{'PP94-24': {'VPR87-24A': {'PDC': 2, 'RC': 'L', 'TP': []},\n",
        "  'VPR87-24B': {'PDC': 2, 'RC': 'L', 'TP': []},\n",
        "  'VPR87-24C': {'PDC': 2, 'RC': 'L', 'TP': []}},\n",
        " 'SP78-IPA': {'UD86A-FST': {'PDC': 12, 'RC': 'L', 'TP': []}},\n",
        " 'UD86A-FST': {'SP78-IPA': {'PDC': 12, 'RC': 'S', 'TP': []}},\n",
        " 'VPR87-24A': {'PP94-24': {'PDC': 2, 'RC': 'S', 'TP': []}},\n",
        " 'VPR87-24B': {'PP94-24': {'PDC': 2, 'RC': 'S', 'TP': []}},\n",
        " 'VPR87-24C': {'PP94-24': {'PDC': 2, 'RC': 'S', 'TP': []}}}"
       ]
      }
     ],
     "prompt_number": 221
    },
    {
     "cell_type": "markdown",
     "metadata": {},
     "source": [
      "#Overlap against deduced mapgraph"
     ]
    },
    {
     "cell_type": "code",
     "collapsed": false,
     "input": [
      "#piecemeal overlap tester against deduced mapgraph\n",
      "d_piecemeal_mapgraph=coco.MapGraph()\n",
      "piecemeal_nodelist= PFC_nodes+PMC_nodes+cingulate_nodes+insula_soma_lateral_nodes+parietal_nodes+sts_nodes+stp_nodes+occipital_nodes+motor_nodes+it_nodes+parahipp_nodes\n",
      "for x,y in d_mapg.edges_iter():\n",
      "    if x in d_piecemeal_nodelist and y in d_piecemeal_nodelist and x.split('-')[0]!=y.split('-')[0] and d_mapg.edge[x][y]['RC']!='I':\n",
      "        d_piecemeal_mapgraph.add_edge(x,y,d_mapg.edge[x][y]['RC'],d_mapg.edge[x][y]['PDC'])\n"
     ],
     "language": "python",
     "metadata": {},
     "outputs": [],
     "prompt_number": 222
    },
    {
     "cell_type": "code",
     "collapsed": false,
     "input": [
      "#0-69 cases cleared\n",
      "d_piecemeal_mapgraph.edge\n"
     ],
     "language": "python",
     "metadata": {},
     "outputs": [
      {
       "output_type": "pyout",
       "prompt_number": 223,
       "text": [
        "{'JB76A-3A': {'KCTEC95-SI': {'PDC': 16, 'RC': 'S', 'TP': []},\n",
        "  'MM82B-SI': {'PDC': 15, 'RC': 'S', 'TP': []},\n",
        "  'MM82C-SI': {'PDC': 15, 'RC': 'S', 'TP': []}},\n",
        " 'JB76A-3B': {'KCTEC95-SI': {'PDC': 16, 'RC': 'S', 'TP': []},\n",
        "  'MM82B-SI': {'PDC': 16, 'RC': 'S', 'TP': []},\n",
        "  'MM82C-SI': {'PDC': 16, 'RC': 'S', 'TP': []}},\n",
        " 'KCTEC95-SI': {'JB76A-3A': {'PDC': 16, 'RC': 'L', 'TP': []},\n",
        "  'JB76A-3B': {'PDC': 16, 'RC': 'L', 'TP': []}},\n",
        " 'MM82B-SI': {'JB76A-3A': {'PDC': 15, 'RC': 'L', 'TP': []},\n",
        "  'JB76A-3B': {'PDC': 16, 'RC': 'L', 'TP': []}},\n",
        " 'MM82C-SI': {'JB76A-3A': {'PDC': 15, 'RC': 'L', 'TP': []},\n",
        "  'JB76A-3B': {'PDC': 16, 'RC': 'L', 'TP': []}},\n",
        " 'PP94-24': {'VPR87-24A': {'PDC': 2, 'RC': 'L', 'TP': []},\n",
        "  'VPR87-24B': {'PDC': 2, 'RC': 'L', 'TP': []},\n",
        "  'VPR87-24C': {'PDC': 2, 'RC': 'L', 'TP': []}},\n",
        " 'SP78-PG': {'UD86A-MST': {'PDC': 12, 'RC': 'L', 'TP': []},\n",
        "  'UD86B-MST': {'PDC': 12, 'RC': 'L', 'TP': []}},\n",
        " 'UD86A-MST': {'SP78-PG': {'PDC': 12, 'RC': 'S', 'TP': []}},\n",
        " 'UD86B-MST': {'SP78-PG': {'PDC': 12, 'RC': 'S', 'TP': []}},\n",
        " 'VPR87-24A': {'PP94-24': {'PDC': 2, 'RC': 'S', 'TP': []}},\n",
        " 'VPR87-24B': {'PP94-24': {'PDC': 2, 'RC': 'S', 'TP': []}},\n",
        " 'VPR87-24C': {'PP94-24': {'PDC': 2, 'RC': 'S', 'TP': []}}}"
       ]
      }
     ],
     "prompt_number": 223
    },
    {
     "cell_type": "markdown",
     "metadata": {},
     "source": [
      "#Overlap cases and working"
     ]
    },
    {
     "cell_type": "code",
     "collapsed": false,
     "input": [
      "#Parietal and sts overlap cases\n",
      "'PS82-PG': {'UD86A-FST': {'PDC': 12, 'RC': 'L', 'TP': []},\n",
      "  'UD86A-MST': {'PDC': 2, 'RC': 'L', 'TP': []},\n",
      "  'UD86B-FST': {'PDC': 12, 'RC': 'L', 'TP': []},\n",
      "  'UD86B-MST': {'PDC': 2, 'RC': 'L', 'TP': []}},\n",
      " 'SP78-PG': {'UD86A-MST': {'PDC': 12, 'RC': 'L', 'TP': []},\n",
      "  'UD86B-MST': {'PDC': 12, 'RC': 'L', 'TP': []}},\n",
      " 'UD86A-FST': {'PS82-PG': {'PDC': 12, 'RC': 'S', 'TP': []}},\n",
      " 'UD86A-MST': {'PS82-PG': {'PDC': 2, 'RC': 'S', 'TP': []},\n",
      "  'SP78-PG': {'PDC': 12, 'RC': 'S', 'TP': []}},\n",
      " 'UD86B-FST': {'PS82-PG': {'PDC': 12, 'RC': 'S', 'TP': []}},\n",
      " 'UD86B-MST': {'PS82-PG': {'PDC': 2, 'RC': 'S', 'TP': []},\n",
      "  'SP78-PG': {'PDC': 12, 'RC': 'S', 'TP': []}},"
     ],
     "language": "python",
     "metadata": {},
     "outputs": [
      {
       "output_type": "pyout",
       "prompt_number": 536,
       "text": [
        "{'AAC85-24': {'PDC': 2, 'RC': 'S', 'TP': ['W40-24']},\n",
        " 'AP84-25': {'PDC': 9, 'RC': 'S', 'TP': ['B09-25']},\n",
        " 'B05-24': {'PDC': 2, 'RC': 'S', 'TP': ['B09-25']},\n",
        " 'B09-25': {'PDC': 2, 'RC': 'S', 'TP': []},\n",
        " 'B92-25': {'PDC': 15, 'RC': 'I', 'TP': ['BP89-25']},\n",
        " 'BB47-FL': {'PDC': 11, 'RC': 'S', 'TP': ['B09-25']},\n",
        " 'BP87-24': {'PDC': 18, 'RC': 'S', 'TP': ['W40-24']},\n",
        " 'CP99-24': {'PDC': 15, 'RC': 'S', 'TP': ['B09-25', 'B05-24']},\n",
        " 'GM-CCS': {'PDC': 16, 'RC': 'I', 'TP': ['PHT00-25', 'R00-CCS']},\n",
        " 'L86-24': {'PDC': 12, 'RC': 'S', 'TP': ['B09-25', 'B05-24']},\n",
        " 'MPP99A-25': {'PDC': 12, 'RC': 'I', 'TP': []},\n",
        " 'NPP90A-24': {'PDC': 2, 'RC': 'S', 'TP': ['W40-24']},\n",
        " 'PG91A-24': {'PDC': 10, 'RC': 'S', 'TP': ['W40-24']},\n",
        " 'PHT00-25': {'PDC': 15, 'RC': 'I', 'TP': []},\n",
        " 'PP84-25': {'PDC': 15, 'RC': 'I', 'TP': ['BP89-25']},\n",
        " 'PP99-25': {'PDC': 15, 'RC': 'I', 'TP': []},\n",
        " 'R00-CCS': {'PDC': 15, 'RC': 'I', 'TP': ['PHT00-25']},\n",
        " 'RGBG97-25': {'PDC': 15, 'RC': 'I', 'TP': ['BP89-25', 'B92-25']},\n",
        " 'RP93-24': {'PDC': 10, 'RC': 'S', 'TP': ['W40-24', 'PG91A-24', 'B09-24']},\n",
        " 'SA00-25': {'PDC': 12, 'RC': 'I', 'TP': ['VPR87-25']},\n",
        " 'SA94A-25': {'PDC': 2, 'RC': 'S', 'TP': ['B09-25', 'IAC87A-25']},\n",
        " 'SP91A-24': {'PDC': 9, 'RC': 'S', 'TP': ['W40-24']},\n",
        " 'TJ76-24': {'PDC': 12, 'RC': 'S', 'TP': ['W40-24']},\n",
        " 'W40-24': {'PDC': 2, 'RC': 'S', 'TP': []},\n",
        " 'YP88-25': {'PDC': 2, 'RC': 'S', 'TP': ['B09-25']},\n",
        " 'YP94-25': {'PDC': 12, 'RC': 'I', 'TP': ['BP89-25']}}"
       ]
      }
     ],
     "prompt_number": 536
    },
    {
     "cell_type": "code",
     "collapsed": false,
     "input": [
      "'PP94-10': {'VPR87-32': {'PDC': 10, 'RC': 'O', 'TP': []}}, #this is an issue, I will use PP94-32 instead of VPR87-32\n",
      "'VPR87-32': {'PP94-10': {'PDC': 10, 'RC': 'O', 'TP': []},\n",
      "             \n",
      "'PP94-14': {'VPR87-25': {'PDC': 2, 'RC': 'L', 'TP': []}}, #this is an issue, PP94 has area 25 but it does not have an RC to VPR87-25, which is really bad, the solution is to include PP94-25 instead \n",
      "'VPR87-25': {'PP94-14': {'PDC': 2, 'RC': 'S', 'TP': []}}}             \n"
     ],
     "language": "python",
     "metadata": {},
     "outputs": []
    },
    {
     "cell_type": "code",
     "collapsed": false,
     "input": [
      "test=[]\n",
      "for x in d_mapg.nodes():\n",
      "    if x.split('-')[0]=='HYBRID13':\n",
      "       test.append(x) "
     ],
     "language": "python",
     "metadata": {},
     "outputs": [],
     "prompt_number": 182
    },
    {
     "cell_type": "code",
     "collapsed": false,
     "input": [
      "test"
     ],
     "language": "python",
     "metadata": {},
     "outputs": [
      {
       "output_type": "pyout",
       "prompt_number": 183,
       "text": [
        "['HYBRID13-MII',\n",
        " 'HYBRID13-PAALT',\n",
        " 'HYBRID13-7B',\n",
        " 'HYBRID13-IDG',\n",
        " 'HYBRID13-29A',\n",
        " 'HYBRID13-29B',\n",
        " 'HYBRID13-TS1',\n",
        " 'HYBRID13-TS3',\n",
        " 'HYBRID13-ID',\n",
        " 'HYBRID13-RI',\n",
        " 'HYBRID13-SI',\n",
        " 'HYBRID13-PFOP',\n",
        " 'HYBRID13-24C',\n",
        " 'HYBRID13-24B',\n",
        " 'HYBRID13-6DR',\n",
        " 'HYBRID13-6DC',\n",
        " 'HYBRID13-6VB',\n",
        " 'HYBRID13-3A',\n",
        " 'HYBRID13-RL',\n",
        " 'HYBRID13-24',\n",
        " 'HYBRID13-PROA',\n",
        " 'HYBRID13-2',\n",
        " 'HYBRID13-PGOP',\n",
        " 'HYBRID13-23',\n",
        " 'HYBRID13-45A',\n",
        " 'HYBRID13-13',\n",
        " 'HYBRID13-45',\n",
        " 'HYBRID13-29C',\n",
        " 'HYBRID13-TPO',\n",
        " 'HYBRID13-TPT',\n",
        " 'HYBRID13-MST',\n",
        " 'HYBRID13-9/46',\n",
        " 'HYBRID13-29',\n",
        " 'HYBRID13-25',\n",
        " 'HYBRID13-10',\n",
        " 'HYBRID13-3B',\n",
        " 'HYBRID13-9/46D',\n",
        " 'HYBRID13-IPA',\n",
        " 'HYBRID13-24A',\n",
        " 'HYBRID13-V1',\n",
        " 'HYBRID13-V4',\n",
        " 'HYBRID13-PG',\n",
        " 'HYBRID13-IG',\n",
        " 'HYBRID13-IA',\n",
        " 'HYBRID13-8B',\n",
        " 'HYBRID13-G',\n",
        " 'HYBRID13-23C',\n",
        " 'HYBRID13-23A',\n",
        " 'HYBRID13-1',\n",
        " 'HYBRID13-9/46V',\n",
        " 'HYBRID13-TAA',\n",
        " 'HYBRID13-45B',\n",
        " 'HYBRID13-7A',\n",
        " 'HYBRID13-8',\n",
        " 'HYBRID13-5',\n",
        " 'HYBRID13-PECI',\n",
        " 'HYBRID13-PROM',\n",
        " 'HYBRID13-PGA',\n",
        " 'HYBRID13-PGM',\n",
        " 'HYBRID13-MT*',\n",
        " 'HYBRID13-PAAR',\n",
        " 'HYBRID13-TEA',\n",
        " 'HYBRID13-V2D',\n",
        " 'HYBRID13-STP',\n",
        " 'HYBRID13-44',\n",
        " 'HYBRID13-OFO',\n",
        " 'HYBRID13-47/12(O)',\n",
        " 'HYBRID13-PAI',\n",
        " 'HYBRID13-SII',\n",
        " 'HYBRID13-TEM',\n",
        " 'HYBRID13-PEC',\n",
        " 'HYBRID13-PEA',\n",
        " 'HYBRID13-TS2',\n",
        " 'HYBRID13-47/12',\n",
        " 'HYBRID13-47/12(L)',\n",
        " 'HYBRID13-9',\n",
        " 'HYBRID13-POA',\n",
        " 'HYBRID13-PFG',\n",
        " 'HYBRID13-V3',\n",
        " 'HYBRID13-PRO',\n",
        " 'HYBRID13-OPT',\n",
        " 'HYBRID13-8AV',\n",
        " 'HYBRID13-8A',\n",
        " 'HYBRID13-MT',\n",
        " 'HYBRID13-23B',\n",
        " 'HYBRID13-30',\n",
        " 'HYBRID13-V2',\n",
        " 'HYBRID13-32',\n",
        " 'HYBRID13-29D',\n",
        " 'HYBRID13-6VA',\n",
        " 'HYBRID13-PF',\n",
        " 'HYBRID13-INS',\n",
        " 'HYBRID13-AII',\n",
        " 'HYBRID13-8AD',\n",
        " 'HYBRID13-11',\n",
        " 'HYBRID13-14',\n",
        " 'HYBRID13-31',\n",
        " 'HYBRID13-FST',\n",
        " 'HYBRID13-PAAC',\n",
        " 'HYBRID13-VS',\n",
        " 'HYBRID13-46',\n",
        " 'HYBRID13-AI',\n",
        " 'HYBRID13-PE',\n",
        " 'HYBRID13-V4V']"
       ]
      }
     ],
     "prompt_number": 183
    },
    {
     "cell_type": "code",
     "collapsed": false,
     "input": [
      "\n",
      "'JB76A-3A': {'KCTEC95-SI': {'PDC': 16, 'RC': 'S', 'TP': []}, #these regions do not bring much to the party in terms of edges, leave this overlap as is\n",
      "'MM82B-SI': {'PDC': 15, 'RC': 'S', 'TP': []},\n",
      "'MM82C-SI': {'PDC': 15, 'RC': 'S', 'TP': []}},\n",
      "    \n",
      "'JB76A-3B': {'KCTEC95-SI': {'PDC': 16, 'RC': 'S', 'TP': []}, #ibid\n",
      "  'MM82B-SI': {'PDC': 16, 'RC': 'S', 'TP': []},\n",
      "  'MM82C-SI': {'PDC': 16, 'RC': 'S', 'TP': []}},\n",
      "    \n",
      "'JB76A-G': {'MM82A-G': {'PDC': 2, 'RC': 'S', 'TP': []}}, #In all instances, Im going to keep larger region --> so keep map MM82A and remove:\n",
      "    # remove: 'JB76A-G', 'JB76A-IA', 'JB76A-J', 'JB76A-IG' :\n",
      "    \n",
      "'JB76A-IA': {'MM82A-INS': {'PDC': 15, 'RC': 'S', 'TP': []}},\n",
      "'JB76A-IG': {'MM82A-INS': {'PDC': 12, 'RC': 'S', 'TP': []}},\n",
      " 'JB76A-J': {'MM82A-INS': {'PDC': 8.5, 'RC': 'S', 'TP': []}},\n",
      "'MM82A-INS': {'JB76A-IA': {'PDC': 15, 'RC': 'L', 'TP': []}, # taken care of above\n",
      "  'JB76A-IG': {'PDC': 12, 'RC': 'L', 'TP': []},\n",
      "  'JB76A-J': {'PDC': 8.5, 'RC': 'L', 'TP': []}},\n",
      "        \n",
      " 'JB76A-SII': {'KCTEC95-PV': {'PDC': 2, 'RC': 'O', 'TP': []}, #remove: 'KCTEC95-PV\n",
      " 'KCTEC95-PV': {'JB76A-SII': {'PDC': 2, 'RC': 'O', 'TP': []}},\n",
      "              \n",
      "  'MM82A-SII': {'PDC': 15, 'RC': 'I', 'TP': []},\n",
      "  'MM82B-SII': {'PDC': 15, 'RC': 'I', 'TP': []},\n",
      "  'MM82C-SII': {'PDC': 15, 'RC': 'I', 'TP': []}},\n",
      "            \n",
      " #I's or easily solved\n",
      " 'KCTEC95-SI': {'JB76A-3A': {'PDC': 16, 'RC': 'L', 'TP': []}, #fine leave as is\n",
      "  'JB76A-3B': {'PDC': 16, 'RC': 'L', 'TP': []},\n",
      "  'MM82A-SI': {'PDC': 16, 'RC': 'I', 'TP': []},\n",
      "  'MM82B-SI': {'PDC': 16, 'RC': 'I', 'TP': []},\n",
      "  'MM82C-SI': {'PDC': 16, 'RC': 'I', 'TP': []}},\n",
      "  'MM82B-SI': {'JB76A-3A': {'PDC': 15, 'RC': 'L', 'TP': []}, \n",
      "  'JB76A-3B': {'PDC': 16, 'RC': 'L', 'TP': []},\n",
      "  'KCTEC95-SI': {'PDC': 16, 'RC': 'I', 'TP': []},\n",
      "  'MM82A-SI': {'PDC': 2, 'RC': 'I', 'TP': []},\n",
      "  'MM82C-SI': {'PDC': 2, 'RC': 'I', 'TP': []}},\n",
      "\n",
      "                                            \n",
      "                                            \n",
      " 'KCTEC95-SII': {'MM82A-SII': {'PDC': 16, 'RC': 'I', 'TP': []},\n",
      "  'MM82B-SII': {'PDC': 16, 'RC': 'I', 'TP': []},\n",
      "  'MM82C-SII': {'PDC': 16, 'RC': 'I', 'TP': []}},\n",
      " 'MM82A-AI': {'JB76A-AI': {'PDC': 15, 'RC': 'I', 'TP': []},\n",
      "  'MM82B-AI': {'PDC': 2, 'RC': 'I', 'TP': []},\n",
      "  'MM82C-AI': {'PDC': 2, 'RC': 'I', 'TP': []}},\n",
      "                                                    \n",
      " 'MM82A-AII': {'MM82B-AII': {'PDC': 2, 'RC': 'I', 'TP': []},\n",
      "  'MM82C-AII': {'PDC': 2, 'RC': 'I', 'TP': []}},\n",
      " 'MM82A-G': {'BP87-PROM': {'PDC': 10, 'RC': 'I', 'TP': []},\n",
      "             'JB76A-G': {'PDC': 2, 'RC': 'L', 'TP': []}}, # taken care of above\n",
      "                                                            \n",
      " '\n",
      "                                                                \n",
      " 'MM82A-SI': {'KCTEC95-SI': {'PDC': 16, 'RC': 'I', 'TP': []},\n",
      "  'MM82B-SI': {'PDC': 2, 'RC': 'I', 'TP': []},\n",
      "  'MM82C-SI': {'PDC': 2, 'RC': 'I', 'TP': []}},\n",
      " 'MM82A-SII': {'JB76A-SII': {'PDC': 15, 'RC': 'I', 'TP': []},\n",
      "  'KCTEC95-SII': {'PDC': 16, 'RC': 'I', 'TP': []},\n",
      "  'MM82B-SII': {'PDC': 2, 'RC': 'I', 'TP': []},\n",
      "  'MM82C-SII': {'PDC': 2, 'RC': 'I', 'TP': []}},\n",
      " 'MM82B-AI': {'JB76A-AI': {'PDC': 15, 'RC': 'I', 'TP': []},\n",
      "  'MM82A-AI': {'PDC': 2, 'RC': 'I', 'TP': []},\n",
      "  'MM82C-AI': {'PDC': 2, 'RC': 'I', 'TP': []}},\n",
      " 'MM82B-AII': {'MM82A-AII': {'PDC': 2, 'RC': 'I', 'TP': []},\n",
      "  'MM82C-AII': {'PDC': 2, 'RC': 'I', 'TP': []}},\n",
      " \n",
      "    \n",
      " 'MM82B-SII': {'JB76A-SII': {'PDC': 15, 'RC': 'I', 'TP': []},\n",
      "  'KCTEC95-SII': {'PDC': 16, 'RC': 'I', 'TP': []},\n",
      "  'MM82A-SII': {'PDC': 2, 'RC': 'I', 'TP': []},\n",
      "  'MM82C-SII': {'PDC': 2, 'RC': 'I', 'TP': []}},\n",
      " 'MM82C-AI': {'JB76A-AI': {'PDC': 15, 'RC': 'I', 'TP': []},\n",
      "  'MM82A-AI': {'PDC': 2, 'RC': 'I', 'TP': []},\n",
      "  'MM82B-AI': {'PDC': 2, 'RC': 'I', 'TP': []}},\n",
      " 'MM82C-AII': {'MM82A-AII': {'PDC': 2, 'RC': 'I', 'TP': []},\n",
      "  'MM82B-AII': {'PDC': 2, 'RC': 'I', 'TP': []}},\n",
      "                                                                                                \n",
      " 'MM82C-SI': {'JB76A-3A': {'PDC': 15, 'RC': 'L', 'TP': []},\n",
      "  'JB76A-3B': {'PDC': 16, 'RC': 'L', 'TP': []},\n",
      "  'KCTEC95-SI': {'PDC': 16, 'RC': 'I', 'TP': []},\n",
      "  'MM82A-SI': {'PDC': 2, 'RC': 'I', 'TP': []},\n",
      "  'MM82B-SI': {'PDC': 2, 'RC': 'I', 'TP': []}},\n",
      " 'MM82C-SII': {'JB76A-SII': {'PDC': 15, 'RC': 'I', 'TP': []},\n",
      "  'KCTEC95-SII': {'PDC': 16, 'RC': 'I', 'TP': []},\n",
      "  'MM82A-SII': {'PDC': 2, 'RC': 'I', 'TP': []},\n",
      "  'MM82B-SII': {'PDC': 2, 'RC': 'I', 'TP': []}},\n",
      "                                                                                                    "
     ],
     "language": "python",
     "metadata": {},
     "outputs": []
    },
    {
     "cell_type": "code",
     "collapsed": false,
     "input": [
      "#Before deduce:\n",
      "#These are problem overlap cases\n",
      "# But I should really also test on post_deduce mapgraph!\n",
      "'SP78-IPA': {'UD86A-FST': {'PDC': 12, 'RC': 'L', 'TP': []}}, #From the literature FST is actually a subregion of MT, but I can't verify this nor can I check the original UD ref\n",
      "'UD86A-FST': {'SP78-IPA': {'PDC': 12, 'RC': 'S', 'TP': []},\n",
      "              \n",
      "'JB76A-PI': {'PS73-PAI': {'PDC': 12, 'RC': 'L', 'TP': []}, # PI not mentioned in YP paper, removed area PI\n",
      "'JB76A-PI': {'PS73-PROA': {'PDC': 12, 'RC': 'L', 'TP': []}},\n",
      "'PS73-PAI': {'JB76A-PI': {'PDC': 12, 'RC': 'S', 'TP': []}},\n",
      "'PS73-PROA': {'JB76A-PI': {'PDC': 12, 'RC': 'S', 'TP': []}},\n",
      "\n",
      "'JB76A-7': {'PS82-PGOP': {'PDC': 2, 'RC': 'L', 'TP': []}}, #remove area 7\n",
      "'PS82-PGOP': {'JB76A-7': {'PDC': 2, 'RC': 'S', 'TP': []}},"
     ],
     "language": "python",
     "metadata": {},
     "outputs": [
      {
       "ename": "SyntaxError",
       "evalue": "invalid syntax (<ipython-input-390-1b94c851551b>, line 3)",
       "output_type": "pyerr",
       "traceback": [
        "\u001b[1;36m  File \u001b[1;32m\"<ipython-input-390-1b94c851551b>\"\u001b[1;36m, line \u001b[1;32m3\u001b[0m\n\u001b[1;33m    'SP78-IPA': {'UD86A-FST': {'PDC': 12, 'RC': 'L', 'TP': []}},\u001b[0m\n\u001b[1;37m              ^\u001b[0m\n\u001b[1;31mSyntaxError\u001b[0m\u001b[1;31m:\u001b[0m invalid syntax\n"
       ]
      }
     ],
     "prompt_number": 390
    },
    {
     "cell_type": "markdown",
     "metadata": {},
     "source": [
      "\n",
      "#Overlap with deduced MapGraph"
     ]
    },
    {
     "cell_type": "markdown",
     "metadata": {},
     "source": [
      "insula working"
     ]
    },
    {
     "cell_type": "code",
     "collapsed": false,
     "input": [
      "insula_mapgraph=coco.MapGraph()\n",
      "insula_nodelist= insula_soma_lateral_nodes\n",
      "for x,y in mapg.edges_iter():\n",
      "    if x in insula_nodelist and y in insula_nodelist and x.split('-')[0]!=y.split('-')[0]:\n",
      "        insula_mapgraph.add_edge(x,y,mapg.edge[x][y]['RC'],mapg.edge[x][y]['PDC'])\n"
     ],
     "language": "python",
     "metadata": {},
     "outputs": [],
     "prompt_number": 583
    },
    {
     "cell_type": "code",
     "collapsed": false,
     "input": [
      "insula_mapgraph.edge"
     ],
     "language": "python",
     "metadata": {},
     "outputs": [
      {
       "output_type": "pyout",
       "prompt_number": 584,
       "text": [
        "{'JB76A-AI': {'MM82B-AI': {'PDC': 15, 'RC': 'I', 'TP': []}},\n",
        " 'JB76A-SII': {'MM82A-SII': {'PDC': 15, 'RC': 'I', 'TP': []},\n",
        "  'MM82B-SII': {'PDC': 15, 'RC': 'I', 'TP': []}},\n",
        " 'MM82A-AI': {'MM82B-AI': {'PDC': 2, 'RC': 'I', 'TP': []},\n",
        "  'MM82C-AI': {'PDC': 2, 'RC': 'I', 'TP': []}},\n",
        " 'MM82A-AII': {'MM82B-AII': {'PDC': 2, 'RC': 'I', 'TP': []},\n",
        "  'MM82C-AII': {'PDC': 2, 'RC': 'I', 'TP': []}},\n",
        " 'MM82A-SI': {'MM82B-SI': {'PDC': 2, 'RC': 'I', 'TP': []},\n",
        "  'MM82C-SI': {'PDC': 2, 'RC': 'I', 'TP': []}},\n",
        " 'MM82A-SII': {'JB76A-SII': {'PDC': 15, 'RC': 'I', 'TP': []},\n",
        "  'MM82B-SII': {'PDC': 2, 'RC': 'I', 'TP': []},\n",
        "  'MM82C-SII': {'PDC': 2, 'RC': 'I', 'TP': []}},\n",
        " 'MM82B-AI': {'JB76A-AI': {'PDC': 15, 'RC': 'I', 'TP': []},\n",
        "  'MM82A-AI': {'PDC': 2, 'RC': 'I', 'TP': []}},\n",
        " 'MM82B-AII': {'MM82A-AII': {'PDC': 2, 'RC': 'I', 'TP': []}},\n",
        " 'MM82B-SI': {'MM82A-SI': {'PDC': 2, 'RC': 'I', 'TP': []}},\n",
        " 'MM82B-SII': {'JB76A-SII': {'PDC': 15, 'RC': 'I', 'TP': []},\n",
        "  'MM82A-SII': {'PDC': 2, 'RC': 'I', 'TP': []}},\n",
        " 'MM82C-AI': {'MM82A-AI': {'PDC': 2, 'RC': 'I', 'TP': []}},\n",
        " 'MM82C-AII': {'MM82A-AII': {'PDC': 2, 'RC': 'I', 'TP': []}},\n",
        " 'MM82C-SI': {'MM82A-SI': {'PDC': 2, 'RC': 'I', 'TP': []}},\n",
        " 'MM82C-SII': {'MM82A-SII': {'PDC': 2, 'RC': 'I', 'TP': []}}}"
       ]
      }
     ],
     "prompt_number": 584
    },
    {
     "cell_type": "code",
     "collapsed": false,
     "input": [
      " This is a difficult parcellation, test for overlap is critical\n",
      " insula_soma_lateral_nodes= [\n",
      "#Jones and Burton fields of Insula based on thalamic connectivity and some cytoarch \n",
      "'JB76A-G',\n",
      "'JB76A-IG',\n",
      "'JB76A-ID',\n",
      "'JB76A-SII',\n",
      "'JB76A-IA',\n",
      "'JB76A-RL', #PS I\n",
      "'JB76A-AI', \n",
      "'JB76A-PI',\n",
      "'JB76A-SI',\n",
      "'JB76A-RI', #PS I\n",
      "'JB76A-3A', #somatosensory, maybe overlap, but hopefully I with others\n",
      "'JB76A-3B',#somatosensory, maybe overlap, but hopefully I with others\n",
      "'KCTEC95-VS',\n",
      "'KCTEC95-PV',\n",
      "'KCTEC95-SI',\n",
      "'KCTEC95-SII',\n",
      "\n",
      "\n",
      "'MM82A-SI',\n",
      "'MM82B-SI',\n",
      "'MM82C-SI',\n",
      "'MM82A-SII',\n",
      "'MM82B-SII',\n",
      "'MM82C-SII', \n",
      "'MM82A-IG',\n",
      "'MM82A-INS',\n",
      "'MM82A-AI',\n",
      "'MM82B-AI',\n",
      "'MM82C-AI',\n",
      "'MM82A-AII',\n",
      "'MM82B-AII',\n",
      "'MM82C-AII',\n",
      "'MM82A-IA-P', #S with IA\n",
      "'MM82A-G',\n",
      "\n",
      "#sensory motor check for overlap\n",
      "'KCTEC95-7B',\n",
      "'KCTEC95-7A',\n",
      "'JB76A-7A',\n",
      "'JB76A-5',\n",
      "'JB76A-7',\n",
      "'JB76A-J',\n",
      "'JB76A-7B',\n",
      "'KCTEC95-5',\n",
      "\n",
      " \n",
      "#insula_unknowns:\n",
      "'MM82A-TP',\n",
      "'MM82A-STPG',\n",
      "'MM82A-PRCO',\n",
      "'MM82A-CL',\n",
      "'MM82A-OFG',\n",
      "'MM82A-OFO',\n",
      "'MM82A-POC', \n",
      "'MM82A-IDG',\n",
      "'MM82A-STP', \n",
      "'MM82A-AMG',\n",
      "'MM82A-OFA-P',\n",
      "'MM82A-TPDG',\n",
      "'MM82A-TPA-P',\n",
      "'MM82A-1',\n",
      "'MM82A-3',\n",
      "'MM82A-2',\n",
      "'MM82A-RI',\n",
      "'MM82A-PF',\n",
      "'MM82A-PA',\n",
      "'MM82A-PI',\n",
      "'MM82A-PT',\n",
      "'MM82A-OFDG', \n",
      "'MM82B-POC', \n",
      "'MM82B-AMG',\n",
      "'MM82B-PT',\n",
      "'MM82B-PI', \n",
      "'MM82B-CL',\n",
      "'MM82B-6',\n",
      "'MM82B-5', \n",
      "'MM82C-6',\n",
      "'MM82C-5',\n",
      "'MM82C-AMG',\n",
      "'MM82C-POC',\n",
      "'MM82C-CL',\n",
      "'MM82C-45',\n",
      "#dunno what to do with these\n",
      "'JB76A-1',\n",
      "'JB76A-2',\n",
      "'JB76A-PK',\n",
      "'JB76A-PA',"
     ],
     "language": "python",
     "metadata": {},
     "outputs": []
    },
    {
     "cell_type": "code",
     "collapsed": false,
     "input": [
      "'JB76A-3A': {'KCTEC95-SI': {'PDC': 16, 'RC': 'S', 'TP': []},\n",
      "  'MM82B-SI': {'PDC': 15, 'RC': 'S', 'TP': []},\n",
      "  'MM82C-SI': {'PDC': 15, 'RC': 'S', 'TP': []}},\n",
      " 'JB76A-3B': {'KCTEC95-SI': {'PDC': 16, 'RC': 'S', 'TP': []},\n",
      "  'MM82B-SI': {'PDC': 16, 'RC': 'S', 'TP': []},\n",
      "  'MM82C-SI': {'PDC': 16, 'RC': 'S', 'TP': []}},\n",
      " 'KCTEC95-SI': {'JB76A-3A': {'PDC': 16, 'RC': 'L', 'TP': []},\n",
      "  'JB76A-3B': {'PDC': 16, 'RC': 'L', 'TP': []}},\n",
      " 'MM82B-SI': {'JB76A-3A': {'PDC': 15, 'RC': 'L', 'TP': []},\n",
      "  'JB76A-3B': {'PDC': 16, 'RC': 'L', 'TP': []}},\n",
      " 'MM82C-SI': {'JB76A-3A': {'PDC': 15, 'RC': 'L', 'TP': []},\n",
      "  'JB76A-3B': {'PDC': 16, 'RC': 'L', 'TP': []}},\n",
      " 'PP94-24': {'VPR87-24A': {'PDC': 2, 'RC': 'L', 'TP': []},\n",
      "  'VPR87-24B': {'PDC': 2, 'RC': 'L', 'TP': []},\n",
      "  'VPR87-24C': {'PDC': 2, 'RC': 'L', 'TP': []}},\n",
      " 'SP78-PG': {'UD86A-MST': {'PDC': 12, 'RC': 'L', 'TP': []},\n",
      "  'UD86B-MST': {'PDC': 12, 'RC': 'L', 'TP': []}},\n",
      " 'UD86A-MST': {'SP78-PG': {'PDC': 12, 'RC': 'S', 'TP': []}},\n",
      " 'UD86B-MST': {'SP78-PG': {'PDC': 12, 'RC': 'S', 'TP': []}},\n",
      " 'VPR87-24A': {'PP94-24': {'PDC': 2, 'RC': 'S', 'TP': []}},\n",
      " 'VPR87-24B': {'PP94-24': {'PDC': 2, 'RC': 'S', 'TP': []}},\n",
      " 'VPR87-24C': {'PP94-24': {'PDC': 2, 'RC': 'S', 'TP': []}}}"
     ],
     "language": "python",
     "metadata": {},
     "outputs": []
    },
    {
     "cell_type": "code",
     "collapsed": false,
     "input": [
      "#document overlap between temporal lobe regions\n",
      "mapg.edge['PS73-PROA']"
     ],
     "language": "python",
     "metadata": {},
     "outputs": [
      {
       "output_type": "pyout",
       "prompt_number": 333,
       "text": [
        "{'GP83-PROA': {'PDC': 0, 'RC': 'I', 'TP': []},\n",
        " 'HSK98A-RM': {'PDC': 10, 'RC': 'I', 'TP': []},\n",
        " 'JB76A-PI': {'PDC': 12, 'RC': 'S', 'TP': []},\n",
        " 'MB73-CM': {'PDC': 12, 'RC': 'S', 'TP': []},\n",
        " 'PHT00-PROK': {'PDC': 15, 'RC': 'I', 'TP': []},\n",
        " 'R00-A2': {'PDC': 15, 'RC': 'S', 'TP': []},\n",
        " 'S72-PROA': {'PDC': 6, 'RC': 'I', 'TP': []},\n",
        " 'WW43-AII': {'PDC': 2, 'RC': 'S', 'TP': []}}"
       ]
      }
     ],
     "prompt_number": 333
    },
    {
     "cell_type": "markdown",
     "metadata": {},
     "source": [
      "Temporal Lobe Unknowns"
     ]
    },
    {
     "cell_type": "code",
     "collapsed": false,
     "input": [
      "#Others \n",
      "'SP78-OA',\n",
      "'SP78-OAA', \n",
      "'UD86A-V1',\n",
      "'UD86A-V2',\n",
      "'UD86A-V4',\n",
      "'UD86A-DMZ',\n",
      "'UD86A-V4T',\n",
      "'UD86B-V4T',\n",
      "'UD86B-VIP*',\n",
      "'UD86B-V3D',\n",
      "'UD86B-V1',\n",
      "'UD86B-V2',\n",
      "'UD86B-V4',\n",
      "'UD86B-VIP',\n",
      "'UD86B-V3V',\n",
      "'UD86B-PO',\n",
      "'UD86B-DMZ',"
     ],
     "language": "python",
     "metadata": {},
     "outputs": []
    },
    {
     "cell_type": "code",
     "collapsed": false,
     "input": [
      "all_studies_nodelist"
     ],
     "language": "python",
     "metadata": {},
     "outputs": [
      {
       "output_type": "pyout",
       "prompt_number": 315,
       "text": [
        "['PP94-47/12(O)',\n",
        " 'PP94-9/46D',\n",
        " 'PP94-9/46V',\n",
        " 'PP94-14',\n",
        " 'PP94-10',\n",
        " 'PP94-11',\n",
        " 'PP94-13',\n",
        " 'PP94-32',\n",
        " 'PP94-46',\n",
        " 'PP94-45B',\n",
        " 'PP94-45A',\n",
        " 'PP94-47/12(L)',\n",
        " 'PP94-47/12',\n",
        " 'PP94-8AD',\n",
        " 'PP94-8AV',\n",
        " 'PP94-8',\n",
        " 'PP94-9',\n",
        " 'PP94-G',\n",
        " 'PP94-25',\n",
        " 'PP94-24',\n",
        " 'PP94-45',\n",
        " 'PP94-44',\n",
        " 'PP94-9/46',\n",
        " 'PP94-8B',\n",
        " 'PP94-8A',\n",
        " 'PS82-PFOP',\n",
        " 'PS82-PEA',\n",
        " 'PS82-PEC',\n",
        " 'PS82-1',\n",
        " 'PS82-2',\n",
        " 'PS82-3',\n",
        " 'PS82-PE',\n",
        " 'PS82-PG',\n",
        " 'PS82-PF',\n",
        " 'PS82-OA',\n",
        " 'PS82-PGOP',\n",
        " 'PS82-PFG',\n",
        " 'PS82-23',\n",
        " 'PS82-POA',\n",
        " 'PS82-PGM',\n",
        " 'PS82-OPT',\n",
        " 'PS82-PECI',\n",
        " 'BP87-MII',\n",
        " 'BP87-SII',\n",
        " 'BP87-12',\n",
        " 'BP87-10',\n",
        " 'BP87-6DR',\n",
        " 'BP87-6DC',\n",
        " 'BP87-4',\n",
        " 'BP87-8',\n",
        " 'BP87-9',\n",
        " 'BP87-6VB',\n",
        " 'BP87-6VA',\n",
        " 'BP87-PROM',\n",
        " 'BP87-24',\n",
        " 'BP87-46',\n",
        " 'BP87-4C',\n",
        " 'VPR87-23B',\n",
        " 'VPR87-23C',\n",
        " 'VPR87-23A',\n",
        " 'VPR87-31',\n",
        " 'VPR87-30',\n",
        " 'VPR87-32',\n",
        " 'VPR87-29A',\n",
        " 'VPR87-29B',\n",
        " 'VPR87-29C',\n",
        " 'VPR87-29D',\n",
        " 'VPR87-6',\n",
        " 'VPR87-4',\n",
        " 'VPR87-24B',\n",
        " 'VPR87-25',\n",
        " 'VPR87-24C',\n",
        " 'VPR87-24A',\n",
        " 'VPR87-29',\n",
        " 'VPR87-23',\n",
        " 'VPR87-24',\n",
        " 'SP78-TS2',\n",
        " 'SP78-TS3',\n",
        " 'SP78-TS1',\n",
        " 'SP78-OAA',\n",
        " 'SP78-PAALT',\n",
        " 'SP78-TE1',\n",
        " 'SP78-TE2',\n",
        " 'SP78-TEA',\n",
        " 'SP78-TEM',\n",
        " 'SP78-TAA',\n",
        " 'SP78-PG',\n",
        " 'SP78-TH',\n",
        " 'SP78-TF',\n",
        " 'SP78-IPA',\n",
        " 'SP78-PGA',\n",
        " 'SP78-TE3',\n",
        " 'SP78-TPO',\n",
        " 'SP78-TPT',\n",
        " 'SP78-PRO',\n",
        " 'SP78-OA',\n",
        " 'UD86A-FST',\n",
        " 'UD86A-MST',\n",
        " 'UD86A-V1',\n",
        " 'UD86A-V2',\n",
        " 'UD86A-V4',\n",
        " 'UD86A-DMZ',\n",
        " 'UD86A-MT*',\n",
        " 'UD86A-MTP',\n",
        " 'UD86A-MT',\n",
        " 'UD86A-V4T',\n",
        " 'UD86B-V4T',\n",
        " 'UD86B-MST',\n",
        " 'UD86B-VIP*',\n",
        " 'UD86B-V3D',\n",
        " 'UD86B-V1',\n",
        " 'UD86B-V2',\n",
        " 'UD86B-V4',\n",
        " 'UD86B-VIP',\n",
        " 'UD86B-V3V',\n",
        " 'UD86B-PO',\n",
        " 'UD86B-FST',\n",
        " 'UD86B-MTP',\n",
        " 'UD86B-MT',\n",
        " 'UD86B-DMZ',\n",
        " 'PS73-REIPT',\n",
        " 'PS73-KALT',\n",
        " 'PS73-KAM',\n",
        " 'PS73-PRO',\n",
        " 'PS73-PAALT',\n",
        " 'PS73-PAAC',\n",
        " 'PS73-PAAR',\n",
        " 'PS73-TS3',\n",
        " 'PS73-TS2',\n",
        " 'PS73-TS1',\n",
        " 'PS73-PROA',\n",
        " 'PS73-PROS',\n",
        " 'PS73-REIT',\n",
        " 'PS73-TPT',\n",
        " 'PS73-PAI',\n",
        " 'JB76A-IG',\n",
        " 'JB76A-ID',\n",
        " 'JB76A-IA',\n",
        " 'JB76A-T1',\n",
        " 'JB76A-T3',\n",
        " 'JB76A-T2',\n",
        " 'JB76A-AI',\n",
        " 'JB76A-SI',\n",
        " 'JB76A-SII',\n",
        " 'JB76A-7A',\n",
        " 'JB76A-5',\n",
        " 'JB76A-7',\n",
        " 'JB76A-1',\n",
        " 'JB76A-2',\n",
        " 'JB76A-J',\n",
        " 'JB76A-G',\n",
        " 'JB76A-3A',\n",
        " 'JB76A-3B',\n",
        " 'JB76A-7B',\n",
        " 'JB76A-RI',\n",
        " 'JB76A-RL',\n",
        " 'JB76A-PI',\n",
        " 'JB76A-PK',\n",
        " 'JB76A-PA',\n",
        " 'MM82A-TP',\n",
        " 'MM82A-STPG',\n",
        " 'MM82A-PRCO',\n",
        " 'MM82A-IG',\n",
        " 'MM82A-CL',\n",
        " 'MM82A-AI',\n",
        " 'MM82A-OFG',\n",
        " 'MM82A-OFO',\n",
        " 'MM82A-POC',\n",
        " 'MM82A-SI',\n",
        " 'MM82A-IDG',\n",
        " 'MM82A-IA-P',\n",
        " 'MM82A-SII',\n",
        " 'MM82A-STP',\n",
        " 'MM82A-AII',\n",
        " 'MM82A-AMG',\n",
        " 'MM82A-OFA-P',\n",
        " 'MM82A-TPDG',\n",
        " 'MM82A-TPA-P',\n",
        " 'MM82A-INS',\n",
        " 'MM82A-1',\n",
        " 'MM82A-3',\n",
        " 'MM82A-2',\n",
        " 'MM82A-G',\n",
        " 'MM82A-RI',\n",
        " 'MM82A-PF',\n",
        " 'MM82A-PA',\n",
        " 'MM82A-PI',\n",
        " 'MM82A-PT',\n",
        " 'MM82A-OFDG',\n",
        " 'MM82B-SII',\n",
        " 'MM82B-POC',\n",
        " 'MM82B-SI',\n",
        " 'MM82B-AII',\n",
        " 'MM82B-AMG',\n",
        " 'MM82B-PT',\n",
        " 'MM82B-PI',\n",
        " 'MM82B-AI',\n",
        " 'MM82B-CL',\n",
        " 'MM82B-6',\n",
        " 'MM82B-5',\n",
        " 'MM82C-SI',\n",
        " 'MM82C-6',\n",
        " 'MM82C-5',\n",
        " 'MM82C-AMG',\n",
        " 'MM82C-AII',\n",
        " 'MM82C-AI',\n",
        " 'MM82C-POC',\n",
        " 'MM82C-CL',\n",
        " 'MM82C-45',\n",
        " 'MM82C-SII',\n",
        " 'KCTEC95-VS',\n",
        " 'KCTEC95-7B',\n",
        " 'KCTEC95-7A',\n",
        " 'KCTEC95-PV',\n",
        " 'KCTEC95-5',\n",
        " 'KCTEC95-SI',\n",
        " 'KCTEC95-SII']"
       ]
      }
     ],
     "prompt_number": 315
    },
    {
     "cell_type": "code",
     "collapsed": false,
     "input": [],
     "language": "python",
     "metadata": {},
     "outputs": []
    },
    {
     "cell_type": "markdown",
     "metadata": {},
     "source": [
      "#Overlap Analyses"
     ]
    },
    {
     "cell_type": "code",
     "collapsed": false,
     "input": [],
     "language": "python",
     "metadata": {},
     "outputs": []
    },
    {
     "cell_type": "code",
     "collapsed": false,
     "input": [
      "area1_mapg=coco.MapGraph()\n",
      "area1_degrees={}\n",
      "for x,y in mapg.edges_iter():\n",
      "            if x.split('-')[1]=='1':\n",
      "                area1_mapg.add_edge(x,y,mapg.edge[x][y]['RC'],mapg.edge[x][y]['PDC'])\n",
      "                area1_degrees[x]=len(mapg[x])"
     ],
     "language": "python",
     "metadata": {},
     "outputs": [],
     "prompt_number": 482
    },
    {
     "cell_type": "code",
     "collapsed": false,
     "input": [
      "area1_degrees"
     ],
     "language": "python",
     "metadata": {},
     "outputs": [
      {
       "output_type": "pyout",
       "prompt_number": 483,
       "text": [
        "{'AP84-1': 2,\n",
        " 'B05-1': 10,\n",
        " 'B09-1': 8,\n",
        " 'B81-1-MAP': 1,\n",
        " 'B88-1': 1,\n",
        " 'B88-1-2': 1,\n",
        " 'BF95-1': 11,\n",
        " 'CG89A-1': 1,\n",
        " 'CP95B-1-2': 1,\n",
        " 'CP99-1': 6,\n",
        " 'FV91-1': 2,\n",
        " 'GBP87-1': 1,\n",
        " 'GG95-1': 1,\n",
        " 'IAC87A-1': 1,\n",
        " 'JB76A-1': 7,\n",
        " 'JCH78-1': 3,\n",
        " 'L86-1': 1,\n",
        " 'MCSGP04-1': 1,\n",
        " 'MM82A-1': 2,\n",
        " 'PG89-1': 1,\n",
        " 'PG91B-1-2': 4,\n",
        " 'PGCK85-1': 23,\n",
        " 'PHT00-1': 1,\n",
        " 'PK85-1': 14,\n",
        " 'PM59-1': 2,\n",
        " 'PP84-1': 1,\n",
        " 'PS82-1': 1,\n",
        " 'RA63-1': 2,\n",
        " 'RA63-1-2': 4,\n",
        " 'RAP87-1': 1,\n",
        " 'SP90-1': 1,\n",
        " 'TTNI97-1': 1,\n",
        " 'VV19-1': 3}"
       ]
      }
     ],
     "prompt_number": 483
    },
    {
     "cell_type": "code",
     "collapsed": false,
     "input": [
      "mapg['B09-1']"
     ],
     "language": "python",
     "metadata": {},
     "outputs": [
      {
       "output_type": "pyout",
       "prompt_number": 490,
       "text": [
        "{'CG89A-1': {'PDC': 15, 'RC': 'I', 'TP': []},\n",
        " 'IAC87A-1': {'PDC': 15, 'RC': 'I', 'TP': []},\n",
        " 'JB76A-1': {'PDC': 15, 'RC': 'I', 'TP': []},\n",
        " 'PG91B-1-2': {'PDC': 10, 'RC': 'S', 'TP': []},\n",
        " 'PHT00-1': {'PDC': 15, 'RC': 'I', 'TP': []},\n",
        " 'PHT00-2/1': {'PDC': 15, 'RC': 'O', 'TP': []},\n",
        " 'PP84-1': {'PDC': 10, 'RC': 'I', 'TP': []},\n",
        " 'R00-S1': {'PDC': 15, 'RC': 'S', 'TP': []}}"
       ]
      }
     ],
     "prompt_number": 490
    },
    {
     "cell_type": "code",
     "collapsed": false,
     "input": [
      "#find overlapping regions\n",
      "overlap_mapgraph=coco.MapGraph()\n",
      "for source in all_studies_nodelist:\n",
      "    for target in all_studies_nodelist:\n",
      "        for x,y in mapg.edges_iter():\n",
      "            if x== source and y==target:\n",
      "                overlap_mapgraph.add_edge(x,y,mapg.edge[x][y]['RC'],mapg.edge[x][y]['PDC'])"
     ],
     "language": "python",
     "metadata": {},
     "outputs": [
      {
       "ename": "KeyboardInterrupt",
       "evalue": "",
       "output_type": "pyerr",
       "traceback": [
        "\u001b[1;31m---------------------------------------------------------------------------\u001b[0m\n\u001b[1;31mKeyboardInterrupt\u001b[0m                         Traceback (most recent call last)",
        "\u001b[1;32m<ipython-input-275-2ab137da20c6>\u001b[0m in \u001b[0;36m<module>\u001b[1;34m()\u001b[0m\n\u001b[0;32m      3\u001b[0m \u001b[1;32mfor\u001b[0m \u001b[0msource\u001b[0m \u001b[1;32min\u001b[0m \u001b[0mall_studies_nodelist\u001b[0m\u001b[1;33m:\u001b[0m\u001b[1;33m\u001b[0m\u001b[0m\n\u001b[0;32m      4\u001b[0m     \u001b[1;32mfor\u001b[0m \u001b[0mtarget\u001b[0m \u001b[1;32min\u001b[0m \u001b[0mall_studies_nodelist\u001b[0m\u001b[1;33m:\u001b[0m\u001b[1;33m\u001b[0m\u001b[0m\n\u001b[1;32m----> 5\u001b[1;33m         \u001b[1;32mfor\u001b[0m \u001b[0mx\u001b[0m\u001b[1;33m,\u001b[0m\u001b[0my\u001b[0m \u001b[1;32min\u001b[0m \u001b[0mmapg\u001b[0m\u001b[1;33m.\u001b[0m\u001b[0medges_iter\u001b[0m\u001b[1;33m(\u001b[0m\u001b[1;33m)\u001b[0m\u001b[1;33m:\u001b[0m\u001b[1;33m\u001b[0m\u001b[0m\n\u001b[0m\u001b[0;32m      6\u001b[0m             \u001b[1;32mif\u001b[0m \u001b[0mx\u001b[0m\u001b[1;33m==\u001b[0m \u001b[0msource\u001b[0m \u001b[1;32mand\u001b[0m \u001b[0my\u001b[0m\u001b[1;33m==\u001b[0m\u001b[0mtarget\u001b[0m\u001b[1;33m:\u001b[0m\u001b[1;33m\u001b[0m\u001b[0m\n\u001b[0;32m      7\u001b[0m                 \u001b[0moverlap_mapgraph\u001b[0m\u001b[1;33m.\u001b[0m\u001b[0madd_edge\u001b[0m\u001b[1;33m(\u001b[0m\u001b[0mx\u001b[0m\u001b[1;33m,\u001b[0m\u001b[0my\u001b[0m\u001b[1;33m,\u001b[0m\u001b[0mmapg\u001b[0m\u001b[1;33m.\u001b[0m\u001b[0medge\u001b[0m\u001b[1;33m[\u001b[0m\u001b[0mx\u001b[0m\u001b[1;33m]\u001b[0m\u001b[1;33m[\u001b[0m\u001b[0my\u001b[0m\u001b[1;33m]\u001b[0m\u001b[1;33m[\u001b[0m\u001b[1;34m'RC'\u001b[0m\u001b[1;33m]\u001b[0m\u001b[1;33m,\u001b[0m\u001b[0mmapg\u001b[0m\u001b[1;33m.\u001b[0m\u001b[0medge\u001b[0m\u001b[1;33m[\u001b[0m\u001b[0mx\u001b[0m\u001b[1;33m]\u001b[0m\u001b[1;33m[\u001b[0m\u001b[0my\u001b[0m\u001b[1;33m]\u001b[0m\u001b[1;33m[\u001b[0m\u001b[1;34m'PDC'\u001b[0m\u001b[1;33m]\u001b[0m\u001b[1;33m)\u001b[0m\u001b[1;33m\u001b[0m\u001b[0m\n",
        "\u001b[1;32mc:\\Python27\\lib\\site-packages\\networkx-1.7rc1-py2.7.egg\\networkx\\classes\\digraph.pyc\u001b[0m in \u001b[0;36medges_iter\u001b[1;34m(self, nbunch, data)\u001b[0m\n\u001b[0;32m    742\u001b[0m         \u001b[1;32melse\u001b[0m\u001b[1;33m:\u001b[0m\u001b[1;33m\u001b[0m\u001b[0m\n\u001b[0;32m    743\u001b[0m             \u001b[1;32mfor\u001b[0m \u001b[0mn\u001b[0m\u001b[1;33m,\u001b[0m\u001b[0mnbrs\u001b[0m \u001b[1;32min\u001b[0m \u001b[0mnodes_nbrs\u001b[0m\u001b[1;33m:\u001b[0m\u001b[1;33m\u001b[0m\u001b[0m\n\u001b[1;32m--> 744\u001b[1;33m                 \u001b[1;32mfor\u001b[0m \u001b[0mnbr\u001b[0m \u001b[1;32min\u001b[0m \u001b[0mnbrs\u001b[0m\u001b[1;33m:\u001b[0m\u001b[1;33m\u001b[0m\u001b[0m\n\u001b[0m\u001b[0;32m    745\u001b[0m                     \u001b[1;32myield\u001b[0m \u001b[1;33m(\u001b[0m\u001b[0mn\u001b[0m\u001b[1;33m,\u001b[0m\u001b[0mnbr\u001b[0m\u001b[1;33m)\u001b[0m\u001b[1;33m\u001b[0m\u001b[0m\n\u001b[0;32m    746\u001b[0m \u001b[1;33m\u001b[0m\u001b[0m\n",
        "\u001b[1;31mKeyboardInterrupt\u001b[0m: "
       ]
      }
     ],
     "prompt_number": 275
    },
    {
     "cell_type": "code",
     "collapsed": false,
     "input": [
      "#studies to select: PS82, PP94, SP78\n",
      "selected ='MM82C'\n",
      "selected_nodelist=[]\n",
      "selected_graph=nx.DiGraph()\n",
      "for x in mapg.nodes():\n",
      "    if x.split('-')[0]==selected:\n",
      "        selected_nodelist.append(x)\n",
      "        selected_graph.add_edges_from(mapg.edges(x))\n",
      "        \n",
      "        \n",
      "        \n",
      "       "
     ],
     "language": "python",
     "metadata": {},
     "outputs": [],
     "prompt_number": 267
    },
    {
     "cell_type": "code",
     "collapsed": false,
     "input": [
      "selected_nodelist"
     ],
     "language": "python",
     "metadata": {},
     "outputs": [
      {
       "output_type": "pyout",
       "prompt_number": 268,
       "text": [
        "['MM82C-SI',\n",
        " 'MM82C-6',\n",
        " 'MM82C-5',\n",
        " 'MM82C-AMG',\n",
        " 'MM82C-AII',\n",
        " 'MM82C-AI',\n",
        " 'MM82C-POC',\n",
        " 'MM82C-CL',\n",
        " 'MM82C-45',\n",
        " 'MM82C-SII']"
       ]
      }
     ],
     "prompt_number": 268
    },
    {
     "cell_type": "code",
     "collapsed": false,
     "input": [
      "selected_mapgraph=coco.MapGraph()\n",
      "selected_edgelist=[]\n",
      "for x,y in mapg.edges_iter():\n",
      "    if x.split('-')[0] == y.split('-')[0]==selected:\n",
      "            selected_mapgraph.add_edge(x,y,mapg.edge[x][y]['RC'],mapg.edge[x][y]['PDC'],mapg.edge[x][y]['TP'])"
     ],
     "language": "python",
     "metadata": {},
     "outputs": [],
     "prompt_number": 219
    },
    {
     "cell_type": "code",
     "collapsed": false,
     "input": [
      "selected_nodelist"
     ],
     "language": "python",
     "metadata": {},
     "outputs": [
      {
       "output_type": "pyout",
       "prompt_number": 220,
       "text": [
        "['UD86B-V4T',\n",
        " 'UD86B-MST',\n",
        " 'UD86B-VIP*',\n",
        " 'UD86B-V3D',\n",
        " 'UD86B-V1',\n",
        " 'UD86B-V2',\n",
        " 'UD86B-V4',\n",
        " 'UD86B-VIP',\n",
        " 'UD86B-V3V',\n",
        " 'UD86B-PO',\n",
        " 'UD86B-FST',\n",
        " 'UD86B-MTP',\n",
        " 'UD86B-MT',\n",
        " 'UD86B-DMZ']"
       ]
      }
     ],
     "prompt_number": 220
    },
    {
     "cell_type": "code",
     "collapsed": false,
     "input": [
      "#Compare mapping statements for maps with overlapping region (i.e. UD86A, UD86B, SP78)\n",
      "compare=['UD86A', 'UD86B', 'SP78']\n",
      "compare_mapgraph=coco.MapGraph()\n",
      "for x,y in mapg.edges_iter():\n",
      "    if x.split('-')[0] == compare[0] and y.split('-')[0]==compare[2]:\n",
      "        compare_mapgraph.add_edge(x,y, mapg.edge[x][y]['RC'],mapg.edge[x][y]['PDC'])\n",
      "        \n",
      "compare_mapgraph.edge        "
     ],
     "language": "python",
     "metadata": {},
     "outputs": [
      {
       "output_type": "pyout",
       "prompt_number": 234,
       "text": [
        "{'SP78-IPA': {'UD86A-FST': {'PDC': 12, 'RC': 'L', 'TP': []}},\n",
        " 'SP78-OA': {'UD86A-V4': {'PDC': 2, 'RC': 'L', 'TP': []},\n",
        "  'UD86A-V4T': {'PDC': 2, 'RC': 'L', 'TP': []}},\n",
        " 'SP78-OAA': {'UD86A-MT*': {'PDC': 2, 'RC': 'L', 'TP': []}},\n",
        " 'UD86A-FST': {'SP78-IPA': {'PDC': 12, 'RC': 'S', 'TP': []}},\n",
        " 'UD86A-MT*': {'SP78-OAA': {'PDC': 2, 'RC': 'S', 'TP': []}},\n",
        " 'UD86A-V4': {'SP78-OA': {'PDC': 2, 'RC': 'S', 'TP': []}},\n",
        " 'UD86A-V4T': {'SP78-OA': {'PDC': 2, 'RC': 'S', 'TP': []}}}"
       ]
      }
     ],
     "prompt_number": 234
    },
    {
     "cell_type": "code",
     "collapsed": false,
     "input": [],
     "language": "python",
     "metadata": {},
     "outputs": [],
     "prompt_number": 236
    },
    {
     "cell_type": "code",
     "collapsed": false,
     "input": [
      "# created dict with region, centrality, degree\n",
      "central=nx.degree_centrality(mapg)\n",
      "compare_dict={}\n",
      "for map in compare:\n",
      "    compare_dict[map]={}\n",
      "    for x in mapg.nodes():\n",
      "        if x.split('-')[0]==map:\n",
      "            compare_dict[map][x]=central[x]"
     ],
     "language": "python",
     "metadata": {},
     "outputs": [],
     "prompt_number": 252
    },
    {
     "cell_type": "code",
     "collapsed": false,
     "input": [
      "compare_dict['SP78'], compare_dict['UD86A']"
     ],
     "language": "python",
     "metadata": {},
     "outputs": [
      {
       "output_type": "pyout",
       "prompt_number": 255,
       "text": [
        "({'SP78-IPA': 0.0068320747932398415,\n",
        "  'SP78-OA': 0.0032362459546925564,\n",
        "  'SP78-OAA': 0.005034160373966199,\n",
        "  'SP78-PAALT': 0.0025170801869830997,\n",
        "  'SP78-PG': 0.0010787486515641855,\n",
        "  'SP78-PGA': 0.007551240560949298,\n",
        "  'SP78-PRO': 0.002876663070837828,\n",
        "  'SP78-TAA': 0.004674577490111471,\n",
        "  'SP78-TE1': 0.005753326141675656,\n",
        "  'SP78-TE2': 0.006112909025530385,\n",
        "  'SP78-TE3': 0.004314994606256742,\n",
        "  'SP78-TEA': 0.006472491909385113,\n",
        "  'SP78-TEM': 0.006112909025530385,\n",
        "  'SP78-TF': 0.0003595828838547285,\n",
        "  'SP78-TH': 0.0003595828838547285,\n",
        "  'SP78-TPO': 0.008989572096368213,\n",
        "  'SP78-TPT': 0.002876663070837828,\n",
        "  'SP78-TS1': 0.0025170801869830997,\n",
        "  'SP78-TS2': 0.0025170801869830997,\n",
        "  'SP78-TS3': 0.002876663070837828},\n",
        " {'UD86A-DMZ': 0.0010787486515641855,\n",
        "  'UD86A-FST': 0.0017979144192736426,\n",
        "  'UD86A-MST': 0.001438331535418914,\n",
        "  'UD86A-MT': 0.0025170801869830997,\n",
        "  'UD86A-MT*': 0.000719165767709457,\n",
        "  'UD86A-MTP': 0.0025170801869830997,\n",
        "  'UD86A-V1': 0.0010787486515641855,\n",
        "  'UD86A-V2': 0.000719165767709457,\n",
        "  'UD86A-V4': 0.001438331535418914,\n",
        "  'UD86A-V4T': 0.0017979144192736426})"
       ]
      }
     ],
     "prompt_number": 255
    },
    {
     "cell_type": "code",
     "collapsed": false,
     "input": [
      "hybrid_edges = [('PS82-PFOP', 'HYBRID13-PFOP', {'RC': 'I', 'PDC' : 2}),\n",
      "\t\t\t\t\t('PS82-PEA', 'HYBRID13-PEA', {'RC': 'I', 'PDC' : 2}),\n",
      "\t\t\t\t\t('PS82-PEC', 'HYBRID13-PEC', {'RC': 'I', 'PDC' : 2}), \n",
      "\t\t\t\t\t('PS82-1', 'HYBRID13-1', {'RC': 'I', 'PDC' : 2}),\n",
      "\t\t\t\t\t('PS82-2', 'HYBRID13-2', {'RC': 'I', 'PDC' : 2}),\n",
      "\t\t\t\t\t('PS82-3', 'HYBRID13-3', {'RC': 'I', 'PDC' : 2}),\n",
      "\t\t\t\t\t('PS82-PE', 'HYBRID13-PE', {'RC': 'I', 'PDC' : 2}),\n",
      "\t\t\t\t\t('PS82-PG', 'HYBRID13-PG', {'RC': 'I', 'PDC' : 2}),\n",
      "\t\t\t\t\t('PS82-PF', 'HYBRID13-PF', {'RC': 'I', 'PDC' : 2}),\n",
      "\t\t\t\t\t('PS82-OA', 'HYBRID13-OA', {'RC': 'I', 'PDC' : 2}),\n",
      "\t\t\t\t\t('PS82-PGOP', 'HYBRID13-PGOP', {'RC': 'I', 'PDC' : 2}),\n",
      "\t\t\t\t\t('PS82-PFG', 'HYBRID13-PFG', {'RC': 'I', 'PDC' : 2}),\n",
      "\t\t\t\t\t('PS82-23', 'HYBRID13-23', {'RC': 'I', 'PDC' : 2}),\n",
      "\t\t\t\t\t('PS82-POA', 'HYBRID13-POA', {'RC': 'I', 'PDC' : 2}),\n",
      "\t\t\t\t\t('PS82-PGM', 'HYBRID13-PGM', {'RC': 'I', 'PDC' : 2}),\n",
      "\t\t\t\t\t('PS82-OPT', 'HYBRID13-OPT', {'RC': 'I', 'PDC' : 2}),\n",
      "\t\t\t\t\t('PS82-PECI', 'HYBRID13-PECI', {'RC': 'I', 'PDC' : 2}),]"
     ],
     "language": "python",
     "metadata": {},
     "outputs": [],
     "prompt_number": 108
    },
    {
     "cell_type": "code",
     "collapsed": false,
     "input": [
      "test.add_edges_from(hybrid_edges)"
     ],
     "language": "python",
     "metadata": {},
     "outputs": [],
     "prompt_number": 111
    },
    {
     "cell_type": "code",
     "collapsed": false,
     "input": [
      "test.edge['HYBRID13-PEC']"
     ],
     "language": "python",
     "metadata": {},
     "outputs": [
      {
       "output_type": "pyout",
       "prompt_number": 116,
       "text": [
        "{'PS82-PEC': {'PDC': 2, 'RC': 'I', 'TP': []}}"
       ]
      }
     ],
     "prompt_number": 116
    },
    {
     "cell_type": "code",
     "collapsed": false,
     "input": [
      "all_deg_cent=nx.degree_centrality(selected_graph)"
     ],
     "language": "python",
     "metadata": {},
     "outputs": [],
     "prompt_number": 93
    },
    {
     "cell_type": "code",
     "collapsed": false,
     "input": [
      "a[selected_nodelist[0]]"
     ],
     "language": "python",
     "metadata": {},
     "outputs": [
      {
       "output_type": "pyout",
       "prompt_number": 102,
       "text": [
        "0.057971014492753624"
       ]
      }
     ],
     "prompt_number": 102
    },
    {
     "cell_type": "code",
     "collapsed": false,
     "input": [
      "for key in all_deg_cent==selected_nodelist:\n",
      "    "
     ],
     "language": "python",
     "metadata": {},
     "outputs": [
      {
       "ename": "TypeError",
       "evalue": "unhashable type: 'list'",
       "output_type": "pyerr",
       "traceback": [
        "\u001b[1;31m---------------------------------------------------------------------------\u001b[0m\n\u001b[1;31mTypeError\u001b[0m                                 Traceback (most recent call last)",
        "\u001b[1;32m<ipython-input-92-241df068b95f>\u001b[0m in \u001b[0;36m<module>\u001b[1;34m()\u001b[0m\n\u001b[1;32m----> 1\u001b[1;33m \u001b[0ma\u001b[0m\u001b[1;33m[\u001b[0m\u001b[0mselected_nodelist\u001b[0m\u001b[1;33m]\u001b[0m\u001b[1;33m\u001b[0m\u001b[0m\n\u001b[0m",
        "\u001b[1;31mTypeError\u001b[0m: unhashable type: 'list'"
       ]
      }
     ],
     "prompt_number": 92
    }
   ],
   "metadata": {}
  }
 ]
}