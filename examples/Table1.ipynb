{
 "metadata": {
  "name": "Table1"
 },
 "nbformat": 3,
 "nbformat_minor": 0,
 "worksheets": [
  {
   "cells": [
    {
     "cell_type": "code",
     "collapsed": false,
     "input": [
      "pwd"
     ],
     "language": "python",
     "metadata": {},
     "outputs": [
      {
       "output_type": "pyout",
       "prompt_number": 1,
       "text": [
        "u'C:\\\\Users\\\\Robert\\\\cocomac\\\\cocomac-tools\\\\examples'"
       ]
      }
     ],
     "prompt_number": 1
    },
    {
     "cell_type": "code",
     "collapsed": false,
     "input": [
      "import cocotools as coco\n",
      "import networkx as nx\n",
      "import pickle"
     ],
     "language": "python",
     "metadata": {},
     "outputs": [],
     "prompt_number": 2
    },
    {
     "cell_type": "markdown",
     "metadata": {},
     "source": [
      "This notebook will replicate the data in Table 1."
     ]
    },
    {
     "cell_type": "code",
     "collapsed": false,
     "input": [
      "mapname='PHT00' \n",
      "namestub=mapname.lower()"
     ],
     "language": "python",
     "metadata": {},
     "outputs": [],
     "prompt_number": 5
    },
    {
     "cell_type": "code",
     "collapsed": false,
     "input": [
      "subcort={'PHT00':['AA','AHIMC', 'BM', 'BL', 'CE', 'CM' 'LA', 'ME'], 'R00' :['AMYG', 'HC']}"
     ],
     "language": "python",
     "metadata": {},
     "outputs": [],
     "prompt_number": 6
    },
    {
     "cell_type": "markdown",
     "metadata": {},
     "source": [
      "#Calculate descriptives for single study query "
     ]
    },
    {
     "cell_type": "code",
     "collapsed": false,
     "input": [
      "map_bunch, map_fails = coco.multi_map_ebunch('Mapping', [mapname])\n",
      "con_bunch, con_fails = coco.multi_map_ebunch('Connectivity', [mapname])\n",
      "\n",
      "#map_bunch_area, map_fails_area= coco.query_maps_by_area('Mapping', [mapname])\n",
      "#con_bunch_area, con_fails_area= coco.query_maps_by_area('Connectivity', [mapname])\n",
      "\n"
     ],
     "language": "python",
     "metadata": {},
     "outputs": [],
     "prompt_number": 7
    },
    {
     "cell_type": "code",
     "collapsed": false,
     "input": [
      "native_mapg=coco.MapGraph()\n",
      "native_cong=coco.ConGraph()\n",
      "\n",
      "native_mapg.add_edges_from(map_bunch)\n",
      "native_cong.add_edges_from(con_bunch)\n",
      "\n",
      "#native_mapg.add_edges_from(map_bunch_area)\n",
      "#native_cong.add_edges_from(con_bunch_area)"
     ],
     "language": "python",
     "metadata": {},
     "outputs": [],
     "prompt_number": 8
    },
    {
     "cell_type": "code",
     "collapsed": false,
     "input": [
      "native_mapg.keep_only_one_level_of_resolution(native_cong, mapname)\n",
      "native_cong=coco.strip_absent_and_unknown_edges(native_cong)"
     ],
     "language": "python",
     "metadata": {},
     "outputs": [],
     "prompt_number": 9
    },
    {
     "cell_type": "code",
     "collapsed": false,
     "input": [
      "y=native_mapg.nodes()\n",
      "y.sort()\n",
      "#native_nodes=[]\n",
      "native_nnodes=sum(1 if y[xval].startswith(mapname) else 0 for xval in range(len(y)))"
     ],
     "language": "python",
     "metadata": {},
     "outputs": [],
     "prompt_number": 10
    },
    {
     "cell_type": "code",
     "collapsed": false,
     "input": [
      "edgelist=native_cong.edges()\n",
      "native_edge=0\n",
      "for x in range(native_cong.number_of_edges()):\n",
      "    string_pred=edgelist[x][0]\n",
      "    string_suc=edgelist[x][1]\n",
      "    native_edge=native_edge+(string_pred.startswith(mapname) + string_suc.startswith(mapname) ==2)"
     ],
     "language": "python",
     "metadata": {},
     "outputs": [],
     "prompt_number": 11
    },
    {
     "cell_type": "markdown",
     "metadata": {},
     "source": [
      "#Calculate descriptives for ORT and mORT translated EndGraphs"
     ]
    },
    {
     "cell_type": "markdown",
     "metadata": {},
     "source": [
      "The steps below will require proper EndGraphs from cocotools git-repo: *endg_ort.pck and *endg_mort.pck.\n",
      "You could make these files with the Appendix 1 notebook"
     ]
    },
    {
     "cell_type": "code",
     "collapsed": false,
     "input": [
      "end_stub_ort='..\\\\graphs\\\\' +mapname+\"_endg_ort.pck\" # chnage to reflect your path if different....\n",
      "end_stub_mort='..\\\\graphs\\\\' +mapname+\"_endg_mort.pck\"\n",
      "\n",
      "endg_file_ort=open(end_stub_ort,'rb')\n",
      "endg_ort=pickle.load(endg_file_ort)\n",
      "\n",
      "endg_file_mort=open(end_stub_mort,'rb')\n",
      "endg_mort=pickle.load(endg_file_mort)"
     ],
     "language": "python",
     "metadata": {},
     "outputs": [],
     "prompt_number": 12
    },
    {
     "cell_type": "markdown",
     "metadata": {},
     "source": [
      "remove subcort nodes"
     ]
    },
    {
     "cell_type": "code",
     "collapsed": false,
     "input": [
      "endg_ort.remove_nodes_from(subcort[mapname])\n",
      "endg_mort.remove_nodes_from(subcort[mapname])"
     ],
     "language": "python",
     "metadata": {},
     "outputs": [],
     "prompt_number": 13
    },
    {
     "cell_type": "code",
     "collapsed": false,
     "input": [
      "ort_nodes=endg_ort.nodes()\n",
      "ort_degrees=endg_ort.degree(ort_nodes).values()\n",
      "ort_connected_edges=sum(1 if ort_degrees[xval]>0 else 0 for xval in range(len(ort_degrees)))\n",
      "\n",
      "mort_nodes=endg_mort.nodes()\n",
      "mort_degrees=endg_mort.degree(mort_nodes).values()\n",
      "mort_connected_edges=sum(1 if mort_degrees[xval]>0 else 0 for xval in range(len(mort_degrees)))"
     ],
     "language": "python",
     "metadata": {},
     "outputs": [],
     "prompt_number": 14
    },
    {
     "cell_type": "code",
     "collapsed": false,
     "input": [
      "ort_density=nx.density(endg_ort)\n",
      "mort_density=nx.density(endg_mort)"
     ],
     "language": "python",
     "metadata": {},
     "outputs": [],
     "prompt_number": 15
    },
    {
     "cell_type": "markdown",
     "metadata": {},
     "source": [
      "##overlap between ORT and mORT"
     ]
    },
    {
     "cell_type": "code",
     "collapsed": false,
     "input": [
      "mORT_edges = set(endg_mort.edges())     # assuming mORT_endg is the mORT EndGraph\n",
      "ORT_edges = set(endg_ort.edges())\n",
      "common_edges = mORT_edges.intersection(ORT_edges)  # returns set of all edges they have in common\n",
      "ORT_only_edges = ORT_edges.difference(mORT_edges) # returns edges ORT has that mORT doesn't\n",
      "mORT_only_edges = mORT_edges.difference(ORT_edges)"
     ],
     "language": "python",
     "metadata": {},
     "outputs": [],
     "prompt_number": 16
    },
    {
     "cell_type": "markdown",
     "metadata": {},
     "source": [
      "#Report"
     ]
    },
    {
     "cell_type": "code",
     "collapsed": false,
     "input": [
      "print 'A simple', mapname, 'query found edges for', native_cong.number_of_nodes(), 'out of', native_nnodes, 'nodes. Totalling', native_cong.number_of_edges(), 'edges. There are', native_edge ,'native edges' "
     ],
     "language": "python",
     "metadata": {},
     "outputs": [
      {
       "output_type": "stream",
       "stream": "stdout",
       "text": [
        "A simple PHT00 query found edges for 48 out of 186 nodes. Totalling 49 edges. There are 0 native edges\n"
       ]
      }
     ],
     "prompt_number": 17
    },
    {
     "cell_type": "code",
     "collapsed": false,
     "input": [
      "print 'ORT w/ all of CoCoMac found edges for ', ort_connected_edges, 'out of', endg_ort.number_of_nodes(), 'nodes. There are', endg_ort.number_of_nodes()-ort_connected_edges, 'nodes with no edges. There are ', endg_ort.number_of_edges(), 'edges. The density is', (ort_density)*100,'.'"
     ],
     "language": "python",
     "metadata": {},
     "outputs": [
      {
       "output_type": "stream",
       "stream": "stdout",
       "text": [
        "ORT w/ all of CoCoMac found edges for  96 out of 135 nodes. There are 39 nodes with no edges. There are  664 edges. The density is 3.67053620785 .\n"
       ]
      }
     ],
     "prompt_number": 18
    },
    {
     "cell_type": "code",
     "collapsed": false,
     "input": [
      "print 'mORT w/ all of CoCoMac found edges for ', mort_connected_edges, 'out of', endg_mort.number_of_nodes(), 'nodes.There are ', endg_mort.number_of_nodes()-mort_connected_edges, 'nodes with no edges. There are ', endg_mort.number_of_edges(), 'edges.The density is', (mort_density)*100,'.'"
     ],
     "language": "python",
     "metadata": {},
     "outputs": [
      {
       "output_type": "stream",
       "stream": "stdout",
       "text": [
        "mORT w/ all of CoCoMac found edges for  93 out of 135 nodes.There are  42 nodes with no edges. There are  654 edges.The density is 3.61525704809 .\n"
       ]
      }
     ],
     "prompt_number": 19
    },
    {
     "cell_type": "code",
     "collapsed": false,
     "input": [
      "print 'There are', len(common_edges), 'edges in common between ORT and mORT'"
     ],
     "language": "python",
     "metadata": {},
     "outputs": [
      {
       "output_type": "stream",
       "stream": "stdout",
       "text": [
        "There are 654 edges in common between ORT and mORT\n"
       ]
      }
     ],
     "prompt_number": 20
    },
    {
     "cell_type": "code",
     "collapsed": false,
     "input": [],
     "language": "python",
     "metadata": {},
     "outputs": []
    }
   ],
   "metadata": {}
  }
 ]
}