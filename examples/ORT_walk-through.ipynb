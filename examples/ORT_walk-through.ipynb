{
 "metadata": {
  "name": "ORT_walk-through"
 },
 "nbformat": 3,
 "nbformat_minor": 0,
 "worksheets": [
  {
   "cells": [
    {
     "cell_type": "markdown",
     "metadata": {},
     "source": [
      "#Tutorial and Walkthrough for the steps of ORT and mORT"
     ]
    },
    {
     "cell_type": "markdown",
     "metadata": {},
     "source": [
      "Here we will go through the conceptual stages of ORT and mORT and we shall see an example for how ORT can mistranslated edges"
     ]
    },
    {
     "cell_type": "markdown",
     "metadata": {},
     "source": [
      "We use the same data discussed in Figure 9 and in the Results of the JoCN Methods paper"
     ]
    },
    {
     "cell_type": "code",
     "collapsed": false,
     "input": [
      "#Import modules\n",
      "import cocotools as coco\n",
      "import networkx as nx\n",
      "import numpy as np\n",
      "import pickle\n",
      "import matplotlib.pyplot as plt\n",
      "import os"
     ],
     "language": "python",
     "metadata": {},
     "outputs": [],
     "prompt_number": 1
    },
    {
     "cell_type": "code",
     "collapsed": false,
     "input": [
      "pwd"
     ],
     "language": "python",
     "metadata": {},
     "outputs": [
      {
       "output_type": "pyout",
       "prompt_number": 2,
       "text": [
        "u'C:\\\\Users\\\\Robert\\\\cocomac\\\\cocomac-tools\\\\examples'"
       ]
      }
     ],
     "prompt_number": 2
    },
    {
     "cell_type": "code",
     "collapsed": false,
     "input": [
      "mapname='bb47'\n",
      "mapstub='C:\\\\Users\\Robert\\\\cocomac\\\\cocomac-tools\\\\graphs\\\\' +mapname+\"_post_deduce_mapg.pck\" #change this to reflect your path\n",
      "constub='C:\\\\Users\\Robert\\\\cocomac\\\\cocomac-tools\\\\graphs\\\\' +mapname+\"_post_deduce_cong.pck\" #change this to reflect your path\n",
      "mapfile=open(mapstub, 'rb')\n",
      "confile=open(constub, 'rb')\n",
      "mapg=pickle.load(mapfile)\n",
      "cong=pickle.load(confile)\n",
      "coconame=mapname.upper()\n",
      "\n",
      "\n",
      "endg_ort=coco.EndGraph()\n",
      "endg_mort=coco.EndGraph()\n",
      "endg_ort.add_translated_edges(mapg, cong, coconame, 'original')\n",
      "endg_mort.add_translated_edges(mapg, cong, coconame, 'modified')"
     ],
     "language": "python",
     "metadata": {},
     "outputs": [],
     "prompt_number": 3
    },
    {
     "cell_type": "markdown",
     "metadata": {},
     "source": [
      "#add attributes for strip absent and unknown"
     ]
    },
    {
     "cell_type": "markdown",
     "metadata": {},
     "source": [
      "this step is neccessary to see the final attributes for the edges transated by ORT and mORT"
     ]
    },
    {
     "cell_type": "code",
     "collapsed": false,
     "input": [
      "end=endg_ort\n",
      "g = coco.EndGraph()\n",
      "g.add_nodes_from(end.nodes())\n",
      "h = coco.EndGraph()\n",
      "h.add_nodes_from(end.nodes())\n",
      "for source, target in end.edges_iter():\n",
      "        if end[source][target].has_key('Connection'):\n",
      "            if end[source][target]['Connection'] in ('Present', 'Absent'):\n",
      "                g.add_edge(source, target, end[source][target])\n",
      "        else:\n",
      "            source_ec = end[source][target]['EC_Source']\n",
      "            target_ec = end[source][target]['EC_Target']\n",
      "            ns = ('N', 'Nc', 'Np', 'Nx', 'Up', 'Ux', 'U')\n",
      "            if source_ec not in ns and target_ec not in ns:\n",
      "                g.add_edge(source, target, end[source][target])\n",
      "\n",
      "                \n",
      "end_s_ort=g #\n"
     ],
     "language": "python",
     "metadata": {},
     "outputs": [],
     "prompt_number": 4
    },
    {
     "cell_type": "code",
     "collapsed": false,
     "input": [
      "end=endg_mort\n",
      "g = coco.EndGraph()\n",
      "g.add_nodes_from(end.nodes())\n",
      "for source, target in end.edges_iter():\n",
      "        if end[source][target].has_key('Connection'):\n",
      "            if end[source][target]['Connection'] in ('Present', 'Absent'):\n",
      "                g.add_edge(source, target, end[source][target])\n",
      "        else:\n",
      "            source_ec = end[source][target]['EC_Source']\n",
      "            target_ec = end[source][target]['EC_Target']\n",
      "            ns = ('N', 'Nc', 'Np', 'Nx', 'Up', 'Ux', 'U')\n",
      "            if source_ec not in ns and target_ec not in ns:\n",
      "                g.add_edge(source, target, end[source][target])\n",
      "\n",
      "                \n",
      "end_s_mort=g"
     ],
     "language": "python",
     "metadata": {},
     "outputs": [],
     "prompt_number": 5
    },
    {
     "cell_type": "markdown",
     "metadata": {},
     "source": [
      "#Making adjacency matrices and diff. adj. matrix"
     ]
    },
    {
     "cell_type": "markdown",
     "metadata": {},
     "source": [
      "\n",
      "Now we search the adjacency matrices for our ORT and mORT translated endgraphs and look for differences"
     ]
    },
    {
     "cell_type": "code",
     "collapsed": false,
     "input": [
      "ort_matrix=nx.to_numpy_matrix(end_s_ort)\n",
      "mort_matrix=nx.to_numpy_matrix(end_s_mort)\n",
      "diff_matrix= mort_matrix - ort_matrix\n",
      "        "
     ],
     "language": "python",
     "metadata": {},
     "outputs": [],
     "prompt_number": 6
    },
    {
     "cell_type": "code",
     "collapsed": false,
     "input": [
      "range(0,int(abs(diff_matrix.sum())))"
     ],
     "language": "python",
     "metadata": {},
     "outputs": [
      {
       "output_type": "pyout",
       "prompt_number": 7,
       "text": [
        "[0, 1, 2]"
       ]
      }
     ],
     "prompt_number": 7
    },
    {
     "cell_type": "code",
     "collapsed": false,
     "input": [
      "diff_cases=np.where(diff_matrix !=0)\n",
      "diff_num=int(abs(diff_matrix.sum()))\n",
      "\n",
      "print \"there are\", diff_num, \"cases where mORT and ORT differ \\n\"\n",
      "for x in range(0, diff_num):\n",
      "        print \"cell (\", diff_cases[0][0,x],\",\", diff_cases[1][0,x], \") differs\"\n"
     ],
     "language": "python",
     "metadata": {},
     "outputs": [
      {
       "output_type": "stream",
       "stream": "stdout",
       "text": [
        "there are 3 cases where mORT and ORT differ \n",
        "\n",
        "cell ( 5 , 4 ) differs\n",
        "cell ( 5 , 6 ) differs\n",
        "cell ( 34 , 6 ) differs\n"
       ]
      }
     ],
     "prompt_number": 8
    },
    {
     "cell_type": "markdown",
     "metadata": {},
     "source": [
      "there appears to be 3 edges that differ between ORT and mORT"
     ]
    },
    {
     "cell_type": "markdown",
     "metadata": {},
     "source": [
      "#Identify problem case"
     ]
    },
    {
     "cell_type": "markdown",
     "metadata": {},
     "source": [
      "Now lets select one of the divergence cases and explore it in detail"
     ]
    },
    {
     "cell_type": "code",
     "collapsed": false,
     "input": [
      "#I put in coordinates by hand\n",
      "#('OB', 'FD') this is the edge in question\n",
      "source_i=diff_cases[0][0,2] \n",
      "target_i=diff_cases[1][0,2]\n",
      "\n",
      "source=endg_ort.nodes()[source_i]\n",
      "target=endg_ort.nodes()[target_i]\n",
      "print \"selected cell (\", source_i,\",\", target_i, \")\""
     ],
     "language": "python",
     "metadata": {},
     "outputs": [
      {
       "output_type": "stream",
       "stream": "stdout",
       "text": [
        "selected cell ( 34 , 6 )\n"
       ]
      }
     ],
     "prompt_number": 9
    },
    {
     "cell_type": "code",
     "collapsed": false,
     "input": [
      "print \"the edge that is different between ORT and mORT that we have selected is:\"\n",
      "print source, \"to\", target"
     ],
     "language": "python",
     "metadata": {},
     "outputs": [
      {
       "output_type": "stream",
       "stream": "stdout",
       "text": [
        "the edge that is different between ORT and mORT that we have selected is:\n",
        "OB to FD\n"
       ]
      }
     ],
     "prompt_number": 10
    },
    {
     "cell_type": "code",
     "collapsed": false,
     "input": [
      "print \"Here is how they diverge:\"\n",
      "print \"mORT reports:   \",endg_mort[source][target]\n",
      "print \"ORT reports:    \", endg_ort[source][target]"
     ],
     "language": "python",
     "metadata": {},
     "outputs": [
      {
       "output_type": "stream",
       "stream": "stdout",
       "text": [
        "Here is how they diverge:\n",
        "mORT reports:    {'Connection': 'Unknown', 'PDC': 9.4264705882352935}\n",
        "ORT reports:     {'PDC': 9.4264705882352935, 'EC_Source': 'P', 'EC_Target': 'X'}\n"
       ]
      }
     ],
     "prompt_number": 11
    },
    {
     "cell_type": "markdown",
     "metadata": {},
     "source": [
      "##Determine which edges contributed to divergence"
     ]
    },
    {
     "cell_type": "markdown",
     "metadata": {},
     "source": [
      "Now we need to figure out which input edges can contribute to the BB47-OB to BB47-FD connection"
     ]
    },
    {
     "cell_type": "markdown",
     "metadata": {},
     "source": [
      "##Determine input edge"
     ]
    },
    {
     "cell_type": "markdown",
     "metadata": {},
     "source": [
      "###find all mapgraph neighbors of source and target region"
     ]
    },
    {
     "cell_type": "markdown",
     "metadata": {},
     "source": [
      "Lets call \"A\" all of the areas in mapgraph that have some spatial relationship to our source region"
     ]
    },
    {
     "cell_type": "markdown",
     "metadata": {},
     "source": [
      "Lets call \"B\" all of the areas in mapgraph that have some spatial relationship to our target region"
     ]
    },
    {
     "cell_type": "markdown",
     "metadata": {},
     "source": [
      "One or more anatomical connections between the regions in A and B was handled differently between ORT and mORT"
     ]
    },
    {
     "cell_type": "code",
     "collapsed": false,
     "input": [
      "prefix_source=coconame +\"-\"+source\n",
      "prefix_target=coconame +\"-\"+target\n",
      "\n",
      "A=mapg.neighbors(prefix_source)\n",
      "B=mapg.neighbors(prefix_target)\n",
      "A.append(prefix_source)\n",
      "B.append(prefix_target)"
     ],
     "language": "python",
     "metadata": {},
     "outputs": [],
     "prompt_number": 12
    },
    {
     "cell_type": "markdown",
     "metadata": {},
     "source": [
      "###find all anatomical connections between all these neighbors"
     ]
    },
    {
     "cell_type": "markdown",
     "metadata": {},
     "source": [
      "Now we need to find all the connections between A and B"
     ]
    },
    {
     "cell_type": "markdown",
     "metadata": {},
     "source": [
      "let \"projs\" be all the connections between A and B"
     ]
    },
    {
     "cell_type": "code",
     "collapsed": false,
     "input": [
      "projs=[e for e in cong.edges() if (e[0] in A) and (e[1] in B)]\n",
      "projs"
     ],
     "language": "python",
     "metadata": {},
     "outputs": [
      {
       "output_type": "pyout",
       "prompt_number": 13,
       "text": [
        "[('B88-V2', 'B88-32'),\n",
        " ('B88-V2', 'B88-12L'),\n",
        " ('B88-V2', 'B88-12O'),\n",
        " ('B88-V2', 'B88-11')]"
       ]
      }
     ],
     "prompt_number": 13
    },
    {
     "cell_type": "markdown",
     "metadata": {},
     "source": [
      "here are all the edges, now we need to know the ECs and RCs"
     ]
    },
    {
     "cell_type": "code",
     "collapsed": false,
     "input": [
      "cong['B88-V2']['B88-32']"
     ],
     "language": "python",
     "metadata": {},
     "outputs": [
      {
       "output_type": "pyout",
       "prompt_number": 14,
       "text": [
        "{'Connection': 'Present',\n",
        " 'Degree': 'X',\n",
        " 'EC_Source': 'P',\n",
        " 'EC_Target': 'X',\n",
        " 'PDC_Density': 18,\n",
        " 'PDC_EC_Source': 0,\n",
        " 'PDC_EC_Target': 18,\n",
        " 'PDC_Site_Source': 0,\n",
        " 'PDC_Site_Target': 0}"
       ]
      }
     ],
     "prompt_number": 14
    },
    {
     "cell_type": "code",
     "collapsed": false,
     "input": [
      "ecs=[]\n",
      "rcs=[] #(rc:(source,a), rc: (target,b))  \n",
      "connect=[]\n",
      "for x,y in projs:\n",
      "    ecs.append((cong[x][y]['EC_Source'], cong[x][y]['EC_Target']))\n",
      "    rcs.append((mapg[x][prefix_source]['RC'], mapg[y][prefix_target]['RC']))\n",
      "    connect.append(cong[x][y]['Connection'])\n"
     ],
     "language": "python",
     "metadata": {},
     "outputs": [],
     "prompt_number": 15
    },
    {
     "cell_type": "markdown",
     "metadata": {},
     "source": [
      "Below are the data that populate the table in top of Figure 9"
     ]
    },
    {
     "cell_type": "code",
     "collapsed": false,
     "input": [
      "print \"the *connections* for mORT are:\", connect"
     ],
     "language": "python",
     "metadata": {},
     "outputs": [
      {
       "output_type": "stream",
       "stream": "stdout",
       "text": [
        "the *connections* for mORT are: ['Present', 'Unknown', 'Unknown', 'Unknown']\n"
       ]
      }
     ],
     "prompt_number": 16
    },
    {
     "cell_type": "code",
     "collapsed": false,
     "input": [
      "print \"the *ECs* for ORT are:\", ecs"
     ],
     "language": "python",
     "metadata": {},
     "outputs": [
      {
       "output_type": "stream",
       "stream": "stdout",
       "text": [
        "the *ECs* for ORT are: [('P', 'X'), ('N', 'X'), ('N', 'X'), ('N', 'X')]\n"
       ]
      }
     ],
     "prompt_number": 17
    },
    {
     "cell_type": "code",
     "collapsed": false,
     "input": [
      "print \"the *RCs* for ORT are:\", rcs"
     ],
     "language": "python",
     "metadata": {},
     "outputs": [
      {
       "output_type": "stream",
       "stream": "stdout",
       "text": [
        "the *RCs* for ORT are: [('I', 'O'), ('I', 'S'), ('I', 'S'), ('I', 'S')]\n"
       ]
      }
     ],
     "prompt_number": 18
    },
    {
     "cell_type": "markdown",
     "metadata": {},
     "source": [
      "Since *present* connections will contribute to the divergence, the first ec pairing ('P', 'X') is the connection we should explore "
     ]
    },
    {
     "cell_type": "code",
     "collapsed": false,
     "input": [
      "print \"Just thinking about the first combination of ecs are rcs, what would we conclude?\"\n",
      "print \"Our ecs:\", ecs[0]\n",
      "print \"Our rcs:\", rcs[0]\n",
      "print \"the input and output sources are identical, but the targets are only overlapping!\"\n",
      "print \"The 'X' EC indicates that stain is somewhere in the input target, but we dont know where\"\n",
      "print \"Given that the input and output targets are only overlapping, we can not know whether stain in the input target would also be present in the output\"\n",
      "print \"Therefore this connection should be assigned 'Unknown'!\""
     ],
     "language": "python",
     "metadata": {},
     "outputs": [
      {
       "output_type": "stream",
       "stream": "stdout",
       "text": [
        "Just thinking about the first combination of ecs are rcs, what would we conclude?\n",
        "Our ecs: ('P', 'X')\n",
        "Our rcs: ('I', 'O')\n",
        "the input and output sources are identical, but the targets are only overlapping!\n",
        "The 'X' EC indicates that stain is somewhere in the input target, but we dont know where\n",
        "Given that the input and output targets are only overlapping, we can not know whether stain in the input target would also be present in the output\n",
        "Therefore this connection should be assigned 'Unknown'!\n"
       ]
      }
     ],
     "prompt_number": 21
    },
    {
     "cell_type": "markdown",
     "metadata": {},
     "source": [
      "#Now backsolve ORT"
     ]
    },
    {
     "cell_type": "markdown",
     "metadata": {},
     "source": [
      "Now that we have a list of input edges, lets translate each one, one at time with ORT and mORT"
     ]
    },
    {
     "cell_type": "markdown",
     "metadata": {},
     "source": [
      "##1) Specify input edge"
     ]
    },
    {
     "cell_type": "markdown",
     "metadata": {},
     "source": [
      "ORT always starts with an input edge, lets select the input edge that we know will lead ORT to mistranslate "
     ]
    },
    {
     "cell_type": "markdown",
     "metadata": {},
     "source": [
      "Now we will go through the steps of ORT and mORT to translate this input edge into the output space"
     ]
    },
    {
     "cell_type": "code",
     "collapsed": false,
     "input": [
      "input_source, input_target=projs[0]\n",
      "input_source, input_target"
     ],
     "language": "python",
     "metadata": {},
     "outputs": [
      {
       "output_type": "pyout",
       "prompt_number": 19,
       "text": [
        "('B88-V2', 'B88-32')"
       ]
      }
     ],
     "prompt_number": 19
    },
    {
     "cell_type": "markdown",
     "metadata": {},
     "source": [
      "##2) Areas in output map with RCs to input edge's source"
     ]
    },
    {
     "cell_type": "markdown",
     "metadata": {},
     "source": [
      "now lets find the regions in output space that are co-extensive with the regions in the input space"
     ]
    },
    {
     "cell_type": "code",
     "collapsed": false,
     "input": [
      "output_sources=[e for e in mapg.edges() if (e[0] ==input_source) and (e[1].split('-')[0] == coconame)]\n",
      "output_sources"
     ],
     "language": "python",
     "metadata": {},
     "outputs": [
      {
       "output_type": "pyout",
       "prompt_number": 20,
       "text": [
        "[('B88-V2', 'BB47-OB')]"
       ]
      }
     ],
     "prompt_number": 20
    },
    {
     "cell_type": "markdown",
     "metadata": {},
     "source": [
      "we find that BB47-OB is the only region in output space that is co-extensive with our input source: B88-V2"
     ]
    },
    {
     "cell_type": "markdown",
     "metadata": {},
     "source": [
      "this matches what we see in Figure 9 (inset A, \"Source\")"
     ]
    },
    {
     "cell_type": "markdown",
     "metadata": {},
     "source": [
      "##3) Areas in output map with RC to input edge's target"
     ]
    },
    {
     "cell_type": "code",
     "collapsed": false,
     "input": [
      "output_targets=[e for e in mapg.edges() if (e[0] ==input_target) and (e[1].split('-')[0] == coconame)]\n",
      "output_targets"
     ],
     "language": "python",
     "metadata": {},
     "outputs": [
      {
       "output_type": "pyout",
       "prompt_number": 21,
       "text": [
        "[('B88-32', 'BB47-FD'), ('B88-32', 'BB47-FC')]"
       ]
      }
     ],
     "prompt_number": 21
    },
    {
     "cell_type": "markdown",
     "metadata": {},
     "source": [
      "we find that there are two regions in BB47 that are co-extensive with our input target: B88-32"
     ]
    },
    {
     "cell_type": "markdown",
     "metadata": {},
     "source": [
      "we will concern ourselves with just BB47-FD, because we know that a translation to this region is what differs between ORT and mORT"
     ]
    },
    {
     "cell_type": "code",
     "collapsed": false,
     "input": [
      "output_targets[0][1]"
     ],
     "language": "python",
     "metadata": {},
     "outputs": [
      {
       "output_type": "pyout",
       "prompt_number": 22,
       "text": [
        "'BB47-FD'"
       ]
      }
     ],
     "prompt_number": 22
    },
    {
     "cell_type": "markdown",
     "metadata": {},
     "source": [
      "##4) Areas in input map with RC's to output edge's source"
     ]
    },
    {
     "cell_type": "markdown",
     "metadata": {},
     "source": [
      "We just found the areas in the output map that overlap with the input areas. Now we need to do the opposite; to fully map the relationship between input and output space, we need to find areas in the input map that are co-extensive with the output map"
     ]
    },
    {
     "cell_type": "code",
     "collapsed": false,
     "input": [
      "input_sources=[]\n",
      "input_rcs=[]\n",
      "for ival in range(len(output_sources)):\n",
      "    input_sources.append([e for e in mapg.edges() if (e[1] ==output_sources[ival][1]) and (e[0].split('-')[0]==output_sources[ival][0].split('-')[0])])"
     ],
     "language": "python",
     "metadata": {},
     "outputs": [],
     "prompt_number": 23
    },
    {
     "cell_type": "code",
     "collapsed": false,
     "input": [
      "#make this a more elegant for loop later and combine with above\n",
      "input_source_rcs=[]\n",
      "for ival in range(len(input_sources[0])):\n",
      "    input_source_rcs.append(mapg[input_sources[0][ival][0]][input_sources[0][ival][1]]['RC'])"
     ],
     "language": "python",
     "metadata": {},
     "outputs": [],
     "prompt_number": 24
    },
    {
     "cell_type": "code",
     "collapsed": false,
     "input": [
      "input_sources"
     ],
     "language": "python",
     "metadata": {},
     "outputs": [
      {
       "output_type": "pyout",
       "prompt_number": 25,
       "text": [
        "[[('B88-V2', 'BB47-OB')]]"
       ]
      }
     ],
     "prompt_number": 25
    },
    {
     "cell_type": "code",
     "collapsed": false,
     "input": [
      "input_source_rcs"
     ],
     "language": "python",
     "metadata": {},
     "outputs": [
      {
       "output_type": "pyout",
       "prompt_number": 26,
       "text": [
        "['I']"
       ]
      }
     ],
     "prompt_number": 26
    },
    {
     "cell_type": "markdown",
     "metadata": {},
     "source": [
      "This is an easy case because our input and output source area are identical (perfectly co-extensive)"
     ]
    },
    {
     "cell_type": "markdown",
     "metadata": {},
     "source": [
      "##5) Areas in input map with RC's to output edge's target"
     ]
    },
    {
     "cell_type": "markdown",
     "metadata": {},
     "source": [
      "Now lets do the same for the target space: find the regions in the input space that are overlapping with the output target"
     ]
    },
    {
     "cell_type": "code",
     "collapsed": false,
     "input": [
      "input_targets=[]\n",
      "for ival in range(len(output_targets)):\n",
      "    input_targets.append([e for e in mapg.edges() if (e[1] ==output_targets[ival][1]) and (e[0].split('-')[0]==output_targets[ival][0].split('-')[0])])"
     ],
     "language": "python",
     "metadata": {},
     "outputs": [],
     "prompt_number": 27
    },
    {
     "cell_type": "code",
     "collapsed": false,
     "input": [
      "input_target_rcs=[]\n",
      "for jval in range(len(input_targets)):\n",
      "    for ival in range(len(input_targets[jval])):\n",
      "        input_target_rcs.append(mapg[input_targets[jval][ival][0]][input_targets[jval][ival][1]]['RC'])"
     ],
     "language": "python",
     "metadata": {},
     "outputs": [],
     "prompt_number": 28
    },
    {
     "cell_type": "code",
     "collapsed": false,
     "input": [
      "input_targets"
     ],
     "language": "python",
     "metadata": {},
     "outputs": [
      {
       "output_type": "pyout",
       "prompt_number": 29,
       "text": [
        "[[('B88-32', 'BB47-FD'),\n",
        "  ('B88-12L', 'BB47-FD'),\n",
        "  ('B88-12O', 'BB47-FD'),\n",
        "  ('B88-8D', 'BB47-FD'),\n",
        "  ('B88-8B', 'BB47-FD'),\n",
        "  ('B88-9', 'BB47-FD'),\n",
        "  ('B88-10', 'BB47-FD'),\n",
        "  ('B88-11', 'BB47-FD')],\n",
        " [('B88-32', 'BB47-FC')]]"
       ]
      }
     ],
     "prompt_number": 29
    },
    {
     "cell_type": "code",
     "collapsed": false,
     "input": [
      "input_target_rcs"
     ],
     "language": "python",
     "metadata": {},
     "outputs": [
      {
       "output_type": "pyout",
       "prompt_number": 30,
       "text": [
        "['O', 'S', 'S', 'S', 'S', 'S', 'S', 'S', 'O']"
       ]
      }
     ],
     "prompt_number": 30
    },
    {
     "cell_type": "markdown",
     "metadata": {},
     "source": [
      "So to review, we have now gathered all of rcs between all relevant output and input regions"
     ]
    },
    {
     "cell_type": "code",
     "collapsed": false,
     "input": [
      "print \"the input source rcs are:\", input_source_rcs\n",
      "print \"the input target rcs are:\", input_target_rcs"
     ],
     "language": "python",
     "metadata": {},
     "outputs": [
      {
       "output_type": "stream",
       "stream": "stdout",
       "text": [
        "the input source rcs are: ['I']\n",
        "the input target rcs are: ['O', 'S', 'S', 'S', 'S', 'S', 'S', 'S', 'O']\n"
       ]
      }
     ],
     "prompt_number": 47
    },
    {
     "cell_type": "markdown",
     "metadata": {},
     "source": [
      "##6) Gather and reduce source and target ECs of input areas"
     ]
    },
    {
     "cell_type": "markdown",
     "metadata": {},
     "source": [
      "lets focus on only ECs that come from regions with RCs to either BB47-OB or BB47-FD"
     ]
    },
    {
     "cell_type": "code",
     "collapsed": false,
     "input": [
      "range(len(input_targets))"
     ],
     "language": "python",
     "metadata": {},
     "outputs": [
      {
       "output_type": "pyout",
       "prompt_number": 142,
       "text": [
        "[0, 1]"
       ]
      }
     ],
     "prompt_number": 142
    },
    {
     "cell_type": "code",
     "collapsed": false,
     "input": [
      "rel_input_targets=[]\n",
      "rel_input_sources=[]\n",
      "for ival in range(len(input_targets)):\n",
      "    for jval in range(len(input_targets[ival])):\n",
      "        if input_targets[ival][jval][1]=='BB47-FD':\n",
      "            rel_input_targets.append(input_targets[ival][jval][0])\n",
      "            \n",
      "for kval in range(len(input_sources)):\n",
      "    for lval in range(len(input_sources[kval])):\n",
      "        if input_sources[kval][lval][1]=='BB47-OB':\n",
      "            rel_input_sources.append(input_sources[kval][lval][0])\n",
      "        \n",
      "\n",
      "        "
     ],
     "language": "python",
     "metadata": {},
     "outputs": [],
     "prompt_number": 152
    },
    {
     "cell_type": "code",
     "collapsed": false,
     "input": [
      "print \"the relevant sources are:\", rel_input_sources\n",
      "print \"the relevant targets are:\", rel_input_targets"
     ],
     "language": "python",
     "metadata": {},
     "outputs": [
      {
       "output_type": "stream",
       "stream": "stdout",
       "text": [
        "the relevant sources are: ['B88-V2']\n",
        "the relevant targets are: ['B88-32', 'B88-12L', 'B88-12O', 'B88-8D', 'B88-8B', 'B88-9', 'B88-10', 'B88-11']\n"
       ]
      }
     ],
     "prompt_number": 154
    },
    {
     "cell_type": "markdown",
     "metadata": {},
     "source": [
      "For every input source and target region, we can only submit one EC"
     ]
    },
    {
     "cell_type": "markdown",
     "metadata": {},
     "source": [
      "The above results tell us that *'B88-V2'* has edge with all the 8 targets, therefore we have to select the most extensive EC in *'B88-V2'* before proceeding, all the input targets onlu have 1 EC, so they don't need reduction"
     ]
    },
    {
     "cell_type": "code",
     "collapsed": false,
     "input": [
      "#Now lets gather all the ecs and the connections\n",
      "input_source_ec=[]\n",
      "input_target_ec=[]\n",
      "input_connection=[]\n",
      "\n",
      "for s in rel_input_sources:\n",
      "    for t in rel_input_targets:\n",
      "        try:\n",
      "            cong[s][t]\n",
      "        except KeyError:\n",
      "            input_source_ec.append('U')\n",
      "            input_target_ec.append('U')\n",
      "            input_connection.append('Unknown')\n",
      "        else:\n",
      "            input_source_ec.append(cong[s][t]['EC_Source'])\n",
      "            input_target_ec.append(cong[s][t]['EC_Target'])\n",
      "            input_connection.append(cong[s][t]['Connection'])\n",
      "            \n",
      " \n",
      "#print \"input source ec's:\", input_source_ec \n",
      "#print \"input target ec's:\", input_target_ec\n",
      "#print \"input connections:\", input_connection"
     ],
     "language": "python",
     "metadata": {},
     "outputs": [
      {
       "output_type": "stream",
       "stream": "stdout",
       "text": [
        "input source ec's: ['P', 'N', 'N', 'U', 'U', 'U', 'U', 'N']\n",
        "input target ec's: ['X', 'X', 'X', 'U', 'U', 'U', 'U', 'X']\n",
        "input connections: ['Present', 'Unknown', 'Unknown', 'Unknown', 'Unknown', 'Unknown', 'Unknown', 'Unknown']\n"
       ]
      }
     ],
     "prompt_number": 162
    },
    {
     "cell_type": "code",
     "collapsed": false,
     "input": [
      "print \"input source ec's:\", input_source_ec \n",
      "print \"what is the most extensive?\"\n",
      "print \"'P' is the most extensive\""
     ],
     "language": "python",
     "metadata": {},
     "outputs": [
      {
       "output_type": "stream",
       "stream": "stdout",
       "text": [
        "input source ec's: ['P', 'N', 'N', 'U', 'U', 'U', 'U', 'N']\n",
        "what is the most extensive?\n",
        "'P' is the most extensive\n"
       ]
      }
     ],
     "prompt_number": 177
    },
    {
     "cell_type": "markdown",
     "metadata": {},
     "source": [
      "We can see that P is the most extensive and we could select this by hand, but we could also use the private method _take_most_extensive_ec of endgraph to do this also:"
     ]
    },
    {
     "cell_type": "code",
     "collapsed": false,
     "input": [
      "empty_end=coco.EndGraph()\n",
      "orig_s_ecs = {'B88-V2': 'P'}\n",
      "orig_t_ecs= {'B88-32':'X', 'B88-12L':'X', 'B88-8D':'X', 'B88-8B':'U', 'B88-9':'U', 'B88-10':'U', 'B88-11':'X'}\n",
      "original_sources= (['B88-V2'])\n",
      "original_targets=['B88-32', 'B88-12L', 'B88-8D', 'B88-8B', 'B88-9', 'B88-10', 'B88-11']\n",
      "s,t,=empty_end._take_most_extensive_ec(orig_s_ecs, original_sources, orig_t_ecs, original_targets) #demonstration of _take_most_extensive_ec\n",
      "\n",
      "print \"what is the most extensive?\"\n",
      "print s[0], \"is the most extensive\""
     ],
     "language": "python",
     "metadata": {},
     "outputs": [
      {
       "output_type": "stream",
       "stream": "stdout",
       "text": [
        "what is the most extensive?\n",
        "P is the most extensive\n"
       ]
      }
     ],
     "prompt_number": 181
    },
    {
     "cell_type": "code",
     "collapsed": false,
     "input": [
      "#by hand:\n",
      "input_source_ec=['P']\n",
      "input_target_ec= ['X', 'X', 'X', 'U', 'U', 'U', 'U', 'X']"
     ],
     "language": "python",
     "metadata": {},
     "outputs": [],
     "prompt_number": 36
    },
    {
     "cell_type": "code",
     "collapsed": false,
     "input": [
      "#using _take_most_extensive_ec:\n",
      "input_source_ec =s\n",
      "input_target_ec =t\n",
      "s,t"
     ],
     "language": "python",
     "metadata": {},
     "outputs": [
      {
       "output_type": "pyout",
       "prompt_number": 185,
       "text": [
        "(['P'], ['X', 'X', 'X', 'U', 'U', 'U', 'X'])"
       ]
      }
     ],
     "prompt_number": 185
    },
    {
     "cell_type": "markdown",
     "metadata": {},
     "source": [
      "\n",
      "##7) Apply at_logic"
     ]
    },
    {
     "cell_type": "markdown",
     "metadata": {},
     "source": [
      "Now we have 1 ec per source and target and all the relavant rcs, we can now just go through the spatial reasoning logic of ORT"
     ]
    },
    {
     "cell_type": "markdown",
     "metadata": {},
     "source": [
      "\n",
      "###source side first"
     ]
    },
    {
     "cell_type": "code",
     "collapsed": false,
     "input": [
      "input_source_rcs, input_source_ec"
     ],
     "language": "python",
     "metadata": {},
     "outputs": [
      {
       "output_type": "pyout",
       "prompt_number": 38,
       "text": [
        "(['I'], ['P'])"
       ]
      }
     ],
     "prompt_number": 38
    },
    {
     "cell_type": "code",
     "collapsed": false,
     "input": [
      "ort_test=coco.EndGraph()\n",
      "rcs= input_source_rcs\n",
      "ecs= input_source_ec\n",
      "final_s_ec=ort_test._at_logic(ecs, rcs) #_at_logic is the private method that has the spatial logic for ORT\n",
      "final_s_ec"
     ],
     "language": "python",
     "metadata": {},
     "outputs": [
      {
       "output_type": "pyout",
       "prompt_number": 189,
       "text": [
        "'P'"
       ]
      }
     ],
     "prompt_number": 189
    },
    {
     "cell_type": "markdown",
     "metadata": {},
     "source": [
      "\n",
      "###now target side"
     ]
    },
    {
     "cell_type": "code",
     "collapsed": false,
     "input": [
      "input_target_rcs, input_target_ec"
     ],
     "language": "python",
     "metadata": {},
     "outputs": [
      {
       "output_type": "pyout",
       "prompt_number": 172,
       "text": [
        "(['O', 'S', 'S', 'S', 'S', 'S', 'S', 'S', 'O'],\n",
        " ['X', 'X', 'X', 'U', 'U', 'U', 'U', 'X'])"
       ]
      }
     ],
     "prompt_number": 172
    },
    {
     "cell_type": "code",
     "collapsed": false,
     "input": [
      "ort_test=coco.EndGraph()\n",
      "rcs= input_target_rcs[:8]\n",
      "ecs= input_target_ec\n",
      "final_t_ec=ort_test._at_logic(ecs, rcs)\n",
      "final_t_ec"
     ],
     "language": "python",
     "metadata": {},
     "outputs": [
      {
       "output_type": "pyout",
       "prompt_number": 186,
       "text": [
        "'X'"
       ]
      }
     ],
     "prompt_number": 186
    },
    {
     "cell_type": "markdown",
     "metadata": {},
     "source": [
      "#RESULT"
     ]
    },
    {
     "cell_type": "code",
     "collapsed": false,
     "input": [
      "print \"ORT determined that the connection from BB47-OB to BB47-FD is:\", final_s_ec,\",\", final_t_ec\n",
      "print \"mORT determined that the connection from BB47-OB to BB47-FD is:\", endg_mort[source][target]['Connection']"
     ],
     "language": "python",
     "metadata": {},
     "outputs": [
      {
       "output_type": "stream",
       "stream": "stdout",
       "text": [
        "ORT determined that the connection from BB47-OB to BB47-FD is: P , X\n",
        "mORT determined that the connection from BB47-OB to BB47-FD is: Unknown\n"
       ]
      }
     ],
     "prompt_number": 194
    },
    {
     "cell_type": "markdown",
     "metadata": {},
     "source": [
      "Summarizing: Working by hand, we found that ORT produces EC[P,X] for BB47-OB to BB47-FD. This is a mistranslation because logically, no one edge in all of our inputs contained sufficient information to lead to a present connection"
     ]
    },
    {
     "cell_type": "code",
     "collapsed": false,
     "input": [
      "s,t"
     ],
     "language": "python",
     "metadata": {},
     "outputs": [
      {
       "output_type": "pyout",
       "prompt_number": 176,
       "text": [
        "(['P'], ['X', 'X', 'X', 'U', 'U', 'U', 'X'])"
       ]
      }
     ],
     "prompt_number": 176
    }
   ],
   "metadata": {}
  }
 ]
}