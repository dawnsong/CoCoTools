{
 "metadata": {
  "name": "CoCoTools_tutorial_small_dataset"
 },
 "nbformat": 3,
 "nbformat_minor": 0,
 "worksheets": [
  {
   "cells": [
    {
     "cell_type": "markdown",
     "metadata": {},
     "source": [
      "#CoCoTools demonstration using a small set of data"
     ]
    },
    {
     "cell_type": "code",
     "collapsed": false,
     "input": [
      "pwd"
     ],
     "language": "python",
     "metadata": {},
     "outputs": [
      {
       "output_type": "pyout",
       "prompt_number": 1,
       "text": [
        "u'C:\\\\Users\\\\Robert\\\\cocomac\\\\cocomac-tools'"
       ]
      }
     ],
     "prompt_number": 1
    },
    {
     "cell_type": "code",
     "collapsed": false,
     "input": [
      "import cocotools as coco"
     ],
     "language": "python",
     "metadata": {},
     "outputs": [],
     "prompt_number": 2
    },
    {
     "cell_type": "markdown",
     "metadata": {},
     "source": [
      "In this example, we will use a small list of studies"
     ]
    },
    {
     "cell_type": "code",
     "collapsed": false,
     "input": [
      "small_query_list=['PP94', 'YP85', 'PP99', 'PP02', 'VV19', 'PHT00']"
     ],
     "language": "python",
     "metadata": {},
     "outputs": [],
     "prompt_number": 3
    },
    {
     "cell_type": "markdown",
     "metadata": {},
     "source": [
      "##Query demonstration:"
     ]
    },
    {
     "cell_type": "markdown",
     "metadata": {},
     "source": [
      "The multi_map_ebunch function is designed to query the CoCoMac server for data from several parcellation schemes.  The first argument to the function is a string specifying whether mapping or connectivity information is desired.  The second argument, which is optional, specifies which brain maps should be queried; if no argument is given, data is sought for all brain maps in CoCoMac.  CoCoTools includes several constants that are useful second arguments to multi_map_ebunch: MAPPING_SOURCES is a list of those maps for which Mapping data have been entered into CoCoMac, CONNECTIVITY_SOURCES is the corresponding list for maps with Connectivity data. However some of these studies are inaccessible currently, and thus for the MAPPING_NON_TIMEOUTS and CONNECTIVITY_NON_TIMEOUTS provide the mapping and connectivity studies respectively that do not produce server timeouts. For the present demonstration though we will use a small dataset to eas computation time.\n"
     ]
    },
    {
     "cell_type": "markdown",
     "metadata": {},
     "source": [
      "multi_map_ebunch returns two lists: The first contains edges suitable for a NetworkX DiGraph, and the second holds the maps for which no data were returned from the CoCoMac server.  Brain maps whose queries are known to cause CoCoMac server timeouts are listed in the CoCoTools constants MAPPING_TIMEOUTS and CONNECTIVITY_TIMEOUTS.\n",
      "\n",
      "Whenever a query of the CoCoMac server is made using CoCoTools, the server's response (provided in XML format) is stored in a local SQLite database (cocotools.sqlite), located in the .cache directory within the user's home directory.  This ensures rapid retrieval of results for repeated queries at a small memory cost (80 MB maximum)."
     ]
    },
    {
     "cell_type": "markdown",
     "metadata": {},
     "source": [
      "###Mapping Query:"
     ]
    },
    {
     "cell_type": "code",
     "collapsed": false,
     "input": [
      "small_map_bunch, small_map_failures =coco.multi_map_ebunch('Mapping', small_query_list)"
     ],
     "language": "python",
     "metadata": {},
     "outputs": [],
     "prompt_number": 4
    },
    {
     "cell_type": "markdown",
     "metadata": {},
     "source": [
      "In the case of a Mapping query, each edge that multi_map_ebunch returns is a tuple that represents a directed spatial relationship between two brain areas.  In the tuple, the source area is listed first, and both areas are specified in full CoCoMac format.  A dictionary of edge attributes is the third entry in the tuple, with a PDC and an RC.  Numeric rather than alphabetic codes are used for PDCs in CoCoTools: Starting at zero, the numeric code refers to the index in the hierarchy recommended by Kotter & Wanke (2005) of the original alphabetic PDC.  An additional numeric code, 18, is included for CoCoMac data entries without a PDC.  In CoCoTools, lesser PDCs are valued more highly than greater ones.  The alphabetic hierarchy of Kotter & Wanke (2005) is available in CoCoTools as the constant PDC_HIER."
     ]
    },
    {
     "cell_type": "markdown",
     "metadata": {},
     "source": [
      "###Connectivity Query:"
     ]
    },
    {
     "cell_type": "code",
     "collapsed": false,
     "input": [
      "small_con_bunch, small_con_failures= coco.multi_map_ebunch('Connectivity', small_query_list)"
     ],
     "language": "python",
     "metadata": {},
     "outputs": [],
     "prompt_number": 5
    },
    {
     "cell_type": "markdown",
     "metadata": {},
     "source": [
      "For Connectivity queries, the edges returned represent directed anatomical connections.  As for Mapping queries, each edge has a source area, a target area, and a dictionary of attributes.  The attributes specify whether the connection is present or known to be absent, its degree (or density), the ECs for the source and target, and PDCs for each brain area (or site), the ECs, and the density.**"
     ]
    },
    {
     "cell_type": "markdown",
     "metadata": {},
     "source": [
      "###Place Query Outputs into MapGraph and ConGraphs objects:"
     ]
    },
    {
     "cell_type": "code",
     "collapsed": false,
     "input": [
      "small_mapg=coco.MapGraph()\n",
      "small_mapg.add_edges_from(small_map_bunch)"
     ],
     "language": "python",
     "metadata": {},
     "outputs": [],
     "prompt_number": 6
    },
    {
     "cell_type": "code",
     "collapsed": false,
     "input": [
      "small_cong=coco.ConGraph()\n",
      "small_cong.add_edges_from(small_con_bunch)"
     ],
     "language": "python",
     "metadata": {},
     "outputs": [],
     "prompt_number": 7
    },
    {
     "cell_type": "markdown",
     "metadata": {},
     "source": [
      "Query outputs can be placed into MapGraph and ConGraph objects. This allows the user to operate on this data with networksX's suite of graph theory methods.\n",
      "For instance:"
     ]
    },
    {
     "cell_type": "code",
     "collapsed": false,
     "input": [
      "small_mapg.size()"
     ],
     "language": "python",
     "metadata": {},
     "outputs": [
      {
       "output_type": "pyout",
       "prompt_number": 8,
       "text": [
        "1042"
       ]
      }
     ],
     "prompt_number": 8
    },
    {
     "cell_type": "code",
     "collapsed": false,
     "input": [
      "small_mapg.edges('PP94-46')"
     ],
     "language": "python",
     "metadata": {},
     "outputs": [
      {
       "output_type": "pyout",
       "prompt_number": 9,
       "text": [
        "[('PP94-46', 'PHT00-46'),\n",
        " ('PP94-46', 'B09-9'),\n",
        " ('PP94-46', 'CP99-46'),\n",
        " ('PP94-46', 'W40-46'),\n",
        " ('PP94-46', 'B09-10'),\n",
        " ('PP94-46', 'PP99-46')]"
       ]
      }
     ],
     "prompt_number": 9
    },
    {
     "cell_type": "code",
     "collapsed": false,
     "input": [
      "small_mapg.edge['PP94-46']['B09-9']"
     ],
     "language": "python",
     "metadata": {},
     "outputs": [
      {
       "output_type": "pyout",
       "prompt_number": 10,
       "text": [
        "{'PDC': 2, 'RC': 'O', 'TP': []}"
       ]
      }
     ],
     "prompt_number": 10
    },
    {
     "cell_type": "code",
     "collapsed": false,
     "input": [
      "small_cong.size()"
     ],
     "language": "python",
     "metadata": {},
     "outputs": [
      {
       "output_type": "pyout",
       "prompt_number": 11,
       "text": [
        "629"
       ]
      }
     ],
     "prompt_number": 11
    },
    {
     "cell_type": "code",
     "collapsed": false,
     "input": [
      "small_cong.edges('PP94-46')"
     ],
     "language": "python",
     "metadata": {},
     "outputs": [
      {
       "output_type": "pyout",
       "prompt_number": 12,
       "text": [
        "[('PP94-46', 'MCSGP04-M4'),\n",
        " ('PP94-46', 'PP94-9/46V'),\n",
        " ('PP94-46', 'MCSGP04-31'),\n",
        " ('PP94-46', 'MCSGP04-SSA'),\n",
        " ('PP94-46', 'MCSGP04-TSA'),\n",
        " ('PP94-46', 'VPR87-23'),\n",
        " ('PP94-46', 'MCSGP04-23'),\n",
        " ('PP94-46', 'PP94-47/12'),\n",
        " ('PP94-46', 'MCSGP04-23C')]"
       ]
      }
     ],
     "prompt_number": 12
    },
    {
     "cell_type": "code",
     "collapsed": false,
     "input": [
      "small_cong.edge['PP94-46']['PP94-47/12']"
     ],
     "language": "python",
     "metadata": {},
     "outputs": [
      {
       "output_type": "pyout",
       "prompt_number": 13,
       "text": [
        "{'Connection': 'Present',\n",
        " 'Degree': 'X',\n",
        " 'EC_Source': 'P',\n",
        " 'EC_Target': 'X',\n",
        " 'PDC_Density': 18,\n",
        " 'PDC_EC_Source': 6,\n",
        " 'PDC_EC_Target': 18,\n",
        " 'PDC_Site_Source': 12,\n",
        " 'PDC_Site_Target': 0}"
       ]
      }
     ],
     "prompt_number": 13
    },
    {
     "cell_type": "code",
     "collapsed": false,
     "input": [
      "small_cong.edges('PP94-9/46D')"
     ],
     "language": "python",
     "metadata": {},
     "outputs": [
      {
       "output_type": "pyout",
       "prompt_number": 14,
       "text": [
        "[('PP94-9/46D', 'MPP99A-30PV'),\n",
        " ('PP94-9/46D', 'MPP99A-24'),\n",
        " ('PP94-9/46D', 'MPP99A-25'),\n",
        " ('PP94-9/46D', 'VPR87-29D'),\n",
        " ('PP94-9/46D', 'MPP99A-30D'),\n",
        " ('PP94-9/46D', 'MPP99A-CINGB'),\n",
        " ('PP94-9/46D', 'PP94-9'),\n",
        " ('PP94-9/46D', 'PP94-32'),\n",
        " ('PP94-9/46D', 'MPP99A-29A-C'),\n",
        " ('PP94-9/46D', 'PP94-10'),\n",
        " ('PP94-9/46D', 'PP94-9/46V'),\n",
        " ('PP94-9/46D', 'VPR87-23'),\n",
        " ('PP94-9/46D', 'RV77-PRES'),\n",
        " ('PP94-9/46D', 'PP94-47/12'),\n",
        " ('PP94-9/46D', 'VPR87-31'),\n",
        " ('PP94-9/46D', 'PP94-8B')]"
       ]
      }
     ],
     "prompt_number": 14
    },
    {
     "cell_type": "markdown",
     "metadata": {},
     "source": [
      "##Pre-Processing:"
     ]
    },
    {
     "cell_type": "markdown",
     "metadata": {},
     "source": [
      "Before coordinate-free registration can be performed, several pre-processing steps should be performed for maximum accuracy and to ensure registrations do not crash because of intra-map contradictions"
     ]
    },
    {
     "cell_type": "markdown",
     "metadata": {},
     "source": [
      "While developing CoCoTools we discovered numerous omissions and errors in the Mapping section of the CoCoMac database.  Calling the clean_data method of MapGraph rectifies these."
     ]
    },
    {
     "cell_type": "code",
     "collapsed": false,
     "input": [
      "small_mapg.clean_data()"
     ],
     "language": "python",
     "metadata": {},
     "outputs": [],
     "prompt_number": 15
    },
    {
     "cell_type": "markdown",
     "metadata": {},
     "source": [
      "Next, remove spatial hierarchies and non-disjoint nodes from mapgraph based on the resolution of your planned target space"
     ]
    },
    {
     "cell_type": "markdown",
     "metadata": {},
     "source": [
      "By default the keep_only_one_level_of_resolution method keeps the level with the most anatomical connections"
     ]
    },
    {
     "cell_type": "code",
     "collapsed": false,
     "input": [
      "small_mapg.keep_only_one_level_of_resolution(small_cong, 'PHT00')"
     ],
     "language": "python",
     "metadata": {},
     "outputs": [
      {
       "output_type": "pyout",
       "prompt_number": 16,
       "text": [
        "<cocotools.congraph.ConGraph at 0x6e16170>"
       ]
      }
     ],
     "prompt_number": 16
    },
    {
     "cell_type": "markdown",
     "metadata": {},
     "source": [
      "With no overlap among areas from the same map, the method for deducing new spatial relationships can be performed. The deduce_edges function uses a hybrid approach that is similar to the method described by Stephan et al. (2000) however, rather than using the finite automaton of Stephan et al. (2000) for resolving chains of relations to a single RC, CoCoTools uses Table 2 of Kotter & Wanke (2005)."
     ]
    },
    {
     "cell_type": "markdown",
     "metadata": {},
     "source": [
      "Please note that with large MapGraph datasets (e.g. if you queried coco.MAPPING_NON_TIMEOUTS ), this step can take several hours to complete."
     ]
    },
    {
     "cell_type": "code",
     "collapsed": false,
     "input": [
      "small_mapg.deduce_edges()"
     ],
     "language": "python",
     "metadata": {},
     "outputs": [],
     "prompt_number": 17
    },
    {
     "cell_type": "markdown",
     "metadata": {},
     "source": [
      "##Coordinate-free registration demonstration:"
     ]
    },
    {
     "cell_type": "code",
     "collapsed": false,
     "input": [
      "small_endg = coco.EndGraph()"
     ],
     "language": "python",
     "metadata": {},
     "outputs": [],
     "prompt_number": 18
    },
    {
     "cell_type": "code",
     "collapsed": false,
     "input": [
      "small_endg.add_translated_edges(small_mapg, small_cong, 'PHT00', 'original')"
     ],
     "language": "python",
     "metadata": {},
     "outputs": [],
     "prompt_number": 19
    },
    {
     "cell_type": "code",
     "collapsed": false,
     "input": [
      "small_endg.size()"
     ],
     "language": "python",
     "metadata": {},
     "outputs": [
      {
       "output_type": "pyout",
       "prompt_number": 20,
       "text": [
        "438"
       ]
      }
     ],
     "prompt_number": 20
    },
    {
     "cell_type": "markdown",
     "metadata": {},
     "source": [
      "####Strip_absent_and_unknown_edges()"
     ]
    },
    {
     "cell_type": "markdown",
     "metadata": {},
     "source": [
      "The process of ORT can lead to translated edges with U(nkown) or N(ot Present) values the strip_absent_and_unknown_edges removes these edges"
     ]
    },
    {
     "cell_type": "code",
     "collapsed": false,
     "input": [
      "small_endg=coco.strip_absent_and_unknown_edges(small_endg)"
     ],
     "language": "python",
     "metadata": {},
     "outputs": [],
     "prompt_number": 21
    },
    {
     "cell_type": "code",
     "collapsed": false,
     "input": [
      "small_endg.predecessors('9/46D')"
     ],
     "language": "python",
     "metadata": {},
     "outputs": [
      {
       "output_type": "pyout",
       "prompt_number": 22,
       "text": [
        "['11',\n",
        " '10',\n",
        " '13',\n",
        " '6DR',\n",
        " '14',\n",
        " 'TPO',\n",
        " '47(12)',\n",
        " '29',\n",
        " '8B',\n",
        " '46',\n",
        " 'PG',\n",
        " 'TH',\n",
        " '45A',\n",
        " '8AD']"
       ]
      }
     ],
     "prompt_number": 22
    },
    {
     "cell_type": "code",
     "collapsed": false,
     "input": [
      "small_mort_endg=coco.EndGraph()"
     ],
     "language": "python",
     "metadata": {},
     "outputs": [],
     "prompt_number": 23
    },
    {
     "cell_type": "code",
     "collapsed": false,
     "input": [
      "small_mort_endg.add_translated_edges(small_mapg, small_cong, 'PHT00', 'modified')"
     ],
     "language": "python",
     "metadata": {},
     "outputs": [],
     "prompt_number": 24
    },
    {
     "cell_type": "code",
     "collapsed": false,
     "input": [
      "small_mort_endg=coco.strip_absent_and_unknown_edges(small_mort_endg)"
     ],
     "language": "python",
     "metadata": {},
     "outputs": [],
     "prompt_number": 25
    },
    {
     "cell_type": "code",
     "collapsed": false,
     "input": [
      "small_mort_endg.size()"
     ],
     "language": "python",
     "metadata": {},
     "outputs": [
      {
       "output_type": "pyout",
       "prompt_number": 26,
       "text": [
        "85"
       ]
      }
     ],
     "prompt_number": 26
    },
    {
     "cell_type": "code",
     "collapsed": false,
     "input": [
      "small_mort_endg.predecessors('9/46D')"
     ],
     "language": "python",
     "metadata": {},
     "outputs": [
      {
       "output_type": "pyout",
       "prompt_number": 27,
       "text": [
        "['11',\n",
        " '10',\n",
        " '13',\n",
        " '6DR',\n",
        " '14',\n",
        " 'TPO',\n",
        " '47(12)',\n",
        " '29',\n",
        " '8B',\n",
        " '46',\n",
        " 'PG',\n",
        " 'TH',\n",
        " '45A',\n",
        " '8AD']"
       ]
      }
     ],
     "prompt_number": 27
    }
   ],
   "metadata": {}
  }
 ]
}